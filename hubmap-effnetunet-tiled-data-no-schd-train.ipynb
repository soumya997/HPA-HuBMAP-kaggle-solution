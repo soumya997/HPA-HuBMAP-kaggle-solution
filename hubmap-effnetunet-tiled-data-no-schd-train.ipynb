{
 "cells": [
  {
   "cell_type": "markdown",
   "id": "127597ab",
   "metadata": {
    "papermill": {
     "duration": 0.010225,
     "end_time": "2022-08-05T09:51:50.313271",
     "exception": false,
     "start_time": "2022-08-05T09:51:50.303046",
     "status": "completed"
    },
    "tags": []
   },
   "source": [
    "\n",
    "\n",
    "<h3 style=\"text-align:center; background-color:#C8FF33;padding:40px;border-radius: 30px;\">\n",
    "<p style=\"text-align: left\">See also this notebook:</p>\n",
    "    <p style=\"text-align: left\"><b><a href=\"https://www.kaggle.com/code/soumya9977/hubmap-multiorgan-segmentation-1-3-data-prep\"> &nbsp; HuBMAP multiOrgan Segmentation 1/3 [data prep]</a></b></p>\n",
    "    <p style=\"text-align: left\"><b>* HuBMAP: Vanilla Unet + W&B + Pytorch 2/3 [train]</b></p>\n",
    "    <p style=\"text-align: left\"><b><a href=\"https://www.kaggle.com/code/soumya9977/hubmap-vanilla-unet-pytorch-3-3-inference\"> &nbsp; HuBMAP: Vanilla Unet Pytorch 3/3 [inference]</a></b></p>\n",
    "</h3>\n",
    "\n",
    "\n",
    "## Please _DO_ upvote!\n"
   ]
  },
  {
   "cell_type": "markdown",
   "id": "f8a04a6c",
   "metadata": {
    "papermill": {
     "duration": 0.008171,
     "end_time": "2022-08-05T09:51:50.330230",
     "exception": false,
     "start_time": "2022-08-05T09:51:50.322059",
     "status": "completed"
    },
    "tags": []
   },
   "source": [
    "### Changelog\n",
    "\n",
    "|| Version | Comments | LB |\n",
    "|---|  --- | --- | --- |\n",
    "|**Best**| -- | effNetUnet w/ 256x256, 50 epoch, no aug, Warmup CosineAnnealingLR lr sch, no pre/post processing, L2 norm, bs=8 | `--` |"
   ]
  },
  {
   "cell_type": "code",
   "execution_count": 10,
   "id": "439555e1",
   "metadata": {
    "execution": {
     "iopub.execute_input": "2022-08-05T09:51:50.348653Z",
     "iopub.status.busy": "2022-08-05T09:51:50.348204Z",
     "iopub.status.idle": "2022-08-05T09:52:20.246150Z",
     "shell.execute_reply": "2022-08-05T09:52:20.245019Z"
    },
    "papermill": {
     "duration": 29.910269,
     "end_time": "2022-08-05T09:52:20.248782",
     "exception": false,
     "start_time": "2022-08-05T09:51:50.338513",
     "status": "completed"
    },
    "tags": []
   },
   "outputs": [],
   "source": [
    "# !pip install git+https://github.com/qubvel/segmentation_models.pytorch"
   ]
  },
  {
   "cell_type": "code",
   "execution_count": 11,
   "id": "85cf0872",
   "metadata": {
    "execution": {
     "iopub.execute_input": "2022-08-05T09:52:20.273529Z",
     "iopub.status.busy": "2022-08-05T09:52:20.273216Z",
     "iopub.status.idle": "2022-08-05T09:52:20.277545Z",
     "shell.execute_reply": "2022-08-05T09:52:20.276580Z"
    },
    "papermill": {
     "duration": 0.018252,
     "end_time": "2022-08-05T09:52:20.279431",
     "exception": false,
     "start_time": "2022-08-05T09:52:20.261179",
     "status": "completed"
    },
    "tags": []
   },
   "outputs": [],
   "source": [
    "# !pip install -q tifffile"
   ]
  },
  {
   "cell_type": "code",
   "execution_count": 12,
   "id": "47351231",
   "metadata": {},
   "outputs": [
    {
     "name": "stdout",
     "output_type": "stream",
     "text": [
      "Sun Aug 14 00:10:21 2022       \n",
      "+-----------------------------------------------------------------------------+\n",
      "| NVIDIA-SMI 470.141.03   Driver Version: 470.141.03   CUDA Version: 11.4     |\n",
      "|-------------------------------+----------------------+----------------------+\n",
      "| GPU  Name        Persistence-M| Bus-Id        Disp.A | Volatile Uncorr. ECC |\n",
      "| Fan  Temp  Perf  Pwr:Usage/Cap|         Memory-Usage | GPU-Util  Compute M. |\n",
      "|                               |                      |               MIG M. |\n",
      "|===============================+======================+======================|\n",
      "|   0  NVIDIA GeForce ...  Off  | 00000000:01:00.0  On |                  N/A |\n",
      "| 28%   39C    P8    33W / 250W |    542MiB / 11016MiB |     32%      Default |\n",
      "|                               |                      |                  N/A |\n",
      "+-------------------------------+----------------------+----------------------+\n",
      "                                                                               \n",
      "+-----------------------------------------------------------------------------+\n",
      "| Processes:                                                                  |\n",
      "|  GPU   GI   CI        PID   Type   Process name                  GPU Memory |\n",
      "|        ID   ID                                                   Usage      |\n",
      "|=============================================================================|\n",
      "|    0   N/A  N/A      2829      G   /usr/lib/xorg/Xorg                 18MiB |\n",
      "|    0   N/A  N/A      3116      G   /usr/bin/gnome-shell               71MiB |\n",
      "|    0   N/A  N/A      3390      G   /usr/lib/xorg/Xorg                166MiB |\n",
      "|    0   N/A  N/A      3593      G   /usr/bin/gnome-shell               39MiB |\n",
      "|    0   N/A  N/A      4360      G   ...isable-features=EventPath      112MiB |\n",
      "|    0   N/A  N/A      8616      G   ...RendererForSitePerProcess      125MiB |\n",
      "+-----------------------------------------------------------------------------+\n"
     ]
    }
   ],
   "source": [
    "!nvidia-smi"
   ]
  },
  {
   "cell_type": "markdown",
   "id": "c131cd07",
   "metadata": {
    "papermill": {
     "duration": 0.010437,
     "end_time": "2022-08-05T09:52:20.300490",
     "exception": false,
     "start_time": "2022-08-05T09:52:20.290053",
     "status": "completed"
    },
    "tags": []
   },
   "source": [
    "# Import, SEED, Config:"
   ]
  },
  {
   "cell_type": "code",
   "execution_count": 13,
   "id": "d9890593",
   "metadata": {
    "_cell_guid": "b1076dfc-b9ad-4769-8c92-a6c4dae69d19",
    "_uuid": "8f2839f25d086af736a60e9eeb907d3b93b6e0e5",
    "execution": {
     "iopub.execute_input": "2022-08-05T09:52:20.323481Z",
     "iopub.status.busy": "2022-08-05T09:52:20.322598Z",
     "iopub.status.idle": "2022-08-05T09:52:27.377248Z",
     "shell.execute_reply": "2022-08-05T09:52:27.376205Z"
    },
    "papermill": {
     "duration": 7.06882,
     "end_time": "2022-08-05T09:52:27.379904",
     "exception": false,
     "start_time": "2022-08-05T09:52:20.311084",
     "status": "completed"
    },
    "tags": []
   },
   "outputs": [],
   "source": [
    "import numpy as np # linear algebra\n",
    "import pandas as pd # data processing, CSV file I/O (e.g. pd.read_csv)\n",
    "import os\n",
    "import warnings\n",
    "import cv2\n",
    "import matplotlib.pyplot as plt\n",
    "import json\n",
    "import gc\n",
    "import time\n",
    "from tqdm import tqdm\n",
    "import random\n",
    "from collections import defaultdict\n",
    "from IPython.display import display\n",
    "\n",
    "#Pytorch Imports\n",
    "import torch\n",
    "import torchvision # torch package for vision related things\n",
    "import torch.nn.functional as F  # Parameterless functions, like (some) activation functions\n",
    "import torchvision.datasets as datasets  # Standard datasets\n",
    "import torchvision.transforms as transforms  # Transformations we can perform on our dataset for augmentation\n",
    "from torch import optim  # For optimizers like SGD, Adam, etc.\n",
    "from torch import nn  # All neural network modules\n",
    "from torch.utils.data import Dataset, DataLoader  # Gives easier dataset managment by creating mini batches etc.\n",
    "from tqdm import tqdm  # For nice progress bar!\n",
    "from torchvision.transforms import Resize\n",
    "from torchaudio.transforms import MelSpectrogram, AmplitudeToDB\n",
    "from torch.optim import lr_scheduler\n",
    "# from tifffile import imread\n",
    "import segmentation_models_pytorch as smp\n",
    "# import transformers\n",
    "from sklearn.model_selection import StratifiedKFold, KFold, StratifiedGroupKFold\n",
    "\n",
    "from albumentations.pytorch.transforms import ToTensorV2\n",
    "import albumentations as A\n",
    "from sklearn.model_selection import train_test_split\n",
    "\n",
    "# For colored terminal text\n",
    "from colorama import Fore, Back, Style\n",
    "c_ = Fore.CYAN\n",
    "sr_ = Style.RESET_ALL\n",
    "b_ = Fore.BLUE\n",
    "\n",
    "# For descriptive error messages\n",
    "os.environ['CUDA_LAUNCH_BLOCKING'] = \"1\"\n",
    "\n",
    "warnings.filterwarnings(\"ignore\")"
   ]
  },
  {
   "cell_type": "code",
   "execution_count": 14,
   "id": "511c4d9d",
   "metadata": {
    "execution": {
     "iopub.execute_input": "2022-08-05T09:52:27.403599Z",
     "iopub.status.busy": "2022-08-05T09:52:27.403119Z",
     "iopub.status.idle": "2022-08-05T09:52:27.465160Z",
     "shell.execute_reply": "2022-08-05T09:52:27.464042Z"
    },
    "papermill": {
     "duration": 0.07637,
     "end_time": "2022-08-05T09:52:27.467286",
     "exception": false,
     "start_time": "2022-08-05T09:52:27.390916",
     "status": "completed"
    },
    "tags": []
   },
   "outputs": [],
   "source": [
    "# Hyperparameters etc.\n",
    "# Hyperparameters\n",
    "CONFIG = {\n",
    "    \"in_channels\" :3,\n",
    "    \"num_classes\": 1,\n",
    "    \"BATCH_SIZE\" : 8,\n",
    "    \"NUM_EPOCHS\" : 100,\n",
    "    \"n_accumulate\": 1,\n",
    "    \"competition\": \"HuBMAP-Kaggle\", # HuBMAP-Kaggle\n",
    "    \"model_name\": \"Vanilla_Unet\",\n",
    "    \"LEARNING_RATE\": 1e-4,\n",
    "    \"DEVICE\": \"cuda\" if torch.cuda.is_available() else \"cpu\", \n",
    "    \"AUG\": \"No\",\n",
    "    \"SEED\": 2022,\n",
    "    \"opt\": 'Adam',\n",
    "    \"Normalization\": \"L2\",\n",
    "    \"img_size\": 256,\n",
    "    \"scheduler\": \"\",#'CosineAnnealingLR',\n",
    "    \"warmup_epochs\": 2,\n",
    "    \"n_folds\": 5,\n",
    "    \"folds_to_run\": [0],\n",
    "    \"min_lr\": 1e-6,\n",
    "    \"T_max\": 500, \n",
    "    \"T_0\": 20\n",
    "}"
   ]
  },
  {
   "cell_type": "code",
   "execution_count": 15,
   "id": "9598d5cc",
   "metadata": {
    "execution": {
     "iopub.execute_input": "2022-08-05T09:52:27.490389Z",
     "iopub.status.busy": "2022-08-05T09:52:27.489594Z",
     "iopub.status.idle": "2022-08-05T09:52:27.503345Z",
     "shell.execute_reply": "2022-08-05T09:52:27.501874Z"
    },
    "papermill": {
     "duration": 0.02779,
     "end_time": "2022-08-05T09:52:27.505862",
     "exception": false,
     "start_time": "2022-08-05T09:52:27.478072",
     "status": "completed"
    },
    "tags": []
   },
   "outputs": [
    {
     "name": "stdout",
     "output_type": "stream",
     "text": [
      "> SEEDING DONE\n"
     ]
    }
   ],
   "source": [
    "def set_seed(seed = 42):\n",
    "    '''Sets the seed of the entire notebook so results are the same every time we run.\n",
    "    This is for REPRODUCIBILITY.'''\n",
    "    np.random.seed(seed)\n",
    "    random.seed(seed)\n",
    "    torch.manual_seed(seed)\n",
    "    torch.cuda.manual_seed(seed)\n",
    "    # When running on the CuDNN backend, two further options must be set\n",
    "    torch.backends.cudnn.deterministic = True\n",
    "    torch.backends.cudnn.benchmark = False\n",
    "    # Set a fixed value for the hash seed\n",
    "    os.environ['PYTHONHASHSEED'] = str(seed)\n",
    "    print('> SEEDING DONE')\n",
    "    \n",
    "set_seed(CONFIG[\"SEED\"])"
   ]
  },
  {
   "cell_type": "markdown",
   "id": "46b8c932",
   "metadata": {
    "papermill": {
     "duration": 0.01125,
     "end_time": "2022-08-05T09:52:27.528420",
     "exception": false,
     "start_time": "2022-08-05T09:52:27.517170",
     "status": "completed"
    },
    "tags": []
   },
   "source": [
    "# WandB:"
   ]
  },
  {
   "cell_type": "code",
   "execution_count": 16,
   "id": "1eb64906",
   "metadata": {
    "execution": {
     "iopub.execute_input": "2022-08-05T09:52:27.551734Z",
     "iopub.status.busy": "2022-08-05T09:52:27.550948Z",
     "iopub.status.idle": "2022-08-05T09:52:32.272374Z",
     "shell.execute_reply": "2022-08-05T09:52:32.271274Z"
    },
    "papermill": {
     "duration": 4.735091,
     "end_time": "2022-08-05T09:52:32.274508",
     "exception": false,
     "start_time": "2022-08-05T09:52:27.539417",
     "status": "completed"
    },
    "tags": []
   },
   "outputs": [
    {
     "data": {
      "text/html": [
       "Finishing last run (ID:2ft0alve) before initializing another..."
      ],
      "text/plain": [
       "<IPython.core.display.HTML object>"
      ]
     },
     "metadata": {},
     "output_type": "display_data"
    },
    {
     "data": {
      "text/html": [
       "Waiting for W&B process to finish... <strong style=\"color:green\">(success).</strong>"
      ],
      "text/plain": [
       "<IPython.core.display.HTML object>"
      ]
     },
     "metadata": {},
     "output_type": "display_data"
    },
    {
     "data": {
      "text/html": [
       "Synced <strong style=\"color:#cdcd00\">Vanilla_Unet_1</strong>: <a href=\"https://wandb.ai/somusan/HuBMAP-Kaggle/runs/2ft0alve\" target=\"_blank\">https://wandb.ai/somusan/HuBMAP-Kaggle/runs/2ft0alve</a><br/>Synced 5 W&B file(s), 0 media file(s), 0 artifact file(s) and 0 other file(s)"
      ],
      "text/plain": [
       "<IPython.core.display.HTML object>"
      ]
     },
     "metadata": {},
     "output_type": "display_data"
    },
    {
     "data": {
      "text/html": [
       "Find logs at: <code>./wandb/run-20220813_200502-2ft0alve/logs</code>"
      ],
      "text/plain": [
       "<IPython.core.display.HTML object>"
      ]
     },
     "metadata": {},
     "output_type": "display_data"
    },
    {
     "data": {
      "text/html": [
       "Successfully finished last run (ID:2ft0alve). Initializing new run:<br/>"
      ],
      "text/plain": [
       "<IPython.core.display.HTML object>"
      ]
     },
     "metadata": {},
     "output_type": "display_data"
    },
    {
     "data": {
      "text/html": [
       "wandb version 0.13.1 is available!  To upgrade, please run:\n",
       " $ pip install wandb --upgrade"
      ],
      "text/plain": [
       "<IPython.core.display.HTML object>"
      ]
     },
     "metadata": {},
     "output_type": "display_data"
    },
    {
     "data": {
      "text/html": [
       "Tracking run with wandb version 0.13.0"
      ],
      "text/plain": [
       "<IPython.core.display.HTML object>"
      ]
     },
     "metadata": {},
     "output_type": "display_data"
    },
    {
     "data": {
      "text/html": [
       "Run data is saved locally in <code>/home/lakshita/somusan/hubmap_kaggle/nbs/wandb/run-20220814_001023-1jzupt3a</code>"
      ],
      "text/plain": [
       "<IPython.core.display.HTML object>"
      ]
     },
     "metadata": {},
     "output_type": "display_data"
    },
    {
     "data": {
      "text/html": [
       "Syncing run <strong><a href=\"https://wandb.ai/somusan/HuBMAP-Kaggle/runs/1jzupt3a\" target=\"_blank\">Vanilla_Unet_1</a></strong> to <a href=\"https://wandb.ai/somusan/HuBMAP-Kaggle\" target=\"_blank\">Weights & Biases</a> (<a href=\"https://wandb.me/run\" target=\"_blank\">docs</a>)<br/>"
      ],
      "text/plain": [
       "<IPython.core.display.HTML object>"
      ]
     },
     "metadata": {},
     "output_type": "display_data"
    }
   ],
   "source": [
    "# import wandb\n",
    "\n",
    "# # try:\n",
    "# #     from kaggle_secrets import UserSecretsClient\n",
    "# #     user_secrets = UserSecretsClient()\n",
    "# #     api_key = user_secrets.get_secret(\"WANDB\")\n",
    "# #     wandb.login(key=api_key)\n",
    "# #     anonymous = None\n",
    "# # except:\n",
    "# #     anonymous = \"must\"\n",
    "# #     print('To use your W&B account,\\nGo to Add-ons -> Secrets and provide your W&B access token. Use the Label name as WANDB. \\nGet your W&B access token from here: https://wandb.ai/authorize')\n",
    "# # wandb.init(project=\"PogChamp2 Baseline\")\n",
    "# run = wandb.init(project=CONFIG['competition'], \n",
    "#                  config=CONFIG,\n",
    "#                  job_type='Train',\n",
    "#                  tags=['semantic segmentation', CONFIG['model_name']],\n",
    "#                  anonymous='must',\n",
    "#                  name = \"Vanilla_Unet_1\",\n",
    "#                  notes = \"\")"
   ]
  },
  {
   "cell_type": "markdown",
   "id": "b43856fc",
   "metadata": {
    "papermill": {
     "duration": 0.011192,
     "end_time": "2022-08-05T09:52:32.297838",
     "exception": false,
     "start_time": "2022-08-05T09:52:32.286646",
     "status": "completed"
    },
    "tags": []
   },
   "source": [
    "## Tabular:"
   ]
  },
  {
   "cell_type": "code",
   "execution_count": 17,
   "id": "94df1d80",
   "metadata": {},
   "outputs": [
    {
     "data": {
      "text/plain": [
       "kidney            99\n",
       "prostate          93\n",
       "largeintestine    58\n",
       "spleen            53\n",
       "lung              48\n",
       "Name: organ, dtype: int64"
      ]
     },
     "execution_count": 17,
     "metadata": {},
     "output_type": "execute_result"
    }
   ],
   "source": [
    "pd.read_csv(\"/home/lakshita/somusan/hubmap_kaggle/hubmap_data/hubmap-organ-segmentation/train.csv\")[\"organ\"].value_counts()"
   ]
  },
  {
   "cell_type": "code",
   "execution_count": 18,
   "id": "0b011422",
   "metadata": {
    "execution": {
     "iopub.execute_input": "2022-08-05T09:52:32.323255Z",
     "iopub.status.busy": "2022-08-05T09:52:32.322498Z",
     "iopub.status.idle": "2022-08-05T09:52:32.856029Z",
     "shell.execute_reply": "2022-08-05T09:52:32.855127Z"
    },
    "papermill": {
     "duration": 0.54857,
     "end_time": "2022-08-05T09:52:32.858294",
     "exception": false,
     "start_time": "2022-08-05T09:52:32.309724",
     "status": "completed"
    },
    "tags": []
   },
   "outputs": [
    {
     "data": {
      "text/html": [
       "<div>\n",
       "<style scoped>\n",
       "    .dataframe tbody tr th:only-of-type {\n",
       "        vertical-align: middle;\n",
       "    }\n",
       "\n",
       "    .dataframe tbody tr th {\n",
       "        vertical-align: top;\n",
       "    }\n",
       "\n",
       "    .dataframe thead th {\n",
       "        text-align: right;\n",
       "    }\n",
       "</style>\n",
       "<table border=\"1\" class=\"dataframe\">\n",
       "  <thead>\n",
       "    <tr style=\"text-align: right;\">\n",
       "      <th></th>\n",
       "      <th>img_path</th>\n",
       "      <th>mask_path</th>\n",
       "    </tr>\n",
       "  </thead>\n",
       "  <tbody>\n",
       "    <tr>\n",
       "      <th>0</th>\n",
       "      <td>/home/lakshita/somusan/hubmap_kaggle/hubmap_data/tiled_data/images/8388_04.png</td>\n",
       "      <td>/home/lakshita/somusan/hubmap_kaggle/hubmap_data/tiled_data/binary_masks/8388_04.png</td>\n",
       "    </tr>\n",
       "    <tr>\n",
       "      <th>1</th>\n",
       "      <td>/home/lakshita/somusan/hubmap_kaggle/hubmap_data/tiled_data/images/9450_04.png</td>\n",
       "      <td>/home/lakshita/somusan/hubmap_kaggle/hubmap_data/tiled_data/binary_masks/9450_04.png</td>\n",
       "    </tr>\n",
       "    <tr>\n",
       "      <th>2</th>\n",
       "      <td>/home/lakshita/somusan/hubmap_kaggle/hubmap_data/tiled_data/images/1500_03.png</td>\n",
       "      <td>/home/lakshita/somusan/hubmap_kaggle/hubmap_data/tiled_data/binary_masks/1500_03.png</td>\n",
       "    </tr>\n",
       "    <tr>\n",
       "      <th>3</th>\n",
       "      <td>/home/lakshita/somusan/hubmap_kaggle/hubmap_data/tiled_data/images/23961_06.png</td>\n",
       "      <td>/home/lakshita/somusan/hubmap_kaggle/hubmap_data/tiled_data/binary_masks/23961_06.png</td>\n",
       "    </tr>\n",
       "    <tr>\n",
       "      <th>4</th>\n",
       "      <td>/home/lakshita/somusan/hubmap_kaggle/hubmap_data/tiled_data/images/21086_00.png</td>\n",
       "      <td>/home/lakshita/somusan/hubmap_kaggle/hubmap_data/tiled_data/binary_masks/21086_00.png</td>\n",
       "    </tr>\n",
       "    <tr>\n",
       "      <th>...</th>\n",
       "      <td>...</td>\n",
       "      <td>...</td>\n",
       "    </tr>\n",
       "    <tr>\n",
       "      <th>3154</th>\n",
       "      <td>/home/lakshita/somusan/hubmap_kaggle/hubmap_data/tiled_data/images/6611_05.png</td>\n",
       "      <td>/home/lakshita/somusan/hubmap_kaggle/hubmap_data/tiled_data/binary_masks/6611_05.png</td>\n",
       "    </tr>\n",
       "    <tr>\n",
       "      <th>3155</th>\n",
       "      <td>/home/lakshita/somusan/hubmap_kaggle/hubmap_data/tiled_data/images/24961_00.png</td>\n",
       "      <td>/home/lakshita/somusan/hubmap_kaggle/hubmap_data/tiled_data/binary_masks/24961_00.png</td>\n",
       "    </tr>\n",
       "    <tr>\n",
       "      <th>3156</th>\n",
       "      <td>/home/lakshita/somusan/hubmap_kaggle/hubmap_data/tiled_data/images/351_03.png</td>\n",
       "      <td>/home/lakshita/somusan/hubmap_kaggle/hubmap_data/tiled_data/binary_masks/351_03.png</td>\n",
       "    </tr>\n",
       "    <tr>\n",
       "      <th>3157</th>\n",
       "      <td>/home/lakshita/somusan/hubmap_kaggle/hubmap_data/tiled_data/images/1229_04.png</td>\n",
       "      <td>/home/lakshita/somusan/hubmap_kaggle/hubmap_data/tiled_data/binary_masks/1229_04.png</td>\n",
       "    </tr>\n",
       "    <tr>\n",
       "      <th>3158</th>\n",
       "      <td>/home/lakshita/somusan/hubmap_kaggle/hubmap_data/tiled_data/images/660_05.png</td>\n",
       "      <td>/home/lakshita/somusan/hubmap_kaggle/hubmap_data/tiled_data/binary_masks/660_05.png</td>\n",
       "    </tr>\n",
       "  </tbody>\n",
       "</table>\n",
       "<p>3159 rows × 2 columns</p>\n",
       "</div>"
      ],
      "text/plain": [
       "                                                                             img_path  \\\n",
       "0      /home/lakshita/somusan/hubmap_kaggle/hubmap_data/tiled_data/images/8388_04.png   \n",
       "1      /home/lakshita/somusan/hubmap_kaggle/hubmap_data/tiled_data/images/9450_04.png   \n",
       "2      /home/lakshita/somusan/hubmap_kaggle/hubmap_data/tiled_data/images/1500_03.png   \n",
       "3     /home/lakshita/somusan/hubmap_kaggle/hubmap_data/tiled_data/images/23961_06.png   \n",
       "4     /home/lakshita/somusan/hubmap_kaggle/hubmap_data/tiled_data/images/21086_00.png   \n",
       "...                                                                               ...   \n",
       "3154   /home/lakshita/somusan/hubmap_kaggle/hubmap_data/tiled_data/images/6611_05.png   \n",
       "3155  /home/lakshita/somusan/hubmap_kaggle/hubmap_data/tiled_data/images/24961_00.png   \n",
       "3156    /home/lakshita/somusan/hubmap_kaggle/hubmap_data/tiled_data/images/351_03.png   \n",
       "3157   /home/lakshita/somusan/hubmap_kaggle/hubmap_data/tiled_data/images/1229_04.png   \n",
       "3158    /home/lakshita/somusan/hubmap_kaggle/hubmap_data/tiled_data/images/660_05.png   \n",
       "\n",
       "                                                                                  mask_path  \n",
       "0      /home/lakshita/somusan/hubmap_kaggle/hubmap_data/tiled_data/binary_masks/8388_04.png  \n",
       "1      /home/lakshita/somusan/hubmap_kaggle/hubmap_data/tiled_data/binary_masks/9450_04.png  \n",
       "2      /home/lakshita/somusan/hubmap_kaggle/hubmap_data/tiled_data/binary_masks/1500_03.png  \n",
       "3     /home/lakshita/somusan/hubmap_kaggle/hubmap_data/tiled_data/binary_masks/23961_06.png  \n",
       "4     /home/lakshita/somusan/hubmap_kaggle/hubmap_data/tiled_data/binary_masks/21086_00.png  \n",
       "...                                                                                     ...  \n",
       "3154   /home/lakshita/somusan/hubmap_kaggle/hubmap_data/tiled_data/binary_masks/6611_05.png  \n",
       "3155  /home/lakshita/somusan/hubmap_kaggle/hubmap_data/tiled_data/binary_masks/24961_00.png  \n",
       "3156    /home/lakshita/somusan/hubmap_kaggle/hubmap_data/tiled_data/binary_masks/351_03.png  \n",
       "3157   /home/lakshita/somusan/hubmap_kaggle/hubmap_data/tiled_data/binary_masks/1229_04.png  \n",
       "3158    /home/lakshita/somusan/hubmap_kaggle/hubmap_data/tiled_data/binary_masks/660_05.png  \n",
       "\n",
       "[3159 rows x 2 columns]"
      ]
     },
     "metadata": {},
     "output_type": "display_data"
    }
   ],
   "source": [
    "# !ls ../input/hubmap-tiled-data-generation/tiled_data\n",
    "DATA_DIR = \"/home/lakshita/somusan/hubmap_kaggle/hubmap_data/tiled_data/\"\n",
    "\n",
    "img_list = [os.path.join(DATA_DIR+'images',i) for i in os.listdir(DATA_DIR+\"images\")]\n",
    "mask_list = [os.path.join(DATA_DIR+'binary_masks',i) for i in os.listdir(DATA_DIR+\"binary_masks\")]\n",
    "\n",
    "data_dict = {\n",
    "    \"img_path\": img_list,\n",
    "    \"mask_path\": mask_list\n",
    "}\n",
    "\n",
    "train_df = pd.DataFrame.from_dict(data_dict)\n",
    "pd.set_option('display.max_colwidth', None)\n",
    "display(train_df)\n",
    "# plt.imshow(plt.imread(mask_list[3]))\n",
    "# img_list[0:5],mask_list[0:5]"
   ]
  },
  {
   "cell_type": "code",
   "execution_count": 19,
   "id": "cbfd1170",
   "metadata": {},
   "outputs": [
    {
     "data": {
      "text/plain": [
       "('/home/lakshita/somusan/hubmap_kaggle/hubmap_data/tiled_data/images/8388_04.png',\n",
       " '/home/lakshita/somusan/hubmap_kaggle/hubmap_data/tiled_data/binary_masks/8388_04.png')"
      ]
     },
     "execution_count": 19,
     "metadata": {},
     "output_type": "execute_result"
    }
   ],
   "source": [
    "train_df[\"img_path\"].iloc[0], train_df[\"mask_path\"].iloc[0]"
   ]
  },
  {
   "cell_type": "code",
   "execution_count": 20,
   "id": "e9c9b174",
   "metadata": {},
   "outputs": [
    {
     "data": {
      "text/plain": [
       "<matplotlib.image.AxesImage at 0x7fc4fd53eb00>"
      ]
     },
     "execution_count": 20,
     "metadata": {},
     "output_type": "execute_result"
    },
    {
     "data": {
      "image/png": "[encoded data removed]",
      "text/plain": [
       "<Figure size 432x288 with 1 Axes>"
      ]
     },
     "metadata": {
      "needs_background": "light"
     },
     "output_type": "display_data"
    }
   ],
   "source": [
    "mask_cee = plt.imread(train_df[\"mask_path\"].iloc[9]).astype(np.float16)\n",
    "a = mask_cee\n",
    "new_a = np.where(a > 0, 1, a)\n",
    "plt.imshow(new_a)"
   ]
  },
  {
   "cell_type": "code",
   "execution_count": 21,
   "id": "475a1b5d",
   "metadata": {},
   "outputs": [
    {
     "name": "stdout",
     "output_type": "stream",
     "text": [
      "[0.13333334 0.13725491 0.14509805 0.14901961 0.15294118 0.16078432\n",
      " 0.16470589 0.16862746 0.17254902 0.1764706  0.18039216 0.18431373\n",
      " 0.1882353  0.19215687 0.19607843 0.2        0.20392157 0.20784314\n",
      " 0.21176471 0.21568628 0.21960784 0.22352941 0.22745098 0.23137255\n",
      " 0.23529412 0.23921569 0.24313726 0.24705882 0.2509804  0.25490198\n",
      " 0.25882354 0.2627451  0.26666668 0.27058825 0.27450982 0.2784314\n",
      " 0.28235295 0.28627452 0.2901961  0.29411766 0.29803923 0.3019608\n",
      " 0.30588236 0.30980393 0.3137255  0.31764707 0.32156864 0.3254902\n",
      " 0.32941177 0.33333334 0.3372549  0.34117648 0.34509805 0.34901962\n",
      " 0.3529412  0.35686275 0.36078432 0.3647059  0.36862746 0.37254903\n",
      " 0.3764706  0.38039216 0.38431373 0.3882353  0.39215687 0.39607844\n",
      " 0.4        0.40392157 0.40784314 0.4117647  0.41568628 0.41960785\n",
      " 0.42352942 0.42745098 0.43137255 0.43529412 0.4392157  0.44313726\n",
      " 0.44705883 0.4509804  0.45490196 0.45882353 0.4627451  0.46666667\n",
      " 0.47058824 0.4745098  0.47843137 0.48235294 0.4862745  0.49019608\n",
      " 0.49411765 0.49803922 0.5019608  0.5058824  0.50980395 0.5137255\n",
      " 0.5176471  0.52156866 0.5254902  0.5294118  0.53333336 0.5372549\n",
      " 0.5411765  0.54509807 0.54901963 0.5529412  0.5568628  0.56078434\n",
      " 0.5647059  0.5686275  0.57254905 0.5764706  0.5803922  0.58431375\n",
      " 0.5882353  0.5921569  0.59607846 0.6        0.6039216  0.60784316\n",
      " 0.6117647  0.6156863  0.61960787 0.62352943 0.627451   0.6313726\n",
      " 0.63529414 0.6392157  0.6431373  0.64705884 0.6509804  0.654902\n",
      " 0.65882355 0.6627451  0.6666667  0.67058825 0.6745098  0.6784314\n",
      " 0.68235296 0.6862745  0.6901961  0.69411767 0.69803923 0.7019608\n",
      " 0.7058824  0.70980394 0.7137255  0.7176471  0.72156864 0.7254902\n",
      " 0.7294118  0.73333335 0.7372549  0.7411765  0.74509805 0.7490196\n",
      " 0.7529412  0.75686276 0.7607843  0.7647059  0.76862746 0.77254903\n",
      " 0.7764706  0.78039217 0.78431374 0.7882353  0.7921569  0.79607844\n",
      " 0.8        0.8039216  0.80784315 0.8117647  0.8156863  0.81960785\n",
      " 0.8235294  0.827451   0.83137256 0.8352941  0.8392157  0.84313726\n",
      " 0.84705883 0.8509804  0.85490197 0.85882354 0.8627451  0.8666667\n",
      " 0.87058824 0.8745098  0.8784314  0.88235295 0.8862745  0.8901961\n",
      " 0.89411765 0.8980392  0.9019608  0.90588236 0.9098039  0.9137255\n",
      " 0.91764706 0.92156863 0.9254902  0.92941177 0.93333334 0.9372549\n",
      " 0.9411765  0.94509804 0.9490196  0.9529412  0.95686275 0.9607843 ]\n"
     ]
    },
    {
     "data": {
      "image/png": "[encoded data removed]",
      "text/plain": [
       "<Figure size 432x288 with 1 Axes>"
      ]
     },
     "metadata": {
      "needs_background": "light"
     },
     "output_type": "display_data"
    }
   ],
   "source": [
    "\n",
    "img_cee = plt.imread(\"/home/lakshita/somusan/hubmap_kaggle/hubmap_data/tiled_data/images/62_00.png\")\n",
    "plt.imshow(img_cee)\n",
    "print(np.unique(img_cee))"
   ]
  },
  {
   "cell_type": "code",
   "execution_count": 22,
   "id": "94bd3be2",
   "metadata": {
    "execution": {
     "iopub.execute_input": "2022-08-05T09:52:32.883849Z",
     "iopub.status.busy": "2022-08-05T09:52:32.883053Z",
     "iopub.status.idle": "2022-08-05T09:52:32.893548Z",
     "shell.execute_reply": "2022-08-05T09:52:32.892586Z"
    },
    "papermill": {
     "duration": 0.024948,
     "end_time": "2022-08-05T09:52:32.895509",
     "exception": false,
     "start_time": "2022-08-05T09:52:32.870561",
     "status": "completed"
    },
    "tags": []
   },
   "outputs": [
    {
     "data": {
      "text/plain": [
       "(2527, 632)"
      ]
     },
     "execution_count": 22,
     "metadata": {},
     "output_type": "execute_result"
    }
   ],
   "source": [
    "train_df, test_df = train_test_split(train_df, test_size=0.2, random_state=CONFIG[\"SEED\"])\n",
    "train_df.__len__(), len(test_df)"
   ]
  },
  {
   "cell_type": "code",
   "execution_count": 23,
   "id": "18bc5c33",
   "metadata": {
    "execution": {
     "iopub.execute_input": "2022-08-05T09:52:32.920541Z",
     "iopub.status.busy": "2022-08-05T09:52:32.919705Z",
     "iopub.status.idle": "2022-08-05T09:52:32.925373Z",
     "shell.execute_reply": "2022-08-05T09:52:32.924187Z"
    },
    "papermill": {
     "duration": 0.020319,
     "end_time": "2022-08-05T09:52:32.927390",
     "exception": false,
     "start_time": "2022-08-05T09:52:32.907071",
     "status": "completed"
    },
    "tags": []
   },
   "outputs": [],
   "source": [
    "# %timeit img_temp = plt.imread(train_df[\"mask_path\"].iloc[0])"
   ]
  },
  {
   "cell_type": "markdown",
   "id": "c05c1e2e",
   "metadata": {
    "papermill": {
     "duration": 0.016348,
     "end_time": "2022-08-05T09:52:32.955024",
     "exception": false,
     "start_time": "2022-08-05T09:52:32.938676",
     "status": "completed"
    },
    "tags": []
   },
   "source": [
    "# Pytorch Data Class:"
   ]
  },
  {
   "cell_type": "code",
   "execution_count": 24,
   "id": "7c25b780",
   "metadata": {},
   "outputs": [
    {
     "data": {
      "text/plain": [
       "array([0., 1., 1.])"
      ]
     },
     "execution_count": 24,
     "metadata": {},
     "output_type": "execute_result"
    }
   ],
   "source": [
    "mean = np.array([0, 0.74582646, 0.74582646])\n",
    "std = np.array([0.24745085, 0.26182273, 0.25782376])\n",
    "a = mean\n",
    "new_a = np.where(a == 0.74582646, 1, a)\n",
    "new_a\n",
    "# torch.from_numpy(mean).to(torch.uint8)\n"
   ]
  },
  {
   "cell_type": "code",
   "execution_count": 25,
   "id": "7f1b09bf",
   "metadata": {
    "execution": {
     "iopub.execute_input": "2022-08-05T09:52:32.983027Z",
     "iopub.status.busy": "2022-08-05T09:52:32.982735Z",
     "iopub.status.idle": "2022-08-05T09:52:32.995058Z",
     "shell.execute_reply": "2022-08-05T09:52:32.994200Z"
    },
    "papermill": {
     "duration": 0.027924,
     "end_time": "2022-08-05T09:52:32.997893",
     "exception": false,
     "start_time": "2022-08-05T09:52:32.969969",
     "status": "completed"
    },
    "tags": []
   },
   "outputs": [],
   "source": [
    "mean = np.array([0.7720342, 0.74582646, 0.76392896])\n",
    "std = np.array([0.24745085, 0.26182273, 0.25782376])\n",
    "\n",
    "\n",
    "def img2tensor(img,dtype:np.dtype=np.float32):\n",
    "    if img.ndim==2 : img = np.expand_dims(img,2)\n",
    "    img = np.transpose(img,(2,0,1))\n",
    "    return torch.from_numpy(img.astype(dtype, copy=False))\n",
    "\n",
    "\n",
    "\n",
    "class hubmap_data(Dataset):\n",
    "    def __init__(self, df, transform=None):\n",
    "        self.df = df\n",
    "        self.img_paths = df[\"img_path\"].to_numpy()\n",
    "        self.mask_paths = df[\"mask_path\"].to_numpy()\n",
    "        self.transform = transform\n",
    "        \n",
    "        \n",
    "    def __getitem__(self, index):\n",
    "        # load data from the pre-processed npy files\n",
    "        img_file = self.img_paths[index]\n",
    "\n",
    "        mask_file = self.mask_paths[index]\n",
    "        \n",
    "        img = cv2.cvtColor(cv2.imread(img_file), cv2.COLOR_BGR2RGB)\n",
    "        mask = cv2.imread((mask_file),cv2.IMREAD_GRAYSCALE)\n",
    "        if self.transform is not None:\n",
    "            transformed = self.transform(image=img, mask=mask)\n",
    "            img = transformed[\"image\"]\n",
    "            mask = transformed[\"mask\"]\n",
    "            mask=mask.reshape((1, mask.shape[0], mask.shape[1]))\n",
    "\n",
    "            if mask.shape[-1] == 1:\n",
    "                mask = mask.permute(2,0,1)\n",
    "                \n",
    "\n",
    "        return  img, mask \n",
    "\n",
    "    def __len__(self):\n",
    "        return len(self.df)"
   ]
  },
  {
   "cell_type": "code",
   "execution_count": 26,
   "id": "7436e795",
   "metadata": {
    "execution": {
     "iopub.execute_input": "2022-08-05T09:52:33.023379Z",
     "iopub.status.busy": "2022-08-05T09:52:33.023081Z",
     "iopub.status.idle": "2022-08-05T09:52:33.029268Z",
     "shell.execute_reply": "2022-08-05T09:52:33.028285Z"
    },
    "papermill": {
     "duration": 0.020846,
     "end_time": "2022-08-05T09:52:33.031715",
     "exception": false,
     "start_time": "2022-08-05T09:52:33.010869",
     "status": "completed"
    },
    "tags": []
   },
   "outputs": [],
   "source": [
    "train_transform = A.Compose([\n",
    "        A.Resize(256, 256, p=1.0),\n",
    "        A.HorizontalFlip(),\n",
    "        A.VerticalFlip(),\n",
    "        A.RandomRotate90(),\n",
    "        A.ShiftScaleRotate(shift_limit=0.0625, scale_limit=0.2, rotate_limit=15, p=0.9, \n",
    "                         border_mode=cv2.BORDER_REFLECT),\n",
    "        A.OneOf([\n",
    "            A.OpticalDistortion(p=0.3),\n",
    "            A.GridDistortion(p=.1),\n",
    "            A.PiecewiseAffine(p=0.3),\n",
    "        ], p=0.3),\n",
    "        A.OneOf([\n",
    "            A.CLAHE(clip_limit=2),\n",
    "        ], p=0.3),\n",
    "        ToTensorV2(),\n",
    "    ], p=1.0)\n",
    "\n",
    "\n",
    "test_transform = A.Compose(\n",
    "    [\n",
    "        A.Resize(256, 256, p=1.0),\n",
    "        ToTensorV2(),\n",
    "    ], p=1.0\n",
    ")"
   ]
  },
  {
   "cell_type": "code",
   "execution_count": 27,
   "id": "1bb1a4a9",
   "metadata": {},
   "outputs": [
    {
     "data": {
      "text/plain": [
       "torch.uint8"
      ]
     },
     "execution_count": 27,
     "metadata": {},
     "output_type": "execute_result"
    }
   ],
   "source": [
    "train_data_ = hubmap_data(train_df, train_transform)\n",
    "train_data_[0][1].dtype"
   ]
  },
  {
   "cell_type": "code",
   "execution_count": 28,
   "id": "ea6b65e4",
   "metadata": {
    "execution": {
     "iopub.execute_input": "2022-08-05T09:52:33.058784Z",
     "iopub.status.busy": "2022-08-05T09:52:33.058514Z",
     "iopub.status.idle": "2022-08-05T09:52:33.228268Z",
     "shell.execute_reply": "2022-08-05T09:52:33.227188Z"
    },
    "papermill": {
     "duration": 0.184058,
     "end_time": "2022-08-05T09:52:33.230557",
     "exception": false,
     "start_time": "2022-08-05T09:52:33.046499",
     "status": "completed"
    },
    "tags": []
   },
   "outputs": [
    {
     "name": "stdout",
     "output_type": "stream",
     "text": [
      "torch.Size([3, 256, 256]) torch.Size([1, 256, 256])\n",
      "torch.uint8\n"
     ]
    }
   ],
   "source": [
    "train_data = hubmap_data(train_df,train_transform)\n",
    "test_data = hubmap_data(test_df, test_transform) # CHANGED [change the augmentation method]\n",
    "\n",
    "print(train_data[10][0].shape, train_data[10][1].shape)\n",
    "# test_data[10][0].shape, test_data[10][1].shape\n",
    "print(train_data[10][1].dtype)"
   ]
  },
  {
   "cell_type": "markdown",
   "id": "cff67748",
   "metadata": {},
   "source": [
    "### Ideas:\n",
    "- change loss\n",
    "- tta\n",
    "- scheduler\n",
    "- w/o imagenet training\n",
    "- optimizer for encoder and decoder seperately"
   ]
  },
  {
   "cell_type": "code",
   "execution_count": 29,
   "id": "8194007f",
   "metadata": {
    "execution": {
     "iopub.execute_input": "2022-08-05T09:52:33.257081Z",
     "iopub.status.busy": "2022-08-05T09:52:33.255503Z",
     "iopub.status.idle": "2022-08-05T09:52:33.779084Z",
     "shell.execute_reply": "2022-08-05T09:52:33.778081Z"
    },
    "papermill": {
     "duration": 0.539499,
     "end_time": "2022-08-05T09:52:33.781835",
     "exception": false,
     "start_time": "2022-08-05T09:52:33.242336",
     "status": "completed"
    },
    "tags": []
   },
   "outputs": [
    {
     "name": "stdout",
     "output_type": "stream",
     "text": [
      "[0 1]\n"
     ]
    },
    {
     "data": {
      "image/png": "[encoded data removed]",
      "text/plain": [
       "<Figure size 720x576 with 2 Axes>"
      ]
     },
     "metadata": {
      "needs_background": "light"
     },
     "output_type": "display_data"
    }
   ],
   "source": [
    "temp_img = train_data[54][0]\n",
    "temp_mask = train_data[54][1]\n",
    "# plt.imshow(temp_mask.detach().numpy())\n",
    "# plt.imshow(temp_img.permute(1,2,0).detach().numpy())\n",
    "\n",
    "\n",
    "img_trfm = (temp_img.permute(1,2,0)).detach().numpy()\n",
    "mask_trfm = (temp_mask.permute(1,2,0)).detach().numpy()\n",
    "\n",
    "plt.figure(figsize=(10,8))\n",
    "plt.subplot(1,2,1)\n",
    "plt.imshow(img_trfm)\n",
    "\n",
    "\n",
    "plt.subplot(1,2,2)\n",
    "plt.imshow(mask_trfm)\n",
    "print(np.unique(mask_trfm))\n",
    "# temp_img.permute(1,2,0).detach().numpy() # 0.00784314 0.00392157"
   ]
  },
  {
   "cell_type": "markdown",
   "id": "3429341b",
   "metadata": {
    "papermill": {
     "duration": 0.014292,
     "end_time": "2022-08-05T09:52:33.814368",
     "exception": false,
     "start_time": "2022-08-05T09:52:33.800076",
     "status": "completed"
    },
    "tags": []
   },
   "source": [
    "# Unet Model:"
   ]
  },
  {
   "cell_type": "code",
   "execution_count": 30,
   "id": "d2aceb20",
   "metadata": {
    "execution": {
     "iopub.execute_input": "2022-08-05T09:52:33.843991Z",
     "iopub.status.busy": "2022-08-05T09:52:33.843672Z",
     "iopub.status.idle": "2022-08-05T09:52:33.849640Z",
     "shell.execute_reply": "2022-08-05T09:52:33.848431Z"
    },
    "papermill": {
     "duration": 0.024248,
     "end_time": "2022-08-05T09:52:33.852750",
     "exception": false,
     "start_time": "2022-08-05T09:52:33.828502",
     "status": "completed"
    },
    "tags": []
   },
   "outputs": [],
   "source": [
    "def init_model():\n",
    "    model =  smp.Unet(\n",
    "                 encoder_name='efficientnet-b0',\n",
    "                 encoder_weights='imagenet',\n",
    "                 in_channels=3,\n",
    "                 classes=1)\n",
    "    return model"
   ]
  },
  {
   "cell_type": "markdown",
   "id": "802c70bb",
   "metadata": {
    "papermill": {
     "duration": 0.014268,
     "end_time": "2022-08-05T09:52:33.883667",
     "exception": false,
     "start_time": "2022-08-05T09:52:33.869399",
     "status": "completed"
    },
    "tags": []
   },
   "source": [
    "# Model check:"
   ]
  },
  {
   "cell_type": "code",
   "execution_count": 31,
   "id": "aba74a9c",
   "metadata": {
    "execution": {
     "iopub.execute_input": "2022-08-05T09:52:33.913202Z",
     "iopub.status.busy": "2022-08-05T09:52:33.912907Z",
     "iopub.status.idle": "2022-08-05T09:52:49.264360Z",
     "shell.execute_reply": "2022-08-05T09:52:49.263331Z"
    },
    "papermill": {
     "duration": 15.369001,
     "end_time": "2022-08-05T09:52:49.266850",
     "exception": false,
     "start_time": "2022-08-05T09:52:33.897849",
     "status": "completed"
    },
    "tags": []
   },
   "outputs": [
    {
     "data": {
      "text/plain": [
       "torch.Size([1, 1, 256, 256])"
      ]
     },
     "execution_count": 31,
     "metadata": {},
     "output_type": "execute_result"
    }
   ],
   "source": [
    "train_on_gpu = torch.cuda.is_available()\n",
    "model = init_model() #UNet(n_channels=CONFIG[\"in_channels\"], n_classes=CONFIG[\"num_classes\"])\n",
    "if train_on_gpu:\n",
    "    model.cuda()\n",
    "\n",
    "model(temp_img.unsqueeze(0).float().cuda()).shape"
   ]
  },
  {
   "cell_type": "markdown",
   "id": "b27e7792",
   "metadata": {
    "papermill": {
     "duration": 0.019147,
     "end_time": "2022-08-05T09:52:49.301050",
     "exception": false,
     "start_time": "2022-08-05T09:52:49.281903",
     "status": "completed"
    },
    "tags": []
   },
   "source": [
    "# DataLoader"
   ]
  },
  {
   "cell_type": "code",
   "execution_count": 32,
   "id": "c1a87870",
   "metadata": {
    "execution": {
     "iopub.execute_input": "2022-08-05T09:52:49.331963Z",
     "iopub.status.busy": "2022-08-05T09:52:49.331657Z",
     "iopub.status.idle": "2022-08-05T09:52:49.338361Z",
     "shell.execute_reply": "2022-08-05T09:52:49.337420Z"
    },
    "papermill": {
     "duration": 0.024757,
     "end_time": "2022-08-05T09:52:49.340801",
     "exception": false,
     "start_time": "2022-08-05T09:52:49.316044",
     "status": "completed"
    },
    "tags": []
   },
   "outputs": [],
   "source": [
    "# REMARK shuffle = False [result might change with shuffle =True]\n",
    "train_loader = torch.utils.data.DataLoader(\n",
    "               dataset=train_data,\n",
    "               batch_size=16,#CONFIG[\"BATCH_SIZE\"],\n",
    "               shuffle=False,\n",
    "               num_workers=2)\n",
    "\n",
    "test_loader = torch.utils.data.DataLoader(\n",
    "              dataset=test_data,\n",
    "              batch_size=CONFIG[\"BATCH_SIZE\"],\n",
    "              shuffle=False,\n",
    "              num_workers=2)"
   ]
  },
  {
   "cell_type": "code",
   "execution_count": 33,
   "id": "a6a9e2ae",
   "metadata": {},
   "outputs": [
    {
     "name": "stdout",
     "output_type": "stream",
     "text": [
      "torch.uint8\n"
     ]
    },
    {
     "data": {
      "image/png": "[encoded data removed]",
      "text/plain": [
       "<Figure size 1152x1152 with 16 Axes>"
      ]
     },
     "metadata": {
      "needs_background": "light"
     },
     "output_type": "display_data"
    }
   ],
   "source": [
    "# ds = HuBMAPDataset(tfms=albu_aug())\n",
    "# dl = torch.utils.data.DataLoader(ds,batch_size=64,shuffle=False,num_workers=NUM_WORKERS)\n",
    "it = iter(train_loader)\n",
    "imgs,masks = next(it)\n",
    "print(masks.dtype)\n",
    "plt.figure(figsize=(16,16))\n",
    "for i,(img,mask) in enumerate(zip(imgs,masks)):\n",
    "    img = ((img.permute(1,2,0))).numpy().astype(np.uint8)  # H , W , C\n",
    "    plt.subplot(8,8,i+1)\n",
    "    plt.imshow(img,vmin=0,vmax=255)\n",
    "    plt.imshow(mask.squeeze().numpy(), alpha=0.2)\n",
    "    plt.axis('off')\n",
    "    plt.subplots_adjust(wspace=None, hspace=None)\n",
    "    \n",
    "# del ds,dl,imgs,masks"
   ]
  },
  {
   "cell_type": "code",
   "execution_count": 34,
   "id": "79f948df",
   "metadata": {
    "execution": {
     "iopub.execute_input": "2022-08-05T09:52:49.374997Z",
     "iopub.status.busy": "2022-08-05T09:52:49.374730Z",
     "iopub.status.idle": "2022-08-05T09:52:49.384377Z",
     "shell.execute_reply": "2022-08-05T09:52:49.381573Z"
    },
    "papermill": {
     "duration": 0.028638,
     "end_time": "2022-08-05T09:52:49.387408",
     "exception": false,
     "start_time": "2022-08-05T09:52:49.358770",
     "status": "completed"
    },
    "tags": []
   },
   "outputs": [],
   "source": [
    "def get_scheduler(optimizer):\n",
    "    num_steps = 12\n",
    "      \n",
    "    if CONFIG[\"scheduler\"] == 'CosineAnnealingLR':\n",
    "        scheduler = lr_scheduler.CosineAnnealingLR(optimizer,T_max=CONFIG['T_max'], \n",
    "                                                   eta_min=CONFIG['min_lr'])\n",
    "        \n",
    "    elif CONFIG[\"scheduler\"] == 'ReduceLROnPlateau':\n",
    "        scheduler = lr_scheduler.ReduceLROnPlateau(optimizer, mode='min', factor=0.1, patience=7, threshold=0.0001, min_lr=1e-6)\n",
    "    elif CONFIG[\"scheduler\"] == 'ExponentialLR':\n",
    "        scheduler = lr_scheduler.ExponentialLR(optimizer, gamma=0.85)\n",
    "    elif CONFIG['scheduler'] == 'CosineAnnealingWarmRestarts':\n",
    "        scheduler = lr_scheduler.CosineAnnealingWarmRestarts(optimizer,T_0=CONFIG['T_0'], \n",
    "                                                             eta_min=CONFIG['min_lr'])\n",
    "        \n",
    "    return scheduler"
   ]
  },
  {
   "cell_type": "markdown",
   "id": "69fb77db",
   "metadata": {
    "papermill": {
     "duration": 0.014869,
     "end_time": "2022-08-05T09:52:49.417956",
     "exception": false,
     "start_time": "2022-08-05T09:52:49.403087",
     "status": "completed"
    },
    "tags": []
   },
   "source": [
    "# Loss, Optimizer & Metric:"
   ]
  },
  {
   "cell_type": "code",
   "execution_count": 35,
   "id": "f28c9442",
   "metadata": {
    "execution": {
     "iopub.execute_input": "2022-08-05T09:52:49.449190Z",
     "iopub.status.busy": "2022-08-05T09:52:49.448291Z",
     "iopub.status.idle": "2022-08-05T09:52:49.462990Z",
     "shell.execute_reply": "2022-08-05T09:52:49.462154Z"
    },
    "papermill": {
     "duration": 0.03351,
     "end_time": "2022-08-05T09:52:49.465858",
     "exception": false,
     "start_time": "2022-08-05T09:52:49.432348",
     "status": "completed"
    },
    "tags": []
   },
   "outputs": [],
   "source": [
    "#PyTorch\n",
    "class DiceLoss(nn.Module):\n",
    "    def __init__(self, weight=None, size_average=True):\n",
    "        super(DiceLoss, self).__init__()\n",
    "\n",
    "    def forward(self, inputs, targets, smooth=1):\n",
    "        \n",
    "        #comment out if your model contains a sigmoid or equivalent activation layer\n",
    "        inputs = F.sigmoid(inputs)       \n",
    "        \n",
    "        #flatten label and prediction tensors\n",
    "        inputs = inputs.view(-1)\n",
    "        targets = targets.view(-1)\n",
    "        \n",
    "        intersection = (inputs * targets).sum()                            \n",
    "        dice = (2.*intersection + smooth)/(inputs.sum() + targets.sum() + smooth)  \n",
    "        \n",
    "        return 1 - dice\n",
    "\n",
    "loss_fn = DiceLoss() #Dice()\n",
    "JaccardLoss = smp.losses.JaccardLoss(mode='multilabel')\n",
    "DiceLoss    = smp.losses.DiceLoss(mode='multilabel')\n",
    "BCELoss     = smp.losses.SoftBCEWithLogitsLoss()\n",
    "LovaszLoss  = smp.losses.LovaszLoss(mode='multilabel', per_image=False)\n",
    "TverskyLoss = smp.losses.TverskyLoss(mode='multilabel', log_loss=False)\n",
    "\n",
    "optimizer = optim.Adam(model.parameters(), lr=CONFIG[\"LEARNING_RATE\"],weight_decay=1e-5)"
   ]
  },
  {
   "cell_type": "code",
   "execution_count": 36,
   "id": "85e48d73",
   "metadata": {
    "execution": {
     "iopub.execute_input": "2022-08-05T09:52:49.498009Z",
     "iopub.status.busy": "2022-08-05T09:52:49.497742Z",
     "iopub.status.idle": "2022-08-05T09:52:49.510793Z",
     "shell.execute_reply": "2022-08-05T09:52:49.509956Z"
    },
    "papermill": {
     "duration": 0.031154,
     "end_time": "2022-08-05T09:52:49.513498",
     "exception": false,
     "start_time": "2022-08-05T09:52:49.482344",
     "status": "completed"
    },
    "tags": []
   },
   "outputs": [],
   "source": [
    "class DiceCoef(nn.Module):\n",
    "    def __init__(self, weight=None, size_average=True):\n",
    "        super().__init__()\n",
    "\n",
    "    def forward(self, y_pred, y_true, smooth=1.):\n",
    "        y_true = y_true.view(-1)\n",
    "        y_pred = y_pred.view(-1)\n",
    "        \n",
    "        #Round off y_pred\n",
    "        y_pred = torch.round((y_pred - y_pred.min()) / (y_pred.max() - y_pred.min()))\n",
    "        \n",
    "        intersection = (y_true * y_pred).sum()\n",
    "        dice = (2.0*intersection + smooth)/(y_true.sum() + y_pred.sum() + smooth)\n",
    "        \n",
    "        return dice\n",
    "\n",
    "def dice_coef(y_true, y_pred, thr=0.5, dim=(2,3), epsilon=0.001):\n",
    "    y_true = y_true.to(torch.float32)\n",
    "    y_pred = (y_pred>thr).to(torch.float32)\n",
    "    inter = (y_true*y_pred).sum(dim=dim)\n",
    "    den = y_true.sum(dim=dim) + y_pred.sum(dim=dim)\n",
    "    dice = ((2*inter+epsilon)/(den+epsilon)).mean(dim=(1,0))\n",
    "    return dice\n",
    "\n",
    "def iou_coef(y_true, y_pred, thr=0.5, dim=(2,3), epsilon=0.001):\n",
    "    y_true = y_true.to(torch.float32)\n",
    "    y_pred = (y_pred>thr).to(torch.float32)\n",
    "    inter = (y_true*y_pred).sum(dim=dim)\n",
    "    union = (y_true + y_pred - y_true*y_pred).sum(dim=dim)\n",
    "    iou = ((inter+epsilon)/(union+epsilon)).mean(dim=(1,0))\n",
    "    return iou\n",
    "\n",
    "dice_coe = DiceCoef()"
   ]
  },
  {
   "cell_type": "markdown",
   "id": "b90557ca",
   "metadata": {
    "papermill": {
     "duration": 0.014435,
     "end_time": "2022-08-05T09:52:49.546341",
     "exception": false,
     "start_time": "2022-08-05T09:52:49.531906",
     "status": "completed"
    },
    "tags": []
   },
   "source": [
    "# model save class:"
   ]
  },
  {
   "cell_type": "code",
   "execution_count": 37,
   "id": "5ab72315",
   "metadata": {
    "execution": {
     "iopub.execute_input": "2022-08-05T09:52:49.576522Z",
     "iopub.status.busy": "2022-08-05T09:52:49.576239Z",
     "iopub.status.idle": "2022-08-05T09:52:49.584207Z",
     "shell.execute_reply": "2022-08-05T09:52:49.582191Z"
    },
    "papermill": {
     "duration": 0.027642,
     "end_time": "2022-08-05T09:52:49.588477",
     "exception": false,
     "start_time": "2022-08-05T09:52:49.560835",
     "status": "completed"
    },
    "tags": []
   },
   "outputs": [],
   "source": [
    "model_path = \"./model_weights_effunet_no_sch_tiled_bin_class\"\n",
    "if not os.path.exists(model_path):\n",
    "    os.makedirs(model_path)\n",
    "    \n",
    "def save_model(model, optimizer, criterion, epoch):\n",
    "    \"\"\"\n",
    "    Function to save the trained model to disk.\n",
    "    \"\"\"\n",
    "    print(f\"\\n Saving model at {epoch}th epoch\")\n",
    "    fname = f'{model_path}/{CONFIG[\"model_name\"]}-{CONFIG[\"LEARNING_RATE\"]}-{CONFIG[\"AUG\"]}-{epoch}-{CONFIG[\"BATCH_SIZE\"]}.pth'\n",
    "    torch.save({\n",
    "                'epoch': epoch,\n",
    "                'model_state_dict': model.state_dict(),\n",
    "                'optimizer_state_dict': optimizer.state_dict(),\n",
    "                'loss': criterion,\n",
    "                }, fname )\n",
    "    return fname"
   ]
  },
  {
   "cell_type": "markdown",
   "id": "8e66eb8b",
   "metadata": {
    "papermill": {
     "duration": 0.014229,
     "end_time": "2022-08-05T09:52:49.618481",
     "exception": false,
     "start_time": "2022-08-05T09:52:49.604252",
     "status": "completed"
    },
    "tags": []
   },
   "source": [
    "## Train & Validation Function:"
   ]
  },
  {
   "cell_type": "code",
   "execution_count": 38,
   "id": "67d5b161",
   "metadata": {
    "execution": {
     "iopub.execute_input": "2022-08-05T09:52:49.648689Z",
     "iopub.status.busy": "2022-08-05T09:52:49.648389Z",
     "iopub.status.idle": "2022-08-05T09:52:49.660422Z",
     "shell.execute_reply": "2022-08-05T09:52:49.655188Z"
    },
    "papermill": {
     "duration": 0.030525,
     "end_time": "2022-08-05T09:52:49.663403",
     "exception": false,
     "start_time": "2022-08-05T09:52:49.632878",
     "status": "completed"
    },
    "tags": []
   },
   "outputs": [],
   "source": [
    "# https://www.kaggle.com/code/debarshichanda/pytorch-w-b-birdclef-22-starter#Training-Function\n",
    "def train_fn(loader, model, optimizer, loss_fn,epoch):\n",
    "    bar = tqdm(enumerate(loader), total=len(loader))\n",
    "    \n",
    "    \n",
    "    running_loss = 0.0\n",
    "    dataset_size = 0\n",
    "    \n",
    "    for batch_idx, (data, targets) in bar:\n",
    "        data = data.float().to(device=CONFIG[\"DEVICE\"])\n",
    "        targets = targets.float().to(device=CONFIG[\"DEVICE\"])\n",
    "\n",
    "        # forward\n",
    "        predictions = model(data)\n",
    "\n",
    "        loss = loss_fn(predictions, targets)\n",
    "\n",
    "        \n",
    "        optimizer.zero_grad()\n",
    "        # backward\n",
    "        loss.backward()\n",
    "        # Update Weights\n",
    "        optimizer.step()\n",
    "        \n",
    "#         if scheduler is not None:\n",
    "#             scheduler.step()\n",
    "            \n",
    "        # Calculate Loss\n",
    "        running_loss += loss.item()\n",
    "        \n",
    "        epoch_loss = running_loss / len(loader)\n",
    "#         running_loss += (loss.item() * BATCH_SIZE)\n",
    "#         dataset_size += BATCH_SIZE\n",
    "        \n",
    "#         epoch_loss = running_loss / dataset_size\n",
    "        # update tqdm loop\n",
    "        bar.set_postfix(Epoch=epoch,loss=epoch_loss)\n",
    "    \n",
    "        \n",
    "    gc.collect()\n",
    "    \n",
    "    return epoch_loss"
   ]
  },
  {
   "cell_type": "code",
   "execution_count": 39,
   "id": "bc39b315",
   "metadata": {
    "execution": {
     "iopub.execute_input": "2022-08-05T09:52:49.696364Z",
     "iopub.status.busy": "2022-08-05T09:52:49.694987Z",
     "iopub.status.idle": "2022-08-05T09:52:49.708749Z",
     "shell.execute_reply": "2022-08-05T09:52:49.706200Z"
    },
    "papermill": {
     "duration": 0.032129,
     "end_time": "2022-08-05T09:52:49.711566",
     "exception": false,
     "start_time": "2022-08-05T09:52:49.679437",
     "status": "completed"
    },
    "tags": []
   },
   "outputs": [],
   "source": [
    "@torch.no_grad()\n",
    "def valid_one_epoch(model, dataloader, device, epoch, loss_fn):\n",
    "    model.eval()\n",
    "    \n",
    "    dataset_size = 0\n",
    "    running_loss = 0.0\n",
    "#     criterion = losses[CFG.loss]\n",
    "    \n",
    "    val_scores = []\n",
    "    \n",
    "    pbar = tqdm(enumerate(dataloader), total=len(dataloader))\n",
    "    for step, (images, masks) in pbar:\n",
    "        images  = images.to(CONFIG[\"DEVICE\"], dtype=torch.float)\n",
    "        masks   = masks.to(CONFIG[\"DEVICE\"], dtype=torch.float)\n",
    "        \n",
    "        \n",
    "        y_pred  = model(images)\n",
    "        loss    = loss_fn(y_pred, masks)\n",
    "        \n",
    "        running_loss += (loss.item() * CONFIG[\"BATCH_SIZE\"])\n",
    "        dataset_size += CONFIG[\"BATCH_SIZE\"]\n",
    "        \n",
    "        epoch_loss = running_loss / dataset_size\n",
    "        \n",
    "        y_pred = nn.Sigmoid()(y_pred)\n",
    "        val_dice = dice_coef(masks, y_pred).cpu().detach().numpy()\n",
    "        val_jaccard = iou_coef(masks, y_pred).cpu().detach().numpy()\n",
    "        val_scores.append([val_dice, val_jaccard])\n",
    "        \n",
    "        mem = torch.cuda.memory_reserved() / 1E9 if torch.cuda.is_available() else 0\n",
    "        current_lr = optimizer.param_groups[0]['lr']\n",
    "        pbar.set_postfix(valid_loss=f'{epoch_loss:0.4f}',\n",
    "                        lr=f'{current_lr:0.5f}',\n",
    "                        gpu_memory=f'{mem:0.2f} GB')\n",
    "    val_scores  = np.mean(val_scores, axis=0)\n",
    "    torch.cuda.empty_cache()\n",
    "    gc.collect()\n",
    "    \n",
    "    return epoch_loss, val_scores"
   ]
  },
  {
   "cell_type": "markdown",
   "id": "b93abfac",
   "metadata": {
    "papermill": {
     "duration": 0.014254,
     "end_time": "2022-08-05T09:52:49.740931",
     "exception": false,
     "start_time": "2022-08-05T09:52:49.726677",
     "status": "completed"
    },
    "tags": []
   },
   "source": [
    "# Train loop:"
   ]
  },
  {
   "cell_type": "code",
   "execution_count": 40,
   "id": "ee5e74b0",
   "metadata": {
    "execution": {
     "iopub.execute_input": "2022-08-05T09:52:49.778064Z",
     "iopub.status.busy": "2022-08-05T09:52:49.777776Z",
     "iopub.status.idle": "2022-08-05T12:31:24.751217Z",
     "shell.execute_reply": "2022-08-05T12:31:24.750210Z"
    },
    "papermill": {
     "duration": 9514.993823,
     "end_time": "2022-08-05T12:31:24.753406",
     "exception": false,
     "start_time": "2022-08-05T09:52:49.759583",
     "status": "completed"
    },
    "tags": []
   },
   "outputs": [
    {
     "name": "stdout",
     "output_type": "stream",
     "text": [
      "\u001b[0m===================== Epoch: [1/100] =====================\n"
     ]
    },
    {
     "name": "stderr",
     "output_type": "stream",
     "text": [
      "100%|██████████| 158/158 [09:42<00:00,  3.69s/it, Epoch=1, loss=0.572]\n",
      "100%|██████████| 79/79 [03:01<00:00,  2.29s/it, gpu_memory=3.34 GB, lr=0.00010, valid_loss=0.3423]\n"
     ]
    },
    {
     "name": "stdout",
     "output_type": "stream",
     "text": [
      "\n",
      " Saving model at 1th epoch\n",
      "\n",
      " Final Train Loss: 0.5725  |  Final Val Loss: 0.3423\n",
      "Valid Dice: 0.2740 | Valid Jaccard: 0.2118\n",
      "\u001b[34mval dice increased: -inf ---> 0.2740319073200226\n",
      "\u001b[34mval jaccard increased: -inf ---> 0.21177852153778076\n",
      "\u001b[0m===================== Epoch: [2/100] =====================\n"
     ]
    },
    {
     "name": "stderr",
     "output_type": "stream",
     "text": [
      "100%|██████████| 158/158 [00:47<00:00,  3.31it/s, Epoch=2, loss=0.16] \n",
      "100%|██████████| 79/79 [00:08<00:00,  8.86it/s, gpu_memory=3.37 GB, lr=0.00010, valid_loss=0.1487]\n"
     ]
    },
    {
     "name": "stdout",
     "output_type": "stream",
     "text": [
      "\n",
      " Saving model at 2th epoch\n",
      "\n",
      " Final Train Loss: 0.1599  |  Final Val Loss: 0.1487\n",
      "Valid Dice: 0.4604 | Valid Jaccard: 0.4063\n",
      "\u001b[34mval dice increased: 0.2740319073200226 ---> 0.46039271354675293\n",
      "\u001b[34mval jaccard increased: 0.21177852153778076 ---> 0.40630924701690674\n",
      "\u001b[0m===================== Epoch: [3/100] =====================\n"
     ]
    },
    {
     "name": "stderr",
     "output_type": "stream",
     "text": [
      "100%|██████████| 158/158 [00:46<00:00,  3.40it/s, Epoch=3, loss=0.129] \n",
      "100%|██████████| 79/79 [00:08<00:00,  8.89it/s, gpu_memory=3.37 GB, lr=0.00010, valid_loss=0.1121]\n"
     ]
    },
    {
     "name": "stdout",
     "output_type": "stream",
     "text": [
      "\n",
      " Saving model at 3th epoch\n",
      "\n",
      " Final Train Loss: 0.1287  |  Final Val Loss: 0.1121\n",
      "Valid Dice: 0.5449 | Valid Jaccard: 0.4904\n",
      "\u001b[34mval dice increased: 0.46039271354675293 ---> 0.5448552370071411\n",
      "\u001b[34mval jaccard increased: 0.40630924701690674 ---> 0.49039173126220703\n",
      "\u001b[0m===================== Epoch: [4/100] =====================\n"
     ]
    },
    {
     "name": "stderr",
     "output_type": "stream",
     "text": [
      "100%|██████████| 158/158 [00:45<00:00,  3.44it/s, Epoch=4, loss=0.113] \n",
      "100%|██████████| 79/79 [00:08<00:00,  8.80it/s, gpu_memory=3.37 GB, lr=0.00010, valid_loss=0.1037]\n"
     ]
    },
    {
     "name": "stdout",
     "output_type": "stream",
     "text": [
      "\n",
      " Saving model at 4th epoch\n",
      "\n",
      " Final Train Loss: 0.1132  |  Final Val Loss: 0.1037\n",
      "Valid Dice: 0.6238 | Valid Jaccard: 0.5693\n",
      "\u001b[34mval dice increased: 0.5448552370071411 ---> 0.6238093972206116\n",
      "\u001b[34mval jaccard increased: 0.49039173126220703 ---> 0.5693173408508301\n",
      "\u001b[0m===================== Epoch: [5/100] =====================\n"
     ]
    },
    {
     "name": "stderr",
     "output_type": "stream",
     "text": [
      "100%|██████████| 158/158 [00:45<00:00,  3.51it/s, Epoch=5, loss=0.104] \n",
      "100%|██████████| 79/79 [00:08<00:00,  8.93it/s, gpu_memory=3.37 GB, lr=0.00010, valid_loss=0.1021]\n"
     ]
    },
    {
     "name": "stdout",
     "output_type": "stream",
     "text": [
      "\n",
      " Saving model at 5th epoch\n",
      "\n",
      " Final Train Loss: 0.1040  |  Final Val Loss: 0.1021\n",
      "Valid Dice: 0.6718 | Valid Jaccard: 0.6192\n",
      "\u001b[34mval dice increased: 0.6238093972206116 ---> 0.6717789769172668\n",
      "\u001b[34mval jaccard increased: 0.5693173408508301 ---> 0.6192241907119751\n",
      "\u001b[0m===================== Epoch: [6/100] =====================\n"
     ]
    },
    {
     "name": "stderr",
     "output_type": "stream",
     "text": [
      "100%|██████████| 158/158 [00:45<00:00,  3.44it/s, Epoch=6, loss=0.0995]\n",
      "100%|██████████| 79/79 [00:08<00:00,  8.79it/s, gpu_memory=3.37 GB, lr=0.00010, valid_loss=0.0944]\n"
     ]
    },
    {
     "name": "stdout",
     "output_type": "stream",
     "text": [
      "\n",
      " Saving model at 6th epoch\n",
      "\n",
      " Final Train Loss: 0.0995  |  Final Val Loss: 0.0944\n",
      "Valid Dice: 0.6656 | Valid Jaccard: 0.6120\n",
      "\u001b[0m===================== Epoch: [7/100] =====================\n"
     ]
    },
    {
     "name": "stderr",
     "output_type": "stream",
     "text": [
      "100%|██████████| 158/158 [00:46<00:00,  3.38it/s, Epoch=7, loss=0.0931]\n",
      "100%|██████████| 79/79 [00:08<00:00,  8.80it/s, gpu_memory=3.37 GB, lr=0.00010, valid_loss=0.0989]\n"
     ]
    },
    {
     "name": "stdout",
     "output_type": "stream",
     "text": [
      "\n",
      " Saving model at 7th epoch\n",
      "\n",
      " Final Train Loss: 0.0931  |  Final Val Loss: 0.0989\n",
      "Valid Dice: 0.7026 | Valid Jaccard: 0.6528\n",
      "\u001b[34mval dice increased: 0.6717789769172668 ---> 0.702570915222168\n",
      "\u001b[34mval jaccard increased: 0.6192241907119751 ---> 0.6528330445289612\n",
      "\u001b[0m===================== Epoch: [8/100] =====================\n"
     ]
    },
    {
     "name": "stderr",
     "output_type": "stream",
     "text": [
      "100%|██████████| 158/158 [00:46<00:00,  3.39it/s, Epoch=8, loss=0.086] \n",
      "100%|██████████| 79/79 [00:08<00:00,  8.83it/s, gpu_memory=3.37 GB, lr=0.00010, valid_loss=0.1023]\n"
     ]
    },
    {
     "name": "stdout",
     "output_type": "stream",
     "text": [
      "\n",
      " Saving model at 8th epoch\n",
      "\n",
      " Final Train Loss: 0.0860  |  Final Val Loss: 0.1023\n",
      "Valid Dice: 0.7172 | Valid Jaccard: 0.6675\n",
      "\u001b[34mval dice increased: 0.702570915222168 ---> 0.7171646356582642\n",
      "\u001b[34mval jaccard increased: 0.6528330445289612 ---> 0.6674961447715759\n",
      "\u001b[0m===================== Epoch: [9/100] =====================\n"
     ]
    },
    {
     "name": "stderr",
     "output_type": "stream",
     "text": [
      "100%|██████████| 158/158 [00:45<00:00,  3.48it/s, Epoch=9, loss=0.0822]\n",
      "100%|██████████| 79/79 [00:08<00:00,  8.82it/s, gpu_memory=3.37 GB, lr=0.00010, valid_loss=0.0999]\n"
     ]
    },
    {
     "name": "stdout",
     "output_type": "stream",
     "text": [
      "\n",
      " Saving model at 9th epoch\n",
      "\n",
      " Final Train Loss: 0.0822  |  Final Val Loss: 0.0999\n",
      "Valid Dice: 0.7237 | Valid Jaccard: 0.6771\n",
      "\u001b[34mval dice increased: 0.7171646356582642 ---> 0.723724901676178\n",
      "\u001b[34mval jaccard increased: 0.6674961447715759 ---> 0.6770637631416321\n",
      "\u001b[0m===================== Epoch: [10/100] =====================\n"
     ]
    },
    {
     "name": "stderr",
     "output_type": "stream",
     "text": [
      "100%|██████████| 158/158 [00:46<00:00,  3.41it/s, Epoch=10, loss=0.0774]\n",
      "100%|██████████| 79/79 [00:08<00:00,  8.97it/s, gpu_memory=3.37 GB, lr=0.00010, valid_loss=0.0953]\n"
     ]
    },
    {
     "name": "stdout",
     "output_type": "stream",
     "text": [
      "\n",
      " Saving model at 10th epoch\n",
      "\n",
      " Final Train Loss: 0.0774  |  Final Val Loss: 0.0953\n",
      "Valid Dice: 0.7311 | Valid Jaccard: 0.6841\n",
      "\u001b[34mval dice increased: 0.723724901676178 ---> 0.7311299443244934\n",
      "\u001b[34mval jaccard increased: 0.6770637631416321 ---> 0.6841458678245544\n",
      "\u001b[0m===================== Epoch: [11/100] =====================\n"
     ]
    },
    {
     "name": "stderr",
     "output_type": "stream",
     "text": [
      "100%|██████████| 158/158 [00:46<00:00,  3.37it/s, Epoch=11, loss=0.0757]\n",
      "100%|██████████| 79/79 [00:08<00:00,  8.92it/s, gpu_memory=3.37 GB, lr=0.00010, valid_loss=0.0994]\n"
     ]
    },
    {
     "name": "stdout",
     "output_type": "stream",
     "text": [
      "\n",
      " Saving model at 11th epoch\n",
      "\n",
      " Final Train Loss: 0.0757  |  Final Val Loss: 0.0994\n",
      "Valid Dice: 0.7293 | Valid Jaccard: 0.6821\n",
      "\u001b[0m===================== Epoch: [12/100] =====================\n"
     ]
    },
    {
     "name": "stderr",
     "output_type": "stream",
     "text": [
      "100%|██████████| 158/158 [00:46<00:00,  3.38it/s, Epoch=12, loss=0.0747]\n",
      "100%|██████████| 79/79 [00:08<00:00,  8.91it/s, gpu_memory=3.37 GB, lr=0.00010, valid_loss=0.0945]\n"
     ]
    },
    {
     "name": "stdout",
     "output_type": "stream",
     "text": [
      "\n",
      " Saving model at 12th epoch\n",
      "\n",
      " Final Train Loss: 0.0747  |  Final Val Loss: 0.0945\n",
      "Valid Dice: 0.7239 | Valid Jaccard: 0.6764\n",
      "\u001b[0m===================== Epoch: [13/100] =====================\n"
     ]
    },
    {
     "name": "stderr",
     "output_type": "stream",
     "text": [
      "100%|██████████| 158/158 [00:45<00:00,  3.48it/s, Epoch=13, loss=0.0699]\n",
      "100%|██████████| 79/79 [00:09<00:00,  8.76it/s, gpu_memory=3.37 GB, lr=0.00010, valid_loss=0.0854]\n"
     ]
    },
    {
     "name": "stdout",
     "output_type": "stream",
     "text": [
      "\n",
      " Saving model at 13th epoch\n",
      "\n",
      " Final Train Loss: 0.0699  |  Final Val Loss: 0.0854\n",
      "Valid Dice: 0.7215 | Valid Jaccard: 0.6754\n",
      "\u001b[0m===================== Epoch: [14/100] =====================\n"
     ]
    },
    {
     "name": "stderr",
     "output_type": "stream",
     "text": [
      "100%|██████████| 158/158 [00:50<00:00,  3.10it/s, Epoch=14, loss=0.0702]\n",
      "100%|██████████| 79/79 [00:09<00:00,  8.10it/s, gpu_memory=3.37 GB, lr=0.00010, valid_loss=0.0962]\n"
     ]
    },
    {
     "name": "stdout",
     "output_type": "stream",
     "text": [
      "\n",
      " Saving model at 14th epoch\n",
      "\n",
      " Final Train Loss: 0.0702  |  Final Val Loss: 0.0962\n",
      "Valid Dice: 0.7240 | Valid Jaccard: 0.6781\n",
      "\u001b[0m===================== Epoch: [15/100] =====================\n"
     ]
    },
    {
     "name": "stderr",
     "output_type": "stream",
     "text": [
      "100%|██████████| 158/158 [00:46<00:00,  3.42it/s, Epoch=15, loss=0.0651]\n",
      "100%|██████████| 79/79 [00:08<00:00,  9.07it/s, gpu_memory=3.37 GB, lr=0.00010, valid_loss=0.0950]\n"
     ]
    },
    {
     "name": "stdout",
     "output_type": "stream",
     "text": [
      "\n",
      " Saving model at 15th epoch\n",
      "\n",
      " Final Train Loss: 0.0651  |  Final Val Loss: 0.0950\n",
      "Valid Dice: 0.6812 | Valid Jaccard: 0.6332\n",
      "\u001b[0m===================== Epoch: [16/100] =====================\n"
     ]
    },
    {
     "name": "stderr",
     "output_type": "stream",
     "text": [
      "100%|██████████| 158/158 [00:46<00:00,  3.41it/s, Epoch=16, loss=0.0667]\n",
      "100%|██████████| 79/79 [00:08<00:00,  9.10it/s, gpu_memory=3.37 GB, lr=0.00010, valid_loss=0.1127]\n"
     ]
    },
    {
     "name": "stdout",
     "output_type": "stream",
     "text": [
      "\n",
      " Saving model at 16th epoch\n",
      "\n",
      " Final Train Loss: 0.0667  |  Final Val Loss: 0.1127\n",
      "Valid Dice: 0.7130 | Valid Jaccard: 0.6677\n",
      "\u001b[0m===================== Epoch: [17/100] =====================\n"
     ]
    },
    {
     "name": "stderr",
     "output_type": "stream",
     "text": [
      "100%|██████████| 158/158 [00:44<00:00,  3.56it/s, Epoch=17, loss=0.0631]\n",
      "100%|██████████| 79/79 [00:10<00:00,  7.86it/s, gpu_memory=3.37 GB, lr=0.00010, valid_loss=0.0823]\n"
     ]
    },
    {
     "name": "stdout",
     "output_type": "stream",
     "text": [
      "\n",
      " Saving model at 17th epoch\n",
      "\n",
      " Final Train Loss: 0.0631  |  Final Val Loss: 0.0823\n",
      "Valid Dice: 0.7389 | Valid Jaccard: 0.6917\n",
      "\u001b[34mval dice increased: 0.7311299443244934 ---> 0.7388610243797302\n",
      "\u001b[34mval jaccard increased: 0.6841458678245544 ---> 0.6917158365249634\n",
      "\u001b[0m===================== Epoch: [18/100] =====================\n"
     ]
    },
    {
     "name": "stderr",
     "output_type": "stream",
     "text": [
      "100%|██████████| 158/158 [00:45<00:00,  3.46it/s, Epoch=18, loss=0.0595]\n",
      "100%|██████████| 79/79 [00:08<00:00,  9.10it/s, gpu_memory=3.37 GB, lr=0.00010, valid_loss=0.0863]\n"
     ]
    },
    {
     "name": "stdout",
     "output_type": "stream",
     "text": [
      "\n",
      " Saving model at 18th epoch\n",
      "\n",
      " Final Train Loss: 0.0595  |  Final Val Loss: 0.0863\n",
      "Valid Dice: 0.7394 | Valid Jaccard: 0.6929\n",
      "\u001b[34mval dice increased: 0.7388610243797302 ---> 0.7393980622291565\n",
      "\u001b[34mval jaccard increased: 0.6917158365249634 ---> 0.6928930878639221\n",
      "\u001b[0m===================== Epoch: [19/100] =====================\n"
     ]
    },
    {
     "name": "stderr",
     "output_type": "stream",
     "text": [
      "100%|██████████| 158/158 [00:44<00:00,  3.53it/s, Epoch=19, loss=0.0612]\n",
      "100%|██████████| 79/79 [00:08<00:00,  9.08it/s, gpu_memory=3.37 GB, lr=0.00010, valid_loss=0.0847]\n"
     ]
    },
    {
     "name": "stdout",
     "output_type": "stream",
     "text": [
      "\n",
      " Saving model at 19th epoch\n",
      "\n",
      " Final Train Loss: 0.0612  |  Final Val Loss: 0.0847\n",
      "Valid Dice: 0.7430 | Valid Jaccard: 0.6986\n",
      "\u001b[34mval dice increased: 0.7393980622291565 ---> 0.7430151700973511\n",
      "\u001b[34mval jaccard increased: 0.6928930878639221 ---> 0.6985777616500854\n",
      "\u001b[0m===================== Epoch: [20/100] =====================\n"
     ]
    },
    {
     "name": "stderr",
     "output_type": "stream",
     "text": [
      "100%|██████████| 158/158 [00:45<00:00,  3.48it/s, Epoch=20, loss=0.0575]\n",
      "100%|██████████| 79/79 [00:08<00:00,  9.05it/s, gpu_memory=3.37 GB, lr=0.00010, valid_loss=0.0945]\n"
     ]
    },
    {
     "name": "stdout",
     "output_type": "stream",
     "text": [
      "\n",
      " Saving model at 20th epoch\n",
      "\n",
      " Final Train Loss: 0.0575  |  Final Val Loss: 0.0945\n",
      "Valid Dice: 0.7496 | Valid Jaccard: 0.7042\n",
      "\u001b[34mval dice increased: 0.7430151700973511 ---> 0.7496224641799927\n",
      "\u001b[34mval jaccard increased: 0.6985777616500854 ---> 0.704227089881897\n",
      "\u001b[0m===================== Epoch: [21/100] =====================\n"
     ]
    },
    {
     "name": "stderr",
     "output_type": "stream",
     "text": [
      "100%|██████████| 158/158 [00:45<00:00,  3.49it/s, Epoch=21, loss=0.061] \n",
      "100%|██████████| 79/79 [00:08<00:00,  9.12it/s, gpu_memory=3.37 GB, lr=0.00010, valid_loss=0.0782]\n"
     ]
    },
    {
     "name": "stdout",
     "output_type": "stream",
     "text": [
      "\n",
      " Saving model at 21th epoch\n",
      "\n",
      " Final Train Loss: 0.0610  |  Final Val Loss: 0.0782\n",
      "Valid Dice: 0.7461 | Valid Jaccard: 0.7012\n",
      "\u001b[0m===================== Epoch: [22/100] =====================\n"
     ]
    },
    {
     "name": "stderr",
     "output_type": "stream",
     "text": [
      "100%|██████████| 158/158 [00:44<00:00,  3.55it/s, Epoch=22, loss=0.0561]\n",
      "100%|██████████| 79/79 [00:08<00:00,  8.83it/s, gpu_memory=3.37 GB, lr=0.00010, valid_loss=0.0836]\n"
     ]
    },
    {
     "name": "stdout",
     "output_type": "stream",
     "text": [
      "\n",
      " Saving model at 22th epoch\n",
      "\n",
      " Final Train Loss: 0.0561  |  Final Val Loss: 0.0836\n",
      "Valid Dice: 0.7406 | Valid Jaccard: 0.6958\n",
      "\u001b[0m===================== Epoch: [23/100] =====================\n"
     ]
    },
    {
     "name": "stderr",
     "output_type": "stream",
     "text": [
      "100%|██████████| 158/158 [00:43<00:00,  3.61it/s, Epoch=23, loss=0.0544]\n",
      "100%|██████████| 79/79 [00:08<00:00,  9.08it/s, gpu_memory=3.37 GB, lr=0.00010, valid_loss=0.0817]\n"
     ]
    },
    {
     "name": "stdout",
     "output_type": "stream",
     "text": [
      "\n",
      " Saving model at 23th epoch\n",
      "\n",
      " Final Train Loss: 0.0544  |  Final Val Loss: 0.0817\n",
      "Valid Dice: 0.7450 | Valid Jaccard: 0.7002\n",
      "\u001b[0m===================== Epoch: [24/100] =====================\n"
     ]
    },
    {
     "name": "stderr",
     "output_type": "stream",
     "text": [
      "100%|██████████| 158/158 [00:45<00:00,  3.48it/s, Epoch=24, loss=0.0544]\n",
      "100%|██████████| 79/79 [00:08<00:00,  9.08it/s, gpu_memory=3.37 GB, lr=0.00010, valid_loss=0.0807]\n"
     ]
    },
    {
     "name": "stdout",
     "output_type": "stream",
     "text": [
      "\n",
      " Saving model at 24th epoch\n",
      "\n",
      " Final Train Loss: 0.0544  |  Final Val Loss: 0.0807\n",
      "Valid Dice: 0.7540 | Valid Jaccard: 0.7082\n",
      "\u001b[34mval dice increased: 0.7496224641799927 ---> 0.7539520263671875\n",
      "\u001b[34mval jaccard increased: 0.704227089881897 ---> 0.7081528902053833\n",
      "\u001b[0m===================== Epoch: [25/100] =====================\n"
     ]
    },
    {
     "name": "stderr",
     "output_type": "stream",
     "text": [
      "100%|██████████| 158/158 [00:44<00:00,  3.56it/s, Epoch=25, loss=0.0537]\n",
      "100%|██████████| 79/79 [00:08<00:00,  9.00it/s, gpu_memory=3.37 GB, lr=0.00010, valid_loss=0.0869]\n"
     ]
    },
    {
     "name": "stdout",
     "output_type": "stream",
     "text": [
      "\n",
      " Saving model at 25th epoch\n",
      "\n",
      " Final Train Loss: 0.0537  |  Final Val Loss: 0.0869\n",
      "Valid Dice: 0.7437 | Valid Jaccard: 0.6990\n",
      "\u001b[0m===================== Epoch: [26/100] =====================\n"
     ]
    },
    {
     "name": "stderr",
     "output_type": "stream",
     "text": [
      "100%|██████████| 158/158 [00:44<00:00,  3.52it/s, Epoch=26, loss=0.0509]\n",
      "100%|██████████| 79/79 [00:08<00:00,  8.92it/s, gpu_memory=3.37 GB, lr=0.00010, valid_loss=0.0959]\n"
     ]
    },
    {
     "name": "stdout",
     "output_type": "stream",
     "text": [
      "\n",
      " Saving model at 26th epoch\n",
      "\n",
      " Final Train Loss: 0.0509  |  Final Val Loss: 0.0959\n",
      "Valid Dice: 0.7505 | Valid Jaccard: 0.7050\n",
      "\u001b[0m===================== Epoch: [27/100] =====================\n"
     ]
    },
    {
     "name": "stderr",
     "output_type": "stream",
     "text": [
      "100%|██████████| 158/158 [00:44<00:00,  3.52it/s, Epoch=27, loss=0.0507]\n",
      "100%|██████████| 79/79 [00:08<00:00,  9.08it/s, gpu_memory=3.37 GB, lr=0.00010, valid_loss=0.0885]\n"
     ]
    },
    {
     "name": "stdout",
     "output_type": "stream",
     "text": [
      "\n",
      " Saving model at 27th epoch\n",
      "\n",
      " Final Train Loss: 0.0507  |  Final Val Loss: 0.0885\n",
      "Valid Dice: 0.7390 | Valid Jaccard: 0.6948\n",
      "\u001b[0m===================== Epoch: [28/100] =====================\n"
     ]
    },
    {
     "name": "stderr",
     "output_type": "stream",
     "text": [
      "100%|██████████| 158/158 [00:45<00:00,  3.50it/s, Epoch=28, loss=0.0533]\n",
      "100%|██████████| 79/79 [00:08<00:00,  9.03it/s, gpu_memory=3.37 GB, lr=0.00010, valid_loss=0.0856]\n"
     ]
    },
    {
     "name": "stdout",
     "output_type": "stream",
     "text": [
      "\n",
      " Saving model at 28th epoch\n",
      "\n",
      " Final Train Loss: 0.0533  |  Final Val Loss: 0.0856\n",
      "Valid Dice: 0.7596 | Valid Jaccard: 0.7146\n",
      "\u001b[34mval dice increased: 0.7539520263671875 ---> 0.7596228122711182\n",
      "\u001b[34mval jaccard increased: 0.7081528902053833 ---> 0.7146256566047668\n",
      "\u001b[0m===================== Epoch: [29/100] =====================\n"
     ]
    },
    {
     "name": "stderr",
     "output_type": "stream",
     "text": [
      "100%|██████████| 158/158 [00:44<00:00,  3.56it/s, Epoch=29, loss=0.0553]\n",
      "100%|██████████| 79/79 [00:08<00:00,  9.04it/s, gpu_memory=3.37 GB, lr=0.00010, valid_loss=0.0873]\n"
     ]
    },
    {
     "name": "stdout",
     "output_type": "stream",
     "text": [
      "\n",
      " Saving model at 29th epoch\n",
      "\n",
      " Final Train Loss: 0.0553  |  Final Val Loss: 0.0873\n",
      "Valid Dice: 0.7491 | Valid Jaccard: 0.7049\n",
      "\u001b[0m===================== Epoch: [30/100] =====================\n"
     ]
    },
    {
     "name": "stderr",
     "output_type": "stream",
     "text": [
      "100%|██████████| 158/158 [00:44<00:00,  3.52it/s, Epoch=30, loss=0.0535]\n",
      "100%|██████████| 79/79 [00:08<00:00,  9.05it/s, gpu_memory=3.37 GB, lr=0.00010, valid_loss=0.0908]\n"
     ]
    },
    {
     "name": "stdout",
     "output_type": "stream",
     "text": [
      "\n",
      " Saving model at 30th epoch\n",
      "\n",
      " Final Train Loss: 0.0535  |  Final Val Loss: 0.0908\n",
      "Valid Dice: 0.7605 | Valid Jaccard: 0.7179\n",
      "\u001b[34mval dice increased: 0.7596228122711182 ---> 0.7605427503585815\n",
      "\u001b[34mval jaccard increased: 0.7146256566047668 ---> 0.717865526676178\n",
      "\u001b[0m===================== Epoch: [31/100] =====================\n"
     ]
    },
    {
     "name": "stderr",
     "output_type": "stream",
     "text": [
      "100%|██████████| 158/158 [00:45<00:00,  3.51it/s, Epoch=31, loss=0.048] \n",
      "100%|██████████| 79/79 [00:08<00:00,  9.09it/s, gpu_memory=3.37 GB, lr=0.00010, valid_loss=0.0848]\n"
     ]
    },
    {
     "name": "stdout",
     "output_type": "stream",
     "text": [
      "\n",
      " Saving model at 31th epoch\n",
      "\n",
      " Final Train Loss: 0.0480  |  Final Val Loss: 0.0848\n",
      "Valid Dice: 0.7558 | Valid Jaccard: 0.7121\n",
      "\u001b[0m===================== Epoch: [32/100] =====================\n"
     ]
    },
    {
     "name": "stderr",
     "output_type": "stream",
     "text": [
      "100%|██████████| 158/158 [00:45<00:00,  3.51it/s, Epoch=32, loss=0.0492]\n",
      "100%|██████████| 79/79 [00:08<00:00,  9.06it/s, gpu_memory=3.37 GB, lr=0.00010, valid_loss=0.0836]\n"
     ]
    },
    {
     "name": "stdout",
     "output_type": "stream",
     "text": [
      "\n",
      " Saving model at 32th epoch\n",
      "\n",
      " Final Train Loss: 0.0492  |  Final Val Loss: 0.0836\n",
      "Valid Dice: 0.7668 | Valid Jaccard: 0.7247\n",
      "\u001b[34mval dice increased: 0.7605427503585815 ---> 0.7668046355247498\n",
      "\u001b[34mval jaccard increased: 0.717865526676178 ---> 0.7246951460838318\n",
      "\u001b[0m===================== Epoch: [33/100] =====================\n"
     ]
    },
    {
     "name": "stderr",
     "output_type": "stream",
     "text": [
      "100%|██████████| 158/158 [00:45<00:00,  3.50it/s, Epoch=33, loss=0.049] \n",
      "100%|██████████| 79/79 [00:08<00:00,  9.06it/s, gpu_memory=3.37 GB, lr=0.00010, valid_loss=0.0814]\n"
     ]
    },
    {
     "name": "stdout",
     "output_type": "stream",
     "text": [
      "\n",
      " Saving model at 33th epoch\n",
      "\n",
      " Final Train Loss: 0.0490  |  Final Val Loss: 0.0814\n",
      "Valid Dice: 0.7677 | Valid Jaccard: 0.7245\n",
      "\u001b[34mval dice increased: 0.7668046355247498 ---> 0.767668604850769\n",
      "\u001b[0m===================== Epoch: [34/100] =====================\n"
     ]
    },
    {
     "name": "stderr",
     "output_type": "stream",
     "text": [
      "100%|██████████| 158/158 [00:44<00:00,  3.54it/s, Epoch=34, loss=0.0478]\n",
      "100%|██████████| 79/79 [00:08<00:00,  9.09it/s, gpu_memory=3.37 GB, lr=0.00010, valid_loss=0.0815]\n"
     ]
    },
    {
     "name": "stdout",
     "output_type": "stream",
     "text": [
      "\n",
      " Saving model at 34th epoch\n",
      "\n",
      " Final Train Loss: 0.0478  |  Final Val Loss: 0.0815\n",
      "Valid Dice: 0.7630 | Valid Jaccard: 0.7203\n",
      "\u001b[0m===================== Epoch: [35/100] =====================\n"
     ]
    },
    {
     "name": "stderr",
     "output_type": "stream",
     "text": [
      "100%|██████████| 158/158 [00:44<00:00,  3.53it/s, Epoch=35, loss=0.0502]\n",
      "100%|██████████| 79/79 [00:08<00:00,  9.02it/s, gpu_memory=3.37 GB, lr=0.00010, valid_loss=0.0935]\n"
     ]
    },
    {
     "name": "stdout",
     "output_type": "stream",
     "text": [
      "\n",
      " Saving model at 35th epoch\n",
      "\n",
      " Final Train Loss: 0.0502  |  Final Val Loss: 0.0935\n",
      "Valid Dice: 0.7444 | Valid Jaccard: 0.7002\n",
      "\u001b[0m===================== Epoch: [36/100] =====================\n"
     ]
    },
    {
     "name": "stderr",
     "output_type": "stream",
     "text": [
      "100%|██████████| 158/158 [00:45<00:00,  3.45it/s, Epoch=36, loss=0.0487]\n",
      "100%|██████████| 79/79 [00:08<00:00,  9.07it/s, gpu_memory=3.37 GB, lr=0.00010, valid_loss=0.0953]\n"
     ]
    },
    {
     "name": "stdout",
     "output_type": "stream",
     "text": [
      "\n",
      " Saving model at 36th epoch\n",
      "\n",
      " Final Train Loss: 0.0487  |  Final Val Loss: 0.0953\n",
      "Valid Dice: 0.7615 | Valid Jaccard: 0.7187\n",
      "\u001b[0m===================== Epoch: [37/100] =====================\n"
     ]
    },
    {
     "name": "stderr",
     "output_type": "stream",
     "text": [
      "100%|██████████| 158/158 [00:44<00:00,  3.53it/s, Epoch=37, loss=0.0453]\n",
      "100%|██████████| 79/79 [00:08<00:00,  9.08it/s, gpu_memory=3.37 GB, lr=0.00010, valid_loss=0.0942]\n"
     ]
    },
    {
     "name": "stdout",
     "output_type": "stream",
     "text": [
      "\n",
      " Saving model at 37th epoch\n",
      "\n",
      " Final Train Loss: 0.0453  |  Final Val Loss: 0.0942\n",
      "Valid Dice: 0.7674 | Valid Jaccard: 0.7240\n",
      "\u001b[0m===================== Epoch: [38/100] =====================\n"
     ]
    },
    {
     "name": "stderr",
     "output_type": "stream",
     "text": [
      "100%|██████████| 158/158 [00:44<00:00,  3.56it/s, Epoch=38, loss=0.0438]\n",
      "100%|██████████| 79/79 [00:08<00:00,  9.03it/s, gpu_memory=3.37 GB, lr=0.00010, valid_loss=0.0883]\n"
     ]
    },
    {
     "name": "stdout",
     "output_type": "stream",
     "text": [
      "\n",
      " Saving model at 38th epoch\n",
      "\n",
      " Final Train Loss: 0.0438  |  Final Val Loss: 0.0883\n",
      "Valid Dice: 0.7553 | Valid Jaccard: 0.7119\n",
      "\u001b[0m===================== Epoch: [39/100] =====================\n"
     ]
    },
    {
     "name": "stderr",
     "output_type": "stream",
     "text": [
      "100%|██████████| 158/158 [00:45<00:00,  3.44it/s, Epoch=39, loss=0.0447]\n",
      "100%|██████████| 79/79 [00:08<00:00,  9.09it/s, gpu_memory=3.37 GB, lr=0.00010, valid_loss=0.0836]\n"
     ]
    },
    {
     "name": "stdout",
     "output_type": "stream",
     "text": [
      "\n",
      " Saving model at 39th epoch\n",
      "\n",
      " Final Train Loss: 0.0447  |  Final Val Loss: 0.0836\n",
      "Valid Dice: 0.7597 | Valid Jaccard: 0.7153\n",
      "\u001b[0m===================== Epoch: [40/100] =====================\n"
     ]
    },
    {
     "name": "stderr",
     "output_type": "stream",
     "text": [
      "100%|██████████| 158/158 [00:45<00:00,  3.46it/s, Epoch=40, loss=0.0434]\n",
      "100%|██████████| 79/79 [00:08<00:00,  9.08it/s, gpu_memory=3.37 GB, lr=0.00010, valid_loss=0.0930]\n"
     ]
    },
    {
     "name": "stdout",
     "output_type": "stream",
     "text": [
      "\n",
      " Saving model at 40th epoch\n",
      "\n",
      " Final Train Loss: 0.0434  |  Final Val Loss: 0.0930\n",
      "Valid Dice: 0.7650 | Valid Jaccard: 0.7208\n",
      "\u001b[0m===================== Epoch: [41/100] =====================\n"
     ]
    },
    {
     "name": "stderr",
     "output_type": "stream",
     "text": [
      "100%|██████████| 158/158 [00:45<00:00,  3.49it/s, Epoch=41, loss=0.0435]\n",
      "100%|██████████| 79/79 [00:08<00:00,  9.05it/s, gpu_memory=3.37 GB, lr=0.00010, valid_loss=0.0944]\n"
     ]
    },
    {
     "name": "stdout",
     "output_type": "stream",
     "text": [
      "\n",
      " Saving model at 41th epoch\n",
      "\n",
      " Final Train Loss: 0.0435  |  Final Val Loss: 0.0944\n",
      "Valid Dice: 0.7718 | Valid Jaccard: 0.7295\n",
      "\u001b[34mval dice increased: 0.767668604850769 ---> 0.7718429565429688\n",
      "\u001b[34mval jaccard increased: 0.7246951460838318 ---> 0.7295495867729187\n",
      "\u001b[0m===================== Epoch: [42/100] =====================\n"
     ]
    },
    {
     "name": "stderr",
     "output_type": "stream",
     "text": [
      "100%|██████████| 158/158 [00:44<00:00,  3.58it/s, Epoch=42, loss=0.0432]\n",
      "100%|██████████| 79/79 [00:08<00:00,  9.07it/s, gpu_memory=3.37 GB, lr=0.00010, valid_loss=0.0898]\n"
     ]
    },
    {
     "name": "stdout",
     "output_type": "stream",
     "text": [
      "\n",
      " Saving model at 42th epoch\n",
      "\n",
      " Final Train Loss: 0.0432  |  Final Val Loss: 0.0898\n",
      "Valid Dice: 0.7673 | Valid Jaccard: 0.7249\n",
      "\u001b[0m===================== Epoch: [43/100] =====================\n"
     ]
    },
    {
     "name": "stderr",
     "output_type": "stream",
     "text": [
      "100%|██████████| 158/158 [00:45<00:00,  3.45it/s, Epoch=43, loss=0.0432]\n",
      "100%|██████████| 79/79 [00:08<00:00,  9.08it/s, gpu_memory=3.37 GB, lr=0.00010, valid_loss=0.0862]\n"
     ]
    },
    {
     "name": "stdout",
     "output_type": "stream",
     "text": [
      "\n",
      " Saving model at 43th epoch\n",
      "\n",
      " Final Train Loss: 0.0432  |  Final Val Loss: 0.0862\n",
      "Valid Dice: 0.7605 | Valid Jaccard: 0.7189\n",
      "\u001b[0m===================== Epoch: [44/100] =====================\n"
     ]
    },
    {
     "name": "stderr",
     "output_type": "stream",
     "text": [
      "100%|██████████| 158/158 [00:45<00:00,  3.48it/s, Epoch=44, loss=0.0452]\n",
      "100%|██████████| 79/79 [00:08<00:00,  9.11it/s, gpu_memory=3.37 GB, lr=0.00010, valid_loss=0.0857]\n"
     ]
    },
    {
     "name": "stdout",
     "output_type": "stream",
     "text": [
      "\n",
      " Saving model at 44th epoch\n",
      "\n",
      " Final Train Loss: 0.0452  |  Final Val Loss: 0.0857\n",
      "Valid Dice: 0.7618 | Valid Jaccard: 0.7198\n",
      "\u001b[0m===================== Epoch: [45/100] =====================\n"
     ]
    },
    {
     "name": "stderr",
     "output_type": "stream",
     "text": [
      "100%|██████████| 158/158 [00:45<00:00,  3.50it/s, Epoch=45, loss=0.0423]\n",
      "100%|██████████| 79/79 [00:08<00:00,  9.02it/s, gpu_memory=3.37 GB, lr=0.00010, valid_loss=0.0853]\n"
     ]
    },
    {
     "name": "stdout",
     "output_type": "stream",
     "text": [
      "\n",
      " Saving model at 45th epoch\n",
      "\n",
      " Final Train Loss: 0.0423  |  Final Val Loss: 0.0853\n",
      "Valid Dice: 0.7679 | Valid Jaccard: 0.7257\n",
      "\u001b[0m===================== Epoch: [46/100] =====================\n"
     ]
    },
    {
     "name": "stderr",
     "output_type": "stream",
     "text": [
      "100%|██████████| 158/158 [00:44<00:00,  3.57it/s, Epoch=46, loss=0.0428]\n",
      "100%|██████████| 79/79 [00:08<00:00,  9.04it/s, gpu_memory=3.37 GB, lr=0.00010, valid_loss=0.0830]\n"
     ]
    },
    {
     "name": "stdout",
     "output_type": "stream",
     "text": [
      "\n",
      " Saving model at 46th epoch\n",
      "\n",
      " Final Train Loss: 0.0428  |  Final Val Loss: 0.0830\n",
      "Valid Dice: 0.7712 | Valid Jaccard: 0.7280\n",
      "\u001b[0m===================== Epoch: [47/100] =====================\n"
     ]
    },
    {
     "name": "stderr",
     "output_type": "stream",
     "text": [
      "100%|██████████| 158/158 [00:45<00:00,  3.50it/s, Epoch=47, loss=0.0416]\n",
      "100%|██████████| 79/79 [00:08<00:00,  9.03it/s, gpu_memory=3.37 GB, lr=0.00010, valid_loss=0.0897]\n"
     ]
    },
    {
     "name": "stdout",
     "output_type": "stream",
     "text": [
      "\n",
      " Saving model at 47th epoch\n",
      "\n",
      " Final Train Loss: 0.0416  |  Final Val Loss: 0.0897\n",
      "Valid Dice: 0.7705 | Valid Jaccard: 0.7285\n",
      "\u001b[0m===================== Epoch: [48/100] =====================\n"
     ]
    },
    {
     "name": "stderr",
     "output_type": "stream",
     "text": [
      "100%|██████████| 158/158 [00:44<00:00,  3.53it/s, Epoch=48, loss=0.0408]\n",
      "100%|██████████| 79/79 [00:08<00:00,  9.11it/s, gpu_memory=3.37 GB, lr=0.00010, valid_loss=0.0866]\n"
     ]
    },
    {
     "name": "stdout",
     "output_type": "stream",
     "text": [
      "\n",
      " Saving model at 48th epoch\n",
      "\n",
      " Final Train Loss: 0.0408  |  Final Val Loss: 0.0866\n",
      "Valid Dice: 0.7685 | Valid Jaccard: 0.7267\n",
      "\u001b[0m===================== Epoch: [49/100] =====================\n"
     ]
    },
    {
     "name": "stderr",
     "output_type": "stream",
     "text": [
      "100%|██████████| 158/158 [00:44<00:00,  3.55it/s, Epoch=49, loss=0.0402]\n",
      "100%|██████████| 79/79 [00:08<00:00,  9.08it/s, gpu_memory=3.37 GB, lr=0.00010, valid_loss=0.0854]\n"
     ]
    },
    {
     "name": "stdout",
     "output_type": "stream",
     "text": [
      "\n",
      " Saving model at 49th epoch\n",
      "\n",
      " Final Train Loss: 0.0402  |  Final Val Loss: 0.0854\n",
      "Valid Dice: 0.7648 | Valid Jaccard: 0.7239\n",
      "\u001b[0m===================== Epoch: [50/100] =====================\n"
     ]
    },
    {
     "name": "stderr",
     "output_type": "stream",
     "text": [
      "100%|██████████| 158/158 [00:45<00:00,  3.48it/s, Epoch=50, loss=0.0406]\n",
      "100%|██████████| 79/79 [00:08<00:00,  9.10it/s, gpu_memory=3.37 GB, lr=0.00010, valid_loss=0.0867]\n"
     ]
    },
    {
     "name": "stdout",
     "output_type": "stream",
     "text": [
      "\n",
      " Saving model at 50th epoch\n",
      "\n",
      " Final Train Loss: 0.0406  |  Final Val Loss: 0.0867\n",
      "Valid Dice: 0.7545 | Valid Jaccard: 0.7117\n",
      "\u001b[0m===================== Epoch: [51/100] =====================\n"
     ]
    },
    {
     "name": "stderr",
     "output_type": "stream",
     "text": [
      "100%|██████████| 158/158 [00:44<00:00,  3.56it/s, Epoch=51, loss=0.0416]\n",
      "100%|██████████| 79/79 [00:08<00:00,  9.08it/s, gpu_memory=3.37 GB, lr=0.00010, valid_loss=0.0929]\n"
     ]
    },
    {
     "name": "stdout",
     "output_type": "stream",
     "text": [
      "\n",
      " Saving model at 51th epoch\n",
      "\n",
      " Final Train Loss: 0.0416  |  Final Val Loss: 0.0929\n",
      "Valid Dice: 0.7653 | Valid Jaccard: 0.7242\n",
      "\u001b[0m===================== Epoch: [52/100] =====================\n"
     ]
    },
    {
     "name": "stderr",
     "output_type": "stream",
     "text": [
      "100%|██████████| 158/158 [00:45<00:00,  3.49it/s, Epoch=52, loss=0.0415]\n",
      "100%|██████████| 79/79 [00:08<00:00,  9.09it/s, gpu_memory=3.37 GB, lr=0.00010, valid_loss=0.0895]\n"
     ]
    },
    {
     "name": "stdout",
     "output_type": "stream",
     "text": [
      "\n",
      " Saving model at 52th epoch\n",
      "\n",
      " Final Train Loss: 0.0415  |  Final Val Loss: 0.0895\n",
      "Valid Dice: 0.7716 | Valid Jaccard: 0.7302\n",
      "\u001b[34mval jaccard increased: 0.7295495867729187 ---> 0.7302236557006836\n",
      "\u001b[0m===================== Epoch: [53/100] =====================\n"
     ]
    },
    {
     "name": "stderr",
     "output_type": "stream",
     "text": [
      "100%|██████████| 158/158 [00:44<00:00,  3.52it/s, Epoch=53, loss=0.0386]\n",
      "100%|██████████| 79/79 [00:08<00:00,  9.10it/s, gpu_memory=3.37 GB, lr=0.00010, valid_loss=0.0972]\n"
     ]
    },
    {
     "name": "stdout",
     "output_type": "stream",
     "text": [
      "\n",
      " Saving model at 53th epoch\n",
      "\n",
      " Final Train Loss: 0.0386  |  Final Val Loss: 0.0972\n",
      "Valid Dice: 0.7700 | Valid Jaccard: 0.7287\n",
      "\u001b[0m===================== Epoch: [54/100] =====================\n"
     ]
    },
    {
     "name": "stderr",
     "output_type": "stream",
     "text": [
      "100%|██████████| 158/158 [00:44<00:00,  3.53it/s, Epoch=54, loss=0.0456]\n",
      "100%|██████████| 79/79 [00:08<00:00,  9.08it/s, gpu_memory=3.37 GB, lr=0.00010, valid_loss=0.0906]\n"
     ]
    },
    {
     "name": "stdout",
     "output_type": "stream",
     "text": [
      "\n",
      " Saving model at 54th epoch\n",
      "\n",
      " Final Train Loss: 0.0456  |  Final Val Loss: 0.0906\n",
      "Valid Dice: 0.7566 | Valid Jaccard: 0.7150\n",
      "\u001b[0m===================== Epoch: [55/100] =====================\n"
     ]
    },
    {
     "name": "stderr",
     "output_type": "stream",
     "text": [
      "100%|██████████| 158/158 [00:44<00:00,  3.52it/s, Epoch=55, loss=0.0438]\n",
      "100%|██████████| 79/79 [00:08<00:00,  9.07it/s, gpu_memory=3.37 GB, lr=0.00010, valid_loss=0.0844]\n"
     ]
    },
    {
     "name": "stdout",
     "output_type": "stream",
     "text": [
      "\n",
      " Saving model at 55th epoch\n",
      "\n",
      " Final Train Loss: 0.0438  |  Final Val Loss: 0.0844\n",
      "Valid Dice: 0.7532 | Valid Jaccard: 0.7109\n",
      "\u001b[0m===================== Epoch: [56/100] =====================\n"
     ]
    },
    {
     "name": "stderr",
     "output_type": "stream",
     "text": [
      "100%|██████████| 158/158 [00:44<00:00,  3.53it/s, Epoch=56, loss=0.0426]\n",
      "100%|██████████| 79/79 [00:08<00:00,  9.07it/s, gpu_memory=3.37 GB, lr=0.00010, valid_loss=0.0912]\n"
     ]
    },
    {
     "name": "stdout",
     "output_type": "stream",
     "text": [
      "\n",
      " Saving model at 56th epoch\n",
      "\n",
      " Final Train Loss: 0.0426  |  Final Val Loss: 0.0912\n",
      "Valid Dice: 0.7606 | Valid Jaccard: 0.7183\n",
      "\u001b[0m===================== Epoch: [57/100] =====================\n"
     ]
    },
    {
     "name": "stderr",
     "output_type": "stream",
     "text": [
      "100%|██████████| 158/158 [00:44<00:00,  3.55it/s, Epoch=57, loss=0.0382]\n",
      "100%|██████████| 79/79 [00:08<00:00,  9.09it/s, gpu_memory=3.37 GB, lr=0.00010, valid_loss=0.0929]\n"
     ]
    },
    {
     "name": "stdout",
     "output_type": "stream",
     "text": [
      "\n",
      " Saving model at 57th epoch\n",
      "\n",
      " Final Train Loss: 0.0382  |  Final Val Loss: 0.0929\n",
      "Valid Dice: 0.7686 | Valid Jaccard: 0.7282\n",
      "\u001b[0m===================== Epoch: [58/100] =====================\n"
     ]
    },
    {
     "name": "stderr",
     "output_type": "stream",
     "text": [
      "100%|██████████| 158/158 [00:45<00:00,  3.49it/s, Epoch=58, loss=0.0372]\n",
      "100%|██████████| 79/79 [00:08<00:00,  9.07it/s, gpu_memory=3.37 GB, lr=0.00010, valid_loss=0.0885]\n"
     ]
    },
    {
     "name": "stdout",
     "output_type": "stream",
     "text": [
      "\n",
      " Saving model at 58th epoch\n",
      "\n",
      " Final Train Loss: 0.0372  |  Final Val Loss: 0.0885\n",
      "Valid Dice: 0.7611 | Valid Jaccard: 0.7194\n",
      "\u001b[0m===================== Epoch: [59/100] =====================\n"
     ]
    },
    {
     "name": "stderr",
     "output_type": "stream",
     "text": [
      "100%|██████████| 158/158 [00:45<00:00,  3.49it/s, Epoch=59, loss=0.0369]\n",
      "100%|██████████| 79/79 [00:08<00:00,  9.05it/s, gpu_memory=3.37 GB, lr=0.00010, valid_loss=0.0970]\n"
     ]
    },
    {
     "name": "stdout",
     "output_type": "stream",
     "text": [
      "\n",
      " Saving model at 59th epoch\n",
      "\n",
      " Final Train Loss: 0.0369  |  Final Val Loss: 0.0970\n",
      "Valid Dice: 0.7637 | Valid Jaccard: 0.7217\n",
      "\u001b[0m===================== Epoch: [60/100] =====================\n"
     ]
    },
    {
     "name": "stderr",
     "output_type": "stream",
     "text": [
      "100%|██████████| 158/158 [00:43<00:00,  3.59it/s, Epoch=60, loss=0.0361]\n",
      "100%|██████████| 79/79 [00:08<00:00,  9.09it/s, gpu_memory=3.37 GB, lr=0.00010, valid_loss=0.0951]\n"
     ]
    },
    {
     "name": "stdout",
     "output_type": "stream",
     "text": [
      "\n",
      " Saving model at 60th epoch\n",
      "\n",
      " Final Train Loss: 0.0361  |  Final Val Loss: 0.0951\n",
      "Valid Dice: 0.7684 | Valid Jaccard: 0.7276\n",
      "\u001b[0m===================== Epoch: [61/100] =====================\n"
     ]
    },
    {
     "name": "stderr",
     "output_type": "stream",
     "text": [
      "100%|██████████| 158/158 [00:44<00:00,  3.53it/s, Epoch=61, loss=0.0361]\n",
      "100%|██████████| 79/79 [00:08<00:00,  8.96it/s, gpu_memory=3.37 GB, lr=0.00010, valid_loss=0.0902]\n"
     ]
    },
    {
     "name": "stdout",
     "output_type": "stream",
     "text": [
      "\n",
      " Saving model at 61th epoch\n",
      "\n",
      " Final Train Loss: 0.0361  |  Final Val Loss: 0.0902\n",
      "Valid Dice: 0.7627 | Valid Jaccard: 0.7200\n",
      "\u001b[0m===================== Epoch: [62/100] =====================\n"
     ]
    },
    {
     "name": "stderr",
     "output_type": "stream",
     "text": [
      "100%|██████████| 158/158 [00:46<00:00,  3.43it/s, Epoch=62, loss=0.0358]\n",
      "100%|██████████| 79/79 [00:08<00:00,  9.07it/s, gpu_memory=3.37 GB, lr=0.00010, valid_loss=0.0912]\n"
     ]
    },
    {
     "name": "stdout",
     "output_type": "stream",
     "text": [
      "\n",
      " Saving model at 62th epoch\n",
      "\n",
      " Final Train Loss: 0.0358  |  Final Val Loss: 0.0912\n",
      "Valid Dice: 0.7663 | Valid Jaccard: 0.7254\n",
      "\u001b[0m===================== Epoch: [63/100] =====================\n"
     ]
    },
    {
     "name": "stderr",
     "output_type": "stream",
     "text": [
      "100%|██████████| 158/158 [00:44<00:00,  3.52it/s, Epoch=63, loss=0.0359]\n",
      "100%|██████████| 79/79 [00:08<00:00,  9.08it/s, gpu_memory=3.37 GB, lr=0.00010, valid_loss=0.0903]\n"
     ]
    },
    {
     "name": "stdout",
     "output_type": "stream",
     "text": [
      "\n",
      " Saving model at 63th epoch\n",
      "\n",
      " Final Train Loss: 0.0359  |  Final Val Loss: 0.0903\n",
      "Valid Dice: 0.7599 | Valid Jaccard: 0.7174\n",
      "\u001b[0m===================== Epoch: [64/100] =====================\n"
     ]
    },
    {
     "name": "stderr",
     "output_type": "stream",
     "text": [
      "100%|██████████| 158/158 [00:44<00:00,  3.56it/s, Epoch=64, loss=0.0348]\n",
      "100%|██████████| 79/79 [00:08<00:00,  9.08it/s, gpu_memory=3.37 GB, lr=0.00010, valid_loss=0.0958]\n"
     ]
    },
    {
     "name": "stdout",
     "output_type": "stream",
     "text": [
      "\n",
      " Saving model at 64th epoch\n",
      "\n",
      " Final Train Loss: 0.0348  |  Final Val Loss: 0.0958\n",
      "Valid Dice: 0.7740 | Valid Jaccard: 0.7327\n",
      "\u001b[34mval dice increased: 0.7718429565429688 ---> 0.7740395069122314\n",
      "\u001b[34mval jaccard increased: 0.7302236557006836 ---> 0.7326973676681519\n",
      "\u001b[0m===================== Epoch: [65/100] =====================\n"
     ]
    },
    {
     "name": "stderr",
     "output_type": "stream",
     "text": [
      "100%|██████████| 158/158 [00:45<00:00,  3.48it/s, Epoch=65, loss=0.0363]\n",
      "100%|██████████| 79/79 [00:08<00:00,  9.09it/s, gpu_memory=3.37 GB, lr=0.00010, valid_loss=0.1039]\n"
     ]
    },
    {
     "name": "stdout",
     "output_type": "stream",
     "text": [
      "\n",
      " Saving model at 65th epoch\n",
      "\n",
      " Final Train Loss: 0.0363  |  Final Val Loss: 0.1039\n",
      "Valid Dice: 0.7743 | Valid Jaccard: 0.7337\n",
      "\u001b[34mval dice increased: 0.7740395069122314 ---> 0.77427738904953\n",
      "\u001b[34mval jaccard increased: 0.7326973676681519 ---> 0.7336561679840088\n",
      "\u001b[0m===================== Epoch: [66/100] =====================\n"
     ]
    },
    {
     "name": "stderr",
     "output_type": "stream",
     "text": [
      "100%|██████████| 158/158 [00:45<00:00,  3.48it/s, Epoch=66, loss=0.0472]\n",
      "100%|██████████| 79/79 [00:08<00:00,  8.88it/s, gpu_memory=3.37 GB, lr=0.00010, valid_loss=0.0838]\n"
     ]
    },
    {
     "name": "stdout",
     "output_type": "stream",
     "text": [
      "\n",
      " Saving model at 66th epoch\n",
      "\n",
      " Final Train Loss: 0.0472  |  Final Val Loss: 0.0838\n",
      "Valid Dice: 0.7759 | Valid Jaccard: 0.7334\n",
      "\u001b[34mval dice increased: 0.77427738904953 ---> 0.7759214043617249\n",
      "\u001b[0m===================== Epoch: [67/100] =====================\n"
     ]
    },
    {
     "name": "stderr",
     "output_type": "stream",
     "text": [
      "100%|██████████| 158/158 [00:44<00:00,  3.53it/s, Epoch=67, loss=0.0368]\n",
      "100%|██████████| 79/79 [00:08<00:00,  9.10it/s, gpu_memory=3.37 GB, lr=0.00010, valid_loss=0.0898]\n"
     ]
    },
    {
     "name": "stdout",
     "output_type": "stream",
     "text": [
      "\n",
      " Saving model at 67th epoch\n",
      "\n",
      " Final Train Loss: 0.0368  |  Final Val Loss: 0.0898\n",
      "Valid Dice: 0.7685 | Valid Jaccard: 0.7256\n",
      "\u001b[0m===================== Epoch: [68/100] =====================\n"
     ]
    },
    {
     "name": "stderr",
     "output_type": "stream",
     "text": [
      "100%|██████████| 158/158 [00:44<00:00,  3.56it/s, Epoch=68, loss=0.0392]\n",
      "100%|██████████| 79/79 [00:08<00:00,  9.07it/s, gpu_memory=3.37 GB, lr=0.00010, valid_loss=0.0843]\n"
     ]
    },
    {
     "name": "stdout",
     "output_type": "stream",
     "text": [
      "\n",
      " Saving model at 68th epoch\n",
      "\n",
      " Final Train Loss: 0.0392  |  Final Val Loss: 0.0843\n",
      "Valid Dice: 0.7675 | Valid Jaccard: 0.7256\n",
      "\u001b[0m===================== Epoch: [69/100] =====================\n"
     ]
    },
    {
     "name": "stderr",
     "output_type": "stream",
     "text": [
      "100%|██████████| 158/158 [00:44<00:00,  3.54it/s, Epoch=69, loss=0.0362]\n",
      "100%|██████████| 79/79 [00:08<00:00,  9.09it/s, gpu_memory=3.37 GB, lr=0.00010, valid_loss=0.0992]\n"
     ]
    },
    {
     "name": "stdout",
     "output_type": "stream",
     "text": [
      "\n",
      " Saving model at 69th epoch\n",
      "\n",
      " Final Train Loss: 0.0362  |  Final Val Loss: 0.0992\n",
      "Valid Dice: 0.7665 | Valid Jaccard: 0.7246\n",
      "\u001b[0m===================== Epoch: [70/100] =====================\n"
     ]
    },
    {
     "name": "stderr",
     "output_type": "stream",
     "text": [
      "100%|██████████| 158/158 [00:44<00:00,  3.57it/s, Epoch=70, loss=0.0389]\n",
      "100%|██████████| 79/79 [00:08<00:00,  9.09it/s, gpu_memory=3.37 GB, lr=0.00010, valid_loss=0.0880]\n"
     ]
    },
    {
     "name": "stdout",
     "output_type": "stream",
     "text": [
      "\n",
      " Saving model at 70th epoch\n",
      "\n",
      " Final Train Loss: 0.0389  |  Final Val Loss: 0.0880\n",
      "Valid Dice: 0.7689 | Valid Jaccard: 0.7283\n",
      "\u001b[0m===================== Epoch: [71/100] =====================\n"
     ]
    },
    {
     "name": "stderr",
     "output_type": "stream",
     "text": [
      "100%|██████████| 158/158 [00:46<00:00,  3.42it/s, Epoch=71, loss=0.0351]\n",
      "100%|██████████| 79/79 [00:08<00:00,  9.08it/s, gpu_memory=3.37 GB, lr=0.00010, valid_loss=0.0950]\n"
     ]
    },
    {
     "name": "stdout",
     "output_type": "stream",
     "text": [
      "\n",
      " Saving model at 71th epoch\n",
      "\n",
      " Final Train Loss: 0.0351  |  Final Val Loss: 0.0950\n",
      "Valid Dice: 0.7746 | Valid Jaccard: 0.7341\n",
      "\u001b[34mval jaccard increased: 0.7336561679840088 ---> 0.7340503931045532\n",
      "\u001b[0m===================== Epoch: [72/100] =====================\n"
     ]
    },
    {
     "name": "stderr",
     "output_type": "stream",
     "text": [
      "100%|██████████| 158/158 [00:45<00:00,  3.46it/s, Epoch=72, loss=0.0344]\n",
      "100%|██████████| 79/79 [00:08<00:00,  9.05it/s, gpu_memory=3.37 GB, lr=0.00010, valid_loss=0.0982]\n"
     ]
    },
    {
     "name": "stdout",
     "output_type": "stream",
     "text": [
      "\n",
      " Saving model at 72th epoch\n",
      "\n",
      " Final Train Loss: 0.0344  |  Final Val Loss: 0.0982\n",
      "Valid Dice: 0.7671 | Valid Jaccard: 0.7255\n",
      "\u001b[0m===================== Epoch: [73/100] =====================\n"
     ]
    },
    {
     "name": "stderr",
     "output_type": "stream",
     "text": [
      "100%|██████████| 158/158 [00:45<00:00,  3.51it/s, Epoch=73, loss=0.0369]\n",
      "100%|██████████| 79/79 [00:08<00:00,  9.06it/s, gpu_memory=3.37 GB, lr=0.00010, valid_loss=0.0887]\n"
     ]
    },
    {
     "name": "stdout",
     "output_type": "stream",
     "text": [
      "\n",
      " Saving model at 73th epoch\n",
      "\n",
      " Final Train Loss: 0.0369  |  Final Val Loss: 0.0887\n",
      "Valid Dice: 0.7650 | Valid Jaccard: 0.7223\n",
      "\u001b[0m===================== Epoch: [74/100] =====================\n"
     ]
    },
    {
     "name": "stderr",
     "output_type": "stream",
     "text": [
      "100%|██████████| 158/158 [00:45<00:00,  3.50it/s, Epoch=74, loss=0.0373]\n",
      "100%|██████████| 79/79 [00:08<00:00,  9.08it/s, gpu_memory=3.37 GB, lr=0.00010, valid_loss=0.0938]\n"
     ]
    },
    {
     "name": "stdout",
     "output_type": "stream",
     "text": [
      "\n",
      " Saving model at 74th epoch\n",
      "\n",
      " Final Train Loss: 0.0373  |  Final Val Loss: 0.0938\n",
      "Valid Dice: 0.7547 | Valid Jaccard: 0.7131\n",
      "\u001b[0m===================== Epoch: [75/100] =====================\n"
     ]
    },
    {
     "name": "stderr",
     "output_type": "stream",
     "text": [
      "100%|██████████| 158/158 [00:44<00:00,  3.53it/s, Epoch=75, loss=0.0368]\n",
      "100%|██████████| 79/79 [00:08<00:00,  9.11it/s, gpu_memory=3.37 GB, lr=0.00010, valid_loss=0.0935]\n"
     ]
    },
    {
     "name": "stdout",
     "output_type": "stream",
     "text": [
      "\n",
      " Saving model at 75th epoch\n",
      "\n",
      " Final Train Loss: 0.0368  |  Final Val Loss: 0.0935\n",
      "Valid Dice: 0.7738 | Valid Jaccard: 0.7330\n",
      "\u001b[0m===================== Epoch: [76/100] =====================\n"
     ]
    },
    {
     "name": "stderr",
     "output_type": "stream",
     "text": [
      "100%|██████████| 158/158 [00:44<00:00,  3.53it/s, Epoch=76, loss=0.0343]\n",
      "100%|██████████| 79/79 [00:08<00:00,  9.08it/s, gpu_memory=3.37 GB, lr=0.00010, valid_loss=0.0955]\n"
     ]
    },
    {
     "name": "stdout",
     "output_type": "stream",
     "text": [
      "\n",
      " Saving model at 76th epoch\n",
      "\n",
      " Final Train Loss: 0.0343  |  Final Val Loss: 0.0955\n",
      "Valid Dice: 0.7708 | Valid Jaccard: 0.7307\n",
      "\u001b[0m===================== Epoch: [77/100] =====================\n"
     ]
    },
    {
     "name": "stderr",
     "output_type": "stream",
     "text": [
      "100%|██████████| 158/158 [00:45<00:00,  3.44it/s, Epoch=77, loss=0.034] \n",
      "100%|██████████| 79/79 [00:08<00:00,  9.05it/s, gpu_memory=3.37 GB, lr=0.00010, valid_loss=0.0976]\n"
     ]
    },
    {
     "name": "stdout",
     "output_type": "stream",
     "text": [
      "\n",
      " Saving model at 77th epoch\n",
      "\n",
      " Final Train Loss: 0.0340  |  Final Val Loss: 0.0976\n",
      "Valid Dice: 0.7579 | Valid Jaccard: 0.7159\n",
      "\u001b[0m===================== Epoch: [78/100] =====================\n"
     ]
    },
    {
     "name": "stderr",
     "output_type": "stream",
     "text": [
      "100%|██████████| 158/158 [00:44<00:00,  3.51it/s, Epoch=78, loss=0.0332]\n",
      "100%|██████████| 79/79 [00:08<00:00,  9.10it/s, gpu_memory=3.37 GB, lr=0.00010, valid_loss=0.0951]\n"
     ]
    },
    {
     "name": "stdout",
     "output_type": "stream",
     "text": [
      "\n",
      " Saving model at 78th epoch\n",
      "\n",
      " Final Train Loss: 0.0332  |  Final Val Loss: 0.0951\n",
      "Valid Dice: 0.7639 | Valid Jaccard: 0.7230\n",
      "\u001b[0m===================== Epoch: [79/100] =====================\n"
     ]
    },
    {
     "name": "stderr",
     "output_type": "stream",
     "text": [
      "100%|██████████| 158/158 [00:44<00:00,  3.53it/s, Epoch=79, loss=0.0336]\n",
      "100%|██████████| 79/79 [00:08<00:00,  9.06it/s, gpu_memory=3.37 GB, lr=0.00010, valid_loss=0.1039]\n"
     ]
    },
    {
     "name": "stdout",
     "output_type": "stream",
     "text": [
      "\n",
      " Saving model at 79th epoch\n",
      "\n",
      " Final Train Loss: 0.0336  |  Final Val Loss: 0.1039\n",
      "Valid Dice: 0.7603 | Valid Jaccard: 0.7190\n",
      "\u001b[0m===================== Epoch: [80/100] =====================\n"
     ]
    },
    {
     "name": "stderr",
     "output_type": "stream",
     "text": [
      "100%|██████████| 158/158 [00:45<00:00,  3.50it/s, Epoch=80, loss=0.0336]\n",
      "100%|██████████| 79/79 [00:08<00:00,  9.09it/s, gpu_memory=3.37 GB, lr=0.00010, valid_loss=0.1009]\n"
     ]
    },
    {
     "name": "stdout",
     "output_type": "stream",
     "text": [
      "\n",
      " Saving model at 80th epoch\n",
      "\n",
      " Final Train Loss: 0.0336  |  Final Val Loss: 0.1009\n",
      "Valid Dice: 0.7621 | Valid Jaccard: 0.7198\n",
      "\u001b[0m===================== Epoch: [81/100] =====================\n"
     ]
    },
    {
     "name": "stderr",
     "output_type": "stream",
     "text": [
      "100%|██████████| 158/158 [00:45<00:00,  3.48it/s, Epoch=81, loss=0.033] \n",
      "100%|██████████| 79/79 [00:08<00:00,  9.08it/s, gpu_memory=3.37 GB, lr=0.00010, valid_loss=0.1000]\n"
     ]
    },
    {
     "name": "stdout",
     "output_type": "stream",
     "text": [
      "\n",
      " Saving model at 81th epoch\n",
      "\n",
      " Final Train Loss: 0.0330  |  Final Val Loss: 0.1000\n",
      "Valid Dice: 0.7707 | Valid Jaccard: 0.7296\n",
      "\u001b[0m===================== Epoch: [82/100] =====================\n"
     ]
    },
    {
     "name": "stderr",
     "output_type": "stream",
     "text": [
      "100%|██████████| 158/158 [00:44<00:00,  3.56it/s, Epoch=82, loss=0.0324]\n",
      "100%|██████████| 79/79 [00:08<00:00,  9.03it/s, gpu_memory=3.37 GB, lr=0.00010, valid_loss=0.1052]\n"
     ]
    },
    {
     "name": "stdout",
     "output_type": "stream",
     "text": [
      "\n",
      " Saving model at 82th epoch\n",
      "\n",
      " Final Train Loss: 0.0324  |  Final Val Loss: 0.1052\n",
      "Valid Dice: 0.7670 | Valid Jaccard: 0.7253\n",
      "\u001b[0m===================== Epoch: [83/100] =====================\n"
     ]
    },
    {
     "name": "stderr",
     "output_type": "stream",
     "text": [
      "100%|██████████| 158/158 [00:45<00:00,  3.49it/s, Epoch=83, loss=0.0325]\n",
      "100%|██████████| 79/79 [00:08<00:00,  9.03it/s, gpu_memory=3.37 GB, lr=0.00010, valid_loss=0.0952]\n"
     ]
    },
    {
     "name": "stdout",
     "output_type": "stream",
     "text": [
      "\n",
      " Saving model at 83th epoch\n",
      "\n",
      " Final Train Loss: 0.0325  |  Final Val Loss: 0.0952\n",
      "Valid Dice: 0.7723 | Valid Jaccard: 0.7303\n",
      "\u001b[0m===================== Epoch: [84/100] =====================\n"
     ]
    },
    {
     "name": "stderr",
     "output_type": "stream",
     "text": [
      "100%|██████████| 158/158 [00:44<00:00,  3.52it/s, Epoch=84, loss=0.0384]\n",
      "100%|██████████| 79/79 [00:08<00:00,  9.08it/s, gpu_memory=3.37 GB, lr=0.00010, valid_loss=0.0938]\n"
     ]
    },
    {
     "name": "stdout",
     "output_type": "stream",
     "text": [
      "\n",
      " Saving model at 84th epoch\n",
      "\n",
      " Final Train Loss: 0.0384  |  Final Val Loss: 0.0938\n",
      "Valid Dice: 0.7631 | Valid Jaccard: 0.7223\n",
      "\u001b[0m===================== Epoch: [85/100] =====================\n"
     ]
    },
    {
     "name": "stderr",
     "output_type": "stream",
     "text": [
      "100%|██████████| 158/158 [00:45<00:00,  3.50it/s, Epoch=85, loss=0.0354]\n",
      "100%|██████████| 79/79 [00:08<00:00,  9.07it/s, gpu_memory=3.37 GB, lr=0.00010, valid_loss=0.0993]\n"
     ]
    },
    {
     "name": "stdout",
     "output_type": "stream",
     "text": [
      "\n",
      " Saving model at 85th epoch\n",
      "\n",
      " Final Train Loss: 0.0354  |  Final Val Loss: 0.0993\n",
      "Valid Dice: 0.7724 | Valid Jaccard: 0.7302\n",
      "\u001b[0m===================== Epoch: [86/100] =====================\n"
     ]
    },
    {
     "name": "stderr",
     "output_type": "stream",
     "text": [
      "100%|██████████| 158/158 [00:45<00:00,  3.48it/s, Epoch=86, loss=0.0328]\n",
      "100%|██████████| 79/79 [00:09<00:00,  8.29it/s, gpu_memory=3.37 GB, lr=0.00010, valid_loss=0.0944]\n"
     ]
    },
    {
     "name": "stdout",
     "output_type": "stream",
     "text": [
      "\n",
      " Saving model at 86th epoch\n",
      "\n",
      " Final Train Loss: 0.0328  |  Final Val Loss: 0.0944\n",
      "Valid Dice: 0.7680 | Valid Jaccard: 0.7267\n",
      "\u001b[0m===================== Epoch: [87/100] =====================\n"
     ]
    },
    {
     "name": "stderr",
     "output_type": "stream",
     "text": [
      "100%|██████████| 158/158 [00:44<00:00,  3.57it/s, Epoch=87, loss=0.0326]\n",
      "100%|██████████| 79/79 [00:08<00:00,  8.79it/s, gpu_memory=3.37 GB, lr=0.00010, valid_loss=0.1021]\n"
     ]
    },
    {
     "name": "stdout",
     "output_type": "stream",
     "text": [
      "\n",
      " Saving model at 87th epoch\n",
      "\n",
      " Final Train Loss: 0.0326  |  Final Val Loss: 0.1021\n",
      "Valid Dice: 0.7498 | Valid Jaccard: 0.7092\n",
      "\u001b[0m===================== Epoch: [88/100] =====================\n"
     ]
    },
    {
     "name": "stderr",
     "output_type": "stream",
     "text": [
      "100%|██████████| 158/158 [00:44<00:00,  3.57it/s, Epoch=88, loss=0.0322]\n",
      "100%|██████████| 79/79 [00:08<00:00,  9.07it/s, gpu_memory=3.37 GB, lr=0.00010, valid_loss=0.1025]\n"
     ]
    },
    {
     "name": "stdout",
     "output_type": "stream",
     "text": [
      "\n",
      " Saving model at 88th epoch\n",
      "\n",
      " Final Train Loss: 0.0322  |  Final Val Loss: 0.1025\n",
      "Valid Dice: 0.7684 | Valid Jaccard: 0.7286\n",
      "\u001b[0m===================== Epoch: [89/100] =====================\n"
     ]
    },
    {
     "name": "stderr",
     "output_type": "stream",
     "text": [
      "100%|██████████| 158/158 [00:44<00:00,  3.55it/s, Epoch=89, loss=0.0411]\n",
      "100%|██████████| 79/79 [00:08<00:00,  9.12it/s, gpu_memory=3.37 GB, lr=0.00010, valid_loss=0.0986]\n"
     ]
    },
    {
     "name": "stdout",
     "output_type": "stream",
     "text": [
      "\n",
      " Saving model at 89th epoch\n",
      "\n",
      " Final Train Loss: 0.0411  |  Final Val Loss: 0.0986\n",
      "Valid Dice: 0.7618 | Valid Jaccard: 0.7219\n",
      "\u001b[0m===================== Epoch: [90/100] =====================\n"
     ]
    },
    {
     "name": "stderr",
     "output_type": "stream",
     "text": [
      "100%|██████████| 158/158 [00:44<00:00,  3.52it/s, Epoch=90, loss=0.0358]\n",
      "100%|██████████| 79/79 [00:08<00:00,  9.11it/s, gpu_memory=3.37 GB, lr=0.00010, valid_loss=0.0956]\n"
     ]
    },
    {
     "name": "stdout",
     "output_type": "stream",
     "text": [
      "\n",
      " Saving model at 90th epoch\n",
      "\n",
      " Final Train Loss: 0.0358  |  Final Val Loss: 0.0956\n",
      "Valid Dice: 0.7413 | Valid Jaccard: 0.6971\n",
      "\u001b[0m===================== Epoch: [91/100] =====================\n"
     ]
    },
    {
     "name": "stderr",
     "output_type": "stream",
     "text": [
      "100%|██████████| 158/158 [00:45<00:00,  3.46it/s, Epoch=91, loss=0.0335]\n",
      "100%|██████████| 79/79 [00:08<00:00,  9.05it/s, gpu_memory=3.37 GB, lr=0.00010, valid_loss=0.0974]\n"
     ]
    },
    {
     "name": "stdout",
     "output_type": "stream",
     "text": [
      "\n",
      " Saving model at 91th epoch\n",
      "\n",
      " Final Train Loss: 0.0335  |  Final Val Loss: 0.0974\n",
      "Valid Dice: 0.7493 | Valid Jaccard: 0.7076\n",
      "\u001b[0m===================== Epoch: [92/100] =====================\n"
     ]
    },
    {
     "name": "stderr",
     "output_type": "stream",
     "text": [
      "100%|██████████| 158/158 [00:44<00:00,  3.57it/s, Epoch=92, loss=0.0355]\n",
      "100%|██████████| 79/79 [00:08<00:00,  9.08it/s, gpu_memory=3.37 GB, lr=0.00010, valid_loss=0.0977]\n"
     ]
    },
    {
     "name": "stdout",
     "output_type": "stream",
     "text": [
      "\n",
      " Saving model at 92th epoch\n",
      "\n",
      " Final Train Loss: 0.0355  |  Final Val Loss: 0.0977\n",
      "Valid Dice: 0.7683 | Valid Jaccard: 0.7269\n",
      "\u001b[0m===================== Epoch: [93/100] =====================\n"
     ]
    },
    {
     "name": "stderr",
     "output_type": "stream",
     "text": [
      "100%|██████████| 158/158 [00:45<00:00,  3.50it/s, Epoch=93, loss=0.0336]\n",
      "100%|██████████| 79/79 [00:08<00:00,  9.08it/s, gpu_memory=3.37 GB, lr=0.00010, valid_loss=0.0910]\n"
     ]
    },
    {
     "name": "stdout",
     "output_type": "stream",
     "text": [
      "\n",
      " Saving model at 93th epoch\n",
      "\n",
      " Final Train Loss: 0.0336  |  Final Val Loss: 0.0910\n",
      "Valid Dice: 0.7636 | Valid Jaccard: 0.7213\n",
      "\u001b[0m===================== Epoch: [94/100] =====================\n"
     ]
    },
    {
     "name": "stderr",
     "output_type": "stream",
     "text": [
      "100%|██████████| 158/158 [00:46<00:00,  3.41it/s, Epoch=94, loss=0.0312]\n",
      "100%|██████████| 79/79 [00:09<00:00,  8.46it/s, gpu_memory=3.37 GB, lr=0.00010, valid_loss=0.0952]\n"
     ]
    },
    {
     "name": "stdout",
     "output_type": "stream",
     "text": [
      "\n",
      " Saving model at 94th epoch\n",
      "\n",
      " Final Train Loss: 0.0312  |  Final Val Loss: 0.0952\n",
      "Valid Dice: 0.7641 | Valid Jaccard: 0.7224\n",
      "\u001b[0m===================== Epoch: [95/100] =====================\n"
     ]
    },
    {
     "name": "stderr",
     "output_type": "stream",
     "text": [
      "100%|██████████| 158/158 [00:45<00:00,  3.47it/s, Epoch=95, loss=0.0308]\n",
      "100%|██████████| 79/79 [00:08<00:00,  9.07it/s, gpu_memory=3.37 GB, lr=0.00010, valid_loss=0.0962]\n"
     ]
    },
    {
     "name": "stdout",
     "output_type": "stream",
     "text": [
      "\n",
      " Saving model at 95th epoch\n",
      "\n",
      " Final Train Loss: 0.0308  |  Final Val Loss: 0.0962\n",
      "Valid Dice: 0.7562 | Valid Jaccard: 0.7137\n",
      "\u001b[0m===================== Epoch: [96/100] =====================\n"
     ]
    },
    {
     "name": "stderr",
     "output_type": "stream",
     "text": [
      "100%|██████████| 158/158 [00:45<00:00,  3.47it/s, Epoch=96, loss=0.0299]\n",
      "100%|██████████| 79/79 [00:08<00:00,  9.10it/s, gpu_memory=3.37 GB, lr=0.00010, valid_loss=0.1007]\n"
     ]
    },
    {
     "name": "stdout",
     "output_type": "stream",
     "text": [
      "\n",
      " Saving model at 96th epoch\n",
      "\n",
      " Final Train Loss: 0.0299  |  Final Val Loss: 0.1007\n",
      "Valid Dice: 0.7539 | Valid Jaccard: 0.7136\n",
      "\u001b[0m===================== Epoch: [97/100] =====================\n"
     ]
    },
    {
     "name": "stderr",
     "output_type": "stream",
     "text": [
      "100%|██████████| 158/158 [00:45<00:00,  3.50it/s, Epoch=97, loss=0.0307]\n",
      "100%|██████████| 79/79 [00:08<00:00,  9.11it/s, gpu_memory=3.37 GB, lr=0.00010, valid_loss=0.0986]\n"
     ]
    },
    {
     "name": "stdout",
     "output_type": "stream",
     "text": [
      "\n",
      " Saving model at 97th epoch\n",
      "\n",
      " Final Train Loss: 0.0307  |  Final Val Loss: 0.0986\n",
      "Valid Dice: 0.7596 | Valid Jaccard: 0.7181\n",
      "\u001b[0m===================== Epoch: [98/100] =====================\n"
     ]
    },
    {
     "name": "stderr",
     "output_type": "stream",
     "text": [
      "100%|██████████| 158/158 [00:43<00:00,  3.60it/s, Epoch=98, loss=0.0386]\n",
      "100%|██████████| 79/79 [00:08<00:00,  9.06it/s, gpu_memory=3.37 GB, lr=0.00010, valid_loss=0.0999]\n"
     ]
    },
    {
     "name": "stdout",
     "output_type": "stream",
     "text": [
      "\n",
      " Saving model at 98th epoch\n",
      "\n",
      " Final Train Loss: 0.0386  |  Final Val Loss: 0.0999\n",
      "Valid Dice: 0.7588 | Valid Jaccard: 0.7171\n",
      "\u001b[0m===================== Epoch: [99/100] =====================\n"
     ]
    },
    {
     "name": "stderr",
     "output_type": "stream",
     "text": [
      "100%|██████████| 158/158 [00:45<00:00,  3.50it/s, Epoch=99, loss=0.0414]\n",
      "100%|██████████| 79/79 [00:08<00:00,  8.88it/s, gpu_memory=3.37 GB, lr=0.00010, valid_loss=0.0990]\n"
     ]
    },
    {
     "name": "stdout",
     "output_type": "stream",
     "text": [
      "\n",
      " Saving model at 99th epoch\n",
      "\n",
      " Final Train Loss: 0.0414  |  Final Val Loss: 0.0990\n",
      "Valid Dice: 0.7542 | Valid Jaccard: 0.7132\n",
      "\u001b[0m===================== Epoch: [100/100] =====================\n"
     ]
    },
    {
     "name": "stderr",
     "output_type": "stream",
     "text": [
      "100%|██████████| 158/158 [00:44<00:00,  3.52it/s, Epoch=100, loss=0.0329]\n",
      "100%|██████████| 79/79 [00:08<00:00,  9.05it/s, gpu_memory=3.37 GB, lr=0.00010, valid_loss=0.0961]\n"
     ]
    },
    {
     "name": "stdout",
     "output_type": "stream",
     "text": [
      "\n",
      " Saving model at 100th epoch\n",
      "\n",
      " Final Train Loss: 0.0329  |  Final Val Loss: 0.0961\n",
      "Valid Dice: 0.7533 | Valid Jaccard: 0.7122\n",
      "\n",
      " ====================== [Training Summary] ====================== \n",
      "\n",
      "Training complete in 1h 46m 46s\n",
      "avg time per [train + val] epoch 0h 1m 4s\n",
      "Best: ~~~~~~ dice: 0.7759  || jaccard 0.7341 || val_loss 0.0782 || train_loss 0.0299 ~~~~~~\n",
      "Saved training summary...\n",
      "\n",
      " =============================================================== \n",
      "\n"
     ]
    },
    {
     "data": {
      "text/html": [
       "<div>\n",
       "<style scoped>\n",
       "    .dataframe tbody tr th:only-of-type {\n",
       "        vertical-align: middle;\n",
       "    }\n",
       "\n",
       "    .dataframe tbody tr th {\n",
       "        vertical-align: top;\n",
       "    }\n",
       "\n",
       "    .dataframe thead th {\n",
       "        text-align: right;\n",
       "    }\n",
       "</style>\n",
       "<table border=\"1\" class=\"dataframe\">\n",
       "  <thead>\n",
       "    <tr style=\"text-align: right;\">\n",
       "      <th></th>\n",
       "      <th>epoch</th>\n",
       "      <th>Train_Loss</th>\n",
       "      <th>Valid_Loss</th>\n",
       "      <th>Valid_jaccard</th>\n",
       "      <th>Valid_dice</th>\n",
       "      <th>model_file</th>\n",
       "    </tr>\n",
       "  </thead>\n",
       "  <tbody>\n",
       "    <tr>\n",
       "      <th>0</th>\n",
       "      <td>1</td>\n",
       "      <td>0.572457</td>\n",
       "      <td>0.342285</td>\n",
       "      <td>0.211779</td>\n",
       "      <td>0.274032</td>\n",
       "      <td>./model_weights_effunet_no_sch_tiled_bin_class/Vanilla_Unet-0.0001-No-1-8.pth</td>\n",
       "    </tr>\n",
       "    <tr>\n",
       "      <th>1</th>\n",
       "      <td>2</td>\n",
       "      <td>0.159940</td>\n",
       "      <td>0.148667</td>\n",
       "      <td>0.406309</td>\n",
       "      <td>0.460393</td>\n",
       "      <td>./model_weights_effunet_no_sch_tiled_bin_class/Vanilla_Unet-0.0001-No-2-8.pth</td>\n",
       "    </tr>\n",
       "    <tr>\n",
       "      <th>2</th>\n",
       "      <td>3</td>\n",
       "      <td>0.128688</td>\n",
       "      <td>0.112099</td>\n",
       "      <td>0.490392</td>\n",
       "      <td>0.544855</td>\n",
       "      <td>./model_weights_effunet_no_sch_tiled_bin_class/Vanilla_Unet-0.0001-No-3-8.pth</td>\n",
       "    </tr>\n",
       "    <tr>\n",
       "      <th>3</th>\n",
       "      <td>4</td>\n",
       "      <td>0.113170</td>\n",
       "      <td>0.103722</td>\n",
       "      <td>0.569317</td>\n",
       "      <td>0.623809</td>\n",
       "      <td>./model_weights_effunet_no_sch_tiled_bin_class/Vanilla_Unet-0.0001-No-4-8.pth</td>\n",
       "    </tr>\n",
       "    <tr>\n",
       "      <th>4</th>\n",
       "      <td>5</td>\n",
       "      <td>0.103957</td>\n",
       "      <td>0.102096</td>\n",
       "      <td>0.619224</td>\n",
       "      <td>0.671779</td>\n",
       "      <td>./model_weights_effunet_no_sch_tiled_bin_class/Vanilla_Unet-0.0001-No-5-8.pth</td>\n",
       "    </tr>\n",
       "    <tr>\n",
       "      <th>...</th>\n",
       "      <td>...</td>\n",
       "      <td>...</td>\n",
       "      <td>...</td>\n",
       "      <td>...</td>\n",
       "      <td>...</td>\n",
       "      <td>...</td>\n",
       "    </tr>\n",
       "    <tr>\n",
       "      <th>95</th>\n",
       "      <td>96</td>\n",
       "      <td>0.029933</td>\n",
       "      <td>0.100651</td>\n",
       "      <td>0.713582</td>\n",
       "      <td>0.753950</td>\n",
       "      <td>./model_weights_effunet_no_sch_tiled_bin_class/Vanilla_Unet-0.0001-No-96-8.pth</td>\n",
       "    </tr>\n",
       "    <tr>\n",
       "      <th>96</th>\n",
       "      <td>97</td>\n",
       "      <td>0.030691</td>\n",
       "      <td>0.098594</td>\n",
       "      <td>0.718087</td>\n",
       "      <td>0.759593</td>\n",
       "      <td>./model_weights_effunet_no_sch_tiled_bin_class/Vanilla_Unet-0.0001-No-97-8.pth</td>\n",
       "    </tr>\n",
       "    <tr>\n",
       "      <th>97</th>\n",
       "      <td>98</td>\n",
       "      <td>0.038603</td>\n",
       "      <td>0.099853</td>\n",
       "      <td>0.717138</td>\n",
       "      <td>0.758794</td>\n",
       "      <td>./model_weights_effunet_no_sch_tiled_bin_class/Vanilla_Unet-0.0001-No-98-8.pth</td>\n",
       "    </tr>\n",
       "    <tr>\n",
       "      <th>98</th>\n",
       "      <td>99</td>\n",
       "      <td>0.041412</td>\n",
       "      <td>0.098968</td>\n",
       "      <td>0.713176</td>\n",
       "      <td>0.754186</td>\n",
       "      <td>./model_weights_effunet_no_sch_tiled_bin_class/Vanilla_Unet-0.0001-No-99-8.pth</td>\n",
       "    </tr>\n",
       "    <tr>\n",
       "      <th>99</th>\n",
       "      <td>100</td>\n",
       "      <td>0.032912</td>\n",
       "      <td>0.096082</td>\n",
       "      <td>0.712167</td>\n",
       "      <td>0.753308</td>\n",
       "      <td>./model_weights_effunet_no_sch_tiled_bin_class/Vanilla_Unet-0.0001-No-100-8.pth</td>\n",
       "    </tr>\n",
       "  </tbody>\n",
       "</table>\n",
       "<p>100 rows × 6 columns</p>\n",
       "</div>"
      ],
      "text/plain": [
       "    epoch  Train_Loss  Valid_Loss  Valid_jaccard  Valid_dice  \\\n",
       "0       1    0.572457    0.342285       0.211779    0.274032   \n",
       "1       2    0.159940    0.148667       0.406309    0.460393   \n",
       "2       3    0.128688    0.112099       0.490392    0.544855   \n",
       "3       4    0.113170    0.103722       0.569317    0.623809   \n",
       "4       5    0.103957    0.102096       0.619224    0.671779   \n",
       "..    ...         ...         ...            ...         ...   \n",
       "95     96    0.029933    0.100651       0.713582    0.753950   \n",
       "96     97    0.030691    0.098594       0.718087    0.759593   \n",
       "97     98    0.038603    0.099853       0.717138    0.758794   \n",
       "98     99    0.041412    0.098968       0.713176    0.754186   \n",
       "99    100    0.032912    0.096082       0.712167    0.753308   \n",
       "\n",
       "                                                                         model_file  \n",
       "0     ./model_weights_effunet_no_sch_tiled_bin_class/Vanilla_Unet-0.0001-No-1-8.pth  \n",
       "1     ./model_weights_effunet_no_sch_tiled_bin_class/Vanilla_Unet-0.0001-No-2-8.pth  \n",
       "2     ./model_weights_effunet_no_sch_tiled_bin_class/Vanilla_Unet-0.0001-No-3-8.pth  \n",
       "3     ./model_weights_effunet_no_sch_tiled_bin_class/Vanilla_Unet-0.0001-No-4-8.pth  \n",
       "4     ./model_weights_effunet_no_sch_tiled_bin_class/Vanilla_Unet-0.0001-No-5-8.pth  \n",
       "..                                                                              ...  \n",
       "95   ./model_weights_effunet_no_sch_tiled_bin_class/Vanilla_Unet-0.0001-No-96-8.pth  \n",
       "96   ./model_weights_effunet_no_sch_tiled_bin_class/Vanilla_Unet-0.0001-No-97-8.pth  \n",
       "97   ./model_weights_effunet_no_sch_tiled_bin_class/Vanilla_Unet-0.0001-No-98-8.pth  \n",
       "98   ./model_weights_effunet_no_sch_tiled_bin_class/Vanilla_Unet-0.0001-No-99-8.pth  \n",
       "99  ./model_weights_effunet_no_sch_tiled_bin_class/Vanilla_Unet-0.0001-No-100-8.pth  \n",
       "\n",
       "[100 rows x 6 columns]"
      ]
     },
     "metadata": {},
     "output_type": "display_data"
    },
    {
     "data": {
      "image/png": "[encoded data removed]",
      "text/plain": [
       "<Figure size 1080x576 with 4 Axes>"
      ]
     },
     "metadata": {},
     "output_type": "display_data"
    }
   ],
   "source": [
    "history = defaultdict(list)\n",
    "best_val_dice = -float('inf')\n",
    "best_val_jaccard = -float('inf')\n",
    "start = time.time()\n",
    "\n",
    "loss_fn = BCELoss\n",
    "\n",
    "for epoch in range(CONFIG[\"NUM_EPOCHS\"]):\n",
    "    \n",
    "    print(f'{sr_}===================== Epoch: [{epoch+1}/{CONFIG[\"NUM_EPOCHS\"]}] =====================')\n",
    "\n",
    "    # train and validation loop\n",
    "    train_loss = train_fn(train_loader, model, optimizer, loss_fn, epoch+1)\n",
    "    val_loss, val_scores = valid_one_epoch(model, test_loader,CONFIG[\"DEVICE\"], epoch+1, loss_fn)\n",
    "    val_dice, val_jaccard = val_scores\n",
    "    \n",
    "    \n",
    "    # save model\n",
    "    model_file = save_model(model, optimizer, BCELoss, epoch+1)\n",
    "    \n",
    "    \n",
    "    # weight and baise Log the metrics\n",
    "    wandb.log({\"Train Loss\": train_loss})\n",
    "    wandb.log({\"Valid Loss\": val_loss})\n",
    "    wandb.log({\"Valid dice\": val_dice})\n",
    "    wandb.log({\"Valid jaccard\": val_jaccard})\n",
    "\n",
    "    # logging\n",
    "    history[\"epoch\"].append(epoch+1)\n",
    "    history['Train_Loss'].append(train_loss)\n",
    "    history['Valid_Loss'].append(val_loss)\n",
    "    history['Valid_jaccard'].append(val_jaccard)\n",
    "    history['Valid_dice'].append(val_dice)\n",
    "    history[\"model_file\"].append(model_file)\n",
    "\n",
    "    \n",
    "    # print loss and scores\n",
    "    print(f\"\\n Final Train Loss: {train_loss:0.4f}  |  Final Val Loss: {val_loss:0.4f}\") \n",
    "    \n",
    "    print(f'Valid Dice: {val_dice:0.4f} | Valid Jaccard: {val_jaccard:0.4f}')\n",
    "    \n",
    "    \n",
    "    # print best val score\n",
    "    if best_val_dice < val_dice:\n",
    "        print(f\"{b_}val dice increased: {best_val_dice} ---> {val_dice}\")\n",
    "        best_val_dice = val_dice\n",
    "    \n",
    "    if best_val_jaccard < val_jaccard:\n",
    "        print(f\"{b_}val jaccard increased: {best_val_jaccard} ---> {val_jaccard}\")\n",
    "        best_val_jaccard = val_jaccard\n",
    "        \n",
    "        \n",
    "        \n",
    "# print time\n",
    "end = time.time()\n",
    "time_elapsed = end - start\n",
    "avg_time_per_epoch = time_elapsed/CONFIG[\"NUM_EPOCHS\"] \n",
    "summary_df = pd.DataFrame.from_dict(history)\n",
    "\n",
    "print(f'\\n ====================== [Training Summary] ====================== \\n')\n",
    "print('Training complete in {:.0f}h {:.0f}m {:.0f}s'.format(\n",
    "    time_elapsed // 3600, (time_elapsed % 3600) // 60, (time_elapsed % 3600) % 60))\n",
    "\n",
    "print('avg time per [train + val] epoch {:.0f}h {:.0f}m {:.0f}s'.format(\n",
    "    avg_time_per_epoch // 3600, (avg_time_per_epoch % 3600) // 60, (avg_time_per_epoch % 3600) % 60))\n",
    "\n",
    "print(\"Best: ~~~~~~ dice: {:.4f}  || jaccard {:.4f} || val_loss {:.4f} || train_loss {:.4f} ~~~~~~\".format(\n",
    "    best_val_dice, best_val_jaccard, min(history['Valid_Loss']), min(history['Train_Loss'])))\n",
    "\n",
    "\n",
    "summary_df.to_csv('training_summary.csv')\n",
    "print(\"Saved training summary...\")\n",
    "\n",
    "print(f'\\n =============================================================== \\n')\n",
    "\n",
    "display(summary_df)\n",
    "\n",
    "plt.style.use('fivethirtyeight')\n",
    "# plotting training and validation loss\n",
    "plt.figure(figsize=(15,8))\n",
    "\n",
    "fig1 = plt.subplot(2,2,1)\n",
    "fig1.plot(history['epoch'], history['Train_Loss'], color='lime', marker='>')\n",
    "fig1.set_title(\"train loss [dice]\")\n",
    "fig1.set(xlabel='epoch', ylabel='train loss')\n",
    "\n",
    "fig2 = plt.subplot(2,2,2)\n",
    "fig2.plot(history['epoch'], history['Valid_Loss'], color='cyan',  marker='>')\n",
    "fig2.set_title(\"val loss [dice]\")\n",
    "fig2.set(xlabel='epoch', ylabel='val loss')\n",
    "\n",
    "fig3 = plt.subplot(2,2,3)\n",
    "fig3.plot(history['epoch'], history['Valid_dice'], color='orange',  marker='>')\n",
    "fig3.set_title(\"Val Dice\")\n",
    "fig3.set(xlabel='epoch', ylabel='val dice')\n",
    "\n",
    "fig4 = plt.subplot(2,2,4)\n",
    "fig4.plot(history['epoch'], history['Valid_jaccard'], color='lightcoral',  marker='>')\n",
    "fig4.set_title(\"val jaccard\")\n",
    "fig4.set(xlabel='epoch', ylabel='val jaccard')\n",
    "\n",
    "plt.show();"
   ]
  },
  {
   "cell_type": "code",
   "execution_count": null,
   "id": "249a6fe2",
   "metadata": {},
   "outputs": [],
   "source": []
  },
  {
   "cell_type": "code",
   "execution_count": null,
   "id": "f4622ccf",
   "metadata": {},
   "outputs": [],
   "source": []
  },
  {
   "cell_type": "code",
   "execution_count": null,
   "id": "e2ae8bac",
   "metadata": {},
   "outputs": [],
   "source": []
  },
  {
   "cell_type": "markdown",
   "id": "ccdd989f",
   "metadata": {
    "papermill": {
     "duration": 2.296108,
     "end_time": "2022-08-05T12:31:29.348610",
     "exception": false,
     "start_time": "2022-08-05T12:31:27.052502",
     "status": "completed"
    },
    "tags": []
   },
   "source": [
    "# Inference:"
   ]
  },
  {
   "cell_type": "code",
   "execution_count": 41,
   "id": "1000b7a0",
   "metadata": {
    "execution": {
     "iopub.execute_input": "2022-08-05T12:31:33.632440Z",
     "iopub.status.busy": "2022-08-05T12:31:33.631883Z",
     "iopub.status.idle": "2022-08-05T12:31:33.642209Z",
     "shell.execute_reply": "2022-08-05T12:31:33.639177Z"
    },
    "papermill": {
     "duration": 2.15568,
     "end_time": "2022-08-05T12:31:33.645207",
     "exception": false,
     "start_time": "2022-08-05T12:31:31.489527",
     "status": "completed"
    },
    "tags": []
   },
   "outputs": [],
   "source": [
    "# import numpy as np\n",
    "# from PIL import Image\n",
    "\n",
    "# def tile_image(p_img, folder, size: int = 768) -> list:\n",
    "#     w = h = size\n",
    "#     im = np.array(Image.open(p_img))\n",
    "#     # https://stackoverflow.com/a/47581978/4521646\n",
    "#     tiles = [im[i:(i + h), j:(j + w), ...] for i in range(0, im.shape[0], h) for j in range(0, im.shape[1], w)]\n",
    "#     idxs = [(i, (i + h), j, (j + w)) for i in range(0, im.shape[0], h) for j in range(0, im.shape[1], w)]\n",
    "#     name, _ = os.path.splitext(os.path.basename(p_img))\n",
    "#     files = []\n",
    "#     for k, tile in enumerate(tiles):\n",
    "#         if tile.shape[:2] != (h, w):\n",
    "#             tile_ = tile\n",
    "#             tile = np.zeros_like(tiles[0])\n",
    "#             tile[:tile_.shape[0], :tile_.shape[1], ...] = tile_\n",
    "#         p_img = os.path.join(folder, f\"{name}_{k:02}.png\")\n",
    "#         Image.fromarray(tile).save(p_img)\n",
    "#         files.append(p_img)\n",
    "#     return files, idxs\n"
   ]
  },
  {
   "cell_type": "code",
   "execution_count": 42,
   "id": "52575b12",
   "metadata": {
    "execution": {
     "iopub.execute_input": "2022-08-05T12:31:38.053828Z",
     "iopub.status.busy": "2022-08-05T12:31:38.052490Z",
     "iopub.status.idle": "2022-08-05T12:31:38.063383Z",
     "shell.execute_reply": "2022-08-05T12:31:38.062320Z"
    },
    "papermill": {
     "duration": 2.282369,
     "end_time": "2022-08-05T12:31:38.068885",
     "exception": false,
     "start_time": "2022-08-05T12:31:35.786516",
     "status": "completed"
    },
    "tags": []
   },
   "outputs": [],
   "source": [
    "# !mkdir -p /kaggle/temp/images"
   ]
  },
  {
   "cell_type": "code",
   "execution_count": 43,
   "id": "3ac0a5ce",
   "metadata": {
    "execution": {
     "iopub.execute_input": "2022-08-05T12:31:42.525124Z",
     "iopub.status.busy": "2022-08-05T12:31:42.524537Z",
     "iopub.status.idle": "2022-08-05T12:31:42.531238Z",
     "shell.execute_reply": "2022-08-05T12:31:42.530198Z"
    },
    "papermill": {
     "duration": 2.145943,
     "end_time": "2022-08-05T12:31:42.534937",
     "exception": false,
     "start_time": "2022-08-05T12:31:40.388994",
     "status": "completed"
    },
    "tags": []
   },
   "outputs": [],
   "source": [
    "# !mkdir -p frozen_packages\n",
    "# !cp ../input/starter-flash-semantic-segmentation/frozen_packages/* frozen_packages/\n",
    "# !cp ../input/ftus-segm-eda-viewer/frozen_packages/* frozen_packages/\n",
    "# !pip install -q 'kaggle-image-segmentation' --no-index --find-links frozen_packages/"
   ]
  },
  {
   "cell_type": "code",
   "execution_count": 44,
   "id": "c9533d3c",
   "metadata": {
    "execution": {
     "iopub.execute_input": "2022-08-05T12:31:47.226855Z",
     "iopub.status.busy": "2022-08-05T12:31:47.226255Z",
     "iopub.status.idle": "2022-08-05T12:31:47.233967Z",
     "shell.execute_reply": "2022-08-05T12:31:47.233016Z"
    },
    "papermill": {
     "duration": 2.134014,
     "end_time": "2022-08-05T12:31:47.236560",
     "exception": false,
     "start_time": "2022-08-05T12:31:45.102546",
     "status": "completed"
    },
    "tags": []
   },
   "outputs": [],
   "source": [
    "# from scipy.ndimage import binary_opening\n",
    "# from skimage.morphology import disk\n",
    "# from kaggle_imsegm.mask import rle_encode\n",
    "\n",
    "\n",
    "# DATASET_FOLDER = \"/kaggle/input/hubmap-organ-segmentation\"\n",
    "# df_test = pd.read_csv(\"../input/hubmap-organ-segmentation/test.csv\")\n",
    "# TILE_SIZE = 1024\n",
    "\n",
    "# preds = []\n",
    "# for _, row in df_test.iterrows():\n",
    "# #     print(row[\"pixel_size\"])\n",
    "#     scale = row[\"pixel_size\"] / 0.4\n",
    "#     test_img = os.path.join(DATASET_FOLDER, \"test_images\", f\"{row['id']}.tiff\")\n",
    "#     im = plt.imread(test_img)\n",
    "    \n",
    "#     # perform scaling on level tiles as the input is scaled to the CNN input size anyway\n",
    "    \n",
    "#     tiles_img, idxs = tile_image(test_img, \"/kaggle/temp/images\", size=int(TILE_SIZE / scale))\n",
    "# #     print(idxs)\n",
    "#     pred_list = []\n",
    "#     for img_file in tiles_img:\n",
    "#         img_org = plt.imread(img_file)\n",
    "        \n",
    "#         transformed = test_transform(image=img_org)\n",
    "#         img = transformed[\"image\"]\n",
    "#         img = img.reshape((1, *img.shape))\n",
    "#         img = img.to(CONFIG[\"DEVICE\"])\n",
    "        \n",
    "#         output = model(img)\n",
    "#         output = nn.Sigmoid()(output)\n",
    "#         msks = (output>0.5).to(torch.uint8).cpu().detach().numpy()\n",
    "        \n",
    "#         msks = msks.reshape((msks.shape[2], msks.shape[3]))\n",
    "#         msks = cv2.resize(msks, (img_org.shape[0:2]), interpolation = cv2.INTER_AREA) #cv2.resize(msks,(*img_org.shape))\n",
    "# #         print(\"msks--->\", msks.shape)\n",
    "        \n",
    "#         pred_list.append(msks)\n",
    "    \n",
    "    \n",
    "#     seg = np.zeros(im.shape[:2], dtype=np.uint8)\n",
    "#     for tile, (i1, i2, j1, j2) in zip(pred_list, idxs):\n",
    "#         i2 = min(i2, im.shape[0])\n",
    "#         j2 = min(j2, im.shape[1])\n",
    "# #         print('tile',np.array(tile, dtype=np.uint8)[:(i2 - i1), :(j2 - j1)].shape)\n",
    "# #         print(seg[i1:i2, j1:j2].shape)\n",
    "#         seg[i1:i2, j1:j2] = np.array(tile, dtype=np.uint8)[:(i2 - i1), :(j2 - j1)]\n",
    "#     # seg = resize(seg * 255, img.shape[:2], order=0) / 255\n",
    "#     seg = (seg >= 1).astype(np.uint8)  # binary mask\n",
    "#     seg = binary_opening(seg, structure=disk(6)).astype(np.uint8)\n",
    "    \n",
    "    \n",
    "#     rle = rle_encode(seg.T) if np.sum(seg) > 1 else {}\n",
    "#     name, _ = os.path.splitext(os.path.basename(test_img))\n",
    "#     preds.append({\"id\": row['id'], \"rle\": rle.get(1, \"\")})\n",
    "    \n",
    "# df_pred = pd.DataFrame(preds)\n",
    "# display(df_pred[df_pred[\"rle\"] != \"\"].head())"
   ]
  },
  {
   "cell_type": "code",
   "execution_count": 45,
   "id": "f76165b1",
   "metadata": {
    "execution": {
     "iopub.execute_input": "2022-08-05T12:31:51.798918Z",
     "iopub.status.busy": "2022-08-05T12:31:51.798352Z",
     "iopub.status.idle": "2022-08-05T12:31:51.804521Z",
     "shell.execute_reply": "2022-08-05T12:31:51.803276Z"
    },
    "papermill": {
     "duration": 2.150654,
     "end_time": "2022-08-05T12:31:51.807724",
     "exception": false,
     "start_time": "2022-08-05T12:31:49.657070",
     "status": "completed"
    },
    "tags": []
   },
   "outputs": [],
   "source": [
    "# df_ssub = pd.read_csv(os.path.join(DATASET_FOLDER, \"sample_submission.csv\"))\n",
    "# del df_ssub['rle']\n",
    "# df_pred = df_ssub.merge(df_pred, on='id')\n",
    "\n",
    "# df_pred[['id', 'rle']].to_csv(\"submission.csv\", index=False)\n",
    "\n",
    "# !head submission.csv"
   ]
  },
  {
   "cell_type": "code",
   "execution_count": 46,
   "id": "9e1eb486",
   "metadata": {
    "execution": {
     "iopub.execute_input": "2022-08-05T12:31:56.373162Z",
     "iopub.status.busy": "2022-08-05T12:31:56.372632Z",
     "iopub.status.idle": "2022-08-05T12:31:56.379691Z",
     "shell.execute_reply": "2022-08-05T12:31:56.378656Z"
    },
    "papermill": {
     "duration": 2.429302,
     "end_time": "2022-08-05T12:31:56.382912",
     "exception": false,
     "start_time": "2022-08-05T12:31:53.953610",
     "status": "completed"
    },
    "tags": []
   },
   "outputs": [],
   "source": [
    "# print(seg.shape)\n",
    "# plt.imshow(seg)"
   ]
  },
  {
   "cell_type": "markdown",
   "id": "363aeabe",
   "metadata": {
    "papermill": {
     "duration": 2.406307,
     "end_time": "2022-08-05T12:32:00.926806",
     "exception": false,
     "start_time": "2022-08-05T12:31:58.520499",
     "status": "completed"
    },
    "tags": []
   },
   "source": [
    "# Model File Check:"
   ]
  },
  {
   "cell_type": "code",
   "execution_count": 47,
   "id": "c54ad86c",
   "metadata": {
    "execution": {
     "iopub.execute_input": "2022-08-05T12:32:05.195880Z",
     "iopub.status.busy": "2022-08-05T12:32:05.195526Z",
     "iopub.status.idle": "2022-08-05T12:32:06.353591Z",
     "shell.execute_reply": "2022-08-05T12:32:06.352364Z"
    },
    "papermill": {
     "duration": 3.277763,
     "end_time": "2022-08-05T12:32:06.356010",
     "exception": false,
     "start_time": "2022-08-05T12:32:03.078247",
     "status": "completed"
    },
    "tags": []
   },
   "outputs": [
    {
     "name": "stdout",
     "output_type": "stream",
     "text": [
      "ls: cannot access './model_weights': No such file or directory\n"
     ]
    }
   ],
   "source": [
    "!ls -la ./model_weights"
   ]
  },
  {
   "cell_type": "code",
   "execution_count": null,
   "id": "9686579b",
   "metadata": {
    "papermill": {
     "duration": 2.136924,
     "end_time": "2022-08-05T12:32:10.621982",
     "exception": false,
     "start_time": "2022-08-05T12:32:08.485058",
     "status": "completed"
    },
    "tags": []
   },
   "outputs": [],
   "source": []
  },
  {
   "cell_type": "code",
   "execution_count": null,
   "id": "17be2d99",
   "metadata": {
    "papermill": {
     "duration": 2.124861,
     "end_time": "2022-08-05T12:32:15.096416",
     "exception": false,
     "start_time": "2022-08-05T12:32:12.971555",
     "status": "completed"
    },
    "tags": []
   },
   "outputs": [],
   "source": []
  },
  {
   "cell_type": "code",
   "execution_count": null,
   "id": "1192430e",
   "metadata": {
    "papermill": {
     "duration": 2.115912,
     "end_time": "2022-08-05T12:32:19.335809",
     "exception": false,
     "start_time": "2022-08-05T12:32:17.219897",
     "status": "completed"
    },
    "tags": []
   },
   "outputs": [],
   "source": []
  },
  {
   "cell_type": "code",
   "execution_count": null,
   "id": "62a01833",
   "metadata": {
    "papermill": {
     "duration": 2.348658,
     "end_time": "2022-08-05T12:32:23.843920",
     "exception": false,
     "start_time": "2022-08-05T12:32:21.495262",
     "status": "completed"
    },
    "tags": []
   },
   "outputs": [],
   "source": []
  }
 ],
 "metadata": {
  "kernelspec": {
   "display_name": "Python 3.7.0 ('.venv': venv)",
   "language": "python",
   "name": "python3"
  },
  "language_info": {
   "codemirror_mode": {
    "name": "ipython",
    "version": 3
   },
   "file_extension": ".py",
   "mimetype": "text/x-python",
   "name": "python",
   "nbconvert_exporter": "python",
   "pygments_lexer": "ipython3",
   "version": "3.7.0"
  },
  "papermill": {
   "default_parameters": {},
   "duration": 9646.266578,
   "end_time": "2022-08-05T12:32:28.698541",
   "environment_variables": {},
   "exception": null,
   "input_path": "__notebook__.ipynb",
   "output_path": "__notebook__.ipynb",
   "parameters": {},
   "start_time": "2022-08-05T09:51:42.431963",
   "version": "2.3.4"
  },
  "vscode": {
   "interpreter": {
    "hash": "21a2a557654fc1676068684031cf9bb9dfda94e124d3623f4e9c9ed764d794ac"
   }
  },
  "widgets": {
   "application/vnd.jupyter.widget-state+json": {
    "state": {
     "0ea51a4850c84b36bff51fdd6f2d1e82": {
      "model_module": "@jupyter-widgets/controls",
      "model_module_version": "1.5.0",
      "model_name": "FloatProgressModel",
      "state": {
       "_dom_classes": [],
       "_model_module": "@jupyter-widgets/controls",
       "_model_module_version": "1.5.0",
       "_model_name": "FloatProgressModel",
       "_view_count": null,
       "_view_module": "@jupyter-widgets/controls",
       "_view_module_version": "1.5.0",
       "_view_name": "ProgressView",
       "bar_style": "success",
       "description": "",
       "description_tooltip": null,
       "layout": "IPY_MODEL_ca5cfa16f1e64484a7d696dde4186d37",
       "max": 77999237,
       "min": 0,
       "orientation": "horizontal",
       "style": "IPY_MODEL_c5a7559f871f4fe882bb7659626c1ede",
       "value": 77999237
      }
     },
     "2e6942b0458f4b879b2ed97233ad5f7b": {
      "model_module": "@jupyter-widgets/base",
      "model_module_version": "1.2.0",
      "model_name": "LayoutModel",
      "state": {
       "_model_module": "@jupyter-widgets/base",
       "_model_module_version": "1.2.0",
       "_model_name": "LayoutModel",
       "_view_count": null,
       "_view_module": "@jupyter-widgets/base",
       "_view_module_version": "1.2.0",
       "_view_name": "LayoutView",
       "align_content": null,
       "align_items": null,
       "align_self": null,
       "border": null,
       "bottom": null,
       "display": null,
       "flex": null,
       "flex_flow": null,
       "grid_area": null,
       "grid_auto_columns": null,
       "grid_auto_flow": null,
       "grid_auto_rows": null,
       "grid_column": null,
       "grid_gap": null,
       "grid_row": null,
       "grid_template_areas": null,
       "grid_template_columns": null,
       "grid_template_rows": null,
       "height": null,
       "justify_content": null,
       "justify_items": null,
       "left": null,
       "margin": null,
       "max_height": null,
       "max_width": null,
       "min_height": null,
       "min_width": null,
       "object_fit": null,
       "object_position": null,
       "order": null,
       "overflow": null,
       "overflow_x": null,
       "overflow_y": null,
       "padding": null,
       "right": null,
       "top": null,
       "visibility": null,
       "width": null
      }
     },
     "342193034a2f45ce963f676283332bb7": {
      "model_module": "@jupyter-widgets/controls",
      "model_module_version": "1.5.0",
      "model_name": "FloatProgressModel",
      "state": {
       "_dom_classes": [],
       "_model_module": "@jupyter-widgets/controls",
       "_model_module_version": "1.5.0",
       "_model_name": "FloatProgressModel",
       "_view_count": null,
       "_view_module": "@jupyter-widgets/controls",
       "_view_module_version": "1.5.0",
       "_view_name": "ProgressView",
       "bar_style": "",
       "description": "",
       "description_tooltip": null,
       "layout": "IPY_MODEL_2e6942b0458f4b879b2ed97233ad5f7b",
       "max": 1,
       "min": 0,
       "orientation": "horizontal",
       "style": "IPY_MODEL_6686062741b145748e22c2bf7911c59d",
       "value": 0
      }
     },
     "37becea4b9e74366b33057289a79560d": {
      "model_module": "@jupyter-widgets/controls",
      "model_module_version": "1.5.0",
      "model_name": "LabelModel",
      "state": {
       "_dom_classes": [],
       "_model_module": "@jupyter-widgets/controls",
       "_model_module_version": "1.5.0",
       "_model_name": "LabelModel",
       "_view_count": null,
       "_view_module": "@jupyter-widgets/controls",
       "_view_module_version": "1.5.0",
       "_view_name": "LabelView",
       "description": "",
       "description_tooltip": null,
       "layout": "IPY_MODEL_3b1c5a6ac9984e45bef2842279824a5a",
       "placeholder": "​",
       "style": "IPY_MODEL_d51da069d6f1435e9c2a5f4d3e8b87a4",
       "value": ""
      }
     },
     "3b1c5a6ac9984e45bef2842279824a5a": {
      "model_module": "@jupyter-widgets/base",
      "model_module_version": "1.2.0",
      "model_name": "LayoutModel",
      "state": {
       "_model_module": "@jupyter-widgets/base",
       "_model_module_version": "1.2.0",
       "_model_name": "LayoutModel",
       "_view_count": null,
       "_view_module": "@jupyter-widgets/base",
       "_view_module_version": "1.2.0",
       "_view_name": "LayoutView",
       "align_content": null,
       "align_items": null,
       "align_self": null,
       "border": null,
       "bottom": null,
       "display": null,
       "flex": null,
       "flex_flow": null,
       "grid_area": null,
       "grid_auto_columns": null,
       "grid_auto_flow": null,
       "grid_auto_rows": null,
       "grid_column": null,
       "grid_gap": null,
       "grid_row": null,
       "grid_template_areas": null,
       "grid_template_columns": null,
       "grid_template_rows": null,
       "height": null,
       "justify_content": null,
       "justify_items": null,
       "left": null,
       "margin": null,
       "max_height": null,
       "max_width": null,
       "min_height": null,
       "min_width": null,
       "object_fit": null,
       "object_position": null,
       "order": null,
       "overflow": null,
       "overflow_x": null,
       "overflow_y": null,
       "padding": null,
       "right": null,
       "top": null,
       "visibility": null,
       "width": null
      }
     },
     "4c99be112a334536ad8d5b7457597c65": {
      "model_module": "@jupyter-widgets/controls",
      "model_module_version": "1.5.0",
      "model_name": "DescriptionStyleModel",
      "state": {
       "_model_module": "@jupyter-widgets/controls",
       "_model_module_version": "1.5.0",
       "_model_name": "DescriptionStyleModel",
       "_view_count": null,
       "_view_module": "@jupyter-widgets/base",
       "_view_module_version": "1.2.0",
       "_view_name": "StyleView",
       "description_width": ""
      }
     },
     "64518feff0374a91b6cbc00d0d2802fb": {
      "model_module": "@jupyter-widgets/controls",
      "model_module_version": "1.5.0",
      "model_name": "HTMLModel",
      "state": {
       "_dom_classes": [],
       "_model_module": "@jupyter-widgets/controls",
       "_model_module_version": "1.5.0",
       "_model_name": "HTMLModel",
       "_view_count": null,
       "_view_module": "@jupyter-widgets/controls",
       "_view_module_version": "1.5.0",
       "_view_name": "HTMLView",
       "description": "",
       "description_tooltip": null,
       "layout": "IPY_MODEL_f3dd0beebc304c4290413850e943a6a6",
       "placeholder": "​",
       "style": "IPY_MODEL_f1f9810008bf4a29b4dae35f10b10d21",
       "value": " 74.4M/74.4M [00:06&lt;00:00, 8.26MB/s]"
      }
     },
     "6686062741b145748e22c2bf7911c59d": {
      "model_module": "@jupyter-widgets/controls",
      "model_module_version": "1.5.0",
      "model_name": "ProgressStyleModel",
      "state": {
       "_model_module": "@jupyter-widgets/controls",
       "_model_module_version": "1.5.0",
       "_model_name": "ProgressStyleModel",
       "_view_count": null,
       "_view_module": "@jupyter-widgets/base",
       "_view_module_version": "1.2.0",
       "_view_name": "StyleView",
       "bar_color": null,
       "description_width": ""
      }
     },
     "72a27fb4514047cc80b3308db42dfa04": {
      "model_module": "@jupyter-widgets/base",
      "model_module_version": "1.2.0",
      "model_name": "LayoutModel",
      "state": {
       "_model_module": "@jupyter-widgets/base",
       "_model_module_version": "1.2.0",
       "_model_name": "LayoutModel",
       "_view_count": null,
       "_view_module": "@jupyter-widgets/base",
       "_view_module_version": "1.2.0",
       "_view_name": "LayoutView",
       "align_content": null,
       "align_items": null,
       "align_self": null,
       "border": null,
       "bottom": null,
       "display": null,
       "flex": null,
       "flex_flow": null,
       "grid_area": null,
       "grid_auto_columns": null,
       "grid_auto_flow": null,
       "grid_auto_rows": null,
       "grid_column": null,
       "grid_gap": null,
       "grid_row": null,
       "grid_template_areas": null,
       "grid_template_columns": null,
       "grid_template_rows": null,
       "height": null,
       "justify_content": null,
       "justify_items": null,
       "left": null,
       "margin": null,
       "max_height": null,
       "max_width": null,
       "min_height": null,
       "min_width": null,
       "object_fit": null,
       "object_position": null,
       "order": null,
       "overflow": null,
       "overflow_x": null,
       "overflow_y": null,
       "padding": null,
       "right": null,
       "top": null,
       "visibility": null,
       "width": null
      }
     },
     "8785b7a2028e479080db54777bd6eaf8": {
      "model_module": "@jupyter-widgets/controls",
      "model_module_version": "1.5.0",
      "model_name": "VBoxModel",
      "state": {
       "_dom_classes": [],
       "_model_module": "@jupyter-widgets/controls",
       "_model_module_version": "1.5.0",
       "_model_name": "VBoxModel",
       "_view_count": null,
       "_view_module": "@jupyter-widgets/controls",
       "_view_module_version": "1.5.0",
       "_view_name": "VBoxView",
       "box_style": "",
       "children": [
        "IPY_MODEL_37becea4b9e74366b33057289a79560d",
        "IPY_MODEL_342193034a2f45ce963f676283332bb7"
       ],
       "layout": "IPY_MODEL_bfe232db2b284f80bc9b6ef833c2c50f"
      }
     },
     "bfe232db2b284f80bc9b6ef833c2c50f": {
      "model_module": "@jupyter-widgets/base",
      "model_module_version": "1.2.0",
      "model_name": "LayoutModel",
      "state": {
       "_model_module": "@jupyter-widgets/base",
       "_model_module_version": "1.2.0",
       "_model_name": "LayoutModel",
       "_view_count": null,
       "_view_module": "@jupyter-widgets/base",
       "_view_module_version": "1.2.0",
       "_view_name": "LayoutView",
       "align_content": null,
       "align_items": null,
       "align_self": null,
       "border": null,
       "bottom": null,
       "display": null,
       "flex": null,
       "flex_flow": null,
       "grid_area": null,
       "grid_auto_columns": null,
       "grid_auto_flow": null,
       "grid_auto_rows": null,
       "grid_column": null,
       "grid_gap": null,
       "grid_row": null,
       "grid_template_areas": null,
       "grid_template_columns": null,
       "grid_template_rows": null,
       "height": null,
       "justify_content": null,
       "justify_items": null,
       "left": null,
       "margin": null,
       "max_height": null,
       "max_width": null,
       "min_height": null,
       "min_width": null,
       "object_fit": null,
       "object_position": null,
       "order": null,
       "overflow": null,
       "overflow_x": null,
       "overflow_y": null,
       "padding": null,
       "right": null,
       "top": null,
       "visibility": null,
       "width": null
      }
     },
     "c5a7559f871f4fe882bb7659626c1ede": {
      "model_module": "@jupyter-widgets/controls",
      "model_module_version": "1.5.0",
      "model_name": "ProgressStyleModel",
      "state": {
       "_model_module": "@jupyter-widgets/controls",
       "_model_module_version": "1.5.0",
       "_model_name": "ProgressStyleModel",
       "_view_count": null,
       "_view_module": "@jupyter-widgets/base",
       "_view_module_version": "1.2.0",
       "_view_name": "StyleView",
       "bar_color": null,
       "description_width": ""
      }
     },
     "c9abdda77bb54d4f8edcb5c78a790883": {
      "model_module": "@jupyter-widgets/controls",
      "model_module_version": "1.5.0",
      "model_name": "HTMLModel",
      "state": {
       "_dom_classes": [],
       "_model_module": "@jupyter-widgets/controls",
       "_model_module_version": "1.5.0",
       "_model_name": "HTMLModel",
       "_view_count": null,
       "_view_module": "@jupyter-widgets/controls",
       "_view_module_version": "1.5.0",
       "_view_name": "HTMLView",
       "description": "",
       "description_tooltip": null,
       "layout": "IPY_MODEL_72a27fb4514047cc80b3308db42dfa04",
       "placeholder": "​",
       "style": "IPY_MODEL_4c99be112a334536ad8d5b7457597c65",
       "value": "100%"
      }
     },
     "ca5cfa16f1e64484a7d696dde4186d37": {
      "model_module": "@jupyter-widgets/base",
      "model_module_version": "1.2.0",
      "model_name": "LayoutModel",
      "state": {
       "_model_module": "@jupyter-widgets/base",
       "_model_module_version": "1.2.0",
       "_model_name": "LayoutModel",
       "_view_count": null,
       "_view_module": "@jupyter-widgets/base",
       "_view_module_version": "1.2.0",
       "_view_name": "LayoutView",
       "align_content": null,
       "align_items": null,
       "align_self": null,
       "border": null,
       "bottom": null,
       "display": null,
       "flex": null,
       "flex_flow": null,
       "grid_area": null,
       "grid_auto_columns": null,
       "grid_auto_flow": null,
       "grid_auto_rows": null,
       "grid_column": null,
       "grid_gap": null,
       "grid_row": null,
       "grid_template_areas": null,
       "grid_template_columns": null,
       "grid_template_rows": null,
       "height": null,
       "justify_content": null,
       "justify_items": null,
       "left": null,
       "margin": null,
       "max_height": null,
       "max_width": null,
       "min_height": null,
       "min_width": null,
       "object_fit": null,
       "object_position": null,
       "order": null,
       "overflow": null,
       "overflow_x": null,
       "overflow_y": null,
       "padding": null,
       "right": null,
       "top": null,
       "visibility": null,
       "width": null
      }
     },
     "d51da069d6f1435e9c2a5f4d3e8b87a4": {
      "model_module": "@jupyter-widgets/controls",
      "model_module_version": "1.5.0",
      "model_name": "DescriptionStyleModel",
      "state": {
       "_model_module": "@jupyter-widgets/controls",
       "_model_module_version": "1.5.0",
       "_model_name": "DescriptionStyleModel",
       "_view_count": null,
       "_view_module": "@jupyter-widgets/base",
       "_view_module_version": "1.2.0",
       "_view_name": "StyleView",
       "description_width": ""
      }
     },
     "eb5c725c0c6248a7989047d847109743": {
      "model_module": "@jupyter-widgets/controls",
      "model_module_version": "1.5.0",
      "model_name": "HBoxModel",
      "state": {
       "_dom_classes": [],
       "_model_module": "@jupyter-widgets/controls",
       "_model_module_version": "1.5.0",
       "_model_name": "HBoxModel",
       "_view_count": null,
       "_view_module": "@jupyter-widgets/controls",
       "_view_module_version": "1.5.0",
       "_view_name": "HBoxView",
       "box_style": "",
       "children": [
        "IPY_MODEL_c9abdda77bb54d4f8edcb5c78a790883",
        "IPY_MODEL_0ea51a4850c84b36bff51fdd6f2d1e82",
        "IPY_MODEL_64518feff0374a91b6cbc00d0d2802fb"
       ],
       "layout": "IPY_MODEL_fb6acd3f2e7846bf90b8bd2fdf526438"
      }
     },
     "f1f9810008bf4a29b4dae35f10b10d21": {
      "model_module": "@jupyter-widgets/controls",
      "model_module_version": "1.5.0",
      "model_name": "DescriptionStyleModel",
      "state": {
       "_model_module": "@jupyter-widgets/controls",
       "_model_module_version": "1.5.0",
       "_model_name": "DescriptionStyleModel",
       "_view_count": null,
       "_view_module": "@jupyter-widgets/base",
       "_view_module_version": "1.2.0",
       "_view_name": "StyleView",
       "description_width": ""
      }
     },
     "f3dd0beebc304c4290413850e943a6a6": {
      "model_module": "@jupyter-widgets/base",
      "model_module_version": "1.2.0",
      "model_name": "LayoutModel",
      "state": {
       "_model_module": "@jupyter-widgets/base",
       "_model_module_version": "1.2.0",
       "_model_name": "LayoutModel",
       "_view_count": null,
       "_view_module": "@jupyter-widgets/base",
       "_view_module_version": "1.2.0",
       "_view_name": "LayoutView",
       "align_content": null,
       "align_items": null,
       "align_self": null,
       "border": null,
       "bottom": null,
       "display": null,
       "flex": null,
       "flex_flow": null,
       "grid_area": null,
       "grid_auto_columns": null,
       "grid_auto_flow": null,
       "grid_auto_rows": null,
       "grid_column": null,
       "grid_gap": null,
       "grid_row": null,
       "grid_template_areas": null,
       "grid_template_columns": null,
       "grid_template_rows": null,
       "height": null,
       "justify_content": null,
       "justify_items": null,
       "left": null,
       "margin": null,
       "max_height": null,
       "max_width": null,
       "min_height": null,
       "min_width": null,
       "object_fit": null,
       "object_position": null,
       "order": null,
       "overflow": null,
       "overflow_x": null,
       "overflow_y": null,
       "padding": null,
       "right": null,
       "top": null,
       "visibility": null,
       "width": null
      }
     },
     "fb6acd3f2e7846bf90b8bd2fdf526438": {
      "model_module": "@jupyter-widgets/base",
      "model_module_version": "1.2.0",
      "model_name": "LayoutModel",
      "state": {
       "_model_module": "@jupyter-widgets/base",
       "_model_module_version": "1.2.0",
       "_model_name": "LayoutModel",
       "_view_count": null,
       "_view_module": "@jupyter-widgets/base",
       "_view_module_version": "1.2.0",
       "_view_name": "LayoutView",
       "align_content": null,
       "align_items": null,
       "align_self": null,
       "border": null,
       "bottom": null,
       "display": null,
       "flex": null,
       "flex_flow": null,
       "grid_area": null,
       "grid_auto_columns": null,
       "grid_auto_flow": null,
       "grid_auto_rows": null,
       "grid_column": null,
       "grid_gap": null,
       "grid_row": null,
       "grid_template_areas": null,
       "grid_template_columns": null,
       "grid_template_rows": null,
       "height": null,
       "justify_content": null,
       "justify_items": null,
       "left": null,
       "margin": null,
       "max_height": null,
       "max_width": null,
       "min_height": null,
       "min_width": null,
       "object_fit": null,
       "object_position": null,
       "order": null,
       "overflow": null,
       "overflow_x": null,
       "overflow_y": null,
       "padding": null,
       "right": null,
       "top": null,
       "visibility": null,
       "width": null
      }
     }
    },
    "version_major": 2,
    "version_minor": 0
   }
  }
 },
 "nbformat": 4,
 "nbformat_minor": 5
}
