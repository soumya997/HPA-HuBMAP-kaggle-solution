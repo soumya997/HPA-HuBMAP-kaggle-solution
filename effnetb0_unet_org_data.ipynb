{
 "cells": [
  {
   "cell_type": "code",
   "execution_count": 1,
   "metadata": {},
   "outputs": [
    {
     "name": "stdout",
     "output_type": "stream",
     "text": [
      "Mon Aug 15 06:03:31 2022       \n",
      "+-----------------------------------------------------------------------------+\n",
      "| NVIDIA-SMI 470.141.03   Driver Version: 470.141.03   CUDA Version: 11.4     |\n",
      "|-------------------------------+----------------------+----------------------+\n",
      "| GPU  Name        Persistence-M| Bus-Id        Disp.A | Volatile Uncorr. ECC |\n",
      "| Fan  Temp  Perf  Pwr:Usage/Cap|         Memory-Usage | GPU-Util  Compute M. |\n",
      "|                               |                      |               MIG M. |\n",
      "|===============================+======================+======================|\n",
      "|   0  NVIDIA GeForce ...  Off  | 00000000:01:00.0  On |                  N/A |\n",
      "| 29%   49C    P8    35W / 250W |    356MiB / 11016MiB |     36%      Default |\n",
      "|                               |                      |                  N/A |\n",
      "+-------------------------------+----------------------+----------------------+\n",
      "                                                                               \n",
      "+-----------------------------------------------------------------------------+\n",
      "| Processes:                                                                  |\n",
      "|  GPU   GI   CI        PID   Type   Process name                  GPU Memory |\n",
      "|        ID   ID                                                   Usage      |\n",
      "|=============================================================================|\n",
      "|    0   N/A  N/A      2835      G   /usr/lib/xorg/Xorg                 18MiB |\n",
      "|    0   N/A  N/A      2922      G   /usr/bin/gnome-shell               71MiB |\n",
      "|    0   N/A  N/A      3268      G   /usr/lib/xorg/Xorg                128MiB |\n",
      "|    0   N/A  N/A      3404      G   /usr/bin/gnome-shell               27MiB |\n",
      "|    0   N/A  N/A      4163      G   ...isable-features=EventPath       22MiB |\n",
      "|    0   N/A  N/A      4681      G   ...RendererForSitePerProcess       82MiB |\n",
      "+-----------------------------------------------------------------------------+\n"
     ]
    }
   ],
   "source": [
    "!nvidia-smi"
   ]
  },
  {
   "cell_type": "code",
   "execution_count": 2,
   "metadata": {},
   "outputs": [
    {
     "name": "stderr",
     "output_type": "stream",
     "text": [
      "/home/lakshita/somusan/hubmap_kaggle/.venv/lib/python3.7/site-packages/tqdm/auto.py:22: TqdmWarning: IProgress not found. Please update jupyter and ipywidgets. See https://ipywidgets.readthedocs.io/en/stable/user_install.html\n",
      "  from .autonotebook import tqdm as notebook_tqdm\n"
     ]
    }
   ],
   "source": [
    "import numpy as np # linear algebra\n",
    "import pandas as pd # data processing, CSV file I/O (e.g. pd.read_csv)\n",
    "import os\n",
    "import warnings\n",
    "import cv2\n",
    "import matplotlib.pyplot as plt\n",
    "import json\n",
    "import gc\n",
    "import time\n",
    "from tqdm import tqdm\n",
    "import random\n",
    "from collections import defaultdict\n",
    "from IPython.display import display\n",
    "from scipy.ndimage import binary_opening\n",
    "from skimage.morphology import disk\n",
    "\n",
    "#Pytorch Imports\n",
    "import torch\n",
    "import torchvision # torch package for vision related things\n",
    "import torch.nn.functional as F  # Parameterless functions, like (some) activation functions\n",
    "import torchvision.datasets as datasets  # Standard datasets\n",
    "import torchvision.transforms as transforms  # Transformations we can perform on our dataset for augmentation\n",
    "from torch import optim  # For optimizers like SGD, Adam, etc.\n",
    "from torch import nn  # All neural network modules\n",
    "from torch.utils.data import Dataset, DataLoader  # Gives easier dataset managment by creating mini batches etc.\n",
    "from tqdm import tqdm  # For nice progress bar!\n",
    "from torchvision.transforms import Resize\n",
    "from torchaudio.transforms import MelSpectrogram, AmplitudeToDB\n",
    "from torch.optim import lr_scheduler\n",
    "# from tifffile import imread\n",
    "import segmentation_models_pytorch as smp\n",
    "# import transformers\n",
    "from sklearn.model_selection import StratifiedKFold, KFold, StratifiedGroupKFold\n",
    "\n",
    "from albumentations.pytorch.transforms import ToTensorV2\n",
    "import albumentations as A\n",
    "from sklearn.model_selection import train_test_split\n",
    "\n",
    "# For colored terminal text\n",
    "from colorama import Fore, Back, Style\n",
    "c_ = Fore.CYAN\n",
    "sr_ = Style.RESET_ALL\n",
    "b_ = Fore.BLUE\n",
    "\n",
    "# For descriptive error messages\n",
    "os.environ['CUDA_LAUNCH_BLOCKING'] = \"1\"\n",
    "\n",
    "warnings.filterwarnings(\"ignore\")"
   ]
  },
  {
   "cell_type": "code",
   "execution_count": 3,
   "metadata": {},
   "outputs": [],
   "source": [
    "# Hyperparameters etc.\n",
    "# Hyperparameters\n",
    "CONFIG = {\n",
    "    \"in_channels\" :3,\n",
    "    \"num_classes\": 1,\n",
    "    \"BATCH_SIZE\" : 8,\n",
    "    \"NUM_EPOCHS\" : 300,\n",
    "    \"n_accumulate\": 1,\n",
    "    \"competition\": \"HuBMAP-Kaggle\", # HuBMAP-Kaggle\n",
    "    \"model_name\": \"effnetb0_unet\",\n",
    "    \"LEARNING_RATE\": 1e-4,\n",
    "    \"DEVICE\": \"cuda\" if torch.cuda.is_available() else \"cpu\", \n",
    "    \"AUG\": \"No\",\n",
    "    \"SEED\": 888,\n",
    "    \"opt\": 'Adam',\n",
    "    \"Normalization\": \"L2\",\n",
    "    \"img_size\": 512,\n",
    "    \"scheduler\": 'CosineAnnealingLR',\n",
    "    \"warmup_epochs\": 2,\n",
    "    \"n_folds\": 5,\n",
    "    \"folds_to_run\": [0],\n",
    "    \"min_lr\": 1e-6,\n",
    "    \"T_max\": 300, \n",
    "    \"T_0\": 20\n",
    "}"
   ]
  },
  {
   "cell_type": "code",
   "execution_count": 4,
   "metadata": {},
   "outputs": [
    {
     "name": "stdout",
     "output_type": "stream",
     "text": [
      "> SEEDING DONE\n"
     ]
    }
   ],
   "source": [
    "def set_seed(seed = 42):\n",
    "    '''Sets the seed of the entire notebook so results are the same every time we run.\n",
    "    This is for REPRODUCIBILITY.'''\n",
    "    np.random.seed(seed)\n",
    "    random.seed(seed)\n",
    "    torch.manual_seed(seed)\n",
    "    torch.cuda.manual_seed(seed)\n",
    "    # When running on the CuDNN backend, two further options must be set\n",
    "    torch.backends.cudnn.deterministic = True\n",
    "    torch.backends.cudnn.benchmark = False\n",
    "    # Set a fixed value for the hash seed\n",
    "    os.environ['PYTHONHASHSEED'] = str(seed)\n",
    "    print('> SEEDING DONE')\n",
    "    \n",
    "set_seed(CONFIG[\"SEED\"])"
   ]
  },
  {
   "cell_type": "code",
   "execution_count": 5,
   "metadata": {},
   "outputs": [
    {
     "data": {
      "text/html": [
       "<div>\n",
       "<style scoped>\n",
       "    .dataframe tbody tr th:only-of-type {\n",
       "        vertical-align: middle;\n",
       "    }\n",
       "\n",
       "    .dataframe tbody tr th {\n",
       "        vertical-align: top;\n",
       "    }\n",
       "\n",
       "    .dataframe thead th {\n",
       "        text-align: right;\n",
       "    }\n",
       "</style>\n",
       "<table border=\"1\" class=\"dataframe\">\n",
       "  <thead>\n",
       "    <tr style=\"text-align: right;\">\n",
       "      <th></th>\n",
       "      <th>id</th>\n",
       "      <th>organ</th>\n",
       "      <th>data_source</th>\n",
       "      <th>img_height</th>\n",
       "      <th>img_width</th>\n",
       "      <th>pixel_size</th>\n",
       "      <th>tissue_thickness</th>\n",
       "      <th>rle</th>\n",
       "      <th>age</th>\n",
       "      <th>sex</th>\n",
       "    </tr>\n",
       "  </thead>\n",
       "  <tbody>\n",
       "    <tr>\n",
       "      <th>0</th>\n",
       "      <td>10044</td>\n",
       "      <td>prostate</td>\n",
       "      <td>HPA</td>\n",
       "      <td>3000</td>\n",
       "      <td>3000</td>\n",
       "      <td>0.4</td>\n",
       "      <td>4</td>\n",
       "      <td>1459676 77 1462675 82 1465674 87 1468673 92 14...</td>\n",
       "      <td>37.0</td>\n",
       "      <td>Male</td>\n",
       "    </tr>\n",
       "    <tr>\n",
       "      <th>1</th>\n",
       "      <td>10274</td>\n",
       "      <td>prostate</td>\n",
       "      <td>HPA</td>\n",
       "      <td>3000</td>\n",
       "      <td>3000</td>\n",
       "      <td>0.4</td>\n",
       "      <td>4</td>\n",
       "      <td>715707 2 718705 8 721703 11 724701 18 727692 3...</td>\n",
       "      <td>76.0</td>\n",
       "      <td>Male</td>\n",
       "    </tr>\n",
       "    <tr>\n",
       "      <th>2</th>\n",
       "      <td>10392</td>\n",
       "      <td>spleen</td>\n",
       "      <td>HPA</td>\n",
       "      <td>3000</td>\n",
       "      <td>3000</td>\n",
       "      <td>0.4</td>\n",
       "      <td>4</td>\n",
       "      <td>1228631 20 1231629 24 1234624 40 1237623 47 12...</td>\n",
       "      <td>82.0</td>\n",
       "      <td>Male</td>\n",
       "    </tr>\n",
       "    <tr>\n",
       "      <th>3</th>\n",
       "      <td>10488</td>\n",
       "      <td>lung</td>\n",
       "      <td>HPA</td>\n",
       "      <td>3000</td>\n",
       "      <td>3000</td>\n",
       "      <td>0.4</td>\n",
       "      <td>4</td>\n",
       "      <td>3446519 15 3449517 17 3452514 20 3455510 24 34...</td>\n",
       "      <td>78.0</td>\n",
       "      <td>Male</td>\n",
       "    </tr>\n",
       "    <tr>\n",
       "      <th>4</th>\n",
       "      <td>10610</td>\n",
       "      <td>spleen</td>\n",
       "      <td>HPA</td>\n",
       "      <td>3000</td>\n",
       "      <td>3000</td>\n",
       "      <td>0.4</td>\n",
       "      <td>4</td>\n",
       "      <td>478925 68 481909 87 484893 105 487863 154 4908...</td>\n",
       "      <td>21.0</td>\n",
       "      <td>Female</td>\n",
       "    </tr>\n",
       "  </tbody>\n",
       "</table>\n",
       "</div>"
      ],
      "text/plain": [
       "      id     organ data_source  img_height  img_width  pixel_size  \\\n",
       "0  10044  prostate         HPA        3000       3000         0.4   \n",
       "1  10274  prostate         HPA        3000       3000         0.4   \n",
       "2  10392    spleen         HPA        3000       3000         0.4   \n",
       "3  10488      lung         HPA        3000       3000         0.4   \n",
       "4  10610    spleen         HPA        3000       3000         0.4   \n",
       "\n",
       "   tissue_thickness                                                rle   age  \\\n",
       "0                 4  1459676 77 1462675 82 1465674 87 1468673 92 14...  37.0   \n",
       "1                 4  715707 2 718705 8 721703 11 724701 18 727692 3...  76.0   \n",
       "2                 4  1228631 20 1231629 24 1234624 40 1237623 47 12...  82.0   \n",
       "3                 4  3446519 15 3449517 17 3452514 20 3455510 24 34...  78.0   \n",
       "4                 4  478925 68 481909 87 484893 105 487863 154 4908...  21.0   \n",
       "\n",
       "      sex  \n",
       "0    Male  \n",
       "1    Male  \n",
       "2    Male  \n",
       "3    Male  \n",
       "4  Female  "
      ]
     },
     "execution_count": 5,
     "metadata": {},
     "output_type": "execute_result"
    }
   ],
   "source": [
    "DIR = \"/home/lakshita/somusan/hubmap_kaggle/hubmap_data/hubmap-organ-segmentation/\"\n",
    "train_df = pd.read_csv(os.path.join(DIR,\"train.csv\"))\n",
    "train_df.head()"
   ]
  },
  {
   "cell_type": "code",
   "execution_count": 6,
   "metadata": {},
   "outputs": [],
   "source": [
    "TRAIN_DIR = DIR + \"train_images/\"\n",
    "func = lambda x: TRAIN_DIR + str(x) + \".tiff\"\n",
    "train_df[\"img_path\"] = train_df[\"id\"].apply(func)\n",
    "# train_df.head()"
   ]
  },
  {
   "cell_type": "code",
   "execution_count": 7,
   "metadata": {},
   "outputs": [
    {
     "name": "stdout",
     "output_type": "stream",
     "text": [
      "/home/lakshita/somusan/hubmap_kaggle/hubmap_data/mask_png/train_binary_masks/10892.png\n"
     ]
    },
    {
     "data": {
      "text/html": [
       "<div>\n",
       "<style scoped>\n",
       "    .dataframe tbody tr th:only-of-type {\n",
       "        vertical-align: middle;\n",
       "    }\n",
       "\n",
       "    .dataframe tbody tr th {\n",
       "        vertical-align: top;\n",
       "    }\n",
       "\n",
       "    .dataframe thead th {\n",
       "        text-align: right;\n",
       "    }\n",
       "</style>\n",
       "<table border=\"1\" class=\"dataframe\">\n",
       "  <thead>\n",
       "    <tr style=\"text-align: right;\">\n",
       "      <th></th>\n",
       "      <th>id</th>\n",
       "      <th>organ</th>\n",
       "      <th>data_source</th>\n",
       "      <th>img_height</th>\n",
       "      <th>img_width</th>\n",
       "      <th>pixel_size</th>\n",
       "      <th>tissue_thickness</th>\n",
       "      <th>rle</th>\n",
       "      <th>age</th>\n",
       "      <th>sex</th>\n",
       "      <th>img_path</th>\n",
       "      <th>mask_path</th>\n",
       "    </tr>\n",
       "  </thead>\n",
       "  <tbody>\n",
       "    <tr>\n",
       "      <th>0</th>\n",
       "      <td>10044</td>\n",
       "      <td>prostate</td>\n",
       "      <td>HPA</td>\n",
       "      <td>3000</td>\n",
       "      <td>3000</td>\n",
       "      <td>0.4</td>\n",
       "      <td>4</td>\n",
       "      <td>1459676 77 1462675 82 1465674 87 1468673 92 14...</td>\n",
       "      <td>37.0</td>\n",
       "      <td>Male</td>\n",
       "      <td>/home/lakshita/somusan/hubmap_kaggle/hubmap_da...</td>\n",
       "      <td>/home/lakshita/somusan/hubmap_kaggle/hubmap_da...</td>\n",
       "    </tr>\n",
       "    <tr>\n",
       "      <th>1</th>\n",
       "      <td>10274</td>\n",
       "      <td>prostate</td>\n",
       "      <td>HPA</td>\n",
       "      <td>3000</td>\n",
       "      <td>3000</td>\n",
       "      <td>0.4</td>\n",
       "      <td>4</td>\n",
       "      <td>715707 2 718705 8 721703 11 724701 18 727692 3...</td>\n",
       "      <td>76.0</td>\n",
       "      <td>Male</td>\n",
       "      <td>/home/lakshita/somusan/hubmap_kaggle/hubmap_da...</td>\n",
       "      <td>/home/lakshita/somusan/hubmap_kaggle/hubmap_da...</td>\n",
       "    </tr>\n",
       "    <tr>\n",
       "      <th>2</th>\n",
       "      <td>10392</td>\n",
       "      <td>spleen</td>\n",
       "      <td>HPA</td>\n",
       "      <td>3000</td>\n",
       "      <td>3000</td>\n",
       "      <td>0.4</td>\n",
       "      <td>4</td>\n",
       "      <td>1228631 20 1231629 24 1234624 40 1237623 47 12...</td>\n",
       "      <td>82.0</td>\n",
       "      <td>Male</td>\n",
       "      <td>/home/lakshita/somusan/hubmap_kaggle/hubmap_da...</td>\n",
       "      <td>/home/lakshita/somusan/hubmap_kaggle/hubmap_da...</td>\n",
       "    </tr>\n",
       "    <tr>\n",
       "      <th>3</th>\n",
       "      <td>10488</td>\n",
       "      <td>lung</td>\n",
       "      <td>HPA</td>\n",
       "      <td>3000</td>\n",
       "      <td>3000</td>\n",
       "      <td>0.4</td>\n",
       "      <td>4</td>\n",
       "      <td>3446519 15 3449517 17 3452514 20 3455510 24 34...</td>\n",
       "      <td>78.0</td>\n",
       "      <td>Male</td>\n",
       "      <td>/home/lakshita/somusan/hubmap_kaggle/hubmap_da...</td>\n",
       "      <td>/home/lakshita/somusan/hubmap_kaggle/hubmap_da...</td>\n",
       "    </tr>\n",
       "    <tr>\n",
       "      <th>4</th>\n",
       "      <td>10610</td>\n",
       "      <td>spleen</td>\n",
       "      <td>HPA</td>\n",
       "      <td>3000</td>\n",
       "      <td>3000</td>\n",
       "      <td>0.4</td>\n",
       "      <td>4</td>\n",
       "      <td>478925 68 481909 87 484893 105 487863 154 4908...</td>\n",
       "      <td>21.0</td>\n",
       "      <td>Female</td>\n",
       "      <td>/home/lakshita/somusan/hubmap_kaggle/hubmap_da...</td>\n",
       "      <td>/home/lakshita/somusan/hubmap_kaggle/hubmap_da...</td>\n",
       "    </tr>\n",
       "  </tbody>\n",
       "</table>\n",
       "</div>"
      ],
      "text/plain": [
       "      id     organ data_source  img_height  img_width  pixel_size  \\\n",
       "0  10044  prostate         HPA        3000       3000         0.4   \n",
       "1  10274  prostate         HPA        3000       3000         0.4   \n",
       "2  10392    spleen         HPA        3000       3000         0.4   \n",
       "3  10488      lung         HPA        3000       3000         0.4   \n",
       "4  10610    spleen         HPA        3000       3000         0.4   \n",
       "\n",
       "   tissue_thickness                                                rle   age  \\\n",
       "0                 4  1459676 77 1462675 82 1465674 87 1468673 92 14...  37.0   \n",
       "1                 4  715707 2 718705 8 721703 11 724701 18 727692 3...  76.0   \n",
       "2                 4  1228631 20 1231629 24 1234624 40 1237623 47 12...  82.0   \n",
       "3                 4  3446519 15 3449517 17 3452514 20 3455510 24 34...  78.0   \n",
       "4                 4  478925 68 481909 87 484893 105 487863 154 4908...  21.0   \n",
       "\n",
       "      sex                                           img_path  \\\n",
       "0    Male  /home/lakshita/somusan/hubmap_kaggle/hubmap_da...   \n",
       "1    Male  /home/lakshita/somusan/hubmap_kaggle/hubmap_da...   \n",
       "2    Male  /home/lakshita/somusan/hubmap_kaggle/hubmap_da...   \n",
       "3    Male  /home/lakshita/somusan/hubmap_kaggle/hubmap_da...   \n",
       "4  Female  /home/lakshita/somusan/hubmap_kaggle/hubmap_da...   \n",
       "\n",
       "                                           mask_path  \n",
       "0  /home/lakshita/somusan/hubmap_kaggle/hubmap_da...  \n",
       "1  /home/lakshita/somusan/hubmap_kaggle/hubmap_da...  \n",
       "2  /home/lakshita/somusan/hubmap_kaggle/hubmap_da...  \n",
       "3  /home/lakshita/somusan/hubmap_kaggle/hubmap_da...  \n",
       "4  /home/lakshita/somusan/hubmap_kaggle/hubmap_da...  "
      ]
     },
     "execution_count": 7,
     "metadata": {},
     "output_type": "execute_result"
    }
   ],
   "source": [
    "MASK_DIR = \"/home/lakshita/somusan/hubmap_kaggle/hubmap_data/mask_png/train_binary_masks/\"\n",
    "func1 = lambda x: MASK_DIR + str(x) + \".png\"\n",
    "train_df[\"mask_path\"] = train_df[\"id\"].apply(func1)\n",
    "print(train_df[\"mask_path\"].iloc[9])\n",
    "train_df.head()"
   ]
  },
  {
   "cell_type": "code",
   "execution_count": 8,
   "metadata": {},
   "outputs": [
    {
     "data": {
      "text/plain": [
       "('/home/lakshita/somusan/hubmap_kaggle/hubmap_data/hubmap-organ-segmentation/train_images/10044.tiff',\n",
       " '/home/lakshita/somusan/hubmap_kaggle/hubmap_data/mask_png/train_binary_masks/10044.png')"
      ]
     },
     "execution_count": 8,
     "metadata": {},
     "output_type": "execute_result"
    }
   ],
   "source": [
    "train_df[\"img_path\"].iloc[0], train_df[\"mask_path\"].iloc[0],"
   ]
  },
  {
   "cell_type": "code",
   "execution_count": 9,
   "metadata": {},
   "outputs": [
    {
     "data": {
      "text/plain": [
       "(3000, 3000, 3)"
      ]
     },
     "execution_count": 9,
     "metadata": {},
     "output_type": "execute_result"
    }
   ],
   "source": [
    "img = cv2.cvtColor(cv2.imread(train_df[\"img_path\"].iloc[0]), cv2.COLOR_BGR2RGB)\n",
    "mask = cv2.imread(train_df[\"mask_path\"].iloc[0],cv2.IMREAD_GRAYSCALE)\n",
    "img.shape"
   ]
  },
  {
   "cell_type": "code",
   "execution_count": 10,
   "metadata": {},
   "outputs": [
    {
     "data": {
      "text/plain": [
       "(298, 53)"
      ]
     },
     "execution_count": 10,
     "metadata": {},
     "output_type": "execute_result"
    }
   ],
   "source": [
    "train_df, test_df = train_test_split(train_df, test_size=0.15, random_state=CONFIG[\"SEED\"])\n",
    "train_df.__len__(), len(test_df)"
   ]
  },
  {
   "cell_type": "code",
   "execution_count": 11,
   "metadata": {},
   "outputs": [],
   "source": [
    "mean = np.array([0.7720342, 0.74582646, 0.76392896])\n",
    "std = np.array([0.24745085, 0.26182273, 0.25782376])\n",
    "\n",
    "\n",
    "def img2tensor(img,dtype:np.dtype=np.float32):\n",
    "    if img.ndim==2 : img = np.expand_dims(img,2)\n",
    "    img = np.transpose(img,(2,0,1))\n",
    "    return torch.from_numpy(img.astype(dtype, copy=False))\n",
    "\n",
    "\n",
    "\n",
    "class hubmap_data(Dataset):\n",
    "    def __init__(self, df, transform=None):\n",
    "        self.df = df\n",
    "        self.img_paths = df[\"img_path\"].to_numpy()\n",
    "        self.mask_paths = df[\"mask_path\"].to_numpy()\n",
    "        self.transform = transform\n",
    "        \n",
    "        \n",
    "    def __getitem__(self, index):\n",
    "        # load data from the pre-processed npy files\n",
    "        img_file = self.img_paths[index]\n",
    "\n",
    "        mask_file = self.mask_paths[index]\n",
    "        \n",
    "        # print(img_file)\n",
    "        # print(mask_file)\n",
    "\n",
    "        img = cv2.cvtColor(cv2.imread(img_file), cv2.COLOR_BGR2RGB)\n",
    "        mask = cv2.imread((mask_file),cv2.IMREAD_GRAYSCALE)\n",
    "        if self.transform is not None:\n",
    "            transformed = self.transform(image=img, mask=mask)\n",
    "            img = transformed[\"image\"]\n",
    "            mask = transformed[\"mask\"]\n",
    "            mask=mask.reshape((1, mask.shape[0], mask.shape[1]))\n",
    "\n",
    "            if mask.shape[-1] == 1:\n",
    "                mask = mask.permute(2,0,1)\n",
    "                \n",
    "\n",
    "        return  img, mask \n",
    "\n",
    "    def __len__(self):\n",
    "        return len(self.df)"
   ]
  },
  {
   "cell_type": "code",
   "execution_count": 12,
   "metadata": {},
   "outputs": [],
   "source": [
    "train_transform = A.Compose([\n",
    "        A.Resize(512, 512, p=1.0),\n",
    "        \n",
    "        A.OneOf([\n",
    "            A.HueSaturationValue(10,15,10),\n",
    "            A.CLAHE(clip_limit=7),\n",
    "            A.RandomBrightnessContrast(),\n",
    "        ], p=0.35),\n",
    "        ToTensorV2(),\n",
    "    ], p=1.0)\n",
    "\n",
    "\n",
    "test_transform = A.Compose(\n",
    "    [\n",
    "        A.Resize(512, 512, p=1.0),\n",
    "        ToTensorV2(),\n",
    "    ], p=1.0\n",
    ")"
   ]
  },
  {
   "cell_type": "code",
   "execution_count": 13,
   "metadata": {},
   "outputs": [
    {
     "data": {
      "text/plain": [
       "torch.uint8"
      ]
     },
     "execution_count": 13,
     "metadata": {},
     "output_type": "execute_result"
    }
   ],
   "source": [
    "train_data_ = hubmap_data(train_df, train_transform)\n",
    "train_data_[0][1].dtype"
   ]
  },
  {
   "cell_type": "code",
   "execution_count": 14,
   "metadata": {},
   "outputs": [
    {
     "name": "stdout",
     "output_type": "stream",
     "text": [
      "torch.Size([3, 512, 512]) torch.Size([1, 512, 512])\n",
      "torch.uint8\n"
     ]
    }
   ],
   "source": [
    "train_data = hubmap_data(train_df,train_transform)\n",
    "test_data = hubmap_data(test_df, test_transform) # CHANGED [change the augmentation method]\n",
    "\n",
    "print(train_data[10][0].shape, train_data[10][1].shape)\n",
    "# test_data[10][0].shape, test_data[10][1].shape\n",
    "print(train_data[10][1].dtype)"
   ]
  },
  {
   "cell_type": "code",
   "execution_count": 15,
   "metadata": {},
   "outputs": [
    {
     "name": "stdout",
     "output_type": "stream",
     "text": [
      "[0 1]\n"
     ]
    },
    {
     "data": {
      "image/png": "[encoded data removed]",
      "text/plain": [
       "<Figure size 720x576 with 2 Axes>"
      ]
     },
     "metadata": {
      "needs_background": "light"
     },
     "output_type": "display_data"
    }
   ],
   "source": [
    "temp_img = train_data[51][0]\n",
    "temp_mask = train_data[51][1]\n",
    "# plt.imshow(temp_mask.detach().numpy())\n",
    "# plt.imshow(temp_img.permute(1,2,0).detach().numpy())\n",
    "\n",
    "img_trfm = (temp_img.permute(1,2,0)).detach().numpy()\n",
    "mask_trfm = (temp_mask.permute(1,2,0)).detach().numpy()\n",
    "\n",
    "plt.figure(figsize=(10,8))\n",
    "plt.subplot(1,2,1)\n",
    "plt.imshow(img_trfm)\n",
    "\n",
    "\n",
    "plt.subplot(1,2,2)\n",
    "plt.imshow(mask_trfm.reshape(512,512))\n",
    "print(np.unique(mask_trfm))\n",
    "# temp_img.permute(1,2,0).detach().numpy() # 0.00784314 0.00392157"
   ]
  },
  {
   "cell_type": "code",
   "execution_count": 16,
   "metadata": {},
   "outputs": [],
   "source": [
    "def init_model():\n",
    "    model =  smp.Unet(\n",
    "                 encoder_name='efficientnet-b0',\n",
    "                 encoder_weights='imagenet',\n",
    "                 in_channels=3,\n",
    "                 classes=1)\n",
    "    return model"
   ]
  },
  {
   "cell_type": "code",
   "execution_count": 17,
   "metadata": {},
   "outputs": [
    {
     "data": {
      "text/plain": [
       "torch.Size([1, 1, 512, 512])"
      ]
     },
     "execution_count": 17,
     "metadata": {},
     "output_type": "execute_result"
    }
   ],
   "source": [
    "train_on_gpu = torch.cuda.is_available()\n",
    "model = init_model() #UNet(n_channels=CONFIG[\"in_channels\"], n_classes=CONFIG[\"num_classes\"])\n",
    "if train_on_gpu:\n",
    "    model.cuda()\n",
    "\n",
    "model(temp_img.unsqueeze(0).float().cuda()).shape"
   ]
  },
  {
   "cell_type": "code",
   "execution_count": 18,
   "metadata": {},
   "outputs": [],
   "source": [
    "# REMARK shuffle = False [result might change with shuffle =True]\n",
    "train_loader = torch.utils.data.DataLoader(\n",
    "               dataset=train_data,\n",
    "               batch_size=8,#CONFIG[\"BATCH_SIZE\"],\n",
    "               shuffle=False,\n",
    "               num_workers=2)\n",
    "\n",
    "test_loader = torch.utils.data.DataLoader(\n",
    "              dataset=test_data,\n",
    "              batch_size=CONFIG[\"BATCH_SIZE\"],\n",
    "              shuffle=False,\n",
    "              num_workers=2)"
   ]
  },
  {
   "cell_type": "code",
   "execution_count": 19,
   "metadata": {},
   "outputs": [
    {
     "name": "stdout",
     "output_type": "stream",
     "text": [
      "torch.uint8\n"
     ]
    },
    {
     "data": {
      "image/png": "[encoded data removed]",
      "text/plain": [
       "<Figure size 1152x1152 with 8 Axes>"
      ]
     },
     "metadata": {
      "needs_background": "light"
     },
     "output_type": "display_data"
    }
   ],
   "source": [
    "# ds = HuBMAPDataset(tfms=albu_aug())\n",
    "# dl = torch.utils.data.DataLoader(ds,batch_size=64,shuffle=False,num_workers=NUM_WORKERS)\n",
    "it = iter(train_loader)\n",
    "imgs,masks = next(it)\n",
    "print(masks.dtype)\n",
    "plt.figure(figsize=(16,16))\n",
    "for i,(img,mask) in enumerate(zip(imgs,masks)):\n",
    "    img = ((img.permute(1,2,0))).numpy().astype(np.uint8)  # H , W , C\n",
    "    plt.subplot(8,8,i+1)\n",
    "    plt.imshow(img,vmin=0,vmax=255)\n",
    "    plt.imshow(mask.squeeze().numpy(), alpha=0.2)\n",
    "    plt.axis('off')\n",
    "    plt.subplots_adjust(wspace=None, hspace=None)\n",
    "    \n",
    "# del ds,dl,imgs,masks"
   ]
  },
  {
   "cell_type": "code",
   "execution_count": 20,
   "metadata": {},
   "outputs": [],
   "source": [
    "def get_scheduler(optimizer):\n",
    "    num_steps = 12\n",
    "      \n",
    "    if CONFIG[\"scheduler\"] == 'CosineAnnealingLR':\n",
    "        scheduler = lr_scheduler.CosineAnnealingLR(optimizer,T_max=CONFIG['T_max'], \n",
    "                                                   eta_min=CONFIG['min_lr'])\n",
    "        \n",
    "    elif CONFIG[\"scheduler\"] == 'ReduceLROnPlateau':\n",
    "        scheduler = lr_scheduler.ReduceLROnPlateau(optimizer, mode='min', factor=0.1, patience=7, threshold=0.0001, min_lr=1e-6)\n",
    "    elif CONFIG[\"scheduler\"] == 'ExponentialLR':\n",
    "        scheduler = lr_scheduler.ExponentialLR(optimizer, gamma=0.85)\n",
    "    elif CONFIG['scheduler'] == 'CosineAnnealingWarmRestarts':\n",
    "        scheduler = lr_scheduler.CosineAnnealingWarmRestarts(optimizer,T_0=CONFIG['T_0'], \n",
    "                                                             eta_min=CONFIG['min_lr'])\n",
    "        \n",
    "    return scheduler"
   ]
  },
  {
   "cell_type": "code",
   "execution_count": 21,
   "metadata": {},
   "outputs": [],
   "source": [
    "#PyTorch\n",
    "class DiceLoss(nn.Module):\n",
    "    def __init__(self, weight=None, size_average=True):\n",
    "        super(DiceLoss, self).__init__()\n",
    "\n",
    "    def forward(self, inputs, targets, smooth=1):\n",
    "        \n",
    "        #comment out if your model contains a sigmoid or equivalent activation layer\n",
    "        inputs = F.sigmoid(inputs)       \n",
    "        \n",
    "        #flatten label and prediction tensors\n",
    "        inputs = inputs.view(-1)\n",
    "        targets = targets.view(-1)\n",
    "        \n",
    "        intersection = (inputs * targets).sum()                            \n",
    "        dice = (2.*intersection + smooth)/(inputs.sum() + targets.sum() + smooth)  \n",
    "        \n",
    "        return 1 - dice\n",
    "\n",
    "class CustomLoss(nn.Module):\n",
    "    def __init__(self):\n",
    "        super(CustomLoss,self).__init__()\n",
    "        self.diceloss = smp.losses.DiceLoss(mode='binary')\n",
    "        self.binloss = smp.losses.SoftBCEWithLogitsLoss(reduction = 'mean' , smooth_factor = 0.1)\n",
    "\n",
    "    def forward(self, outputs, mask):\n",
    "        dice = self.diceloss(outputs,mask)\n",
    "        bce = self.binloss(outputs , mask)\n",
    "        loss = dice * 0.3 + bce * 0.7\n",
    "        return loss\n",
    "\n",
    "#DiceLoss() #Dice()\n",
    "JaccardLoss = smp.losses.JaccardLoss(mode='multilabel')\n",
    "Dice_loss    = smp.losses.DiceLoss(mode='binary')\n",
    "BCELoss     = smp.losses.SoftBCEWithLogitsLoss(reduction = 'mean' , smooth_factor = 0.1)\n",
    "LovaszLoss  = smp.losses.LovaszLoss(mode='multilabel', per_image=False)\n",
    "TverskyLoss = smp.losses.TverskyLoss(mode='multilabel', log_loss=False)\n",
    "\n",
    "loss_fn = CustomLoss() #BCELoss #Dice_loss\n",
    "optimizer = optim.Adam(model.parameters(), lr=CONFIG[\"LEARNING_RATE\"])"
   ]
  },
  {
   "cell_type": "code",
   "execution_count": 22,
   "metadata": {},
   "outputs": [],
   "source": [
    "class DiceCoef(nn.Module):\n",
    "    def __init__(self, weight=None, size_average=True):\n",
    "        super().__init__()\n",
    "\n",
    "    def forward(self, y_pred, y_true, smooth=1.):\n",
    "        y_true = y_true.view(-1)\n",
    "        y_pred = y_pred.view(-1)\n",
    "        \n",
    "        #Round off y_pred\n",
    "        y_pred = torch.round((y_pred - y_pred.min()) / (y_pred.max() - y_pred.min()))\n",
    "        \n",
    "        intersection = (y_true * y_pred).sum()\n",
    "        dice = (2.0*intersection + smooth)/(y_true.sum() + y_pred.sum() + smooth)\n",
    "        \n",
    "        return dice\n",
    "\n",
    "def dice_coef(y_true, y_pred, thr=0.5, dim=(2,3), epsilon=0.001):\n",
    "    \n",
    "    \n",
    "    y_true = y_true.to(torch.float32)\n",
    "    y_pred = (y_pred>thr).to(torch.float32)\n",
    "    \n",
    "    inter = (y_true*y_pred).sum(dim=dim)\n",
    "    den = y_true.sum(dim=dim) + y_pred.sum(dim=dim)\n",
    "    dice = ((2*inter+epsilon)/(den+epsilon)).mean(dim=(1,0))\n",
    "    return dice\n",
    "\n",
    "def iou_coef(y_true, y_pred, thr=0.5, dim=(2,3), epsilon=0.001):\n",
    "    y_true = y_true.to(torch.float32)\n",
    "    y_pred = (y_pred>thr).to(torch.float32)\n",
    "    inter = (y_true*y_pred).sum(dim=dim)\n",
    "    union = (y_true + y_pred - y_true*y_pred).sum(dim=dim)\n",
    "    iou = ((inter+epsilon)/(union+epsilon)).mean(dim=(1,0))\n",
    "    return iou\n",
    "\n",
    "dice_coe = DiceCoef()"
   ]
  },
  {
   "cell_type": "code",
   "execution_count": 23,
   "metadata": {},
   "outputs": [],
   "source": [
    "model_path = \"./model_weights_effunetb0_no_sch_orgsize_bin_class/\"\n",
    "if not os.path.exists(model_path):\n",
    "    os.makedirs(model_path)\n",
    "    \n",
    "def save_model(model, optimizer, criterion, epoch):\n",
    "    \"\"\"\n",
    "    Function to save the trained model to disk.\n",
    "    \"\"\"\n",
    "    print(f\"\\n Saving model at {epoch}th epoch\")\n",
    "    fname = f'{model_path}/{CONFIG[\"model_name\"]}-{CONFIG[\"LEARNING_RATE\"]}-{CONFIG[\"AUG\"]}-{epoch}-{CONFIG[\"BATCH_SIZE\"]}.pth'\n",
    "    torch.save({\n",
    "                'epoch': epoch,\n",
    "                'model_state_dict': model.state_dict(),\n",
    "                'optimizer_state_dict': optimizer.state_dict(),\n",
    "                'loss': criterion,\n",
    "                }, fname )\n",
    "    return fname"
   ]
  },
  {
   "cell_type": "code",
   "execution_count": 24,
   "metadata": {},
   "outputs": [],
   "source": [
    "# https://www.kaggle.com/code/debarshichanda/pytorch-w-b-birdclef-22-starter#Training-Function\n",
    "def train_fn(loader, model, optimizer, loss_fn,epoch, scheduler=None):\n",
    "    bar = tqdm(enumerate(loader), total=len(loader))\n",
    "    \n",
    "    \n",
    "    running_loss = 0.0\n",
    "    dataset_size = 0\n",
    "    \n",
    "    for batch_idx, (data, targets) in bar:\n",
    "        data = data.float().to(device=CONFIG[\"DEVICE\"])\n",
    "        targets = targets.float().to(device=CONFIG[\"DEVICE\"])\n",
    "\n",
    "        # forward\n",
    "        predictions = model(data)\n",
    "\n",
    "        loss = loss_fn(predictions, targets)\n",
    "\n",
    "        \n",
    "        optimizer.zero_grad()\n",
    "        # backward\n",
    "        loss.backward()\n",
    "        # Update Weights\n",
    "        optimizer.step()\n",
    "        \n",
    "        if scheduler is not None:\n",
    "            scheduler.step()\n",
    "            \n",
    "        # Calculate Loss\n",
    "        running_loss += loss.item()\n",
    "        \n",
    "        epoch_loss = running_loss / len(loader)\n",
    "#         running_loss += (loss.item() * BATCH_SIZE)\n",
    "#         dataset_size += BATCH_SIZE\n",
    "        \n",
    "#         epoch_loss = running_loss / dataset_size\n",
    "        # update tqdm loop\n",
    "        bar.set_postfix(Epoch=epoch,loss=epoch_loss)\n",
    "    \n",
    "        \n",
    "    gc.collect()\n",
    "    \n",
    "    return epoch_loss"
   ]
  },
  {
   "cell_type": "code",
   "execution_count": 25,
   "metadata": {},
   "outputs": [],
   "source": [
    "@torch.no_grad()\n",
    "def valid_one_epoch(model, dataloader, device, epoch, loss_fn):\n",
    "    model.eval()\n",
    "    \n",
    "    dataset_size = 0\n",
    "    running_loss = 0.0\n",
    "#     criterion = losses[CFG.loss]\n",
    "    \n",
    "    val_scores = []\n",
    "    \n",
    "    pbar = tqdm(enumerate(dataloader), total=len(dataloader))\n",
    "    for step, (images, masks) in pbar:\n",
    "        images  = images.to(CONFIG[\"DEVICE\"], dtype=torch.float)\n",
    "        masks   = masks.to(CONFIG[\"DEVICE\"], dtype=torch.float)\n",
    "        \n",
    "        \n",
    "        y_pred  = model(images)\n",
    "        loss    = loss_fn(y_pred, masks)\n",
    "        \n",
    "        running_loss += (loss.item() * CONFIG[\"BATCH_SIZE\"])\n",
    "        dataset_size += CONFIG[\"BATCH_SIZE\"]\n",
    "        \n",
    "        epoch_loss = running_loss / dataset_size\n",
    "        \n",
    "        y_pred = nn.Sigmoid()(y_pred)\n",
    "        # msks = (y_pred.permute((0,2,3,1))>0.5).to(torch.uint8).cpu().detach().numpy()\n",
    "        # seg = (msks >= 1).astype(np.uint8)  # binary mask\n",
    "        # y_pred = binary_opening(seg, structure=disk(6)).astype(np.uint8)\n",
    "        # y_pred = torch.from_numpy(y_pred)\n",
    "\n",
    "        val_dice = dice_coef(masks, y_pred).cpu().numpy()\n",
    "        val_jaccard = iou_coef(masks, y_pred).cpu().numpy()\n",
    "        val_scores.append([val_dice, val_jaccard])\n",
    "        \n",
    "        mem = torch.cuda.memory_reserved() / 1E9 if torch.cuda.is_available() else 0\n",
    "        current_lr = optimizer.param_groups[0]['lr']\n",
    "        pbar.set_postfix(valid_loss=f'{epoch_loss:0.4f}',\n",
    "                        lr=f'{current_lr:0.5f}',\n",
    "                        gpu_memory=f'{mem:0.2f} GB')\n",
    "    val_scores  = np.mean(val_scores, axis=0)\n",
    "    torch.cuda.empty_cache()\n",
    "    gc.collect()\n",
    "    \n",
    "    return epoch_loss, val_scores"
   ]
  },
  {
   "cell_type": "code",
   "execution_count": 26,
   "metadata": {},
   "outputs": [
    {
     "name": "stdout",
     "output_type": "stream",
     "text": [
      "\u001b[0m===================== Epoch: [1/300] =====================\n"
     ]
    },
    {
     "name": "stderr",
     "output_type": "stream",
     "text": [
      "100%|██████████| 38/38 [00:13<00:00,  2.73it/s, Epoch=1, loss=0.781]\n",
      "100%|██████████| 7/7 [00:01<00:00,  4.20it/s, gpu_memory=6.49 GB, lr=0.00010, valid_loss=32.0516]\n"
     ]
    },
    {
     "name": "stdout",
     "output_type": "stream",
     "text": [
      "\n",
      " Saving model at 1th epoch\n",
      "\n",
      " Final Train Loss: 0.7813  |  Final Val Loss: 32.0516\n",
      "Valid Dice: 0.1372 | Valid Jaccard: 0.0771\n",
      "\u001b[34mval dice increased: -inf ---> 0.13723380863666534\n",
      "\u001b[34mval jaccard increased: -inf ---> 0.07712186127901077\n",
      "\u001b[0m===================== Epoch: [2/300] =====================\n"
     ]
    },
    {
     "name": "stderr",
     "output_type": "stream",
     "text": [
      "100%|██████████| 38/38 [00:13<00:00,  2.84it/s, Epoch=2, loss=3.55]\n",
      "100%|██████████| 7/7 [00:01<00:00,  4.25it/s, gpu_memory=6.49 GB, lr=0.00009, valid_loss=0.7765]\n"
     ]
    },
    {
     "name": "stdout",
     "output_type": "stream",
     "text": [
      "\n",
      " Saving model at 2th epoch\n",
      "\n",
      " Final Train Loss: 3.5483  |  Final Val Loss: 0.7765\n",
      "Valid Dice: 0.1374 | Valid Jaccard: 0.0756\n",
      "\u001b[34mval dice increased: 0.13723380863666534 ---> 0.13736365735530853\n",
      "\u001b[0m===================== Epoch: [3/300] =====================\n"
     ]
    },
    {
     "name": "stderr",
     "output_type": "stream",
     "text": [
      "100%|██████████| 38/38 [00:12<00:00,  3.04it/s, Epoch=3, loss=0.747]\n",
      "100%|██████████| 7/7 [00:01<00:00,  4.36it/s, gpu_memory=6.48 GB, lr=0.00007, valid_loss=0.6871]\n"
     ]
    },
    {
     "name": "stdout",
     "output_type": "stream",
     "text": [
      "\n",
      " Saving model at 3th epoch\n",
      "\n",
      " Final Train Loss: 0.7467  |  Final Val Loss: 0.6871\n",
      "Valid Dice: 0.1588 | Valid Jaccard: 0.0890\n",
      "\u001b[34mval dice increased: 0.13736365735530853 ---> 0.15877434611320496\n",
      "\u001b[34mval jaccard increased: 0.07712186127901077 ---> 0.0890023484826088\n",
      "\u001b[0m===================== Epoch: [4/300] =====================\n"
     ]
    },
    {
     "name": "stderr",
     "output_type": "stream",
     "text": [
      "100%|██████████| 38/38 [00:12<00:00,  3.04it/s, Epoch=4, loss=0.689]\n",
      "100%|██████████| 7/7 [00:01<00:00,  4.33it/s, gpu_memory=6.49 GB, lr=0.00005, valid_loss=0.6561]\n"
     ]
    },
    {
     "name": "stdout",
     "output_type": "stream",
     "text": [
      "\n",
      " Saving model at 4th epoch\n",
      "\n",
      " Final Train Loss: 0.6887  |  Final Val Loss: 0.6561\n",
      "Valid Dice: 0.1623 | Valid Jaccard: 0.0913\n",
      "\u001b[34mval dice increased: 0.15877434611320496 ---> 0.16232050955295563\n",
      "\u001b[34mval jaccard increased: 0.0890023484826088 ---> 0.09129811078310013\n",
      "\u001b[0m===================== Epoch: [5/300] =====================\n"
     ]
    },
    {
     "name": "stderr",
     "output_type": "stream",
     "text": [
      "100%|██████████| 38/38 [00:12<00:00,  3.08it/s, Epoch=5, loss=0.658]\n",
      "100%|██████████| 7/7 [00:01<00:00,  4.32it/s, gpu_memory=6.48 GB, lr=0.00003, valid_loss=0.6383]\n"
     ]
    },
    {
     "name": "stdout",
     "output_type": "stream",
     "text": [
      "\n",
      " Saving model at 5th epoch\n",
      "\n",
      " Final Train Loss: 0.6581  |  Final Val Loss: 0.6383\n",
      "Valid Dice: 0.1647 | Valid Jaccard: 0.0927\n",
      "\u001b[34mval dice increased: 0.16232050955295563 ---> 0.16468143463134766\n",
      "\u001b[34mval jaccard increased: 0.09129811078310013 ---> 0.09274496138095856\n",
      "\u001b[0m===================== Epoch: [6/300] =====================\n"
     ]
    },
    {
     "name": "stderr",
     "output_type": "stream",
     "text": [
      "100%|██████████| 38/38 [00:12<00:00,  3.02it/s, Epoch=6, loss=0.646]\n",
      "100%|██████████| 7/7 [00:01<00:00,  4.32it/s, gpu_memory=6.49 GB, lr=0.00001, valid_loss=0.6307]\n"
     ]
    },
    {
     "name": "stdout",
     "output_type": "stream",
     "text": [
      "\n",
      " Saving model at 6th epoch\n",
      "\n",
      " Final Train Loss: 0.6459  |  Final Val Loss: 0.6307\n",
      "Valid Dice: 0.1710 | Valid Jaccard: 0.0969\n",
      "\u001b[34mval dice increased: 0.16468143463134766 ---> 0.17103907465934753\n",
      "\u001b[34mval jaccard increased: 0.09274496138095856 ---> 0.09686005115509033\n",
      "\u001b[0m===================== Epoch: [7/300] =====================\n"
     ]
    },
    {
     "name": "stderr",
     "output_type": "stream",
     "text": [
      "100%|██████████| 38/38 [00:12<00:00,  3.04it/s, Epoch=7, loss=0.638]\n",
      "100%|██████████| 7/7 [00:01<00:00,  4.34it/s, gpu_memory=6.48 GB, lr=0.00000, valid_loss=0.6261]\n"
     ]
    },
    {
     "name": "stdout",
     "output_type": "stream",
     "text": [
      "\n",
      " Saving model at 7th epoch\n",
      "\n",
      " Final Train Loss: 0.6381  |  Final Val Loss: 0.6261\n",
      "Valid Dice: 0.1719 | Valid Jaccard: 0.0975\n",
      "\u001b[34mval dice increased: 0.17103907465934753 ---> 0.17194664478302002\n",
      "\u001b[34mval jaccard increased: 0.09686005115509033 ---> 0.0974796861410141\n",
      "\u001b[0m===================== Epoch: [8/300] =====================\n"
     ]
    },
    {
     "name": "stderr",
     "output_type": "stream",
     "text": [
      "100%|██████████| 38/38 [00:12<00:00,  3.02it/s, Epoch=8, loss=0.634]\n",
      "100%|██████████| 7/7 [00:01<00:00,  4.34it/s, gpu_memory=6.49 GB, lr=0.00000, valid_loss=0.6239]\n"
     ]
    },
    {
     "name": "stdout",
     "output_type": "stream",
     "text": [
      "\n",
      " Saving model at 8th epoch\n",
      "\n",
      " Final Train Loss: 0.6344  |  Final Val Loss: 0.6239\n",
      "Valid Dice: 0.1682 | Valid Jaccard: 0.0950\n",
      "\u001b[0m===================== Epoch: [9/300] =====================\n"
     ]
    },
    {
     "name": "stderr",
     "output_type": "stream",
     "text": [
      "100%|██████████| 38/38 [00:12<00:00,  3.06it/s, Epoch=9, loss=0.633]\n",
      "100%|██████████| 7/7 [00:01<00:00,  4.24it/s, gpu_memory=6.48 GB, lr=0.00001, valid_loss=0.6231]\n"
     ]
    },
    {
     "name": "stdout",
     "output_type": "stream",
     "text": [
      "\n",
      " Saving model at 9th epoch\n",
      "\n",
      " Final Train Loss: 0.6328  |  Final Val Loss: 0.6231\n",
      "Valid Dice: 0.1684 | Valid Jaccard: 0.0952\n",
      "\u001b[0m===================== Epoch: [10/300] =====================\n"
     ]
    },
    {
     "name": "stderr",
     "output_type": "stream",
     "text": [
      "100%|██████████| 38/38 [00:12<00:00,  3.05it/s, Epoch=10, loss=0.629]\n",
      "100%|██████████| 7/7 [00:01<00:00,  4.36it/s, gpu_memory=6.49 GB, lr=0.00002, valid_loss=0.6173]\n"
     ]
    },
    {
     "name": "stdout",
     "output_type": "stream",
     "text": [
      "\n",
      " Saving model at 10th epoch\n",
      "\n",
      " Final Train Loss: 0.6291  |  Final Val Loss: 0.6173\n",
      "Valid Dice: 0.1642 | Valid Jaccard: 0.0925\n",
      "\u001b[0m===================== Epoch: [11/300] =====================\n"
     ]
    },
    {
     "name": "stderr",
     "output_type": "stream",
     "text": [
      "100%|██████████| 38/38 [00:12<00:00,  3.06it/s, Epoch=11, loss=0.63] \n",
      "100%|██████████| 7/7 [00:01<00:00,  4.31it/s, gpu_memory=6.48 GB, lr=0.00003, valid_loss=0.6294]\n"
     ]
    },
    {
     "name": "stdout",
     "output_type": "stream",
     "text": [
      "\n",
      " Saving model at 11th epoch\n",
      "\n",
      " Final Train Loss: 0.6301  |  Final Val Loss: 0.6294\n",
      "Valid Dice: 0.1338 | Valid Jaccard: 0.0736\n",
      "\u001b[0m===================== Epoch: [12/300] =====================\n"
     ]
    },
    {
     "name": "stderr",
     "output_type": "stream",
     "text": [
      "100%|██████████| 38/38 [00:12<00:00,  3.02it/s, Epoch=12, loss=0.624]\n",
      "100%|██████████| 7/7 [00:01<00:00,  4.36it/s, gpu_memory=6.49 GB, lr=0.00005, valid_loss=0.6003]\n"
     ]
    },
    {
     "name": "stdout",
     "output_type": "stream",
     "text": [
      "\n",
      " Saving model at 12th epoch\n",
      "\n",
      " Final Train Loss: 0.6241  |  Final Val Loss: 0.6003\n",
      "Valid Dice: 0.1531 | Valid Jaccard: 0.0853\n",
      "\u001b[0m===================== Epoch: [13/300] =====================\n"
     ]
    },
    {
     "name": "stderr",
     "output_type": "stream",
     "text": [
      "100%|██████████| 38/38 [00:12<00:00,  3.04it/s, Epoch=13, loss=0.6]  \n",
      "100%|██████████| 7/7 [00:01<00:00,  4.28it/s, gpu_memory=6.48 GB, lr=0.00007, valid_loss=0.5920]\n"
     ]
    },
    {
     "name": "stdout",
     "output_type": "stream",
     "text": [
      "\n",
      " Saving model at 13th epoch\n",
      "\n",
      " Final Train Loss: 0.6003  |  Final Val Loss: 0.5920\n",
      "Valid Dice: 0.1164 | Valid Jaccard: 0.0635\n",
      "\u001b[0m===================== Epoch: [14/300] =====================\n"
     ]
    },
    {
     "name": "stderr",
     "output_type": "stream",
     "text": [
      "100%|██████████| 38/38 [00:12<00:00,  3.01it/s, Epoch=14, loss=0.587]\n",
      "100%|██████████| 7/7 [00:01<00:00,  4.31it/s, gpu_memory=6.49 GB, lr=0.00009, valid_loss=0.5735]\n"
     ]
    },
    {
     "name": "stdout",
     "output_type": "stream",
     "text": [
      "\n",
      " Saving model at 14th epoch\n",
      "\n",
      " Final Train Loss: 0.5870  |  Final Val Loss: 0.5735\n",
      "Valid Dice: 0.0826 | Valid Jaccard: 0.0443\n",
      "\u001b[0m===================== Epoch: [15/300] =====================\n"
     ]
    },
    {
     "name": "stderr",
     "output_type": "stream",
     "text": [
      "100%|██████████| 38/38 [00:12<00:00,  3.03it/s, Epoch=15, loss=0.574]\n",
      "100%|██████████| 7/7 [00:01<00:00,  4.38it/s, gpu_memory=6.48 GB, lr=0.00010, valid_loss=0.5708]\n"
     ]
    },
    {
     "name": "stdout",
     "output_type": "stream",
     "text": [
      "\n",
      " Saving model at 15th epoch\n",
      "\n",
      " Final Train Loss: 0.5742  |  Final Val Loss: 0.5708\n",
      "Valid Dice: 0.0674 | Valid Jaccard: 0.0359\n",
      "\u001b[0m===================== Epoch: [16/300] =====================\n"
     ]
    },
    {
     "name": "stderr",
     "output_type": "stream",
     "text": [
      "100%|██████████| 38/38 [00:12<00:00,  3.02it/s, Epoch=16, loss=0.56] \n",
      "100%|██████████| 7/7 [00:01<00:00,  4.45it/s, gpu_memory=6.49 GB, lr=0.00010, valid_loss=0.5771]\n"
     ]
    },
    {
     "name": "stdout",
     "output_type": "stream",
     "text": [
      "\n",
      " Saving model at 16th epoch\n",
      "\n",
      " Final Train Loss: 0.5599  |  Final Val Loss: 0.5771\n",
      "Valid Dice: 0.0741 | Valid Jaccard: 0.0415\n",
      "\u001b[0m===================== Epoch: [17/300] =====================\n"
     ]
    },
    {
     "name": "stderr",
     "output_type": "stream",
     "text": [
      "100%|██████████| 38/38 [00:12<00:00,  3.02it/s, Epoch=17, loss=0.559]\n",
      "100%|██████████| 7/7 [00:01<00:00,  4.34it/s, gpu_memory=6.48 GB, lr=0.00009, valid_loss=0.5704]\n"
     ]
    },
    {
     "name": "stdout",
     "output_type": "stream",
     "text": [
      "\n",
      " Saving model at 17th epoch\n",
      "\n",
      " Final Train Loss: 0.5592  |  Final Val Loss: 0.5704\n",
      "Valid Dice: 0.0585 | Valid Jaccard: 0.0316\n",
      "\u001b[0m===================== Epoch: [18/300] =====================\n"
     ]
    },
    {
     "name": "stderr",
     "output_type": "stream",
     "text": [
      "100%|██████████| 38/38 [00:12<00:00,  3.04it/s, Epoch=18, loss=0.56] \n",
      "100%|██████████| 7/7 [00:01<00:00,  4.33it/s, gpu_memory=6.49 GB, lr=0.00008, valid_loss=0.5569]\n"
     ]
    },
    {
     "name": "stdout",
     "output_type": "stream",
     "text": [
      "\n",
      " Saving model at 18th epoch\n",
      "\n",
      " Final Train Loss: 0.5599  |  Final Val Loss: 0.5569\n",
      "Valid Dice: 0.0877 | Valid Jaccard: 0.0495\n",
      "\u001b[0m===================== Epoch: [19/300] =====================\n"
     ]
    },
    {
     "name": "stderr",
     "output_type": "stream",
     "text": [
      "100%|██████████| 38/38 [00:12<00:00,  3.06it/s, Epoch=19, loss=0.551]\n",
      "100%|██████████| 7/7 [00:01<00:00,  4.36it/s, gpu_memory=6.48 GB, lr=0.00006, valid_loss=0.5503]\n"
     ]
    },
    {
     "name": "stdout",
     "output_type": "stream",
     "text": [
      "\n",
      " Saving model at 19th epoch\n",
      "\n",
      " Final Train Loss: 0.5514  |  Final Val Loss: 0.5503\n",
      "Valid Dice: 0.1151 | Valid Jaccard: 0.0665\n",
      "\u001b[0m===================== Epoch: [20/300] =====================\n"
     ]
    },
    {
     "name": "stderr",
     "output_type": "stream",
     "text": [
      "100%|██████████| 38/38 [00:12<00:00,  3.04it/s, Epoch=20, loss=0.544]\n",
      "100%|██████████| 7/7 [00:01<00:00,  4.31it/s, gpu_memory=6.49 GB, lr=0.00005, valid_loss=0.5473]\n"
     ]
    },
    {
     "name": "stdout",
     "output_type": "stream",
     "text": [
      "\n",
      " Saving model at 20th epoch\n",
      "\n",
      " Final Train Loss: 0.5444  |  Final Val Loss: 0.5473\n",
      "Valid Dice: 0.1963 | Valid Jaccard: 0.1250\n",
      "\u001b[34mval dice increased: 0.17194664478302002 ---> 0.19627918303012848\n",
      "\u001b[34mval jaccard increased: 0.0974796861410141 ---> 0.12496088445186615\n",
      "\u001b[0m===================== Epoch: [21/300] =====================\n"
     ]
    },
    {
     "name": "stderr",
     "output_type": "stream",
     "text": [
      "100%|██████████| 38/38 [00:12<00:00,  3.03it/s, Epoch=21, loss=0.531]\n",
      "100%|██████████| 7/7 [00:01<00:00,  4.32it/s, gpu_memory=6.48 GB, lr=0.00003, valid_loss=0.5430]\n"
     ]
    },
    {
     "name": "stdout",
     "output_type": "stream",
     "text": [
      "\n",
      " Saving model at 21th epoch\n",
      "\n",
      " Final Train Loss: 0.5315  |  Final Val Loss: 0.5430\n",
      "Valid Dice: 0.1770 | Valid Jaccard: 0.1147\n",
      "\u001b[0m===================== Epoch: [22/300] =====================\n"
     ]
    },
    {
     "name": "stderr",
     "output_type": "stream",
     "text": [
      "100%|██████████| 38/38 [00:12<00:00,  3.04it/s, Epoch=22, loss=0.53] \n",
      "100%|██████████| 7/7 [00:01<00:00,  4.32it/s, gpu_memory=6.49 GB, lr=0.00001, valid_loss=0.5397]\n"
     ]
    },
    {
     "name": "stdout",
     "output_type": "stream",
     "text": [
      "\n",
      " Saving model at 22th epoch\n",
      "\n",
      " Final Train Loss: 0.5297  |  Final Val Loss: 0.5397\n",
      "Valid Dice: 0.2059 | Valid Jaccard: 0.1376\n",
      "\u001b[34mval dice increased: 0.19627918303012848 ---> 0.20594000816345215\n",
      "\u001b[34mval jaccard increased: 0.12496088445186615 ---> 0.13759435713291168\n",
      "\u001b[0m===================== Epoch: [23/300] =====================\n"
     ]
    },
    {
     "name": "stderr",
     "output_type": "stream",
     "text": [
      "100%|██████████| 38/38 [00:12<00:00,  3.01it/s, Epoch=23, loss=0.529]\n",
      "100%|██████████| 7/7 [00:01<00:00,  4.34it/s, gpu_memory=6.48 GB, lr=0.00000, valid_loss=0.5389]\n"
     ]
    },
    {
     "name": "stdout",
     "output_type": "stream",
     "text": [
      "\n",
      " Saving model at 23th epoch\n",
      "\n",
      " Final Train Loss: 0.5288  |  Final Val Loss: 0.5389\n",
      "Valid Dice: 0.2195 | Valid Jaccard: 0.1475\n",
      "\u001b[34mval dice increased: 0.20594000816345215 ---> 0.21951492130756378\n",
      "\u001b[34mval jaccard increased: 0.13759435713291168 ---> 0.14745596051216125\n",
      "\u001b[0m===================== Epoch: [24/300] =====================\n"
     ]
    },
    {
     "name": "stderr",
     "output_type": "stream",
     "text": [
      "100%|██████████| 38/38 [00:12<00:00,  3.01it/s, Epoch=24, loss=0.519]\n",
      "100%|██████████| 7/7 [00:01<00:00,  4.31it/s, gpu_memory=6.49 GB, lr=0.00000, valid_loss=0.5393]\n"
     ]
    },
    {
     "name": "stdout",
     "output_type": "stream",
     "text": [
      "\n",
      " Saving model at 24th epoch\n",
      "\n",
      " Final Train Loss: 0.5194  |  Final Val Loss: 0.5393\n",
      "Valid Dice: 0.2249 | Valid Jaccard: 0.1515\n",
      "\u001b[34mval dice increased: 0.21951492130756378 ---> 0.22493641078472137\n",
      "\u001b[34mval jaccard increased: 0.14745596051216125 ---> 0.15147008001804352\n",
      "\u001b[0m===================== Epoch: [25/300] =====================\n"
     ]
    },
    {
     "name": "stderr",
     "output_type": "stream",
     "text": [
      "100%|██████████| 38/38 [00:12<00:00,  3.06it/s, Epoch=25, loss=0.521]\n",
      "100%|██████████| 7/7 [00:01<00:00,  4.35it/s, gpu_memory=6.48 GB, lr=0.00001, valid_loss=0.5413]\n"
     ]
    },
    {
     "name": "stdout",
     "output_type": "stream",
     "text": [
      "\n",
      " Saving model at 25th epoch\n",
      "\n",
      " Final Train Loss: 0.5212  |  Final Val Loss: 0.5413\n",
      "Valid Dice: 0.2332 | Valid Jaccard: 0.1577\n",
      "\u001b[34mval dice increased: 0.22493641078472137 ---> 0.23320987820625305\n",
      "\u001b[34mval jaccard increased: 0.15147008001804352 ---> 0.15772175788879395\n",
      "\u001b[0m===================== Epoch: [26/300] =====================\n"
     ]
    },
    {
     "name": "stderr",
     "output_type": "stream",
     "text": [
      "100%|██████████| 38/38 [00:12<00:00,  3.01it/s, Epoch=26, loss=0.528]\n",
      "100%|██████████| 7/7 [00:01<00:00,  4.36it/s, gpu_memory=6.49 GB, lr=0.00002, valid_loss=0.5537]\n"
     ]
    },
    {
     "name": "stdout",
     "output_type": "stream",
     "text": [
      "\n",
      " Saving model at 26th epoch\n",
      "\n",
      " Final Train Loss: 0.5277  |  Final Val Loss: 0.5537\n",
      "Valid Dice: 0.1271 | Valid Jaccard: 0.0773\n",
      "\u001b[0m===================== Epoch: [27/300] =====================\n"
     ]
    },
    {
     "name": "stderr",
     "output_type": "stream",
     "text": [
      "100%|██████████| 38/38 [00:12<00:00,  3.05it/s, Epoch=27, loss=0.548]\n",
      "100%|██████████| 7/7 [00:01<00:00,  4.25it/s, gpu_memory=6.48 GB, lr=0.00004, valid_loss=0.5454]\n"
     ]
    },
    {
     "name": "stdout",
     "output_type": "stream",
     "text": [
      "\n",
      " Saving model at 27th epoch\n",
      "\n",
      " Final Train Loss: 0.5483  |  Final Val Loss: 0.5454\n",
      "Valid Dice: 0.1623 | Valid Jaccard: 0.1008\n",
      "\u001b[0m===================== Epoch: [28/300] =====================\n"
     ]
    },
    {
     "name": "stderr",
     "output_type": "stream",
     "text": [
      "100%|██████████| 38/38 [00:12<00:00,  3.04it/s, Epoch=28, loss=0.534]\n",
      "100%|██████████| 7/7 [00:01<00:00,  4.33it/s, gpu_memory=6.49 GB, lr=0.00006, valid_loss=0.5419]\n"
     ]
    },
    {
     "name": "stdout",
     "output_type": "stream",
     "text": [
      "\n",
      " Saving model at 28th epoch\n",
      "\n",
      " Final Train Loss: 0.5340  |  Final Val Loss: 0.5419\n",
      "Valid Dice: 0.1789 | Valid Jaccard: 0.1165\n",
      "\u001b[0m===================== Epoch: [29/300] =====================\n"
     ]
    },
    {
     "name": "stderr",
     "output_type": "stream",
     "text": [
      "100%|██████████| 38/38 [00:12<00:00,  2.99it/s, Epoch=29, loss=0.528]\n",
      "100%|██████████| 7/7 [00:01<00:00,  4.35it/s, gpu_memory=6.48 GB, lr=0.00008, valid_loss=0.5373]\n"
     ]
    },
    {
     "name": "stdout",
     "output_type": "stream",
     "text": [
      "\n",
      " Saving model at 29th epoch\n",
      "\n",
      " Final Train Loss: 0.5279  |  Final Val Loss: 0.5373\n",
      "Valid Dice: 0.2095 | Valid Jaccard: 0.1390\n",
      "\u001b[0m===================== Epoch: [30/300] =====================\n"
     ]
    },
    {
     "name": "stderr",
     "output_type": "stream",
     "text": [
      "100%|██████████| 38/38 [00:12<00:00,  3.02it/s, Epoch=30, loss=0.539]\n",
      "100%|██████████| 7/7 [00:01<00:00,  4.26it/s, gpu_memory=6.49 GB, lr=0.00009, valid_loss=0.5392]\n"
     ]
    },
    {
     "name": "stdout",
     "output_type": "stream",
     "text": [
      "\n",
      " Saving model at 30th epoch\n",
      "\n",
      " Final Train Loss: 0.5392  |  Final Val Loss: 0.5392\n",
      "Valid Dice: 0.1922 | Valid Jaccard: 0.1244\n",
      "\u001b[0m===================== Epoch: [31/300] =====================\n"
     ]
    },
    {
     "name": "stderr",
     "output_type": "stream",
     "text": [
      "100%|██████████| 38/38 [00:12<00:00,  3.04it/s, Epoch=31, loss=0.53] \n",
      "100%|██████████| 7/7 [00:01<00:00,  4.39it/s, gpu_memory=6.48 GB, lr=0.00010, valid_loss=0.5350]\n"
     ]
    },
    {
     "name": "stdout",
     "output_type": "stream",
     "text": [
      "\n",
      " Saving model at 31th epoch\n",
      "\n",
      " Final Train Loss: 0.5298  |  Final Val Loss: 0.5350\n",
      "Valid Dice: 0.2412 | Valid Jaccard: 0.1647\n",
      "\u001b[34mval dice increased: 0.23320987820625305 ---> 0.2412133663892746\n",
      "\u001b[34mval jaccard increased: 0.15772175788879395 ---> 0.16470374166965485\n",
      "\u001b[0m===================== Epoch: [32/300] =====================\n"
     ]
    },
    {
     "name": "stderr",
     "output_type": "stream",
     "text": [
      "100%|██████████| 38/38 [00:12<00:00,  3.01it/s, Epoch=32, loss=0.528]\n",
      "100%|██████████| 7/7 [00:01<00:00,  4.37it/s, gpu_memory=6.49 GB, lr=0.00010, valid_loss=0.5349]\n"
     ]
    },
    {
     "name": "stdout",
     "output_type": "stream",
     "text": [
      "\n",
      " Saving model at 32th epoch\n",
      "\n",
      " Final Train Loss: 0.5282  |  Final Val Loss: 0.5349\n",
      "Valid Dice: 0.2058 | Valid Jaccard: 0.1381\n",
      "\u001b[0m===================== Epoch: [33/300] =====================\n"
     ]
    },
    {
     "name": "stderr",
     "output_type": "stream",
     "text": [
      "100%|██████████| 38/38 [00:12<00:00,  3.03it/s, Epoch=33, loss=0.522]\n",
      "100%|██████████| 7/7 [00:01<00:00,  4.32it/s, gpu_memory=6.48 GB, lr=0.00009, valid_loss=0.5401]\n"
     ]
    },
    {
     "name": "stdout",
     "output_type": "stream",
     "text": [
      "\n",
      " Saving model at 33th epoch\n",
      "\n",
      " Final Train Loss: 0.5220  |  Final Val Loss: 0.5401\n",
      "Valid Dice: 0.1861 | Valid Jaccard: 0.1232\n",
      "\u001b[0m===================== Epoch: [34/300] =====================\n"
     ]
    },
    {
     "name": "stderr",
     "output_type": "stream",
     "text": [
      "100%|██████████| 38/38 [00:12<00:00,  3.04it/s, Epoch=34, loss=0.508]\n",
      "100%|██████████| 7/7 [00:01<00:00,  4.35it/s, gpu_memory=6.49 GB, lr=0.00008, valid_loss=0.5317]\n"
     ]
    },
    {
     "name": "stdout",
     "output_type": "stream",
     "text": [
      "\n",
      " Saving model at 34th epoch\n",
      "\n",
      " Final Train Loss: 0.5080  |  Final Val Loss: 0.5317\n",
      "Valid Dice: 0.2029 | Valid Jaccard: 0.1392\n",
      "\u001b[0m===================== Epoch: [35/300] =====================\n"
     ]
    },
    {
     "name": "stderr",
     "output_type": "stream",
     "text": [
      "100%|██████████| 38/38 [00:12<00:00,  3.03it/s, Epoch=35, loss=0.512]\n",
      "100%|██████████| 7/7 [00:01<00:00,  4.32it/s, gpu_memory=6.48 GB, lr=0.00006, valid_loss=0.5291]\n"
     ]
    },
    {
     "name": "stdout",
     "output_type": "stream",
     "text": [
      "\n",
      " Saving model at 35th epoch\n",
      "\n",
      " Final Train Loss: 0.5116  |  Final Val Loss: 0.5291\n",
      "Valid Dice: 0.2453 | Valid Jaccard: 0.1707\n",
      "\u001b[34mval dice increased: 0.2412133663892746 ---> 0.24530191719532013\n",
      "\u001b[34mval jaccard increased: 0.16470374166965485 ---> 0.1706530600786209\n",
      "\u001b[0m===================== Epoch: [36/300] =====================\n"
     ]
    },
    {
     "name": "stderr",
     "output_type": "stream",
     "text": [
      "100%|██████████| 38/38 [00:12<00:00,  3.04it/s, Epoch=36, loss=0.514]\n",
      "100%|██████████| 7/7 [00:01<00:00,  4.48it/s, gpu_memory=6.49 GB, lr=0.00004, valid_loss=0.5324]\n"
     ]
    },
    {
     "name": "stdout",
     "output_type": "stream",
     "text": [
      "\n",
      " Saving model at 36th epoch\n",
      "\n",
      " Final Train Loss: 0.5139  |  Final Val Loss: 0.5324\n",
      "Valid Dice: 0.1919 | Valid Jaccard: 0.1279\n",
      "\u001b[0m===================== Epoch: [37/300] =====================\n"
     ]
    },
    {
     "name": "stderr",
     "output_type": "stream",
     "text": [
      "100%|██████████| 38/38 [00:12<00:00,  3.02it/s, Epoch=37, loss=0.503]\n",
      "100%|██████████| 7/7 [00:01<00:00,  4.30it/s, gpu_memory=6.48 GB, lr=0.00002, valid_loss=0.5254]\n"
     ]
    },
    {
     "name": "stdout",
     "output_type": "stream",
     "text": [
      "\n",
      " Saving model at 37th epoch\n",
      "\n",
      " Final Train Loss: 0.5026  |  Final Val Loss: 0.5254\n",
      "Valid Dice: 0.2324 | Valid Jaccard: 0.1641\n",
      "\u001b[0m===================== Epoch: [38/300] =====================\n"
     ]
    },
    {
     "name": "stderr",
     "output_type": "stream",
     "text": [
      "100%|██████████| 38/38 [00:12<00:00,  3.02it/s, Epoch=38, loss=0.504]\n",
      "100%|██████████| 7/7 [00:01<00:00,  4.31it/s, gpu_memory=6.49 GB, lr=0.00001, valid_loss=0.5288]\n"
     ]
    },
    {
     "name": "stdout",
     "output_type": "stream",
     "text": [
      "\n",
      " Saving model at 38th epoch\n",
      "\n",
      " Final Train Loss: 0.5038  |  Final Val Loss: 0.5288\n",
      "Valid Dice: 0.2477 | Valid Jaccard: 0.1739\n",
      "\u001b[34mval dice increased: 0.24530191719532013 ---> 0.24770846962928772\n",
      "\u001b[34mval jaccard increased: 0.1706530600786209 ---> 0.17390967905521393\n",
      "\u001b[0m===================== Epoch: [39/300] =====================\n"
     ]
    },
    {
     "name": "stderr",
     "output_type": "stream",
     "text": [
      "100%|██████████| 38/38 [00:12<00:00,  3.01it/s, Epoch=39, loss=0.499]\n",
      "100%|██████████| 7/7 [00:01<00:00,  4.29it/s, gpu_memory=6.48 GB, lr=0.00000, valid_loss=0.5266]\n"
     ]
    },
    {
     "name": "stdout",
     "output_type": "stream",
     "text": [
      "\n",
      " Saving model at 39th epoch\n",
      "\n",
      " Final Train Loss: 0.4987  |  Final Val Loss: 0.5266\n",
      "Valid Dice: 0.2341 | Valid Jaccard: 0.1652\n",
      "\u001b[0m===================== Epoch: [40/300] =====================\n"
     ]
    },
    {
     "name": "stderr",
     "output_type": "stream",
     "text": [
      "100%|██████████| 38/38 [00:12<00:00,  3.01it/s, Epoch=40, loss=0.495]\n",
      "100%|██████████| 7/7 [00:01<00:00,  4.37it/s, gpu_memory=6.49 GB, lr=0.00000, valid_loss=0.5266]\n"
     ]
    },
    {
     "name": "stdout",
     "output_type": "stream",
     "text": [
      "\n",
      " Saving model at 40th epoch\n",
      "\n",
      " Final Train Loss: 0.4949  |  Final Val Loss: 0.5266\n",
      "Valid Dice: 0.2347 | Valid Jaccard: 0.1656\n",
      "\u001b[0m===================== Epoch: [41/300] =====================\n"
     ]
    },
    {
     "name": "stderr",
     "output_type": "stream",
     "text": [
      "100%|██████████| 38/38 [00:12<00:00,  2.99it/s, Epoch=41, loss=0.5]  \n",
      "100%|██████████| 7/7 [00:01<00:00,  4.33it/s, gpu_memory=6.48 GB, lr=0.00001, valid_loss=0.5270]\n"
     ]
    },
    {
     "name": "stdout",
     "output_type": "stream",
     "text": [
      "\n",
      " Saving model at 41th epoch\n",
      "\n",
      " Final Train Loss: 0.4998  |  Final Val Loss: 0.5270\n",
      "Valid Dice: 0.2370 | Valid Jaccard: 0.1672\n",
      "\u001b[0m===================== Epoch: [42/300] =====================\n"
     ]
    },
    {
     "name": "stderr",
     "output_type": "stream",
     "text": [
      "100%|██████████| 38/38 [00:12<00:00,  3.01it/s, Epoch=42, loss=0.503]\n",
      "100%|██████████| 7/7 [00:01<00:00,  4.32it/s, gpu_memory=6.49 GB, lr=0.00002, valid_loss=0.5255]\n"
     ]
    },
    {
     "name": "stdout",
     "output_type": "stream",
     "text": [
      "\n",
      " Saving model at 42th epoch\n",
      "\n",
      " Final Train Loss: 0.5033  |  Final Val Loss: 0.5255\n",
      "Valid Dice: 0.2351 | Valid Jaccard: 0.1660\n",
      "\u001b[0m===================== Epoch: [43/300] =====================\n"
     ]
    },
    {
     "name": "stderr",
     "output_type": "stream",
     "text": [
      "100%|██████████| 38/38 [00:12<00:00,  3.01it/s, Epoch=43, loss=0.498]\n",
      "100%|██████████| 7/7 [00:01<00:00,  4.37it/s, gpu_memory=6.48 GB, lr=0.00004, valid_loss=0.5272]\n"
     ]
    },
    {
     "name": "stdout",
     "output_type": "stream",
     "text": [
      "\n",
      " Saving model at 43th epoch\n",
      "\n",
      " Final Train Loss: 0.4977  |  Final Val Loss: 0.5272\n",
      "Valid Dice: 0.2247 | Valid Jaccard: 0.1593\n",
      "\u001b[0m===================== Epoch: [44/300] =====================\n"
     ]
    },
    {
     "name": "stderr",
     "output_type": "stream",
     "text": [
      "100%|██████████| 38/38 [00:12<00:00,  3.04it/s, Epoch=44, loss=0.496]\n",
      "100%|██████████| 7/7 [00:01<00:00,  3.61it/s, gpu_memory=6.49 GB, lr=0.00006, valid_loss=0.5309]\n"
     ]
    },
    {
     "name": "stdout",
     "output_type": "stream",
     "text": [
      "\n",
      " Saving model at 44th epoch\n",
      "\n",
      " Final Train Loss: 0.4959  |  Final Val Loss: 0.5309\n",
      "Valid Dice: 0.2131 | Valid Jaccard: 0.1509\n",
      "\u001b[0m===================== Epoch: [45/300] =====================\n"
     ]
    },
    {
     "name": "stderr",
     "output_type": "stream",
     "text": [
      "100%|██████████| 38/38 [00:12<00:00,  3.03it/s, Epoch=45, loss=0.497]\n",
      "100%|██████████| 7/7 [00:01<00:00,  4.34it/s, gpu_memory=6.48 GB, lr=0.00008, valid_loss=0.5364]\n"
     ]
    },
    {
     "name": "stdout",
     "output_type": "stream",
     "text": [
      "\n",
      " Saving model at 45th epoch\n",
      "\n",
      " Final Train Loss: 0.4970  |  Final Val Loss: 0.5364\n",
      "Valid Dice: 0.1834 | Valid Jaccard: 0.1302\n",
      "\u001b[0m===================== Epoch: [46/300] =====================\n"
     ]
    },
    {
     "name": "stderr",
     "output_type": "stream",
     "text": [
      "100%|██████████| 38/38 [00:12<00:00,  3.02it/s, Epoch=46, loss=0.504]\n",
      "100%|██████████| 7/7 [00:01<00:00,  4.35it/s, gpu_memory=6.49 GB, lr=0.00009, valid_loss=0.5213]\n"
     ]
    },
    {
     "name": "stdout",
     "output_type": "stream",
     "text": [
      "\n",
      " Saving model at 46th epoch\n",
      "\n",
      " Final Train Loss: 0.5042  |  Final Val Loss: 0.5213\n",
      "Valid Dice: 0.2618 | Valid Jaccard: 0.1858\n",
      "\u001b[34mval dice increased: 0.24770846962928772 ---> 0.2618454396724701\n",
      "\u001b[34mval jaccard increased: 0.17390967905521393 ---> 0.18582835793495178\n",
      "\u001b[0m===================== Epoch: [47/300] =====================\n"
     ]
    },
    {
     "name": "stderr",
     "output_type": "stream",
     "text": [
      "100%|██████████| 38/38 [00:12<00:00,  3.04it/s, Epoch=47, loss=0.502]\n",
      "100%|██████████| 7/7 [00:01<00:00,  4.32it/s, gpu_memory=6.48 GB, lr=0.00010, valid_loss=0.5318]\n"
     ]
    },
    {
     "name": "stdout",
     "output_type": "stream",
     "text": [
      "\n",
      " Saving model at 47th epoch\n",
      "\n",
      " Final Train Loss: 0.5018  |  Final Val Loss: 0.5318\n",
      "Valid Dice: 0.1948 | Valid Jaccard: 0.1359\n",
      "\u001b[0m===================== Epoch: [48/300] =====================\n"
     ]
    },
    {
     "name": "stderr",
     "output_type": "stream",
     "text": [
      "100%|██████████| 38/38 [00:12<00:00,  3.03it/s, Epoch=48, loss=0.512]\n",
      "100%|██████████| 7/7 [00:01<00:00,  4.34it/s, gpu_memory=6.49 GB, lr=0.00010, valid_loss=0.5403]\n"
     ]
    },
    {
     "name": "stdout",
     "output_type": "stream",
     "text": [
      "\n",
      " Saving model at 48th epoch\n",
      "\n",
      " Final Train Loss: 0.5117  |  Final Val Loss: 0.5403\n",
      "Valid Dice: 0.1809 | Valid Jaccard: 0.1228\n",
      "\u001b[0m===================== Epoch: [49/300] =====================\n"
     ]
    },
    {
     "name": "stderr",
     "output_type": "stream",
     "text": [
      "100%|██████████| 38/38 [00:12<00:00,  3.01it/s, Epoch=49, loss=0.509]\n",
      "100%|██████████| 7/7 [00:01<00:00,  4.36it/s, gpu_memory=6.48 GB, lr=0.00009, valid_loss=0.5254]\n"
     ]
    },
    {
     "name": "stdout",
     "output_type": "stream",
     "text": [
      "\n",
      " Saving model at 49th epoch\n",
      "\n",
      " Final Train Loss: 0.5087  |  Final Val Loss: 0.5254\n",
      "Valid Dice: 0.2594 | Valid Jaccard: 0.1849\n",
      "\u001b[0m===================== Epoch: [50/300] =====================\n"
     ]
    },
    {
     "name": "stderr",
     "output_type": "stream",
     "text": [
      "100%|██████████| 38/38 [00:12<00:00,  3.00it/s, Epoch=50, loss=0.495]\n",
      "100%|██████████| 7/7 [00:01<00:00,  4.28it/s, gpu_memory=6.49 GB, lr=0.00008, valid_loss=0.5189]\n"
     ]
    },
    {
     "name": "stdout",
     "output_type": "stream",
     "text": [
      "\n",
      " Saving model at 50th epoch\n",
      "\n",
      " Final Train Loss: 0.4954  |  Final Val Loss: 0.5189\n",
      "Valid Dice: 0.2586 | Valid Jaccard: 0.1862\n",
      "\u001b[34mval jaccard increased: 0.18582835793495178 ---> 0.18623705208301544\n",
      "\u001b[0m===================== Epoch: [51/300] =====================\n"
     ]
    },
    {
     "name": "stderr",
     "output_type": "stream",
     "text": [
      "100%|██████████| 38/38 [00:12<00:00,  3.05it/s, Epoch=51, loss=0.496]\n",
      "100%|██████████| 7/7 [00:01<00:00,  4.32it/s, gpu_memory=6.48 GB, lr=0.00006, valid_loss=0.5218]\n"
     ]
    },
    {
     "name": "stdout",
     "output_type": "stream",
     "text": [
      "\n",
      " Saving model at 51th epoch\n",
      "\n",
      " Final Train Loss: 0.4955  |  Final Val Loss: 0.5218\n",
      "Valid Dice: 0.2327 | Valid Jaccard: 0.1660\n",
      "\u001b[0m===================== Epoch: [52/300] =====================\n"
     ]
    },
    {
     "name": "stderr",
     "output_type": "stream",
     "text": [
      "100%|██████████| 38/38 [00:12<00:00,  3.04it/s, Epoch=52, loss=0.492]\n",
      "100%|██████████| 7/7 [00:01<00:00,  4.06it/s, gpu_memory=6.49 GB, lr=0.00004, valid_loss=0.5222]\n"
     ]
    },
    {
     "name": "stdout",
     "output_type": "stream",
     "text": [
      "\n",
      " Saving model at 52th epoch\n",
      "\n",
      " Final Train Loss: 0.4917  |  Final Val Loss: 0.5222\n",
      "Valid Dice: 0.2486 | Valid Jaccard: 0.1794\n",
      "\u001b[0m===================== Epoch: [53/300] =====================\n"
     ]
    },
    {
     "name": "stderr",
     "output_type": "stream",
     "text": [
      "100%|██████████| 38/38 [00:12<00:00,  3.05it/s, Epoch=53, loss=0.483]\n",
      "100%|██████████| 7/7 [00:01<00:00,  4.36it/s, gpu_memory=6.48 GB, lr=0.00002, valid_loss=0.5203]\n"
     ]
    },
    {
     "name": "stdout",
     "output_type": "stream",
     "text": [
      "\n",
      " Saving model at 53th epoch\n",
      "\n",
      " Final Train Loss: 0.4832  |  Final Val Loss: 0.5203\n",
      "Valid Dice: 0.2686 | Valid Jaccard: 0.1938\n",
      "\u001b[34mval dice increased: 0.2618454396724701 ---> 0.2686093747615814\n",
      "\u001b[34mval jaccard increased: 0.18623705208301544 ---> 0.19378837943077087\n",
      "\u001b[0m===================== Epoch: [54/300] =====================\n"
     ]
    },
    {
     "name": "stderr",
     "output_type": "stream",
     "text": [
      "100%|██████████| 38/38 [00:12<00:00,  3.01it/s, Epoch=54, loss=0.484]\n",
      "100%|██████████| 7/7 [00:01<00:00,  4.48it/s, gpu_memory=6.49 GB, lr=0.00001, valid_loss=0.5171]\n"
     ]
    },
    {
     "name": "stdout",
     "output_type": "stream",
     "text": [
      "\n",
      " Saving model at 54th epoch\n",
      "\n",
      " Final Train Loss: 0.4839  |  Final Val Loss: 0.5171\n",
      "Valid Dice: 0.2628 | Valid Jaccard: 0.1895\n",
      "\u001b[0m===================== Epoch: [55/300] =====================\n"
     ]
    },
    {
     "name": "stderr",
     "output_type": "stream",
     "text": [
      "100%|██████████| 38/38 [00:12<00:00,  3.02it/s, Epoch=55, loss=0.482]\n",
      "100%|██████████| 7/7 [00:01<00:00,  4.34it/s, gpu_memory=6.48 GB, lr=0.00000, valid_loss=0.5169]\n"
     ]
    },
    {
     "name": "stdout",
     "output_type": "stream",
     "text": [
      "\n",
      " Saving model at 55th epoch\n",
      "\n",
      " Final Train Loss: 0.4819  |  Final Val Loss: 0.5169\n",
      "Valid Dice: 0.2590 | Valid Jaccard: 0.1871\n",
      "\u001b[0m===================== Epoch: [56/300] =====================\n"
     ]
    },
    {
     "name": "stderr",
     "output_type": "stream",
     "text": [
      "100%|██████████| 38/38 [00:12<00:00,  3.01it/s, Epoch=56, loss=0.483]\n",
      "100%|██████████| 7/7 [00:01<00:00,  4.39it/s, gpu_memory=6.49 GB, lr=0.00000, valid_loss=0.5167]\n"
     ]
    },
    {
     "name": "stdout",
     "output_type": "stream",
     "text": [
      "\n",
      " Saving model at 56th epoch\n",
      "\n",
      " Final Train Loss: 0.4829  |  Final Val Loss: 0.5167\n",
      "Valid Dice: 0.2608 | Valid Jaccard: 0.1884\n",
      "\u001b[0m===================== Epoch: [57/300] =====================\n"
     ]
    },
    {
     "name": "stderr",
     "output_type": "stream",
     "text": [
      "100%|██████████| 38/38 [00:12<00:00,  3.04it/s, Epoch=57, loss=0.48] \n",
      "100%|██████████| 7/7 [00:01<00:00,  4.28it/s, gpu_memory=6.48 GB, lr=0.00001, valid_loss=0.5173]\n"
     ]
    },
    {
     "name": "stdout",
     "output_type": "stream",
     "text": [
      "\n",
      " Saving model at 57th epoch\n",
      "\n",
      " Final Train Loss: 0.4800  |  Final Val Loss: 0.5173\n",
      "Valid Dice: 0.2619 | Valid Jaccard: 0.1891\n",
      "\u001b[0m===================== Epoch: [58/300] =====================\n"
     ]
    },
    {
     "name": "stderr",
     "output_type": "stream",
     "text": [
      "100%|██████████| 38/38 [00:12<00:00,  3.04it/s, Epoch=58, loss=0.487]\n",
      "100%|██████████| 7/7 [00:01<00:00,  4.29it/s, gpu_memory=6.49 GB, lr=0.00003, valid_loss=0.5168]\n"
     ]
    },
    {
     "name": "stdout",
     "output_type": "stream",
     "text": [
      "\n",
      " Saving model at 58th epoch\n",
      "\n",
      " Final Train Loss: 0.4865  |  Final Val Loss: 0.5168\n",
      "Valid Dice: 0.2540 | Valid Jaccard: 0.1828\n",
      "\u001b[0m===================== Epoch: [59/300] =====================\n"
     ]
    },
    {
     "name": "stderr",
     "output_type": "stream",
     "text": [
      "100%|██████████| 38/38 [00:12<00:00,  3.00it/s, Epoch=59, loss=0.488]\n",
      "100%|██████████| 7/7 [00:01<00:00,  4.31it/s, gpu_memory=6.48 GB, lr=0.00005, valid_loss=0.5172]\n"
     ]
    },
    {
     "name": "stdout",
     "output_type": "stream",
     "text": [
      "\n",
      " Saving model at 59th epoch\n",
      "\n",
      " Final Train Loss: 0.4883  |  Final Val Loss: 0.5172\n",
      "Valid Dice: 0.2525 | Valid Jaccard: 0.1817\n",
      "\u001b[0m===================== Epoch: [60/300] =====================\n"
     ]
    },
    {
     "name": "stderr",
     "output_type": "stream",
     "text": [
      "100%|██████████| 38/38 [00:12<00:00,  3.04it/s, Epoch=60, loss=0.487]\n",
      "100%|██████████| 7/7 [00:01<00:00,  4.41it/s, gpu_memory=6.49 GB, lr=0.00007, valid_loss=0.5213]\n"
     ]
    },
    {
     "name": "stdout",
     "output_type": "stream",
     "text": [
      "\n",
      " Saving model at 60th epoch\n",
      "\n",
      " Final Train Loss: 0.4871  |  Final Val Loss: 0.5213\n",
      "Valid Dice: 0.2434 | Valid Jaccard: 0.1739\n",
      "\u001b[0m===================== Epoch: [61/300] =====================\n"
     ]
    },
    {
     "name": "stderr",
     "output_type": "stream",
     "text": [
      "100%|██████████| 38/38 [00:12<00:00,  3.04it/s, Epoch=61, loss=0.491]\n",
      "100%|██████████| 7/7 [00:01<00:00,  4.38it/s, gpu_memory=6.48 GB, lr=0.00008, valid_loss=0.5207]\n"
     ]
    },
    {
     "name": "stdout",
     "output_type": "stream",
     "text": [
      "\n",
      " Saving model at 61th epoch\n",
      "\n",
      " Final Train Loss: 0.4912  |  Final Val Loss: 0.5207\n",
      "Valid Dice: 0.2300 | Valid Jaccard: 0.1659\n",
      "\u001b[0m===================== Epoch: [62/300] =====================\n"
     ]
    },
    {
     "name": "stderr",
     "output_type": "stream",
     "text": [
      "100%|██████████| 38/38 [00:12<00:00,  3.04it/s, Epoch=62, loss=0.487]\n",
      "100%|██████████| 7/7 [00:01<00:00,  4.37it/s, gpu_memory=6.49 GB, lr=0.00009, valid_loss=0.5345]\n"
     ]
    },
    {
     "name": "stdout",
     "output_type": "stream",
     "text": [
      "\n",
      " Saving model at 62th epoch\n",
      "\n",
      " Final Train Loss: 0.4867  |  Final Val Loss: 0.5345\n",
      "Valid Dice: 0.1852 | Valid Jaccard: 0.1285\n",
      "\u001b[0m===================== Epoch: [63/300] =====================\n"
     ]
    },
    {
     "name": "stderr",
     "output_type": "stream",
     "text": [
      "100%|██████████| 38/38 [00:12<00:00,  3.00it/s, Epoch=63, loss=0.504]\n",
      "100%|██████████| 7/7 [00:01<00:00,  4.32it/s, gpu_memory=6.48 GB, lr=0.00010, valid_loss=0.5317]\n"
     ]
    },
    {
     "name": "stdout",
     "output_type": "stream",
     "text": [
      "\n",
      " Saving model at 63th epoch\n",
      "\n",
      " Final Train Loss: 0.5035  |  Final Val Loss: 0.5317\n",
      "Valid Dice: 0.2868 | Valid Jaccard: 0.2033\n",
      "\u001b[34mval dice increased: 0.2686093747615814 ---> 0.28678789734840393\n",
      "\u001b[34mval jaccard increased: 0.19378837943077087 ---> 0.20332089066505432\n",
      "\u001b[0m===================== Epoch: [64/300] =====================\n"
     ]
    },
    {
     "name": "stderr",
     "output_type": "stream",
     "text": [
      "100%|██████████| 38/38 [00:12<00:00,  3.02it/s, Epoch=64, loss=0.5]  \n",
      "100%|██████████| 7/7 [00:01<00:00,  3.87it/s, gpu_memory=6.49 GB, lr=0.00010, valid_loss=0.5229]\n"
     ]
    },
    {
     "name": "stdout",
     "output_type": "stream",
     "text": [
      "\n",
      " Saving model at 64th epoch\n",
      "\n",
      " Final Train Loss: 0.4996  |  Final Val Loss: 0.5229\n",
      "Valid Dice: 0.2853 | Valid Jaccard: 0.2055\n",
      "\u001b[34mval jaccard increased: 0.20332089066505432 ---> 0.20550556480884552\n",
      "\u001b[0m===================== Epoch: [65/300] =====================\n"
     ]
    },
    {
     "name": "stderr",
     "output_type": "stream",
     "text": [
      "100%|██████████| 38/38 [00:12<00:00,  3.03it/s, Epoch=65, loss=0.49] \n",
      "100%|██████████| 7/7 [00:01<00:00,  4.29it/s, gpu_memory=6.48 GB, lr=0.00009, valid_loss=0.5212]\n"
     ]
    },
    {
     "name": "stdout",
     "output_type": "stream",
     "text": [
      "\n",
      " Saving model at 65th epoch\n",
      "\n",
      " Final Train Loss: 0.4896  |  Final Val Loss: 0.5212\n",
      "Valid Dice: 0.2925 | Valid Jaccard: 0.2103\n",
      "\u001b[34mval dice increased: 0.28678789734840393 ---> 0.2925082743167877\n",
      "\u001b[34mval jaccard increased: 0.20550556480884552 ---> 0.2103385031223297\n",
      "\u001b[0m===================== Epoch: [66/300] =====================\n"
     ]
    },
    {
     "name": "stderr",
     "output_type": "stream",
     "text": [
      "100%|██████████| 38/38 [00:12<00:00,  3.01it/s, Epoch=66, loss=0.495]\n",
      "100%|██████████| 7/7 [00:01<00:00,  4.36it/s, gpu_memory=6.49 GB, lr=0.00007, valid_loss=0.5156]\n"
     ]
    },
    {
     "name": "stdout",
     "output_type": "stream",
     "text": [
      "\n",
      " Saving model at 66th epoch\n",
      "\n",
      " Final Train Loss: 0.4947  |  Final Val Loss: 0.5156\n",
      "Valid Dice: 0.2478 | Valid Jaccard: 0.1794\n",
      "\u001b[0m===================== Epoch: [67/300] =====================\n"
     ]
    },
    {
     "name": "stderr",
     "output_type": "stream",
     "text": [
      "100%|██████████| 38/38 [00:12<00:00,  3.01it/s, Epoch=67, loss=0.486]\n",
      "100%|██████████| 7/7 [00:01<00:00,  4.33it/s, gpu_memory=6.48 GB, lr=0.00005, valid_loss=0.5176]\n"
     ]
    },
    {
     "name": "stdout",
     "output_type": "stream",
     "text": [
      "\n",
      " Saving model at 67th epoch\n",
      "\n",
      " Final Train Loss: 0.4862  |  Final Val Loss: 0.5176\n",
      "Valid Dice: 0.2546 | Valid Jaccard: 0.1843\n",
      "\u001b[0m===================== Epoch: [68/300] =====================\n"
     ]
    },
    {
     "name": "stderr",
     "output_type": "stream",
     "text": [
      "100%|██████████| 38/38 [00:12<00:00,  3.01it/s, Epoch=68, loss=0.482]\n",
      "100%|██████████| 7/7 [00:01<00:00,  4.29it/s, gpu_memory=6.49 GB, lr=0.00003, valid_loss=0.5131]\n"
     ]
    },
    {
     "name": "stdout",
     "output_type": "stream",
     "text": [
      "\n",
      " Saving model at 68th epoch\n",
      "\n",
      " Final Train Loss: 0.4817  |  Final Val Loss: 0.5131\n",
      "Valid Dice: 0.2730 | Valid Jaccard: 0.2003\n",
      "\u001b[0m===================== Epoch: [69/300] =====================\n"
     ]
    },
    {
     "name": "stderr",
     "output_type": "stream",
     "text": [
      "100%|██████████| 38/38 [00:12<00:00,  3.04it/s, Epoch=69, loss=0.477]\n",
      "100%|██████████| 7/7 [00:01<00:00,  4.33it/s, gpu_memory=6.48 GB, lr=0.00002, valid_loss=0.5120]\n"
     ]
    },
    {
     "name": "stdout",
     "output_type": "stream",
     "text": [
      "\n",
      " Saving model at 69th epoch\n",
      "\n",
      " Final Train Loss: 0.4769  |  Final Val Loss: 0.5120\n",
      "Valid Dice: 0.2962 | Valid Jaccard: 0.2137\n",
      "\u001b[34mval dice increased: 0.2925082743167877 ---> 0.2961786687374115\n",
      "\u001b[34mval jaccard increased: 0.2103385031223297 ---> 0.213734969496727\n",
      "\u001b[0m===================== Epoch: [70/300] =====================\n"
     ]
    },
    {
     "name": "stderr",
     "output_type": "stream",
     "text": [
      "100%|██████████| 38/38 [00:12<00:00,  3.04it/s, Epoch=70, loss=0.473]\n",
      "100%|██████████| 7/7 [00:01<00:00,  4.33it/s, gpu_memory=6.49 GB, lr=0.00001, valid_loss=0.5088]\n"
     ]
    },
    {
     "name": "stdout",
     "output_type": "stream",
     "text": [
      "\n",
      " Saving model at 70th epoch\n",
      "\n",
      " Final Train Loss: 0.4729  |  Final Val Loss: 0.5088\n",
      "Valid Dice: 0.2767 | Valid Jaccard: 0.2021\n",
      "\u001b[0m===================== Epoch: [71/300] =====================\n"
     ]
    },
    {
     "name": "stderr",
     "output_type": "stream",
     "text": [
      "100%|██████████| 38/38 [00:12<00:00,  3.02it/s, Epoch=71, loss=0.477]\n",
      "100%|██████████| 7/7 [00:01<00:00,  4.37it/s, gpu_memory=6.48 GB, lr=0.00000, valid_loss=0.5087]\n"
     ]
    },
    {
     "name": "stdout",
     "output_type": "stream",
     "text": [
      "\n",
      " Saving model at 71th epoch\n",
      "\n",
      " Final Train Loss: 0.4771  |  Final Val Loss: 0.5087\n",
      "Valid Dice: 0.2801 | Valid Jaccard: 0.2046\n",
      "\u001b[0m===================== Epoch: [72/300] =====================\n"
     ]
    },
    {
     "name": "stderr",
     "output_type": "stream",
     "text": [
      "100%|██████████| 38/38 [00:12<00:00,  3.04it/s, Epoch=72, loss=0.471]\n",
      "100%|██████████| 7/7 [00:01<00:00,  4.42it/s, gpu_memory=6.49 GB, lr=0.00000, valid_loss=0.5089]\n"
     ]
    },
    {
     "name": "stdout",
     "output_type": "stream",
     "text": [
      "\n",
      " Saving model at 72th epoch\n",
      "\n",
      " Final Train Loss: 0.4711  |  Final Val Loss: 0.5089\n",
      "Valid Dice: 0.2771 | Valid Jaccard: 0.2027\n",
      "\u001b[0m===================== Epoch: [73/300] =====================\n"
     ]
    },
    {
     "name": "stderr",
     "output_type": "stream",
     "text": [
      "100%|██████████| 38/38 [00:12<00:00,  3.01it/s, Epoch=73, loss=0.476]\n",
      "100%|██████████| 7/7 [00:01<00:00,  4.40it/s, gpu_memory=6.48 GB, lr=0.00002, valid_loss=0.5115]\n"
     ]
    },
    {
     "name": "stdout",
     "output_type": "stream",
     "text": [
      "\n",
      " Saving model at 73th epoch\n",
      "\n",
      " Final Train Loss: 0.4764  |  Final Val Loss: 0.5115\n",
      "Valid Dice: 0.2871 | Valid Jaccard: 0.2085\n",
      "\u001b[0m===================== Epoch: [74/300] =====================\n"
     ]
    },
    {
     "name": "stderr",
     "output_type": "stream",
     "text": [
      "100%|██████████| 38/38 [00:12<00:00,  3.02it/s, Epoch=74, loss=0.478]\n",
      "100%|██████████| 7/7 [00:01<00:00,  4.31it/s, gpu_memory=6.49 GB, lr=0.00003, valid_loss=0.5111]\n"
     ]
    },
    {
     "name": "stdout",
     "output_type": "stream",
     "text": [
      "\n",
      " Saving model at 74th epoch\n",
      "\n",
      " Final Train Loss: 0.4782  |  Final Val Loss: 0.5111\n",
      "Valid Dice: 0.2909 | Valid Jaccard: 0.2111\n",
      "\u001b[0m===================== Epoch: [75/300] =====================\n"
     ]
    },
    {
     "name": "stderr",
     "output_type": "stream",
     "text": [
      "100%|██████████| 38/38 [00:12<00:00,  3.03it/s, Epoch=75, loss=0.481]\n",
      "100%|██████████| 7/7 [00:01<00:00,  4.34it/s, gpu_memory=6.48 GB, lr=0.00005, valid_loss=0.5233]\n"
     ]
    },
    {
     "name": "stdout",
     "output_type": "stream",
     "text": [
      "\n",
      " Saving model at 75th epoch\n",
      "\n",
      " Final Train Loss: 0.4813  |  Final Val Loss: 0.5233\n",
      "Valid Dice: 0.2247 | Valid Jaccard: 0.1597\n",
      "\u001b[0m===================== Epoch: [76/300] =====================\n"
     ]
    },
    {
     "name": "stderr",
     "output_type": "stream",
     "text": [
      "100%|██████████| 38/38 [00:12<00:00,  2.98it/s, Epoch=76, loss=0.484]\n",
      "100%|██████████| 7/7 [00:01<00:00,  4.33it/s, gpu_memory=6.49 GB, lr=0.00007, valid_loss=0.5220]\n"
     ]
    },
    {
     "name": "stdout",
     "output_type": "stream",
     "text": [
      "\n",
      " Saving model at 76th epoch\n",
      "\n",
      " Final Train Loss: 0.4843  |  Final Val Loss: 0.5220\n",
      "Valid Dice: 0.2744 | Valid Jaccard: 0.1977\n",
      "\u001b[0m===================== Epoch: [77/300] =====================\n"
     ]
    },
    {
     "name": "stderr",
     "output_type": "stream",
     "text": [
      "100%|██████████| 38/38 [00:12<00:00,  3.02it/s, Epoch=77, loss=0.487]\n",
      "100%|██████████| 7/7 [00:01<00:00,  4.25it/s, gpu_memory=6.48 GB, lr=0.00009, valid_loss=0.5135]\n"
     ]
    },
    {
     "name": "stdout",
     "output_type": "stream",
     "text": [
      "\n",
      " Saving model at 77th epoch\n",
      "\n",
      " Final Train Loss: 0.4873  |  Final Val Loss: 0.5135\n",
      "Valid Dice: 0.2699 | Valid Jaccard: 0.1946\n",
      "\u001b[0m===================== Epoch: [78/300] =====================\n"
     ]
    },
    {
     "name": "stderr",
     "output_type": "stream",
     "text": [
      "100%|██████████| 38/38 [00:12<00:00,  3.00it/s, Epoch=78, loss=0.486]\n",
      "100%|██████████| 7/7 [00:01<00:00,  4.32it/s, gpu_memory=6.49 GB, lr=0.00010, valid_loss=0.5224]\n"
     ]
    },
    {
     "name": "stdout",
     "output_type": "stream",
     "text": [
      "\n",
      " Saving model at 78th epoch\n",
      "\n",
      " Final Train Loss: 0.4859  |  Final Val Loss: 0.5224\n",
      "Valid Dice: 0.2387 | Valid Jaccard: 0.1727\n",
      "\u001b[0m===================== Epoch: [79/300] =====================\n"
     ]
    },
    {
     "name": "stderr",
     "output_type": "stream",
     "text": [
      "100%|██████████| 38/38 [00:12<00:00,  3.04it/s, Epoch=79, loss=0.481]\n",
      "100%|██████████| 7/7 [00:01<00:00,  4.38it/s, gpu_memory=6.48 GB, lr=0.00010, valid_loss=0.5208]\n"
     ]
    },
    {
     "name": "stdout",
     "output_type": "stream",
     "text": [
      "\n",
      " Saving model at 79th epoch\n",
      "\n",
      " Final Train Loss: 0.4810  |  Final Val Loss: 0.5208\n",
      "Valid Dice: 0.2320 | Valid Jaccard: 0.1714\n",
      "\u001b[0m===================== Epoch: [80/300] =====================\n"
     ]
    },
    {
     "name": "stderr",
     "output_type": "stream",
     "text": [
      "100%|██████████| 38/38 [00:12<00:00,  2.95it/s, Epoch=80, loss=0.5]  \n",
      "100%|██████████| 7/7 [00:01<00:00,  4.32it/s, gpu_memory=6.49 GB, lr=0.00010, valid_loss=0.5172]\n"
     ]
    },
    {
     "name": "stdout",
     "output_type": "stream",
     "text": [
      "\n",
      " Saving model at 80th epoch\n",
      "\n",
      " Final Train Loss: 0.4997  |  Final Val Loss: 0.5172\n",
      "Valid Dice: 0.2674 | Valid Jaccard: 0.1934\n",
      "\u001b[0m===================== Epoch: [81/300] =====================\n"
     ]
    },
    {
     "name": "stderr",
     "output_type": "stream",
     "text": [
      "100%|██████████| 38/38 [00:12<00:00,  3.00it/s, Epoch=81, loss=0.483]\n",
      "100%|██████████| 7/7 [00:01<00:00,  4.39it/s, gpu_memory=6.48 GB, lr=0.00008, valid_loss=0.5130]\n"
     ]
    },
    {
     "name": "stdout",
     "output_type": "stream",
     "text": [
      "\n",
      " Saving model at 81th epoch\n",
      "\n",
      " Final Train Loss: 0.4826  |  Final Val Loss: 0.5130\n",
      "Valid Dice: 0.2817 | Valid Jaccard: 0.2050\n",
      "\u001b[0m===================== Epoch: [82/300] =====================\n"
     ]
    },
    {
     "name": "stderr",
     "output_type": "stream",
     "text": [
      "100%|██████████| 38/38 [00:12<00:00,  3.02it/s, Epoch=82, loss=0.492]\n",
      "100%|██████████| 7/7 [00:01<00:00,  4.42it/s, gpu_memory=6.49 GB, lr=0.00007, valid_loss=0.5109]\n"
     ]
    },
    {
     "name": "stdout",
     "output_type": "stream",
     "text": [
      "\n",
      " Saving model at 82th epoch\n",
      "\n",
      " Final Train Loss: 0.4925  |  Final Val Loss: 0.5109\n",
      "Valid Dice: 0.2747 | Valid Jaccard: 0.1996\n",
      "\u001b[0m===================== Epoch: [83/300] =====================\n"
     ]
    },
    {
     "name": "stderr",
     "output_type": "stream",
     "text": [
      "100%|██████████| 38/38 [00:12<00:00,  3.04it/s, Epoch=83, loss=0.479]\n",
      "100%|██████████| 7/7 [00:01<00:00,  4.35it/s, gpu_memory=6.48 GB, lr=0.00005, valid_loss=0.5087]\n"
     ]
    },
    {
     "name": "stdout",
     "output_type": "stream",
     "text": [
      "\n",
      " Saving model at 83th epoch\n",
      "\n",
      " Final Train Loss: 0.4793  |  Final Val Loss: 0.5087\n",
      "Valid Dice: 0.2756 | Valid Jaccard: 0.1969\n",
      "\u001b[0m===================== Epoch: [84/300] =====================\n"
     ]
    },
    {
     "name": "stderr",
     "output_type": "stream",
     "text": [
      "100%|██████████| 38/38 [00:12<00:00,  3.03it/s, Epoch=84, loss=0.471]\n",
      "100%|██████████| 7/7 [00:01<00:00,  4.38it/s, gpu_memory=6.49 GB, lr=0.00003, valid_loss=0.5057]\n"
     ]
    },
    {
     "name": "stdout",
     "output_type": "stream",
     "text": [
      "\n",
      " Saving model at 84th epoch\n",
      "\n",
      " Final Train Loss: 0.4715  |  Final Val Loss: 0.5057\n",
      "Valid Dice: 0.3106 | Valid Jaccard: 0.2249\n",
      "\u001b[34mval dice increased: 0.2961786687374115 ---> 0.3106078803539276\n",
      "\u001b[34mval jaccard increased: 0.213734969496727 ---> 0.2248680591583252\n",
      "\u001b[0m===================== Epoch: [85/300] =====================\n"
     ]
    },
    {
     "name": "stderr",
     "output_type": "stream",
     "text": [
      "100%|██████████| 38/38 [00:12<00:00,  3.01it/s, Epoch=85, loss=0.472]\n",
      "100%|██████████| 7/7 [00:01<00:00,  4.33it/s, gpu_memory=6.48 GB, lr=0.00001, valid_loss=0.5120]\n"
     ]
    },
    {
     "name": "stdout",
     "output_type": "stream",
     "text": [
      "\n",
      " Saving model at 85th epoch\n",
      "\n",
      " Final Train Loss: 0.4722  |  Final Val Loss: 0.5120\n",
      "Valid Dice: 0.3104 | Valid Jaccard: 0.2231\n",
      "\u001b[0m===================== Epoch: [86/300] =====================\n"
     ]
    },
    {
     "name": "stderr",
     "output_type": "stream",
     "text": [
      "100%|██████████| 38/38 [00:12<00:00,  3.01it/s, Epoch=86, loss=0.473]\n",
      "100%|██████████| 7/7 [00:01<00:00,  4.39it/s, gpu_memory=6.49 GB, lr=0.00000, valid_loss=0.5049]\n"
     ]
    },
    {
     "name": "stdout",
     "output_type": "stream",
     "text": [
      "\n",
      " Saving model at 86th epoch\n",
      "\n",
      " Final Train Loss: 0.4732  |  Final Val Loss: 0.5049\n",
      "Valid Dice: 0.2945 | Valid Jaccard: 0.2144\n",
      "\u001b[0m===================== Epoch: [87/300] =====================\n"
     ]
    },
    {
     "name": "stderr",
     "output_type": "stream",
     "text": [
      "100%|██████████| 38/38 [00:12<00:00,  3.01it/s, Epoch=87, loss=0.47] \n",
      "100%|██████████| 7/7 [00:01<00:00,  4.29it/s, gpu_memory=6.48 GB, lr=0.00000, valid_loss=0.5054]\n"
     ]
    },
    {
     "name": "stdout",
     "output_type": "stream",
     "text": [
      "\n",
      " Saving model at 87th epoch\n",
      "\n",
      " Final Train Loss: 0.4704  |  Final Val Loss: 0.5054\n",
      "Valid Dice: 0.2950 | Valid Jaccard: 0.2147\n",
      "\u001b[0m===================== Epoch: [88/300] =====================\n"
     ]
    },
    {
     "name": "stderr",
     "output_type": "stream",
     "text": [
      "100%|██████████| 38/38 [00:12<00:00,  3.01it/s, Epoch=88, loss=0.467]\n",
      "100%|██████████| 7/7 [00:01<00:00,  4.31it/s, gpu_memory=6.49 GB, lr=0.00001, valid_loss=0.5055]\n"
     ]
    },
    {
     "name": "stdout",
     "output_type": "stream",
     "text": [
      "\n",
      " Saving model at 88th epoch\n",
      "\n",
      " Final Train Loss: 0.4673  |  Final Val Loss: 0.5055\n",
      "Valid Dice: 0.2921 | Valid Jaccard: 0.2122\n",
      "\u001b[0m===================== Epoch: [89/300] =====================\n"
     ]
    },
    {
     "name": "stderr",
     "output_type": "stream",
     "text": [
      "100%|██████████| 38/38 [00:12<00:00,  3.04it/s, Epoch=89, loss=0.466]\n",
      "100%|██████████| 7/7 [00:01<00:00,  4.40it/s, gpu_memory=6.48 GB, lr=0.00002, valid_loss=0.5067]\n"
     ]
    },
    {
     "name": "stdout",
     "output_type": "stream",
     "text": [
      "\n",
      " Saving model at 89th epoch\n",
      "\n",
      " Final Train Loss: 0.4656  |  Final Val Loss: 0.5067\n",
      "Valid Dice: 0.3045 | Valid Jaccard: 0.2203\n",
      "\u001b[0m===================== Epoch: [90/300] =====================\n"
     ]
    },
    {
     "name": "stderr",
     "output_type": "stream",
     "text": [
      "100%|██████████| 38/38 [00:12<00:00,  3.03it/s, Epoch=90, loss=0.468]\n",
      "100%|██████████| 7/7 [00:01<00:00,  4.35it/s, gpu_memory=6.49 GB, lr=0.00004, valid_loss=0.5090]\n"
     ]
    },
    {
     "name": "stdout",
     "output_type": "stream",
     "text": [
      "\n",
      " Saving model at 90th epoch\n",
      "\n",
      " Final Train Loss: 0.4678  |  Final Val Loss: 0.5090\n",
      "Valid Dice: 0.3051 | Valid Jaccard: 0.2197\n",
      "\u001b[0m===================== Epoch: [91/300] =====================\n"
     ]
    },
    {
     "name": "stderr",
     "output_type": "stream",
     "text": [
      "100%|██████████| 38/38 [00:12<00:00,  3.01it/s, Epoch=91, loss=0.465]\n",
      "100%|██████████| 7/7 [00:01<00:00,  4.34it/s, gpu_memory=6.48 GB, lr=0.00005, valid_loss=0.5077]\n"
     ]
    },
    {
     "name": "stdout",
     "output_type": "stream",
     "text": [
      "\n",
      " Saving model at 91th epoch\n",
      "\n",
      " Final Train Loss: 0.4654  |  Final Val Loss: 0.5077\n",
      "Valid Dice: 0.2901 | Valid Jaccard: 0.2112\n",
      "\u001b[0m===================== Epoch: [92/300] =====================\n"
     ]
    },
    {
     "name": "stderr",
     "output_type": "stream",
     "text": [
      "100%|██████████| 38/38 [00:12<00:00,  3.01it/s, Epoch=92, loss=0.474]\n",
      "100%|██████████| 7/7 [00:01<00:00,  4.28it/s, gpu_memory=6.49 GB, lr=0.00007, valid_loss=0.5105]\n"
     ]
    },
    {
     "name": "stdout",
     "output_type": "stream",
     "text": [
      "\n",
      " Saving model at 92th epoch\n",
      "\n",
      " Final Train Loss: 0.4736  |  Final Val Loss: 0.5105\n",
      "Valid Dice: 0.2820 | Valid Jaccard: 0.2055\n",
      "\u001b[0m===================== Epoch: [93/300] =====================\n"
     ]
    },
    {
     "name": "stderr",
     "output_type": "stream",
     "text": [
      "100%|██████████| 38/38 [00:12<00:00,  3.03it/s, Epoch=93, loss=0.475]\n",
      "100%|██████████| 7/7 [00:01<00:00,  4.26it/s, gpu_memory=6.48 GB, lr=0.00009, valid_loss=0.5049]\n"
     ]
    },
    {
     "name": "stdout",
     "output_type": "stream",
     "text": [
      "\n",
      " Saving model at 93th epoch\n",
      "\n",
      " Final Train Loss: 0.4750  |  Final Val Loss: 0.5049\n",
      "Valid Dice: 0.3182 | Valid Jaccard: 0.2306\n",
      "\u001b[34mval dice increased: 0.3106078803539276 ---> 0.3182142674922943\n",
      "\u001b[34mval jaccard increased: 0.2248680591583252 ---> 0.23058687150478363\n",
      "\u001b[0m===================== Epoch: [94/300] =====================\n"
     ]
    },
    {
     "name": "stderr",
     "output_type": "stream",
     "text": [
      "100%|██████████| 38/38 [00:12<00:00,  3.03it/s, Epoch=94, loss=0.471]\n",
      "100%|██████████| 7/7 [00:01<00:00,  4.27it/s, gpu_memory=6.49 GB, lr=0.00010, valid_loss=0.5086]\n"
     ]
    },
    {
     "name": "stdout",
     "output_type": "stream",
     "text": [
      "\n",
      " Saving model at 94th epoch\n",
      "\n",
      " Final Train Loss: 0.4710  |  Final Val Loss: 0.5086\n",
      "Valid Dice: 0.2756 | Valid Jaccard: 0.2024\n",
      "\u001b[0m===================== Epoch: [95/300] =====================\n"
     ]
    },
    {
     "name": "stderr",
     "output_type": "stream",
     "text": [
      "100%|██████████| 38/38 [00:12<00:00,  3.04it/s, Epoch=95, loss=0.469]\n",
      "100%|██████████| 7/7 [00:01<00:00,  4.35it/s, gpu_memory=6.48 GB, lr=0.00010, valid_loss=0.5073]\n"
     ]
    },
    {
     "name": "stdout",
     "output_type": "stream",
     "text": [
      "\n",
      " Saving model at 95th epoch\n",
      "\n",
      " Final Train Loss: 0.4692  |  Final Val Loss: 0.5073\n",
      "Valid Dice: 0.3235 | Valid Jaccard: 0.2329\n",
      "\u001b[34mval dice increased: 0.3182142674922943 ---> 0.32347947359085083\n",
      "\u001b[34mval jaccard increased: 0.23058687150478363 ---> 0.23287512362003326\n",
      "\u001b[0m===================== Epoch: [96/300] =====================\n"
     ]
    },
    {
     "name": "stderr",
     "output_type": "stream",
     "text": [
      "100%|██████████| 38/38 [00:12<00:00,  3.01it/s, Epoch=96, loss=0.469]\n",
      "100%|██████████| 7/7 [00:01<00:00,  4.36it/s, gpu_memory=6.49 GB, lr=0.00009, valid_loss=0.5147]\n"
     ]
    },
    {
     "name": "stdout",
     "output_type": "stream",
     "text": [
      "\n",
      " Saving model at 96th epoch\n",
      "\n",
      " Final Train Loss: 0.4685  |  Final Val Loss: 0.5147\n",
      "Valid Dice: 0.2843 | Valid Jaccard: 0.2099\n",
      "\u001b[0m===================== Epoch: [97/300] =====================\n"
     ]
    },
    {
     "name": "stderr",
     "output_type": "stream",
     "text": [
      "100%|██████████| 38/38 [00:12<00:00,  3.00it/s, Epoch=97, loss=0.471]\n",
      "100%|██████████| 7/7 [00:01<00:00,  4.34it/s, gpu_memory=6.48 GB, lr=0.00008, valid_loss=0.4988]\n"
     ]
    },
    {
     "name": "stdout",
     "output_type": "stream",
     "text": [
      "\n",
      " Saving model at 97th epoch\n",
      "\n",
      " Final Train Loss: 0.4708  |  Final Val Loss: 0.4988\n",
      "Valid Dice: 0.3190 | Valid Jaccard: 0.2327\n",
      "\u001b[0m===================== Epoch: [98/300] =====================\n"
     ]
    },
    {
     "name": "stderr",
     "output_type": "stream",
     "text": [
      "100%|██████████| 38/38 [00:12<00:00,  3.02it/s, Epoch=98, loss=0.466]\n",
      "100%|██████████| 7/7 [00:01<00:00,  4.40it/s, gpu_memory=6.49 GB, lr=0.00006, valid_loss=0.4983]\n"
     ]
    },
    {
     "name": "stdout",
     "output_type": "stream",
     "text": [
      "\n",
      " Saving model at 98th epoch\n",
      "\n",
      " Final Train Loss: 0.4657  |  Final Val Loss: 0.4983\n",
      "Valid Dice: 0.3173 | Valid Jaccard: 0.2277\n",
      "\u001b[0m===================== Epoch: [99/300] =====================\n"
     ]
    },
    {
     "name": "stderr",
     "output_type": "stream",
     "text": [
      "100%|██████████| 38/38 [00:12<00:00,  3.03it/s, Epoch=99, loss=0.475]\n",
      "100%|██████████| 7/7 [00:01<00:00,  4.31it/s, gpu_memory=6.48 GB, lr=0.00004, valid_loss=0.5027]\n"
     ]
    },
    {
     "name": "stdout",
     "output_type": "stream",
     "text": [
      "\n",
      " Saving model at 99th epoch\n",
      "\n",
      " Final Train Loss: 0.4749  |  Final Val Loss: 0.5027\n",
      "Valid Dice: 0.2962 | Valid Jaccard: 0.2147\n",
      "\u001b[0m===================== Epoch: [100/300] =====================\n"
     ]
    },
    {
     "name": "stderr",
     "output_type": "stream",
     "text": [
      "100%|██████████| 38/38 [00:12<00:00,  3.03it/s, Epoch=100, loss=0.467]\n",
      "100%|██████████| 7/7 [00:01<00:00,  4.36it/s, gpu_memory=6.49 GB, lr=0.00003, valid_loss=0.4998]\n"
     ]
    },
    {
     "name": "stdout",
     "output_type": "stream",
     "text": [
      "\n",
      " Saving model at 100th epoch\n",
      "\n",
      " Final Train Loss: 0.4672  |  Final Val Loss: 0.4998\n",
      "Valid Dice: 0.3270 | Valid Jaccard: 0.2384\n",
      "\u001b[34mval dice increased: 0.32347947359085083 ---> 0.3269965946674347\n",
      "\u001b[34mval jaccard increased: 0.23287512362003326 ---> 0.23839016258716583\n",
      "\u001b[0m===================== Epoch: [101/300] =====================\n"
     ]
    },
    {
     "name": "stderr",
     "output_type": "stream",
     "text": [
      "100%|██████████| 38/38 [00:12<00:00,  3.03it/s, Epoch=101, loss=0.46] \n",
      "100%|██████████| 7/7 [00:01<00:00,  3.91it/s, gpu_memory=6.48 GB, lr=0.00001, valid_loss=0.4990]\n"
     ]
    },
    {
     "name": "stdout",
     "output_type": "stream",
     "text": [
      "\n",
      " Saving model at 101th epoch\n",
      "\n",
      " Final Train Loss: 0.4599  |  Final Val Loss: 0.4990\n",
      "Valid Dice: 0.3301 | Valid Jaccard: 0.2402\n",
      "\u001b[34mval dice increased: 0.3269965946674347 ---> 0.33011648058891296\n",
      "\u001b[34mval jaccard increased: 0.23839016258716583 ---> 0.24023978412151337\n",
      "\u001b[0m===================== Epoch: [102/300] =====================\n"
     ]
    },
    {
     "name": "stderr",
     "output_type": "stream",
     "text": [
      "100%|██████████| 38/38 [00:12<00:00,  3.00it/s, Epoch=102, loss=0.452]\n",
      "100%|██████████| 7/7 [00:01<00:00,  4.30it/s, gpu_memory=6.49 GB, lr=0.00000, valid_loss=0.4964]\n"
     ]
    },
    {
     "name": "stdout",
     "output_type": "stream",
     "text": [
      "\n",
      " Saving model at 102th epoch\n",
      "\n",
      " Final Train Loss: 0.4520  |  Final Val Loss: 0.4964\n",
      "Valid Dice: 0.3255 | Valid Jaccard: 0.2382\n",
      "\u001b[0m===================== Epoch: [103/300] =====================\n"
     ]
    },
    {
     "name": "stderr",
     "output_type": "stream",
     "text": [
      "100%|██████████| 38/38 [00:12<00:00,  3.03it/s, Epoch=103, loss=0.454]\n",
      "100%|██████████| 7/7 [00:01<00:00,  4.37it/s, gpu_memory=6.48 GB, lr=0.00000, valid_loss=0.4960]\n"
     ]
    },
    {
     "name": "stdout",
     "output_type": "stream",
     "text": [
      "\n",
      " Saving model at 103th epoch\n",
      "\n",
      " Final Train Loss: 0.4541  |  Final Val Loss: 0.4960\n",
      "Valid Dice: 0.3270 | Valid Jaccard: 0.2393\n",
      "\u001b[0m===================== Epoch: [104/300] =====================\n"
     ]
    },
    {
     "name": "stderr",
     "output_type": "stream",
     "text": [
      "100%|██████████| 38/38 [00:12<00:00,  3.02it/s, Epoch=104, loss=0.456]\n",
      "100%|██████████| 7/7 [00:01<00:00,  4.32it/s, gpu_memory=6.49 GB, lr=0.00001, valid_loss=0.4960]\n"
     ]
    },
    {
     "name": "stdout",
     "output_type": "stream",
     "text": [
      "\n",
      " Saving model at 104th epoch\n",
      "\n",
      " Final Train Loss: 0.4558  |  Final Val Loss: 0.4960\n",
      "Valid Dice: 0.3279 | Valid Jaccard: 0.2401\n",
      "\u001b[0m===================== Epoch: [105/300] =====================\n"
     ]
    },
    {
     "name": "stderr",
     "output_type": "stream",
     "text": [
      "100%|██████████| 38/38 [00:12<00:00,  3.00it/s, Epoch=105, loss=0.459]\n",
      "100%|██████████| 7/7 [00:01<00:00,  4.37it/s, gpu_memory=6.48 GB, lr=0.00002, valid_loss=0.4950]\n"
     ]
    },
    {
     "name": "stdout",
     "output_type": "stream",
     "text": [
      "\n",
      " Saving model at 105th epoch\n",
      "\n",
      " Final Train Loss: 0.4585  |  Final Val Loss: 0.4950\n",
      "Valid Dice: 0.3316 | Valid Jaccard: 0.2423\n",
      "\u001b[34mval dice increased: 0.33011648058891296 ---> 0.33159175515174866\n",
      "\u001b[34mval jaccard increased: 0.24023978412151337 ---> 0.24226923286914825\n",
      "\u001b[0m===================== Epoch: [106/300] =====================\n"
     ]
    },
    {
     "name": "stderr",
     "output_type": "stream",
     "text": [
      "100%|██████████| 38/38 [00:12<00:00,  3.01it/s, Epoch=106, loss=0.456]\n",
      "100%|██████████| 7/7 [00:01<00:00,  4.38it/s, gpu_memory=6.49 GB, lr=0.00004, valid_loss=0.4988]\n"
     ]
    },
    {
     "name": "stdout",
     "output_type": "stream",
     "text": [
      "\n",
      " Saving model at 106th epoch\n",
      "\n",
      " Final Train Loss: 0.4556  |  Final Val Loss: 0.4988\n",
      "Valid Dice: 0.3264 | Valid Jaccard: 0.2392\n",
      "\u001b[0m===================== Epoch: [107/300] =====================\n"
     ]
    },
    {
     "name": "stderr",
     "output_type": "stream",
     "text": [
      "100%|██████████| 38/38 [00:12<00:00,  3.03it/s, Epoch=107, loss=0.466]\n",
      "100%|██████████| 7/7 [00:01<00:00,  4.32it/s, gpu_memory=6.48 GB, lr=0.00006, valid_loss=0.5013]\n"
     ]
    },
    {
     "name": "stdout",
     "output_type": "stream",
     "text": [
      "\n",
      " Saving model at 107th epoch\n",
      "\n",
      " Final Train Loss: 0.4663  |  Final Val Loss: 0.5013\n",
      "Valid Dice: 0.3151 | Valid Jaccard: 0.2295\n",
      "\u001b[0m===================== Epoch: [108/300] =====================\n"
     ]
    },
    {
     "name": "stderr",
     "output_type": "stream",
     "text": [
      "100%|██████████| 38/38 [00:12<00:00,  2.99it/s, Epoch=108, loss=0.462]\n",
      "100%|██████████| 7/7 [00:01<00:00,  4.28it/s, gpu_memory=6.49 GB, lr=0.00008, valid_loss=0.5019]\n"
     ]
    },
    {
     "name": "stdout",
     "output_type": "stream",
     "text": [
      "\n",
      " Saving model at 108th epoch\n",
      "\n",
      " Final Train Loss: 0.4619  |  Final Val Loss: 0.5019\n",
      "Valid Dice: 0.3266 | Valid Jaccard: 0.2363\n",
      "\u001b[0m===================== Epoch: [109/300] =====================\n"
     ]
    },
    {
     "name": "stderr",
     "output_type": "stream",
     "text": [
      "100%|██████████| 38/38 [00:12<00:00,  3.01it/s, Epoch=109, loss=0.468]\n",
      "100%|██████████| 7/7 [00:01<00:00,  4.33it/s, gpu_memory=6.48 GB, lr=0.00009, valid_loss=0.5131]\n"
     ]
    },
    {
     "name": "stdout",
     "output_type": "stream",
     "text": [
      "\n",
      " Saving model at 109th epoch\n",
      "\n",
      " Final Train Loss: 0.4683  |  Final Val Loss: 0.5131\n",
      "Valid Dice: 0.3628 | Valid Jaccard: 0.2643\n",
      "\u001b[34mval dice increased: 0.33159175515174866 ---> 0.36278122663497925\n",
      "\u001b[34mval jaccard increased: 0.24226923286914825 ---> 0.2642613649368286\n",
      "\u001b[0m===================== Epoch: [110/300] =====================\n"
     ]
    },
    {
     "name": "stderr",
     "output_type": "stream",
     "text": [
      "100%|██████████| 38/38 [00:12<00:00,  3.01it/s, Epoch=110, loss=0.474]\n",
      "100%|██████████| 7/7 [00:01<00:00,  4.32it/s, gpu_memory=6.49 GB, lr=0.00010, valid_loss=0.5000]\n"
     ]
    },
    {
     "name": "stdout",
     "output_type": "stream",
     "text": [
      "\n",
      " Saving model at 110th epoch\n",
      "\n",
      " Final Train Loss: 0.4742  |  Final Val Loss: 0.5000\n",
      "Valid Dice: 0.2939 | Valid Jaccard: 0.2142\n",
      "\u001b[0m===================== Epoch: [111/300] =====================\n"
     ]
    },
    {
     "name": "stderr",
     "output_type": "stream",
     "text": [
      "100%|██████████| 38/38 [00:12<00:00,  3.01it/s, Epoch=111, loss=0.472]\n",
      "100%|██████████| 7/7 [00:01<00:00,  4.40it/s, gpu_memory=6.48 GB, lr=0.00010, valid_loss=0.5038]\n"
     ]
    },
    {
     "name": "stdout",
     "output_type": "stream",
     "text": [
      "\n",
      " Saving model at 111th epoch\n",
      "\n",
      " Final Train Loss: 0.4721  |  Final Val Loss: 0.5038\n",
      "Valid Dice: 0.2940 | Valid Jaccard: 0.2130\n",
      "\u001b[0m===================== Epoch: [112/300] =====================\n"
     ]
    },
    {
     "name": "stderr",
     "output_type": "stream",
     "text": [
      "100%|██████████| 38/38 [00:12<00:00,  3.01it/s, Epoch=112, loss=0.461]\n",
      "100%|██████████| 7/7 [00:01<00:00,  4.32it/s, gpu_memory=6.49 GB, lr=0.00009, valid_loss=0.5199]\n"
     ]
    },
    {
     "name": "stdout",
     "output_type": "stream",
     "text": [
      "\n",
      " Saving model at 112th epoch\n",
      "\n",
      " Final Train Loss: 0.4615  |  Final Val Loss: 0.5199\n",
      "Valid Dice: 0.2633 | Valid Jaccard: 0.1922\n",
      "\u001b[0m===================== Epoch: [113/300] =====================\n"
     ]
    },
    {
     "name": "stderr",
     "output_type": "stream",
     "text": [
      "100%|██████████| 38/38 [00:12<00:00,  3.03it/s, Epoch=113, loss=0.46] \n",
      "100%|██████████| 7/7 [00:01<00:00,  4.29it/s, gpu_memory=6.48 GB, lr=0.00008, valid_loss=0.4999]\n"
     ]
    },
    {
     "name": "stdout",
     "output_type": "stream",
     "text": [
      "\n",
      " Saving model at 113th epoch\n",
      "\n",
      " Final Train Loss: 0.4597  |  Final Val Loss: 0.4999\n",
      "Valid Dice: 0.3218 | Valid Jaccard: 0.2336\n",
      "\u001b[0m===================== Epoch: [114/300] =====================\n"
     ]
    },
    {
     "name": "stderr",
     "output_type": "stream",
     "text": [
      "100%|██████████| 38/38 [00:12<00:00,  3.03it/s, Epoch=114, loss=0.463]\n",
      "100%|██████████| 7/7 [00:01<00:00,  4.38it/s, gpu_memory=6.49 GB, lr=0.00006, valid_loss=0.5194]\n"
     ]
    },
    {
     "name": "stdout",
     "output_type": "stream",
     "text": [
      "\n",
      " Saving model at 114th epoch\n",
      "\n",
      " Final Train Loss: 0.4632  |  Final Val Loss: 0.5194\n",
      "Valid Dice: 0.2814 | Valid Jaccard: 0.2020\n",
      "\u001b[0m===================== Epoch: [115/300] =====================\n"
     ]
    },
    {
     "name": "stderr",
     "output_type": "stream",
     "text": [
      "100%|██████████| 38/38 [00:12<00:00,  3.00it/s, Epoch=115, loss=0.459]\n",
      "100%|██████████| 7/7 [00:01<00:00,  4.39it/s, gpu_memory=6.48 GB, lr=0.00004, valid_loss=0.4964]\n"
     ]
    },
    {
     "name": "stdout",
     "output_type": "stream",
     "text": [
      "\n",
      " Saving model at 115th epoch\n",
      "\n",
      " Final Train Loss: 0.4585  |  Final Val Loss: 0.4964\n",
      "Valid Dice: 0.3633 | Valid Jaccard: 0.2663\n",
      "\u001b[34mval dice increased: 0.36278122663497925 ---> 0.3632700443267822\n",
      "\u001b[34mval jaccard increased: 0.2642613649368286 ---> 0.26631322503089905\n",
      "\u001b[0m===================== Epoch: [116/300] =====================\n"
     ]
    },
    {
     "name": "stderr",
     "output_type": "stream",
     "text": [
      "100%|██████████| 38/38 [00:12<00:00,  3.01it/s, Epoch=116, loss=0.453]\n",
      "100%|██████████| 7/7 [00:01<00:00,  4.12it/s, gpu_memory=6.49 GB, lr=0.00002, valid_loss=0.4958]\n"
     ]
    },
    {
     "name": "stdout",
     "output_type": "stream",
     "text": [
      "\n",
      " Saving model at 116th epoch\n",
      "\n",
      " Final Train Loss: 0.4525  |  Final Val Loss: 0.4958\n",
      "Valid Dice: 0.3566 | Valid Jaccard: 0.2640\n",
      "\u001b[0m===================== Epoch: [117/300] =====================\n"
     ]
    },
    {
     "name": "stderr",
     "output_type": "stream",
     "text": [
      "100%|██████████| 38/38 [00:12<00:00,  3.00it/s, Epoch=117, loss=0.451]\n",
      "100%|██████████| 7/7 [00:01<00:00,  4.30it/s, gpu_memory=6.48 GB, lr=0.00001, valid_loss=0.4909]\n"
     ]
    },
    {
     "name": "stdout",
     "output_type": "stream",
     "text": [
      "\n",
      " Saving model at 117th epoch\n",
      "\n",
      " Final Train Loss: 0.4510  |  Final Val Loss: 0.4909\n",
      "Valid Dice: 0.3526 | Valid Jaccard: 0.2607\n",
      "\u001b[0m===================== Epoch: [118/300] =====================\n"
     ]
    },
    {
     "name": "stderr",
     "output_type": "stream",
     "text": [
      "100%|██████████| 38/38 [00:12<00:00,  3.01it/s, Epoch=118, loss=0.448]\n",
      "100%|██████████| 7/7 [00:01<00:00,  4.27it/s, gpu_memory=6.49 GB, lr=0.00000, valid_loss=0.4895]\n"
     ]
    },
    {
     "name": "stdout",
     "output_type": "stream",
     "text": [
      "\n",
      " Saving model at 118th epoch\n",
      "\n",
      " Final Train Loss: 0.4480  |  Final Val Loss: 0.4895\n",
      "Valid Dice: 0.3581 | Valid Jaccard: 0.2662\n",
      "\u001b[0m===================== Epoch: [119/300] =====================\n"
     ]
    },
    {
     "name": "stderr",
     "output_type": "stream",
     "text": [
      "100%|██████████| 38/38 [00:12<00:00,  3.04it/s, Epoch=119, loss=0.446]\n",
      "100%|██████████| 7/7 [00:01<00:00,  4.37it/s, gpu_memory=6.48 GB, lr=0.00000, valid_loss=0.4895]\n"
     ]
    },
    {
     "name": "stdout",
     "output_type": "stream",
     "text": [
      "\n",
      " Saving model at 119th epoch\n",
      "\n",
      " Final Train Loss: 0.4460  |  Final Val Loss: 0.4895\n",
      "Valid Dice: 0.3554 | Valid Jaccard: 0.2642\n",
      "\u001b[0m===================== Epoch: [120/300] =====================\n"
     ]
    },
    {
     "name": "stderr",
     "output_type": "stream",
     "text": [
      "100%|██████████| 38/38 [00:12<00:00,  3.01it/s, Epoch=120, loss=0.446]\n",
      "100%|██████████| 7/7 [00:01<00:00,  4.31it/s, gpu_memory=6.49 GB, lr=0.00001, valid_loss=0.4911]\n"
     ]
    },
    {
     "name": "stdout",
     "output_type": "stream",
     "text": [
      "\n",
      " Saving model at 120th epoch\n",
      "\n",
      " Final Train Loss: 0.4459  |  Final Val Loss: 0.4911\n",
      "Valid Dice: 0.3534 | Valid Jaccard: 0.2629\n",
      "\u001b[0m===================== Epoch: [121/300] =====================\n"
     ]
    },
    {
     "name": "stderr",
     "output_type": "stream",
     "text": [
      "100%|██████████| 38/38 [00:12<00:00,  3.04it/s, Epoch=121, loss=0.449]\n",
      "100%|██████████| 7/7 [00:01<00:00,  4.31it/s, gpu_memory=6.48 GB, lr=0.00002, valid_loss=0.4891]\n"
     ]
    },
    {
     "name": "stdout",
     "output_type": "stream",
     "text": [
      "\n",
      " Saving model at 121th epoch\n",
      "\n",
      " Final Train Loss: 0.4489  |  Final Val Loss: 0.4891\n",
      "Valid Dice: 0.3642 | Valid Jaccard: 0.2714\n",
      "\u001b[34mval dice increased: 0.3632700443267822 ---> 0.36415809392929077\n",
      "\u001b[34mval jaccard increased: 0.26631322503089905 ---> 0.2713524401187897\n",
      "\u001b[0m===================== Epoch: [122/300] =====================\n"
     ]
    },
    {
     "name": "stderr",
     "output_type": "stream",
     "text": [
      "100%|██████████| 38/38 [00:12<00:00,  3.01it/s, Epoch=122, loss=0.45] \n",
      "100%|██████████| 7/7 [00:01<00:00,  4.30it/s, gpu_memory=6.49 GB, lr=0.00004, valid_loss=0.4854]\n"
     ]
    },
    {
     "name": "stdout",
     "output_type": "stream",
     "text": [
      "\n",
      " Saving model at 122th epoch\n",
      "\n",
      " Final Train Loss: 0.4500  |  Final Val Loss: 0.4854\n",
      "Valid Dice: 0.3595 | Valid Jaccard: 0.2685\n",
      "\u001b[0m===================== Epoch: [123/300] =====================\n"
     ]
    },
    {
     "name": "stderr",
     "output_type": "stream",
     "text": [
      "100%|██████████| 38/38 [00:12<00:00,  3.01it/s, Epoch=123, loss=0.453]\n",
      "100%|██████████| 7/7 [00:01<00:00,  4.26it/s, gpu_memory=6.48 GB, lr=0.00006, valid_loss=0.4905]\n"
     ]
    },
    {
     "name": "stdout",
     "output_type": "stream",
     "text": [
      "\n",
      " Saving model at 123th epoch\n",
      "\n",
      " Final Train Loss: 0.4531  |  Final Val Loss: 0.4905\n",
      "Valid Dice: 0.3436 | Valid Jaccard: 0.2555\n",
      "\u001b[0m===================== Epoch: [124/300] =====================\n"
     ]
    },
    {
     "name": "stderr",
     "output_type": "stream",
     "text": [
      "100%|██████████| 38/38 [00:12<00:00,  3.03it/s, Epoch=124, loss=0.456]\n",
      "100%|██████████| 7/7 [00:01<00:00,  4.36it/s, gpu_memory=6.49 GB, lr=0.00008, valid_loss=0.4995]\n"
     ]
    },
    {
     "name": "stdout",
     "output_type": "stream",
     "text": [
      "\n",
      " Saving model at 124th epoch\n",
      "\n",
      " Final Train Loss: 0.4556  |  Final Val Loss: 0.4995\n",
      "Valid Dice: 0.3201 | Valid Jaccard: 0.2349\n",
      "\u001b[0m===================== Epoch: [125/300] =====================\n"
     ]
    },
    {
     "name": "stderr",
     "output_type": "stream",
     "text": [
      "100%|██████████| 38/38 [00:12<00:00,  3.02it/s, Epoch=125, loss=0.46] \n",
      "100%|██████████| 7/7 [00:01<00:00,  4.35it/s, gpu_memory=6.48 GB, lr=0.00009, valid_loss=0.5027]\n"
     ]
    },
    {
     "name": "stdout",
     "output_type": "stream",
     "text": [
      "\n",
      " Saving model at 125th epoch\n",
      "\n",
      " Final Train Loss: 0.4597  |  Final Val Loss: 0.5027\n",
      "Valid Dice: 0.3023 | Valid Jaccard: 0.2214\n",
      "\u001b[0m===================== Epoch: [126/300] =====================\n"
     ]
    },
    {
     "name": "stderr",
     "output_type": "stream",
     "text": [
      "100%|██████████| 38/38 [00:12<00:00,  3.01it/s, Epoch=126, loss=0.456]\n",
      "100%|██████████| 7/7 [00:01<00:00,  4.28it/s, gpu_memory=6.49 GB, lr=0.00010, valid_loss=0.5061]\n"
     ]
    },
    {
     "name": "stdout",
     "output_type": "stream",
     "text": [
      "\n",
      " Saving model at 126th epoch\n",
      "\n",
      " Final Train Loss: 0.4562  |  Final Val Loss: 0.5061\n",
      "Valid Dice: 0.3164 | Valid Jaccard: 0.2305\n",
      "\u001b[0m===================== Epoch: [127/300] =====================\n"
     ]
    },
    {
     "name": "stderr",
     "output_type": "stream",
     "text": [
      "100%|██████████| 38/38 [00:12<00:00,  3.05it/s, Epoch=127, loss=0.458]\n",
      "100%|██████████| 7/7 [00:01<00:00,  4.30it/s, gpu_memory=6.48 GB, lr=0.00010, valid_loss=0.5013]\n"
     ]
    },
    {
     "name": "stdout",
     "output_type": "stream",
     "text": [
      "\n",
      " Saving model at 127th epoch\n",
      "\n",
      " Final Train Loss: 0.4582  |  Final Val Loss: 0.5013\n",
      "Valid Dice: 0.3284 | Valid Jaccard: 0.2430\n",
      "\u001b[0m===================== Epoch: [128/300] =====================\n"
     ]
    },
    {
     "name": "stderr",
     "output_type": "stream",
     "text": [
      "100%|██████████| 38/38 [00:12<00:00,  3.01it/s, Epoch=128, loss=0.445]\n",
      "100%|██████████| 7/7 [00:01<00:00,  4.35it/s, gpu_memory=6.49 GB, lr=0.00009, valid_loss=0.4818]\n"
     ]
    },
    {
     "name": "stdout",
     "output_type": "stream",
     "text": [
      "\n",
      " Saving model at 128th epoch\n",
      "\n",
      " Final Train Loss: 0.4447  |  Final Val Loss: 0.4818\n",
      "Valid Dice: 0.3765 | Valid Jaccard: 0.2816\n",
      "\u001b[34mval dice increased: 0.36415809392929077 ---> 0.3765323758125305\n",
      "\u001b[34mval jaccard increased: 0.2713524401187897 ---> 0.2815949320793152\n",
      "\u001b[0m===================== Epoch: [129/300] =====================\n"
     ]
    },
    {
     "name": "stderr",
     "output_type": "stream",
     "text": [
      "100%|██████████| 38/38 [00:12<00:00,  3.03it/s, Epoch=129, loss=0.451]\n",
      "100%|██████████| 7/7 [00:01<00:00,  4.34it/s, gpu_memory=6.48 GB, lr=0.00007, valid_loss=0.4879]\n"
     ]
    },
    {
     "name": "stdout",
     "output_type": "stream",
     "text": [
      "\n",
      " Saving model at 129th epoch\n",
      "\n",
      " Final Train Loss: 0.4509  |  Final Val Loss: 0.4879\n",
      "Valid Dice: 0.3511 | Valid Jaccard: 0.2569\n",
      "\u001b[0m===================== Epoch: [130/300] =====================\n"
     ]
    },
    {
     "name": "stderr",
     "output_type": "stream",
     "text": [
      "100%|██████████| 38/38 [00:12<00:00,  3.03it/s, Epoch=130, loss=0.453]\n",
      "100%|██████████| 7/7 [00:01<00:00,  4.43it/s, gpu_memory=6.49 GB, lr=0.00006, valid_loss=0.4871]\n"
     ]
    },
    {
     "name": "stdout",
     "output_type": "stream",
     "text": [
      "\n",
      " Saving model at 130th epoch\n",
      "\n",
      " Final Train Loss: 0.4528  |  Final Val Loss: 0.4871\n",
      "Valid Dice: 0.3559 | Valid Jaccard: 0.2666\n",
      "\u001b[0m===================== Epoch: [131/300] =====================\n"
     ]
    },
    {
     "name": "stderr",
     "output_type": "stream",
     "text": [
      "100%|██████████| 38/38 [00:12<00:00,  3.01it/s, Epoch=131, loss=0.444]\n",
      "100%|██████████| 7/7 [00:01<00:00,  4.27it/s, gpu_memory=6.48 GB, lr=0.00004, valid_loss=0.4933]\n"
     ]
    },
    {
     "name": "stdout",
     "output_type": "stream",
     "text": [
      "\n",
      " Saving model at 131th epoch\n",
      "\n",
      " Final Train Loss: 0.4441  |  Final Val Loss: 0.4933\n",
      "Valid Dice: 0.3630 | Valid Jaccard: 0.2669\n",
      "\u001b[0m===================== Epoch: [132/300] =====================\n"
     ]
    },
    {
     "name": "stderr",
     "output_type": "stream",
     "text": [
      "100%|██████████| 38/38 [00:12<00:00,  3.03it/s, Epoch=132, loss=0.451]\n",
      "100%|██████████| 7/7 [00:01<00:00,  4.32it/s, gpu_memory=6.49 GB, lr=0.00002, valid_loss=0.4943]\n"
     ]
    },
    {
     "name": "stdout",
     "output_type": "stream",
     "text": [
      "\n",
      " Saving model at 132th epoch\n",
      "\n",
      " Final Train Loss: 0.4508  |  Final Val Loss: 0.4943\n",
      "Valid Dice: 0.3853 | Valid Jaccard: 0.2838\n",
      "\u001b[34mval dice increased: 0.3765323758125305 ---> 0.3852750360965729\n",
      "\u001b[34mval jaccard increased: 0.2815949320793152 ---> 0.283772349357605\n",
      "\u001b[0m===================== Epoch: [133/300] =====================\n"
     ]
    },
    {
     "name": "stderr",
     "output_type": "stream",
     "text": [
      "100%|██████████| 38/38 [00:12<00:00,  3.03it/s, Epoch=133, loss=0.441]\n",
      "100%|██████████| 7/7 [00:01<00:00,  4.31it/s, gpu_memory=6.48 GB, lr=0.00001, valid_loss=0.4863]\n"
     ]
    },
    {
     "name": "stdout",
     "output_type": "stream",
     "text": [
      "\n",
      " Saving model at 133th epoch\n",
      "\n",
      " Final Train Loss: 0.4411  |  Final Val Loss: 0.4863\n",
      "Valid Dice: 0.3678 | Valid Jaccard: 0.2755\n",
      "\u001b[0m===================== Epoch: [134/300] =====================\n"
     ]
    },
    {
     "name": "stderr",
     "output_type": "stream",
     "text": [
      "100%|██████████| 38/38 [00:12<00:00,  3.05it/s, Epoch=134, loss=0.433]\n",
      "100%|██████████| 7/7 [00:01<00:00,  4.37it/s, gpu_memory=6.49 GB, lr=0.00000, valid_loss=0.4854]\n"
     ]
    },
    {
     "name": "stdout",
     "output_type": "stream",
     "text": [
      "\n",
      " Saving model at 134th epoch\n",
      "\n",
      " Final Train Loss: 0.4332  |  Final Val Loss: 0.4854\n",
      "Valid Dice: 0.3661 | Valid Jaccard: 0.2746\n",
      "\u001b[0m===================== Epoch: [135/300] =====================\n"
     ]
    },
    {
     "name": "stderr",
     "output_type": "stream",
     "text": [
      "100%|██████████| 38/38 [00:12<00:00,  3.06it/s, Epoch=135, loss=0.439]\n",
      "100%|██████████| 7/7 [00:01<00:00,  4.33it/s, gpu_memory=6.48 GB, lr=0.00000, valid_loss=0.4852]\n"
     ]
    },
    {
     "name": "stdout",
     "output_type": "stream",
     "text": [
      "\n",
      " Saving model at 135th epoch\n",
      "\n",
      " Final Train Loss: 0.4393  |  Final Val Loss: 0.4852\n",
      "Valid Dice: 0.3675 | Valid Jaccard: 0.2759\n",
      "\u001b[0m===================== Epoch: [136/300] =====================\n"
     ]
    },
    {
     "name": "stderr",
     "output_type": "stream",
     "text": [
      "100%|██████████| 38/38 [00:12<00:00,  3.03it/s, Epoch=136, loss=0.434]\n",
      "100%|██████████| 7/7 [00:01<00:00,  4.35it/s, gpu_memory=6.49 GB, lr=0.00001, valid_loss=0.4858]\n"
     ]
    },
    {
     "name": "stdout",
     "output_type": "stream",
     "text": [
      "\n",
      " Saving model at 136th epoch\n",
      "\n",
      " Final Train Loss: 0.4336  |  Final Val Loss: 0.4858\n",
      "Valid Dice: 0.3715 | Valid Jaccard: 0.2793\n",
      "\u001b[0m===================== Epoch: [137/300] =====================\n"
     ]
    },
    {
     "name": "stderr",
     "output_type": "stream",
     "text": [
      "100%|██████████| 38/38 [00:12<00:00,  3.04it/s, Epoch=137, loss=0.435]\n",
      "100%|██████████| 7/7 [00:01<00:00,  4.38it/s, gpu_memory=6.48 GB, lr=0.00003, valid_loss=0.4929]\n"
     ]
    },
    {
     "name": "stdout",
     "output_type": "stream",
     "text": [
      "\n",
      " Saving model at 137th epoch\n",
      "\n",
      " Final Train Loss: 0.4350  |  Final Val Loss: 0.4929\n",
      "Valid Dice: 0.3823 | Valid Jaccard: 0.2824\n",
      "\u001b[0m===================== Epoch: [138/300] =====================\n"
     ]
    },
    {
     "name": "stderr",
     "output_type": "stream",
     "text": [
      "100%|██████████| 38/38 [00:12<00:00,  2.96it/s, Epoch=138, loss=0.441]\n",
      "100%|██████████| 7/7 [00:01<00:00,  4.43it/s, gpu_memory=6.49 GB, lr=0.00005, valid_loss=0.4903]\n"
     ]
    },
    {
     "name": "stdout",
     "output_type": "stream",
     "text": [
      "\n",
      " Saving model at 138th epoch\n",
      "\n",
      " Final Train Loss: 0.4409  |  Final Val Loss: 0.4903\n",
      "Valid Dice: 0.3681 | Valid Jaccard: 0.2740\n",
      "\u001b[0m===================== Epoch: [139/300] =====================\n"
     ]
    },
    {
     "name": "stderr",
     "output_type": "stream",
     "text": [
      "100%|██████████| 38/38 [00:13<00:00,  2.82it/s, Epoch=139, loss=0.438]\n",
      "100%|██████████| 7/7 [00:01<00:00,  4.39it/s, gpu_memory=6.48 GB, lr=0.00007, valid_loss=0.4878]\n"
     ]
    },
    {
     "name": "stdout",
     "output_type": "stream",
     "text": [
      "\n",
      " Saving model at 139th epoch\n",
      "\n",
      " Final Train Loss: 0.4377  |  Final Val Loss: 0.4878\n",
      "Valid Dice: 0.3564 | Valid Jaccard: 0.2679\n",
      "\u001b[0m===================== Epoch: [140/300] =====================\n"
     ]
    },
    {
     "name": "stderr",
     "output_type": "stream",
     "text": [
      "100%|██████████| 38/38 [00:12<00:00,  3.01it/s, Epoch=140, loss=0.432]\n",
      "100%|██████████| 7/7 [00:01<00:00,  4.33it/s, gpu_memory=6.49 GB, lr=0.00008, valid_loss=0.4961]\n"
     ]
    },
    {
     "name": "stdout",
     "output_type": "stream",
     "text": [
      "\n",
      " Saving model at 140th epoch\n",
      "\n",
      " Final Train Loss: 0.4325  |  Final Val Loss: 0.4961\n",
      "Valid Dice: 0.3560 | Valid Jaccard: 0.2641\n",
      "\u001b[0m===================== Epoch: [141/300] =====================\n"
     ]
    },
    {
     "name": "stderr",
     "output_type": "stream",
     "text": [
      "100%|██████████| 38/38 [00:12<00:00,  3.03it/s, Epoch=141, loss=0.432]\n",
      "100%|██████████| 7/7 [00:01<00:00,  4.31it/s, gpu_memory=6.48 GB, lr=0.00010, valid_loss=0.4977]\n"
     ]
    },
    {
     "name": "stdout",
     "output_type": "stream",
     "text": [
      "\n",
      " Saving model at 141th epoch\n",
      "\n",
      " Final Train Loss: 0.4322  |  Final Val Loss: 0.4977\n",
      "Valid Dice: 0.3608 | Valid Jaccard: 0.2662\n",
      "\u001b[0m===================== Epoch: [142/300] =====================\n"
     ]
    },
    {
     "name": "stderr",
     "output_type": "stream",
     "text": [
      "100%|██████████| 38/38 [00:12<00:00,  3.00it/s, Epoch=142, loss=0.434]\n",
      "100%|██████████| 7/7 [00:01<00:00,  4.37it/s, gpu_memory=6.49 GB, lr=0.00010, valid_loss=0.5031]\n"
     ]
    },
    {
     "name": "stdout",
     "output_type": "stream",
     "text": [
      "\n",
      " Saving model at 142th epoch\n",
      "\n",
      " Final Train Loss: 0.4339  |  Final Val Loss: 0.5031\n",
      "Valid Dice: 0.3432 | Valid Jaccard: 0.2527\n",
      "\u001b[0m===================== Epoch: [143/300] =====================\n"
     ]
    },
    {
     "name": "stderr",
     "output_type": "stream",
     "text": [
      "100%|██████████| 38/38 [00:12<00:00,  3.01it/s, Epoch=143, loss=0.44] \n",
      "100%|██████████| 7/7 [00:01<00:00,  4.43it/s, gpu_memory=6.48 GB, lr=0.00010, valid_loss=0.4945]\n"
     ]
    },
    {
     "name": "stdout",
     "output_type": "stream",
     "text": [
      "\n",
      " Saving model at 143th epoch\n",
      "\n",
      " Final Train Loss: 0.4397  |  Final Val Loss: 0.4945\n",
      "Valid Dice: 0.3704 | Valid Jaccard: 0.2741\n",
      "\u001b[0m===================== Epoch: [144/300] =====================\n"
     ]
    },
    {
     "name": "stderr",
     "output_type": "stream",
     "text": [
      "100%|██████████| 38/38 [00:12<00:00,  3.00it/s, Epoch=144, loss=0.445]\n",
      "100%|██████████| 7/7 [00:01<00:00,  4.28it/s, gpu_memory=6.49 GB, lr=0.00009, valid_loss=0.5014]\n"
     ]
    },
    {
     "name": "stdout",
     "output_type": "stream",
     "text": [
      "\n",
      " Saving model at 144th epoch\n",
      "\n",
      " Final Train Loss: 0.4453  |  Final Val Loss: 0.5014\n",
      "Valid Dice: 0.2990 | Valid Jaccard: 0.2220\n",
      "\u001b[0m===================== Epoch: [145/300] =====================\n"
     ]
    },
    {
     "name": "stderr",
     "output_type": "stream",
     "text": [
      "100%|██████████| 38/38 [00:12<00:00,  3.01it/s, Epoch=145, loss=0.445]\n",
      "100%|██████████| 7/7 [00:01<00:00,  4.35it/s, gpu_memory=6.48 GB, lr=0.00007, valid_loss=0.5128]\n"
     ]
    },
    {
     "name": "stdout",
     "output_type": "stream",
     "text": [
      "\n",
      " Saving model at 145th epoch\n",
      "\n",
      " Final Train Loss: 0.4451  |  Final Val Loss: 0.5128\n",
      "Valid Dice: 0.2952 | Valid Jaccard: 0.2217\n",
      "\u001b[0m===================== Epoch: [146/300] =====================\n"
     ]
    },
    {
     "name": "stderr",
     "output_type": "stream",
     "text": [
      "100%|██████████| 38/38 [00:12<00:00,  3.01it/s, Epoch=146, loss=0.439]\n",
      "100%|██████████| 7/7 [00:01<00:00,  4.35it/s, gpu_memory=6.49 GB, lr=0.00005, valid_loss=0.4882]\n"
     ]
    },
    {
     "name": "stdout",
     "output_type": "stream",
     "text": [
      "\n",
      " Saving model at 146th epoch\n",
      "\n",
      " Final Train Loss: 0.4394  |  Final Val Loss: 0.4882\n",
      "Valid Dice: 0.3766 | Valid Jaccard: 0.2787\n",
      "\u001b[0m===================== Epoch: [147/300] =====================\n"
     ]
    },
    {
     "name": "stderr",
     "output_type": "stream",
     "text": [
      "100%|██████████| 38/38 [00:12<00:00,  3.02it/s, Epoch=147, loss=0.432]\n",
      "100%|██████████| 7/7 [00:01<00:00,  4.31it/s, gpu_memory=6.48 GB, lr=0.00003, valid_loss=0.5039]\n"
     ]
    },
    {
     "name": "stdout",
     "output_type": "stream",
     "text": [
      "\n",
      " Saving model at 147th epoch\n",
      "\n",
      " Final Train Loss: 0.4322  |  Final Val Loss: 0.5039\n",
      "Valid Dice: 0.3722 | Valid Jaccard: 0.2737\n",
      "\u001b[0m===================== Epoch: [148/300] =====================\n"
     ]
    },
    {
     "name": "stderr",
     "output_type": "stream",
     "text": [
      "100%|██████████| 38/38 [00:12<00:00,  3.03it/s, Epoch=148, loss=0.427]\n",
      "100%|██████████| 7/7 [00:01<00:00,  4.36it/s, gpu_memory=6.49 GB, lr=0.00002, valid_loss=0.4973]\n"
     ]
    },
    {
     "name": "stdout",
     "output_type": "stream",
     "text": [
      "\n",
      " Saving model at 148th epoch\n",
      "\n",
      " Final Train Loss: 0.4268  |  Final Val Loss: 0.4973\n",
      "Valid Dice: 0.3807 | Valid Jaccard: 0.2795\n",
      "\u001b[0m===================== Epoch: [149/300] =====================\n"
     ]
    },
    {
     "name": "stderr",
     "output_type": "stream",
     "text": [
      "100%|██████████| 38/38 [00:12<00:00,  3.03it/s, Epoch=149, loss=0.425]\n",
      "100%|██████████| 7/7 [00:01<00:00,  4.31it/s, gpu_memory=6.48 GB, lr=0.00000, valid_loss=0.4841]\n"
     ]
    },
    {
     "name": "stdout",
     "output_type": "stream",
     "text": [
      "\n",
      " Saving model at 149th epoch\n",
      "\n",
      " Final Train Loss: 0.4254  |  Final Val Loss: 0.4841\n",
      "Valid Dice: 0.3717 | Valid Jaccard: 0.2760\n",
      "\u001b[0m===================== Epoch: [150/300] =====================\n"
     ]
    },
    {
     "name": "stderr",
     "output_type": "stream",
     "text": [
      "100%|██████████| 38/38 [00:12<00:00,  3.03it/s, Epoch=150, loss=0.426]\n",
      "100%|██████████| 7/7 [00:01<00:00,  4.35it/s, gpu_memory=6.49 GB, lr=0.00000, valid_loss=0.4845]\n"
     ]
    },
    {
     "name": "stdout",
     "output_type": "stream",
     "text": [
      "\n",
      " Saving model at 150th epoch\n",
      "\n",
      " Final Train Loss: 0.4256  |  Final Val Loss: 0.4845\n",
      "Valid Dice: 0.3703 | Valid Jaccard: 0.2743\n",
      "\u001b[0m===================== Epoch: [151/300] =====================\n"
     ]
    },
    {
     "name": "stderr",
     "output_type": "stream",
     "text": [
      "100%|██████████| 38/38 [00:12<00:00,  3.02it/s, Epoch=151, loss=0.422]\n",
      "100%|██████████| 7/7 [00:01<00:00,  4.28it/s, gpu_memory=6.48 GB, lr=0.00000, valid_loss=0.4847]\n"
     ]
    },
    {
     "name": "stdout",
     "output_type": "stream",
     "text": [
      "\n",
      " Saving model at 151th epoch\n",
      "\n",
      " Final Train Loss: 0.4216  |  Final Val Loss: 0.4847\n",
      "Valid Dice: 0.3718 | Valid Jaccard: 0.2760\n",
      "\u001b[0m===================== Epoch: [152/300] =====================\n"
     ]
    },
    {
     "name": "stderr",
     "output_type": "stream",
     "text": [
      "100%|██████████| 38/38 [00:12<00:00,  3.03it/s, Epoch=152, loss=0.425]\n",
      "100%|██████████| 7/7 [00:01<00:00,  4.36it/s, gpu_memory=6.49 GB, lr=0.00002, valid_loss=0.4867]\n"
     ]
    },
    {
     "name": "stdout",
     "output_type": "stream",
     "text": [
      "\n",
      " Saving model at 152th epoch\n",
      "\n",
      " Final Train Loss: 0.4247  |  Final Val Loss: 0.4867\n",
      "Valid Dice: 0.3742 | Valid Jaccard: 0.2768\n",
      "\u001b[0m===================== Epoch: [153/300] =====================\n"
     ]
    },
    {
     "name": "stderr",
     "output_type": "stream",
     "text": [
      "100%|██████████| 38/38 [00:12<00:00,  2.95it/s, Epoch=153, loss=0.425]\n",
      "100%|██████████| 7/7 [00:01<00:00,  4.34it/s, gpu_memory=6.48 GB, lr=0.00003, valid_loss=0.5261]\n"
     ]
    },
    {
     "name": "stdout",
     "output_type": "stream",
     "text": [
      "\n",
      " Saving model at 153th epoch\n",
      "\n",
      " Final Train Loss: 0.4246  |  Final Val Loss: 0.5261\n",
      "Valid Dice: 0.3761 | Valid Jaccard: 0.2740\n",
      "\u001b[0m===================== Epoch: [154/300] =====================\n"
     ]
    },
    {
     "name": "stderr",
     "output_type": "stream",
     "text": [
      "100%|██████████| 38/38 [00:12<00:00,  3.02it/s, Epoch=154, loss=0.426]\n",
      "100%|██████████| 7/7 [00:01<00:00,  4.32it/s, gpu_memory=6.49 GB, lr=0.00005, valid_loss=0.4935]\n"
     ]
    },
    {
     "name": "stdout",
     "output_type": "stream",
     "text": [
      "\n",
      " Saving model at 154th epoch\n",
      "\n",
      " Final Train Loss: 0.4260  |  Final Val Loss: 0.4935\n",
      "Valid Dice: 0.3536 | Valid Jaccard: 0.2638\n",
      "\u001b[0m===================== Epoch: [155/300] =====================\n"
     ]
    },
    {
     "name": "stderr",
     "output_type": "stream",
     "text": [
      "100%|██████████| 38/38 [00:12<00:00,  3.04it/s, Epoch=155, loss=0.431]\n",
      "100%|██████████| 7/7 [00:01<00:00,  4.38it/s, gpu_memory=6.48 GB, lr=0.00007, valid_loss=0.4946]\n"
     ]
    },
    {
     "name": "stdout",
     "output_type": "stream",
     "text": [
      "\n",
      " Saving model at 155th epoch\n",
      "\n",
      " Final Train Loss: 0.4312  |  Final Val Loss: 0.4946\n",
      "Valid Dice: 0.3616 | Valid Jaccard: 0.2664\n",
      "\u001b[0m===================== Epoch: [156/300] =====================\n"
     ]
    },
    {
     "name": "stderr",
     "output_type": "stream",
     "text": [
      "100%|██████████| 38/38 [00:12<00:00,  3.00it/s, Epoch=156, loss=0.428]\n",
      "100%|██████████| 7/7 [00:01<00:00,  4.30it/s, gpu_memory=6.49 GB, lr=0.00009, valid_loss=0.4969]\n"
     ]
    },
    {
     "name": "stdout",
     "output_type": "stream",
     "text": [
      "\n",
      " Saving model at 156th epoch\n",
      "\n",
      " Final Train Loss: 0.4281  |  Final Val Loss: 0.4969\n",
      "Valid Dice: 0.3463 | Valid Jaccard: 0.2542\n",
      "\u001b[0m===================== Epoch: [157/300] =====================\n"
     ]
    },
    {
     "name": "stderr",
     "output_type": "stream",
     "text": [
      "100%|██████████| 38/38 [00:12<00:00,  3.05it/s, Epoch=157, loss=0.429]\n",
      "100%|██████████| 7/7 [00:01<00:00,  4.23it/s, gpu_memory=6.48 GB, lr=0.00010, valid_loss=0.4817]\n"
     ]
    },
    {
     "name": "stdout",
     "output_type": "stream",
     "text": [
      "\n",
      " Saving model at 157th epoch\n",
      "\n",
      " Final Train Loss: 0.4287  |  Final Val Loss: 0.4817\n",
      "Valid Dice: 0.3679 | Valid Jaccard: 0.2752\n",
      "\u001b[0m===================== Epoch: [158/300] =====================\n"
     ]
    },
    {
     "name": "stderr",
     "output_type": "stream",
     "text": [
      "100%|██████████| 38/38 [00:12<00:00,  3.03it/s, Epoch=158, loss=0.435]\n",
      "100%|██████████| 7/7 [00:01<00:00,  4.29it/s, gpu_memory=6.49 GB, lr=0.00010, valid_loss=0.5107]\n"
     ]
    },
    {
     "name": "stdout",
     "output_type": "stream",
     "text": [
      "\n",
      " Saving model at 158th epoch\n",
      "\n",
      " Final Train Loss: 0.4351  |  Final Val Loss: 0.5107\n",
      "Valid Dice: 0.2800 | Valid Jaccard: 0.2006\n",
      "\u001b[0m===================== Epoch: [159/300] =====================\n"
     ]
    },
    {
     "name": "stderr",
     "output_type": "stream",
     "text": [
      "100%|██████████| 38/38 [00:12<00:00,  3.03it/s, Epoch=159, loss=0.435]\n",
      "100%|██████████| 7/7 [00:01<00:00,  4.24it/s, gpu_memory=6.48 GB, lr=0.00010, valid_loss=0.5013]\n"
     ]
    },
    {
     "name": "stdout",
     "output_type": "stream",
     "text": [
      "\n",
      " Saving model at 159th epoch\n",
      "\n",
      " Final Train Loss: 0.4353  |  Final Val Loss: 0.5013\n",
      "Valid Dice: 0.3413 | Valid Jaccard: 0.2534\n",
      "\u001b[0m===================== Epoch: [160/300] =====================\n"
     ]
    },
    {
     "name": "stderr",
     "output_type": "stream",
     "text": [
      "100%|██████████| 38/38 [00:12<00:00,  3.01it/s, Epoch=160, loss=0.429]\n",
      "100%|██████████| 7/7 [00:01<00:00,  4.33it/s, gpu_memory=6.49 GB, lr=0.00008, valid_loss=0.5086]\n"
     ]
    },
    {
     "name": "stdout",
     "output_type": "stream",
     "text": [
      "\n",
      " Saving model at 160th epoch\n",
      "\n",
      " Final Train Loss: 0.4295  |  Final Val Loss: 0.5086\n",
      "Valid Dice: 0.3603 | Valid Jaccard: 0.2682\n",
      "\u001b[0m===================== Epoch: [161/300] =====================\n"
     ]
    },
    {
     "name": "stderr",
     "output_type": "stream",
     "text": [
      "100%|██████████| 38/38 [00:12<00:00,  3.01it/s, Epoch=161, loss=0.425]\n",
      "100%|██████████| 7/7 [00:01<00:00,  4.34it/s, gpu_memory=6.48 GB, lr=0.00007, valid_loss=0.4983]\n"
     ]
    },
    {
     "name": "stdout",
     "output_type": "stream",
     "text": [
      "\n",
      " Saving model at 161th epoch\n",
      "\n",
      " Final Train Loss: 0.4249  |  Final Val Loss: 0.4983\n",
      "Valid Dice: 0.3567 | Valid Jaccard: 0.2650\n",
      "\u001b[0m===================== Epoch: [162/300] =====================\n"
     ]
    },
    {
     "name": "stderr",
     "output_type": "stream",
     "text": [
      "100%|██████████| 38/38 [00:12<00:00,  3.01it/s, Epoch=162, loss=0.42] \n",
      "100%|██████████| 7/7 [00:01<00:00,  4.30it/s, gpu_memory=6.49 GB, lr=0.00005, valid_loss=0.4892]\n"
     ]
    },
    {
     "name": "stdout",
     "output_type": "stream",
     "text": [
      "\n",
      " Saving model at 162th epoch\n",
      "\n",
      " Final Train Loss: 0.4196  |  Final Val Loss: 0.4892\n",
      "Valid Dice: 0.3885 | Valid Jaccard: 0.2837\n",
      "\u001b[34mval dice increased: 0.3852750360965729 ---> 0.38851529359817505\n",
      "\u001b[0m===================== Epoch: [163/300] =====================\n"
     ]
    },
    {
     "name": "stderr",
     "output_type": "stream",
     "text": [
      "100%|██████████| 38/38 [00:12<00:00,  3.02it/s, Epoch=163, loss=0.423]\n",
      "100%|██████████| 7/7 [00:01<00:00,  4.30it/s, gpu_memory=6.48 GB, lr=0.00003, valid_loss=0.4977]\n"
     ]
    },
    {
     "name": "stdout",
     "output_type": "stream",
     "text": [
      "\n",
      " Saving model at 163th epoch\n",
      "\n",
      " Final Train Loss: 0.4231  |  Final Val Loss: 0.4977\n",
      "Valid Dice: 0.3893 | Valid Jaccard: 0.2849\n",
      "\u001b[34mval dice increased: 0.38851529359817505 ---> 0.38928574323654175\n",
      "\u001b[34mval jaccard increased: 0.283772349357605 ---> 0.2849172353744507\n",
      "\u001b[0m===================== Epoch: [164/300] =====================\n"
     ]
    },
    {
     "name": "stderr",
     "output_type": "stream",
     "text": [
      "100%|██████████| 38/38 [00:12<00:00,  3.05it/s, Epoch=164, loss=0.419]\n",
      "100%|██████████| 7/7 [00:01<00:00,  4.28it/s, gpu_memory=6.49 GB, lr=0.00001, valid_loss=0.4825]\n"
     ]
    },
    {
     "name": "stdout",
     "output_type": "stream",
     "text": [
      "\n",
      " Saving model at 164th epoch\n",
      "\n",
      " Final Train Loss: 0.4187  |  Final Val Loss: 0.4825\n",
      "Valid Dice: 0.4199 | Valid Jaccard: 0.3078\n",
      "\u001b[34mval dice increased: 0.38928574323654175 ---> 0.41988587379455566\n",
      "\u001b[34mval jaccard increased: 0.2849172353744507 ---> 0.3078371584415436\n",
      "\u001b[0m===================== Epoch: [165/300] =====================\n"
     ]
    },
    {
     "name": "stderr",
     "output_type": "stream",
     "text": [
      "100%|██████████| 38/38 [00:12<00:00,  3.03it/s, Epoch=165, loss=0.414]\n",
      "100%|██████████| 7/7 [00:01<00:00,  4.36it/s, gpu_memory=6.48 GB, lr=0.00000, valid_loss=0.4828]\n"
     ]
    },
    {
     "name": "stdout",
     "output_type": "stream",
     "text": [
      "\n",
      " Saving model at 165th epoch\n",
      "\n",
      " Final Train Loss: 0.4139  |  Final Val Loss: 0.4828\n",
      "Valid Dice: 0.4168 | Valid Jaccard: 0.3055\n",
      "\u001b[0m===================== Epoch: [166/300] =====================\n"
     ]
    },
    {
     "name": "stderr",
     "output_type": "stream",
     "text": [
      "100%|██████████| 38/38 [00:12<00:00,  3.00it/s, Epoch=166, loss=0.41] \n",
      "100%|██████████| 7/7 [00:01<00:00,  4.35it/s, gpu_memory=6.49 GB, lr=0.00000, valid_loss=0.4827]\n"
     ]
    },
    {
     "name": "stdout",
     "output_type": "stream",
     "text": [
      "\n",
      " Saving model at 166th epoch\n",
      "\n",
      " Final Train Loss: 0.4098  |  Final Val Loss: 0.4827\n",
      "Valid Dice: 0.4119 | Valid Jaccard: 0.3025\n",
      "\u001b[0m===================== Epoch: [167/300] =====================\n"
     ]
    },
    {
     "name": "stderr",
     "output_type": "stream",
     "text": [
      "100%|██████████| 38/38 [00:12<00:00,  3.03it/s, Epoch=167, loss=0.412]\n",
      "100%|██████████| 7/7 [00:01<00:00,  4.32it/s, gpu_memory=6.48 GB, lr=0.00001, valid_loss=0.4841]\n"
     ]
    },
    {
     "name": "stdout",
     "output_type": "stream",
     "text": [
      "\n",
      " Saving model at 167th epoch\n",
      "\n",
      " Final Train Loss: 0.4118  |  Final Val Loss: 0.4841\n",
      "Valid Dice: 0.4100 | Valid Jaccard: 0.3008\n",
      "\u001b[0m===================== Epoch: [168/300] =====================\n"
     ]
    },
    {
     "name": "stderr",
     "output_type": "stream",
     "text": [
      "100%|██████████| 38/38 [00:12<00:00,  3.04it/s, Epoch=168, loss=0.409]\n",
      "100%|██████████| 7/7 [00:01<00:00,  4.25it/s, gpu_memory=6.49 GB, lr=0.00002, valid_loss=0.4830]\n"
     ]
    },
    {
     "name": "stdout",
     "output_type": "stream",
     "text": [
      "\n",
      " Saving model at 168th epoch\n",
      "\n",
      " Final Train Loss: 0.4085  |  Final Val Loss: 0.4830\n",
      "Valid Dice: 0.4319 | Valid Jaccard: 0.3154\n",
      "\u001b[34mval dice increased: 0.41988587379455566 ---> 0.43194058537483215\n",
      "\u001b[34mval jaccard increased: 0.3078371584415436 ---> 0.3154454529285431\n",
      "\u001b[0m===================== Epoch: [169/300] =====================\n"
     ]
    },
    {
     "name": "stderr",
     "output_type": "stream",
     "text": [
      "100%|██████████| 38/38 [00:12<00:00,  3.03it/s, Epoch=169, loss=0.42] \n",
      "100%|██████████| 7/7 [00:01<00:00,  4.29it/s, gpu_memory=6.48 GB, lr=0.00004, valid_loss=0.5019]\n"
     ]
    },
    {
     "name": "stdout",
     "output_type": "stream",
     "text": [
      "\n",
      " Saving model at 169th epoch\n",
      "\n",
      " Final Train Loss: 0.4195  |  Final Val Loss: 0.5019\n",
      "Valid Dice: 0.3994 | Valid Jaccard: 0.2943\n",
      "\u001b[0m===================== Epoch: [170/300] =====================\n"
     ]
    },
    {
     "name": "stderr",
     "output_type": "stream",
     "text": [
      "100%|██████████| 38/38 [00:12<00:00,  3.03it/s, Epoch=170, loss=0.416]\n",
      "100%|██████████| 7/7 [00:01<00:00,  4.31it/s, gpu_memory=6.49 GB, lr=0.00006, valid_loss=0.4979]\n"
     ]
    },
    {
     "name": "stdout",
     "output_type": "stream",
     "text": [
      "\n",
      " Saving model at 170th epoch\n",
      "\n",
      " Final Train Loss: 0.4162  |  Final Val Loss: 0.4979\n",
      "Valid Dice: 0.3895 | Valid Jaccard: 0.2873\n",
      "\u001b[0m===================== Epoch: [171/300] =====================\n"
     ]
    },
    {
     "name": "stderr",
     "output_type": "stream",
     "text": [
      "100%|██████████| 38/38 [00:12<00:00,  3.01it/s, Epoch=171, loss=0.411]\n",
      "100%|██████████| 7/7 [00:01<00:00,  4.33it/s, gpu_memory=6.48 GB, lr=0.00007, valid_loss=0.4861]\n"
     ]
    },
    {
     "name": "stdout",
     "output_type": "stream",
     "text": [
      "\n",
      " Saving model at 171th epoch\n",
      "\n",
      " Final Train Loss: 0.4114  |  Final Val Loss: 0.4861\n",
      "Valid Dice: 0.4304 | Valid Jaccard: 0.3140\n",
      "\u001b[0m===================== Epoch: [172/300] =====================\n"
     ]
    },
    {
     "name": "stderr",
     "output_type": "stream",
     "text": [
      "100%|██████████| 38/38 [00:12<00:00,  3.02it/s, Epoch=172, loss=0.412]\n",
      "100%|██████████| 7/7 [00:01<00:00,  4.36it/s, gpu_memory=6.49 GB, lr=0.00009, valid_loss=0.4922]\n"
     ]
    },
    {
     "name": "stdout",
     "output_type": "stream",
     "text": [
      "\n",
      " Saving model at 172th epoch\n",
      "\n",
      " Final Train Loss: 0.4121  |  Final Val Loss: 0.4922\n",
      "Valid Dice: 0.3809 | Valid Jaccard: 0.2810\n",
      "\u001b[0m===================== Epoch: [173/300] =====================\n"
     ]
    },
    {
     "name": "stderr",
     "output_type": "stream",
     "text": [
      "100%|██████████| 38/38 [00:12<00:00,  3.03it/s, Epoch=173, loss=0.419]\n",
      "100%|██████████| 7/7 [00:01<00:00,  4.26it/s, gpu_memory=6.48 GB, lr=0.00010, valid_loss=0.4906]\n"
     ]
    },
    {
     "name": "stdout",
     "output_type": "stream",
     "text": [
      "\n",
      " Saving model at 173th epoch\n",
      "\n",
      " Final Train Loss: 0.4186  |  Final Val Loss: 0.4906\n",
      "Valid Dice: 0.4040 | Valid Jaccard: 0.2943\n",
      "\u001b[0m===================== Epoch: [174/300] =====================\n"
     ]
    },
    {
     "name": "stderr",
     "output_type": "stream",
     "text": [
      "100%|██████████| 38/38 [00:12<00:00,  3.03it/s, Epoch=174, loss=0.432]\n",
      "100%|██████████| 7/7 [00:01<00:00,  4.33it/s, gpu_memory=6.49 GB, lr=0.00010, valid_loss=0.5052]\n"
     ]
    },
    {
     "name": "stdout",
     "output_type": "stream",
     "text": [
      "\n",
      " Saving model at 174th epoch\n",
      "\n",
      " Final Train Loss: 0.4319  |  Final Val Loss: 0.5052\n",
      "Valid Dice: 0.3730 | Valid Jaccard: 0.2725\n",
      "\u001b[0m===================== Epoch: [175/300] =====================\n"
     ]
    },
    {
     "name": "stderr",
     "output_type": "stream",
     "text": [
      "100%|██████████| 38/38 [00:12<00:00,  3.03it/s, Epoch=175, loss=0.444]\n",
      "100%|██████████| 7/7 [00:01<00:00,  4.95it/s, gpu_memory=6.48 GB, lr=0.00009, valid_loss=0.4870]\n"
     ]
    },
    {
     "name": "stdout",
     "output_type": "stream",
     "text": [
      "\n",
      " Saving model at 175th epoch\n",
      "\n",
      " Final Train Loss: 0.4442  |  Final Val Loss: 0.4870\n",
      "Valid Dice: 0.4578 | Valid Jaccard: 0.3319\n",
      "\u001b[34mval dice increased: 0.43194058537483215 ---> 0.4578250050544739\n",
      "\u001b[34mval jaccard increased: 0.3154454529285431 ---> 0.33185330033302307\n",
      "\u001b[0m===================== Epoch: [176/300] =====================\n"
     ]
    },
    {
     "name": "stderr",
     "output_type": "stream",
     "text": [
      "100%|██████████| 38/38 [00:12<00:00,  3.05it/s, Epoch=176, loss=0.423]\n",
      "100%|██████████| 7/7 [00:01<00:00,  4.32it/s, gpu_memory=6.49 GB, lr=0.00008, valid_loss=0.4798]\n"
     ]
    },
    {
     "name": "stdout",
     "output_type": "stream",
     "text": [
      "\n",
      " Saving model at 176th epoch\n",
      "\n",
      " Final Train Loss: 0.4231  |  Final Val Loss: 0.4798\n",
      "Valid Dice: 0.4701 | Valid Jaccard: 0.3464\n",
      "\u001b[34mval dice increased: 0.4578250050544739 ---> 0.47010308504104614\n",
      "\u001b[34mval jaccard increased: 0.33185330033302307 ---> 0.34642523527145386\n",
      "\u001b[0m===================== Epoch: [177/300] =====================\n"
     ]
    },
    {
     "name": "stderr",
     "output_type": "stream",
     "text": [
      "100%|██████████| 38/38 [00:12<00:00,  3.01it/s, Epoch=177, loss=0.412]\n",
      "100%|██████████| 7/7 [00:01<00:00,  4.26it/s, gpu_memory=6.48 GB, lr=0.00006, valid_loss=0.4807]\n"
     ]
    },
    {
     "name": "stdout",
     "output_type": "stream",
     "text": [
      "\n",
      " Saving model at 177th epoch\n",
      "\n",
      " Final Train Loss: 0.4124  |  Final Val Loss: 0.4807\n",
      "Valid Dice: 0.4073 | Valid Jaccard: 0.3040\n",
      "\u001b[0m===================== Epoch: [178/300] =====================\n"
     ]
    },
    {
     "name": "stderr",
     "output_type": "stream",
     "text": [
      "100%|██████████| 38/38 [00:12<00:00,  3.01it/s, Epoch=178, loss=0.413]\n",
      "100%|██████████| 7/7 [00:01<00:00,  4.26it/s, gpu_memory=6.49 GB, lr=0.00004, valid_loss=0.4830]\n"
     ]
    },
    {
     "name": "stdout",
     "output_type": "stream",
     "text": [
      "\n",
      " Saving model at 178th epoch\n",
      "\n",
      " Final Train Loss: 0.4133  |  Final Val Loss: 0.4830\n",
      "Valid Dice: 0.4383 | Valid Jaccard: 0.3241\n",
      "\u001b[0m===================== Epoch: [179/300] =====================\n"
     ]
    },
    {
     "name": "stderr",
     "output_type": "stream",
     "text": [
      "100%|██████████| 38/38 [00:12<00:00,  3.02it/s, Epoch=179, loss=0.412]\n",
      "100%|██████████| 7/7 [00:01<00:00,  4.24it/s, gpu_memory=6.48 GB, lr=0.00002, valid_loss=0.4994]\n"
     ]
    },
    {
     "name": "stdout",
     "output_type": "stream",
     "text": [
      "\n",
      " Saving model at 179th epoch\n",
      "\n",
      " Final Train Loss: 0.4124  |  Final Val Loss: 0.4994\n",
      "Valid Dice: 0.4414 | Valid Jaccard: 0.3253\n",
      "\u001b[0m===================== Epoch: [180/300] =====================\n"
     ]
    },
    {
     "name": "stderr",
     "output_type": "stream",
     "text": [
      "100%|██████████| 38/38 [00:12<00:00,  3.01it/s, Epoch=180, loss=0.408]\n",
      "100%|██████████| 7/7 [00:01<00:00,  4.32it/s, gpu_memory=6.49 GB, lr=0.00001, valid_loss=0.4751]\n"
     ]
    },
    {
     "name": "stdout",
     "output_type": "stream",
     "text": [
      "\n",
      " Saving model at 180th epoch\n",
      "\n",
      " Final Train Loss: 0.4078  |  Final Val Loss: 0.4751\n",
      "Valid Dice: 0.4776 | Valid Jaccard: 0.3520\n",
      "\u001b[34mval dice increased: 0.47010308504104614 ---> 0.47757983207702637\n",
      "\u001b[34mval jaccard increased: 0.34642523527145386 ---> 0.3519766330718994\n",
      "\u001b[0m===================== Epoch: [181/300] =====================\n"
     ]
    },
    {
     "name": "stderr",
     "output_type": "stream",
     "text": [
      "100%|██████████| 38/38 [00:12<00:00,  3.01it/s, Epoch=181, loss=0.406]\n",
      "100%|██████████| 7/7 [00:01<00:00,  4.36it/s, gpu_memory=6.48 GB, lr=0.00000, valid_loss=0.4720]\n"
     ]
    },
    {
     "name": "stdout",
     "output_type": "stream",
     "text": [
      "\n",
      " Saving model at 181th epoch\n",
      "\n",
      " Final Train Loss: 0.4058  |  Final Val Loss: 0.4720\n",
      "Valid Dice: 0.4933 | Valid Jaccard: 0.3653\n",
      "\u001b[34mval dice increased: 0.47757983207702637 ---> 0.49328210949897766\n",
      "\u001b[34mval jaccard increased: 0.3519766330718994 ---> 0.3653327524662018\n",
      "\u001b[0m===================== Epoch: [182/300] =====================\n"
     ]
    },
    {
     "name": "stderr",
     "output_type": "stream",
     "text": [
      "100%|██████████| 38/38 [00:12<00:00,  3.04it/s, Epoch=182, loss=0.402]\n",
      "100%|██████████| 7/7 [00:01<00:00,  4.30it/s, gpu_memory=6.49 GB, lr=0.00000, valid_loss=0.4718]\n"
     ]
    },
    {
     "name": "stdout",
     "output_type": "stream",
     "text": [
      "\n",
      " Saving model at 182th epoch\n",
      "\n",
      " Final Train Loss: 0.4023  |  Final Val Loss: 0.4718\n",
      "Valid Dice: 0.4902 | Valid Jaccard: 0.3628\n",
      "\u001b[0m===================== Epoch: [183/300] =====================\n"
     ]
    },
    {
     "name": "stderr",
     "output_type": "stream",
     "text": [
      "100%|██████████| 38/38 [00:12<00:00,  3.05it/s, Epoch=183, loss=0.399]\n",
      "100%|██████████| 7/7 [00:01<00:00,  4.26it/s, gpu_memory=6.48 GB, lr=0.00001, valid_loss=0.4737]\n"
     ]
    },
    {
     "name": "stdout",
     "output_type": "stream",
     "text": [
      "\n",
      " Saving model at 183th epoch\n",
      "\n",
      " Final Train Loss: 0.3991  |  Final Val Loss: 0.4737\n",
      "Valid Dice: 0.4988 | Valid Jaccard: 0.3696\n",
      "\u001b[34mval dice increased: 0.49328210949897766 ---> 0.49875158071517944\n",
      "\u001b[34mval jaccard increased: 0.3653327524662018 ---> 0.36964157223701477\n",
      "\u001b[0m===================== Epoch: [184/300] =====================\n"
     ]
    },
    {
     "name": "stderr",
     "output_type": "stream",
     "text": [
      "100%|██████████| 38/38 [00:12<00:00,  3.01it/s, Epoch=184, loss=0.403]\n",
      "100%|██████████| 7/7 [00:01<00:00,  4.33it/s, gpu_memory=6.49 GB, lr=0.00002, valid_loss=0.4779]\n"
     ]
    },
    {
     "name": "stdout",
     "output_type": "stream",
     "text": [
      "\n",
      " Saving model at 184th epoch\n",
      "\n",
      " Final Train Loss: 0.4033  |  Final Val Loss: 0.4779\n",
      "Valid Dice: 0.4475 | Valid Jaccard: 0.3305\n",
      "\u001b[0m===================== Epoch: [185/300] =====================\n"
     ]
    },
    {
     "name": "stderr",
     "output_type": "stream",
     "text": [
      "100%|██████████| 38/38 [00:12<00:00,  3.00it/s, Epoch=185, loss=0.401]\n",
      "100%|██████████| 7/7 [00:01<00:00,  4.30it/s, gpu_memory=6.48 GB, lr=0.00004, valid_loss=0.4864]\n"
     ]
    },
    {
     "name": "stdout",
     "output_type": "stream",
     "text": [
      "\n",
      " Saving model at 185th epoch\n",
      "\n",
      " Final Train Loss: 0.4013  |  Final Val Loss: 0.4864\n",
      "Valid Dice: 0.4688 | Valid Jaccard: 0.3442\n",
      "\u001b[0m===================== Epoch: [186/300] =====================\n"
     ]
    },
    {
     "name": "stderr",
     "output_type": "stream",
     "text": [
      "100%|██████████| 38/38 [00:12<00:00,  3.01it/s, Epoch=186, loss=0.4]  \n",
      "100%|██████████| 7/7 [00:01<00:00,  4.36it/s, gpu_memory=6.49 GB, lr=0.00006, valid_loss=0.4794]\n"
     ]
    },
    {
     "name": "stdout",
     "output_type": "stream",
     "text": [
      "\n",
      " Saving model at 186th epoch\n",
      "\n",
      " Final Train Loss: 0.4000  |  Final Val Loss: 0.4794\n",
      "Valid Dice: 0.4478 | Valid Jaccard: 0.3300\n",
      "\u001b[0m===================== Epoch: [187/300] =====================\n"
     ]
    },
    {
     "name": "stderr",
     "output_type": "stream",
     "text": [
      "100%|██████████| 38/38 [00:12<00:00,  2.97it/s, Epoch=187, loss=0.404]\n",
      "100%|██████████| 7/7 [00:01<00:00,  3.79it/s, gpu_memory=6.48 GB, lr=0.00008, valid_loss=0.4986]\n"
     ]
    },
    {
     "name": "stdout",
     "output_type": "stream",
     "text": [
      "\n",
      " Saving model at 187th epoch\n",
      "\n",
      " Final Train Loss: 0.4040  |  Final Val Loss: 0.4986\n",
      "Valid Dice: 0.3960 | Valid Jaccard: 0.2861\n",
      "\u001b[0m===================== Epoch: [188/300] =====================\n"
     ]
    },
    {
     "name": "stderr",
     "output_type": "stream",
     "text": [
      "100%|██████████| 38/38 [00:13<00:00,  2.81it/s, Epoch=188, loss=0.41] \n",
      "100%|██████████| 7/7 [00:01<00:00,  4.30it/s, gpu_memory=6.49 GB, lr=0.00009, valid_loss=0.4833]\n"
     ]
    },
    {
     "name": "stdout",
     "output_type": "stream",
     "text": [
      "\n",
      " Saving model at 188th epoch\n",
      "\n",
      " Final Train Loss: 0.4101  |  Final Val Loss: 0.4833\n",
      "Valid Dice: 0.4707 | Valid Jaccard: 0.3426\n",
      "\u001b[0m===================== Epoch: [189/300] =====================\n"
     ]
    },
    {
     "name": "stderr",
     "output_type": "stream",
     "text": [
      "100%|██████████| 38/38 [00:12<00:00,  3.03it/s, Epoch=189, loss=0.411]\n",
      "100%|██████████| 7/7 [00:01<00:00,  4.26it/s, gpu_memory=6.48 GB, lr=0.00010, valid_loss=0.4832]\n"
     ]
    },
    {
     "name": "stdout",
     "output_type": "stream",
     "text": [
      "\n",
      " Saving model at 189th epoch\n",
      "\n",
      " Final Train Loss: 0.4107  |  Final Val Loss: 0.4832\n",
      "Valid Dice: 0.4622 | Valid Jaccard: 0.3404\n",
      "\u001b[0m===================== Epoch: [190/300] =====================\n"
     ]
    },
    {
     "name": "stderr",
     "output_type": "stream",
     "text": [
      "100%|██████████| 38/38 [00:12<00:00,  3.01it/s, Epoch=190, loss=0.407]\n",
      "100%|██████████| 7/7 [00:01<00:00,  4.36it/s, gpu_memory=6.49 GB, lr=0.00010, valid_loss=0.4831]\n"
     ]
    },
    {
     "name": "stdout",
     "output_type": "stream",
     "text": [
      "\n",
      " Saving model at 190th epoch\n",
      "\n",
      " Final Train Loss: 0.4070  |  Final Val Loss: 0.4831\n",
      "Valid Dice: 0.4268 | Valid Jaccard: 0.3121\n",
      "\u001b[0m===================== Epoch: [191/300] =====================\n"
     ]
    },
    {
     "name": "stderr",
     "output_type": "stream",
     "text": [
      "100%|██████████| 38/38 [00:12<00:00,  3.03it/s, Epoch=191, loss=0.404]\n",
      "100%|██████████| 7/7 [00:01<00:00,  4.30it/s, gpu_memory=6.48 GB, lr=0.00009, valid_loss=0.4908]\n"
     ]
    },
    {
     "name": "stdout",
     "output_type": "stream",
     "text": [
      "\n",
      " Saving model at 191th epoch\n",
      "\n",
      " Final Train Loss: 0.4041  |  Final Val Loss: 0.4908\n",
      "Valid Dice: 0.4218 | Valid Jaccard: 0.3075\n",
      "\u001b[0m===================== Epoch: [192/300] =====================\n"
     ]
    },
    {
     "name": "stderr",
     "output_type": "stream",
     "text": [
      "100%|██████████| 38/38 [00:12<00:00,  3.04it/s, Epoch=192, loss=0.407]\n",
      "100%|██████████| 7/7 [00:01<00:00,  4.37it/s, gpu_memory=6.49 GB, lr=0.00008, valid_loss=0.4752]\n"
     ]
    },
    {
     "name": "stdout",
     "output_type": "stream",
     "text": [
      "\n",
      " Saving model at 192th epoch\n",
      "\n",
      " Final Train Loss: 0.4066  |  Final Val Loss: 0.4752\n",
      "Valid Dice: 0.4653 | Valid Jaccard: 0.3423\n",
      "\u001b[0m===================== Epoch: [193/300] =====================\n"
     ]
    },
    {
     "name": "stderr",
     "output_type": "stream",
     "text": [
      "100%|██████████| 38/38 [00:12<00:00,  3.03it/s, Epoch=193, loss=0.402]\n",
      "100%|██████████| 7/7 [00:01<00:00,  4.34it/s, gpu_memory=6.48 GB, lr=0.00006, valid_loss=0.4857]\n"
     ]
    },
    {
     "name": "stdout",
     "output_type": "stream",
     "text": [
      "\n",
      " Saving model at 193th epoch\n",
      "\n",
      " Final Train Loss: 0.4022  |  Final Val Loss: 0.4857\n",
      "Valid Dice: 0.4790 | Valid Jaccard: 0.3550\n",
      "\u001b[0m===================== Epoch: [194/300] =====================\n"
     ]
    },
    {
     "name": "stderr",
     "output_type": "stream",
     "text": [
      "100%|██████████| 38/38 [00:12<00:00,  3.01it/s, Epoch=194, loss=0.399]\n",
      "100%|██████████| 7/7 [00:01<00:00,  4.40it/s, gpu_memory=6.49 GB, lr=0.00004, valid_loss=0.4766]\n"
     ]
    },
    {
     "name": "stdout",
     "output_type": "stream",
     "text": [
      "\n",
      " Saving model at 194th epoch\n",
      "\n",
      " Final Train Loss: 0.3992  |  Final Val Loss: 0.4766\n",
      "Valid Dice: 0.5214 | Valid Jaccard: 0.3903\n",
      "\u001b[34mval dice increased: 0.49875158071517944 ---> 0.521352231502533\n",
      "\u001b[34mval jaccard increased: 0.36964157223701477 ---> 0.3902854025363922\n",
      "\u001b[0m===================== Epoch: [195/300] =====================\n"
     ]
    },
    {
     "name": "stderr",
     "output_type": "stream",
     "text": [
      "100%|██████████| 38/38 [00:12<00:00,  2.99it/s, Epoch=195, loss=0.398]\n",
      "100%|██████████| 7/7 [00:01<00:00,  4.34it/s, gpu_memory=6.48 GB, lr=0.00002, valid_loss=0.4734]\n"
     ]
    },
    {
     "name": "stdout",
     "output_type": "stream",
     "text": [
      "\n",
      " Saving model at 195th epoch\n",
      "\n",
      " Final Train Loss: 0.3983  |  Final Val Loss: 0.4734\n",
      "Valid Dice: 0.5299 | Valid Jaccard: 0.3984\n",
      "\u001b[34mval dice increased: 0.521352231502533 ---> 0.5298744440078735\n",
      "\u001b[34mval jaccard increased: 0.3902854025363922 ---> 0.39839574694633484\n",
      "\u001b[0m===================== Epoch: [196/300] =====================\n"
     ]
    },
    {
     "name": "stderr",
     "output_type": "stream",
     "text": [
      "100%|██████████| 38/38 [00:12<00:00,  3.01it/s, Epoch=196, loss=0.396]\n",
      "100%|██████████| 7/7 [00:01<00:00,  4.30it/s, gpu_memory=6.49 GB, lr=0.00001, valid_loss=0.4765]\n"
     ]
    },
    {
     "name": "stdout",
     "output_type": "stream",
     "text": [
      "\n",
      " Saving model at 196th epoch\n",
      "\n",
      " Final Train Loss: 0.3958  |  Final Val Loss: 0.4765\n",
      "Valid Dice: 0.5084 | Valid Jaccard: 0.3783\n",
      "\u001b[0m===================== Epoch: [197/300] =====================\n"
     ]
    },
    {
     "name": "stderr",
     "output_type": "stream",
     "text": [
      "100%|██████████| 38/38 [00:12<00:00,  3.01it/s, Epoch=197, loss=0.39] \n",
      "100%|██████████| 7/7 [00:01<00:00,  4.28it/s, gpu_memory=6.48 GB, lr=0.00000, valid_loss=0.4736]\n"
     ]
    },
    {
     "name": "stdout",
     "output_type": "stream",
     "text": [
      "\n",
      " Saving model at 197th epoch\n",
      "\n",
      " Final Train Loss: 0.3905  |  Final Val Loss: 0.4736\n",
      "Valid Dice: 0.5086 | Valid Jaccard: 0.3789\n",
      "\u001b[0m===================== Epoch: [198/300] =====================\n"
     ]
    },
    {
     "name": "stderr",
     "output_type": "stream",
     "text": [
      "100%|██████████| 38/38 [00:12<00:00,  3.00it/s, Epoch=198, loss=0.393]\n",
      "100%|██████████| 7/7 [00:01<00:00,  4.33it/s, gpu_memory=6.49 GB, lr=0.00000, valid_loss=0.4719]\n"
     ]
    },
    {
     "name": "stdout",
     "output_type": "stream",
     "text": [
      "\n",
      " Saving model at 198th epoch\n",
      "\n",
      " Final Train Loss: 0.3931  |  Final Val Loss: 0.4719\n",
      "Valid Dice: 0.5160 | Valid Jaccard: 0.3854\n",
      "\u001b[0m===================== Epoch: [199/300] =====================\n"
     ]
    },
    {
     "name": "stderr",
     "output_type": "stream",
     "text": [
      "100%|██████████| 38/38 [00:12<00:00,  3.00it/s, Epoch=199, loss=0.388]\n",
      "100%|██████████| 7/7 [00:01<00:00,  4.29it/s, gpu_memory=6.48 GB, lr=0.00001, valid_loss=0.4720]\n"
     ]
    },
    {
     "name": "stdout",
     "output_type": "stream",
     "text": [
      "\n",
      " Saving model at 199th epoch\n",
      "\n",
      " Final Train Loss: 0.3880  |  Final Val Loss: 0.4720\n",
      "Valid Dice: 0.5195 | Valid Jaccard: 0.3885\n",
      "\u001b[0m===================== Epoch: [200/300] =====================\n"
     ]
    },
    {
     "name": "stderr",
     "output_type": "stream",
     "text": [
      "100%|██████████| 38/38 [00:12<00:00,  3.00it/s, Epoch=200, loss=0.395]\n",
      "100%|██████████| 7/7 [00:01<00:00,  4.32it/s, gpu_memory=6.49 GB, lr=0.00003, valid_loss=0.4740]\n"
     ]
    },
    {
     "name": "stdout",
     "output_type": "stream",
     "text": [
      "\n",
      " Saving model at 200th epoch\n",
      "\n",
      " Final Train Loss: 0.3953  |  Final Val Loss: 0.4740\n",
      "Valid Dice: 0.5321 | Valid Jaccard: 0.3998\n",
      "\u001b[34mval dice increased: 0.5298744440078735 ---> 0.5320818424224854\n",
      "\u001b[34mval jaccard increased: 0.39839574694633484 ---> 0.3997601568698883\n",
      "\u001b[0m===================== Epoch: [201/300] =====================\n"
     ]
    },
    {
     "name": "stderr",
     "output_type": "stream",
     "text": [
      "100%|██████████| 38/38 [00:12<00:00,  3.01it/s, Epoch=201, loss=0.389]\n",
      "100%|██████████| 7/7 [00:01<00:00,  4.35it/s, gpu_memory=6.48 GB, lr=0.00004, valid_loss=0.4764]\n"
     ]
    },
    {
     "name": "stdout",
     "output_type": "stream",
     "text": [
      "\n",
      " Saving model at 201th epoch\n",
      "\n",
      " Final Train Loss: 0.3886  |  Final Val Loss: 0.4764\n",
      "Valid Dice: 0.5294 | Valid Jaccard: 0.3984\n",
      "\u001b[0m===================== Epoch: [202/300] =====================\n"
     ]
    },
    {
     "name": "stderr",
     "output_type": "stream",
     "text": [
      "100%|██████████| 38/38 [00:12<00:00,  3.02it/s, Epoch=202, loss=0.391]\n",
      "100%|██████████| 7/7 [00:01<00:00,  4.34it/s, gpu_memory=6.49 GB, lr=0.00006, valid_loss=0.4767]\n"
     ]
    },
    {
     "name": "stdout",
     "output_type": "stream",
     "text": [
      "\n",
      " Saving model at 202th epoch\n",
      "\n",
      " Final Train Loss: 0.3907  |  Final Val Loss: 0.4767\n",
      "Valid Dice: 0.5145 | Valid Jaccard: 0.3861\n",
      "\u001b[0m===================== Epoch: [203/300] =====================\n"
     ]
    },
    {
     "name": "stderr",
     "output_type": "stream",
     "text": [
      "100%|██████████| 38/38 [00:12<00:00,  3.03it/s, Epoch=203, loss=0.393]\n",
      "100%|██████████| 7/7 [00:01<00:00,  4.34it/s, gpu_memory=6.48 GB, lr=0.00008, valid_loss=0.4775]\n"
     ]
    },
    {
     "name": "stdout",
     "output_type": "stream",
     "text": [
      "\n",
      " Saving model at 203th epoch\n",
      "\n",
      " Final Train Loss: 0.3934  |  Final Val Loss: 0.4775\n",
      "Valid Dice: 0.4792 | Valid Jaccard: 0.3538\n",
      "\u001b[0m===================== Epoch: [204/300] =====================\n"
     ]
    },
    {
     "name": "stderr",
     "output_type": "stream",
     "text": [
      "100%|██████████| 38/38 [00:12<00:00,  3.00it/s, Epoch=204, loss=0.397]\n",
      "100%|██████████| 7/7 [00:01<00:00,  4.33it/s, gpu_memory=6.49 GB, lr=0.00009, valid_loss=0.4775]\n"
     ]
    },
    {
     "name": "stdout",
     "output_type": "stream",
     "text": [
      "\n",
      " Saving model at 204th epoch\n",
      "\n",
      " Final Train Loss: 0.3967  |  Final Val Loss: 0.4775\n",
      "Valid Dice: 0.4629 | Valid Jaccard: 0.3422\n",
      "\u001b[0m===================== Epoch: [205/300] =====================\n"
     ]
    },
    {
     "name": "stderr",
     "output_type": "stream",
     "text": [
      "100%|██████████| 38/38 [00:12<00:00,  2.99it/s, Epoch=205, loss=0.401]\n",
      "100%|██████████| 7/7 [00:01<00:00,  4.29it/s, gpu_memory=6.48 GB, lr=0.00010, valid_loss=0.4849]\n"
     ]
    },
    {
     "name": "stdout",
     "output_type": "stream",
     "text": [
      "\n",
      " Saving model at 205th epoch\n",
      "\n",
      " Final Train Loss: 0.4013  |  Final Val Loss: 0.4849\n",
      "Valid Dice: 0.4350 | Valid Jaccard: 0.3206\n",
      "\u001b[0m===================== Epoch: [206/300] =====================\n"
     ]
    },
    {
     "name": "stderr",
     "output_type": "stream",
     "text": [
      "100%|██████████| 38/38 [00:12<00:00,  3.03it/s, Epoch=206, loss=0.405]\n",
      "100%|██████████| 7/7 [00:01<00:00,  4.27it/s, gpu_memory=6.49 GB, lr=0.00010, valid_loss=0.4899]\n"
     ]
    },
    {
     "name": "stdout",
     "output_type": "stream",
     "text": [
      "\n",
      " Saving model at 206th epoch\n",
      "\n",
      " Final Train Loss: 0.4049  |  Final Val Loss: 0.4899\n",
      "Valid Dice: 0.4846 | Valid Jaccard: 0.3593\n",
      "\u001b[0m===================== Epoch: [207/300] =====================\n"
     ]
    },
    {
     "name": "stderr",
     "output_type": "stream",
     "text": [
      "100%|██████████| 38/38 [00:12<00:00,  3.00it/s, Epoch=207, loss=0.408]\n",
      "100%|██████████| 7/7 [00:01<00:00,  4.32it/s, gpu_memory=6.48 GB, lr=0.00009, valid_loss=0.5041]\n"
     ]
    },
    {
     "name": "stdout",
     "output_type": "stream",
     "text": [
      "\n",
      " Saving model at 207th epoch\n",
      "\n",
      " Final Train Loss: 0.4085  |  Final Val Loss: 0.5041\n",
      "Valid Dice: 0.4134 | Valid Jaccard: 0.2985\n",
      "\u001b[0m===================== Epoch: [208/300] =====================\n"
     ]
    },
    {
     "name": "stderr",
     "output_type": "stream",
     "text": [
      "100%|██████████| 38/38 [00:12<00:00,  2.99it/s, Epoch=208, loss=0.415]\n",
      "100%|██████████| 7/7 [00:01<00:00,  4.34it/s, gpu_memory=6.49 GB, lr=0.00007, valid_loss=0.4798]\n"
     ]
    },
    {
     "name": "stdout",
     "output_type": "stream",
     "text": [
      "\n",
      " Saving model at 208th epoch\n",
      "\n",
      " Final Train Loss: 0.4154  |  Final Val Loss: 0.4798\n",
      "Valid Dice: 0.4772 | Valid Jaccard: 0.3529\n",
      "\u001b[0m===================== Epoch: [209/300] =====================\n"
     ]
    },
    {
     "name": "stderr",
     "output_type": "stream",
     "text": [
      "100%|██████████| 38/38 [00:12<00:00,  2.99it/s, Epoch=209, loss=0.394]\n",
      "100%|██████████| 7/7 [00:01<00:00,  4.33it/s, gpu_memory=6.48 GB, lr=0.00005, valid_loss=0.4736]\n"
     ]
    },
    {
     "name": "stdout",
     "output_type": "stream",
     "text": [
      "\n",
      " Saving model at 209th epoch\n",
      "\n",
      " Final Train Loss: 0.3942  |  Final Val Loss: 0.4736\n",
      "Valid Dice: 0.5050 | Valid Jaccard: 0.3777\n",
      "\u001b[0m===================== Epoch: [210/300] =====================\n"
     ]
    },
    {
     "name": "stderr",
     "output_type": "stream",
     "text": [
      "100%|██████████| 38/38 [00:12<00:00,  3.01it/s, Epoch=210, loss=0.389]\n",
      "100%|██████████| 7/7 [00:01<00:00,  4.19it/s, gpu_memory=6.49 GB, lr=0.00004, valid_loss=0.4715]\n"
     ]
    },
    {
     "name": "stdout",
     "output_type": "stream",
     "text": [
      "\n",
      " Saving model at 210th epoch\n",
      "\n",
      " Final Train Loss: 0.3890  |  Final Val Loss: 0.4715\n",
      "Valid Dice: 0.5321 | Valid Jaccard: 0.3986\n",
      "\u001b[34mval dice increased: 0.5320818424224854 ---> 0.5321094989776611\n",
      "\u001b[0m===================== Epoch: [211/300] =====================\n"
     ]
    },
    {
     "name": "stderr",
     "output_type": "stream",
     "text": [
      "100%|██████████| 38/38 [00:12<00:00,  3.02it/s, Epoch=211, loss=0.384]\n",
      "100%|██████████| 7/7 [00:01<00:00,  4.25it/s, gpu_memory=6.48 GB, lr=0.00002, valid_loss=0.4731]\n"
     ]
    },
    {
     "name": "stdout",
     "output_type": "stream",
     "text": [
      "\n",
      " Saving model at 211th epoch\n",
      "\n",
      " Final Train Loss: 0.3842  |  Final Val Loss: 0.4731\n",
      "Valid Dice: 0.5271 | Valid Jaccard: 0.3970\n",
      "\u001b[0m===================== Epoch: [212/300] =====================\n"
     ]
    },
    {
     "name": "stderr",
     "output_type": "stream",
     "text": [
      "100%|██████████| 38/38 [00:12<00:00,  2.99it/s, Epoch=212, loss=0.385]\n",
      "100%|██████████| 7/7 [00:01<00:00,  4.32it/s, gpu_memory=6.49 GB, lr=0.00001, valid_loss=0.4879]\n"
     ]
    },
    {
     "name": "stdout",
     "output_type": "stream",
     "text": [
      "\n",
      " Saving model at 212th epoch\n",
      "\n",
      " Final Train Loss: 0.3846  |  Final Val Loss: 0.4879\n",
      "Valid Dice: 0.4814 | Valid Jaccard: 0.3555\n",
      "\u001b[0m===================== Epoch: [213/300] =====================\n"
     ]
    },
    {
     "name": "stderr",
     "output_type": "stream",
     "text": [
      "100%|██████████| 38/38 [00:12<00:00,  3.00it/s, Epoch=213, loss=0.385]\n",
      "100%|██████████| 7/7 [00:01<00:00,  4.36it/s, gpu_memory=6.48 GB, lr=0.00000, valid_loss=0.4720]\n"
     ]
    },
    {
     "name": "stdout",
     "output_type": "stream",
     "text": [
      "\n",
      " Saving model at 213th epoch\n",
      "\n",
      " Final Train Loss: 0.3848  |  Final Val Loss: 0.4720\n",
      "Valid Dice: 0.5229 | Valid Jaccard: 0.3916\n",
      "\u001b[0m===================== Epoch: [214/300] =====================\n"
     ]
    },
    {
     "name": "stderr",
     "output_type": "stream",
     "text": [
      "100%|██████████| 38/38 [00:12<00:00,  3.01it/s, Epoch=214, loss=0.384]\n",
      "100%|██████████| 7/7 [00:01<00:00,  4.27it/s, gpu_memory=6.49 GB, lr=0.00000, valid_loss=0.4714]\n"
     ]
    },
    {
     "name": "stdout",
     "output_type": "stream",
     "text": [
      "\n",
      " Saving model at 214th epoch\n",
      "\n",
      " Final Train Loss: 0.3837  |  Final Val Loss: 0.4714\n",
      "Valid Dice: 0.5239 | Valid Jaccard: 0.3928\n",
      "\u001b[0m===================== Epoch: [215/300] =====================\n"
     ]
    },
    {
     "name": "stderr",
     "output_type": "stream",
     "text": [
      "100%|██████████| 38/38 [00:12<00:00,  3.00it/s, Epoch=215, loss=0.385]\n",
      "100%|██████████| 7/7 [00:01<00:00,  4.36it/s, gpu_memory=6.48 GB, lr=0.00001, valid_loss=0.4746]\n"
     ]
    },
    {
     "name": "stdout",
     "output_type": "stream",
     "text": [
      "\n",
      " Saving model at 215th epoch\n",
      "\n",
      " Final Train Loss: 0.3849  |  Final Val Loss: 0.4746\n",
      "Valid Dice: 0.5179 | Valid Jaccard: 0.3884\n",
      "\u001b[0m===================== Epoch: [216/300] =====================\n"
     ]
    },
    {
     "name": "stderr",
     "output_type": "stream",
     "text": [
      "100%|██████████| 38/38 [00:12<00:00,  3.02it/s, Epoch=216, loss=0.38] \n",
      "100%|██████████| 7/7 [00:01<00:00,  4.30it/s, gpu_memory=6.49 GB, lr=0.00003, valid_loss=0.4714]\n"
     ]
    },
    {
     "name": "stdout",
     "output_type": "stream",
     "text": [
      "\n",
      " Saving model at 216th epoch\n",
      "\n",
      " Final Train Loss: 0.3804  |  Final Val Loss: 0.4714\n",
      "Valid Dice: 0.5332 | Valid Jaccard: 0.4017\n",
      "\u001b[34mval dice increased: 0.5321094989776611 ---> 0.5331650972366333\n",
      "\u001b[34mval jaccard increased: 0.3997601568698883 ---> 0.4017029404640198\n",
      "\u001b[0m===================== Epoch: [217/300] =====================\n"
     ]
    },
    {
     "name": "stderr",
     "output_type": "stream",
     "text": [
      "100%|██████████| 38/38 [00:12<00:00,  3.01it/s, Epoch=217, loss=0.381]\n",
      "100%|██████████| 7/7 [00:01<00:00,  4.30it/s, gpu_memory=6.48 GB, lr=0.00005, valid_loss=0.4716]\n"
     ]
    },
    {
     "name": "stdout",
     "output_type": "stream",
     "text": [
      "\n",
      " Saving model at 217th epoch\n",
      "\n",
      " Final Train Loss: 0.3806  |  Final Val Loss: 0.4716\n",
      "Valid Dice: 0.5423 | Valid Jaccard: 0.4094\n",
      "\u001b[34mval dice increased: 0.5331650972366333 ---> 0.5423198342323303\n",
      "\u001b[34mval jaccard increased: 0.4017029404640198 ---> 0.40944337844848633\n",
      "\u001b[0m===================== Epoch: [218/300] =====================\n"
     ]
    },
    {
     "name": "stderr",
     "output_type": "stream",
     "text": [
      "100%|██████████| 38/38 [00:12<00:00,  3.02it/s, Epoch=218, loss=0.378]\n",
      "100%|██████████| 7/7 [00:01<00:00,  4.27it/s, gpu_memory=6.49 GB, lr=0.00007, valid_loss=0.4721]\n"
     ]
    },
    {
     "name": "stdout",
     "output_type": "stream",
     "text": [
      "\n",
      " Saving model at 218th epoch\n",
      "\n",
      " Final Train Loss: 0.3779  |  Final Val Loss: 0.4721\n",
      "Valid Dice: 0.4854 | Valid Jaccard: 0.3609\n",
      "\u001b[0m===================== Epoch: [219/300] =====================\n"
     ]
    },
    {
     "name": "stderr",
     "output_type": "stream",
     "text": [
      "100%|██████████| 38/38 [00:12<00:00,  3.00it/s, Epoch=219, loss=0.385]\n",
      "100%|██████████| 7/7 [00:01<00:00,  4.34it/s, gpu_memory=6.48 GB, lr=0.00008, valid_loss=0.4820]\n"
     ]
    },
    {
     "name": "stdout",
     "output_type": "stream",
     "text": [
      "\n",
      " Saving model at 219th epoch\n",
      "\n",
      " Final Train Loss: 0.3846  |  Final Val Loss: 0.4820\n",
      "Valid Dice: 0.4466 | Valid Jaccard: 0.3315\n",
      "\u001b[0m===================== Epoch: [220/300] =====================\n"
     ]
    },
    {
     "name": "stderr",
     "output_type": "stream",
     "text": [
      "100%|██████████| 38/38 [00:12<00:00,  2.99it/s, Epoch=220, loss=0.389]\n",
      "100%|██████████| 7/7 [00:01<00:00,  4.29it/s, gpu_memory=6.49 GB, lr=0.00010, valid_loss=0.4834]\n"
     ]
    },
    {
     "name": "stdout",
     "output_type": "stream",
     "text": [
      "\n",
      " Saving model at 220th epoch\n",
      "\n",
      " Final Train Loss: 0.3891  |  Final Val Loss: 0.4834\n",
      "Valid Dice: 0.4747 | Valid Jaccard: 0.3489\n",
      "\u001b[0m===================== Epoch: [221/300] =====================\n"
     ]
    },
    {
     "name": "stderr",
     "output_type": "stream",
     "text": [
      "100%|██████████| 38/38 [00:12<00:00,  2.99it/s, Epoch=221, loss=0.389]\n",
      "100%|██████████| 7/7 [00:01<00:00,  4.38it/s, gpu_memory=6.48 GB, lr=0.00010, valid_loss=0.4746]\n"
     ]
    },
    {
     "name": "stdout",
     "output_type": "stream",
     "text": [
      "\n",
      " Saving model at 221th epoch\n",
      "\n",
      " Final Train Loss: 0.3892  |  Final Val Loss: 0.4746\n",
      "Valid Dice: 0.5522 | Valid Jaccard: 0.4162\n",
      "\u001b[34mval dice increased: 0.5423198342323303 ---> 0.552200436592102\n",
      "\u001b[34mval jaccard increased: 0.40944337844848633 ---> 0.41621389985084534\n",
      "\u001b[0m===================== Epoch: [222/300] =====================\n"
     ]
    },
    {
     "name": "stderr",
     "output_type": "stream",
     "text": [
      "100%|██████████| 38/38 [00:15<00:00,  2.40it/s, Epoch=222, loss=0.392]\n",
      "100%|██████████| 7/7 [00:01<00:00,  4.26it/s, gpu_memory=6.49 GB, lr=0.00010, valid_loss=0.4983]\n"
     ]
    },
    {
     "name": "stdout",
     "output_type": "stream",
     "text": [
      "\n",
      " Saving model at 222th epoch\n",
      "\n",
      " Final Train Loss: 0.3918  |  Final Val Loss: 0.4983\n",
      "Valid Dice: 0.4516 | Valid Jaccard: 0.3363\n",
      "\u001b[0m===================== Epoch: [223/300] =====================\n"
     ]
    },
    {
     "name": "stderr",
     "output_type": "stream",
     "text": [
      "100%|██████████| 38/38 [00:12<00:00,  3.03it/s, Epoch=223, loss=0.395]\n",
      "100%|██████████| 7/7 [00:01<00:00,  4.36it/s, gpu_memory=6.48 GB, lr=0.00009, valid_loss=0.4799]\n"
     ]
    },
    {
     "name": "stdout",
     "output_type": "stream",
     "text": [
      "\n",
      " Saving model at 223th epoch\n",
      "\n",
      " Final Train Loss: 0.3954  |  Final Val Loss: 0.4799\n",
      "Valid Dice: 0.4965 | Valid Jaccard: 0.3650\n",
      "\u001b[0m===================== Epoch: [224/300] =====================\n"
     ]
    },
    {
     "name": "stderr",
     "output_type": "stream",
     "text": [
      "100%|██████████| 38/38 [00:12<00:00,  2.99it/s, Epoch=224, loss=0.399]\n",
      "100%|██████████| 7/7 [00:01<00:00,  4.30it/s, gpu_memory=6.49 GB, lr=0.00007, valid_loss=0.5030]\n"
     ]
    },
    {
     "name": "stdout",
     "output_type": "stream",
     "text": [
      "\n",
      " Saving model at 224th epoch\n",
      "\n",
      " Final Train Loss: 0.3994  |  Final Val Loss: 0.5030\n",
      "Valid Dice: 0.4217 | Valid Jaccard: 0.3065\n",
      "\u001b[0m===================== Epoch: [225/300] =====================\n"
     ]
    },
    {
     "name": "stderr",
     "output_type": "stream",
     "text": [
      "100%|██████████| 38/38 [00:12<00:00,  3.01it/s, Epoch=225, loss=0.397]\n",
      "100%|██████████| 7/7 [00:01<00:00,  4.30it/s, gpu_memory=6.48 GB, lr=0.00005, valid_loss=0.4810]\n"
     ]
    },
    {
     "name": "stdout",
     "output_type": "stream",
     "text": [
      "\n",
      " Saving model at 225th epoch\n",
      "\n",
      " Final Train Loss: 0.3968  |  Final Val Loss: 0.4810\n",
      "Valid Dice: 0.5305 | Valid Jaccard: 0.3975\n",
      "\u001b[0m===================== Epoch: [226/300] =====================\n"
     ]
    },
    {
     "name": "stderr",
     "output_type": "stream",
     "text": [
      "100%|██████████| 38/38 [00:12<00:00,  3.00it/s, Epoch=226, loss=0.388]\n",
      "100%|██████████| 7/7 [00:01<00:00,  4.29it/s, gpu_memory=6.49 GB, lr=0.00003, valid_loss=0.4782]\n"
     ]
    },
    {
     "name": "stdout",
     "output_type": "stream",
     "text": [
      "\n",
      " Saving model at 226th epoch\n",
      "\n",
      " Final Train Loss: 0.3877  |  Final Val Loss: 0.4782\n",
      "Valid Dice: 0.5271 | Valid Jaccard: 0.3977\n",
      "\u001b[0m===================== Epoch: [227/300] =====================\n"
     ]
    },
    {
     "name": "stderr",
     "output_type": "stream",
     "text": [
      "100%|██████████| 38/38 [00:12<00:00,  2.97it/s, Epoch=227, loss=0.376]\n",
      "100%|██████████| 7/7 [00:01<00:00,  4.32it/s, gpu_memory=6.48 GB, lr=0.00002, valid_loss=0.4785]\n"
     ]
    },
    {
     "name": "stdout",
     "output_type": "stream",
     "text": [
      "\n",
      " Saving model at 227th epoch\n",
      "\n",
      " Final Train Loss: 0.3762  |  Final Val Loss: 0.4785\n",
      "Valid Dice: 0.5062 | Valid Jaccard: 0.3821\n",
      "\u001b[0m===================== Epoch: [228/300] =====================\n"
     ]
    },
    {
     "name": "stderr",
     "output_type": "stream",
     "text": [
      "100%|██████████| 38/38 [00:12<00:00,  3.00it/s, Epoch=228, loss=0.378]\n",
      "100%|██████████| 7/7 [00:01<00:00,  4.29it/s, gpu_memory=6.49 GB, lr=0.00000, valid_loss=0.4765]\n"
     ]
    },
    {
     "name": "stdout",
     "output_type": "stream",
     "text": [
      "\n",
      " Saving model at 228th epoch\n",
      "\n",
      " Final Train Loss: 0.3782  |  Final Val Loss: 0.4765\n",
      "Valid Dice: 0.5005 | Valid Jaccard: 0.3761\n",
      "\u001b[0m===================== Epoch: [229/300] =====================\n"
     ]
    },
    {
     "name": "stderr",
     "output_type": "stream",
     "text": [
      "100%|██████████| 38/38 [00:12<00:00,  3.02it/s, Epoch=229, loss=0.376]\n",
      "100%|██████████| 7/7 [00:01<00:00,  4.24it/s, gpu_memory=6.48 GB, lr=0.00000, valid_loss=0.4745]\n"
     ]
    },
    {
     "name": "stdout",
     "output_type": "stream",
     "text": [
      "\n",
      " Saving model at 229th epoch\n",
      "\n",
      " Final Train Loss: 0.3757  |  Final Val Loss: 0.4745\n",
      "Valid Dice: 0.5168 | Valid Jaccard: 0.3896\n",
      "\u001b[0m===================== Epoch: [230/300] =====================\n"
     ]
    },
    {
     "name": "stderr",
     "output_type": "stream",
     "text": [
      "100%|██████████| 38/38 [00:12<00:00,  2.99it/s, Epoch=230, loss=0.376]\n",
      "100%|██████████| 7/7 [00:01<00:00,  4.32it/s, gpu_memory=6.49 GB, lr=0.00001, valid_loss=0.4749]\n"
     ]
    },
    {
     "name": "stdout",
     "output_type": "stream",
     "text": [
      "\n",
      " Saving model at 230th epoch\n",
      "\n",
      " Final Train Loss: 0.3761  |  Final Val Loss: 0.4749\n",
      "Valid Dice: 0.5137 | Valid Jaccard: 0.3868\n",
      "\u001b[0m===================== Epoch: [231/300] =====================\n"
     ]
    },
    {
     "name": "stderr",
     "output_type": "stream",
     "text": [
      "100%|██████████| 38/38 [00:12<00:00,  2.96it/s, Epoch=231, loss=0.372]\n",
      "100%|██████████| 7/7 [00:01<00:00,  3.86it/s, gpu_memory=6.48 GB, lr=0.00002, valid_loss=0.4778]\n"
     ]
    },
    {
     "name": "stdout",
     "output_type": "stream",
     "text": [
      "\n",
      " Saving model at 231th epoch\n",
      "\n",
      " Final Train Loss: 0.3722  |  Final Val Loss: 0.4778\n",
      "Valid Dice: 0.5041 | Valid Jaccard: 0.3793\n",
      "\u001b[0m===================== Epoch: [232/300] =====================\n"
     ]
    },
    {
     "name": "stderr",
     "output_type": "stream",
     "text": [
      "100%|██████████| 38/38 [00:12<00:00,  3.02it/s, Epoch=232, loss=0.38] \n",
      "100%|██████████| 7/7 [00:01<00:00,  4.40it/s, gpu_memory=6.49 GB, lr=0.00003, valid_loss=0.4846]\n"
     ]
    },
    {
     "name": "stdout",
     "output_type": "stream",
     "text": [
      "\n",
      " Saving model at 232th epoch\n",
      "\n",
      " Final Train Loss: 0.3803  |  Final Val Loss: 0.4846\n",
      "Valid Dice: 0.5117 | Valid Jaccard: 0.3825\n",
      "\u001b[0m===================== Epoch: [233/300] =====================\n"
     ]
    },
    {
     "name": "stderr",
     "output_type": "stream",
     "text": [
      "100%|██████████| 38/38 [00:12<00:00,  3.02it/s, Epoch=233, loss=0.378]\n",
      "100%|██████████| 7/7 [00:01<00:00,  4.29it/s, gpu_memory=6.48 GB, lr=0.00005, valid_loss=0.4750]\n"
     ]
    },
    {
     "name": "stdout",
     "output_type": "stream",
     "text": [
      "\n",
      " Saving model at 233th epoch\n",
      "\n",
      " Final Train Loss: 0.3782  |  Final Val Loss: 0.4750\n",
      "Valid Dice: 0.4983 | Valid Jaccard: 0.3732\n",
      "\u001b[0m===================== Epoch: [234/300] =====================\n"
     ]
    },
    {
     "name": "stderr",
     "output_type": "stream",
     "text": [
      "100%|██████████| 38/38 [00:12<00:00,  3.02it/s, Epoch=234, loss=0.379]\n",
      "100%|██████████| 7/7 [00:01<00:00,  4.30it/s, gpu_memory=6.49 GB, lr=0.00007, valid_loss=0.4744]\n"
     ]
    },
    {
     "name": "stdout",
     "output_type": "stream",
     "text": [
      "\n",
      " Saving model at 234th epoch\n",
      "\n",
      " Final Train Loss: 0.3788  |  Final Val Loss: 0.4744\n",
      "Valid Dice: 0.5242 | Valid Jaccard: 0.3946\n",
      "\u001b[0m===================== Epoch: [235/300] =====================\n"
     ]
    },
    {
     "name": "stderr",
     "output_type": "stream",
     "text": [
      "100%|██████████| 38/38 [00:12<00:00,  3.02it/s, Epoch=235, loss=0.379]\n",
      "100%|██████████| 7/7 [00:01<00:00,  4.27it/s, gpu_memory=6.48 GB, lr=0.00009, valid_loss=0.4792]\n"
     ]
    },
    {
     "name": "stdout",
     "output_type": "stream",
     "text": [
      "\n",
      " Saving model at 235th epoch\n",
      "\n",
      " Final Train Loss: 0.3794  |  Final Val Loss: 0.4792\n",
      "Valid Dice: 0.5083 | Valid Jaccard: 0.3819\n",
      "\u001b[0m===================== Epoch: [236/300] =====================\n"
     ]
    },
    {
     "name": "stderr",
     "output_type": "stream",
     "text": [
      "100%|██████████| 38/38 [00:12<00:00,  3.02it/s, Epoch=236, loss=0.379]\n",
      "100%|██████████| 7/7 [00:01<00:00,  4.31it/s, gpu_memory=6.49 GB, lr=0.00010, valid_loss=0.4783]\n"
     ]
    },
    {
     "name": "stdout",
     "output_type": "stream",
     "text": [
      "\n",
      " Saving model at 236th epoch\n",
      "\n",
      " Final Train Loss: 0.3793  |  Final Val Loss: 0.4783\n",
      "Valid Dice: 0.4931 | Valid Jaccard: 0.3678\n",
      "\u001b[0m===================== Epoch: [237/300] =====================\n"
     ]
    },
    {
     "name": "stderr",
     "output_type": "stream",
     "text": [
      "100%|██████████| 38/38 [00:12<00:00,  2.98it/s, Epoch=237, loss=0.384]\n",
      "100%|██████████| 7/7 [00:01<00:00,  4.25it/s, gpu_memory=6.48 GB, lr=0.00010, valid_loss=0.4850]\n"
     ]
    },
    {
     "name": "stdout",
     "output_type": "stream",
     "text": [
      "\n",
      " Saving model at 237th epoch\n",
      "\n",
      " Final Train Loss: 0.3838  |  Final Val Loss: 0.4850\n",
      "Valid Dice: 0.4596 | Valid Jaccard: 0.3399\n",
      "\u001b[0m===================== Epoch: [238/300] =====================\n"
     ]
    },
    {
     "name": "stderr",
     "output_type": "stream",
     "text": [
      "100%|██████████| 38/38 [00:12<00:00,  3.02it/s, Epoch=238, loss=0.391]\n",
      "100%|██████████| 7/7 [00:01<00:00,  4.26it/s, gpu_memory=6.49 GB, lr=0.00009, valid_loss=0.4880]\n"
     ]
    },
    {
     "name": "stdout",
     "output_type": "stream",
     "text": [
      "\n",
      " Saving model at 238th epoch\n",
      "\n",
      " Final Train Loss: 0.3908  |  Final Val Loss: 0.4880\n",
      "Valid Dice: 0.5056 | Valid Jaccard: 0.3820\n",
      "\u001b[0m===================== Epoch: [239/300] =====================\n"
     ]
    },
    {
     "name": "stderr",
     "output_type": "stream",
     "text": [
      "100%|██████████| 38/38 [00:12<00:00,  2.99it/s, Epoch=239, loss=0.388]\n",
      "100%|██████████| 7/7 [00:01<00:00,  4.35it/s, gpu_memory=6.48 GB, lr=0.00008, valid_loss=0.4815]\n"
     ]
    },
    {
     "name": "stdout",
     "output_type": "stream",
     "text": [
      "\n",
      " Saving model at 239th epoch\n",
      "\n",
      " Final Train Loss: 0.3885  |  Final Val Loss: 0.4815\n",
      "Valid Dice: 0.5113 | Valid Jaccard: 0.3798\n",
      "\u001b[0m===================== Epoch: [240/300] =====================\n"
     ]
    },
    {
     "name": "stderr",
     "output_type": "stream",
     "text": [
      "100%|██████████| 38/38 [00:12<00:00,  3.01it/s, Epoch=240, loss=0.381]\n",
      "100%|██████████| 7/7 [00:01<00:00,  4.27it/s, gpu_memory=6.49 GB, lr=0.00007, valid_loss=0.4993]\n"
     ]
    },
    {
     "name": "stdout",
     "output_type": "stream",
     "text": [
      "\n",
      " Saving model at 240th epoch\n",
      "\n",
      " Final Train Loss: 0.3806  |  Final Val Loss: 0.4993\n",
      "Valid Dice: 0.4551 | Valid Jaccard: 0.3378\n",
      "\u001b[0m===================== Epoch: [241/300] =====================\n"
     ]
    },
    {
     "name": "stderr",
     "output_type": "stream",
     "text": [
      "100%|██████████| 38/38 [00:12<00:00,  3.01it/s, Epoch=241, loss=0.386]\n",
      "100%|██████████| 7/7 [00:01<00:00,  4.29it/s, gpu_memory=6.48 GB, lr=0.00005, valid_loss=0.4701]\n"
     ]
    },
    {
     "name": "stdout",
     "output_type": "stream",
     "text": [
      "\n",
      " Saving model at 241th epoch\n",
      "\n",
      " Final Train Loss: 0.3857  |  Final Val Loss: 0.4701\n",
      "Valid Dice: 0.5363 | Valid Jaccard: 0.4042\n",
      "\u001b[0m===================== Epoch: [242/300] =====================\n"
     ]
    },
    {
     "name": "stderr",
     "output_type": "stream",
     "text": [
      "100%|██████████| 38/38 [00:12<00:00,  3.01it/s, Epoch=242, loss=0.379]\n",
      "100%|██████████| 7/7 [00:01<00:00,  4.25it/s, gpu_memory=6.49 GB, lr=0.00003, valid_loss=0.4670]\n"
     ]
    },
    {
     "name": "stdout",
     "output_type": "stream",
     "text": [
      "\n",
      " Saving model at 242th epoch\n",
      "\n",
      " Final Train Loss: 0.3787  |  Final Val Loss: 0.4670\n",
      "Valid Dice: 0.5557 | Valid Jaccard: 0.4224\n",
      "\u001b[34mval dice increased: 0.552200436592102 ---> 0.5557023286819458\n",
      "\u001b[34mval jaccard increased: 0.41621389985084534 ---> 0.4224244952201843\n",
      "\u001b[0m===================== Epoch: [243/300] =====================\n"
     ]
    },
    {
     "name": "stderr",
     "output_type": "stream",
     "text": [
      "100%|██████████| 38/38 [00:12<00:00,  3.01it/s, Epoch=243, loss=0.375]\n",
      "100%|██████████| 7/7 [00:01<00:00,  4.25it/s, gpu_memory=6.48 GB, lr=0.00001, valid_loss=0.4786]\n"
     ]
    },
    {
     "name": "stdout",
     "output_type": "stream",
     "text": [
      "\n",
      " Saving model at 243th epoch\n",
      "\n",
      " Final Train Loss: 0.3747  |  Final Val Loss: 0.4786\n",
      "Valid Dice: 0.4920 | Valid Jaccard: 0.3685\n",
      "\u001b[0m===================== Epoch: [244/300] =====================\n"
     ]
    },
    {
     "name": "stderr",
     "output_type": "stream",
     "text": [
      "100%|██████████| 38/38 [00:12<00:00,  3.02it/s, Epoch=244, loss=0.369]\n",
      "100%|██████████| 7/7 [00:01<00:00,  4.31it/s, gpu_memory=6.49 GB, lr=0.00000, valid_loss=0.4685]\n"
     ]
    },
    {
     "name": "stdout",
     "output_type": "stream",
     "text": [
      "\n",
      " Saving model at 244th epoch\n",
      "\n",
      " Final Train Loss: 0.3694  |  Final Val Loss: 0.4685\n",
      "Valid Dice: 0.5283 | Valid Jaccard: 0.3998\n",
      "\u001b[0m===================== Epoch: [245/300] =====================\n"
     ]
    },
    {
     "name": "stderr",
     "output_type": "stream",
     "text": [
      "100%|██████████| 38/38 [00:12<00:00,  3.00it/s, Epoch=245, loss=0.369] \n",
      "100%|██████████| 7/7 [00:01<00:00,  4.32it/s, gpu_memory=6.48 GB, lr=0.00000, valid_loss=0.4684]\n"
     ]
    },
    {
     "name": "stdout",
     "output_type": "stream",
     "text": [
      "\n",
      " Saving model at 245th epoch\n",
      "\n",
      " Final Train Loss: 0.3686  |  Final Val Loss: 0.4684\n",
      "Valid Dice: 0.5295 | Valid Jaccard: 0.4005\n",
      "\u001b[0m===================== Epoch: [246/300] =====================\n"
     ]
    },
    {
     "name": "stderr",
     "output_type": "stream",
     "text": [
      "100%|██████████| 38/38 [00:12<00:00,  3.01it/s, Epoch=246, loss=0.367] \n",
      "100%|██████████| 7/7 [00:01<00:00,  4.36it/s, gpu_memory=6.49 GB, lr=0.00001, valid_loss=0.4680]\n"
     ]
    },
    {
     "name": "stdout",
     "output_type": "stream",
     "text": [
      "\n",
      " Saving model at 246th epoch\n",
      "\n",
      " Final Train Loss: 0.3670  |  Final Val Loss: 0.4680\n",
      "Valid Dice: 0.5291 | Valid Jaccard: 0.4004\n",
      "\u001b[0m===================== Epoch: [247/300] =====================\n"
     ]
    },
    {
     "name": "stderr",
     "output_type": "stream",
     "text": [
      "100%|██████████| 38/38 [00:12<00:00,  3.02it/s, Epoch=247, loss=0.373] \n",
      "100%|██████████| 7/7 [00:01<00:00,  3.79it/s, gpu_memory=6.48 GB, lr=0.00002, valid_loss=0.4774]\n"
     ]
    },
    {
     "name": "stdout",
     "output_type": "stream",
     "text": [
      "\n",
      " Saving model at 247th epoch\n",
      "\n",
      " Final Train Loss: 0.3729  |  Final Val Loss: 0.4774\n",
      "Valid Dice: 0.5231 | Valid Jaccard: 0.3942\n",
      "\u001b[0m===================== Epoch: [248/300] =====================\n"
     ]
    },
    {
     "name": "stderr",
     "output_type": "stream",
     "text": [
      "100%|██████████| 38/38 [00:12<00:00,  3.02it/s, Epoch=248, loss=0.371] \n",
      "100%|██████████| 7/7 [00:01<00:00,  4.38it/s, gpu_memory=6.49 GB, lr=0.00004, valid_loss=0.4810]\n"
     ]
    },
    {
     "name": "stdout",
     "output_type": "stream",
     "text": [
      "\n",
      " Saving model at 248th epoch\n",
      "\n",
      " Final Train Loss: 0.3712  |  Final Val Loss: 0.4810\n",
      "Valid Dice: 0.5246 | Valid Jaccard: 0.3942\n",
      "\u001b[0m===================== Epoch: [249/300] =====================\n"
     ]
    },
    {
     "name": "stderr",
     "output_type": "stream",
     "text": [
      "100%|██████████| 38/38 [00:12<00:00,  2.99it/s, Epoch=249, loss=0.369] \n",
      "100%|██████████| 7/7 [00:01<00:00,  4.31it/s, gpu_memory=6.48 GB, lr=0.00006, valid_loss=0.4902]\n"
     ]
    },
    {
     "name": "stdout",
     "output_type": "stream",
     "text": [
      "\n",
      " Saving model at 249th epoch\n",
      "\n",
      " Final Train Loss: 0.3686  |  Final Val Loss: 0.4902\n",
      "Valid Dice: 0.4910 | Valid Jaccard: 0.3668\n",
      "\u001b[0m===================== Epoch: [250/300] =====================\n"
     ]
    },
    {
     "name": "stderr",
     "output_type": "stream",
     "text": [
      "100%|██████████| 38/38 [00:12<00:00,  3.03it/s, Epoch=250, loss=0.371]\n",
      "100%|██████████| 7/7 [00:01<00:00,  4.22it/s, gpu_memory=6.49 GB, lr=0.00008, valid_loss=0.4761]\n"
     ]
    },
    {
     "name": "stdout",
     "output_type": "stream",
     "text": [
      "\n",
      " Saving model at 250th epoch\n",
      "\n",
      " Final Train Loss: 0.3713  |  Final Val Loss: 0.4761\n",
      "Valid Dice: 0.5179 | Valid Jaccard: 0.3859\n",
      "\u001b[0m===================== Epoch: [251/300] =====================\n"
     ]
    },
    {
     "name": "stderr",
     "output_type": "stream",
     "text": [
      "100%|██████████| 38/38 [00:12<00:00,  2.94it/s, Epoch=251, loss=0.373]\n",
      "100%|██████████| 7/7 [00:01<00:00,  4.32it/s, gpu_memory=6.48 GB, lr=0.00009, valid_loss=0.4824]\n"
     ]
    },
    {
     "name": "stdout",
     "output_type": "stream",
     "text": [
      "\n",
      " Saving model at 251th epoch\n",
      "\n",
      " Final Train Loss: 0.3734  |  Final Val Loss: 0.4824\n",
      "Valid Dice: 0.5157 | Valid Jaccard: 0.3868\n",
      "\u001b[0m===================== Epoch: [252/300] =====================\n"
     ]
    },
    {
     "name": "stderr",
     "output_type": "stream",
     "text": [
      "100%|██████████| 38/38 [00:12<00:00,  3.03it/s, Epoch=252, loss=0.375]\n",
      "100%|██████████| 7/7 [00:01<00:00,  4.28it/s, gpu_memory=6.49 GB, lr=0.00010, valid_loss=0.4724]\n"
     ]
    },
    {
     "name": "stdout",
     "output_type": "stream",
     "text": [
      "\n",
      " Saving model at 252th epoch\n",
      "\n",
      " Final Train Loss: 0.3752  |  Final Val Loss: 0.4724\n",
      "Valid Dice: 0.5032 | Valid Jaccard: 0.3784\n",
      "\u001b[0m===================== Epoch: [253/300] =====================\n"
     ]
    },
    {
     "name": "stderr",
     "output_type": "stream",
     "text": [
      "100%|██████████| 38/38 [00:12<00:00,  3.00it/s, Epoch=253, loss=0.38] \n",
      "100%|██████████| 7/7 [00:01<00:00,  4.37it/s, gpu_memory=6.48 GB, lr=0.00010, valid_loss=0.4771]\n"
     ]
    },
    {
     "name": "stdout",
     "output_type": "stream",
     "text": [
      "\n",
      " Saving model at 253th epoch\n",
      "\n",
      " Final Train Loss: 0.3804  |  Final Val Loss: 0.4771\n",
      "Valid Dice: 0.5149 | Valid Jaccard: 0.3811\n",
      "\u001b[0m===================== Epoch: [254/300] =====================\n"
     ]
    },
    {
     "name": "stderr",
     "output_type": "stream",
     "text": [
      "100%|██████████| 38/38 [00:12<00:00,  3.00it/s, Epoch=254, loss=0.373] \n",
      "100%|██████████| 7/7 [00:01<00:00,  4.30it/s, gpu_memory=6.49 GB, lr=0.00009, valid_loss=0.4717]\n"
     ]
    },
    {
     "name": "stdout",
     "output_type": "stream",
     "text": [
      "\n",
      " Saving model at 254th epoch\n",
      "\n",
      " Final Train Loss: 0.3734  |  Final Val Loss: 0.4717\n",
      "Valid Dice: 0.5044 | Valid Jaccard: 0.3754\n",
      "\u001b[0m===================== Epoch: [255/300] =====================\n"
     ]
    },
    {
     "name": "stderr",
     "output_type": "stream",
     "text": [
      "100%|██████████| 38/38 [00:12<00:00,  3.03it/s, Epoch=255, loss=0.378]\n",
      "100%|██████████| 7/7 [00:01<00:00,  4.29it/s, gpu_memory=6.48 GB, lr=0.00008, valid_loss=0.4742]\n"
     ]
    },
    {
     "name": "stdout",
     "output_type": "stream",
     "text": [
      "\n",
      " Saving model at 255th epoch\n",
      "\n",
      " Final Train Loss: 0.3779  |  Final Val Loss: 0.4742\n",
      "Valid Dice: 0.5172 | Valid Jaccard: 0.3853\n",
      "\u001b[0m===================== Epoch: [256/300] =====================\n"
     ]
    },
    {
     "name": "stderr",
     "output_type": "stream",
     "text": [
      "100%|██████████| 38/38 [00:12<00:00,  3.00it/s, Epoch=256, loss=0.379]\n",
      "100%|██████████| 7/7 [00:01<00:00,  4.32it/s, gpu_memory=6.49 GB, lr=0.00006, valid_loss=0.5068]\n"
     ]
    },
    {
     "name": "stdout",
     "output_type": "stream",
     "text": [
      "\n",
      " Saving model at 256th epoch\n",
      "\n",
      " Final Train Loss: 0.3785  |  Final Val Loss: 0.5068\n",
      "Valid Dice: 0.4805 | Valid Jaccard: 0.3560\n",
      "\u001b[0m===================== Epoch: [257/300] =====================\n"
     ]
    },
    {
     "name": "stderr",
     "output_type": "stream",
     "text": [
      "100%|██████████| 38/38 [00:12<00:00,  3.03it/s, Epoch=257, loss=0.374]\n",
      "100%|██████████| 7/7 [00:01<00:00,  4.34it/s, gpu_memory=6.48 GB, lr=0.00004, valid_loss=0.4699]\n"
     ]
    },
    {
     "name": "stdout",
     "output_type": "stream",
     "text": [
      "\n",
      " Saving model at 257th epoch\n",
      "\n",
      " Final Train Loss: 0.3735  |  Final Val Loss: 0.4699\n",
      "Valid Dice: 0.5425 | Valid Jaccard: 0.4086\n",
      "\u001b[0m===================== Epoch: [258/300] =====================\n"
     ]
    },
    {
     "name": "stderr",
     "output_type": "stream",
     "text": [
      "100%|██████████| 38/38 [00:12<00:00,  2.99it/s, Epoch=258, loss=0.37]  \n",
      "100%|██████████| 7/7 [00:01<00:00,  4.32it/s, gpu_memory=6.49 GB, lr=0.00002, valid_loss=0.4791]\n"
     ]
    },
    {
     "name": "stdout",
     "output_type": "stream",
     "text": [
      "\n",
      " Saving model at 258th epoch\n",
      "\n",
      " Final Train Loss: 0.3698  |  Final Val Loss: 0.4791\n",
      "Valid Dice: 0.5221 | Valid Jaccard: 0.3932\n",
      "\u001b[0m===================== Epoch: [259/300] =====================\n"
     ]
    },
    {
     "name": "stderr",
     "output_type": "stream",
     "text": [
      "100%|██████████| 38/38 [00:12<00:00,  3.03it/s, Epoch=259, loss=0.369]\n",
      "100%|██████████| 7/7 [00:01<00:00,  4.40it/s, gpu_memory=6.48 GB, lr=0.00001, valid_loss=0.4844]\n"
     ]
    },
    {
     "name": "stdout",
     "output_type": "stream",
     "text": [
      "\n",
      " Saving model at 259th epoch\n",
      "\n",
      " Final Train Loss: 0.3694  |  Final Val Loss: 0.4844\n",
      "Valid Dice: 0.5045 | Valid Jaccard: 0.3759\n",
      "\u001b[0m===================== Epoch: [260/300] =====================\n"
     ]
    },
    {
     "name": "stderr",
     "output_type": "stream",
     "text": [
      "100%|██████████| 38/38 [00:12<00:00,  3.02it/s, Epoch=260, loss=0.366]\n",
      "100%|██████████| 7/7 [00:01<00:00,  4.29it/s, gpu_memory=6.49 GB, lr=0.00000, valid_loss=0.4702]\n"
     ]
    },
    {
     "name": "stdout",
     "output_type": "stream",
     "text": [
      "\n",
      " Saving model at 260th epoch\n",
      "\n",
      " Final Train Loss: 0.3660  |  Final Val Loss: 0.4702\n",
      "Valid Dice: 0.5279 | Valid Jaccard: 0.3963\n",
      "\u001b[0m===================== Epoch: [261/300] =====================\n"
     ]
    },
    {
     "name": "stderr",
     "output_type": "stream",
     "text": [
      "100%|██████████| 38/38 [00:12<00:00,  3.00it/s, Epoch=261, loss=0.365] \n",
      "100%|██████████| 7/7 [00:01<00:00,  4.37it/s, gpu_memory=6.48 GB, lr=0.00000, valid_loss=0.4705]\n"
     ]
    },
    {
     "name": "stdout",
     "output_type": "stream",
     "text": [
      "\n",
      " Saving model at 261th epoch\n",
      "\n",
      " Final Train Loss: 0.3654  |  Final Val Loss: 0.4705\n",
      "Valid Dice: 0.5289 | Valid Jaccard: 0.3970\n",
      "\u001b[0m===================== Epoch: [262/300] =====================\n"
     ]
    },
    {
     "name": "stderr",
     "output_type": "stream",
     "text": [
      "100%|██████████| 38/38 [00:12<00:00,  3.02it/s, Epoch=262, loss=0.362] \n",
      "100%|██████████| 7/7 [00:01<00:00,  4.41it/s, gpu_memory=6.49 GB, lr=0.00001, valid_loss=0.4713]\n"
     ]
    },
    {
     "name": "stdout",
     "output_type": "stream",
     "text": [
      "\n",
      " Saving model at 262th epoch\n",
      "\n",
      " Final Train Loss: 0.3617  |  Final Val Loss: 0.4713\n",
      "Valid Dice: 0.5277 | Valid Jaccard: 0.3959\n",
      "\u001b[0m===================== Epoch: [263/300] =====================\n"
     ]
    },
    {
     "name": "stderr",
     "output_type": "stream",
     "text": [
      "100%|██████████| 38/38 [00:12<00:00,  3.02it/s, Epoch=263, loss=0.363] \n",
      "100%|██████████| 7/7 [00:01<00:00,  4.33it/s, gpu_memory=6.48 GB, lr=0.00002, valid_loss=0.4776]\n"
     ]
    },
    {
     "name": "stdout",
     "output_type": "stream",
     "text": [
      "\n",
      " Saving model at 263th epoch\n",
      "\n",
      " Final Train Loss: 0.3627  |  Final Val Loss: 0.4776\n",
      "Valid Dice: 0.5151 | Valid Jaccard: 0.3852\n",
      "\u001b[0m===================== Epoch: [264/300] =====================\n"
     ]
    },
    {
     "name": "stderr",
     "output_type": "stream",
     "text": [
      "100%|██████████| 38/38 [00:12<00:00,  3.02it/s, Epoch=264, loss=0.363] \n",
      "100%|██████████| 7/7 [00:01<00:00,  4.32it/s, gpu_memory=6.49 GB, lr=0.00004, valid_loss=0.4707]\n"
     ]
    },
    {
     "name": "stdout",
     "output_type": "stream",
     "text": [
      "\n",
      " Saving model at 264th epoch\n",
      "\n",
      " Final Train Loss: 0.3626  |  Final Val Loss: 0.4707\n",
      "Valid Dice: 0.5354 | Valid Jaccard: 0.4051\n",
      "\u001b[0m===================== Epoch: [265/300] =====================\n"
     ]
    },
    {
     "name": "stderr",
     "output_type": "stream",
     "text": [
      "100%|██████████| 38/38 [00:12<00:00,  3.02it/s, Epoch=265, loss=0.365]\n",
      "100%|██████████| 7/7 [00:01<00:00,  4.13it/s, gpu_memory=6.48 GB, lr=0.00006, valid_loss=0.4879]\n"
     ]
    },
    {
     "name": "stdout",
     "output_type": "stream",
     "text": [
      "\n",
      " Saving model at 265th epoch\n",
      "\n",
      " Final Train Loss: 0.3652  |  Final Val Loss: 0.4879\n",
      "Valid Dice: 0.5190 | Valid Jaccard: 0.3831\n",
      "\u001b[0m===================== Epoch: [266/300] =====================\n"
     ]
    },
    {
     "name": "stderr",
     "output_type": "stream",
     "text": [
      "100%|██████████| 38/38 [00:13<00:00,  2.91it/s, Epoch=266, loss=0.367] \n",
      "100%|██████████| 7/7 [00:01<00:00,  4.22it/s, gpu_memory=6.49 GB, lr=0.00008, valid_loss=0.4687]\n"
     ]
    },
    {
     "name": "stdout",
     "output_type": "stream",
     "text": [
      "\n",
      " Saving model at 266th epoch\n",
      "\n",
      " Final Train Loss: 0.3666  |  Final Val Loss: 0.4687\n",
      "Valid Dice: 0.5426 | Valid Jaccard: 0.4105\n",
      "\u001b[0m===================== Epoch: [267/300] =====================\n"
     ]
    },
    {
     "name": "stderr",
     "output_type": "stream",
     "text": [
      "100%|██████████| 38/38 [00:12<00:00,  2.95it/s, Epoch=267, loss=0.368] \n",
      "100%|██████████| 7/7 [00:01<00:00,  4.37it/s, gpu_memory=6.48 GB, lr=0.00009, valid_loss=0.4782]\n"
     ]
    },
    {
     "name": "stdout",
     "output_type": "stream",
     "text": [
      "\n",
      " Saving model at 267th epoch\n",
      "\n",
      " Final Train Loss: 0.3678  |  Final Val Loss: 0.4782\n",
      "Valid Dice: 0.5480 | Valid Jaccard: 0.4113\n",
      "\u001b[0m===================== Epoch: [268/300] =====================\n"
     ]
    },
    {
     "name": "stderr",
     "output_type": "stream",
     "text": [
      "100%|██████████| 38/38 [00:12<00:00,  3.03it/s, Epoch=268, loss=0.368] \n",
      "100%|██████████| 7/7 [00:01<00:00,  4.29it/s, gpu_memory=6.49 GB, lr=0.00010, valid_loss=0.4760]\n"
     ]
    },
    {
     "name": "stdout",
     "output_type": "stream",
     "text": [
      "\n",
      " Saving model at 268th epoch\n",
      "\n",
      " Final Train Loss: 0.3676  |  Final Val Loss: 0.4760\n",
      "Valid Dice: 0.5237 | Valid Jaccard: 0.3966\n",
      "\u001b[0m===================== Epoch: [269/300] =====================\n"
     ]
    },
    {
     "name": "stderr",
     "output_type": "stream",
     "text": [
      "100%|██████████| 38/38 [00:12<00:00,  3.01it/s, Epoch=269, loss=0.375] \n",
      "100%|██████████| 7/7 [00:01<00:00,  4.25it/s, gpu_memory=6.48 GB, lr=0.00010, valid_loss=0.4753]\n"
     ]
    },
    {
     "name": "stdout",
     "output_type": "stream",
     "text": [
      "\n",
      " Saving model at 269th epoch\n",
      "\n",
      " Final Train Loss: 0.3746  |  Final Val Loss: 0.4753\n",
      "Valid Dice: 0.5425 | Valid Jaccard: 0.4107\n",
      "\u001b[0m===================== Epoch: [270/300] =====================\n"
     ]
    },
    {
     "name": "stderr",
     "output_type": "stream",
     "text": [
      "100%|██████████| 38/38 [00:12<00:00,  3.02it/s, Epoch=270, loss=0.386]\n",
      "100%|██████████| 7/7 [00:01<00:00,  3.64it/s, gpu_memory=6.49 GB, lr=0.00009, valid_loss=0.4830]\n"
     ]
    },
    {
     "name": "stdout",
     "output_type": "stream",
     "text": [
      "\n",
      " Saving model at 270th epoch\n",
      "\n",
      " Final Train Loss: 0.3857  |  Final Val Loss: 0.4830\n",
      "Valid Dice: 0.4640 | Valid Jaccard: 0.3477\n",
      "\u001b[0m===================== Epoch: [271/300] =====================\n"
     ]
    },
    {
     "name": "stderr",
     "output_type": "stream",
     "text": [
      "100%|██████████| 38/38 [00:12<00:00,  3.01it/s, Epoch=271, loss=0.395]\n",
      "100%|██████████| 7/7 [00:01<00:00,  4.30it/s, gpu_memory=6.48 GB, lr=0.00008, valid_loss=0.4862]\n"
     ]
    },
    {
     "name": "stdout",
     "output_type": "stream",
     "text": [
      "\n",
      " Saving model at 271th epoch\n",
      "\n",
      " Final Train Loss: 0.3954  |  Final Val Loss: 0.4862\n",
      "Valid Dice: 0.4555 | Valid Jaccard: 0.3350\n",
      "\u001b[0m===================== Epoch: [272/300] =====================\n"
     ]
    },
    {
     "name": "stderr",
     "output_type": "stream",
     "text": [
      "100%|██████████| 38/38 [00:12<00:00,  3.01it/s, Epoch=272, loss=0.384]\n",
      "100%|██████████| 7/7 [00:01<00:00,  4.25it/s, gpu_memory=6.49 GB, lr=0.00006, valid_loss=0.4709]\n"
     ]
    },
    {
     "name": "stdout",
     "output_type": "stream",
     "text": [
      "\n",
      " Saving model at 272th epoch\n",
      "\n",
      " Final Train Loss: 0.3837  |  Final Val Loss: 0.4709\n",
      "Valid Dice: 0.5002 | Valid Jaccard: 0.3723\n",
      "\u001b[0m===================== Epoch: [273/300] =====================\n"
     ]
    },
    {
     "name": "stderr",
     "output_type": "stream",
     "text": [
      "100%|██████████| 38/38 [00:12<00:00,  3.02it/s, Epoch=273, loss=0.372]\n",
      "100%|██████████| 7/7 [00:01<00:00,  4.37it/s, gpu_memory=6.48 GB, lr=0.00004, valid_loss=0.4683]\n"
     ]
    },
    {
     "name": "stdout",
     "output_type": "stream",
     "text": [
      "\n",
      " Saving model at 273th epoch\n",
      "\n",
      " Final Train Loss: 0.3722  |  Final Val Loss: 0.4683\n",
      "Valid Dice: 0.5462 | Valid Jaccard: 0.4151\n",
      "\u001b[0m===================== Epoch: [274/300] =====================\n"
     ]
    },
    {
     "name": "stderr",
     "output_type": "stream",
     "text": [
      "100%|██████████| 38/38 [00:12<00:00,  3.01it/s, Epoch=274, loss=0.367]\n",
      "100%|██████████| 7/7 [00:01<00:00,  4.40it/s, gpu_memory=6.49 GB, lr=0.00002, valid_loss=0.4703]\n"
     ]
    },
    {
     "name": "stdout",
     "output_type": "stream",
     "text": [
      "\n",
      " Saving model at 274th epoch\n",
      "\n",
      " Final Train Loss: 0.3665  |  Final Val Loss: 0.4703\n",
      "Valid Dice: 0.5191 | Valid Jaccard: 0.3920\n",
      "\u001b[0m===================== Epoch: [275/300] =====================\n"
     ]
    },
    {
     "name": "stderr",
     "output_type": "stream",
     "text": [
      "100%|██████████| 38/38 [00:12<00:00,  3.03it/s, Epoch=275, loss=0.363] \n",
      "100%|██████████| 7/7 [00:01<00:00,  4.24it/s, gpu_memory=6.48 GB, lr=0.00001, valid_loss=0.4759]\n"
     ]
    },
    {
     "name": "stdout",
     "output_type": "stream",
     "text": [
      "\n",
      " Saving model at 275th epoch\n",
      "\n",
      " Final Train Loss: 0.3626  |  Final Val Loss: 0.4759\n",
      "Valid Dice: 0.5054 | Valid Jaccard: 0.3799\n",
      "\u001b[0m===================== Epoch: [276/300] =====================\n"
     ]
    },
    {
     "name": "stderr",
     "output_type": "stream",
     "text": [
      "100%|██████████| 38/38 [00:12<00:00,  3.03it/s, Epoch=276, loss=0.359] \n",
      "100%|██████████| 7/7 [00:01<00:00,  4.29it/s, gpu_memory=6.49 GB, lr=0.00000, valid_loss=0.4666]\n"
     ]
    },
    {
     "name": "stdout",
     "output_type": "stream",
     "text": [
      "\n",
      " Saving model at 276th epoch\n"
     ]
    },
    {
     "ename": "RuntimeError",
     "evalue": "[enforce fail at inline_container.cc:319] . unexpected pos 62736960 vs 62736852",
     "output_type": "error",
     "traceback": [
      "\u001b[0;31m---------------------------------------------------------------------------\u001b[0m",
      "\u001b[0;31mOSError\u001b[0m                                   Traceback (most recent call last)",
      "\u001b[0;32m~/somusan/hubmap_kaggle/.venv/lib/python3.7/site-packages/torch/serialization.py\u001b[0m in \u001b[0;36msave\u001b[0;34m(obj, f, pickle_module, pickle_protocol, _use_new_zipfile_serialization)\u001b[0m\n\u001b[1;32m    378\u001b[0m             \u001b[0;32mwith\u001b[0m \u001b[0m_open_zipfile_writer\u001b[0m\u001b[0;34m(\u001b[0m\u001b[0mopened_file\u001b[0m\u001b[0;34m)\u001b[0m \u001b[0;32mas\u001b[0m \u001b[0mopened_zipfile\u001b[0m\u001b[0;34m:\u001b[0m\u001b[0;34m\u001b[0m\u001b[0m\n\u001b[0;32m--> 379\u001b[0;31m                 \u001b[0m_save\u001b[0m\u001b[0;34m(\u001b[0m\u001b[0mobj\u001b[0m\u001b[0;34m,\u001b[0m \u001b[0mopened_zipfile\u001b[0m\u001b[0;34m,\u001b[0m \u001b[0mpickle_module\u001b[0m\u001b[0;34m,\u001b[0m \u001b[0mpickle_protocol\u001b[0m\u001b[0;34m)\u001b[0m\u001b[0;34m\u001b[0m\u001b[0m\n\u001b[0m\u001b[1;32m    380\u001b[0m                 \u001b[0;32mreturn\u001b[0m\u001b[0;34m\u001b[0m\u001b[0m\n",
      "\u001b[0;32m~/somusan/hubmap_kaggle/.venv/lib/python3.7/site-packages/torch/serialization.py\u001b[0m in \u001b[0;36m_save\u001b[0;34m(obj, zip_file, pickle_module, pickle_protocol)\u001b[0m\n\u001b[1;32m    603\u001b[0m         \u001b[0mnum_bytes\u001b[0m \u001b[0;34m=\u001b[0m \u001b[0mstorage\u001b[0m\u001b[0;34m.\u001b[0m\u001b[0mnbytes\u001b[0m\u001b[0;34m(\u001b[0m\u001b[0;34m)\u001b[0m\u001b[0;34m\u001b[0m\u001b[0m\n\u001b[0;32m--> 604\u001b[0;31m         \u001b[0mzip_file\u001b[0m\u001b[0;34m.\u001b[0m\u001b[0mwrite_record\u001b[0m\u001b[0;34m(\u001b[0m\u001b[0mname\u001b[0m\u001b[0;34m,\u001b[0m \u001b[0mstorage\u001b[0m\u001b[0;34m.\u001b[0m\u001b[0mdata_ptr\u001b[0m\u001b[0;34m(\u001b[0m\u001b[0;34m)\u001b[0m\u001b[0;34m,\u001b[0m \u001b[0mnum_bytes\u001b[0m\u001b[0;34m)\u001b[0m\u001b[0;34m\u001b[0m\u001b[0m\n\u001b[0m\u001b[1;32m    605\u001b[0m \u001b[0;34m\u001b[0m\u001b[0m\n",
      "\u001b[0;31mOSError\u001b[0m: [Errno 28] No space left on device",
      "\nDuring handling of the above exception, another exception occurred:\n",
      "\u001b[0;31mRuntimeError\u001b[0m                              Traceback (most recent call last)",
      "\u001b[0;32m/tmp/ipykernel_25673/2892881120.py\u001b[0m in \u001b[0;36m<module>\u001b[0;34m\u001b[0m\n\u001b[1;32m     18\u001b[0m \u001b[0;34m\u001b[0m\u001b[0m\n\u001b[1;32m     19\u001b[0m     \u001b[0;31m# save model\u001b[0m\u001b[0;34m\u001b[0m\u001b[0;34m\u001b[0m\u001b[0m\n\u001b[0;32m---> 20\u001b[0;31m     \u001b[0mmodel_file\u001b[0m \u001b[0;34m=\u001b[0m \u001b[0msave_model\u001b[0m\u001b[0;34m(\u001b[0m\u001b[0mmodel\u001b[0m\u001b[0;34m,\u001b[0m \u001b[0moptimizer\u001b[0m\u001b[0;34m,\u001b[0m \u001b[0mBCELoss\u001b[0m\u001b[0;34m,\u001b[0m \u001b[0mepoch\u001b[0m\u001b[0;34m+\u001b[0m\u001b[0;36m1\u001b[0m\u001b[0;34m)\u001b[0m\u001b[0;34m\u001b[0m\u001b[0m\n\u001b[0m\u001b[1;32m     21\u001b[0m \u001b[0;34m\u001b[0m\u001b[0m\n\u001b[1;32m     22\u001b[0m \u001b[0;34m\u001b[0m\u001b[0m\n",
      "\u001b[0;32m/tmp/ipykernel_25673/3161219400.py\u001b[0m in \u001b[0;36msave_model\u001b[0;34m(model, optimizer, criterion, epoch)\u001b[0m\n\u001b[1;32m     14\u001b[0m                 \u001b[0;34m'optimizer_state_dict'\u001b[0m\u001b[0;34m:\u001b[0m \u001b[0moptimizer\u001b[0m\u001b[0;34m.\u001b[0m\u001b[0mstate_dict\u001b[0m\u001b[0;34m(\u001b[0m\u001b[0;34m)\u001b[0m\u001b[0;34m,\u001b[0m\u001b[0;34m\u001b[0m\u001b[0m\n\u001b[1;32m     15\u001b[0m                 \u001b[0;34m'loss'\u001b[0m\u001b[0;34m:\u001b[0m \u001b[0mcriterion\u001b[0m\u001b[0;34m,\u001b[0m\u001b[0;34m\u001b[0m\u001b[0m\n\u001b[0;32m---> 16\u001b[0;31m                 }, fname )\n\u001b[0m\u001b[1;32m     17\u001b[0m     \u001b[0;32mreturn\u001b[0m \u001b[0mfname\u001b[0m\u001b[0;34m\u001b[0m\u001b[0m\n",
      "\u001b[0;32m~/somusan/hubmap_kaggle/.venv/lib/python3.7/site-packages/torch/serialization.py\u001b[0m in \u001b[0;36msave\u001b[0;34m(obj, f, pickle_module, pickle_protocol, _use_new_zipfile_serialization)\u001b[0m\n\u001b[1;32m    378\u001b[0m             \u001b[0;32mwith\u001b[0m \u001b[0m_open_zipfile_writer\u001b[0m\u001b[0;34m(\u001b[0m\u001b[0mopened_file\u001b[0m\u001b[0;34m)\u001b[0m \u001b[0;32mas\u001b[0m \u001b[0mopened_zipfile\u001b[0m\u001b[0;34m:\u001b[0m\u001b[0;34m\u001b[0m\u001b[0m\n\u001b[1;32m    379\u001b[0m                 \u001b[0m_save\u001b[0m\u001b[0;34m(\u001b[0m\u001b[0mobj\u001b[0m\u001b[0;34m,\u001b[0m \u001b[0mopened_zipfile\u001b[0m\u001b[0;34m,\u001b[0m \u001b[0mpickle_module\u001b[0m\u001b[0;34m,\u001b[0m \u001b[0mpickle_protocol\u001b[0m\u001b[0;34m)\u001b[0m\u001b[0;34m\u001b[0m\u001b[0m\n\u001b[0;32m--> 380\u001b[0;31m                 \u001b[0;32mreturn\u001b[0m\u001b[0;34m\u001b[0m\u001b[0m\n\u001b[0m\u001b[1;32m    381\u001b[0m         \u001b[0m_legacy_save\u001b[0m\u001b[0;34m(\u001b[0m\u001b[0mobj\u001b[0m\u001b[0;34m,\u001b[0m \u001b[0mopened_file\u001b[0m\u001b[0;34m,\u001b[0m \u001b[0mpickle_module\u001b[0m\u001b[0;34m,\u001b[0m \u001b[0mpickle_protocol\u001b[0m\u001b[0;34m)\u001b[0m\u001b[0;34m\u001b[0m\u001b[0m\n\u001b[1;32m    382\u001b[0m \u001b[0;34m\u001b[0m\u001b[0m\n",
      "\u001b[0;32m~/somusan/hubmap_kaggle/.venv/lib/python3.7/site-packages/torch/serialization.py\u001b[0m in \u001b[0;36m__exit__\u001b[0;34m(self, *args)\u001b[0m\n\u001b[1;32m    257\u001b[0m \u001b[0;34m\u001b[0m\u001b[0m\n\u001b[1;32m    258\u001b[0m     \u001b[0;32mdef\u001b[0m \u001b[0m__exit__\u001b[0m\u001b[0;34m(\u001b[0m\u001b[0mself\u001b[0m\u001b[0;34m,\u001b[0m \u001b[0;34m*\u001b[0m\u001b[0margs\u001b[0m\u001b[0;34m)\u001b[0m \u001b[0;34m->\u001b[0m \u001b[0;32mNone\u001b[0m\u001b[0;34m:\u001b[0m\u001b[0;34m\u001b[0m\u001b[0m\n\u001b[0;32m--> 259\u001b[0;31m         \u001b[0mself\u001b[0m\u001b[0;34m.\u001b[0m\u001b[0mfile_like\u001b[0m\u001b[0;34m.\u001b[0m\u001b[0mwrite_end_of_file\u001b[0m\u001b[0;34m(\u001b[0m\u001b[0;34m)\u001b[0m\u001b[0;34m\u001b[0m\u001b[0m\n\u001b[0m\u001b[1;32m    260\u001b[0m         \u001b[0mself\u001b[0m\u001b[0;34m.\u001b[0m\u001b[0mbuffer\u001b[0m\u001b[0;34m.\u001b[0m\u001b[0mflush\u001b[0m\u001b[0;34m(\u001b[0m\u001b[0;34m)\u001b[0m\u001b[0;34m\u001b[0m\u001b[0m\n\u001b[1;32m    261\u001b[0m \u001b[0;34m\u001b[0m\u001b[0m\n",
      "\u001b[0;31mRuntimeError\u001b[0m: [enforce fail at inline_container.cc:319] . unexpected pos 62736960 vs 62736852"
     ]
    }
   ],
   "source": [
    "history = defaultdict(list)\n",
    "best_val_dice = -float('inf')\n",
    "best_val_jaccard = -float('inf')\n",
    "start = time.time()\n",
    "\n",
    "# loss_fn = BCELoss\n",
    "scheduler = get_scheduler(optimizer)\n",
    "\n",
    "for epoch in range(CONFIG[\"NUM_EPOCHS\"]):\n",
    "    \n",
    "    print(f'{sr_}===================== Epoch: [{epoch+1}/{CONFIG[\"NUM_EPOCHS\"]}] =====================')\n",
    "\n",
    "    # train and validation loop\n",
    "    train_loss = train_fn(train_loader, model, optimizer, loss_fn, epoch+1, scheduler)\n",
    "    val_loss, val_scores = valid_one_epoch(model, test_loader,CONFIG[\"DEVICE\"], epoch+1, loss_fn)\n",
    "    val_dice, val_jaccard = val_scores\n",
    "    \n",
    "    \n",
    "    # save model\n",
    "    model_file = save_model(model, optimizer, BCELoss, epoch+1)\n",
    "    \n",
    "    \n",
    "    # weight and baise Log the metrics\n",
    "    # wandb.log({\"Train Loss\": train_loss})\n",
    "    # wandb.log({\"Valid Loss\": val_loss})\n",
    "    # wandb.log({\"Valid dice\": val_dice})\n",
    "    # wandb.log({\"Valid jaccard\": val_jaccard})\n",
    "\n",
    "    # logging\n",
    "    history[\"epoch\"].append(epoch+1)\n",
    "    history['Train_Loss'].append(train_loss)\n",
    "    history['Valid_Loss'].append(val_loss)\n",
    "    history['Valid_jaccard'].append(val_jaccard)\n",
    "    history['Valid_dice'].append(val_dice)\n",
    "    history[\"model_file\"].append(model_file)\n",
    "\n",
    "    \n",
    "    # print loss and scores\n",
    "    print(f\"\\n Final Train Loss: {train_loss:0.4f}  |  Final Val Loss: {val_loss:0.4f}\") \n",
    "    \n",
    "    print(f'Valid Dice: {val_dice:0.4f} | Valid Jaccard: {val_jaccard:0.4f}')\n",
    "    \n",
    "    \n",
    "    # print best val score\n",
    "    if best_val_dice < val_dice:\n",
    "        print(f\"{b_}val dice increased: {best_val_dice} ---> {val_dice}\")\n",
    "        best_val_dice = val_dice\n",
    "    \n",
    "    if best_val_jaccard < val_jaccard:\n",
    "        print(f\"{b_}val jaccard increased: {best_val_jaccard} ---> {val_jaccard}\")\n",
    "        best_val_jaccard = val_jaccard\n",
    "        \n",
    "        \n",
    "        \n",
    "# print time\n",
    "end = time.time()\n",
    "time_elapsed = end - start\n",
    "avg_time_per_epoch = time_elapsed/CONFIG[\"NUM_EPOCHS\"] \n",
    "summary_df = pd.DataFrame.from_dict(history)\n",
    "\n",
    "print(f'\\n ====================== [Training Summary] ====================== \\n')\n",
    "print('Training complete in {:.0f}h {:.0f}m {:.0f}s'.format(\n",
    "    time_elapsed // 3600, (time_elapsed % 3600) // 60, (time_elapsed % 3600) % 60))\n",
    "\n",
    "print('avg time per [train + val] epoch {:.0f}h {:.0f}m {:.0f}s'.format(\n",
    "    avg_time_per_epoch // 3600, (avg_time_per_epoch % 3600) // 60, (avg_time_per_epoch % 3600) % 60))\n",
    "\n",
    "print(\"Best: ~~~~~~ dice: {:.4f}  || jaccard {:.4f} || val_loss {:.4f} || train_loss {:.4f} ~~~~~~\".format(\n",
    "    best_val_dice, best_val_jaccard, min(history['Valid_Loss']), min(history['Train_Loss'])))\n",
    "\n",
    "\n",
    "summary_df.to_csv(model_path + 'training_summary.csv')\n",
    "print(\"Saved training summary...\")\n",
    "\n",
    "print(f'\\n =============================================================== \\n')\n",
    "\n",
    "display(summary_df)\n",
    "\n",
    "plt.style.use('fivethirtyeight')\n",
    "# plotting training and validation loss\n",
    "plt.figure(figsize=(15,8))\n",
    "\n",
    "fig1 = plt.subplot(2,2,1)\n",
    "fig1.plot(history['epoch'], history['Train_Loss'], color='lime', marker='>')\n",
    "fig1.set_title(\"train loss [dice]\")\n",
    "fig1.set(xlabel='epoch', ylabel='train loss')\n",
    "\n",
    "fig2 = plt.subplot(2,2,2)\n",
    "fig2.plot(history['epoch'], history['Valid_Loss'], color='cyan',  marker='>')\n",
    "fig2.set_title(\"val loss [dice]\")\n",
    "fig2.set(xlabel='epoch', ylabel='val loss')\n",
    "\n",
    "fig3 = plt.subplot(2,2,3)\n",
    "fig3.plot(history['epoch'], history['Valid_dice'], color='orange',  marker='>')\n",
    "fig3.set_title(\"Val Dice\")\n",
    "fig3.set(xlabel='epoch', ylabel='val dice')\n",
    "\n",
    "fig4 = plt.subplot(2,2,4)\n",
    "fig4.plot(history['epoch'], history['Valid_jaccard'], color='lightcoral',  marker='>')\n",
    "fig4.set_title(\"val jaccard\")\n",
    "fig4.set(xlabel='epoch', ylabel='val jaccard')\n",
    "\n",
    "plt.show();"
   ]
  },
  {
   "cell_type": "code",
   "execution_count": null,
   "metadata": {},
   "outputs": [],
   "source": [
    "!nvidia-smi # see whats the prediction, need to transpose or not...use basic aug...use different loss\n",
    "# add sch + model none...change to SGD `optimizer = optim.SGD(model.parameters(), lr=0.01, momentum=0.9)`"
   ]
  },
  {
   "cell_type": "code",
   "execution_count": null,
   "metadata": {},
   "outputs": [],
   "source": []
  },
  {
   "cell_type": "code",
   "execution_count": null,
   "metadata": {},
   "outputs": [],
   "source": []
  },
  {
   "cell_type": "code",
   "execution_count": null,
   "metadata": {},
   "outputs": [],
   "source": []
  },
  {
   "cell_type": "code",
   "execution_count": null,
   "metadata": {},
   "outputs": [],
   "source": []
  },
  {
   "cell_type": "code",
   "execution_count": null,
   "metadata": {},
   "outputs": [],
   "source": []
  },
  {
   "cell_type": "code",
   "execution_count": null,
   "metadata": {},
   "outputs": [],
   "source": []
  },
  {
   "cell_type": "code",
   "execution_count": null,
   "metadata": {},
   "outputs": [],
   "source": []
  },
  {
   "cell_type": "code",
   "execution_count": null,
   "metadata": {},
   "outputs": [],
   "source": []
  },
  {
   "cell_type": "code",
   "execution_count": null,
   "metadata": {},
   "outputs": [],
   "source": []
  },
  {
   "cell_type": "code",
   "execution_count": null,
   "metadata": {},
   "outputs": [],
   "source": []
  },
  {
   "cell_type": "code",
   "execution_count": null,
   "metadata": {},
   "outputs": [],
   "source": []
  },
  {
   "cell_type": "code",
   "execution_count": null,
   "metadata": {},
   "outputs": [],
   "source": []
  },
  {
   "cell_type": "code",
   "execution_count": null,
   "metadata": {},
   "outputs": [],
   "source": []
  },
  {
   "cell_type": "code",
   "execution_count": null,
   "metadata": {},
   "outputs": [],
   "source": []
  },
  {
   "cell_type": "code",
   "execution_count": null,
   "metadata": {},
   "outputs": [],
   "source": []
  },
  {
   "cell_type": "code",
   "execution_count": null,
   "metadata": {},
   "outputs": [],
   "source": []
  }
 ],
 "metadata": {
  "kernelspec": {
   "display_name": "Python 3.7.0 ('.venv': venv)",
   "language": "python",
   "name": "python3"
  },
  "language_info": {
   "codemirror_mode": {
    "name": "ipython",
    "version": 3
   },
   "file_extension": ".py",
   "mimetype": "text/x-python",
   "name": "python",
   "nbconvert_exporter": "python",
   "pygments_lexer": "ipython3",
   "version": "3.7.0"
  },
  "orig_nbformat": 4,
  "vscode": {
   "interpreter": {
    "hash": "21a2a557654fc1676068684031cf9bb9dfda94e124d3623f4e9c9ed764d794ac"
   }
  }
 },
 "nbformat": 4,
 "nbformat_minor": 2
}
