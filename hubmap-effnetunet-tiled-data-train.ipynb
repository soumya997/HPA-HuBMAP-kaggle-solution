{
 "cells": [
  {
   "cell_type": "markdown",
   "id": "38a09794",
   "metadata": {
    "papermill": {
     "duration": 0.010949,
     "end_time": "2022-07-30T20:28:22.549622",
     "exception": false,
     "start_time": "2022-07-30T20:28:22.538673",
     "status": "completed"
    },
    "tags": []
   },
   "source": [
    "\n",
    "\n",
    "<h3 style=\"text-align:center; background-color:#C8FF33;padding:40px;border-radius: 30px;\">\n",
    "<p style=\"text-align: left\">See also this notebook:</p>\n",
    "    <p style=\"text-align: left\"><b><a href=\"https://www.kaggle.com/code/soumya9977/hubmap-multiorgan-segmentation-1-3-data-prep\"> &nbsp; HuBMAP multiOrgan Segmentation 1/3 [data prep]</a></b></p>\n",
    "    <p style=\"text-align: left\"><b>* HuBMAP: Vanilla Unet + W&B + Pytorch 2/3 [train]</b></p>\n",
    "    <p style=\"text-align: left\"><b><a href=\"https://www.kaggle.com/code/soumya9977/hubmap-vanilla-unet-pytorch-3-3-inference\"> &nbsp; HuBMAP: Vanilla Unet Pytorch 3/3 [inference]</a></b></p>\n",
    "</h3>\n",
    "\n",
    "\n",
    "## Please _DO_ upvote!\n"
   ]
  },
  {
   "cell_type": "markdown",
   "id": "89a0aa1b",
   "metadata": {
    "papermill": {
     "duration": 0.009906,
     "end_time": "2022-07-30T20:28:22.571702",
     "exception": false,
     "start_time": "2022-07-30T20:28:22.561796",
     "status": "completed"
    },
    "tags": []
   },
   "source": [
    "### Changelog\n",
    "\n",
    "|| Version | Comments | LB |\n",
    "|---|  --- | --- | --- |\n",
    "|**Best**| -- | effNetUnet w/ 256x256, 50 epoch, no aug, CosineAnnealingLR lr sch, no pre/post processing, L2 norm, bs=8 | `--` |"
   ]
  },
  {
   "cell_type": "code",
   "execution_count": 1,
   "id": "3b21521f",
   "metadata": {
    "execution": {
     "iopub.execute_input": "2022-07-30T20:28:22.593787Z",
     "iopub.status.busy": "2022-07-30T20:28:22.593314Z",
     "iopub.status.idle": "2022-07-30T20:28:53.936535Z",
     "shell.execute_reply": "2022-07-30T20:28:53.935407Z"
    },
    "papermill": {
     "duration": 31.356897,
     "end_time": "2022-07-30T20:28:53.939054",
     "exception": false,
     "start_time": "2022-07-30T20:28:22.582157",
     "status": "completed"
    },
    "tags": []
   },
   "outputs": [
    {
     "name": "stdout",
     "output_type": "stream",
     "text": [
      "Collecting git+https://github.com/qubvel/segmentation_models.pytorch\r\n",
      "  Cloning https://github.com/qubvel/segmentation_models.pytorch to /tmp/pip-req-build-wnsrldz6\r\n",
      "  Running command git clone --filter=blob:none --quiet https://github.com/qubvel/segmentation_models.pytorch /tmp/pip-req-build-wnsrldz6\r\n",
      "  Resolved https://github.com/qubvel/segmentation_models.pytorch to commit c98c88d13481c956b232dec6fc13609859838d7a\r\n",
      "  Installing build dependencies ... \u001b[?25l-\b \b\\\b \b|\b \b/\b \b-\b \b\\\b \bdone\r\n",
      "\u001b[?25h  Getting requirements to build wheel ... \u001b[?25l-\b \bdone\r\n",
      "\u001b[?25h  Preparing metadata (pyproject.toml) ... \u001b[?25l-\b \bdone\r\n",
      "\u001b[?25hRequirement already satisfied: torchvision>=0.5.0 in /opt/conda/lib/python3.7/site-packages (from segmentation-models-pytorch==0.3.0) (0.12.0)\r\n",
      "Requirement already satisfied: tqdm in /opt/conda/lib/python3.7/site-packages (from segmentation-models-pytorch==0.3.0) (4.64.0)\r\n",
      "Requirement already satisfied: pillow in /opt/conda/lib/python3.7/site-packages (from segmentation-models-pytorch==0.3.0) (9.1.1)\r\n",
      "Collecting pretrainedmodels==0.7.4\r\n",
      "  Downloading pretrainedmodels-0.7.4.tar.gz (58 kB)\r\n",
      "\u001b[2K     \u001b[90m━━━━━━━━━━━━━━━━━━━━━━━━━━━━━━━━━━━━━━━\u001b[0m \u001b[32m58.8/58.8 kB\u001b[0m \u001b[31m603.0 kB/s\u001b[0m eta \u001b[36m0:00:00\u001b[0m\r\n",
      "\u001b[?25h  Preparing metadata (setup.py) ... \u001b[?25l-\b \bdone\r\n",
      "\u001b[?25hCollecting efficientnet-pytorch==0.7.1\r\n",
      "  Downloading efficientnet_pytorch-0.7.1.tar.gz (21 kB)\r\n",
      "  Preparing metadata (setup.py) ... \u001b[?25l-\b \bdone\r\n",
      "\u001b[?25hCollecting timm==0.4.12\r\n",
      "  Downloading timm-0.4.12-py3-none-any.whl (376 kB)\r\n",
      "\u001b[2K     \u001b[90m━━━━━━━━━━━━━━━━━━━━━━━━━━━━━━━━━━━━━━━\u001b[0m \u001b[32m377.0/377.0 kB\u001b[0m \u001b[31m2.4 MB/s\u001b[0m eta \u001b[36m0:00:00\u001b[0m\r\n",
      "\u001b[?25hRequirement already satisfied: torch in /opt/conda/lib/python3.7/site-packages (from efficientnet-pytorch==0.7.1->segmentation-models-pytorch==0.3.0) (1.11.0)\r\n",
      "Requirement already satisfied: munch in /opt/conda/lib/python3.7/site-packages (from pretrainedmodels==0.7.4->segmentation-models-pytorch==0.3.0) (2.5.0)\r\n",
      "Requirement already satisfied: typing-extensions in /opt/conda/lib/python3.7/site-packages (from torchvision>=0.5.0->segmentation-models-pytorch==0.3.0) (4.1.1)\r\n",
      "Requirement already satisfied: numpy in /opt/conda/lib/python3.7/site-packages (from torchvision>=0.5.0->segmentation-models-pytorch==0.3.0) (1.21.6)\r\n",
      "Requirement already satisfied: requests in /opt/conda/lib/python3.7/site-packages (from torchvision>=0.5.0->segmentation-models-pytorch==0.3.0) (2.28.1)\r\n",
      "Requirement already satisfied: six in /opt/conda/lib/python3.7/site-packages (from munch->pretrainedmodels==0.7.4->segmentation-models-pytorch==0.3.0) (1.16.0)\r\n",
      "Requirement already satisfied: urllib3<1.27,>=1.21.1 in /opt/conda/lib/python3.7/site-packages (from requests->torchvision>=0.5.0->segmentation-models-pytorch==0.3.0) (1.26.9)\r\n",
      "Requirement already satisfied: idna<4,>=2.5 in /opt/conda/lib/python3.7/site-packages (from requests->torchvision>=0.5.0->segmentation-models-pytorch==0.3.0) (3.3)\r\n",
      "Requirement already satisfied: certifi>=2017.4.17 in /opt/conda/lib/python3.7/site-packages (from requests->torchvision>=0.5.0->segmentation-models-pytorch==0.3.0) (2022.6.15)\r\n",
      "Requirement already satisfied: charset-normalizer<3,>=2 in /opt/conda/lib/python3.7/site-packages (from requests->torchvision>=0.5.0->segmentation-models-pytorch==0.3.0) (2.1.0)\r\n",
      "Building wheels for collected packages: segmentation-models-pytorch, efficientnet-pytorch, pretrainedmodels\r\n",
      "  Building wheel for segmentation-models-pytorch (pyproject.toml) ... \u001b[?25l-\b \b\\\b \bdone\r\n",
      "\u001b[?25h  Created wheel for segmentation-models-pytorch: filename=segmentation_models_pytorch-0.3.0-py3-none-any.whl size=97946 sha256=4f3d5af439c0ef144375c08ca7e8bdda0996a346109a2033c344b4c55ae9ba36\r\n",
      "  Stored in directory: /tmp/pip-ephem-wheel-cache-dijlfoej/wheels/fa/c5/a8/1e8af6cb04a0974db8a4a156ebd2fdd1d99ad2558d3fce49d4\r\n",
      "  Building wheel for efficientnet-pytorch (setup.py) ... \u001b[?25l-\b \b\\\b \bdone\r\n",
      "\u001b[?25h  Created wheel for efficientnet-pytorch: filename=efficientnet_pytorch-0.7.1-py3-none-any.whl size=16446 sha256=e52324bce36c7397099a670eb52bcf7cdd058e475abd47e9a83a7f9ca87b3221\r\n",
      "  Stored in directory: /root/.cache/pip/wheels/0e/cc/b2/49e74588263573ff778da58cc99b9c6349b496636a7e165be6\r\n",
      "  Building wheel for pretrainedmodels (setup.py) ... \u001b[?25l-\b \b\\\b \bdone\r\n",
      "\u001b[?25h  Created wheel for pretrainedmodels: filename=pretrainedmodels-0.7.4-py3-none-any.whl size=60965 sha256=3843c9a1fd273b359ae4c18080299b7671d4adbbeaf33d1ff22357a5a3a927c5\r\n",
      "  Stored in directory: /root/.cache/pip/wheels/ed/27/e8/9543d42de2740d3544db96aefef63bda3f2c1761b3334f4873\r\n",
      "Successfully built segmentation-models-pytorch efficientnet-pytorch pretrainedmodels\r\n",
      "Installing collected packages: efficientnet-pytorch, timm, pretrainedmodels, segmentation-models-pytorch\r\n",
      "Successfully installed efficientnet-pytorch-0.7.1 pretrainedmodels-0.7.4 segmentation-models-pytorch-0.3.0 timm-0.4.12\r\n",
      "\u001b[33mWARNING: Running pip as the 'root' user can result in broken permissions and conflicting behaviour with the system package manager. It is recommended to use a virtual environment instead: https://pip.pypa.io/warnings/venv\u001b[0m\u001b[33m\r\n",
      "\u001b[0m"
     ]
    }
   ],
   "source": [
    "!pip install git+https://github.com/qubvel/segmentation_models.pytorch"
   ]
  },
  {
   "cell_type": "code",
   "execution_count": 2,
   "id": "6e4860fa",
   "metadata": {
    "execution": {
     "iopub.execute_input": "2022-07-30T20:28:53.966459Z",
     "iopub.status.busy": "2022-07-30T20:28:53.965602Z",
     "iopub.status.idle": "2022-07-30T20:28:53.970724Z",
     "shell.execute_reply": "2022-07-30T20:28:53.969873Z"
    },
    "papermill": {
     "duration": 0.020502,
     "end_time": "2022-07-30T20:28:53.972619",
     "exception": false,
     "start_time": "2022-07-30T20:28:53.952117",
     "status": "completed"
    },
    "tags": []
   },
   "outputs": [],
   "source": [
    "# !pip install -q tifffile"
   ]
  },
  {
   "cell_type": "markdown",
   "id": "949d2354",
   "metadata": {
    "papermill": {
     "duration": 0.012829,
     "end_time": "2022-07-30T20:28:53.997784",
     "exception": false,
     "start_time": "2022-07-30T20:28:53.984955",
     "status": "completed"
    },
    "tags": []
   },
   "source": [
    "# Import, SEED, Config:"
   ]
  },
  {
   "cell_type": "code",
   "execution_count": 3,
   "id": "00f93ab9",
   "metadata": {
    "_cell_guid": "b1076dfc-b9ad-4769-8c92-a6c4dae69d19",
    "_uuid": "8f2839f25d086af736a60e9eeb907d3b93b6e0e5",
    "execution": {
     "iopub.execute_input": "2022-07-30T20:28:54.024928Z",
     "iopub.status.busy": "2022-07-30T20:28:54.024092Z",
     "iopub.status.idle": "2022-07-30T20:29:00.050458Z",
     "shell.execute_reply": "2022-07-30T20:29:00.049435Z"
    },
    "papermill": {
     "duration": 6.042358,
     "end_time": "2022-07-30T20:29:00.052902",
     "exception": false,
     "start_time": "2022-07-30T20:28:54.010544",
     "status": "completed"
    },
    "tags": []
   },
   "outputs": [],
   "source": [
    "import numpy as np # linear algebra\n",
    "import pandas as pd # data processing, CSV file I/O (e.g. pd.read_csv)\n",
    "import os\n",
    "import warnings\n",
    "import cv2\n",
    "import matplotlib.pyplot as plt\n",
    "import json\n",
    "import gc\n",
    "import time\n",
    "from tqdm import tqdm\n",
    "import random\n",
    "from collections import defaultdict\n",
    "from IPython.display import display\n",
    "\n",
    "#Pytorch Imports\n",
    "import torch\n",
    "import torchvision # torch package for vision related things\n",
    "import torch.nn.functional as F  # Parameterless functions, like (some) activation functions\n",
    "import torchvision.datasets as datasets  # Standard datasets\n",
    "import torchvision.transforms as transforms  # Transformations we can perform on our dataset for augmentation\n",
    "from torch import optim  # For optimizers like SGD, Adam, etc.\n",
    "from torch import nn  # All neural network modules\n",
    "from torch.utils.data import Dataset, DataLoader  # Gives easier dataset managment by creating mini batches etc.\n",
    "from tqdm import tqdm  # For nice progress bar!\n",
    "from torchvision.transforms import Resize\n",
    "from torchaudio.transforms import MelSpectrogram, AmplitudeToDB\n",
    "from torch.optim import lr_scheduler\n",
    "# from tifffile import imread\n",
    "import segmentation_models_pytorch as smp\n",
    "import transformers\n",
    "from sklearn.model_selection import StratifiedKFold, KFold, StratifiedGroupKFold\n",
    "\n",
    "from albumentations.pytorch.transforms import ToTensorV2\n",
    "import albumentations as A\n",
    "from sklearn.model_selection import train_test_split\n",
    "\n",
    "# For colored terminal text\n",
    "from colorama import Fore, Back, Style\n",
    "c_ = Fore.CYAN\n",
    "sr_ = Style.RESET_ALL\n",
    "b_ = Fore.BLUE\n",
    "\n",
    "# For descriptive error messages\n",
    "os.environ['CUDA_LAUNCH_BLOCKING'] = \"1\"\n",
    "\n",
    "warnings.filterwarnings(\"ignore\")"
   ]
  },
  {
   "cell_type": "code",
   "execution_count": 4,
   "id": "182c87fb",
   "metadata": {
    "execution": {
     "iopub.execute_input": "2022-07-30T20:29:00.079900Z",
     "iopub.status.busy": "2022-07-30T20:29:00.079415Z",
     "iopub.status.idle": "2022-07-30T20:29:00.145092Z",
     "shell.execute_reply": "2022-07-30T20:29:00.144150Z"
    },
    "papermill": {
     "duration": 0.081356,
     "end_time": "2022-07-30T20:29:00.147120",
     "exception": false,
     "start_time": "2022-07-30T20:29:00.065764",
     "status": "completed"
    },
    "tags": []
   },
   "outputs": [],
   "source": [
    "# Hyperparameters etc.\n",
    "# Hyperparameters\n",
    "CONFIG = {\n",
    "    \"in_channels\" :3,\n",
    "    \"num_classes\": 1,\n",
    "    \"BATCH_SIZE\" : 8,\n",
    "    \"NUM_EPOCHS\" : 50,\n",
    "    \"n_accumulate\": 1,\n",
    "    \"competition\": \"HuBMAP-Kaggle\", # HuBMAP-Kaggle\n",
    "    \"model_name\": \"Vanilla_Unet\",\n",
    "    \"LEARNING_RATE\": 1e-4,\n",
    "    \"DEVICE\": \"cuda\" if torch.cuda.is_available() else \"cpu\", \n",
    "    \"AUG\": \"No\",\n",
    "    \"SEED\": 42,\n",
    "    \"opt\": 'Adam',\n",
    "    \"Normalization\": \"L2\",\n",
    "    \"img_size\": 256,\n",
    "    \"scheduler\": 'CosineAnnealingLR',\n",
    "    \"warmup_epochs\": 2,\n",
    "    \"n_folds\": 5,\n",
    "    \"folds_to_run\": [0],\n",
    "    \"min_lr\": 1e-6,\n",
    "    \"T_max\": 500, \n",
    "    \"T_0\": 20\n",
    "}"
   ]
  },
  {
   "cell_type": "code",
   "execution_count": 5,
   "id": "0bfa65da",
   "metadata": {
    "execution": {
     "iopub.execute_input": "2022-07-30T20:29:00.174229Z",
     "iopub.status.busy": "2022-07-30T20:29:00.173599Z",
     "iopub.status.idle": "2022-07-30T20:29:00.188674Z",
     "shell.execute_reply": "2022-07-30T20:29:00.187295Z"
    },
    "papermill": {
     "duration": 0.03082,
     "end_time": "2022-07-30T20:29:00.191181",
     "exception": false,
     "start_time": "2022-07-30T20:29:00.160361",
     "status": "completed"
    },
    "tags": []
   },
   "outputs": [
    {
     "name": "stdout",
     "output_type": "stream",
     "text": [
      "> SEEDING DONE\n"
     ]
    }
   ],
   "source": [
    "def set_seed(seed = 42):\n",
    "    '''Sets the seed of the entire notebook so results are the same every time we run.\n",
    "    This is for REPRODUCIBILITY.'''\n",
    "    np.random.seed(seed)\n",
    "    random.seed(seed)\n",
    "    torch.manual_seed(seed)\n",
    "    torch.cuda.manual_seed(seed)\n",
    "    # When running on the CuDNN backend, two further options must be set\n",
    "    torch.backends.cudnn.deterministic = True\n",
    "    torch.backends.cudnn.benchmark = False\n",
    "    # Set a fixed value for the hash seed\n",
    "    os.environ['PYTHONHASHSEED'] = str(seed)\n",
    "    print('> SEEDING DONE')\n",
    "    \n",
    "set_seed(CONFIG[\"SEED\"])"
   ]
  },
  {
   "cell_type": "markdown",
   "id": "0a400c85",
   "metadata": {
    "papermill": {
     "duration": 0.012401,
     "end_time": "2022-07-30T20:29:00.216695",
     "exception": false,
     "start_time": "2022-07-30T20:29:00.204294",
     "status": "completed"
    },
    "tags": []
   },
   "source": [
    "# WandB:"
   ]
  },
  {
   "cell_type": "code",
   "execution_count": 6,
   "id": "19f4db02",
   "metadata": {
    "execution": {
     "iopub.execute_input": "2022-07-30T20:29:00.243751Z",
     "iopub.status.busy": "2022-07-30T20:29:00.243103Z",
     "iopub.status.idle": "2022-07-30T20:29:05.905411Z",
     "shell.execute_reply": "2022-07-30T20:29:05.904302Z"
    },
    "papermill": {
     "duration": 5.678348,
     "end_time": "2022-07-30T20:29:05.907975",
     "exception": false,
     "start_time": "2022-07-30T20:29:00.229627",
     "status": "completed"
    },
    "tags": []
   },
   "outputs": [
    {
     "name": "stderr",
     "output_type": "stream",
     "text": [
      "\u001b[34m\u001b[1mwandb\u001b[0m: W&B API key is configured. Use \u001b[1m`wandb login --relogin`\u001b[0m to force relogin\n",
      "\u001b[34m\u001b[1mwandb\u001b[0m: \u001b[33mWARNING\u001b[0m If you're specifying your api key in code, ensure this code is not shared publicly.\n",
      "\u001b[34m\u001b[1mwandb\u001b[0m: \u001b[33mWARNING\u001b[0m Consider setting the WANDB_API_KEY environment variable, or running `wandb login` from the command line.\n",
      "\u001b[34m\u001b[1mwandb\u001b[0m: Appending key for api.wandb.ai to your netrc file: /root/.netrc\n",
      "\u001b[34m\u001b[1mwandb\u001b[0m: Currently logged in as: \u001b[33msomusan\u001b[0m. Use \u001b[1m`wandb login --relogin`\u001b[0m to force relogin\n"
     ]
    },
    {
     "data": {
      "text/html": [
       "Tracking run with wandb version 0.12.21"
      ],
      "text/plain": [
       "<IPython.core.display.HTML object>"
      ]
     },
     "metadata": {},
     "output_type": "display_data"
    },
    {
     "data": {
      "text/html": [
       "Run data is saved locally in <code>/kaggle/working/wandb/run-20220730_202902-1kybsq2g</code>"
      ],
      "text/plain": [
       "<IPython.core.display.HTML object>"
      ]
     },
     "metadata": {},
     "output_type": "display_data"
    },
    {
     "data": {
      "text/html": [
       "Syncing run <strong><a href=\"https://wandb.ai/somusan/HuBMAP-Kaggle/runs/1kybsq2g\" target=\"_blank\">Vanilla_Unet_1</a></strong> to <a href=\"https://wandb.ai/somusan/HuBMAP-Kaggle\" target=\"_blank\">Weights & Biases</a> (<a href=\"https://wandb.me/run\" target=\"_blank\">docs</a>)<br/>"
      ],
      "text/plain": [
       "<IPython.core.display.HTML object>"
      ]
     },
     "metadata": {},
     "output_type": "display_data"
    }
   ],
   "source": [
    "import wandb\n",
    "\n",
    "try:\n",
    "    from kaggle_secrets import UserSecretsClient\n",
    "    user_secrets = UserSecretsClient()\n",
    "    api_key = user_secrets.get_secret(\"WANDB\")\n",
    "    wandb.login(key=api_key)\n",
    "    anonymous = None\n",
    "except:\n",
    "    anonymous = \"must\"\n",
    "    print('To use your W&B account,\\nGo to Add-ons -> Secrets and provide your W&B access token. Use the Label name as WANDB. \\nGet your W&B access token from here: https://wandb.ai/authorize')\n",
    "# wandb.init(project=\"PogChamp2 Baseline\")\n",
    "run = wandb.init(project=CONFIG['competition'], \n",
    "                 config=CONFIG,\n",
    "                 job_type='Train',\n",
    "                 tags=['semantic segmentation', CONFIG['model_name']],\n",
    "                 anonymous='must',\n",
    "                 name = \"Vanilla_Unet_1\",\n",
    "                 notes = \"\")"
   ]
  },
  {
   "cell_type": "markdown",
   "id": "af068d72",
   "metadata": {
    "papermill": {
     "duration": 0.012861,
     "end_time": "2022-07-30T20:29:05.934398",
     "exception": false,
     "start_time": "2022-07-30T20:29:05.921537",
     "status": "completed"
    },
    "tags": []
   },
   "source": [
    "## Tabular:"
   ]
  },
  {
   "cell_type": "code",
   "execution_count": 7,
   "id": "34e4099e",
   "metadata": {
    "execution": {
     "iopub.execute_input": "2022-07-30T20:29:05.965230Z",
     "iopub.status.busy": "2022-07-30T20:29:05.964311Z",
     "iopub.status.idle": "2022-07-30T20:29:07.158550Z",
     "shell.execute_reply": "2022-07-30T20:29:07.154312Z"
    },
    "papermill": {
     "duration": 1.214449,
     "end_time": "2022-07-30T20:29:07.161984",
     "exception": false,
     "start_time": "2022-07-30T20:29:05.947535",
     "status": "completed"
    },
    "tags": []
   },
   "outputs": [
    {
     "data": {
      "text/html": [
       "<div>\n",
       "<style scoped>\n",
       "    .dataframe tbody tr th:only-of-type {\n",
       "        vertical-align: middle;\n",
       "    }\n",
       "\n",
       "    .dataframe tbody tr th {\n",
       "        vertical-align: top;\n",
       "    }\n",
       "\n",
       "    .dataframe thead th {\n",
       "        text-align: right;\n",
       "    }\n",
       "</style>\n",
       "<table border=\"1\" class=\"dataframe\">\n",
       "  <thead>\n",
       "    <tr style=\"text-align: right;\">\n",
       "      <th></th>\n",
       "      <th>img_path</th>\n",
       "      <th>mask_path</th>\n",
       "    </tr>\n",
       "  </thead>\n",
       "  <tbody>\n",
       "    <tr>\n",
       "      <th>0</th>\n",
       "      <td>../input/hubmap-tiled-data-generation/tiled_da...</td>\n",
       "      <td>../input/hubmap-tiled-data-generation/tiled_da...</td>\n",
       "    </tr>\n",
       "    <tr>\n",
       "      <th>1</th>\n",
       "      <td>../input/hubmap-tiled-data-generation/tiled_da...</td>\n",
       "      <td>../input/hubmap-tiled-data-generation/tiled_da...</td>\n",
       "    </tr>\n",
       "    <tr>\n",
       "      <th>2</th>\n",
       "      <td>../input/hubmap-tiled-data-generation/tiled_da...</td>\n",
       "      <td>../input/hubmap-tiled-data-generation/tiled_da...</td>\n",
       "    </tr>\n",
       "    <tr>\n",
       "      <th>3</th>\n",
       "      <td>../input/hubmap-tiled-data-generation/tiled_da...</td>\n",
       "      <td>../input/hubmap-tiled-data-generation/tiled_da...</td>\n",
       "    </tr>\n",
       "    <tr>\n",
       "      <th>4</th>\n",
       "      <td>../input/hubmap-tiled-data-generation/tiled_da...</td>\n",
       "      <td>../input/hubmap-tiled-data-generation/tiled_da...</td>\n",
       "    </tr>\n",
       "    <tr>\n",
       "      <th>...</th>\n",
       "      <td>...</td>\n",
       "      <td>...</td>\n",
       "    </tr>\n",
       "    <tr>\n",
       "      <th>3154</th>\n",
       "      <td>../input/hubmap-tiled-data-generation/tiled_da...</td>\n",
       "      <td>../input/hubmap-tiled-data-generation/tiled_da...</td>\n",
       "    </tr>\n",
       "    <tr>\n",
       "      <th>3155</th>\n",
       "      <td>../input/hubmap-tiled-data-generation/tiled_da...</td>\n",
       "      <td>../input/hubmap-tiled-data-generation/tiled_da...</td>\n",
       "    </tr>\n",
       "    <tr>\n",
       "      <th>3156</th>\n",
       "      <td>../input/hubmap-tiled-data-generation/tiled_da...</td>\n",
       "      <td>../input/hubmap-tiled-data-generation/tiled_da...</td>\n",
       "    </tr>\n",
       "    <tr>\n",
       "      <th>3157</th>\n",
       "      <td>../input/hubmap-tiled-data-generation/tiled_da...</td>\n",
       "      <td>../input/hubmap-tiled-data-generation/tiled_da...</td>\n",
       "    </tr>\n",
       "    <tr>\n",
       "      <th>3158</th>\n",
       "      <td>../input/hubmap-tiled-data-generation/tiled_da...</td>\n",
       "      <td>../input/hubmap-tiled-data-generation/tiled_da...</td>\n",
       "    </tr>\n",
       "  </tbody>\n",
       "</table>\n",
       "<p>3159 rows × 2 columns</p>\n",
       "</div>"
      ],
      "text/plain": [
       "                                               img_path  \\\n",
       "0     ../input/hubmap-tiled-data-generation/tiled_da...   \n",
       "1     ../input/hubmap-tiled-data-generation/tiled_da...   \n",
       "2     ../input/hubmap-tiled-data-generation/tiled_da...   \n",
       "3     ../input/hubmap-tiled-data-generation/tiled_da...   \n",
       "4     ../input/hubmap-tiled-data-generation/tiled_da...   \n",
       "...                                                 ...   \n",
       "3154  ../input/hubmap-tiled-data-generation/tiled_da...   \n",
       "3155  ../input/hubmap-tiled-data-generation/tiled_da...   \n",
       "3156  ../input/hubmap-tiled-data-generation/tiled_da...   \n",
       "3157  ../input/hubmap-tiled-data-generation/tiled_da...   \n",
       "3158  ../input/hubmap-tiled-data-generation/tiled_da...   \n",
       "\n",
       "                                              mask_path  \n",
       "0     ../input/hubmap-tiled-data-generation/tiled_da...  \n",
       "1     ../input/hubmap-tiled-data-generation/tiled_da...  \n",
       "2     ../input/hubmap-tiled-data-generation/tiled_da...  \n",
       "3     ../input/hubmap-tiled-data-generation/tiled_da...  \n",
       "4     ../input/hubmap-tiled-data-generation/tiled_da...  \n",
       "...                                                 ...  \n",
       "3154  ../input/hubmap-tiled-data-generation/tiled_da...  \n",
       "3155  ../input/hubmap-tiled-data-generation/tiled_da...  \n",
       "3156  ../input/hubmap-tiled-data-generation/tiled_da...  \n",
       "3157  ../input/hubmap-tiled-data-generation/tiled_da...  \n",
       "3158  ../input/hubmap-tiled-data-generation/tiled_da...  \n",
       "\n",
       "[3159 rows x 2 columns]"
      ]
     },
     "metadata": {},
     "output_type": "display_data"
    }
   ],
   "source": [
    "# !ls ../input/hubmap-tiled-data-generation/tiled_data\n",
    "DATA_DIR = \"../input/hubmap-tiled-data-generation/tiled_data/\"\n",
    "\n",
    "img_list = [os .path.join(DATA_DIR+'images',i) for i in os.listdir(DATA_DIR+\"images\")]\n",
    "mask_list = [os .path.join(DATA_DIR+'masks',i) for i in os.listdir(DATA_DIR+\"masks\")]\n",
    "\n",
    "data_dict = {\n",
    "    \"img_path\": img_list,\n",
    "    \"mask_path\": mask_list\n",
    "}\n",
    "\n",
    "train_df = pd.DataFrame.from_dict(data_dict)\n",
    "display(train_df)\n",
    "# plt.imshow(plt.imread(mask_list[3]))\n",
    "# img_list[0:5],mask_list[0:5]"
   ]
  },
  {
   "cell_type": "code",
   "execution_count": 8,
   "id": "4f5c568f",
   "metadata": {
    "execution": {
     "iopub.execute_input": "2022-07-30T20:29:07.210161Z",
     "iopub.status.busy": "2022-07-30T20:29:07.209790Z",
     "iopub.status.idle": "2022-07-30T20:29:08.163390Z",
     "shell.execute_reply": "2022-07-30T20:29:08.162456Z"
    },
    "papermill": {
     "duration": 0.981045,
     "end_time": "2022-07-30T20:29:08.165838",
     "exception": false,
     "start_time": "2022-07-30T20:29:07.184793",
     "status": "completed"
    },
    "tags": []
   },
   "outputs": [
    {
     "data": {
      "text/plain": [
       "(2527, 632)"
      ]
     },
     "execution_count": 8,
     "metadata": {},
     "output_type": "execute_result"
    }
   ],
   "source": [
    "train_df, test_df = train_test_split(train_df, test_size=0.2, random_state=CONFIG[\"SEED\"])\n",
    "\n",
    "train_df.__len__(), len(test_df)"
   ]
  },
  {
   "cell_type": "code",
   "execution_count": 9,
   "id": "e5325c61",
   "metadata": {
    "execution": {
     "iopub.execute_input": "2022-07-30T20:29:08.194952Z",
     "iopub.status.busy": "2022-07-30T20:29:08.193476Z",
     "iopub.status.idle": "2022-07-30T20:29:09.030459Z",
     "shell.execute_reply": "2022-07-30T20:29:09.029311Z"
    },
    "papermill": {
     "duration": 0.854036,
     "end_time": "2022-07-30T20:29:09.033357",
     "exception": false,
     "start_time": "2022-07-30T20:29:08.179321",
     "status": "completed"
    },
    "tags": []
   },
   "outputs": [],
   "source": [
    "# %timeit img_temp = plt.imread(train_df[\"mask_path\"].iloc[0])"
   ]
  },
  {
   "cell_type": "markdown",
   "id": "7042cf11",
   "metadata": {
    "papermill": {
     "duration": 0.015608,
     "end_time": "2022-07-30T20:29:09.062497",
     "exception": false,
     "start_time": "2022-07-30T20:29:09.046889",
     "status": "completed"
    },
    "tags": []
   },
   "source": [
    "# Pytorch Data Class:"
   ]
  },
  {
   "cell_type": "code",
   "execution_count": 10,
   "id": "b5aa08e5",
   "metadata": {
    "execution": {
     "iopub.execute_input": "2022-07-30T20:29:09.093262Z",
     "iopub.status.busy": "2022-07-30T20:29:09.092838Z",
     "iopub.status.idle": "2022-07-30T20:29:10.014349Z",
     "shell.execute_reply": "2022-07-30T20:29:10.013463Z"
    },
    "papermill": {
     "duration": 0.939953,
     "end_time": "2022-07-30T20:29:10.016595",
     "exception": false,
     "start_time": "2022-07-30T20:29:09.076642",
     "status": "completed"
    },
    "tags": []
   },
   "outputs": [],
   "source": [
    "mean = np.array([0.7720342, 0.74582646, 0.76392896])\n",
    "std = np.array([0.24745085, 0.26182273, 0.25782376])\n",
    "\n",
    "\n",
    "def img2tensor(img,dtype:np.dtype=np.float32):\n",
    "    if img.ndim==2 : img = np.expand_dims(img,2)\n",
    "    img = np.transpose(img,(2,0,1))\n",
    "    return torch.from_numpy(img.astype(dtype, copy=False))\n",
    "\n",
    "\n",
    "\n",
    "class hubmap_data(Dataset):\n",
    "    def __init__(self, df, transform=None):\n",
    "        self.df = df\n",
    "        self.img_paths = df[\"img_path\"].to_numpy()\n",
    "        self.mask_paths = df[\"mask_path\"].to_numpy()\n",
    "        self.transform = transform\n",
    "        \n",
    "        \n",
    "    def __getitem__(self, index):\n",
    "        # load data from the pre-processed npy files\n",
    "        img_file = self.img_paths[index]\n",
    "#         print(img_file)\n",
    "        mask_file = self.mask_paths[index]\n",
    "        img = plt.imread(img_file)#cv2.cvtColor(cv2.imread(img_file), cv2.COLOR_BGR2RGB)\n",
    "#         img = imread(img_file) #np.moveaxis(imread(img_file), -1, 0) #torch.from_numpy(np.moveaxis(imread(img_file), -1, 0))\n",
    "        # semantic = torch.from_numpy(np.load(self.data_path + '/label/{:d}.npy'.format(index)))\n",
    "#         mask = torch.from_numpy(np.moveaxis(np.load(mask_file), -1, 0))\n",
    "        mask = plt.imread(mask_file) #np.moveaxis(np.load(mask_file), -1, 0) #torch.from_numpy(np.moveaxis(np.load(mask_file), -1, 0))\n",
    "        \n",
    "        \n",
    "#       print(depth.shape)\n",
    "        if self.transform is not None:\n",
    "            transformed = self.transform(image=img, mask=mask)\n",
    "            img = transformed[\"image\"]\n",
    "            mask = transformed[\"mask\"]\n",
    "\n",
    "            if mask.shape[-1] == 1:\n",
    "                mask = mask.permute(2,0,1)\n",
    "                \n",
    "                \n",
    "        return  img2tensor(img),img2tensor(mask)\n",
    "\n",
    "    def __len__(self):\n",
    "        return len(self.df)"
   ]
  },
  {
   "cell_type": "code",
   "execution_count": 11,
   "id": "d9893f45",
   "metadata": {
    "execution": {
     "iopub.execute_input": "2022-07-30T20:29:10.048337Z",
     "iopub.status.busy": "2022-07-30T20:29:10.047923Z",
     "iopub.status.idle": "2022-07-30T20:29:10.883342Z",
     "shell.execute_reply": "2022-07-30T20:29:10.882420Z"
    },
    "papermill": {
     "duration": 0.855402,
     "end_time": "2022-07-30T20:29:10.885696",
     "exception": false,
     "start_time": "2022-07-30T20:29:10.030294",
     "status": "completed"
    },
    "tags": []
   },
   "outputs": [],
   "source": [
    "train_transform = A.Compose(\n",
    "    [\n",
    "        A.Resize(256, 256, p=1.0),\n",
    "#         A.HorizontalFlip(p=1.0),\n",
    "#         A.RandomCrop(224, 224, p=0.3),\n",
    "#         A.RandomSizedCrop(cfg[\"min_max_height\"], cfg[\"height\"], cfg[\"width\"], cfg[\"w2h_ratio\"], cfg[\"interpolation\"], p=1), \n",
    "#         ToTensorV2(),\n",
    "    ]\n",
    ")\n",
    "\n",
    "test_transform = A.Compose(\n",
    "    [\n",
    "        A.Resize(256, 256, p=1.0),\n",
    "        ToTensorV2(),\n",
    "    ]\n",
    ")"
   ]
  },
  {
   "cell_type": "code",
   "execution_count": 12,
   "id": "38825d5a",
   "metadata": {
    "execution": {
     "iopub.execute_input": "2022-07-30T20:29:10.916993Z",
     "iopub.status.busy": "2022-07-30T20:29:10.916720Z",
     "iopub.status.idle": "2022-07-30T20:29:11.945840Z",
     "shell.execute_reply": "2022-07-30T20:29:11.944946Z"
    },
    "papermill": {
     "duration": 1.050408,
     "end_time": "2022-07-30T20:29:11.949763",
     "exception": false,
     "start_time": "2022-07-30T20:29:10.899355",
     "status": "completed"
    },
    "tags": []
   },
   "outputs": [
    {
     "name": "stdout",
     "output_type": "stream",
     "text": [
      "torch.Size([3, 256, 256]) torch.Size([1, 256, 256])\n"
     ]
    }
   ],
   "source": [
    "train_data = hubmap_data(train_df,train_transform)\n",
    "test_data = hubmap_data(test_df, train_transform) # CHANGED [change the augmentation method]\n",
    "\n",
    "print(train_data[10][0].shape, train_data[10][1].shape)\n",
    "# test_data[10][0].shape, test_data[10][1].shape"
   ]
  },
  {
   "cell_type": "code",
   "execution_count": 13,
   "id": "9e70c191",
   "metadata": {
    "execution": {
     "iopub.execute_input": "2022-07-30T20:29:11.977960Z",
     "iopub.status.busy": "2022-07-30T20:29:11.977672Z",
     "iopub.status.idle": "2022-07-30T20:29:13.285954Z",
     "shell.execute_reply": "2022-07-30T20:29:13.285033Z"
    },
    "papermill": {
     "duration": 1.324777,
     "end_time": "2022-07-30T20:29:13.288294",
     "exception": false,
     "start_time": "2022-07-30T20:29:11.963517",
     "status": "completed"
    },
    "tags": []
   },
   "outputs": [
    {
     "data": {
      "text/plain": [
       "<matplotlib.image.AxesImage at 0x7f5a300daf50>"
      ]
     },
     "execution_count": 13,
     "metadata": {},
     "output_type": "execute_result"
    },
    {
     "data": {
      "image/png": "[encoded data removed]",
      "text/plain": [
       "<Figure size 720x576 with 2 Axes>"
      ]
     },
     "metadata": {
      "needs_background": "light"
     },
     "output_type": "display_data"
    }
   ],
   "source": [
    "temp_img = train_data[50][0]\n",
    "temp_mask = train_data[50][1]\n",
    "# plt.imshow(temp_mask.detach().numpy())\n",
    "# plt.imshow(temp_img.permute(1,2,0).detach().numpy())\n",
    "\n",
    "\n",
    "img_trfm = (temp_img.permute(1,2,0)).detach().numpy()\n",
    "mask_trfm = (temp_mask.permute(1,2,0)).detach().numpy()\n",
    "\n",
    "plt.figure(figsize=(10,8))\n",
    "plt.subplot(1,2,1)\n",
    "plt.imshow(img_trfm)\n",
    "\n",
    "\n",
    "plt.subplot(1,2,2)\n",
    "plt.imshow(mask_trfm)\n",
    "\n",
    "# temp_img.permute(1,2,0).detach().numpy()"
   ]
  },
  {
   "cell_type": "markdown",
   "id": "68e0f09d",
   "metadata": {
    "papermill": {
     "duration": 0.015969,
     "end_time": "2022-07-30T20:29:13.323699",
     "exception": false,
     "start_time": "2022-07-30T20:29:13.307730",
     "status": "completed"
    },
    "tags": []
   },
   "source": [
    "# Unet Model:"
   ]
  },
  {
   "cell_type": "code",
   "execution_count": 14,
   "id": "4a62f23d",
   "metadata": {
    "execution": {
     "iopub.execute_input": "2022-07-30T20:29:13.361293Z",
     "iopub.status.busy": "2022-07-30T20:29:13.360973Z",
     "iopub.status.idle": "2022-07-30T20:29:14.170590Z",
     "shell.execute_reply": "2022-07-30T20:29:14.169673Z"
    },
    "papermill": {
     "duration": 0.833178,
     "end_time": "2022-07-30T20:29:14.172979",
     "exception": false,
     "start_time": "2022-07-30T20:29:13.339801",
     "status": "completed"
    },
    "tags": []
   },
   "outputs": [],
   "source": [
    "def init_model():\n",
    "    model =  smp.Unet(\n",
    "                 encoder_name='efficientnet-b4',\n",
    "                 encoder_weights='imagenet',\n",
    "                 in_channels=3,\n",
    "                 classes=1)\n",
    "    return model"
   ]
  },
  {
   "cell_type": "markdown",
   "id": "e5a8f8ee",
   "metadata": {
    "papermill": {
     "duration": 0.015711,
     "end_time": "2022-07-30T20:29:14.208210",
     "exception": false,
     "start_time": "2022-07-30T20:29:14.192499",
     "status": "completed"
    },
    "tags": []
   },
   "source": [
    "# Model check:"
   ]
  },
  {
   "cell_type": "code",
   "execution_count": 15,
   "id": "d601683c",
   "metadata": {
    "execution": {
     "iopub.execute_input": "2022-07-30T20:29:14.241443Z",
     "iopub.status.busy": "2022-07-30T20:29:14.241096Z",
     "iopub.status.idle": "2022-07-30T20:29:26.673813Z",
     "shell.execute_reply": "2022-07-30T20:29:26.672753Z"
    },
    "papermill": {
     "duration": 12.452769,
     "end_time": "2022-07-30T20:29:26.676956",
     "exception": false,
     "start_time": "2022-07-30T20:29:14.224187",
     "status": "completed"
    },
    "tags": []
   },
   "outputs": [
    {
     "name": "stderr",
     "output_type": "stream",
     "text": [
      "Downloading: \"https://github.com/lukemelas/EfficientNet-PyTorch/releases/download/1.0/efficientnet-b4-6ed6700e.pth\" to /root/.cache/torch/hub/checkpoints/efficientnet-b4-6ed6700e.pth\n"
     ]
    },
    {
     "data": {
      "application/vnd.jupyter.widget-view+json": {
       "model_id": "d3593a645af34771b14184fc6ea6d5e2",
       "version_major": 2,
       "version_minor": 0
      },
      "text/plain": [
       "  0%|          | 0.00/74.4M [00:00<?, ?B/s]"
      ]
     },
     "metadata": {},
     "output_type": "display_data"
    },
    {
     "data": {
      "text/plain": [
       "torch.Size([1, 1, 256, 256])"
      ]
     },
     "execution_count": 15,
     "metadata": {},
     "output_type": "execute_result"
    }
   ],
   "source": [
    "train_on_gpu = torch.cuda.is_available()\n",
    "model = init_model() #UNet(n_channels=CONFIG[\"in_channels\"], n_classes=CONFIG[\"num_classes\"])\n",
    "if train_on_gpu:\n",
    "    model.cuda()\n",
    "\n",
    "model(temp_img.unsqueeze(0).cuda()).shape"
   ]
  },
  {
   "cell_type": "markdown",
   "id": "b381b889",
   "metadata": {
    "papermill": {
     "duration": 0.016683,
     "end_time": "2022-07-30T20:29:26.711000",
     "exception": false,
     "start_time": "2022-07-30T20:29:26.694317",
     "status": "completed"
    },
    "tags": []
   },
   "source": [
    "# DataLoader"
   ]
  },
  {
   "cell_type": "code",
   "execution_count": 16,
   "id": "6572666b",
   "metadata": {
    "execution": {
     "iopub.execute_input": "2022-07-30T20:29:26.752789Z",
     "iopub.status.busy": "2022-07-30T20:29:26.752496Z",
     "iopub.status.idle": "2022-07-30T20:29:27.619072Z",
     "shell.execute_reply": "2022-07-30T20:29:27.618159Z"
    },
    "papermill": {
     "duration": 0.891222,
     "end_time": "2022-07-30T20:29:27.621380",
     "exception": false,
     "start_time": "2022-07-30T20:29:26.730158",
     "status": "completed"
    },
    "tags": []
   },
   "outputs": [],
   "source": [
    "# REMARK shuffle = False [result might change with shuffle =True]\n",
    "train_loader = torch.utils.data.DataLoader(\n",
    "               dataset=train_data,\n",
    "               batch_size=CONFIG[\"BATCH_SIZE\"],\n",
    "               shuffle=False,\n",
    "               num_workers=2)\n",
    "\n",
    "test_loader = torch.utils.data.DataLoader(\n",
    "              dataset=test_data,\n",
    "              batch_size=CONFIG[\"BATCH_SIZE\"],\n",
    "              shuffle=False,\n",
    "              num_workers=2)"
   ]
  },
  {
   "cell_type": "code",
   "execution_count": 17,
   "id": "4ede2ed6",
   "metadata": {
    "execution": {
     "iopub.execute_input": "2022-07-30T20:29:27.656127Z",
     "iopub.status.busy": "2022-07-30T20:29:27.655203Z",
     "iopub.status.idle": "2022-07-30T20:29:28.562920Z",
     "shell.execute_reply": "2022-07-30T20:29:28.561664Z"
    },
    "papermill": {
     "duration": 0.927387,
     "end_time": "2022-07-30T20:29:28.565444",
     "exception": false,
     "start_time": "2022-07-30T20:29:27.638057",
     "status": "completed"
    },
    "tags": []
   },
   "outputs": [],
   "source": [
    "def get_scheduler(optimizer):\n",
    "    num_steps = 12\n",
    "    \n",
    "#     if len(train_df[train_df['fold'] == CONFIG[\"folds_to_run\"][0]]) % CONFIG[\"BATCH_SIZE\"] != 0:\n",
    "#         num_steps = len(train_df[train_df['fold'] != CONFIG[\"folds_to_run\"][0]]) // CONFIG[\"BATCH_SIZE\"] + 1\n",
    "    \n",
    "#     else:\n",
    "#         len(train_df[train_df['fold'] != CONFIG[\"folds_to_run\"][0]]) // CONFIG[\"BATCH_SIZE\"]\n",
    "    \n",
    "    if CONFIG[\"scheduler\"] == 'CosineAnnealingLR':\n",
    "        scheduler = lr_scheduler.CosineAnnealingLR(optimizer,T_max=CONFIG['T_max'], \n",
    "                                                   eta_min=CONFIG['min_lr'])\n",
    "#         scheduler = transformers.get_cosine_schedule_with_warmup(optimizer, CONFIG[\"warmup_epochs\"] * num_steps, CONFIG[\"NUM_EPOCHS\"] * num_steps)\n",
    "        \n",
    "    elif CONFIG[\"scheduler\"] == 'ReduceLROnPlateau':\n",
    "        scheduler = lr_scheduler.ReduceLROnPlateau(optimizer, mode='min', factor=0.1, patience=7, threshold=0.0001, min_lr=1e-6)\n",
    "    elif CONFIG[\"scheduler\"] == 'ExponentialLR':\n",
    "        scheduler = lr_scheduler.ExponentialLR(optimizer, gamma=0.85)\n",
    "    elif CONFIG['scheduler'] == 'CosineAnnealingWarmRestarts':\n",
    "        scheduler = lr_scheduler.CosineAnnealingWarmRestarts(optimizer,T_0=CONFIG['T_0'], \n",
    "                                                             eta_min=CONFIG['min_lr'])\n",
    "        \n",
    "    return scheduler"
   ]
  },
  {
   "cell_type": "markdown",
   "id": "ca63179a",
   "metadata": {
    "papermill": {
     "duration": 0.022533,
     "end_time": "2022-07-30T20:29:28.608811",
     "exception": false,
     "start_time": "2022-07-30T20:29:28.586278",
     "status": "completed"
    },
    "tags": []
   },
   "source": [
    "# Loss, Optimizer & Metric:"
   ]
  },
  {
   "cell_type": "code",
   "execution_count": 18,
   "id": "bd682391",
   "metadata": {
    "execution": {
     "iopub.execute_input": "2022-07-30T20:29:28.647421Z",
     "iopub.status.busy": "2022-07-30T20:29:28.646883Z",
     "iopub.status.idle": "2022-07-30T20:29:29.543972Z",
     "shell.execute_reply": "2022-07-30T20:29:29.543067Z"
    },
    "papermill": {
     "duration": 0.91708,
     "end_time": "2022-07-30T20:29:29.546452",
     "exception": false,
     "start_time": "2022-07-30T20:29:28.629372",
     "status": "completed"
    },
    "tags": []
   },
   "outputs": [],
   "source": [
    "#PyTorch\n",
    "class DiceLoss(nn.Module):\n",
    "    def __init__(self, weight=None, size_average=True):\n",
    "        super(DiceLoss, self).__init__()\n",
    "\n",
    "    def forward(self, inputs, targets, smooth=1):\n",
    "        \n",
    "        #comment out if your model contains a sigmoid or equivalent activation layer\n",
    "        inputs = F.sigmoid(inputs)       \n",
    "        \n",
    "        #flatten label and prediction tensors\n",
    "        inputs = inputs.view(-1)\n",
    "        targets = targets.view(-1)\n",
    "        \n",
    "        intersection = (inputs * targets).sum()                            \n",
    "        dice = (2.*intersection + smooth)/(inputs.sum() + targets.sum() + smooth)  \n",
    "        \n",
    "        return 1 - dice\n",
    "\n",
    "loss_fn = DiceLoss() #Dice()\n",
    "optimizer = optim.Adam(model.parameters(), lr=CONFIG[\"LEARNING_RATE\"],weight_decay=1e-5)"
   ]
  },
  {
   "cell_type": "code",
   "execution_count": 19,
   "id": "143a3591",
   "metadata": {
    "execution": {
     "iopub.execute_input": "2022-07-30T20:29:29.617418Z",
     "iopub.status.busy": "2022-07-30T20:29:29.616821Z",
     "iopub.status.idle": "2022-07-30T20:29:30.490366Z",
     "shell.execute_reply": "2022-07-30T20:29:30.489447Z"
    },
    "papermill": {
     "duration": 0.908146,
     "end_time": "2022-07-30T20:29:30.493253",
     "exception": false,
     "start_time": "2022-07-30T20:29:29.585107",
     "status": "completed"
    },
    "tags": []
   },
   "outputs": [],
   "source": [
    "class DiceCoef(nn.Module):\n",
    "    def __init__(self, weight=None, size_average=True):\n",
    "        super().__init__()\n",
    "\n",
    "    def forward(self, y_pred, y_true, smooth=1.):\n",
    "        y_true = y_true.view(-1)\n",
    "        y_pred = y_pred.view(-1)\n",
    "        \n",
    "        #Round off y_pred\n",
    "        y_pred = torch.round((y_pred - y_pred.min()) / (y_pred.max() - y_pred.min()))\n",
    "        \n",
    "        intersection = (y_true * y_pred).sum()\n",
    "        dice = (2.0*intersection + smooth)/(y_true.sum() + y_pred.sum() + smooth)\n",
    "        \n",
    "        return dice\n",
    "\n",
    "def dice_coef(y_true, y_pred, thr=0.5, dim=(2,3), epsilon=0.001):\n",
    "    y_true = y_true.to(torch.float32)\n",
    "    y_pred = (y_pred>thr).to(torch.float32)\n",
    "    inter = (y_true*y_pred).sum(dim=dim)\n",
    "    den = y_true.sum(dim=dim) + y_pred.sum(dim=dim)\n",
    "    dice = ((2*inter+epsilon)/(den+epsilon)).mean(dim=(1,0))\n",
    "    return dice\n",
    "\n",
    "def iou_coef(y_true, y_pred, thr=0.5, dim=(2,3), epsilon=0.001):\n",
    "    y_true = y_true.to(torch.float32)\n",
    "    y_pred = (y_pred>thr).to(torch.float32)\n",
    "    inter = (y_true*y_pred).sum(dim=dim)\n",
    "    union = (y_true + y_pred - y_true*y_pred).sum(dim=dim)\n",
    "    iou = ((inter+epsilon)/(union+epsilon)).mean(dim=(1,0))\n",
    "    return iou\n",
    "\n",
    "dice_coe = DiceCoef()"
   ]
  },
  {
   "cell_type": "markdown",
   "id": "c2ce7fb4",
   "metadata": {
    "papermill": {
     "duration": 0.016045,
     "end_time": "2022-07-30T20:29:30.530213",
     "exception": false,
     "start_time": "2022-07-30T20:29:30.514168",
     "status": "completed"
    },
    "tags": []
   },
   "source": [
    "# model save class:"
   ]
  },
  {
   "cell_type": "code",
   "execution_count": 20,
   "id": "3fcc2cd6",
   "metadata": {
    "execution": {
     "iopub.execute_input": "2022-07-30T20:29:30.567421Z",
     "iopub.status.busy": "2022-07-30T20:29:30.566917Z",
     "iopub.status.idle": "2022-07-30T20:29:31.405487Z",
     "shell.execute_reply": "2022-07-30T20:29:31.404584Z"
    },
    "papermill": {
     "duration": 0.86143,
     "end_time": "2022-07-30T20:29:31.407759",
     "exception": false,
     "start_time": "2022-07-30T20:29:30.546329",
     "status": "completed"
    },
    "tags": []
   },
   "outputs": [],
   "source": [
    "model_path = \"./model_weights\"\n",
    "if not os.path.exists(model_path):\n",
    "    os.makedirs(model_path)\n",
    "    \n",
    "def save_model(model, optimizer, criterion, epoch):\n",
    "    \"\"\"\n",
    "    Function to save the trained model to disk.\n",
    "    \"\"\"\n",
    "    print(f\"\\n Saving model at {epoch}th epoch\")\n",
    "    fname = f'{model_path}/{CONFIG[\"model_name\"]}-{CONFIG[\"LEARNING_RATE\"]}-{CONFIG[\"AUG\"]}-{epoch}-{CONFIG[\"BATCH_SIZE\"]}.pth'\n",
    "    torch.save({\n",
    "                'epoch': epoch,\n",
    "                'model_state_dict': model.state_dict(),\n",
    "                'optimizer_state_dict': optimizer.state_dict(),\n",
    "                'loss': criterion,\n",
    "                }, fname )\n",
    "    return fname"
   ]
  },
  {
   "cell_type": "markdown",
   "id": "b6105680",
   "metadata": {
    "papermill": {
     "duration": 0.017868,
     "end_time": "2022-07-30T20:29:31.442325",
     "exception": false,
     "start_time": "2022-07-30T20:29:31.424457",
     "status": "completed"
    },
    "tags": []
   },
   "source": [
    "## Train & Validation Function:"
   ]
  },
  {
   "cell_type": "code",
   "execution_count": 21,
   "id": "efd29d5b",
   "metadata": {
    "execution": {
     "iopub.execute_input": "2022-07-30T20:29:31.481629Z",
     "iopub.status.busy": "2022-07-30T20:29:31.481317Z",
     "iopub.status.idle": "2022-07-30T20:29:32.309586Z",
     "shell.execute_reply": "2022-07-30T20:29:32.308643Z"
    },
    "papermill": {
     "duration": 0.848019,
     "end_time": "2022-07-30T20:29:32.311881",
     "exception": false,
     "start_time": "2022-07-30T20:29:31.463862",
     "status": "completed"
    },
    "tags": []
   },
   "outputs": [],
   "source": [
    "# https://www.kaggle.com/code/debarshichanda/pytorch-w-b-birdclef-22-starter#Training-Function\n",
    "def train_fn(loader, model, optimizer, loss_fn,epoch, scheduler):\n",
    "    bar = tqdm(enumerate(loader), total=len(loader))\n",
    "    \n",
    "    \n",
    "    running_loss = 0.0\n",
    "    dataset_size = 0\n",
    "    \n",
    "    for batch_idx, (data, targets) in bar:\n",
    "        data = data.to(device=CONFIG[\"DEVICE\"])\n",
    "        targets = targets.float().to(device=CONFIG[\"DEVICE\"])\n",
    "\n",
    "        # forward\n",
    "        predictions = model(data)\n",
    "        loss = loss_fn(predictions, targets)\n",
    "\n",
    "        \n",
    "        optimizer.zero_grad()\n",
    "        # backward\n",
    "        loss.backward()\n",
    "        # Update Weights\n",
    "        optimizer.step()\n",
    "        \n",
    "        if scheduler is not None:\n",
    "            scheduler.step()\n",
    "            \n",
    "        # Calculate Loss\n",
    "        running_loss += loss.item()\n",
    "        \n",
    "        epoch_loss = running_loss / len(loader)\n",
    "#         running_loss += (loss.item() * BATCH_SIZE)\n",
    "#         dataset_size += BATCH_SIZE\n",
    "        \n",
    "#         epoch_loss = running_loss / dataset_size\n",
    "        # update tqdm loop\n",
    "        bar.set_postfix(Epoch=epoch,loss=epoch_loss)\n",
    "    \n",
    "        \n",
    "    gc.collect()\n",
    "    \n",
    "    return epoch_loss"
   ]
  },
  {
   "cell_type": "code",
   "execution_count": 22,
   "id": "b4d5c306",
   "metadata": {
    "execution": {
     "iopub.execute_input": "2022-07-30T20:29:32.350639Z",
     "iopub.status.busy": "2022-07-30T20:29:32.350352Z",
     "iopub.status.idle": "2022-07-30T20:29:33.175016Z",
     "shell.execute_reply": "2022-07-30T20:29:33.174086Z"
    },
    "papermill": {
     "duration": 0.847661,
     "end_time": "2022-07-30T20:29:33.177377",
     "exception": false,
     "start_time": "2022-07-30T20:29:32.329716",
     "status": "completed"
    },
    "tags": []
   },
   "outputs": [],
   "source": [
    "@torch.no_grad()\n",
    "def valid_one_epoch(model, dataloader, device, epoch):\n",
    "    model.eval()\n",
    "    \n",
    "    dataset_size = 0\n",
    "    running_loss = 0.0\n",
    "#     criterion = losses[CFG.loss]\n",
    "    \n",
    "    val_scores = []\n",
    "    \n",
    "    pbar = tqdm(enumerate(dataloader), total=len(dataloader))\n",
    "    for step, (images, masks) in pbar:\n",
    "        images  = images.to(CONFIG[\"DEVICE\"], dtype=torch.float)\n",
    "        masks   = masks.to(CONFIG[\"DEVICE\"], dtype=torch.float)\n",
    "        \n",
    "        \n",
    "        y_pred  = model(images)\n",
    "        loss    = loss_fn(y_pred, masks)\n",
    "        \n",
    "        running_loss += (loss.item() * CONFIG[\"BATCH_SIZE\"])\n",
    "        dataset_size += CONFIG[\"BATCH_SIZE\"]\n",
    "        \n",
    "        epoch_loss = running_loss / dataset_size\n",
    "        \n",
    "        y_pred = nn.Sigmoid()(y_pred)\n",
    "        val_dice = dice_coef(masks, y_pred).cpu().detach().numpy()\n",
    "        val_jaccard = iou_coef(masks, y_pred).cpu().detach().numpy()\n",
    "        val_scores.append([val_dice, val_jaccard])\n",
    "        \n",
    "        mem = torch.cuda.memory_reserved() / 1E9 if torch.cuda.is_available() else 0\n",
    "        current_lr = optimizer.param_groups[0]['lr']\n",
    "        pbar.set_postfix(valid_loss=f'{epoch_loss:0.4f}',\n",
    "                        lr=f'{current_lr:0.5f}',\n",
    "                        gpu_memory=f'{mem:0.2f} GB')\n",
    "    val_scores  = np.mean(val_scores, axis=0)\n",
    "    torch.cuda.empty_cache()\n",
    "    gc.collect()\n",
    "    \n",
    "    return epoch_loss, val_scores"
   ]
  },
  {
   "cell_type": "markdown",
   "id": "ea86f3ad",
   "metadata": {
    "papermill": {
     "duration": 0.016077,
     "end_time": "2022-07-30T20:29:33.210107",
     "exception": false,
     "start_time": "2022-07-30T20:29:33.194030",
     "status": "completed"
    },
    "tags": []
   },
   "source": [
    "# Train loop:"
   ]
  },
  {
   "cell_type": "code",
   "execution_count": 23,
   "id": "3a3d5336",
   "metadata": {
    "execution": {
     "iopub.execute_input": "2022-07-30T20:29:33.252336Z",
     "iopub.status.busy": "2022-07-30T20:29:33.251955Z",
     "iopub.status.idle": "2022-07-30T23:07:21.385188Z",
     "shell.execute_reply": "2022-07-30T23:07:21.384163Z"
    },
    "papermill": {
     "duration": 9468.15426,
     "end_time": "2022-07-30T23:07:21.388453",
     "exception": false,
     "start_time": "2022-07-30T20:29:33.234193",
     "status": "completed"
    },
    "tags": []
   },
   "outputs": [
    {
     "name": "stdout",
     "output_type": "stream",
     "text": [
      "\u001b[0m===================== Epoch: [1/50] =====================\n"
     ]
    },
    {
     "name": "stderr",
     "output_type": "stream",
     "text": [
      "100%|██████████| 316/316 [02:50<00:00,  1.85it/s, Epoch=1, loss=0.995]\n",
      "100%|██████████| 79/79 [00:31<00:00,  2.52it/s, gpu_memory=3.46 GB, lr=0.00003, valid_loss=0.9935]\n"
     ]
    },
    {
     "name": "stdout",
     "output_type": "stream",
     "text": [
      "\n",
      " Saving model at 1th epoch\n",
      "\n",
      " Final Train Loss: 0.9952  |  Final Val Loss: 0.9935\n",
      "Valid Dice: 0.0777 | Valid Jaccard: 0.0745\n",
      "\u001b[34mval dice increased: -inf ---> 0.07765168696641922\n",
      "\u001b[34mval jaccard increased: -inf ---> 0.07450051605701447\n",
      "\u001b[0m===================== Epoch: [2/50] =====================\n"
     ]
    },
    {
     "name": "stderr",
     "output_type": "stream",
     "text": [
      "100%|██████████| 316/316 [02:38<00:00,  2.00it/s, Epoch=2, loss=0.973]\n",
      "100%|██████████| 79/79 [00:27<00:00,  2.90it/s, gpu_memory=3.61 GB, lr=0.00002, valid_loss=0.9708]\n"
     ]
    },
    {
     "name": "stdout",
     "output_type": "stream",
     "text": [
      "\n",
      " Saving model at 2th epoch\n",
      "\n",
      " Final Train Loss: 0.9733  |  Final Val Loss: 0.9708\n",
      "Valid Dice: 0.3660 | Valid Jaccard: 0.3628\n",
      "\u001b[34mval dice increased: 0.07765168696641922 ---> 0.3659840226173401\n",
      "\u001b[34mval jaccard increased: 0.07450051605701447 ---> 0.36277449131011963\n",
      "\u001b[0m===================== Epoch: [3/50] =====================\n"
     ]
    },
    {
     "name": "stderr",
     "output_type": "stream",
     "text": [
      "100%|██████████| 316/316 [02:36<00:00,  2.02it/s, Epoch=3, loss=0.972]\n",
      "100%|██████████| 79/79 [00:27<00:00,  2.91it/s, gpu_memory=3.61 GB, lr=0.00010, valid_loss=0.9659]\n"
     ]
    },
    {
     "name": "stdout",
     "output_type": "stream",
     "text": [
      "\n",
      " Saving model at 3th epoch\n",
      "\n",
      " Final Train Loss: 0.9723  |  Final Val Loss: 0.9659\n",
      "Valid Dice: 0.3651 | Valid Jaccard: 0.3623\n",
      "\u001b[0m===================== Epoch: [4/50] =====================\n"
     ]
    },
    {
     "name": "stderr",
     "output_type": "stream",
     "text": [
      "100%|██████████| 316/316 [02:34<00:00,  2.04it/s, Epoch=4, loss=0.971]\n",
      "100%|██████████| 79/79 [00:26<00:00,  2.94it/s, gpu_memory=3.61 GB, lr=0.00005, valid_loss=0.9711]\n"
     ]
    },
    {
     "name": "stdout",
     "output_type": "stream",
     "text": [
      "\n",
      " Saving model at 4th epoch\n",
      "\n",
      " Final Train Loss: 0.9711  |  Final Val Loss: 0.9711\n",
      "Valid Dice: 0.3539 | Valid Jaccard: 0.3504\n",
      "\u001b[0m===================== Epoch: [5/50] =====================\n"
     ]
    },
    {
     "name": "stderr",
     "output_type": "stream",
     "text": [
      "100%|██████████| 316/316 [02:36<00:00,  2.01it/s, Epoch=5, loss=0.969]\n",
      "100%|██████████| 79/79 [00:27<00:00,  2.88it/s, gpu_memory=3.61 GB, lr=0.00001, valid_loss=0.9710]\n"
     ]
    },
    {
     "name": "stdout",
     "output_type": "stream",
     "text": [
      "\n",
      " Saving model at 5th epoch\n",
      "\n",
      " Final Train Loss: 0.9695  |  Final Val Loss: 0.9710\n",
      "Valid Dice: 0.3493 | Valid Jaccard: 0.3457\n",
      "\u001b[0m===================== Epoch: [6/50] =====================\n"
     ]
    },
    {
     "name": "stderr",
     "output_type": "stream",
     "text": [
      "100%|██████████| 316/316 [02:36<00:00,  2.02it/s, Epoch=6, loss=0.969]\n",
      "100%|██████████| 79/79 [00:26<00:00,  2.97it/s, gpu_memory=3.61 GB, lr=0.00009, valid_loss=0.9609]\n"
     ]
    },
    {
     "name": "stdout",
     "output_type": "stream",
     "text": [
      "\n",
      " Saving model at 6th epoch\n",
      "\n",
      " Final Train Loss: 0.9693  |  Final Val Loss: 0.9609\n",
      "Valid Dice: 0.3619 | Valid Jaccard: 0.3584\n",
      "\u001b[0m===================== Epoch: [7/50] =====================\n"
     ]
    },
    {
     "name": "stderr",
     "output_type": "stream",
     "text": [
      "100%|██████████| 316/316 [02:36<00:00,  2.02it/s, Epoch=7, loss=0.97]\n",
      "100%|██████████| 79/79 [00:26<00:00,  2.94it/s, gpu_memory=3.61 GB, lr=0.00006, valid_loss=0.9647]\n"
     ]
    },
    {
     "name": "stdout",
     "output_type": "stream",
     "text": [
      "\n",
      " Saving model at 7th epoch\n",
      "\n",
      " Final Train Loss: 0.9698  |  Final Val Loss: 0.9647\n",
      "Valid Dice: 0.3648 | Valid Jaccard: 0.3629\n",
      "\u001b[34mval jaccard increased: 0.36277449131011963 ---> 0.3629419803619385\n",
      "\u001b[0m===================== Epoch: [8/50] =====================\n"
     ]
    },
    {
     "name": "stderr",
     "output_type": "stream",
     "text": [
      "100%|██████████| 316/316 [02:36<00:00,  2.02it/s, Epoch=8, loss=0.973]\n",
      "100%|██████████| 79/79 [00:27<00:00,  2.91it/s, gpu_memory=3.61 GB, lr=0.00000, valid_loss=0.9731]\n"
     ]
    },
    {
     "name": "stdout",
     "output_type": "stream",
     "text": [
      "\n",
      " Saving model at 8th epoch\n",
      "\n",
      " Final Train Loss: 0.9727  |  Final Val Loss: 0.9731\n",
      "Valid Dice: 0.3399 | Valid Jaccard: 0.3371\n",
      "\u001b[0m===================== Epoch: [9/50] =====================\n"
     ]
    },
    {
     "name": "stderr",
     "output_type": "stream",
     "text": [
      "100%|██████████| 316/316 [02:35<00:00,  2.03it/s, Epoch=9, loss=0.97]\n",
      "100%|██████████| 79/79 [00:27<00:00,  2.86it/s, gpu_memory=3.61 GB, lr=0.00008, valid_loss=0.9602]\n"
     ]
    },
    {
     "name": "stdout",
     "output_type": "stream",
     "text": [
      "\n",
      " Saving model at 9th epoch\n",
      "\n",
      " Final Train Loss: 0.9702  |  Final Val Loss: 0.9602\n",
      "Valid Dice: 0.3569 | Valid Jaccard: 0.3535\n",
      "\u001b[0m===================== Epoch: [10/50] =====================\n"
     ]
    },
    {
     "name": "stderr",
     "output_type": "stream",
     "text": [
      "100%|██████████| 316/316 [02:36<00:00,  2.02it/s, Epoch=10, loss=0.97]\n",
      "100%|██████████| 79/79 [00:27<00:00,  2.88it/s, gpu_memory=3.61 GB, lr=0.00008, valid_loss=0.9595]\n"
     ]
    },
    {
     "name": "stdout",
     "output_type": "stream",
     "text": [
      "\n",
      " Saving model at 10th epoch\n",
      "\n",
      " Final Train Loss: 0.9701  |  Final Val Loss: 0.9595\n",
      "Valid Dice: 0.3633 | Valid Jaccard: 0.3599\n",
      "\u001b[0m===================== Epoch: [11/50] =====================\n"
     ]
    },
    {
     "name": "stderr",
     "output_type": "stream",
     "text": [
      "100%|██████████| 316/316 [02:37<00:00,  2.01it/s, Epoch=11, loss=0.969]\n",
      "100%|██████████| 79/79 [00:26<00:00,  2.93it/s, gpu_memory=3.61 GB, lr=0.00000, valid_loss=0.9594]\n"
     ]
    },
    {
     "name": "stdout",
     "output_type": "stream",
     "text": [
      "\n",
      " Saving model at 11th epoch\n",
      "\n",
      " Final Train Loss: 0.9690  |  Final Val Loss: 0.9594\n",
      "Valid Dice: 0.3614 | Valid Jaccard: 0.3581\n",
      "\u001b[0m===================== Epoch: [12/50] =====================\n"
     ]
    },
    {
     "name": "stderr",
     "output_type": "stream",
     "text": [
      "100%|██████████| 316/316 [02:37<00:00,  2.00it/s, Epoch=12, loss=0.969]\n",
      "100%|██████████| 79/79 [00:27<00:00,  2.85it/s, gpu_memory=3.61 GB, lr=0.00006, valid_loss=0.9591]\n"
     ]
    },
    {
     "name": "stdout",
     "output_type": "stream",
     "text": [
      "\n",
      " Saving model at 12th epoch\n",
      "\n",
      " Final Train Loss: 0.9689  |  Final Val Loss: 0.9591\n",
      "Valid Dice: 0.3662 | Valid Jaccard: 0.3629\n",
      "\u001b[34mval dice increased: 0.3659840226173401 ---> 0.36617040634155273\n",
      "\u001b[0m===================== Epoch: [13/50] =====================\n"
     ]
    },
    {
     "name": "stderr",
     "output_type": "stream",
     "text": [
      "100%|██████████| 316/316 [02:38<00:00,  2.00it/s, Epoch=13, loss=0.969]\n",
      "100%|██████████| 79/79 [00:27<00:00,  2.86it/s, gpu_memory=3.61 GB, lr=0.00009, valid_loss=0.9591]\n"
     ]
    },
    {
     "name": "stdout",
     "output_type": "stream",
     "text": [
      "\n",
      " Saving model at 13th epoch\n",
      "\n",
      " Final Train Loss: 0.9688  |  Final Val Loss: 0.9591\n",
      "Valid Dice: 0.3673 | Valid Jaccard: 0.3642\n",
      "\u001b[34mval dice increased: 0.36617040634155273 ---> 0.36733242869377136\n",
      "\u001b[34mval jaccard increased: 0.3629419803619385 ---> 0.36423924565315247\n",
      "\u001b[0m===================== Epoch: [14/50] =====================\n"
     ]
    },
    {
     "name": "stderr",
     "output_type": "stream",
     "text": [
      "100%|██████████| 316/316 [02:38<00:00,  1.99it/s, Epoch=14, loss=0.969]\n",
      "100%|██████████| 79/79 [00:26<00:00,  3.00it/s, gpu_memory=3.61 GB, lr=0.00001, valid_loss=0.9590]\n"
     ]
    },
    {
     "name": "stdout",
     "output_type": "stream",
     "text": [
      "\n",
      " Saving model at 14th epoch\n",
      "\n",
      " Final Train Loss: 0.9688  |  Final Val Loss: 0.9590\n",
      "Valid Dice: 0.3675 | Valid Jaccard: 0.3643\n",
      "\u001b[34mval dice increased: 0.36733242869377136 ---> 0.3674902617931366\n",
      "\u001b[34mval jaccard increased: 0.36423924565315247 ---> 0.3643192946910858\n",
      "\u001b[0m===================== Epoch: [15/50] =====================\n"
     ]
    },
    {
     "name": "stderr",
     "output_type": "stream",
     "text": [
      "100%|██████████| 316/316 [02:38<00:00,  2.00it/s, Epoch=15, loss=0.969]\n",
      "100%|██████████| 79/79 [00:27<00:00,  2.85it/s, gpu_memory=3.61 GB, lr=0.00005, valid_loss=0.9591]\n"
     ]
    },
    {
     "name": "stdout",
     "output_type": "stream",
     "text": [
      "\n",
      " Saving model at 15th epoch\n",
      "\n",
      " Final Train Loss: 0.9686  |  Final Val Loss: 0.9591\n",
      "Valid Dice: 0.3673 | Valid Jaccard: 0.3642\n",
      "\u001b[0m===================== Epoch: [16/50] =====================\n"
     ]
    },
    {
     "name": "stderr",
     "output_type": "stream",
     "text": [
      "100%|██████████| 316/316 [02:38<00:00,  1.99it/s, Epoch=16, loss=0.969]\n",
      "100%|██████████| 79/79 [00:28<00:00,  2.81it/s, gpu_memory=3.61 GB, lr=0.00010, valid_loss=0.9590]\n"
     ]
    },
    {
     "name": "stdout",
     "output_type": "stream",
     "text": [
      "\n",
      " Saving model at 16th epoch\n",
      "\n",
      " Final Train Loss: 0.9686  |  Final Val Loss: 0.9590\n",
      "Valid Dice: 0.3673 | Valid Jaccard: 0.3642\n",
      "\u001b[0m===================== Epoch: [17/50] =====================\n"
     ]
    },
    {
     "name": "stderr",
     "output_type": "stream",
     "text": [
      "100%|██████████| 316/316 [02:42<00:00,  1.95it/s, Epoch=17, loss=0.969]\n",
      "100%|██████████| 79/79 [00:28<00:00,  2.81it/s, gpu_memory=3.61 GB, lr=0.00002, valid_loss=0.9588]\n"
     ]
    },
    {
     "name": "stdout",
     "output_type": "stream",
     "text": [
      "\n",
      " Saving model at 17th epoch\n",
      "\n",
      " Final Train Loss: 0.9688  |  Final Val Loss: 0.9588\n",
      "Valid Dice: 0.3674 | Valid Jaccard: 0.3643\n",
      "\u001b[0m===================== Epoch: [18/50] =====================\n"
     ]
    },
    {
     "name": "stderr",
     "output_type": "stream",
     "text": [
      "100%|██████████| 316/316 [02:41<00:00,  1.96it/s, Epoch=18, loss=0.969]\n",
      "100%|██████████| 79/79 [00:27<00:00,  2.87it/s, gpu_memory=3.61 GB, lr=0.00003, valid_loss=0.9588]\n"
     ]
    },
    {
     "name": "stdout",
     "output_type": "stream",
     "text": [
      "\n",
      " Saving model at 18th epoch\n",
      "\n",
      " Final Train Loss: 0.9685  |  Final Val Loss: 0.9588\n",
      "Valid Dice: 0.3674 | Valid Jaccard: 0.3643\n",
      "\u001b[0m===================== Epoch: [19/50] =====================\n"
     ]
    },
    {
     "name": "stderr",
     "output_type": "stream",
     "text": [
      "100%|██████████| 316/316 [02:39<00:00,  1.98it/s, Epoch=19, loss=0.973]\n",
      "100%|██████████| 79/79 [00:27<00:00,  2.92it/s, gpu_memory=3.61 GB, lr=0.00010, valid_loss=0.9779]\n"
     ]
    },
    {
     "name": "stdout",
     "output_type": "stream",
     "text": [
      "\n",
      " Saving model at 19th epoch\n",
      "\n",
      " Final Train Loss: 0.9725  |  Final Val Loss: 0.9779\n",
      "Valid Dice: 0.2867 | Valid Jaccard: 0.2835\n",
      "\u001b[0m===================== Epoch: [20/50] =====================\n"
     ]
    },
    {
     "name": "stderr",
     "output_type": "stream",
     "text": [
      "100%|██████████| 316/316 [02:39<00:00,  1.98it/s, Epoch=20, loss=0.977]\n",
      "100%|██████████| 79/79 [00:27<00:00,  2.82it/s, gpu_memory=3.61 GB, lr=0.00003, valid_loss=0.9634]\n"
     ]
    },
    {
     "name": "stdout",
     "output_type": "stream",
     "text": [
      "\n",
      " Saving model at 20th epoch\n",
      "\n",
      " Final Train Loss: 0.9775  |  Final Val Loss: 0.9634\n",
      "Valid Dice: 0.3649 | Valid Jaccard: 0.3630\n",
      "\u001b[0m===================== Epoch: [21/50] =====================\n"
     ]
    },
    {
     "name": "stderr",
     "output_type": "stream",
     "text": [
      "100%|██████████| 316/316 [02:41<00:00,  1.95it/s, Epoch=21, loss=0.974]\n",
      "100%|██████████| 79/79 [00:28<00:00,  2.81it/s, gpu_memory=3.61 GB, lr=0.00002, valid_loss=0.9631]\n"
     ]
    },
    {
     "name": "stdout",
     "output_type": "stream",
     "text": [
      "\n",
      " Saving model at 21th epoch\n",
      "\n",
      " Final Train Loss: 0.9735  |  Final Val Loss: 0.9631\n",
      "Valid Dice: 0.3650 | Valid Jaccard: 0.3630\n",
      "\u001b[0m===================== Epoch: [22/50] =====================\n"
     ]
    },
    {
     "name": "stderr",
     "output_type": "stream",
     "text": [
      "100%|██████████| 316/316 [02:38<00:00,  1.99it/s, Epoch=22, loss=0.974]\n",
      "100%|██████████| 79/79 [00:27<00:00,  2.86it/s, gpu_memory=3.61 GB, lr=0.00010, valid_loss=0.9627]\n"
     ]
    },
    {
     "name": "stdout",
     "output_type": "stream",
     "text": [
      "\n",
      " Saving model at 22th epoch\n",
      "\n",
      " Final Train Loss: 0.9737  |  Final Val Loss: 0.9627\n",
      "Valid Dice: 0.3651 | Valid Jaccard: 0.3631\n",
      "\u001b[0m===================== Epoch: [23/50] =====================\n"
     ]
    },
    {
     "name": "stderr",
     "output_type": "stream",
     "text": [
      "100%|██████████| 316/316 [02:39<00:00,  1.98it/s, Epoch=23, loss=0.973]\n",
      "100%|██████████| 79/79 [00:26<00:00,  2.97it/s, gpu_memory=3.61 GB, lr=0.00004, valid_loss=0.9625]\n"
     ]
    },
    {
     "name": "stdout",
     "output_type": "stream",
     "text": [
      "\n",
      " Saving model at 23th epoch\n",
      "\n",
      " Final Train Loss: 0.9731  |  Final Val Loss: 0.9625\n",
      "Valid Dice: 0.3650 | Valid Jaccard: 0.3631\n",
      "\u001b[0m===================== Epoch: [24/50] =====================\n"
     ]
    },
    {
     "name": "stderr",
     "output_type": "stream",
     "text": [
      "100%|██████████| 316/316 [02:39<00:00,  1.98it/s, Epoch=24, loss=0.973]\n",
      "100%|██████████| 79/79 [00:28<00:00,  2.82it/s, gpu_memory=3.61 GB, lr=0.00001, valid_loss=0.9625]\n"
     ]
    },
    {
     "name": "stdout",
     "output_type": "stream",
     "text": [
      "\n",
      " Saving model at 24th epoch\n",
      "\n",
      " Final Train Loss: 0.9729  |  Final Val Loss: 0.9625\n",
      "Valid Dice: 0.3650 | Valid Jaccard: 0.3631\n",
      "\u001b[0m===================== Epoch: [25/50] =====================\n"
     ]
    },
    {
     "name": "stderr",
     "output_type": "stream",
     "text": [
      "100%|██████████| 316/316 [02:40<00:00,  1.97it/s, Epoch=25, loss=0.973]\n",
      "100%|██████████| 79/79 [00:26<00:00,  2.94it/s, gpu_memory=3.61 GB, lr=0.00009, valid_loss=0.9625]\n"
     ]
    },
    {
     "name": "stdout",
     "output_type": "stream",
     "text": [
      "\n",
      " Saving model at 25th epoch\n",
      "\n",
      " Final Train Loss: 0.9730  |  Final Val Loss: 0.9625\n",
      "Valid Dice: 0.3650 | Valid Jaccard: 0.3631\n",
      "\u001b[0m===================== Epoch: [26/50] =====================\n"
     ]
    },
    {
     "name": "stderr",
     "output_type": "stream",
     "text": [
      "100%|██████████| 316/316 [02:38<00:00,  1.99it/s, Epoch=26, loss=0.973]\n",
      "100%|██████████| 79/79 [00:27<00:00,  2.85it/s, gpu_memory=3.61 GB, lr=0.00006, valid_loss=0.9622]\n"
     ]
    },
    {
     "name": "stdout",
     "output_type": "stream",
     "text": [
      "\n",
      " Saving model at 26th epoch\n",
      "\n",
      " Final Train Loss: 0.9731  |  Final Val Loss: 0.9622\n",
      "Valid Dice: 0.3635 | Valid Jaccard: 0.3615\n",
      "\u001b[0m===================== Epoch: [27/50] =====================\n"
     ]
    },
    {
     "name": "stderr",
     "output_type": "stream",
     "text": [
      "100%|██████████| 316/316 [02:39<00:00,  1.98it/s, Epoch=27, loss=0.973]\n",
      "100%|██████████| 79/79 [00:27<00:00,  2.83it/s, gpu_memory=3.61 GB, lr=0.00000, valid_loss=0.9623]\n"
     ]
    },
    {
     "name": "stdout",
     "output_type": "stream",
     "text": [
      "\n",
      " Saving model at 27th epoch\n",
      "\n",
      " Final Train Loss: 0.9728  |  Final Val Loss: 0.9623\n",
      "Valid Dice: 0.3651 | Valid Jaccard: 0.3631\n",
      "\u001b[0m===================== Epoch: [28/50] =====================\n"
     ]
    },
    {
     "name": "stderr",
     "output_type": "stream",
     "text": [
      "100%|██████████| 316/316 [02:40<00:00,  1.97it/s, Epoch=28, loss=0.973]\n",
      "100%|██████████| 79/79 [00:27<00:00,  2.82it/s, gpu_memory=3.61 GB, lr=0.00008, valid_loss=0.9622]\n"
     ]
    },
    {
     "name": "stdout",
     "output_type": "stream",
     "text": [
      "\n",
      " Saving model at 28th epoch\n",
      "\n",
      " Final Train Loss: 0.9727  |  Final Val Loss: 0.9622\n",
      "Valid Dice: 0.3636 | Valid Jaccard: 0.3615\n",
      "\u001b[0m===================== Epoch: [29/50] =====================\n"
     ]
    },
    {
     "name": "stderr",
     "output_type": "stream",
     "text": [
      "100%|██████████| 316/316 [02:38<00:00,  2.00it/s, Epoch=29, loss=0.986]\n",
      "100%|██████████| 79/79 [00:28<00:00,  2.81it/s, gpu_memory=3.61 GB, lr=0.00008, valid_loss=0.9847]\n"
     ]
    },
    {
     "name": "stdout",
     "output_type": "stream",
     "text": [
      "\n",
      " Saving model at 29th epoch\n",
      "\n",
      " Final Train Loss: 0.9857  |  Final Val Loss: 0.9847\n",
      "Valid Dice: 0.3610 | Valid Jaccard: 0.3610\n",
      "\u001b[0m===================== Epoch: [30/50] =====================\n"
     ]
    },
    {
     "name": "stderr",
     "output_type": "stream",
     "text": [
      "100%|██████████| 316/316 [02:41<00:00,  1.96it/s, Epoch=30, loss=0.997]\n",
      "100%|██████████| 79/79 [00:27<00:00,  2.83it/s, gpu_memory=3.61 GB, lr=0.00000, valid_loss=0.9847]\n"
     ]
    },
    {
     "name": "stdout",
     "output_type": "stream",
     "text": [
      "\n",
      " Saving model at 30th epoch\n",
      "\n",
      " Final Train Loss: 0.9965  |  Final Val Loss: 0.9847\n",
      "Valid Dice: 0.3610 | Valid Jaccard: 0.3610\n",
      "\u001b[0m===================== Epoch: [31/50] =====================\n"
     ]
    },
    {
     "name": "stderr",
     "output_type": "stream",
     "text": [
      "100%|██████████| 316/316 [02:39<00:00,  1.98it/s, Epoch=31, loss=0.997]\n",
      "100%|██████████| 79/79 [00:27<00:00,  2.84it/s, gpu_memory=3.61 GB, lr=0.00006, valid_loss=0.9848]\n"
     ]
    },
    {
     "name": "stdout",
     "output_type": "stream",
     "text": [
      "\n",
      " Saving model at 31th epoch\n",
      "\n",
      " Final Train Loss: 0.9965  |  Final Val Loss: 0.9848\n",
      "Valid Dice: 0.3610 | Valid Jaccard: 0.3610\n",
      "\u001b[0m===================== Epoch: [32/50] =====================\n"
     ]
    },
    {
     "name": "stderr",
     "output_type": "stream",
     "text": [
      "100%|██████████| 316/316 [02:41<00:00,  1.96it/s, Epoch=32, loss=0.997]\n",
      "100%|██████████| 79/79 [00:28<00:00,  2.82it/s, gpu_memory=3.61 GB, lr=0.00009, valid_loss=0.9848]\n"
     ]
    },
    {
     "name": "stdout",
     "output_type": "stream",
     "text": [
      "\n",
      " Saving model at 32th epoch\n",
      "\n",
      " Final Train Loss: 0.9965  |  Final Val Loss: 0.9848\n",
      "Valid Dice: 0.3610 | Valid Jaccard: 0.3610\n",
      "\u001b[0m===================== Epoch: [33/50] =====================\n"
     ]
    },
    {
     "name": "stderr",
     "output_type": "stream",
     "text": [
      "100%|██████████| 316/316 [02:40<00:00,  1.97it/s, Epoch=33, loss=0.997]\n",
      "100%|██████████| 79/79 [00:26<00:00,  2.94it/s, gpu_memory=3.61 GB, lr=0.00001, valid_loss=0.9848]\n"
     ]
    },
    {
     "name": "stdout",
     "output_type": "stream",
     "text": [
      "\n",
      " Saving model at 33th epoch\n",
      "\n",
      " Final Train Loss: 0.9965  |  Final Val Loss: 0.9848\n",
      "Valid Dice: 0.3610 | Valid Jaccard: 0.3610\n",
      "\u001b[0m===================== Epoch: [34/50] =====================\n"
     ]
    },
    {
     "name": "stderr",
     "output_type": "stream",
     "text": [
      "100%|██████████| 316/316 [02:41<00:00,  1.96it/s, Epoch=34, loss=0.997]\n",
      "100%|██████████| 79/79 [00:27<00:00,  2.91it/s, gpu_memory=3.61 GB, lr=0.00005, valid_loss=0.9849]\n"
     ]
    },
    {
     "name": "stdout",
     "output_type": "stream",
     "text": [
      "\n",
      " Saving model at 34th epoch\n",
      "\n",
      " Final Train Loss: 0.9965  |  Final Val Loss: 0.9849\n",
      "Valid Dice: 0.3610 | Valid Jaccard: 0.3610\n",
      "\u001b[0m===================== Epoch: [35/50] =====================\n"
     ]
    },
    {
     "name": "stderr",
     "output_type": "stream",
     "text": [
      "100%|██████████| 316/316 [02:42<00:00,  1.94it/s, Epoch=35, loss=0.997]\n",
      "100%|██████████| 79/79 [00:27<00:00,  2.91it/s, gpu_memory=3.61 GB, lr=0.00010, valid_loss=0.9849]\n"
     ]
    },
    {
     "name": "stdout",
     "output_type": "stream",
     "text": [
      "\n",
      " Saving model at 35th epoch\n",
      "\n",
      " Final Train Loss: 0.9965  |  Final Val Loss: 0.9849\n",
      "Valid Dice: 0.3610 | Valid Jaccard: 0.3610\n",
      "\u001b[0m===================== Epoch: [36/50] =====================\n"
     ]
    },
    {
     "name": "stderr",
     "output_type": "stream",
     "text": [
      "100%|██████████| 316/316 [02:41<00:00,  1.95it/s, Epoch=36, loss=0.997]\n",
      "100%|██████████| 79/79 [00:28<00:00,  2.76it/s, gpu_memory=3.61 GB, lr=0.00002, valid_loss=0.9849]\n"
     ]
    },
    {
     "name": "stdout",
     "output_type": "stream",
     "text": [
      "\n",
      " Saving model at 36th epoch\n",
      "\n",
      " Final Train Loss: 0.9965  |  Final Val Loss: 0.9849\n",
      "Valid Dice: 0.3610 | Valid Jaccard: 0.3610\n",
      "\u001b[0m===================== Epoch: [37/50] =====================\n"
     ]
    },
    {
     "name": "stderr",
     "output_type": "stream",
     "text": [
      "100%|██████████| 316/316 [02:41<00:00,  1.95it/s, Epoch=37, loss=0.997]\n",
      "100%|██████████| 79/79 [00:27<00:00,  2.92it/s, gpu_memory=3.61 GB, lr=0.00003, valid_loss=0.9849]\n"
     ]
    },
    {
     "name": "stdout",
     "output_type": "stream",
     "text": [
      "\n",
      " Saving model at 37th epoch\n",
      "\n",
      " Final Train Loss: 0.9965  |  Final Val Loss: 0.9849\n",
      "Valid Dice: 0.3610 | Valid Jaccard: 0.3610\n",
      "\u001b[0m===================== Epoch: [38/50] =====================\n"
     ]
    },
    {
     "name": "stderr",
     "output_type": "stream",
     "text": [
      "100%|██████████| 316/316 [02:42<00:00,  1.94it/s, Epoch=38, loss=0.997]\n",
      "100%|██████████| 79/79 [00:28<00:00,  2.77it/s, gpu_memory=3.61 GB, lr=0.00010, valid_loss=0.9849]\n"
     ]
    },
    {
     "name": "stdout",
     "output_type": "stream",
     "text": [
      "\n",
      " Saving model at 38th epoch\n",
      "\n",
      " Final Train Loss: 0.9965  |  Final Val Loss: 0.9849\n",
      "Valid Dice: 0.3610 | Valid Jaccard: 0.3610\n",
      "\u001b[0m===================== Epoch: [39/50] =====================\n"
     ]
    },
    {
     "name": "stderr",
     "output_type": "stream",
     "text": [
      "100%|██████████| 316/316 [02:41<00:00,  1.96it/s, Epoch=39, loss=0.997]\n",
      "100%|██████████| 79/79 [00:27<00:00,  2.87it/s, gpu_memory=3.61 GB, lr=0.00003, valid_loss=0.9849]\n"
     ]
    },
    {
     "name": "stdout",
     "output_type": "stream",
     "text": [
      "\n",
      " Saving model at 39th epoch\n",
      "\n",
      " Final Train Loss: 0.9965  |  Final Val Loss: 0.9849\n",
      "Valid Dice: 0.3610 | Valid Jaccard: 0.3610\n",
      "\u001b[0m===================== Epoch: [40/50] =====================\n"
     ]
    },
    {
     "name": "stderr",
     "output_type": "stream",
     "text": [
      "100%|██████████| 316/316 [02:42<00:00,  1.94it/s, Epoch=40, loss=0.997]\n",
      "100%|██████████| 79/79 [00:28<00:00,  2.79it/s, gpu_memory=3.61 GB, lr=0.00002, valid_loss=0.9849]\n"
     ]
    },
    {
     "name": "stdout",
     "output_type": "stream",
     "text": [
      "\n",
      " Saving model at 40th epoch\n",
      "\n",
      " Final Train Loss: 0.9965  |  Final Val Loss: 0.9849\n",
      "Valid Dice: 0.3610 | Valid Jaccard: 0.3610\n",
      "\u001b[0m===================== Epoch: [41/50] =====================\n"
     ]
    },
    {
     "name": "stderr",
     "output_type": "stream",
     "text": [
      "100%|██████████| 316/316 [02:40<00:00,  1.97it/s, Epoch=41, loss=0.997]\n",
      "100%|██████████| 79/79 [00:28<00:00,  2.77it/s, gpu_memory=3.61 GB, lr=0.00010, valid_loss=0.9848]\n"
     ]
    },
    {
     "name": "stdout",
     "output_type": "stream",
     "text": [
      "\n",
      " Saving model at 41th epoch\n",
      "\n",
      " Final Train Loss: 0.9965  |  Final Val Loss: 0.9848\n",
      "Valid Dice: 0.3610 | Valid Jaccard: 0.3610\n",
      "\u001b[0m===================== Epoch: [42/50] =====================\n"
     ]
    },
    {
     "name": "stderr",
     "output_type": "stream",
     "text": [
      "100%|██████████| 316/316 [02:43<00:00,  1.94it/s, Epoch=42, loss=0.997]\n",
      "100%|██████████| 79/79 [00:26<00:00,  2.93it/s, gpu_memory=3.61 GB, lr=0.00004, valid_loss=0.9849]\n"
     ]
    },
    {
     "name": "stdout",
     "output_type": "stream",
     "text": [
      "\n",
      " Saving model at 42th epoch\n",
      "\n",
      " Final Train Loss: 0.9965  |  Final Val Loss: 0.9849\n",
      "Valid Dice: 0.3610 | Valid Jaccard: 0.3610\n",
      "\u001b[0m===================== Epoch: [43/50] =====================\n"
     ]
    },
    {
     "name": "stderr",
     "output_type": "stream",
     "text": [
      "100%|██████████| 316/316 [02:42<00:00,  1.95it/s, Epoch=43, loss=0.997]\n",
      "100%|██████████| 79/79 [00:28<00:00,  2.76it/s, gpu_memory=3.61 GB, lr=0.00001, valid_loss=0.9849]\n"
     ]
    },
    {
     "name": "stdout",
     "output_type": "stream",
     "text": [
      "\n",
      " Saving model at 43th epoch\n",
      "\n",
      " Final Train Loss: 0.9965  |  Final Val Loss: 0.9849\n",
      "Valid Dice: 0.3610 | Valid Jaccard: 0.3610\n",
      "\u001b[0m===================== Epoch: [44/50] =====================\n"
     ]
    },
    {
     "name": "stderr",
     "output_type": "stream",
     "text": [
      "100%|██████████| 316/316 [02:42<00:00,  1.95it/s, Epoch=44, loss=0.997]\n",
      "100%|██████████| 79/79 [00:28<00:00,  2.77it/s, gpu_memory=3.61 GB, lr=0.00009, valid_loss=0.9848]\n"
     ]
    },
    {
     "name": "stdout",
     "output_type": "stream",
     "text": [
      "\n",
      " Saving model at 44th epoch\n",
      "\n",
      " Final Train Loss: 0.9965  |  Final Val Loss: 0.9848\n",
      "Valid Dice: 0.3610 | Valid Jaccard: 0.3610\n",
      "\u001b[0m===================== Epoch: [45/50] =====================\n"
     ]
    },
    {
     "name": "stderr",
     "output_type": "stream",
     "text": [
      "100%|██████████| 316/316 [02:45<00:00,  1.91it/s, Epoch=45, loss=0.997]\n",
      "100%|██████████| 79/79 [00:28<00:00,  2.73it/s, gpu_memory=3.61 GB, lr=0.00006, valid_loss=0.9848]\n"
     ]
    },
    {
     "name": "stdout",
     "output_type": "stream",
     "text": [
      "\n",
      " Saving model at 45th epoch\n",
      "\n",
      " Final Train Loss: 0.9965  |  Final Val Loss: 0.9848\n",
      "Valid Dice: 0.3610 | Valid Jaccard: 0.3610\n",
      "\u001b[0m===================== Epoch: [46/50] =====================\n"
     ]
    },
    {
     "name": "stderr",
     "output_type": "stream",
     "text": [
      "100%|██████████| 316/316 [02:43<00:00,  1.93it/s, Epoch=46, loss=0.997]\n",
      "100%|██████████| 79/79 [00:28<00:00,  2.81it/s, gpu_memory=3.61 GB, lr=0.00000, valid_loss=0.9848]\n"
     ]
    },
    {
     "name": "stdout",
     "output_type": "stream",
     "text": [
      "\n",
      " Saving model at 46th epoch\n",
      "\n",
      " Final Train Loss: 0.9965  |  Final Val Loss: 0.9848\n",
      "Valid Dice: 0.3610 | Valid Jaccard: 0.3610\n",
      "\u001b[0m===================== Epoch: [47/50] =====================\n"
     ]
    },
    {
     "name": "stderr",
     "output_type": "stream",
     "text": [
      "100%|██████████| 316/316 [02:40<00:00,  1.96it/s, Epoch=47, loss=0.997]\n",
      "100%|██████████| 79/79 [00:27<00:00,  2.87it/s, gpu_memory=3.61 GB, lr=0.00008, valid_loss=0.9848]\n"
     ]
    },
    {
     "name": "stdout",
     "output_type": "stream",
     "text": [
      "\n",
      " Saving model at 47th epoch\n",
      "\n",
      " Final Train Loss: 0.9965  |  Final Val Loss: 0.9848\n",
      "Valid Dice: 0.3610 | Valid Jaccard: 0.3610\n",
      "\u001b[0m===================== Epoch: [48/50] =====================\n"
     ]
    },
    {
     "name": "stderr",
     "output_type": "stream",
     "text": [
      "100%|██████████| 316/316 [02:44<00:00,  1.92it/s, Epoch=48, loss=0.997]\n",
      "100%|██████████| 79/79 [00:28<00:00,  2.74it/s, gpu_memory=3.61 GB, lr=0.00007, valid_loss=0.9848]\n"
     ]
    },
    {
     "name": "stdout",
     "output_type": "stream",
     "text": [
      "\n",
      " Saving model at 48th epoch\n",
      "\n",
      " Final Train Loss: 0.9965  |  Final Val Loss: 0.9848\n",
      "Valid Dice: 0.3610 | Valid Jaccard: 0.3610\n",
      "\u001b[0m===================== Epoch: [49/50] =====================\n"
     ]
    },
    {
     "name": "stderr",
     "output_type": "stream",
     "text": [
      "100%|██████████| 316/316 [02:44<00:00,  1.93it/s, Epoch=49, loss=0.997]\n",
      "100%|██████████| 79/79 [00:29<00:00,  2.72it/s, gpu_memory=3.61 GB, lr=0.00000, valid_loss=0.9848]\n"
     ]
    },
    {
     "name": "stdout",
     "output_type": "stream",
     "text": [
      "\n",
      " Saving model at 49th epoch\n",
      "\n",
      " Final Train Loss: 0.9965  |  Final Val Loss: 0.9848\n",
      "Valid Dice: 0.3610 | Valid Jaccard: 0.3610\n",
      "\u001b[0m===================== Epoch: [50/50] =====================\n"
     ]
    },
    {
     "name": "stderr",
     "output_type": "stream",
     "text": [
      "100%|██████████| 316/316 [02:44<00:00,  1.92it/s, Epoch=50, loss=0.997]\n",
      "100%|██████████| 79/79 [00:27<00:00,  2.89it/s, gpu_memory=3.61 GB, lr=0.00007, valid_loss=0.9848]\n"
     ]
    },
    {
     "name": "stdout",
     "output_type": "stream",
     "text": [
      "\n",
      " Saving model at 50th epoch\n",
      "\n",
      " Final Train Loss: 0.9965  |  Final Val Loss: 0.9848\n",
      "Valid Dice: 0.3610 | Valid Jaccard: 0.3610\n",
      "\n",
      " ====================== [Training Summary] ====================== \n",
      "\n",
      "Training complete in 2h 37m 46s\n",
      "avg time per [train + val] epoch 0h 3m 9s\n",
      "Best: ~~~~~~ dice: 0.3675  || jaccard 0.3643 || val_loss 0.9588 || train_loss 0.9685 ~~~~~~\n",
      "Saved training summary...\n",
      "\n",
      " =============================================================== \n",
      "\n"
     ]
    },
    {
     "data": {
      "text/html": [
       "<div>\n",
       "<style scoped>\n",
       "    .dataframe tbody tr th:only-of-type {\n",
       "        vertical-align: middle;\n",
       "    }\n",
       "\n",
       "    .dataframe tbody tr th {\n",
       "        vertical-align: top;\n",
       "    }\n",
       "\n",
       "    .dataframe thead th {\n",
       "        text-align: right;\n",
       "    }\n",
       "</style>\n",
       "<table border=\"1\" class=\"dataframe\">\n",
       "  <thead>\n",
       "    <tr style=\"text-align: right;\">\n",
       "      <th></th>\n",
       "      <th>epoch</th>\n",
       "      <th>Train_Loss</th>\n",
       "      <th>Valid_Loss</th>\n",
       "      <th>Valid_jaccard</th>\n",
       "      <th>Valid_dice</th>\n",
       "      <th>model_file</th>\n",
       "    </tr>\n",
       "  </thead>\n",
       "  <tbody>\n",
       "    <tr>\n",
       "      <th>0</th>\n",
       "      <td>1</td>\n",
       "      <td>0.995170</td>\n",
       "      <td>0.993450</td>\n",
       "      <td>0.074501</td>\n",
       "      <td>0.077652</td>\n",
       "      <td>./model_weights/Vanilla_Unet-0.0001-No-1-8.pth</td>\n",
       "    </tr>\n",
       "    <tr>\n",
       "      <th>1</th>\n",
       "      <td>2</td>\n",
       "      <td>0.973317</td>\n",
       "      <td>0.970788</td>\n",
       "      <td>0.362774</td>\n",
       "      <td>0.365984</td>\n",
       "      <td>./model_weights/Vanilla_Unet-0.0001-No-2-8.pth</td>\n",
       "    </tr>\n",
       "    <tr>\n",
       "      <th>2</th>\n",
       "      <td>3</td>\n",
       "      <td>0.972288</td>\n",
       "      <td>0.965854</td>\n",
       "      <td>0.362334</td>\n",
       "      <td>0.365114</td>\n",
       "      <td>./model_weights/Vanilla_Unet-0.0001-No-3-8.pth</td>\n",
       "    </tr>\n",
       "    <tr>\n",
       "      <th>3</th>\n",
       "      <td>4</td>\n",
       "      <td>0.971091</td>\n",
       "      <td>0.971113</td>\n",
       "      <td>0.350398</td>\n",
       "      <td>0.353880</td>\n",
       "      <td>./model_weights/Vanilla_Unet-0.0001-No-4-8.pth</td>\n",
       "    </tr>\n",
       "    <tr>\n",
       "      <th>4</th>\n",
       "      <td>5</td>\n",
       "      <td>0.969484</td>\n",
       "      <td>0.971043</td>\n",
       "      <td>0.345737</td>\n",
       "      <td>0.349301</td>\n",
       "      <td>./model_weights/Vanilla_Unet-0.0001-No-5-8.pth</td>\n",
       "    </tr>\n",
       "    <tr>\n",
       "      <th>5</th>\n",
       "      <td>6</td>\n",
       "      <td>0.969333</td>\n",
       "      <td>0.960943</td>\n",
       "      <td>0.358357</td>\n",
       "      <td>0.361883</td>\n",
       "      <td>./model_weights/Vanilla_Unet-0.0001-No-6-8.pth</td>\n",
       "    </tr>\n",
       "    <tr>\n",
       "      <th>6</th>\n",
       "      <td>7</td>\n",
       "      <td>0.969762</td>\n",
       "      <td>0.964699</td>\n",
       "      <td>0.362942</td>\n",
       "      <td>0.364776</td>\n",
       "      <td>./model_weights/Vanilla_Unet-0.0001-No-7-8.pth</td>\n",
       "    </tr>\n",
       "    <tr>\n",
       "      <th>7</th>\n",
       "      <td>8</td>\n",
       "      <td>0.972708</td>\n",
       "      <td>0.973130</td>\n",
       "      <td>0.337079</td>\n",
       "      <td>0.339932</td>\n",
       "      <td>./model_weights/Vanilla_Unet-0.0001-No-8-8.pth</td>\n",
       "    </tr>\n",
       "    <tr>\n",
       "      <th>8</th>\n",
       "      <td>9</td>\n",
       "      <td>0.970214</td>\n",
       "      <td>0.960198</td>\n",
       "      <td>0.353495</td>\n",
       "      <td>0.356913</td>\n",
       "      <td>./model_weights/Vanilla_Unet-0.0001-No-9-8.pth</td>\n",
       "    </tr>\n",
       "    <tr>\n",
       "      <th>9</th>\n",
       "      <td>10</td>\n",
       "      <td>0.970050</td>\n",
       "      <td>0.959513</td>\n",
       "      <td>0.359880</td>\n",
       "      <td>0.363350</td>\n",
       "      <td>./model_weights/Vanilla_Unet-0.0001-No-10-8.pth</td>\n",
       "    </tr>\n",
       "    <tr>\n",
       "      <th>10</th>\n",
       "      <td>11</td>\n",
       "      <td>0.969016</td>\n",
       "      <td>0.959439</td>\n",
       "      <td>0.358116</td>\n",
       "      <td>0.361409</td>\n",
       "      <td>./model_weights/Vanilla_Unet-0.0001-No-11-8.pth</td>\n",
       "    </tr>\n",
       "    <tr>\n",
       "      <th>11</th>\n",
       "      <td>12</td>\n",
       "      <td>0.968880</td>\n",
       "      <td>0.959069</td>\n",
       "      <td>0.362870</td>\n",
       "      <td>0.366170</td>\n",
       "      <td>./model_weights/Vanilla_Unet-0.0001-No-12-8.pth</td>\n",
       "    </tr>\n",
       "    <tr>\n",
       "      <th>12</th>\n",
       "      <td>13</td>\n",
       "      <td>0.968849</td>\n",
       "      <td>0.959070</td>\n",
       "      <td>0.364239</td>\n",
       "      <td>0.367332</td>\n",
       "      <td>./model_weights/Vanilla_Unet-0.0001-No-13-8.pth</td>\n",
       "    </tr>\n",
       "    <tr>\n",
       "      <th>13</th>\n",
       "      <td>14</td>\n",
       "      <td>0.968777</td>\n",
       "      <td>0.959024</td>\n",
       "      <td>0.364319</td>\n",
       "      <td>0.367490</td>\n",
       "      <td>./model_weights/Vanilla_Unet-0.0001-No-14-8.pth</td>\n",
       "    </tr>\n",
       "    <tr>\n",
       "      <th>14</th>\n",
       "      <td>15</td>\n",
       "      <td>0.968554</td>\n",
       "      <td>0.959073</td>\n",
       "      <td>0.364215</td>\n",
       "      <td>0.367284</td>\n",
       "      <td>./model_weights/Vanilla_Unet-0.0001-No-15-8.pth</td>\n",
       "    </tr>\n",
       "    <tr>\n",
       "      <th>15</th>\n",
       "      <td>16</td>\n",
       "      <td>0.968611</td>\n",
       "      <td>0.959019</td>\n",
       "      <td>0.364213</td>\n",
       "      <td>0.367280</td>\n",
       "      <td>./model_weights/Vanilla_Unet-0.0001-No-16-8.pth</td>\n",
       "    </tr>\n",
       "    <tr>\n",
       "      <th>16</th>\n",
       "      <td>17</td>\n",
       "      <td>0.968768</td>\n",
       "      <td>0.958804</td>\n",
       "      <td>0.364266</td>\n",
       "      <td>0.367384</td>\n",
       "      <td>./model_weights/Vanilla_Unet-0.0001-No-17-8.pth</td>\n",
       "    </tr>\n",
       "    <tr>\n",
       "      <th>17</th>\n",
       "      <td>18</td>\n",
       "      <td>0.968503</td>\n",
       "      <td>0.958777</td>\n",
       "      <td>0.364288</td>\n",
       "      <td>0.367427</td>\n",
       "      <td>./model_weights/Vanilla_Unet-0.0001-No-18-8.pth</td>\n",
       "    </tr>\n",
       "    <tr>\n",
       "      <th>18</th>\n",
       "      <td>19</td>\n",
       "      <td>0.972546</td>\n",
       "      <td>0.977912</td>\n",
       "      <td>0.283531</td>\n",
       "      <td>0.286668</td>\n",
       "      <td>./model_weights/Vanilla_Unet-0.0001-No-19-8.pth</td>\n",
       "    </tr>\n",
       "    <tr>\n",
       "      <th>19</th>\n",
       "      <td>20</td>\n",
       "      <td>0.977491</td>\n",
       "      <td>0.963387</td>\n",
       "      <td>0.363002</td>\n",
       "      <td>0.364895</td>\n",
       "      <td>./model_weights/Vanilla_Unet-0.0001-No-20-8.pth</td>\n",
       "    </tr>\n",
       "    <tr>\n",
       "      <th>20</th>\n",
       "      <td>21</td>\n",
       "      <td>0.973525</td>\n",
       "      <td>0.963061</td>\n",
       "      <td>0.363047</td>\n",
       "      <td>0.364982</td>\n",
       "      <td>./model_weights/Vanilla_Unet-0.0001-No-21-8.pth</td>\n",
       "    </tr>\n",
       "    <tr>\n",
       "      <th>21</th>\n",
       "      <td>22</td>\n",
       "      <td>0.973706</td>\n",
       "      <td>0.962741</td>\n",
       "      <td>0.363083</td>\n",
       "      <td>0.365052</td>\n",
       "      <td>./model_weights/Vanilla_Unet-0.0001-No-22-8.pth</td>\n",
       "    </tr>\n",
       "    <tr>\n",
       "      <th>22</th>\n",
       "      <td>23</td>\n",
       "      <td>0.973121</td>\n",
       "      <td>0.962490</td>\n",
       "      <td>0.363080</td>\n",
       "      <td>0.365046</td>\n",
       "      <td>./model_weights/Vanilla_Unet-0.0001-No-23-8.pth</td>\n",
       "    </tr>\n",
       "    <tr>\n",
       "      <th>23</th>\n",
       "      <td>24</td>\n",
       "      <td>0.972896</td>\n",
       "      <td>0.962499</td>\n",
       "      <td>0.363078</td>\n",
       "      <td>0.365042</td>\n",
       "      <td>./model_weights/Vanilla_Unet-0.0001-No-24-8.pth</td>\n",
       "    </tr>\n",
       "    <tr>\n",
       "      <th>24</th>\n",
       "      <td>25</td>\n",
       "      <td>0.972961</td>\n",
       "      <td>0.962486</td>\n",
       "      <td>0.363080</td>\n",
       "      <td>0.365045</td>\n",
       "      <td>./model_weights/Vanilla_Unet-0.0001-No-25-8.pth</td>\n",
       "    </tr>\n",
       "    <tr>\n",
       "      <th>25</th>\n",
       "      <td>26</td>\n",
       "      <td>0.973084</td>\n",
       "      <td>0.962185</td>\n",
       "      <td>0.361528</td>\n",
       "      <td>0.363525</td>\n",
       "      <td>./model_weights/Vanilla_Unet-0.0001-No-26-8.pth</td>\n",
       "    </tr>\n",
       "    <tr>\n",
       "      <th>26</th>\n",
       "      <td>27</td>\n",
       "      <td>0.972760</td>\n",
       "      <td>0.962347</td>\n",
       "      <td>0.363109</td>\n",
       "      <td>0.365104</td>\n",
       "      <td>./model_weights/Vanilla_Unet-0.0001-No-27-8.pth</td>\n",
       "    </tr>\n",
       "    <tr>\n",
       "      <th>27</th>\n",
       "      <td>28</td>\n",
       "      <td>0.972714</td>\n",
       "      <td>0.962199</td>\n",
       "      <td>0.361547</td>\n",
       "      <td>0.363561</td>\n",
       "      <td>./model_weights/Vanilla_Unet-0.0001-No-28-8.pth</td>\n",
       "    </tr>\n",
       "    <tr>\n",
       "      <th>28</th>\n",
       "      <td>29</td>\n",
       "      <td>0.985711</td>\n",
       "      <td>0.984732</td>\n",
       "      <td>0.361039</td>\n",
       "      <td>0.361039</td>\n",
       "      <td>./model_weights/Vanilla_Unet-0.0001-No-29-8.pth</td>\n",
       "    </tr>\n",
       "    <tr>\n",
       "      <th>29</th>\n",
       "      <td>30</td>\n",
       "      <td>0.996529</td>\n",
       "      <td>0.984743</td>\n",
       "      <td>0.361039</td>\n",
       "      <td>0.361039</td>\n",
       "      <td>./model_weights/Vanilla_Unet-0.0001-No-30-8.pth</td>\n",
       "    </tr>\n",
       "    <tr>\n",
       "      <th>30</th>\n",
       "      <td>31</td>\n",
       "      <td>0.996529</td>\n",
       "      <td>0.984754</td>\n",
       "      <td>0.361039</td>\n",
       "      <td>0.361039</td>\n",
       "      <td>./model_weights/Vanilla_Unet-0.0001-No-31-8.pth</td>\n",
       "    </tr>\n",
       "    <tr>\n",
       "      <th>31</th>\n",
       "      <td>32</td>\n",
       "      <td>0.996529</td>\n",
       "      <td>0.984812</td>\n",
       "      <td>0.361039</td>\n",
       "      <td>0.361039</td>\n",
       "      <td>./model_weights/Vanilla_Unet-0.0001-No-32-8.pth</td>\n",
       "    </tr>\n",
       "    <tr>\n",
       "      <th>32</th>\n",
       "      <td>33</td>\n",
       "      <td>0.996529</td>\n",
       "      <td>0.984840</td>\n",
       "      <td>0.361039</td>\n",
       "      <td>0.361039</td>\n",
       "      <td>./model_weights/Vanilla_Unet-0.0001-No-33-8.pth</td>\n",
       "    </tr>\n",
       "    <tr>\n",
       "      <th>33</th>\n",
       "      <td>34</td>\n",
       "      <td>0.996529</td>\n",
       "      <td>0.984851</td>\n",
       "      <td>0.361039</td>\n",
       "      <td>0.361039</td>\n",
       "      <td>./model_weights/Vanilla_Unet-0.0001-No-34-8.pth</td>\n",
       "    </tr>\n",
       "    <tr>\n",
       "      <th>34</th>\n",
       "      <td>35</td>\n",
       "      <td>0.996529</td>\n",
       "      <td>0.984882</td>\n",
       "      <td>0.361039</td>\n",
       "      <td>0.361039</td>\n",
       "      <td>./model_weights/Vanilla_Unet-0.0001-No-35-8.pth</td>\n",
       "    </tr>\n",
       "    <tr>\n",
       "      <th>35</th>\n",
       "      <td>36</td>\n",
       "      <td>0.996529</td>\n",
       "      <td>0.984884</td>\n",
       "      <td>0.361039</td>\n",
       "      <td>0.361039</td>\n",
       "      <td>./model_weights/Vanilla_Unet-0.0001-No-36-8.pth</td>\n",
       "    </tr>\n",
       "    <tr>\n",
       "      <th>36</th>\n",
       "      <td>37</td>\n",
       "      <td>0.996529</td>\n",
       "      <td>0.984885</td>\n",
       "      <td>0.361039</td>\n",
       "      <td>0.361039</td>\n",
       "      <td>./model_weights/Vanilla_Unet-0.0001-No-37-8.pth</td>\n",
       "    </tr>\n",
       "    <tr>\n",
       "      <th>37</th>\n",
       "      <td>38</td>\n",
       "      <td>0.996529</td>\n",
       "      <td>0.984865</td>\n",
       "      <td>0.361039</td>\n",
       "      <td>0.361039</td>\n",
       "      <td>./model_weights/Vanilla_Unet-0.0001-No-38-8.pth</td>\n",
       "    </tr>\n",
       "    <tr>\n",
       "      <th>38</th>\n",
       "      <td>39</td>\n",
       "      <td>0.996529</td>\n",
       "      <td>0.984871</td>\n",
       "      <td>0.361039</td>\n",
       "      <td>0.361039</td>\n",
       "      <td>./model_weights/Vanilla_Unet-0.0001-No-39-8.pth</td>\n",
       "    </tr>\n",
       "    <tr>\n",
       "      <th>39</th>\n",
       "      <td>40</td>\n",
       "      <td>0.996529</td>\n",
       "      <td>0.984869</td>\n",
       "      <td>0.361039</td>\n",
       "      <td>0.361039</td>\n",
       "      <td>./model_weights/Vanilla_Unet-0.0001-No-40-8.pth</td>\n",
       "    </tr>\n",
       "    <tr>\n",
       "      <th>40</th>\n",
       "      <td>41</td>\n",
       "      <td>0.996529</td>\n",
       "      <td>0.984845</td>\n",
       "      <td>0.361039</td>\n",
       "      <td>0.361039</td>\n",
       "      <td>./model_weights/Vanilla_Unet-0.0001-No-41-8.pth</td>\n",
       "    </tr>\n",
       "    <tr>\n",
       "      <th>41</th>\n",
       "      <td>42</td>\n",
       "      <td>0.996529</td>\n",
       "      <td>0.984859</td>\n",
       "      <td>0.361039</td>\n",
       "      <td>0.361039</td>\n",
       "      <td>./model_weights/Vanilla_Unet-0.0001-No-42-8.pth</td>\n",
       "    </tr>\n",
       "    <tr>\n",
       "      <th>42</th>\n",
       "      <td>43</td>\n",
       "      <td>0.996529</td>\n",
       "      <td>0.984855</td>\n",
       "      <td>0.361039</td>\n",
       "      <td>0.361039</td>\n",
       "      <td>./model_weights/Vanilla_Unet-0.0001-No-43-8.pth</td>\n",
       "    </tr>\n",
       "    <tr>\n",
       "      <th>43</th>\n",
       "      <td>44</td>\n",
       "      <td>0.996529</td>\n",
       "      <td>0.984834</td>\n",
       "      <td>0.361039</td>\n",
       "      <td>0.361039</td>\n",
       "      <td>./model_weights/Vanilla_Unet-0.0001-No-44-8.pth</td>\n",
       "    </tr>\n",
       "    <tr>\n",
       "      <th>44</th>\n",
       "      <td>45</td>\n",
       "      <td>0.996529</td>\n",
       "      <td>0.984842</td>\n",
       "      <td>0.361039</td>\n",
       "      <td>0.361039</td>\n",
       "      <td>./model_weights/Vanilla_Unet-0.0001-No-45-8.pth</td>\n",
       "    </tr>\n",
       "    <tr>\n",
       "      <th>45</th>\n",
       "      <td>46</td>\n",
       "      <td>0.996529</td>\n",
       "      <td>0.984841</td>\n",
       "      <td>0.361039</td>\n",
       "      <td>0.361039</td>\n",
       "      <td>./model_weights/Vanilla_Unet-0.0001-No-46-8.pth</td>\n",
       "    </tr>\n",
       "    <tr>\n",
       "      <th>46</th>\n",
       "      <td>47</td>\n",
       "      <td>0.996529</td>\n",
       "      <td>0.984834</td>\n",
       "      <td>0.361039</td>\n",
       "      <td>0.361039</td>\n",
       "      <td>./model_weights/Vanilla_Unet-0.0001-No-47-8.pth</td>\n",
       "    </tr>\n",
       "    <tr>\n",
       "      <th>47</th>\n",
       "      <td>48</td>\n",
       "      <td>0.996529</td>\n",
       "      <td>0.984820</td>\n",
       "      <td>0.361039</td>\n",
       "      <td>0.361039</td>\n",
       "      <td>./model_weights/Vanilla_Unet-0.0001-No-48-8.pth</td>\n",
       "    </tr>\n",
       "    <tr>\n",
       "      <th>48</th>\n",
       "      <td>49</td>\n",
       "      <td>0.996529</td>\n",
       "      <td>0.984833</td>\n",
       "      <td>0.361039</td>\n",
       "      <td>0.361039</td>\n",
       "      <td>./model_weights/Vanilla_Unet-0.0001-No-49-8.pth</td>\n",
       "    </tr>\n",
       "    <tr>\n",
       "      <th>49</th>\n",
       "      <td>50</td>\n",
       "      <td>0.996529</td>\n",
       "      <td>0.984837</td>\n",
       "      <td>0.361039</td>\n",
       "      <td>0.361039</td>\n",
       "      <td>./model_weights/Vanilla_Unet-0.0001-No-50-8.pth</td>\n",
       "    </tr>\n",
       "  </tbody>\n",
       "</table>\n",
       "</div>"
      ],
      "text/plain": [
       "    epoch  Train_Loss  Valid_Loss  Valid_jaccard  Valid_dice  \\\n",
       "0       1    0.995170    0.993450       0.074501    0.077652   \n",
       "1       2    0.973317    0.970788       0.362774    0.365984   \n",
       "2       3    0.972288    0.965854       0.362334    0.365114   \n",
       "3       4    0.971091    0.971113       0.350398    0.353880   \n",
       "4       5    0.969484    0.971043       0.345737    0.349301   \n",
       "5       6    0.969333    0.960943       0.358357    0.361883   \n",
       "6       7    0.969762    0.964699       0.362942    0.364776   \n",
       "7       8    0.972708    0.973130       0.337079    0.339932   \n",
       "8       9    0.970214    0.960198       0.353495    0.356913   \n",
       "9      10    0.970050    0.959513       0.359880    0.363350   \n",
       "10     11    0.969016    0.959439       0.358116    0.361409   \n",
       "11     12    0.968880    0.959069       0.362870    0.366170   \n",
       "12     13    0.968849    0.959070       0.364239    0.367332   \n",
       "13     14    0.968777    0.959024       0.364319    0.367490   \n",
       "14     15    0.968554    0.959073       0.364215    0.367284   \n",
       "15     16    0.968611    0.959019       0.364213    0.367280   \n",
       "16     17    0.968768    0.958804       0.364266    0.367384   \n",
       "17     18    0.968503    0.958777       0.364288    0.367427   \n",
       "18     19    0.972546    0.977912       0.283531    0.286668   \n",
       "19     20    0.977491    0.963387       0.363002    0.364895   \n",
       "20     21    0.973525    0.963061       0.363047    0.364982   \n",
       "21     22    0.973706    0.962741       0.363083    0.365052   \n",
       "22     23    0.973121    0.962490       0.363080    0.365046   \n",
       "23     24    0.972896    0.962499       0.363078    0.365042   \n",
       "24     25    0.972961    0.962486       0.363080    0.365045   \n",
       "25     26    0.973084    0.962185       0.361528    0.363525   \n",
       "26     27    0.972760    0.962347       0.363109    0.365104   \n",
       "27     28    0.972714    0.962199       0.361547    0.363561   \n",
       "28     29    0.985711    0.984732       0.361039    0.361039   \n",
       "29     30    0.996529    0.984743       0.361039    0.361039   \n",
       "30     31    0.996529    0.984754       0.361039    0.361039   \n",
       "31     32    0.996529    0.984812       0.361039    0.361039   \n",
       "32     33    0.996529    0.984840       0.361039    0.361039   \n",
       "33     34    0.996529    0.984851       0.361039    0.361039   \n",
       "34     35    0.996529    0.984882       0.361039    0.361039   \n",
       "35     36    0.996529    0.984884       0.361039    0.361039   \n",
       "36     37    0.996529    0.984885       0.361039    0.361039   \n",
       "37     38    0.996529    0.984865       0.361039    0.361039   \n",
       "38     39    0.996529    0.984871       0.361039    0.361039   \n",
       "39     40    0.996529    0.984869       0.361039    0.361039   \n",
       "40     41    0.996529    0.984845       0.361039    0.361039   \n",
       "41     42    0.996529    0.984859       0.361039    0.361039   \n",
       "42     43    0.996529    0.984855       0.361039    0.361039   \n",
       "43     44    0.996529    0.984834       0.361039    0.361039   \n",
       "44     45    0.996529    0.984842       0.361039    0.361039   \n",
       "45     46    0.996529    0.984841       0.361039    0.361039   \n",
       "46     47    0.996529    0.984834       0.361039    0.361039   \n",
       "47     48    0.996529    0.984820       0.361039    0.361039   \n",
       "48     49    0.996529    0.984833       0.361039    0.361039   \n",
       "49     50    0.996529    0.984837       0.361039    0.361039   \n",
       "\n",
       "                                         model_file  \n",
       "0    ./model_weights/Vanilla_Unet-0.0001-No-1-8.pth  \n",
       "1    ./model_weights/Vanilla_Unet-0.0001-No-2-8.pth  \n",
       "2    ./model_weights/Vanilla_Unet-0.0001-No-3-8.pth  \n",
       "3    ./model_weights/Vanilla_Unet-0.0001-No-4-8.pth  \n",
       "4    ./model_weights/Vanilla_Unet-0.0001-No-5-8.pth  \n",
       "5    ./model_weights/Vanilla_Unet-0.0001-No-6-8.pth  \n",
       "6    ./model_weights/Vanilla_Unet-0.0001-No-7-8.pth  \n",
       "7    ./model_weights/Vanilla_Unet-0.0001-No-8-8.pth  \n",
       "8    ./model_weights/Vanilla_Unet-0.0001-No-9-8.pth  \n",
       "9   ./model_weights/Vanilla_Unet-0.0001-No-10-8.pth  \n",
       "10  ./model_weights/Vanilla_Unet-0.0001-No-11-8.pth  \n",
       "11  ./model_weights/Vanilla_Unet-0.0001-No-12-8.pth  \n",
       "12  ./model_weights/Vanilla_Unet-0.0001-No-13-8.pth  \n",
       "13  ./model_weights/Vanilla_Unet-0.0001-No-14-8.pth  \n",
       "14  ./model_weights/Vanilla_Unet-0.0001-No-15-8.pth  \n",
       "15  ./model_weights/Vanilla_Unet-0.0001-No-16-8.pth  \n",
       "16  ./model_weights/Vanilla_Unet-0.0001-No-17-8.pth  \n",
       "17  ./model_weights/Vanilla_Unet-0.0001-No-18-8.pth  \n",
       "18  ./model_weights/Vanilla_Unet-0.0001-No-19-8.pth  \n",
       "19  ./model_weights/Vanilla_Unet-0.0001-No-20-8.pth  \n",
       "20  ./model_weights/Vanilla_Unet-0.0001-No-21-8.pth  \n",
       "21  ./model_weights/Vanilla_Unet-0.0001-No-22-8.pth  \n",
       "22  ./model_weights/Vanilla_Unet-0.0001-No-23-8.pth  \n",
       "23  ./model_weights/Vanilla_Unet-0.0001-No-24-8.pth  \n",
       "24  ./model_weights/Vanilla_Unet-0.0001-No-25-8.pth  \n",
       "25  ./model_weights/Vanilla_Unet-0.0001-No-26-8.pth  \n",
       "26  ./model_weights/Vanilla_Unet-0.0001-No-27-8.pth  \n",
       "27  ./model_weights/Vanilla_Unet-0.0001-No-28-8.pth  \n",
       "28  ./model_weights/Vanilla_Unet-0.0001-No-29-8.pth  \n",
       "29  ./model_weights/Vanilla_Unet-0.0001-No-30-8.pth  \n",
       "30  ./model_weights/Vanilla_Unet-0.0001-No-31-8.pth  \n",
       "31  ./model_weights/Vanilla_Unet-0.0001-No-32-8.pth  \n",
       "32  ./model_weights/Vanilla_Unet-0.0001-No-33-8.pth  \n",
       "33  ./model_weights/Vanilla_Unet-0.0001-No-34-8.pth  \n",
       "34  ./model_weights/Vanilla_Unet-0.0001-No-35-8.pth  \n",
       "35  ./model_weights/Vanilla_Unet-0.0001-No-36-8.pth  \n",
       "36  ./model_weights/Vanilla_Unet-0.0001-No-37-8.pth  \n",
       "37  ./model_weights/Vanilla_Unet-0.0001-No-38-8.pth  \n",
       "38  ./model_weights/Vanilla_Unet-0.0001-No-39-8.pth  \n",
       "39  ./model_weights/Vanilla_Unet-0.0001-No-40-8.pth  \n",
       "40  ./model_weights/Vanilla_Unet-0.0001-No-41-8.pth  \n",
       "41  ./model_weights/Vanilla_Unet-0.0001-No-42-8.pth  \n",
       "42  ./model_weights/Vanilla_Unet-0.0001-No-43-8.pth  \n",
       "43  ./model_weights/Vanilla_Unet-0.0001-No-44-8.pth  \n",
       "44  ./model_weights/Vanilla_Unet-0.0001-No-45-8.pth  \n",
       "45  ./model_weights/Vanilla_Unet-0.0001-No-46-8.pth  \n",
       "46  ./model_weights/Vanilla_Unet-0.0001-No-47-8.pth  \n",
       "47  ./model_weights/Vanilla_Unet-0.0001-No-48-8.pth  \n",
       "48  ./model_weights/Vanilla_Unet-0.0001-No-49-8.pth  \n",
       "49  ./model_weights/Vanilla_Unet-0.0001-No-50-8.pth  "
      ]
     },
     "metadata": {},
     "output_type": "display_data"
    },
    {
     "data": {
      "image/png": "[encoded data removed]",
      "text/plain": [
       "<Figure size 1080x576 with 4 Axes>"
      ]
     },
     "metadata": {
      "needs_background": "light"
     },
     "output_type": "display_data"
    }
   ],
   "source": [
    "history = defaultdict(list)\n",
    "best_val_dice = -float('inf')\n",
    "best_val_jaccard = -float('inf')\n",
    "start = time.time()\n",
    "\n",
    "scheduler = get_scheduler(optimizer)\n",
    "\n",
    "for epoch in range(CONFIG[\"NUM_EPOCHS\"]):\n",
    "    \n",
    "    print(f'{sr_}===================== Epoch: [{epoch+1}/{CONFIG[\"NUM_EPOCHS\"]}] =====================')\n",
    "\n",
    "    # train and validation loop\n",
    "    train_loss = train_fn(train_loader, model, optimizer, loss_fn, epoch+1, scheduler)\n",
    "    val_loss, val_scores = valid_one_epoch(model, test_loader,CONFIG[\"DEVICE\"], epoch+1)\n",
    "    val_dice, val_jaccard = val_scores\n",
    "    \n",
    "    \n",
    "    # save model\n",
    "    model_file = save_model(model, optimizer, loss_fn, epoch+1)\n",
    "    \n",
    "    \n",
    "    # weight and baise Log the metrics\n",
    "    wandb.log({\"Train Loss\": train_loss})\n",
    "    wandb.log({\"Valid Loss\": val_loss})\n",
    "    wandb.log({\"Valid dice\": val_dice})\n",
    "    wandb.log({\"Valid jaccard\": val_jaccard})\n",
    "\n",
    "    # logging\n",
    "    history[\"epoch\"].append(epoch+1)\n",
    "    history['Train_Loss'].append(train_loss)\n",
    "    history['Valid_Loss'].append(val_loss)\n",
    "    history['Valid_jaccard'].append(val_jaccard)\n",
    "    history['Valid_dice'].append(val_dice)\n",
    "    history[\"model_file\"].append(model_file)\n",
    "\n",
    "    \n",
    "    # print loss and scores\n",
    "    print(f\"\\n Final Train Loss: {train_loss:0.4f}  |  Final Val Loss: {val_loss:0.4f}\") \n",
    "    \n",
    "    print(f'Valid Dice: {val_dice:0.4f} | Valid Jaccard: {val_jaccard:0.4f}')\n",
    "    \n",
    "    \n",
    "    # print best val score\n",
    "    if best_val_dice < val_dice:\n",
    "        print(f\"{b_}val dice increased: {best_val_dice} ---> {val_dice}\")\n",
    "        best_val_dice = val_dice\n",
    "    \n",
    "    if best_val_jaccard < val_jaccard:\n",
    "        print(f\"{b_}val jaccard increased: {best_val_jaccard} ---> {val_jaccard}\")\n",
    "        best_val_jaccard = val_jaccard\n",
    "\n",
    "        \n",
    "        \n",
    "# print time\n",
    "end = time.time()\n",
    "time_elapsed = end - start\n",
    "avg_time_per_epoch = time_elapsed/CONFIG[\"NUM_EPOCHS\"] \n",
    "summary_df = pd.DataFrame.from_dict(history)\n",
    "\n",
    "print(f'\\n ====================== [Training Summary] ====================== \\n')\n",
    "print('Training complete in {:.0f}h {:.0f}m {:.0f}s'.format(\n",
    "    time_elapsed // 3600, (time_elapsed % 3600) // 60, (time_elapsed % 3600) % 60))\n",
    "\n",
    "print('avg time per [train + val] epoch {:.0f}h {:.0f}m {:.0f}s'.format(\n",
    "    avg_time_per_epoch // 3600, (avg_time_per_epoch % 3600) // 60, (avg_time_per_epoch % 3600) % 60))\n",
    "\n",
    "print(\"Best: ~~~~~~ dice: {:.4f}  || jaccard {:.4f} || val_loss {:.4f} || train_loss {:.4f} ~~~~~~\".format(\n",
    "    best_val_dice, best_val_jaccard, min(history['Valid_Loss']), min(history['Train_Loss'])))\n",
    "\n",
    "\n",
    "summary_df.to_csv('training_summary.csv')\n",
    "print(\"Saved training summary...\")\n",
    "\n",
    "print(f'\\n =============================================================== \\n')\n",
    "\n",
    "display(summary_df)\n",
    "\n",
    "# plotting training and validation loss\n",
    "plt.figure(figsize=(15,8))\n",
    "\n",
    "fig1 = plt.subplot(2,2,1)\n",
    "fig1.plot(history['epoch'], history['Train_Loss'], color='lime', marker='>')\n",
    "fig1.set_title(\"train loss [dice]\")\n",
    "fig1.set(xlabel='epoch', ylabel='train loss')\n",
    "\n",
    "fig2 = plt.subplot(2,2,2)\n",
    "fig2.plot(history['epoch'], history['Valid_Loss'], color='cyan',  marker='>')\n",
    "fig2.set_title(\"val loss [dice]\")\n",
    "fig2.set(xlabel='epoch', ylabel='val loss')\n",
    "\n",
    "fig3 = plt.subplot(2,2,3)\n",
    "fig3.plot(history['epoch'], history['Valid_dice'], color='orange',  marker='>')\n",
    "fig3.set_title(\"Val Dice\")\n",
    "fig3.set(xlabel='epoch', ylabel='val dice')\n",
    "\n",
    "fig4 = plt.subplot(2,2,4)\n",
    "fig4.plot(history['epoch'], history['Valid_jaccard'], color='lightcoral',  marker='>')\n",
    "fig4.set_title(\"val jaccard\")\n",
    "fig4.set(xlabel='epoch', ylabel='val jaccard')\n",
    "\n",
    "plt.show();"
   ]
  },
  {
   "cell_type": "markdown",
   "id": "11d0f63f",
   "metadata": {
    "papermill": {
     "duration": 2.536102,
     "end_time": "2022-07-30T23:07:26.363333",
     "exception": false,
     "start_time": "2022-07-30T23:07:23.827231",
     "status": "completed"
    },
    "tags": []
   },
   "source": [
    "# Inference:"
   ]
  },
  {
   "cell_type": "code",
   "execution_count": 24,
   "id": "49e707ed",
   "metadata": {
    "execution": {
     "iopub.execute_input": "2022-07-30T23:07:31.521127Z",
     "iopub.status.busy": "2022-07-30T23:07:31.520546Z",
     "iopub.status.idle": "2022-07-30T23:07:32.399294Z",
     "shell.execute_reply": "2022-07-30T23:07:32.398187Z"
    },
    "papermill": {
     "duration": 3.584135,
     "end_time": "2022-07-30T23:07:32.402204",
     "exception": false,
     "start_time": "2022-07-30T23:07:28.818069",
     "status": "completed"
    },
    "tags": []
   },
   "outputs": [],
   "source": [
    "# import numpy as np\n",
    "# from PIL import Image\n",
    "\n",
    "# def tile_image(p_img, folder, size: int = 768) -> list:\n",
    "#     w = h = size\n",
    "#     im = np.array(Image.open(p_img))\n",
    "#     # https://stackoverflow.com/a/47581978/4521646\n",
    "#     tiles = [im[i:(i + h), j:(j + w), ...] for i in range(0, im.shape[0], h) for j in range(0, im.shape[1], w)]\n",
    "#     idxs = [(i, (i + h), j, (j + w)) for i in range(0, im.shape[0], h) for j in range(0, im.shape[1], w)]\n",
    "#     name, _ = os.path.splitext(os.path.basename(p_img))\n",
    "#     files = []\n",
    "#     for k, tile in enumerate(tiles):\n",
    "#         if tile.shape[:2] != (h, w):\n",
    "#             tile_ = tile\n",
    "#             tile = np.zeros_like(tiles[0])\n",
    "#             tile[:tile_.shape[0], :tile_.shape[1], ...] = tile_\n",
    "#         p_img = os.path.join(folder, f\"{name}_{k:02}.png\")\n",
    "#         Image.fromarray(tile).save(p_img)\n",
    "#         files.append(p_img)\n",
    "#     return files, idxs\n"
   ]
  },
  {
   "cell_type": "code",
   "execution_count": 25,
   "id": "e9352478",
   "metadata": {
    "execution": {
     "iopub.execute_input": "2022-07-30T23:07:37.864671Z",
     "iopub.status.busy": "2022-07-30T23:07:37.864119Z",
     "iopub.status.idle": "2022-07-30T23:07:38.903062Z",
     "shell.execute_reply": "2022-07-30T23:07:38.901932Z"
    },
    "papermill": {
     "duration": 3.988714,
     "end_time": "2022-07-30T23:07:38.905981",
     "exception": false,
     "start_time": "2022-07-30T23:07:34.917267",
     "status": "completed"
    },
    "tags": []
   },
   "outputs": [],
   "source": [
    "# !mkdir -p /kaggle/temp/images"
   ]
  },
  {
   "cell_type": "code",
   "execution_count": 26,
   "id": "636a1bc2",
   "metadata": {
    "execution": {
     "iopub.execute_input": "2022-07-30T23:07:44.158950Z",
     "iopub.status.busy": "2022-07-30T23:07:44.158364Z",
     "iopub.status.idle": "2022-07-30T23:07:45.044408Z",
     "shell.execute_reply": "2022-07-30T23:07:45.043419Z"
    },
    "papermill": {
     "duration": 3.529298,
     "end_time": "2022-07-30T23:07:45.047195",
     "exception": false,
     "start_time": "2022-07-30T23:07:41.517897",
     "status": "completed"
    },
    "tags": []
   },
   "outputs": [],
   "source": [
    "# !mkdir -p frozen_packages\n",
    "# !cp ../input/starter-flash-semantic-segmentation/frozen_packages/* frozen_packages/\n",
    "# !cp ../input/ftus-segm-eda-viewer/frozen_packages/* frozen_packages/\n",
    "# !pip install -q 'kaggle-image-segmentation' --no-index --find-links frozen_packages/"
   ]
  },
  {
   "cell_type": "code",
   "execution_count": 27,
   "id": "f86e7ba8",
   "metadata": {
    "execution": {
     "iopub.execute_input": "2022-07-30T23:07:50.064544Z",
     "iopub.status.busy": "2022-07-30T23:07:50.063982Z",
     "iopub.status.idle": "2022-07-30T23:07:50.991842Z",
     "shell.execute_reply": "2022-07-30T23:07:50.990822Z"
    },
    "papermill": {
     "duration": 3.39519,
     "end_time": "2022-07-30T23:07:50.994386",
     "exception": false,
     "start_time": "2022-07-30T23:07:47.599196",
     "status": "completed"
    },
    "tags": []
   },
   "outputs": [],
   "source": [
    "# from scipy.ndimage import binary_opening\n",
    "# from skimage.morphology import disk\n",
    "# from kaggle_imsegm.mask import rle_encode\n",
    "\n",
    "\n",
    "# DATASET_FOLDER = \"/kaggle/input/hubmap-organ-segmentation\"\n",
    "# df_test = pd.read_csv(\"../input/hubmap-organ-segmentation/test.csv\")\n",
    "# TILE_SIZE = 1024\n",
    "\n",
    "# preds = []\n",
    "# for _, row in df_test.iterrows():\n",
    "# #     print(row[\"pixel_size\"])\n",
    "#     scale = row[\"pixel_size\"] / 0.4\n",
    "#     test_img = os.path.join(DATASET_FOLDER, \"test_images\", f\"{row['id']}.tiff\")\n",
    "#     im = plt.imread(test_img)\n",
    "    \n",
    "#     # perform scaling on level tiles as the input is scaled to the CNN input size anyway\n",
    "    \n",
    "#     tiles_img, idxs = tile_image(test_img, \"/kaggle/temp/images\", size=int(TILE_SIZE / scale))\n",
    "# #     print(idxs)\n",
    "#     pred_list = []\n",
    "#     for img_file in tiles_img:\n",
    "#         img_org = plt.imread(img_file)\n",
    "        \n",
    "#         transformed = test_transform(image=img_org)\n",
    "#         img = transformed[\"image\"]\n",
    "#         img = img.reshape((1, *img.shape))\n",
    "#         img = img.to(CONFIG[\"DEVICE\"])\n",
    "        \n",
    "#         output = model(img)\n",
    "#         output = nn.Sigmoid()(output)\n",
    "#         msks = (output>0.5).to(torch.uint8).cpu().detach().numpy()\n",
    "        \n",
    "#         msks = msks.reshape((msks.shape[2], msks.shape[3]))\n",
    "#         msks = cv2.resize(msks, (img_org.shape[0:2]), interpolation = cv2.INTER_AREA) #cv2.resize(msks,(*img_org.shape))\n",
    "# #         print(\"msks--->\", msks.shape)\n",
    "        \n",
    "#         pred_list.append(msks)\n",
    "    \n",
    "    \n",
    "#     seg = np.zeros(im.shape[:2], dtype=np.uint8)\n",
    "#     for tile, (i1, i2, j1, j2) in zip(pred_list, idxs):\n",
    "#         i2 = min(i2, im.shape[0])\n",
    "#         j2 = min(j2, im.shape[1])\n",
    "# #         print('tile',np.array(tile, dtype=np.uint8)[:(i2 - i1), :(j2 - j1)].shape)\n",
    "# #         print(seg[i1:i2, j1:j2].shape)\n",
    "#         seg[i1:i2, j1:j2] = np.array(tile, dtype=np.uint8)[:(i2 - i1), :(j2 - j1)]\n",
    "#     # seg = resize(seg * 255, img.shape[:2], order=0) / 255\n",
    "#     seg = (seg >= 1).astype(np.uint8)  # binary mask\n",
    "#     seg = binary_opening(seg, structure=disk(6)).astype(np.uint8)\n",
    "    \n",
    "    \n",
    "#     rle = rle_encode(seg.T) if np.sum(seg) > 1 else {}\n",
    "#     name, _ = os.path.splitext(os.path.basename(test_img))\n",
    "#     preds.append({\"id\": row['id'], \"rle\": rle.get(1, \"\")})\n",
    "    \n",
    "# df_pred = pd.DataFrame(preds)\n",
    "# display(df_pred[df_pred[\"rle\"] != \"\"].head())"
   ]
  },
  {
   "cell_type": "code",
   "execution_count": 28,
   "id": "0fe453fa",
   "metadata": {
    "execution": {
     "iopub.execute_input": "2022-07-30T23:07:56.386286Z",
     "iopub.status.busy": "2022-07-30T23:07:56.385790Z",
     "iopub.status.idle": "2022-07-30T23:07:57.334567Z",
     "shell.execute_reply": "2022-07-30T23:07:57.333569Z"
    },
    "papermill": {
     "duration": 3.410992,
     "end_time": "2022-07-30T23:07:57.337381",
     "exception": false,
     "start_time": "2022-07-30T23:07:53.926389",
     "status": "completed"
    },
    "tags": []
   },
   "outputs": [],
   "source": [
    "# df_ssub = pd.read_csv(os.path.join(DATASET_FOLDER, \"sample_submission.csv\"))\n",
    "# del df_ssub['rle']\n",
    "# df_pred = df_ssub.merge(df_pred, on='id')\n",
    "\n",
    "# df_pred[['id', 'rle']].to_csv(\"submission.csv\", index=False)\n",
    "\n",
    "# !head submission.csv"
   ]
  },
  {
   "cell_type": "code",
   "execution_count": 29,
   "id": "e01877d4",
   "metadata": {
    "execution": {
     "iopub.execute_input": "2022-07-30T23:08:02.338345Z",
     "iopub.status.busy": "2022-07-30T23:08:02.337979Z",
     "iopub.status.idle": "2022-07-30T23:08:03.231279Z",
     "shell.execute_reply": "2022-07-30T23:08:03.230314Z"
    },
    "papermill": {
     "duration": 3.357913,
     "end_time": "2022-07-30T23:08:03.234083",
     "exception": false,
     "start_time": "2022-07-30T23:07:59.876170",
     "status": "completed"
    },
    "tags": []
   },
   "outputs": [],
   "source": [
    "# print(seg.shape)\n",
    "# plt.imshow(seg)"
   ]
  },
  {
   "cell_type": "markdown",
   "id": "fc8aa056",
   "metadata": {
    "papermill": {
     "duration": 2.436323,
     "end_time": "2022-07-30T23:08:08.416729",
     "exception": false,
     "start_time": "2022-07-30T23:08:05.980406",
     "status": "completed"
    },
    "tags": []
   },
   "source": [
    "# Model File Check:"
   ]
  },
  {
   "cell_type": "code",
   "execution_count": 30,
   "id": "b08091c1",
   "metadata": {
    "execution": {
     "iopub.execute_input": "2022-07-30T23:08:13.844146Z",
     "iopub.status.busy": "2022-07-30T23:08:13.843620Z",
     "iopub.status.idle": "2022-07-30T23:08:15.710060Z",
     "shell.execute_reply": "2022-07-30T23:08:15.708831Z"
    },
    "papermill": {
     "duration": 4.349788,
     "end_time": "2022-07-30T23:08:15.712870",
     "exception": false,
     "start_time": "2022-07-30T23:08:11.363082",
     "status": "completed"
    },
    "tags": []
   },
   "outputs": [
    {
     "name": "stdout",
     "output_type": "stream",
     "text": [
      "total 11587424\r\n",
      "drwxr-xr-x 2 root root      4096 Jul 30 23:07 .\r\n",
      "drwxr-xr-x 4 root root      4096 Jul 30 23:07 ..\r\n",
      "-rw-r--r-- 1 root root 237306273 Jul 30 20:32 Vanilla_Unet-0.0001-No-1-8.pth\r\n",
      "-rw-r--r-- 1 root root 237306273 Jul 30 21:00 Vanilla_Unet-0.0001-No-10-8.pth\r\n",
      "-rw-r--r-- 1 root root 237306273 Jul 30 21:03 Vanilla_Unet-0.0001-No-11-8.pth\r\n",
      "-rw-r--r-- 1 root root 237306273 Jul 30 21:06 Vanilla_Unet-0.0001-No-12-8.pth\r\n",
      "-rw-r--r-- 1 root root 237306273 Jul 30 21:09 Vanilla_Unet-0.0001-No-13-8.pth\r\n",
      "-rw-r--r-- 1 root root 237306273 Jul 30 21:13 Vanilla_Unet-0.0001-No-14-8.pth\r\n",
      "-rw-r--r-- 1 root root 237306273 Jul 30 21:16 Vanilla_Unet-0.0001-No-15-8.pth\r\n",
      "-rw-r--r-- 1 root root 237306273 Jul 30 21:19 Vanilla_Unet-0.0001-No-16-8.pth\r\n",
      "-rw-r--r-- 1 root root 237306273 Jul 30 21:22 Vanilla_Unet-0.0001-No-17-8.pth\r\n",
      "-rw-r--r-- 1 root root 237306273 Jul 30 21:25 Vanilla_Unet-0.0001-No-18-8.pth\r\n",
      "-rw-r--r-- 1 root root 237306273 Jul 30 21:28 Vanilla_Unet-0.0001-No-19-8.pth\r\n",
      "-rw-r--r-- 1 root root 237306273 Jul 30 20:36 Vanilla_Unet-0.0001-No-2-8.pth\r\n",
      "-rw-r--r-- 1 root root 237306273 Jul 30 21:31 Vanilla_Unet-0.0001-No-20-8.pth\r\n",
      "-rw-r--r-- 1 root root 237306273 Jul 30 21:35 Vanilla_Unet-0.0001-No-21-8.pth\r\n",
      "-rw-r--r-- 1 root root 237306273 Jul 30 21:38 Vanilla_Unet-0.0001-No-22-8.pth\r\n",
      "-rw-r--r-- 1 root root 237306273 Jul 30 21:41 Vanilla_Unet-0.0001-No-23-8.pth\r\n",
      "-rw-r--r-- 1 root root 237306273 Jul 30 21:44 Vanilla_Unet-0.0001-No-24-8.pth\r\n",
      "-rw-r--r-- 1 root root 237306273 Jul 30 21:47 Vanilla_Unet-0.0001-No-25-8.pth\r\n",
      "-rw-r--r-- 1 root root 237306273 Jul 30 21:50 Vanilla_Unet-0.0001-No-26-8.pth\r\n",
      "-rw-r--r-- 1 root root 237306273 Jul 30 21:53 Vanilla_Unet-0.0001-No-27-8.pth\r\n",
      "-rw-r--r-- 1 root root 237306273 Jul 30 21:57 Vanilla_Unet-0.0001-No-28-8.pth\r\n",
      "-rw-r--r-- 1 root root 237306273 Jul 30 22:00 Vanilla_Unet-0.0001-No-29-8.pth\r\n",
      "-rw-r--r-- 1 root root 237306273 Jul 30 20:39 Vanilla_Unet-0.0001-No-3-8.pth\r\n",
      "-rw-r--r-- 1 root root 237306273 Jul 30 22:03 Vanilla_Unet-0.0001-No-30-8.pth\r\n",
      "-rw-r--r-- 1 root root 237306273 Jul 30 22:06 Vanilla_Unet-0.0001-No-31-8.pth\r\n",
      "-rw-r--r-- 1 root root 237306273 Jul 30 22:09 Vanilla_Unet-0.0001-No-32-8.pth\r\n",
      "-rw-r--r-- 1 root root 237306273 Jul 30 22:12 Vanilla_Unet-0.0001-No-33-8.pth\r\n",
      "-rw-r--r-- 1 root root 237306273 Jul 30 22:16 Vanilla_Unet-0.0001-No-34-8.pth\r\n",
      "-rw-r--r-- 1 root root 237306273 Jul 30 22:19 Vanilla_Unet-0.0001-No-35-8.pth\r\n",
      "-rw-r--r-- 1 root root 237306273 Jul 30 22:22 Vanilla_Unet-0.0001-No-36-8.pth\r\n",
      "-rw-r--r-- 1 root root 237306273 Jul 30 22:25 Vanilla_Unet-0.0001-No-37-8.pth\r\n",
      "-rw-r--r-- 1 root root 237306273 Jul 30 22:28 Vanilla_Unet-0.0001-No-38-8.pth\r\n",
      "-rw-r--r-- 1 root root 237306273 Jul 30 22:32 Vanilla_Unet-0.0001-No-39-8.pth\r\n",
      "-rw-r--r-- 1 root root 237306273 Jul 30 20:42 Vanilla_Unet-0.0001-No-4-8.pth\r\n",
      "-rw-r--r-- 1 root root 237306273 Jul 30 22:35 Vanilla_Unet-0.0001-No-40-8.pth\r\n",
      "-rw-r--r-- 1 root root 237306273 Jul 30 22:38 Vanilla_Unet-0.0001-No-41-8.pth\r\n",
      "-rw-r--r-- 1 root root 237306273 Jul 30 22:41 Vanilla_Unet-0.0001-No-42-8.pth\r\n",
      "-rw-r--r-- 1 root root 237306273 Jul 30 22:44 Vanilla_Unet-0.0001-No-43-8.pth\r\n",
      "-rw-r--r-- 1 root root 237306273 Jul 30 22:47 Vanilla_Unet-0.0001-No-44-8.pth\r\n",
      "-rw-r--r-- 1 root root 237306273 Jul 30 22:51 Vanilla_Unet-0.0001-No-45-8.pth\r\n",
      "-rw-r--r-- 1 root root 237306273 Jul 30 22:54 Vanilla_Unet-0.0001-No-46-8.pth\r\n",
      "-rw-r--r-- 1 root root 237306273 Jul 30 22:57 Vanilla_Unet-0.0001-No-47-8.pth\r\n",
      "-rw-r--r-- 1 root root 237306273 Jul 30 23:00 Vanilla_Unet-0.0001-No-48-8.pth\r\n",
      "-rw-r--r-- 1 root root 237306273 Jul 30 23:04 Vanilla_Unet-0.0001-No-49-8.pth\r\n",
      "-rw-r--r-- 1 root root 237306273 Jul 30 20:45 Vanilla_Unet-0.0001-No-5-8.pth\r\n",
      "-rw-r--r-- 1 root root 237306273 Jul 30 23:07 Vanilla_Unet-0.0001-No-50-8.pth\r\n",
      "-rw-r--r-- 1 root root 237306273 Jul 30 20:48 Vanilla_Unet-0.0001-No-6-8.pth\r\n",
      "-rw-r--r-- 1 root root 237306273 Jul 30 20:51 Vanilla_Unet-0.0001-No-7-8.pth\r\n",
      "-rw-r--r-- 1 root root 237306273 Jul 30 20:54 Vanilla_Unet-0.0001-No-8-8.pth\r\n",
      "-rw-r--r-- 1 root root 237306273 Jul 30 20:57 Vanilla_Unet-0.0001-No-9-8.pth\r\n"
     ]
    }
   ],
   "source": [
    "!ls -la ./model_weights"
   ]
  },
  {
   "cell_type": "code",
   "execution_count": null,
   "id": "12aa5917",
   "metadata": {
    "papermill": {
     "duration": 2.458605,
     "end_time": "2022-07-30T23:08:20.878767",
     "exception": false,
     "start_time": "2022-07-30T23:08:18.420162",
     "status": "completed"
    },
    "tags": []
   },
   "outputs": [],
   "source": []
  },
  {
   "cell_type": "code",
   "execution_count": null,
   "id": "94362147",
   "metadata": {
    "papermill": {
     "duration": 2.704107,
     "end_time": "2022-07-30T23:08:26.042106",
     "exception": false,
     "start_time": "2022-07-30T23:08:23.337999",
     "status": "completed"
    },
    "tags": []
   },
   "outputs": [],
   "source": []
  },
  {
   "cell_type": "code",
   "execution_count": null,
   "id": "7b72e2f6",
   "metadata": {
    "papermill": {
     "duration": 2.476101,
     "end_time": "2022-07-30T23:08:30.970148",
     "exception": false,
     "start_time": "2022-07-30T23:08:28.494047",
     "status": "completed"
    },
    "tags": []
   },
   "outputs": [],
   "source": []
  },
  {
   "cell_type": "code",
   "execution_count": null,
   "id": "83d9713e",
   "metadata": {
    "papermill": {
     "duration": 2.451565,
     "end_time": "2022-07-30T23:08:35.910880",
     "exception": false,
     "start_time": "2022-07-30T23:08:33.459315",
     "status": "completed"
    },
    "tags": []
   },
   "outputs": [],
   "source": []
  }
 ],
 "metadata": {
  "kernelspec": {
   "display_name": "Python 3",
   "language": "python",
   "name": "python3"
  },
  "language_info": {
   "codemirror_mode": {
    "name": "ipython",
    "version": 3
   },
   "file_extension": ".py",
   "mimetype": "text/x-python",
   "name": "python",
   "nbconvert_exporter": "python",
   "pygments_lexer": "ipython3",
   "version": "3.7.12"
  },
  "papermill": {
   "default_parameters": {},
   "duration": 9626.97447,
   "end_time": "2022-07-30T23:08:41.335382",
   "environment_variables": {},
   "exception": null,
   "input_path": "__notebook__.ipynb",
   "output_path": "__notebook__.ipynb",
   "parameters": {},
   "start_time": "2022-07-30T20:28:14.360912",
   "version": "2.3.4"
  },
  "widgets": {
   "application/vnd.jupyter.widget-state+json": {
    "state": {
     "037f5d5c7b1842fd8c4c602fe76f2a7b": {
      "model_module": "@jupyter-widgets/base",
      "model_module_version": "1.2.0",
      "model_name": "LayoutModel",
      "state": {
       "_model_module": "@jupyter-widgets/base",
       "_model_module_version": "1.2.0",
       "_model_name": "LayoutModel",
       "_view_count": null,
       "_view_module": "@jupyter-widgets/base",
       "_view_module_version": "1.2.0",
       "_view_name": "LayoutView",
       "align_content": null,
       "align_items": null,
       "align_self": null,
       "border": null,
       "bottom": null,
       "display": null,
       "flex": null,
       "flex_flow": null,
       "grid_area": null,
       "grid_auto_columns": null,
       "grid_auto_flow": null,
       "grid_auto_rows": null,
       "grid_column": null,
       "grid_gap": null,
       "grid_row": null,
       "grid_template_areas": null,
       "grid_template_columns": null,
       "grid_template_rows": null,
       "height": null,
       "justify_content": null,
       "justify_items": null,
       "left": null,
       "margin": null,
       "max_height": null,
       "max_width": null,
       "min_height": null,
       "min_width": null,
       "object_fit": null,
       "object_position": null,
       "order": null,
       "overflow": null,
       "overflow_x": null,
       "overflow_y": null,
       "padding": null,
       "right": null,
       "top": null,
       "visibility": null,
       "width": null
      }
     },
     "0df15ab2abe3480e914244f37984450b": {
      "model_module": "@jupyter-widgets/controls",
      "model_module_version": "1.5.0",
      "model_name": "ProgressStyleModel",
      "state": {
       "_model_module": "@jupyter-widgets/controls",
       "_model_module_version": "1.5.0",
       "_model_name": "ProgressStyleModel",
       "_view_count": null,
       "_view_module": "@jupyter-widgets/base",
       "_view_module_version": "1.2.0",
       "_view_name": "StyleView",
       "bar_color": null,
       "description_width": ""
      }
     },
     "11827718533d41408b42a7ae528e795e": {
      "model_module": "@jupyter-widgets/base",
      "model_module_version": "1.2.0",
      "model_name": "LayoutModel",
      "state": {
       "_model_module": "@jupyter-widgets/base",
       "_model_module_version": "1.2.0",
       "_model_name": "LayoutModel",
       "_view_count": null,
       "_view_module": "@jupyter-widgets/base",
       "_view_module_version": "1.2.0",
       "_view_name": "LayoutView",
       "align_content": null,
       "align_items": null,
       "align_self": null,
       "border": null,
       "bottom": null,
       "display": null,
       "flex": null,
       "flex_flow": null,
       "grid_area": null,
       "grid_auto_columns": null,
       "grid_auto_flow": null,
       "grid_auto_rows": null,
       "grid_column": null,
       "grid_gap": null,
       "grid_row": null,
       "grid_template_areas": null,
       "grid_template_columns": null,
       "grid_template_rows": null,
       "height": null,
       "justify_content": null,
       "justify_items": null,
       "left": null,
       "margin": null,
       "max_height": null,
       "max_width": null,
       "min_height": null,
       "min_width": null,
       "object_fit": null,
       "object_position": null,
       "order": null,
       "overflow": null,
       "overflow_x": null,
       "overflow_y": null,
       "padding": null,
       "right": null,
       "top": null,
       "visibility": null,
       "width": null
      }
     },
     "17ee4dce5adc4198b3d46d36d8ad57cc": {
      "model_module": "@jupyter-widgets/controls",
      "model_module_version": "1.5.0",
      "model_name": "LabelModel",
      "state": {
       "_dom_classes": [],
       "_model_module": "@jupyter-widgets/controls",
       "_model_module_version": "1.5.0",
       "_model_name": "LabelModel",
       "_view_count": null,
       "_view_module": "@jupyter-widgets/controls",
       "_view_module_version": "1.5.0",
       "_view_name": "LabelView",
       "description": "",
       "description_tooltip": null,
       "layout": "IPY_MODEL_84f11671416742769e30279913581e21",
       "placeholder": "​",
       "style": "IPY_MODEL_faec9fdb83e645d997a789f1766deae2",
       "value": ""
      }
     },
     "1ad3a1d55ea84cfa8f68d0446288d3c6": {
      "model_module": "@jupyter-widgets/controls",
      "model_module_version": "1.5.0",
      "model_name": "ProgressStyleModel",
      "state": {
       "_model_module": "@jupyter-widgets/controls",
       "_model_module_version": "1.5.0",
       "_model_name": "ProgressStyleModel",
       "_view_count": null,
       "_view_module": "@jupyter-widgets/base",
       "_view_module_version": "1.2.0",
       "_view_name": "StyleView",
       "bar_color": null,
       "description_width": ""
      }
     },
     "1d3bf9afaab040e091b8098aa55271e7": {
      "model_module": "@jupyter-widgets/base",
      "model_module_version": "1.2.0",
      "model_name": "LayoutModel",
      "state": {
       "_model_module": "@jupyter-widgets/base",
       "_model_module_version": "1.2.0",
       "_model_name": "LayoutModel",
       "_view_count": null,
       "_view_module": "@jupyter-widgets/base",
       "_view_module_version": "1.2.0",
       "_view_name": "LayoutView",
       "align_content": null,
       "align_items": null,
       "align_self": null,
       "border": null,
       "bottom": null,
       "display": null,
       "flex": null,
       "flex_flow": null,
       "grid_area": null,
       "grid_auto_columns": null,
       "grid_auto_flow": null,
       "grid_auto_rows": null,
       "grid_column": null,
       "grid_gap": null,
       "grid_row": null,
       "grid_template_areas": null,
       "grid_template_columns": null,
       "grid_template_rows": null,
       "height": null,
       "justify_content": null,
       "justify_items": null,
       "left": null,
       "margin": null,
       "max_height": null,
       "max_width": null,
       "min_height": null,
       "min_width": null,
       "object_fit": null,
       "object_position": null,
       "order": null,
       "overflow": null,
       "overflow_x": null,
       "overflow_y": null,
       "padding": null,
       "right": null,
       "top": null,
       "visibility": null,
       "width": null
      }
     },
     "1f375b2489604876b48b16e447cc5170": {
      "model_module": "@jupyter-widgets/base",
      "model_module_version": "1.2.0",
      "model_name": "LayoutModel",
      "state": {
       "_model_module": "@jupyter-widgets/base",
       "_model_module_version": "1.2.0",
       "_model_name": "LayoutModel",
       "_view_count": null,
       "_view_module": "@jupyter-widgets/base",
       "_view_module_version": "1.2.0",
       "_view_name": "LayoutView",
       "align_content": null,
       "align_items": null,
       "align_self": null,
       "border": null,
       "bottom": null,
       "display": null,
       "flex": null,
       "flex_flow": null,
       "grid_area": null,
       "grid_auto_columns": null,
       "grid_auto_flow": null,
       "grid_auto_rows": null,
       "grid_column": null,
       "grid_gap": null,
       "grid_row": null,
       "grid_template_areas": null,
       "grid_template_columns": null,
       "grid_template_rows": null,
       "height": null,
       "justify_content": null,
       "justify_items": null,
       "left": null,
       "margin": null,
       "max_height": null,
       "max_width": null,
       "min_height": null,
       "min_width": null,
       "object_fit": null,
       "object_position": null,
       "order": null,
       "overflow": null,
       "overflow_x": null,
       "overflow_y": null,
       "padding": null,
       "right": null,
       "top": null,
       "visibility": null,
       "width": null
      }
     },
     "25f3e7ef406b449c98e552d93705e87d": {
      "model_module": "@jupyter-widgets/controls",
      "model_module_version": "1.5.0",
      "model_name": "FloatProgressModel",
      "state": {
       "_dom_classes": [],
       "_model_module": "@jupyter-widgets/controls",
       "_model_module_version": "1.5.0",
       "_model_name": "FloatProgressModel",
       "_view_count": null,
       "_view_module": "@jupyter-widgets/controls",
       "_view_module_version": "1.5.0",
       "_view_name": "ProgressView",
       "bar_style": "success",
       "description": "",
       "description_tooltip": null,
       "layout": "IPY_MODEL_76937a5add3d4139a1618b408254d4e9",
       "max": 77999237.0,
       "min": 0.0,
       "orientation": "horizontal",
       "style": "IPY_MODEL_1ad3a1d55ea84cfa8f68d0446288d3c6",
       "value": 77999237.0
      }
     },
     "29b357cd8aac4553bf3e77961e882c68": {
      "model_module": "@jupyter-widgets/controls",
      "model_module_version": "1.5.0",
      "model_name": "ProgressStyleModel",
      "state": {
       "_model_module": "@jupyter-widgets/controls",
       "_model_module_version": "1.5.0",
       "_model_name": "ProgressStyleModel",
       "_view_count": null,
       "_view_module": "@jupyter-widgets/base",
       "_view_module_version": "1.2.0",
       "_view_name": "StyleView",
       "bar_color": null,
       "description_width": ""
      }
     },
     "39fee3d16b914293840e9103428a0141": {
      "model_module": "@jupyter-widgets/base",
      "model_module_version": "1.2.0",
      "model_name": "LayoutModel",
      "state": {
       "_model_module": "@jupyter-widgets/base",
       "_model_module_version": "1.2.0",
       "_model_name": "LayoutModel",
       "_view_count": null,
       "_view_module": "@jupyter-widgets/base",
       "_view_module_version": "1.2.0",
       "_view_name": "LayoutView",
       "align_content": null,
       "align_items": null,
       "align_self": null,
       "border": null,
       "bottom": null,
       "display": null,
       "flex": null,
       "flex_flow": null,
       "grid_area": null,
       "grid_auto_columns": null,
       "grid_auto_flow": null,
       "grid_auto_rows": null,
       "grid_column": null,
       "grid_gap": null,
       "grid_row": null,
       "grid_template_areas": null,
       "grid_template_columns": null,
       "grid_template_rows": null,
       "height": null,
       "justify_content": null,
       "justify_items": null,
       "left": null,
       "margin": null,
       "max_height": null,
       "max_width": null,
       "min_height": null,
       "min_width": null,
       "object_fit": null,
       "object_position": null,
       "order": null,
       "overflow": null,
       "overflow_x": null,
       "overflow_y": null,
       "padding": null,
       "right": null,
       "top": null,
       "visibility": null,
       "width": null
      }
     },
     "4e031ebfb8204155982858b74903e323": {
      "model_module": "@jupyter-widgets/controls",
      "model_module_version": "1.5.0",
      "model_name": "DescriptionStyleModel",
      "state": {
       "_model_module": "@jupyter-widgets/controls",
       "_model_module_version": "1.5.0",
       "_model_name": "DescriptionStyleModel",
       "_view_count": null,
       "_view_module": "@jupyter-widgets/base",
       "_view_module_version": "1.2.0",
       "_view_name": "StyleView",
       "description_width": ""
      }
     },
     "6042d34bea294d928ed3daa9862e2a65": {
      "model_module": "@jupyter-widgets/controls",
      "model_module_version": "1.5.0",
      "model_name": "VBoxModel",
      "state": {
       "_dom_classes": [],
       "_model_module": "@jupyter-widgets/controls",
       "_model_module_version": "1.5.0",
       "_model_name": "VBoxModel",
       "_view_count": null,
       "_view_module": "@jupyter-widgets/controls",
       "_view_module_version": "1.5.0",
       "_view_name": "VBoxView",
       "box_style": "",
       "children": [
        "IPY_MODEL_eecf2e8b532f451396a31a79658b8232",
        "IPY_MODEL_d71979bf777b404ca006bb68930c0eef"
       ],
       "layout": "IPY_MODEL_037f5d5c7b1842fd8c4c602fe76f2a7b"
      }
     },
     "75700672cb4b430c96cd1936087d89d7": {
      "model_module": "@jupyter-widgets/controls",
      "model_module_version": "1.5.0",
      "model_name": "DescriptionStyleModel",
      "state": {
       "_model_module": "@jupyter-widgets/controls",
       "_model_module_version": "1.5.0",
       "_model_name": "DescriptionStyleModel",
       "_view_count": null,
       "_view_module": "@jupyter-widgets/base",
       "_view_module_version": "1.2.0",
       "_view_name": "StyleView",
       "description_width": ""
      }
     },
     "76937a5add3d4139a1618b408254d4e9": {
      "model_module": "@jupyter-widgets/base",
      "model_module_version": "1.2.0",
      "model_name": "LayoutModel",
      "state": {
       "_model_module": "@jupyter-widgets/base",
       "_model_module_version": "1.2.0",
       "_model_name": "LayoutModel",
       "_view_count": null,
       "_view_module": "@jupyter-widgets/base",
       "_view_module_version": "1.2.0",
       "_view_name": "LayoutView",
       "align_content": null,
       "align_items": null,
       "align_self": null,
       "border": null,
       "bottom": null,
       "display": null,
       "flex": null,
       "flex_flow": null,
       "grid_area": null,
       "grid_auto_columns": null,
       "grid_auto_flow": null,
       "grid_auto_rows": null,
       "grid_column": null,
       "grid_gap": null,
       "grid_row": null,
       "grid_template_areas": null,
       "grid_template_columns": null,
       "grid_template_rows": null,
       "height": null,
       "justify_content": null,
       "justify_items": null,
       "left": null,
       "margin": null,
       "max_height": null,
       "max_width": null,
       "min_height": null,
       "min_width": null,
       "object_fit": null,
       "object_position": null,
       "order": null,
       "overflow": null,
       "overflow_x": null,
       "overflow_y": null,
       "padding": null,
       "right": null,
       "top": null,
       "visibility": null,
       "width": null
      }
     },
     "7e73c7524d0a427e882bf622dcffffd4": {
      "model_module": "@jupyter-widgets/controls",
      "model_module_version": "1.5.0",
      "model_name": "VBoxModel",
      "state": {
       "_dom_classes": [],
       "_model_module": "@jupyter-widgets/controls",
       "_model_module_version": "1.5.0",
       "_model_name": "VBoxModel",
       "_view_count": null,
       "_view_module": "@jupyter-widgets/controls",
       "_view_module_version": "1.5.0",
       "_view_name": "VBoxView",
       "box_style": "",
       "children": [
        "IPY_MODEL_17ee4dce5adc4198b3d46d36d8ad57cc",
        "IPY_MODEL_7ea871d2e7cf4c3c9b63c11ac18cb8a9"
       ],
       "layout": "IPY_MODEL_bc54617c0ba84d7b91130ff22a59c7ae"
      }
     },
     "7ea871d2e7cf4c3c9b63c11ac18cb8a9": {
      "model_module": "@jupyter-widgets/controls",
      "model_module_version": "1.5.0",
      "model_name": "FloatProgressModel",
      "state": {
       "_dom_classes": [],
       "_model_module": "@jupyter-widgets/controls",
       "_model_module_version": "1.5.0",
       "_model_name": "FloatProgressModel",
       "_view_count": null,
       "_view_module": "@jupyter-widgets/controls",
       "_view_module_version": "1.5.0",
       "_view_name": "ProgressView",
       "bar_style": "",
       "description": "",
       "description_tooltip": null,
       "layout": "IPY_MODEL_1f375b2489604876b48b16e447cc5170",
       "max": 1.0,
       "min": 0.0,
       "orientation": "horizontal",
       "style": "IPY_MODEL_0df15ab2abe3480e914244f37984450b",
       "value": 0.0
      }
     },
     "84f11671416742769e30279913581e21": {
      "model_module": "@jupyter-widgets/base",
      "model_module_version": "1.2.0",
      "model_name": "LayoutModel",
      "state": {
       "_model_module": "@jupyter-widgets/base",
       "_model_module_version": "1.2.0",
       "_model_name": "LayoutModel",
       "_view_count": null,
       "_view_module": "@jupyter-widgets/base",
       "_view_module_version": "1.2.0",
       "_view_name": "LayoutView",
       "align_content": null,
       "align_items": null,
       "align_self": null,
       "border": null,
       "bottom": null,
       "display": null,
       "flex": null,
       "flex_flow": null,
       "grid_area": null,
       "grid_auto_columns": null,
       "grid_auto_flow": null,
       "grid_auto_rows": null,
       "grid_column": null,
       "grid_gap": null,
       "grid_row": null,
       "grid_template_areas": null,
       "grid_template_columns": null,
       "grid_template_rows": null,
       "height": null,
       "justify_content": null,
       "justify_items": null,
       "left": null,
       "margin": null,
       "max_height": null,
       "max_width": null,
       "min_height": null,
       "min_width": null,
       "object_fit": null,
       "object_position": null,
       "order": null,
       "overflow": null,
       "overflow_x": null,
       "overflow_y": null,
       "padding": null,
       "right": null,
       "top": null,
       "visibility": null,
       "width": null
      }
     },
     "b43e2ff2105a466a8f74d1c8cc6af1d0": {
      "model_module": "@jupyter-widgets/controls",
      "model_module_version": "1.5.0",
      "model_name": "HTMLModel",
      "state": {
       "_dom_classes": [],
       "_model_module": "@jupyter-widgets/controls",
       "_model_module_version": "1.5.0",
       "_model_name": "HTMLModel",
       "_view_count": null,
       "_view_module": "@jupyter-widgets/controls",
       "_view_module_version": "1.5.0",
       "_view_name": "HTMLView",
       "description": "",
       "description_tooltip": null,
       "layout": "IPY_MODEL_f6d556aababf455d900b5ae7a948d807",
       "placeholder": "​",
       "style": "IPY_MODEL_f7978b98dc284f2abd8cd8cda91c5015",
       "value": "100%"
      }
     },
     "bc54617c0ba84d7b91130ff22a59c7ae": {
      "model_module": "@jupyter-widgets/base",
      "model_module_version": "1.2.0",
      "model_name": "LayoutModel",
      "state": {
       "_model_module": "@jupyter-widgets/base",
       "_model_module_version": "1.2.0",
       "_model_name": "LayoutModel",
       "_view_count": null,
       "_view_module": "@jupyter-widgets/base",
       "_view_module_version": "1.2.0",
       "_view_name": "LayoutView",
       "align_content": null,
       "align_items": null,
       "align_self": null,
       "border": null,
       "bottom": null,
       "display": null,
       "flex": null,
       "flex_flow": null,
       "grid_area": null,
       "grid_auto_columns": null,
       "grid_auto_flow": null,
       "grid_auto_rows": null,
       "grid_column": null,
       "grid_gap": null,
       "grid_row": null,
       "grid_template_areas": null,
       "grid_template_columns": null,
       "grid_template_rows": null,
       "height": null,
       "justify_content": null,
       "justify_items": null,
       "left": null,
       "margin": null,
       "max_height": null,
       "max_width": null,
       "min_height": null,
       "min_width": null,
       "object_fit": null,
       "object_position": null,
       "order": null,
       "overflow": null,
       "overflow_x": null,
       "overflow_y": null,
       "padding": null,
       "right": null,
       "top": null,
       "visibility": null,
       "width": null
      }
     },
     "d3593a645af34771b14184fc6ea6d5e2": {
      "model_module": "@jupyter-widgets/controls",
      "model_module_version": "1.5.0",
      "model_name": "HBoxModel",
      "state": {
       "_dom_classes": [],
       "_model_module": "@jupyter-widgets/controls",
       "_model_module_version": "1.5.0",
       "_model_name": "HBoxModel",
       "_view_count": null,
       "_view_module": "@jupyter-widgets/controls",
       "_view_module_version": "1.5.0",
       "_view_name": "HBoxView",
       "box_style": "",
       "children": [
        "IPY_MODEL_b43e2ff2105a466a8f74d1c8cc6af1d0",
        "IPY_MODEL_25f3e7ef406b449c98e552d93705e87d",
        "IPY_MODEL_df5b53a2343b4c5a97046df3938eb027"
       ],
       "layout": "IPY_MODEL_11827718533d41408b42a7ae528e795e"
      }
     },
     "d71979bf777b404ca006bb68930c0eef": {
      "model_module": "@jupyter-widgets/controls",
      "model_module_version": "1.5.0",
      "model_name": "FloatProgressModel",
      "state": {
       "_dom_classes": [],
       "_model_module": "@jupyter-widgets/controls",
       "_model_module_version": "1.5.0",
       "_model_name": "FloatProgressModel",
       "_view_count": null,
       "_view_module": "@jupyter-widgets/controls",
       "_view_module_version": "1.5.0",
       "_view_name": "ProgressView",
       "bar_style": "",
       "description": "",
       "description_tooltip": null,
       "layout": "IPY_MODEL_39fee3d16b914293840e9103428a0141",
       "max": 1.0,
       "min": 0.0,
       "orientation": "horizontal",
       "style": "IPY_MODEL_29b357cd8aac4553bf3e77961e882c68",
       "value": 0.0
      }
     },
     "df5b53a2343b4c5a97046df3938eb027": {
      "model_module": "@jupyter-widgets/controls",
      "model_module_version": "1.5.0",
      "model_name": "HTMLModel",
      "state": {
       "_dom_classes": [],
       "_model_module": "@jupyter-widgets/controls",
       "_model_module_version": "1.5.0",
       "_model_name": "HTMLModel",
       "_view_count": null,
       "_view_module": "@jupyter-widgets/controls",
       "_view_module_version": "1.5.0",
       "_view_name": "HTMLView",
       "description": "",
       "description_tooltip": null,
       "layout": "IPY_MODEL_1d3bf9afaab040e091b8098aa55271e7",
       "placeholder": "​",
       "style": "IPY_MODEL_75700672cb4b430c96cd1936087d89d7",
       "value": " 74.4M/74.4M [00:02&lt;00:00, 31.8MB/s]"
      }
     },
     "eecf2e8b532f451396a31a79658b8232": {
      "model_module": "@jupyter-widgets/controls",
      "model_module_version": "1.5.0",
      "model_name": "LabelModel",
      "state": {
       "_dom_classes": [],
       "_model_module": "@jupyter-widgets/controls",
       "_model_module_version": "1.5.0",
       "_model_name": "LabelModel",
       "_view_count": null,
       "_view_module": "@jupyter-widgets/controls",
       "_view_module_version": "1.5.0",
       "_view_name": "LabelView",
       "description": "",
       "description_tooltip": null,
       "layout": "IPY_MODEL_f37fa80c153743c6b973c29f37910a5d",
       "placeholder": "​",
       "style": "IPY_MODEL_4e031ebfb8204155982858b74903e323",
       "value": ""
      }
     },
     "f37fa80c153743c6b973c29f37910a5d": {
      "model_module": "@jupyter-widgets/base",
      "model_module_version": "1.2.0",
      "model_name": "LayoutModel",
      "state": {
       "_model_module": "@jupyter-widgets/base",
       "_model_module_version": "1.2.0",
       "_model_name": "LayoutModel",
       "_view_count": null,
       "_view_module": "@jupyter-widgets/base",
       "_view_module_version": "1.2.0",
       "_view_name": "LayoutView",
       "align_content": null,
       "align_items": null,
       "align_self": null,
       "border": null,
       "bottom": null,
       "display": null,
       "flex": null,
       "flex_flow": null,
       "grid_area": null,
       "grid_auto_columns": null,
       "grid_auto_flow": null,
       "grid_auto_rows": null,
       "grid_column": null,
       "grid_gap": null,
       "grid_row": null,
       "grid_template_areas": null,
       "grid_template_columns": null,
       "grid_template_rows": null,
       "height": null,
       "justify_content": null,
       "justify_items": null,
       "left": null,
       "margin": null,
       "max_height": null,
       "max_width": null,
       "min_height": null,
       "min_width": null,
       "object_fit": null,
       "object_position": null,
       "order": null,
       "overflow": null,
       "overflow_x": null,
       "overflow_y": null,
       "padding": null,
       "right": null,
       "top": null,
       "visibility": null,
       "width": null
      }
     },
     "f6d556aababf455d900b5ae7a948d807": {
      "model_module": "@jupyter-widgets/base",
      "model_module_version": "1.2.0",
      "model_name": "LayoutModel",
      "state": {
       "_model_module": "@jupyter-widgets/base",
       "_model_module_version": "1.2.0",
       "_model_name": "LayoutModel",
       "_view_count": null,
       "_view_module": "@jupyter-widgets/base",
       "_view_module_version": "1.2.0",
       "_view_name": "LayoutView",
       "align_content": null,
       "align_items": null,
       "align_self": null,
       "border": null,
       "bottom": null,
       "display": null,
       "flex": null,
       "flex_flow": null,
       "grid_area": null,
       "grid_auto_columns": null,
       "grid_auto_flow": null,
       "grid_auto_rows": null,
       "grid_column": null,
       "grid_gap": null,
       "grid_row": null,
       "grid_template_areas": null,
       "grid_template_columns": null,
       "grid_template_rows": null,
       "height": null,
       "justify_content": null,
       "justify_items": null,
       "left": null,
       "margin": null,
       "max_height": null,
       "max_width": null,
       "min_height": null,
       "min_width": null,
       "object_fit": null,
       "object_position": null,
       "order": null,
       "overflow": null,
       "overflow_x": null,
       "overflow_y": null,
       "padding": null,
       "right": null,
       "top": null,
       "visibility": null,
       "width": null
      }
     },
     "f7978b98dc284f2abd8cd8cda91c5015": {
      "model_module": "@jupyter-widgets/controls",
      "model_module_version": "1.5.0",
      "model_name": "DescriptionStyleModel",
      "state": {
       "_model_module": "@jupyter-widgets/controls",
       "_model_module_version": "1.5.0",
       "_model_name": "DescriptionStyleModel",
       "_view_count": null,
       "_view_module": "@jupyter-widgets/base",
       "_view_module_version": "1.2.0",
       "_view_name": "StyleView",
       "description_width": ""
      }
     },
     "faec9fdb83e645d997a789f1766deae2": {
      "model_module": "@jupyter-widgets/controls",
      "model_module_version": "1.5.0",
      "model_name": "DescriptionStyleModel",
      "state": {
       "_model_module": "@jupyter-widgets/controls",
       "_model_module_version": "1.5.0",
       "_model_name": "DescriptionStyleModel",
       "_view_count": null,
       "_view_module": "@jupyter-widgets/base",
       "_view_module_version": "1.2.0",
       "_view_name": "StyleView",
       "description_width": ""
      }
     }
    },
    "version_major": 2,
    "version_minor": 0
   }
  }
 },
 "nbformat": 4,
 "nbformat_minor": 5
}
