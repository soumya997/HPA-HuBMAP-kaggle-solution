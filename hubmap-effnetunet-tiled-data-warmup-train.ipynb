{
 "cells": [
  {
   "cell_type": "markdown",
   "id": "ec27cb8a",
   "metadata": {
    "papermill": {
     "duration": 0.011621,
     "end_time": "2022-07-31T06:08:16.586944",
     "exception": false,
     "start_time": "2022-07-31T06:08:16.575323",
     "status": "completed"
    },
    "tags": []
   },
   "source": [
    "\n",
    "\n",
    "<h3 style=\"text-align:center; background-color:#C8FF33;padding:40px;border-radius: 30px;\">\n",
    "<p style=\"text-align: left\">See also this notebook:</p>\n",
    "    <p style=\"text-align: left\"><b><a href=\"https://www.kaggle.com/code/soumya9977/hubmap-multiorgan-segmentation-1-3-data-prep\"> &nbsp; HuBMAP multiOrgan Segmentation 1/3 [data prep]</a></b></p>\n",
    "    <p style=\"text-align: left\"><b>* HuBMAP: Vanilla Unet + W&B + Pytorch 2/3 [train]</b></p>\n",
    "    <p style=\"text-align: left\"><b><a href=\"https://www.kaggle.com/code/soumya9977/hubmap-vanilla-unet-pytorch-3-3-inference\"> &nbsp; HuBMAP: Vanilla Unet Pytorch 3/3 [inference]</a></b></p>\n",
    "</h3>\n",
    "\n",
    "\n",
    "## Please _DO_ upvote!\n"
   ]
  },
  {
   "cell_type": "markdown",
   "id": "31d45444",
   "metadata": {
    "papermill": {
     "duration": 0.010069,
     "end_time": "2022-07-31T06:08:16.607191",
     "exception": false,
     "start_time": "2022-07-31T06:08:16.597122",
     "status": "completed"
    },
    "tags": []
   },
   "source": [
    "### Changelog\n",
    "\n",
    "|| Version | Comments | LB |\n",
    "|---|  --- | --- | --- |\n",
    "|**Best**| -- | effNetUnet w/ 256x256, 50 epoch, no aug, Warmup CosineAnnealingLR lr sch, no pre/post processing, L2 norm, bs=8 | `--` |"
   ]
  },
  {
   "cell_type": "code",
   "execution_count": 1,
   "id": "9529c688",
   "metadata": {
    "execution": {
     "iopub.execute_input": "2022-07-31T06:08:16.629726Z",
     "iopub.status.busy": "2022-07-31T06:08:16.629164Z",
     "iopub.status.idle": "2022-07-31T06:08:48.069125Z",
     "shell.execute_reply": "2022-07-31T06:08:48.067743Z"
    },
    "papermill": {
     "duration": 31.454596,
     "end_time": "2022-07-31T06:08:48.072051",
     "exception": false,
     "start_time": "2022-07-31T06:08:16.617455",
     "status": "completed"
    },
    "tags": []
   },
   "outputs": [
    {
     "name": "stdout",
     "output_type": "stream",
     "text": [
      "Collecting git+https://github.com/qubvel/segmentation_models.pytorch\r\n",
      "  Cloning https://github.com/qubvel/segmentation_models.pytorch to /tmp/pip-req-build-g14vza1b\r\n",
      "  Running command git clone --filter=blob:none --quiet https://github.com/qubvel/segmentation_models.pytorch /tmp/pip-req-build-g14vza1b\r\n",
      "  Resolved https://github.com/qubvel/segmentation_models.pytorch to commit c98c88d13481c956b232dec6fc13609859838d7a\r\n",
      "  Installing build dependencies ... \u001b[?25l-\b \b\\\b \b|\b \b/\b \b-\b \b\\\b \bdone\r\n",
      "\u001b[?25h  Getting requirements to build wheel ... \u001b[?25l-\b \bdone\r\n",
      "\u001b[?25h  Preparing metadata (pyproject.toml) ... \u001b[?25l-\b \bdone\r\n",
      "\u001b[?25hRequirement already satisfied: pillow in /opt/conda/lib/python3.7/site-packages (from segmentation-models-pytorch==0.3.0) (9.1.1)\r\n",
      "Collecting pretrainedmodels==0.7.4\r\n",
      "  Downloading pretrainedmodels-0.7.4.tar.gz (58 kB)\r\n",
      "\u001b[2K     \u001b[90m━━━━━━━━━━━━━━━━━━━━━━━━━━━━━━━━━━━━━━━\u001b[0m \u001b[32m58.8/58.8 kB\u001b[0m \u001b[31m708.9 kB/s\u001b[0m eta \u001b[36m0:00:00\u001b[0m\r\n",
      "\u001b[?25h  Preparing metadata (setup.py) ... \u001b[?25l-\b \bdone\r\n",
      "\u001b[?25hCollecting efficientnet-pytorch==0.7.1\r\n",
      "  Downloading efficientnet_pytorch-0.7.1.tar.gz (21 kB)\r\n",
      "  Preparing metadata (setup.py) ... \u001b[?25l-\b \bdone\r\n",
      "\u001b[?25hCollecting timm==0.4.12\r\n",
      "  Downloading timm-0.4.12-py3-none-any.whl (376 kB)\r\n",
      "\u001b[2K     \u001b[90m━━━━━━━━━━━━━━━━━━━━━━━━━━━━━━━━━━━━━━━\u001b[0m \u001b[32m377.0/377.0 kB\u001b[0m \u001b[31m2.7 MB/s\u001b[0m eta \u001b[36m0:00:00\u001b[0m\r\n",
      "\u001b[?25hRequirement already satisfied: tqdm in /opt/conda/lib/python3.7/site-packages (from segmentation-models-pytorch==0.3.0) (4.64.0)\r\n",
      "Requirement already satisfied: torchvision>=0.5.0 in /opt/conda/lib/python3.7/site-packages (from segmentation-models-pytorch==0.3.0) (0.12.0)\r\n",
      "Requirement already satisfied: torch in /opt/conda/lib/python3.7/site-packages (from efficientnet-pytorch==0.7.1->segmentation-models-pytorch==0.3.0) (1.11.0)\r\n",
      "Requirement already satisfied: munch in /opt/conda/lib/python3.7/site-packages (from pretrainedmodels==0.7.4->segmentation-models-pytorch==0.3.0) (2.5.0)\r\n",
      "Requirement already satisfied: numpy in /opt/conda/lib/python3.7/site-packages (from torchvision>=0.5.0->segmentation-models-pytorch==0.3.0) (1.21.6)\r\n",
      "Requirement already satisfied: requests in /opt/conda/lib/python3.7/site-packages (from torchvision>=0.5.0->segmentation-models-pytorch==0.3.0) (2.28.1)\r\n",
      "Requirement already satisfied: typing-extensions in /opt/conda/lib/python3.7/site-packages (from torchvision>=0.5.0->segmentation-models-pytorch==0.3.0) (4.1.1)\r\n",
      "Requirement already satisfied: six in /opt/conda/lib/python3.7/site-packages (from munch->pretrainedmodels==0.7.4->segmentation-models-pytorch==0.3.0) (1.16.0)\r\n",
      "Requirement already satisfied: urllib3<1.27,>=1.21.1 in /opt/conda/lib/python3.7/site-packages (from requests->torchvision>=0.5.0->segmentation-models-pytorch==0.3.0) (1.26.9)\r\n",
      "Requirement already satisfied: certifi>=2017.4.17 in /opt/conda/lib/python3.7/site-packages (from requests->torchvision>=0.5.0->segmentation-models-pytorch==0.3.0) (2022.6.15)\r\n",
      "Requirement already satisfied: idna<4,>=2.5 in /opt/conda/lib/python3.7/site-packages (from requests->torchvision>=0.5.0->segmentation-models-pytorch==0.3.0) (3.3)\r\n",
      "Requirement already satisfied: charset-normalizer<3,>=2 in /opt/conda/lib/python3.7/site-packages (from requests->torchvision>=0.5.0->segmentation-models-pytorch==0.3.0) (2.1.0)\r\n",
      "Building wheels for collected packages: segmentation-models-pytorch, efficientnet-pytorch, pretrainedmodels\r\n",
      "  Building wheel for segmentation-models-pytorch (pyproject.toml) ... \u001b[?25l-\b \b\\\b \bdone\r\n",
      "\u001b[?25h  Created wheel for segmentation-models-pytorch: filename=segmentation_models_pytorch-0.3.0-py3-none-any.whl size=97946 sha256=9bfa3cbd92162d015430aac7501d2442ed1bbf538c07ca36c1d1af3eb54b95be\r\n",
      "  Stored in directory: /tmp/pip-ephem-wheel-cache-8epyv2oz/wheels/fa/c5/a8/1e8af6cb04a0974db8a4a156ebd2fdd1d99ad2558d3fce49d4\r\n",
      "  Building wheel for efficientnet-pytorch (setup.py) ... \u001b[?25l-\b \b\\\b \bdone\r\n",
      "\u001b[?25h  Created wheel for efficientnet-pytorch: filename=efficientnet_pytorch-0.7.1-py3-none-any.whl size=16446 sha256=50a231d058c36fc9d7382deaf62fae8b15350deaf2ae7b290f698cce8a800e8d\r\n",
      "  Stored in directory: /root/.cache/pip/wheels/0e/cc/b2/49e74588263573ff778da58cc99b9c6349b496636a7e165be6\r\n",
      "  Building wheel for pretrainedmodels (setup.py) ... \u001b[?25l-\b \b\\\b \bdone\r\n",
      "\u001b[?25h  Created wheel for pretrainedmodels: filename=pretrainedmodels-0.7.4-py3-none-any.whl size=60965 sha256=e80ac859460d46df73b8d51dc2eb92405cc0da0b80444f7ef0648d98dfe25ff8\r\n",
      "  Stored in directory: /root/.cache/pip/wheels/ed/27/e8/9543d42de2740d3544db96aefef63bda3f2c1761b3334f4873\r\n",
      "Successfully built segmentation-models-pytorch efficientnet-pytorch pretrainedmodels\r\n",
      "Installing collected packages: efficientnet-pytorch, timm, pretrainedmodels, segmentation-models-pytorch\r\n",
      "Successfully installed efficientnet-pytorch-0.7.1 pretrainedmodels-0.7.4 segmentation-models-pytorch-0.3.0 timm-0.4.12\r\n",
      "\u001b[33mWARNING: Running pip as the 'root' user can result in broken permissions and conflicting behaviour with the system package manager. It is recommended to use a virtual environment instead: https://pip.pypa.io/warnings/venv\u001b[0m\u001b[33m\r\n",
      "\u001b[0m"
     ]
    }
   ],
   "source": [
    "!pip install git+https://github.com/qubvel/segmentation_models.pytorch"
   ]
  },
  {
   "cell_type": "code",
   "execution_count": 2,
   "id": "1f923406",
   "metadata": {
    "execution": {
     "iopub.execute_input": "2022-07-31T06:08:48.101001Z",
     "iopub.status.busy": "2022-07-31T06:08:48.099209Z",
     "iopub.status.idle": "2022-07-31T06:08:48.104845Z",
     "shell.execute_reply": "2022-07-31T06:08:48.103905Z"
    },
    "papermill": {
     "duration": 0.021968,
     "end_time": "2022-07-31T06:08:48.106803",
     "exception": false,
     "start_time": "2022-07-31T06:08:48.084835",
     "status": "completed"
    },
    "tags": []
   },
   "outputs": [],
   "source": [
    "# !pip install -q tifffile"
   ]
  },
  {
   "cell_type": "markdown",
   "id": "0ef19e3f",
   "metadata": {
    "papermill": {
     "duration": 0.013159,
     "end_time": "2022-07-31T06:08:48.132257",
     "exception": false,
     "start_time": "2022-07-31T06:08:48.119098",
     "status": "completed"
    },
    "tags": []
   },
   "source": [
    "# Import, SEED, Config:"
   ]
  },
  {
   "cell_type": "code",
   "execution_count": 3,
   "id": "370722bf",
   "metadata": {
    "_cell_guid": "b1076dfc-b9ad-4769-8c92-a6c4dae69d19",
    "_uuid": "8f2839f25d086af736a60e9eeb907d3b93b6e0e5",
    "execution": {
     "iopub.execute_input": "2022-07-31T06:08:48.167426Z",
     "iopub.status.busy": "2022-07-31T06:08:48.166731Z",
     "iopub.status.idle": "2022-07-31T06:08:54.574059Z",
     "shell.execute_reply": "2022-07-31T06:08:54.572830Z"
    },
    "papermill": {
     "duration": 6.43021,
     "end_time": "2022-07-31T06:08:54.576859",
     "exception": false,
     "start_time": "2022-07-31T06:08:48.146649",
     "status": "completed"
    },
    "tags": []
   },
   "outputs": [],
   "source": [
    "import numpy as np # linear algebra\n",
    "import pandas as pd # data processing, CSV file I/O (e.g. pd.read_csv)\n",
    "import os\n",
    "import warnings\n",
    "import cv2\n",
    "import matplotlib.pyplot as plt\n",
    "import json\n",
    "import gc\n",
    "import time\n",
    "from tqdm import tqdm\n",
    "import random\n",
    "from collections import defaultdict\n",
    "from IPython.display import display\n",
    "\n",
    "#Pytorch Imports\n",
    "import torch\n",
    "import torchvision # torch package for vision related things\n",
    "import torch.nn.functional as F  # Parameterless functions, like (some) activation functions\n",
    "import torchvision.datasets as datasets  # Standard datasets\n",
    "import torchvision.transforms as transforms  # Transformations we can perform on our dataset for augmentation\n",
    "from torch import optim  # For optimizers like SGD, Adam, etc.\n",
    "from torch import nn  # All neural network modules\n",
    "from torch.utils.data import Dataset, DataLoader  # Gives easier dataset managment by creating mini batches etc.\n",
    "from tqdm import tqdm  # For nice progress bar!\n",
    "from torchvision.transforms import Resize\n",
    "from torchaudio.transforms import MelSpectrogram, AmplitudeToDB\n",
    "from torch.optim import lr_scheduler\n",
    "# from tifffile import imread\n",
    "import segmentation_models_pytorch as smp\n",
    "import transformers\n",
    "from sklearn.model_selection import StratifiedKFold, KFold, StratifiedGroupKFold\n",
    "\n",
    "from albumentations.pytorch.transforms import ToTensorV2\n",
    "import albumentations as A\n",
    "from sklearn.model_selection import train_test_split\n",
    "\n",
    "# For colored terminal text\n",
    "from colorama import Fore, Back, Style\n",
    "c_ = Fore.CYAN\n",
    "sr_ = Style.RESET_ALL\n",
    "b_ = Fore.BLUE\n",
    "\n",
    "# For descriptive error messages\n",
    "os.environ['CUDA_LAUNCH_BLOCKING'] = \"1\"\n",
    "\n",
    "warnings.filterwarnings(\"ignore\")"
   ]
  },
  {
   "cell_type": "code",
   "execution_count": 4,
   "id": "89334a75",
   "metadata": {
    "execution": {
     "iopub.execute_input": "2022-07-31T06:08:54.604738Z",
     "iopub.status.busy": "2022-07-31T06:08:54.604256Z",
     "iopub.status.idle": "2022-07-31T06:08:54.670706Z",
     "shell.execute_reply": "2022-07-31T06:08:54.669767Z"
    },
    "papermill": {
     "duration": 0.083216,
     "end_time": "2022-07-31T06:08:54.672927",
     "exception": false,
     "start_time": "2022-07-31T06:08:54.589711",
     "status": "completed"
    },
    "tags": []
   },
   "outputs": [],
   "source": [
    "# Hyperparameters etc.\n",
    "# Hyperparameters\n",
    "CONFIG = {\n",
    "    \"in_channels\" :3,\n",
    "    \"num_classes\": 1,\n",
    "    \"BATCH_SIZE\" : 8,\n",
    "    \"NUM_EPOCHS\" : 50,\n",
    "    \"n_accumulate\": 1,\n",
    "    \"competition\": \"HuBMAP-Kaggle\", # HuBMAP-Kaggle\n",
    "    \"model_name\": \"Vanilla_Unet\",\n",
    "    \"LEARNING_RATE\": 1e-4,\n",
    "    \"DEVICE\": \"cuda\" if torch.cuda.is_available() else \"cpu\", \n",
    "    \"AUG\": \"No\",\n",
    "    \"SEED\": 42,\n",
    "    \"opt\": 'Adam',\n",
    "    \"Normalization\": \"L2\",\n",
    "    \"img_size\": 256,\n",
    "    \"scheduler\": \"CosineAnnealingWarmRestarts\",#'CosineAnnealingLR',\n",
    "    \"warmup_epochs\": 2,\n",
    "    \"n_folds\": 5,\n",
    "    \"folds_to_run\": [0],\n",
    "    \"min_lr\": 1e-6,\n",
    "    \"T_max\": 500, \n",
    "    \"T_0\": 20\n",
    "}"
   ]
  },
  {
   "cell_type": "code",
   "execution_count": 5,
   "id": "c446a5f8",
   "metadata": {
    "execution": {
     "iopub.execute_input": "2022-07-31T06:08:54.700368Z",
     "iopub.status.busy": "2022-07-31T06:08:54.698965Z",
     "iopub.status.idle": "2022-07-31T06:08:54.714940Z",
     "shell.execute_reply": "2022-07-31T06:08:54.713728Z"
    },
    "papermill": {
     "duration": 0.031305,
     "end_time": "2022-07-31T06:08:54.716886",
     "exception": false,
     "start_time": "2022-07-31T06:08:54.685581",
     "status": "completed"
    },
    "tags": []
   },
   "outputs": [
    {
     "name": "stdout",
     "output_type": "stream",
     "text": [
      "> SEEDING DONE\n"
     ]
    }
   ],
   "source": [
    "def set_seed(seed = 42):\n",
    "    '''Sets the seed of the entire notebook so results are the same every time we run.\n",
    "    This is for REPRODUCIBILITY.'''\n",
    "    np.random.seed(seed)\n",
    "    random.seed(seed)\n",
    "    torch.manual_seed(seed)\n",
    "    torch.cuda.manual_seed(seed)\n",
    "    # When running on the CuDNN backend, two further options must be set\n",
    "    torch.backends.cudnn.deterministic = True\n",
    "    torch.backends.cudnn.benchmark = False\n",
    "    # Set a fixed value for the hash seed\n",
    "    os.environ['PYTHONHASHSEED'] = str(seed)\n",
    "    print('> SEEDING DONE')\n",
    "    \n",
    "set_seed(CONFIG[\"SEED\"])"
   ]
  },
  {
   "cell_type": "markdown",
   "id": "75c29631",
   "metadata": {
    "papermill": {
     "duration": 0.013196,
     "end_time": "2022-07-31T06:08:54.743147",
     "exception": false,
     "start_time": "2022-07-31T06:08:54.729951",
     "status": "completed"
    },
    "tags": []
   },
   "source": [
    "# WandB:"
   ]
  },
  {
   "cell_type": "code",
   "execution_count": 6,
   "id": "28d260f9",
   "metadata": {
    "execution": {
     "iopub.execute_input": "2022-07-31T06:08:54.770788Z",
     "iopub.status.busy": "2022-07-31T06:08:54.770026Z",
     "iopub.status.idle": "2022-07-31T06:08:59.013779Z",
     "shell.execute_reply": "2022-07-31T06:08:59.012812Z"
    },
    "papermill": {
     "duration": 4.259338,
     "end_time": "2022-07-31T06:08:59.015913",
     "exception": false,
     "start_time": "2022-07-31T06:08:54.756575",
     "status": "completed"
    },
    "tags": []
   },
   "outputs": [
    {
     "name": "stdout",
     "output_type": "stream",
     "text": [
      "To use your W&B account,\n",
      "Go to Add-ons -> Secrets and provide your W&B access token. Use the Label name as WANDB. \n",
      "Get your W&B access token from here: https://wandb.ai/authorize\n"
     ]
    },
    {
     "name": "stderr",
     "output_type": "stream",
     "text": [
      "\u001b[34m\u001b[1mwandb\u001b[0m: Appending key for api.wandb.ai to your netrc file: /root/.netrc\n"
     ]
    },
    {
     "data": {
      "text/html": [
       "Tracking run with wandb version 0.12.21"
      ],
      "text/plain": [
       "<IPython.core.display.HTML object>"
      ]
     },
     "metadata": {},
     "output_type": "display_data"
    },
    {
     "data": {
      "text/html": [
       "Run data is saved locally in <code>/kaggle/working/wandb/run-20220731_060856-2zr6v0rz</code>"
      ],
      "text/plain": [
       "<IPython.core.display.HTML object>"
      ]
     },
     "metadata": {},
     "output_type": "display_data"
    },
    {
     "data": {
      "text/html": [
       "Syncing run <strong><a href=\"https://wandb.ai/anony-moose-366659/HuBMAP-Kaggle/runs/2zr6v0rz?apiKey=b9a378ea07a8c69716cf9cda2a4647fe1a3b8be6\" target=\"_blank\">Vanilla_Unet_1</a></strong> to <a href=\"https://wandb.ai/anony-moose-366659/HuBMAP-Kaggle?apiKey=b9a378ea07a8c69716cf9cda2a4647fe1a3b8be6\" target=\"_blank\">Weights & Biases</a> (<a href=\"https://wandb.me/run\" target=\"_blank\">docs</a>)<br/>"
      ],
      "text/plain": [
       "<IPython.core.display.HTML object>"
      ]
     },
     "metadata": {},
     "output_type": "display_data"
    }
   ],
   "source": [
    "import wandb\n",
    "\n",
    "try:\n",
    "    from kaggle_secrets import UserSecretsClient\n",
    "    user_secrets = UserSecretsClient()\n",
    "    api_key = user_secrets.get_secret(\"WANDB\")\n",
    "    wandb.login(key=api_key)\n",
    "    anonymous = None\n",
    "except:\n",
    "    anonymous = \"must\"\n",
    "    print('To use your W&B account,\\nGo to Add-ons -> Secrets and provide your W&B access token. Use the Label name as WANDB. \\nGet your W&B access token from here: https://wandb.ai/authorize')\n",
    "# wandb.init(project=\"PogChamp2 Baseline\")\n",
    "run = wandb.init(project=CONFIG['competition'], \n",
    "                 config=CONFIG,\n",
    "                 job_type='Train',\n",
    "                 tags=['semantic segmentation', CONFIG['model_name']],\n",
    "                 anonymous='must',\n",
    "                 name = \"Vanilla_Unet_1\",\n",
    "                 notes = \"\")"
   ]
  },
  {
   "cell_type": "markdown",
   "id": "34b9e119",
   "metadata": {
    "papermill": {
     "duration": 0.012941,
     "end_time": "2022-07-31T06:08:59.042340",
     "exception": false,
     "start_time": "2022-07-31T06:08:59.029399",
     "status": "completed"
    },
    "tags": []
   },
   "source": [
    "## Tabular:"
   ]
  },
  {
   "cell_type": "code",
   "execution_count": 7,
   "id": "02f1dff6",
   "metadata": {
    "execution": {
     "iopub.execute_input": "2022-07-31T06:08:59.078146Z",
     "iopub.status.busy": "2022-07-31T06:08:59.077725Z",
     "iopub.status.idle": "2022-07-31T06:08:59.554740Z",
     "shell.execute_reply": "2022-07-31T06:08:59.553810Z"
    },
    "papermill": {
     "duration": 0.501583,
     "end_time": "2022-07-31T06:08:59.556831",
     "exception": false,
     "start_time": "2022-07-31T06:08:59.055248",
     "status": "completed"
    },
    "tags": []
   },
   "outputs": [
    {
     "data": {
      "text/html": [
       "<div>\n",
       "<style scoped>\n",
       "    .dataframe tbody tr th:only-of-type {\n",
       "        vertical-align: middle;\n",
       "    }\n",
       "\n",
       "    .dataframe tbody tr th {\n",
       "        vertical-align: top;\n",
       "    }\n",
       "\n",
       "    .dataframe thead th {\n",
       "        text-align: right;\n",
       "    }\n",
       "</style>\n",
       "<table border=\"1\" class=\"dataframe\">\n",
       "  <thead>\n",
       "    <tr style=\"text-align: right;\">\n",
       "      <th></th>\n",
       "      <th>img_path</th>\n",
       "      <th>mask_path</th>\n",
       "    </tr>\n",
       "  </thead>\n",
       "  <tbody>\n",
       "    <tr>\n",
       "      <th>0</th>\n",
       "      <td>../input/hubmap-tiled-data-generation/tiled_da...</td>\n",
       "      <td>../input/hubmap-tiled-data-generation/tiled_da...</td>\n",
       "    </tr>\n",
       "    <tr>\n",
       "      <th>1</th>\n",
       "      <td>../input/hubmap-tiled-data-generation/tiled_da...</td>\n",
       "      <td>../input/hubmap-tiled-data-generation/tiled_da...</td>\n",
       "    </tr>\n",
       "    <tr>\n",
       "      <th>2</th>\n",
       "      <td>../input/hubmap-tiled-data-generation/tiled_da...</td>\n",
       "      <td>../input/hubmap-tiled-data-generation/tiled_da...</td>\n",
       "    </tr>\n",
       "    <tr>\n",
       "      <th>3</th>\n",
       "      <td>../input/hubmap-tiled-data-generation/tiled_da...</td>\n",
       "      <td>../input/hubmap-tiled-data-generation/tiled_da...</td>\n",
       "    </tr>\n",
       "    <tr>\n",
       "      <th>4</th>\n",
       "      <td>../input/hubmap-tiled-data-generation/tiled_da...</td>\n",
       "      <td>../input/hubmap-tiled-data-generation/tiled_da...</td>\n",
       "    </tr>\n",
       "    <tr>\n",
       "      <th>...</th>\n",
       "      <td>...</td>\n",
       "      <td>...</td>\n",
       "    </tr>\n",
       "    <tr>\n",
       "      <th>3154</th>\n",
       "      <td>../input/hubmap-tiled-data-generation/tiled_da...</td>\n",
       "      <td>../input/hubmap-tiled-data-generation/tiled_da...</td>\n",
       "    </tr>\n",
       "    <tr>\n",
       "      <th>3155</th>\n",
       "      <td>../input/hubmap-tiled-data-generation/tiled_da...</td>\n",
       "      <td>../input/hubmap-tiled-data-generation/tiled_da...</td>\n",
       "    </tr>\n",
       "    <tr>\n",
       "      <th>3156</th>\n",
       "      <td>../input/hubmap-tiled-data-generation/tiled_da...</td>\n",
       "      <td>../input/hubmap-tiled-data-generation/tiled_da...</td>\n",
       "    </tr>\n",
       "    <tr>\n",
       "      <th>3157</th>\n",
       "      <td>../input/hubmap-tiled-data-generation/tiled_da...</td>\n",
       "      <td>../input/hubmap-tiled-data-generation/tiled_da...</td>\n",
       "    </tr>\n",
       "    <tr>\n",
       "      <th>3158</th>\n",
       "      <td>../input/hubmap-tiled-data-generation/tiled_da...</td>\n",
       "      <td>../input/hubmap-tiled-data-generation/tiled_da...</td>\n",
       "    </tr>\n",
       "  </tbody>\n",
       "</table>\n",
       "<p>3159 rows × 2 columns</p>\n",
       "</div>"
      ],
      "text/plain": [
       "                                               img_path  \\\n",
       "0     ../input/hubmap-tiled-data-generation/tiled_da...   \n",
       "1     ../input/hubmap-tiled-data-generation/tiled_da...   \n",
       "2     ../input/hubmap-tiled-data-generation/tiled_da...   \n",
       "3     ../input/hubmap-tiled-data-generation/tiled_da...   \n",
       "4     ../input/hubmap-tiled-data-generation/tiled_da...   \n",
       "...                                                 ...   \n",
       "3154  ../input/hubmap-tiled-data-generation/tiled_da...   \n",
       "3155  ../input/hubmap-tiled-data-generation/tiled_da...   \n",
       "3156  ../input/hubmap-tiled-data-generation/tiled_da...   \n",
       "3157  ../input/hubmap-tiled-data-generation/tiled_da...   \n",
       "3158  ../input/hubmap-tiled-data-generation/tiled_da...   \n",
       "\n",
       "                                              mask_path  \n",
       "0     ../input/hubmap-tiled-data-generation/tiled_da...  \n",
       "1     ../input/hubmap-tiled-data-generation/tiled_da...  \n",
       "2     ../input/hubmap-tiled-data-generation/tiled_da...  \n",
       "3     ../input/hubmap-tiled-data-generation/tiled_da...  \n",
       "4     ../input/hubmap-tiled-data-generation/tiled_da...  \n",
       "...                                                 ...  \n",
       "3154  ../input/hubmap-tiled-data-generation/tiled_da...  \n",
       "3155  ../input/hubmap-tiled-data-generation/tiled_da...  \n",
       "3156  ../input/hubmap-tiled-data-generation/tiled_da...  \n",
       "3157  ../input/hubmap-tiled-data-generation/tiled_da...  \n",
       "3158  ../input/hubmap-tiled-data-generation/tiled_da...  \n",
       "\n",
       "[3159 rows x 2 columns]"
      ]
     },
     "metadata": {},
     "output_type": "display_data"
    }
   ],
   "source": [
    "# !ls ../input/hubmap-tiled-data-generation/tiled_data\n",
    "DATA_DIR = \"../input/hubmap-tiled-data-generation/tiled_data/\"\n",
    "\n",
    "img_list = [os .path.join(DATA_DIR+'images',i) for i in os.listdir(DATA_DIR+\"images\")]\n",
    "mask_list = [os .path.join(DATA_DIR+'masks',i) for i in os.listdir(DATA_DIR+\"masks\")]\n",
    "\n",
    "data_dict = {\n",
    "    \"img_path\": img_list,\n",
    "    \"mask_path\": mask_list\n",
    "}\n",
    "\n",
    "train_df = pd.DataFrame.from_dict(data_dict)\n",
    "display(train_df)\n",
    "# plt.imshow(plt.imread(mask_list[3]))\n",
    "# img_list[0:5],mask_list[0:5]"
   ]
  },
  {
   "cell_type": "code",
   "execution_count": 8,
   "id": "69bd937f",
   "metadata": {
    "execution": {
     "iopub.execute_input": "2022-07-31T06:08:59.584573Z",
     "iopub.status.busy": "2022-07-31T06:08:59.584299Z",
     "iopub.status.idle": "2022-07-31T06:08:59.595450Z",
     "shell.execute_reply": "2022-07-31T06:08:59.594655Z"
    },
    "papermill": {
     "duration": 0.031917,
     "end_time": "2022-07-31T06:08:59.602189",
     "exception": false,
     "start_time": "2022-07-31T06:08:59.570272",
     "status": "completed"
    },
    "tags": []
   },
   "outputs": [
    {
     "data": {
      "text/plain": [
       "(2527, 632)"
      ]
     },
     "execution_count": 8,
     "metadata": {},
     "output_type": "execute_result"
    }
   ],
   "source": [
    "train_df, test_df = train_test_split(train_df, test_size=0.2, random_state=CONFIG[\"SEED\"])\n",
    "\n",
    "train_df.__len__(), len(test_df)"
   ]
  },
  {
   "cell_type": "code",
   "execution_count": 9,
   "id": "790017f0",
   "metadata": {
    "execution": {
     "iopub.execute_input": "2022-07-31T06:08:59.633365Z",
     "iopub.status.busy": "2022-07-31T06:08:59.633100Z",
     "iopub.status.idle": "2022-07-31T06:08:59.637177Z",
     "shell.execute_reply": "2022-07-31T06:08:59.636266Z"
    },
    "papermill": {
     "duration": 0.022562,
     "end_time": "2022-07-31T06:08:59.641733",
     "exception": false,
     "start_time": "2022-07-31T06:08:59.619171",
     "status": "completed"
    },
    "tags": []
   },
   "outputs": [],
   "source": [
    "# %timeit img_temp = plt.imread(train_df[\"mask_path\"].iloc[0])"
   ]
  },
  {
   "cell_type": "markdown",
   "id": "a016862f",
   "metadata": {
    "papermill": {
     "duration": 0.012743,
     "end_time": "2022-07-31T06:08:59.670407",
     "exception": false,
     "start_time": "2022-07-31T06:08:59.657664",
     "status": "completed"
    },
    "tags": []
   },
   "source": [
    "# Pytorch Data Class:"
   ]
  },
  {
   "cell_type": "code",
   "execution_count": 10,
   "id": "08d5079e",
   "metadata": {
    "execution": {
     "iopub.execute_input": "2022-07-31T06:08:59.698055Z",
     "iopub.status.busy": "2022-07-31T06:08:59.697772Z",
     "iopub.status.idle": "2022-07-31T06:08:59.711297Z",
     "shell.execute_reply": "2022-07-31T06:08:59.710474Z"
    },
    "papermill": {
     "duration": 0.030557,
     "end_time": "2022-07-31T06:08:59.714379",
     "exception": false,
     "start_time": "2022-07-31T06:08:59.683822",
     "status": "completed"
    },
    "tags": []
   },
   "outputs": [],
   "source": [
    "mean = np.array([0.7720342, 0.74582646, 0.76392896])\n",
    "std = np.array([0.24745085, 0.26182273, 0.25782376])\n",
    "\n",
    "\n",
    "def img2tensor(img,dtype:np.dtype=np.float32):\n",
    "    if img.ndim==2 : img = np.expand_dims(img,2)\n",
    "    img = np.transpose(img,(2,0,1))\n",
    "    return torch.from_numpy(img.astype(dtype, copy=False))\n",
    "\n",
    "\n",
    "\n",
    "class hubmap_data(Dataset):\n",
    "    def __init__(self, df, transform=None):\n",
    "        self.df = df\n",
    "        self.img_paths = df[\"img_path\"].to_numpy()\n",
    "        self.mask_paths = df[\"mask_path\"].to_numpy()\n",
    "        self.transform = transform\n",
    "        \n",
    "        \n",
    "    def __getitem__(self, index):\n",
    "        # load data from the pre-processed npy files\n",
    "        img_file = self.img_paths[index]\n",
    "#         print(img_file)\n",
    "        mask_file = self.mask_paths[index]\n",
    "        img = plt.imread(img_file)#cv2.cvtColor(cv2.imread(img_file), cv2.COLOR_BGR2RGB)\n",
    "#         img = imread(img_file) #np.moveaxis(imread(img_file), -1, 0) #torch.from_numpy(np.moveaxis(imread(img_file), -1, 0))\n",
    "        # semantic = torch.from_numpy(np.load(self.data_path + '/label/{:d}.npy'.format(index)))\n",
    "#         mask = torch.from_numpy(np.moveaxis(np.load(mask_file), -1, 0))\n",
    "        mask = plt.imread(mask_file) #np.moveaxis(np.load(mask_file), -1, 0) #torch.from_numpy(np.moveaxis(np.load(mask_file), -1, 0))\n",
    "        \n",
    "        \n",
    "#       print(depth.shape)\n",
    "        if self.transform is not None:\n",
    "            transformed = self.transform(image=img, mask=mask)\n",
    "            img = transformed[\"image\"]\n",
    "            mask = transformed[\"mask\"]\n",
    "\n",
    "            if mask.shape[-1] == 1:\n",
    "                mask = mask.permute(2,0,1)\n",
    "                \n",
    "                \n",
    "        return  img2tensor(img),img2tensor(mask)\n",
    "\n",
    "    def __len__(self):\n",
    "        return len(self.df)"
   ]
  },
  {
   "cell_type": "code",
   "execution_count": 11,
   "id": "efc27032",
   "metadata": {
    "execution": {
     "iopub.execute_input": "2022-07-31T06:08:59.744651Z",
     "iopub.status.busy": "2022-07-31T06:08:59.743808Z",
     "iopub.status.idle": "2022-07-31T06:08:59.750238Z",
     "shell.execute_reply": "2022-07-31T06:08:59.749395Z"
    },
    "papermill": {
     "duration": 0.02305,
     "end_time": "2022-07-31T06:08:59.752452",
     "exception": false,
     "start_time": "2022-07-31T06:08:59.729402",
     "status": "completed"
    },
    "tags": []
   },
   "outputs": [],
   "source": [
    "train_transform = A.Compose(\n",
    "    [\n",
    "        A.Resize(256, 256, p=1.0),\n",
    "#         A.HorizontalFlip(p=1.0),\n",
    "#         A.RandomCrop(224, 224, p=0.3),\n",
    "#         A.RandomSizedCrop(cfg[\"min_max_height\"], cfg[\"height\"], cfg[\"width\"], cfg[\"w2h_ratio\"], cfg[\"interpolation\"], p=1), \n",
    "#         ToTensorV2(),\n",
    "    ]\n",
    ")\n",
    "\n",
    "test_transform = A.Compose(\n",
    "    [\n",
    "        A.Resize(256, 256, p=1.0),\n",
    "        ToTensorV2(),\n",
    "    ]\n",
    ")"
   ]
  },
  {
   "cell_type": "code",
   "execution_count": 12,
   "id": "c0b42bba",
   "metadata": {
    "execution": {
     "iopub.execute_input": "2022-07-31T06:08:59.783522Z",
     "iopub.status.busy": "2022-07-31T06:08:59.783256Z",
     "iopub.status.idle": "2022-07-31T06:08:59.983931Z",
     "shell.execute_reply": "2022-07-31T06:08:59.982550Z"
    },
    "papermill": {
     "duration": 0.217802,
     "end_time": "2022-07-31T06:08:59.986782",
     "exception": false,
     "start_time": "2022-07-31T06:08:59.768980",
     "status": "completed"
    },
    "tags": []
   },
   "outputs": [
    {
     "name": "stdout",
     "output_type": "stream",
     "text": [
      "torch.Size([3, 256, 256]) torch.Size([1, 256, 256])\n"
     ]
    }
   ],
   "source": [
    "train_data = hubmap_data(train_df,train_transform)\n",
    "test_data = hubmap_data(test_df, train_transform) # CHANGED [change the augmentation method]\n",
    "\n",
    "print(train_data[10][0].shape, train_data[10][1].shape)\n",
    "# test_data[10][0].shape, test_data[10][1].shape"
   ]
  },
  {
   "cell_type": "code",
   "execution_count": 13,
   "id": "3a9eb167",
   "metadata": {
    "execution": {
     "iopub.execute_input": "2022-07-31T06:09:00.019759Z",
     "iopub.status.busy": "2022-07-31T06:09:00.019475Z",
     "iopub.status.idle": "2022-07-31T06:09:00.537892Z",
     "shell.execute_reply": "2022-07-31T06:09:00.536990Z"
    },
    "papermill": {
     "duration": 0.535001,
     "end_time": "2022-07-31T06:09:00.540122",
     "exception": false,
     "start_time": "2022-07-31T06:09:00.005121",
     "status": "completed"
    },
    "tags": []
   },
   "outputs": [
    {
     "data": {
      "text/plain": [
       "<matplotlib.image.AxesImage at 0x7fd407f2b890>"
      ]
     },
     "execution_count": 13,
     "metadata": {},
     "output_type": "execute_result"
    },
    {
     "data": {
      "image/png": "[encoded data removed]",
      "text/plain": [
       "<Figure size 720x576 with 2 Axes>"
      ]
     },
     "metadata": {
      "needs_background": "light"
     },
     "output_type": "display_data"
    }
   ],
   "source": [
    "temp_img = train_data[50][0]\n",
    "temp_mask = train_data[50][1]\n",
    "# plt.imshow(temp_mask.detach().numpy())\n",
    "# plt.imshow(temp_img.permute(1,2,0).detach().numpy())\n",
    "\n",
    "\n",
    "img_trfm = (temp_img.permute(1,2,0)).detach().numpy()\n",
    "mask_trfm = (temp_mask.permute(1,2,0)).detach().numpy()\n",
    "\n",
    "plt.figure(figsize=(10,8))\n",
    "plt.subplot(1,2,1)\n",
    "plt.imshow(img_trfm)\n",
    "\n",
    "\n",
    "plt.subplot(1,2,2)\n",
    "plt.imshow(mask_trfm)\n",
    "\n",
    "# temp_img.permute(1,2,0).detach().numpy()"
   ]
  },
  {
   "cell_type": "markdown",
   "id": "eda6feb3",
   "metadata": {
    "papermill": {
     "duration": 0.016301,
     "end_time": "2022-07-31T06:09:00.576260",
     "exception": false,
     "start_time": "2022-07-31T06:09:00.559959",
     "status": "completed"
    },
    "tags": []
   },
   "source": [
    "# Unet Model:"
   ]
  },
  {
   "cell_type": "code",
   "execution_count": 14,
   "id": "2cc20028",
   "metadata": {
    "execution": {
     "iopub.execute_input": "2022-07-31T06:09:00.609556Z",
     "iopub.status.busy": "2022-07-31T06:09:00.609266Z",
     "iopub.status.idle": "2022-07-31T06:09:00.615023Z",
     "shell.execute_reply": "2022-07-31T06:09:00.613891Z"
    },
    "papermill": {
     "duration": 0.026221,
     "end_time": "2022-07-31T06:09:00.618335",
     "exception": false,
     "start_time": "2022-07-31T06:09:00.592114",
     "status": "completed"
    },
    "tags": []
   },
   "outputs": [],
   "source": [
    "def init_model():\n",
    "    model =  smp.Unet(\n",
    "                 encoder_name='efficientnet-b4',\n",
    "                 encoder_weights='imagenet',\n",
    "                 in_channels=3,\n",
    "                 classes=1)\n",
    "    return model"
   ]
  },
  {
   "cell_type": "markdown",
   "id": "bbb83d9f",
   "metadata": {
    "papermill": {
     "duration": 0.016075,
     "end_time": "2022-07-31T06:09:00.654714",
     "exception": false,
     "start_time": "2022-07-31T06:09:00.638639",
     "status": "completed"
    },
    "tags": []
   },
   "source": [
    "# Model check:"
   ]
  },
  {
   "cell_type": "code",
   "execution_count": 15,
   "id": "c173b97b",
   "metadata": {
    "execution": {
     "iopub.execute_input": "2022-07-31T06:09:00.687715Z",
     "iopub.status.busy": "2022-07-31T06:09:00.687459Z",
     "iopub.status.idle": "2022-07-31T06:09:12.562251Z",
     "shell.execute_reply": "2022-07-31T06:09:12.553378Z"
    },
    "papermill": {
     "duration": 11.894724,
     "end_time": "2022-07-31T06:09:12.565214",
     "exception": false,
     "start_time": "2022-07-31T06:09:00.670490",
     "status": "completed"
    },
    "tags": []
   },
   "outputs": [
    {
     "name": "stderr",
     "output_type": "stream",
     "text": [
      "Downloading: \"https://github.com/lukemelas/EfficientNet-PyTorch/releases/download/1.0/efficientnet-b4-6ed6700e.pth\" to /root/.cache/torch/hub/checkpoints/efficientnet-b4-6ed6700e.pth\n"
     ]
    },
    {
     "data": {
      "application/vnd.jupyter.widget-view+json": {
       "model_id": "5641ca74245e48e9af16de61c654e8a9",
       "version_major": 2,
       "version_minor": 0
      },
      "text/plain": [
       "  0%|          | 0.00/74.4M [00:00<?, ?B/s]"
      ]
     },
     "metadata": {},
     "output_type": "display_data"
    },
    {
     "data": {
      "text/plain": [
       "torch.Size([1, 1, 256, 256])"
      ]
     },
     "execution_count": 15,
     "metadata": {},
     "output_type": "execute_result"
    }
   ],
   "source": [
    "train_on_gpu = torch.cuda.is_available()\n",
    "model = init_model() #UNet(n_channels=CONFIG[\"in_channels\"], n_classes=CONFIG[\"num_classes\"])\n",
    "if train_on_gpu:\n",
    "    model.cuda()\n",
    "\n",
    "model(temp_img.unsqueeze(0).cuda()).shape"
   ]
  },
  {
   "cell_type": "markdown",
   "id": "ea480bb9",
   "metadata": {
    "papermill": {
     "duration": 0.029171,
     "end_time": "2022-07-31T06:09:12.624714",
     "exception": false,
     "start_time": "2022-07-31T06:09:12.595543",
     "status": "completed"
    },
    "tags": []
   },
   "source": [
    "# DataLoader"
   ]
  },
  {
   "cell_type": "code",
   "execution_count": 16,
   "id": "eacc0345",
   "metadata": {
    "execution": {
     "iopub.execute_input": "2022-07-31T06:09:12.690397Z",
     "iopub.status.busy": "2022-07-31T06:09:12.689863Z",
     "iopub.status.idle": "2022-07-31T06:09:12.699675Z",
     "shell.execute_reply": "2022-07-31T06:09:12.698516Z"
    },
    "papermill": {
     "duration": 0.03916,
     "end_time": "2022-07-31T06:09:12.702393",
     "exception": false,
     "start_time": "2022-07-31T06:09:12.663233",
     "status": "completed"
    },
    "tags": []
   },
   "outputs": [],
   "source": [
    "# REMARK shuffle = False [result might change with shuffle =True]\n",
    "train_loader = torch.utils.data.DataLoader(\n",
    "               dataset=train_data,\n",
    "               batch_size=CONFIG[\"BATCH_SIZE\"],\n",
    "               shuffle=False,\n",
    "               num_workers=2)\n",
    "\n",
    "test_loader = torch.utils.data.DataLoader(\n",
    "              dataset=test_data,\n",
    "              batch_size=CONFIG[\"BATCH_SIZE\"],\n",
    "              shuffle=False,\n",
    "              num_workers=2)"
   ]
  },
  {
   "cell_type": "code",
   "execution_count": 17,
   "id": "93260c2e",
   "metadata": {
    "execution": {
     "iopub.execute_input": "2022-07-31T06:09:12.766643Z",
     "iopub.status.busy": "2022-07-31T06:09:12.766343Z",
     "iopub.status.idle": "2022-07-31T06:09:12.779753Z",
     "shell.execute_reply": "2022-07-31T06:09:12.778932Z"
    },
    "papermill": {
     "duration": 0.04636,
     "end_time": "2022-07-31T06:09:12.784181",
     "exception": false,
     "start_time": "2022-07-31T06:09:12.737821",
     "status": "completed"
    },
    "tags": []
   },
   "outputs": [],
   "source": [
    "def get_scheduler(optimizer):\n",
    "    num_steps = 12\n",
    "    \n",
    "#     if len(train_df[train_df['fold'] == CONFIG[\"folds_to_run\"][0]]) % CONFIG[\"BATCH_SIZE\"] != 0:\n",
    "#         num_steps = len(train_df[train_df['fold'] != CONFIG[\"folds_to_run\"][0]]) // CONFIG[\"BATCH_SIZE\"] + 1\n",
    "    \n",
    "#     else:\n",
    "#         len(train_df[train_df['fold'] != CONFIG[\"folds_to_run\"][0]]) // CONFIG[\"BATCH_SIZE\"]\n",
    "    \n",
    "    if CONFIG[\"scheduler\"] == 'CosineAnnealingLR':\n",
    "        scheduler = lr_scheduler.CosineAnnealingLR(optimizer,T_max=CONFIG['T_max'], \n",
    "                                                   eta_min=CONFIG['min_lr'])\n",
    "#         scheduler = transformers.get_cosine_schedule_with_warmup(optimizer, CONFIG[\"warmup_epochs\"] * num_steps, CONFIG[\"NUM_EPOCHS\"] * num_steps)\n",
    "        \n",
    "    elif CONFIG[\"scheduler\"] == 'ReduceLROnPlateau':\n",
    "        scheduler = lr_scheduler.ReduceLROnPlateau(optimizer, mode='min', factor=0.1, patience=7, threshold=0.0001, min_lr=1e-6)\n",
    "    elif CONFIG[\"scheduler\"] == 'ExponentialLR':\n",
    "        scheduler = lr_scheduler.ExponentialLR(optimizer, gamma=0.85)\n",
    "    elif CONFIG['scheduler'] == 'CosineAnnealingWarmRestarts':\n",
    "        scheduler = lr_scheduler.CosineAnnealingWarmRestarts(optimizer,T_0=CONFIG['T_0'], \n",
    "                                                             eta_min=CONFIG['min_lr'])\n",
    "        \n",
    "    return scheduler"
   ]
  },
  {
   "cell_type": "markdown",
   "id": "47f50186",
   "metadata": {
    "papermill": {
     "duration": 0.026852,
     "end_time": "2022-07-31T06:09:12.842192",
     "exception": false,
     "start_time": "2022-07-31T06:09:12.815340",
     "status": "completed"
    },
    "tags": []
   },
   "source": [
    "# Loss, Optimizer & Metric:"
   ]
  },
  {
   "cell_type": "code",
   "execution_count": 18,
   "id": "f8fe7b19",
   "metadata": {
    "execution": {
     "iopub.execute_input": "2022-07-31T06:09:12.898388Z",
     "iopub.status.busy": "2022-07-31T06:09:12.898071Z",
     "iopub.status.idle": "2022-07-31T06:09:12.915583Z",
     "shell.execute_reply": "2022-07-31T06:09:12.914740Z"
    },
    "papermill": {
     "duration": 0.049244,
     "end_time": "2022-07-31T06:09:12.918759",
     "exception": false,
     "start_time": "2022-07-31T06:09:12.869515",
     "status": "completed"
    },
    "tags": []
   },
   "outputs": [],
   "source": [
    "#PyTorch\n",
    "class DiceLoss(nn.Module):\n",
    "    def __init__(self, weight=None, size_average=True):\n",
    "        super(DiceLoss, self).__init__()\n",
    "\n",
    "    def forward(self, inputs, targets, smooth=1):\n",
    "        \n",
    "        #comment out if your model contains a sigmoid or equivalent activation layer\n",
    "        inputs = F.sigmoid(inputs)       \n",
    "        \n",
    "        #flatten label and prediction tensors\n",
    "        inputs = inputs.view(-1)\n",
    "        targets = targets.view(-1)\n",
    "        \n",
    "        intersection = (inputs * targets).sum()                            \n",
    "        dice = (2.*intersection + smooth)/(inputs.sum() + targets.sum() + smooth)  \n",
    "        \n",
    "        return 1 - dice\n",
    "\n",
    "loss_fn = DiceLoss() #Dice()\n",
    "optimizer = optim.Adam(model.parameters(), lr=CONFIG[\"LEARNING_RATE\"],weight_decay=1e-5)"
   ]
  },
  {
   "cell_type": "code",
   "execution_count": 19,
   "id": "0068b196",
   "metadata": {
    "execution": {
     "iopub.execute_input": "2022-07-31T06:09:12.982759Z",
     "iopub.status.busy": "2022-07-31T06:09:12.982265Z",
     "iopub.status.idle": "2022-07-31T06:09:13.002760Z",
     "shell.execute_reply": "2022-07-31T06:09:13.001878Z"
    },
    "papermill": {
     "duration": 0.05254,
     "end_time": "2022-07-31T06:09:13.005613",
     "exception": false,
     "start_time": "2022-07-31T06:09:12.953073",
     "status": "completed"
    },
    "tags": []
   },
   "outputs": [],
   "source": [
    "class DiceCoef(nn.Module):\n",
    "    def __init__(self, weight=None, size_average=True):\n",
    "        super().__init__()\n",
    "\n",
    "    def forward(self, y_pred, y_true, smooth=1.):\n",
    "        y_true = y_true.view(-1)\n",
    "        y_pred = y_pred.view(-1)\n",
    "        \n",
    "        #Round off y_pred\n",
    "        y_pred = torch.round((y_pred - y_pred.min()) / (y_pred.max() - y_pred.min()))\n",
    "        \n",
    "        intersection = (y_true * y_pred).sum()\n",
    "        dice = (2.0*intersection + smooth)/(y_true.sum() + y_pred.sum() + smooth)\n",
    "        \n",
    "        return dice\n",
    "\n",
    "def dice_coef(y_true, y_pred, thr=0.5, dim=(2,3), epsilon=0.001):\n",
    "    y_true = y_true.to(torch.float32)\n",
    "    y_pred = (y_pred>thr).to(torch.float32)\n",
    "    inter = (y_true*y_pred).sum(dim=dim)\n",
    "    den = y_true.sum(dim=dim) + y_pred.sum(dim=dim)\n",
    "    dice = ((2*inter+epsilon)/(den+epsilon)).mean(dim=(1,0))\n",
    "    return dice\n",
    "\n",
    "def iou_coef(y_true, y_pred, thr=0.5, dim=(2,3), epsilon=0.001):\n",
    "    y_true = y_true.to(torch.float32)\n",
    "    y_pred = (y_pred>thr).to(torch.float32)\n",
    "    inter = (y_true*y_pred).sum(dim=dim)\n",
    "    union = (y_true + y_pred - y_true*y_pred).sum(dim=dim)\n",
    "    iou = ((inter+epsilon)/(union+epsilon)).mean(dim=(1,0))\n",
    "    return iou\n",
    "\n",
    "dice_coe = DiceCoef()"
   ]
  },
  {
   "cell_type": "markdown",
   "id": "0cfd1df5",
   "metadata": {
    "papermill": {
     "duration": 0.028653,
     "end_time": "2022-07-31T06:09:13.064548",
     "exception": false,
     "start_time": "2022-07-31T06:09:13.035895",
     "status": "completed"
    },
    "tags": []
   },
   "source": [
    "# model save class:"
   ]
  },
  {
   "cell_type": "code",
   "execution_count": 20,
   "id": "f9c02395",
   "metadata": {
    "execution": {
     "iopub.execute_input": "2022-07-31T06:09:13.122490Z",
     "iopub.status.busy": "2022-07-31T06:09:13.121962Z",
     "iopub.status.idle": "2022-07-31T06:09:13.134501Z",
     "shell.execute_reply": "2022-07-31T06:09:13.133568Z"
    },
    "papermill": {
     "duration": 0.044428,
     "end_time": "2022-07-31T06:09:13.137318",
     "exception": false,
     "start_time": "2022-07-31T06:09:13.092890",
     "status": "completed"
    },
    "tags": []
   },
   "outputs": [],
   "source": [
    "model_path = \"./model_weights\"\n",
    "if not os.path.exists(model_path):\n",
    "    os.makedirs(model_path)\n",
    "    \n",
    "def save_model(model, optimizer, criterion, epoch):\n",
    "    \"\"\"\n",
    "    Function to save the trained model to disk.\n",
    "    \"\"\"\n",
    "    print(f\"\\n Saving model at {epoch}th epoch\")\n",
    "    fname = f'{model_path}/{CONFIG[\"model_name\"]}-{CONFIG[\"LEARNING_RATE\"]}-{CONFIG[\"AUG\"]}-{epoch}-{CONFIG[\"BATCH_SIZE\"]}.pth'\n",
    "    torch.save({\n",
    "                'epoch': epoch,\n",
    "                'model_state_dict': model.state_dict(),\n",
    "                'optimizer_state_dict': optimizer.state_dict(),\n",
    "                'loss': criterion,\n",
    "                }, fname )\n",
    "    return fname"
   ]
  },
  {
   "cell_type": "markdown",
   "id": "a79bd938",
   "metadata": {
    "papermill": {
     "duration": 0.020963,
     "end_time": "2022-07-31T06:09:13.195412",
     "exception": false,
     "start_time": "2022-07-31T06:09:13.174449",
     "status": "completed"
    },
    "tags": []
   },
   "source": [
    "## Train & Validation Function:"
   ]
  },
  {
   "cell_type": "code",
   "execution_count": 21,
   "id": "f9459467",
   "metadata": {
    "execution": {
     "iopub.execute_input": "2022-07-31T06:09:13.229795Z",
     "iopub.status.busy": "2022-07-31T06:09:13.229495Z",
     "iopub.status.idle": "2022-07-31T06:09:13.240772Z",
     "shell.execute_reply": "2022-07-31T06:09:13.239935Z"
    },
    "papermill": {
     "duration": 0.031818,
     "end_time": "2022-07-31T06:09:13.243796",
     "exception": false,
     "start_time": "2022-07-31T06:09:13.211978",
     "status": "completed"
    },
    "tags": []
   },
   "outputs": [],
   "source": [
    "# https://www.kaggle.com/code/debarshichanda/pytorch-w-b-birdclef-22-starter#Training-Function\n",
    "def train_fn(loader, model, optimizer, loss_fn,epoch, scheduler):\n",
    "    bar = tqdm(enumerate(loader), total=len(loader))\n",
    "    \n",
    "    \n",
    "    running_loss = 0.0\n",
    "    dataset_size = 0\n",
    "    \n",
    "    for batch_idx, (data, targets) in bar:\n",
    "        data = data.to(device=CONFIG[\"DEVICE\"])\n",
    "        targets = targets.float().to(device=CONFIG[\"DEVICE\"])\n",
    "\n",
    "        # forward\n",
    "        predictions = model(data)\n",
    "        loss = loss_fn(predictions, targets)\n",
    "\n",
    "        \n",
    "        optimizer.zero_grad()\n",
    "        # backward\n",
    "        loss.backward()\n",
    "        # Update Weights\n",
    "        optimizer.step()\n",
    "        \n",
    "        if scheduler is not None:\n",
    "            scheduler.step()\n",
    "            \n",
    "        # Calculate Loss\n",
    "        running_loss += loss.item()\n",
    "        \n",
    "        epoch_loss = running_loss / len(loader)\n",
    "#         running_loss += (loss.item() * BATCH_SIZE)\n",
    "#         dataset_size += BATCH_SIZE\n",
    "        \n",
    "#         epoch_loss = running_loss / dataset_size\n",
    "        # update tqdm loop\n",
    "        bar.set_postfix(Epoch=epoch,loss=epoch_loss)\n",
    "    \n",
    "        \n",
    "    gc.collect()\n",
    "    \n",
    "    return epoch_loss"
   ]
  },
  {
   "cell_type": "code",
   "execution_count": 22,
   "id": "5e47ea1e",
   "metadata": {
    "execution": {
     "iopub.execute_input": "2022-07-31T06:09:13.279283Z",
     "iopub.status.busy": "2022-07-31T06:09:13.278984Z",
     "iopub.status.idle": "2022-07-31T06:09:13.290442Z",
     "shell.execute_reply": "2022-07-31T06:09:13.289539Z"
    },
    "papermill": {
     "duration": 0.032928,
     "end_time": "2022-07-31T06:09:13.294557",
     "exception": false,
     "start_time": "2022-07-31T06:09:13.261629",
     "status": "completed"
    },
    "tags": []
   },
   "outputs": [],
   "source": [
    "@torch.no_grad()\n",
    "def valid_one_epoch(model, dataloader, device, epoch):\n",
    "    model.eval()\n",
    "    \n",
    "    dataset_size = 0\n",
    "    running_loss = 0.0\n",
    "#     criterion = losses[CFG.loss]\n",
    "    \n",
    "    val_scores = []\n",
    "    \n",
    "    pbar = tqdm(enumerate(dataloader), total=len(dataloader))\n",
    "    for step, (images, masks) in pbar:\n",
    "        images  = images.to(CONFIG[\"DEVICE\"], dtype=torch.float)\n",
    "        masks   = masks.to(CONFIG[\"DEVICE\"], dtype=torch.float)\n",
    "        \n",
    "        \n",
    "        y_pred  = model(images)\n",
    "        loss    = loss_fn(y_pred, masks)\n",
    "        \n",
    "        running_loss += (loss.item() * CONFIG[\"BATCH_SIZE\"])\n",
    "        dataset_size += CONFIG[\"BATCH_SIZE\"]\n",
    "        \n",
    "        epoch_loss = running_loss / dataset_size\n",
    "        \n",
    "        y_pred = nn.Sigmoid()(y_pred)\n",
    "        val_dice = dice_coef(masks, y_pred).cpu().detach().numpy()\n",
    "        val_jaccard = iou_coef(masks, y_pred).cpu().detach().numpy()\n",
    "        val_scores.append([val_dice, val_jaccard])\n",
    "        \n",
    "        mem = torch.cuda.memory_reserved() / 1E9 if torch.cuda.is_available() else 0\n",
    "        current_lr = optimizer.param_groups[0]['lr']\n",
    "        pbar.set_postfix(valid_loss=f'{epoch_loss:0.4f}',\n",
    "                        lr=f'{current_lr:0.5f}',\n",
    "                        gpu_memory=f'{mem:0.2f} GB')\n",
    "    val_scores  = np.mean(val_scores, axis=0)\n",
    "    torch.cuda.empty_cache()\n",
    "    gc.collect()\n",
    "    \n",
    "    return epoch_loss, val_scores"
   ]
  },
  {
   "cell_type": "markdown",
   "id": "58409026",
   "metadata": {
    "papermill": {
     "duration": 0.016193,
     "end_time": "2022-07-31T06:09:13.330814",
     "exception": false,
     "start_time": "2022-07-31T06:09:13.314621",
     "status": "completed"
    },
    "tags": []
   },
   "source": [
    "# Train loop:"
   ]
  },
  {
   "cell_type": "code",
   "execution_count": 23,
   "id": "6a5b0917",
   "metadata": {
    "execution": {
     "iopub.execute_input": "2022-07-31T06:09:13.364462Z",
     "iopub.status.busy": "2022-07-31T06:09:13.364165Z",
     "iopub.status.idle": "2022-07-31T08:51:05.920152Z",
     "shell.execute_reply": "2022-07-31T08:51:05.919123Z"
    },
    "papermill": {
     "duration": 9712.575239,
     "end_time": "2022-07-31T08:51:05.922276",
     "exception": false,
     "start_time": "2022-07-31T06:09:13.347037",
     "status": "completed"
    },
    "tags": []
   },
   "outputs": [
    {
     "name": "stdout",
     "output_type": "stream",
     "text": [
      "\u001b[0m===================== Epoch: [1/50] =====================\n"
     ]
    },
    {
     "name": "stderr",
     "output_type": "stream",
     "text": [
      "100%|██████████| 316/316 [02:51<00:00,  1.84it/s, Epoch=1, loss=0.996]\n",
      "100%|██████████| 79/79 [00:31<00:00,  2.50it/s, gpu_memory=3.46 GB, lr=0.00001, valid_loss=0.9940]\n"
     ]
    },
    {
     "name": "stdout",
     "output_type": "stream",
     "text": [
      "\n",
      " Saving model at 1th epoch\n",
      "\n",
      " Final Train Loss: 0.9960  |  Final Val Loss: 0.9940\n",
      "Valid Dice: 0.0077 | Valid Jaccard: 0.0047\n",
      "\u001b[34mval dice increased: -inf ---> 0.007696707732975483\n",
      "\u001b[34mval jaccard increased: -inf ---> 0.004683232866227627\n",
      "\u001b[0m===================== Epoch: [2/50] =====================\n"
     ]
    },
    {
     "name": "stderr",
     "output_type": "stream",
     "text": [
      "100%|██████████| 316/316 [02:38<00:00,  1.99it/s, Epoch=2, loss=0.975]\n",
      "100%|██████████| 79/79 [00:27<00:00,  2.87it/s, gpu_memory=3.61 GB, lr=0.00004, valid_loss=0.9683]\n"
     ]
    },
    {
     "name": "stdout",
     "output_type": "stream",
     "text": [
      "\n",
      " Saving model at 2th epoch\n",
      "\n",
      " Final Train Loss: 0.9752  |  Final Val Loss: 0.9683\n",
      "Valid Dice: 0.3650 | Valid Jaccard: 0.3630\n",
      "\u001b[34mval dice increased: 0.007696707732975483 ---> 0.3649623394012451\n",
      "\u001b[34mval jaccard increased: 0.004683232866227627 ---> 0.36303573846817017\n",
      "\u001b[0m===================== Epoch: [3/50] =====================\n"
     ]
    },
    {
     "name": "stderr",
     "output_type": "stream",
     "text": [
      "100%|██████████| 316/316 [02:38<00:00,  2.00it/s, Epoch=3, loss=0.972]\n",
      "100%|██████████| 79/79 [00:27<00:00,  2.88it/s, gpu_memory=3.61 GB, lr=0.00007, valid_loss=0.9632]\n"
     ]
    },
    {
     "name": "stdout",
     "output_type": "stream",
     "text": [
      "\n",
      " Saving model at 3th epoch\n",
      "\n",
      " Final Train Loss: 0.9723  |  Final Val Loss: 0.9632\n",
      "Valid Dice: 0.3632 | Valid Jaccard: 0.3598\n",
      "\u001b[0m===================== Epoch: [4/50] =====================\n"
     ]
    },
    {
     "name": "stderr",
     "output_type": "stream",
     "text": [
      "100%|██████████| 316/316 [02:38<00:00,  1.99it/s, Epoch=4, loss=0.97]\n",
      "100%|██████████| 79/79 [00:26<00:00,  2.94it/s, gpu_memory=3.61 GB, lr=0.00009, valid_loss=0.9614]\n"
     ]
    },
    {
     "name": "stdout",
     "output_type": "stream",
     "text": [
      "\n",
      " Saving model at 4th epoch\n",
      "\n",
      " Final Train Loss: 0.9704  |  Final Val Loss: 0.9614\n",
      "Valid Dice: 0.3648 | Valid Jaccard: 0.3614\n",
      "\u001b[0m===================== Epoch: [5/50] =====================\n"
     ]
    },
    {
     "name": "stderr",
     "output_type": "stream",
     "text": [
      "100%|██████████| 316/316 [02:38<00:00,  1.99it/s, Epoch=5, loss=0.969]\n",
      "100%|██████████| 79/79 [00:27<00:00,  2.84it/s, gpu_memory=3.61 GB, lr=0.00010, valid_loss=0.9603]\n"
     ]
    },
    {
     "name": "stdout",
     "output_type": "stream",
     "text": [
      "\n",
      " Saving model at 5th epoch\n",
      "\n",
      " Final Train Loss: 0.9692  |  Final Val Loss: 0.9603\n",
      "Valid Dice: 0.3662 | Valid Jaccard: 0.3629\n",
      "\u001b[34mval dice increased: 0.3649623394012451 ---> 0.36624065041542053\n",
      "\u001b[0m===================== Epoch: [6/50] =====================\n"
     ]
    },
    {
     "name": "stderr",
     "output_type": "stream",
     "text": [
      "100%|██████████| 316/316 [02:40<00:00,  1.97it/s, Epoch=6, loss=0.969]\n",
      "100%|██████████| 79/79 [00:27<00:00,  2.85it/s, gpu_memory=3.61 GB, lr=0.00001, valid_loss=0.9608]\n"
     ]
    },
    {
     "name": "stdout",
     "output_type": "stream",
     "text": [
      "\n",
      " Saving model at 6th epoch\n",
      "\n",
      " Final Train Loss: 0.9694  |  Final Val Loss: 0.9608\n",
      "Valid Dice: 0.3663 | Valid Jaccard: 0.3637\n",
      "\u001b[34mval dice increased: 0.36624065041542053 ---> 0.36628302931785583\n",
      "\u001b[34mval jaccard increased: 0.36303573846817017 ---> 0.36370667815208435\n",
      "\u001b[0m===================== Epoch: [7/50] =====================\n"
     ]
    },
    {
     "name": "stderr",
     "output_type": "stream",
     "text": [
      "100%|██████████| 316/316 [02:39<00:00,  1.98it/s, Epoch=7, loss=0.969]\n",
      "100%|██████████| 79/79 [00:27<00:00,  2.85it/s, gpu_memory=3.61 GB, lr=0.00004, valid_loss=0.9592]\n"
     ]
    },
    {
     "name": "stdout",
     "output_type": "stream",
     "text": [
      "\n",
      " Saving model at 7th epoch\n",
      "\n",
      " Final Train Loss: 0.9690  |  Final Val Loss: 0.9592\n",
      "Valid Dice: 0.3632 | Valid Jaccard: 0.3598\n",
      "\u001b[0m===================== Epoch: [8/50] =====================\n"
     ]
    },
    {
     "name": "stderr",
     "output_type": "stream",
     "text": [
      "100%|██████████| 316/316 [02:38<00:00,  1.99it/s, Epoch=8, loss=0.969]\n",
      "100%|██████████| 79/79 [00:28<00:00,  2.82it/s, gpu_memory=3.61 GB, lr=0.00007, valid_loss=0.9612]\n"
     ]
    },
    {
     "name": "stdout",
     "output_type": "stream",
     "text": [
      "\n",
      " Saving model at 8th epoch\n",
      "\n",
      " Final Train Loss: 0.9690  |  Final Val Loss: 0.9612\n",
      "Valid Dice: 0.3624 | Valid Jaccard: 0.3594\n",
      "\u001b[0m===================== Epoch: [9/50] =====================\n"
     ]
    },
    {
     "name": "stderr",
     "output_type": "stream",
     "text": [
      "100%|██████████| 316/316 [02:39<00:00,  1.98it/s, Epoch=9, loss=0.969]\n",
      "100%|██████████| 79/79 [00:27<00:00,  2.89it/s, gpu_memory=3.61 GB, lr=0.00009, valid_loss=0.9582]\n"
     ]
    },
    {
     "name": "stdout",
     "output_type": "stream",
     "text": [
      "\n",
      " Saving model at 9th epoch\n",
      "\n",
      " Final Train Loss: 0.9694  |  Final Val Loss: 0.9582\n",
      "Valid Dice: 0.3665 | Valid Jaccard: 0.3630\n",
      "\u001b[34mval dice increased: 0.36628302931785583 ---> 0.3664814829826355\n",
      "\u001b[0m===================== Epoch: [10/50] =====================\n"
     ]
    },
    {
     "name": "stderr",
     "output_type": "stream",
     "text": [
      "100%|██████████| 316/316 [02:39<00:00,  1.98it/s, Epoch=10, loss=0.969]\n",
      "100%|██████████| 79/79 [00:28<00:00,  2.81it/s, gpu_memory=3.61 GB, lr=0.00010, valid_loss=0.9582]\n"
     ]
    },
    {
     "name": "stdout",
     "output_type": "stream",
     "text": [
      "\n",
      " Saving model at 10th epoch\n",
      "\n",
      " Final Train Loss: 0.9687  |  Final Val Loss: 0.9582\n",
      "Valid Dice: 0.3665 | Valid Jaccard: 0.3630\n",
      "\u001b[34mval dice increased: 0.3664814829826355 ---> 0.3664844036102295\n",
      "\u001b[0m===================== Epoch: [11/50] =====================\n"
     ]
    },
    {
     "name": "stderr",
     "output_type": "stream",
     "text": [
      "100%|██████████| 316/316 [02:39<00:00,  1.98it/s, Epoch=11, loss=0.969]\n",
      "100%|██████████| 79/79 [00:28<00:00,  2.79it/s, gpu_memory=3.61 GB, lr=0.00001, valid_loss=0.9586]\n"
     ]
    },
    {
     "name": "stdout",
     "output_type": "stream",
     "text": [
      "\n",
      " Saving model at 11th epoch\n",
      "\n",
      " Final Train Loss: 0.9687  |  Final Val Loss: 0.9586\n",
      "Valid Dice: 0.3678 | Valid Jaccard: 0.3645\n",
      "\u001b[34mval dice increased: 0.3664844036102295 ---> 0.3677801191806793\n",
      "\u001b[34mval jaccard increased: 0.36370667815208435 ---> 0.36446693539619446\n",
      "\u001b[0m===================== Epoch: [12/50] =====================\n"
     ]
    },
    {
     "name": "stderr",
     "output_type": "stream",
     "text": [
      "100%|██████████| 316/316 [02:39<00:00,  1.99it/s, Epoch=12, loss=0.969]\n",
      "100%|██████████| 79/79 [00:27<00:00,  2.85it/s, gpu_memory=3.61 GB, lr=0.00004, valid_loss=0.9707]\n"
     ]
    },
    {
     "name": "stdout",
     "output_type": "stream",
     "text": [
      "\n",
      " Saving model at 12th epoch\n",
      "\n",
      " Final Train Loss: 0.9689  |  Final Val Loss: 0.9707\n",
      "Valid Dice: 0.3660 | Valid Jaccard: 0.3628\n",
      "\u001b[0m===================== Epoch: [13/50] =====================\n"
     ]
    },
    {
     "name": "stderr",
     "output_type": "stream",
     "text": [
      "100%|██████████| 316/316 [02:38<00:00,  2.00it/s, Epoch=13, loss=0.969]\n",
      "100%|██████████| 79/79 [00:27<00:00,  2.86it/s, gpu_memory=3.61 GB, lr=0.00007, valid_loss=0.9619]\n"
     ]
    },
    {
     "name": "stdout",
     "output_type": "stream",
     "text": [
      "\n",
      " Saving model at 13th epoch\n",
      "\n",
      " Final Train Loss: 0.9689  |  Final Val Loss: 0.9619\n",
      "Valid Dice: 0.3661 | Valid Jaccard: 0.3636\n",
      "\u001b[0m===================== Epoch: [14/50] =====================\n"
     ]
    },
    {
     "name": "stderr",
     "output_type": "stream",
     "text": [
      "100%|██████████| 316/316 [02:39<00:00,  1.98it/s, Epoch=14, loss=0.969]\n",
      "100%|██████████| 79/79 [00:26<00:00,  2.97it/s, gpu_memory=3.61 GB, lr=0.00009, valid_loss=0.9596]\n"
     ]
    },
    {
     "name": "stdout",
     "output_type": "stream",
     "text": [
      "\n",
      " Saving model at 14th epoch\n",
      "\n",
      " Final Train Loss: 0.9690  |  Final Val Loss: 0.9596\n",
      "Valid Dice: 0.3661 | Valid Jaccard: 0.3628\n",
      "\u001b[0m===================== Epoch: [15/50] =====================\n"
     ]
    },
    {
     "name": "stderr",
     "output_type": "stream",
     "text": [
      "100%|██████████| 316/316 [02:39<00:00,  1.98it/s, Epoch=15, loss=0.97]\n",
      "100%|██████████| 79/79 [00:27<00:00,  2.84it/s, gpu_memory=3.61 GB, lr=0.00010, valid_loss=0.9587]\n"
     ]
    },
    {
     "name": "stdout",
     "output_type": "stream",
     "text": [
      "\n",
      " Saving model at 15th epoch\n",
      "\n",
      " Final Train Loss: 0.9697  |  Final Val Loss: 0.9587\n",
      "Valid Dice: 0.3678 | Valid Jaccard: 0.3645\n",
      "\u001b[0m===================== Epoch: [16/50] =====================\n"
     ]
    },
    {
     "name": "stderr",
     "output_type": "stream",
     "text": [
      "100%|██████████| 316/316 [02:40<00:00,  1.97it/s, Epoch=16, loss=0.969]\n",
      "100%|██████████| 79/79 [00:28<00:00,  2.79it/s, gpu_memory=3.61 GB, lr=0.00001, valid_loss=0.9587]\n"
     ]
    },
    {
     "name": "stdout",
     "output_type": "stream",
     "text": [
      "\n",
      " Saving model at 16th epoch\n",
      "\n",
      " Final Train Loss: 0.9686  |  Final Val Loss: 0.9587\n",
      "Valid Dice: 0.3677 | Valid Jaccard: 0.3644\n",
      "\u001b[0m===================== Epoch: [17/50] =====================\n"
     ]
    },
    {
     "name": "stderr",
     "output_type": "stream",
     "text": [
      "100%|██████████| 316/316 [02:42<00:00,  1.95it/s, Epoch=17, loss=0.969]\n",
      "100%|██████████| 79/79 [00:28<00:00,  2.76it/s, gpu_memory=3.61 GB, lr=0.00004, valid_loss=0.9586]\n"
     ]
    },
    {
     "name": "stdout",
     "output_type": "stream",
     "text": [
      "\n",
      " Saving model at 17th epoch\n",
      "\n",
      " Final Train Loss: 0.9685  |  Final Val Loss: 0.9586\n",
      "Valid Dice: 0.3676 | Valid Jaccard: 0.3644\n",
      "\u001b[0m===================== Epoch: [18/50] =====================\n"
     ]
    },
    {
     "name": "stderr",
     "output_type": "stream",
     "text": [
      "100%|██████████| 316/316 [02:43<00:00,  1.93it/s, Epoch=18, loss=0.969]\n",
      "100%|██████████| 79/79 [00:27<00:00,  2.84it/s, gpu_memory=3.61 GB, lr=0.00007, valid_loss=0.9705]\n"
     ]
    },
    {
     "name": "stdout",
     "output_type": "stream",
     "text": [
      "\n",
      " Saving model at 18th epoch\n",
      "\n",
      " Final Train Loss: 0.9693  |  Final Val Loss: 0.9705\n",
      "Valid Dice: 0.3521 | Valid Jaccard: 0.3487\n",
      "\u001b[0m===================== Epoch: [19/50] =====================\n"
     ]
    },
    {
     "name": "stderr",
     "output_type": "stream",
     "text": [
      "100%|██████████| 316/316 [02:43<00:00,  1.93it/s, Epoch=19, loss=0.97]\n",
      "100%|██████████| 79/79 [00:27<00:00,  2.85it/s, gpu_memory=3.61 GB, lr=0.00009, valid_loss=0.9712]\n"
     ]
    },
    {
     "name": "stdout",
     "output_type": "stream",
     "text": [
      "\n",
      " Saving model at 19th epoch\n",
      "\n",
      " Final Train Loss: 0.9702  |  Final Val Loss: 0.9712\n",
      "Valid Dice: 0.3352 | Valid Jaccard: 0.3316\n",
      "\u001b[0m===================== Epoch: [20/50] =====================\n"
     ]
    },
    {
     "name": "stderr",
     "output_type": "stream",
     "text": [
      "100%|██████████| 316/316 [02:45<00:00,  1.91it/s, Epoch=20, loss=0.969]\n",
      "100%|██████████| 79/79 [00:28<00:00,  2.78it/s, gpu_memory=3.61 GB, lr=0.00010, valid_loss=0.9589]\n"
     ]
    },
    {
     "name": "stdout",
     "output_type": "stream",
     "text": [
      "\n",
      " Saving model at 20th epoch\n",
      "\n",
      " Final Train Loss: 0.9686  |  Final Val Loss: 0.9589\n",
      "Valid Dice: 0.3647 | Valid Jaccard: 0.3614\n",
      "\u001b[0m===================== Epoch: [21/50] =====================\n"
     ]
    },
    {
     "name": "stderr",
     "output_type": "stream",
     "text": [
      "100%|██████████| 316/316 [02:44<00:00,  1.92it/s, Epoch=21, loss=0.968]\n",
      "100%|██████████| 79/79 [00:28<00:00,  2.79it/s, gpu_memory=3.61 GB, lr=0.00001, valid_loss=0.9595]\n"
     ]
    },
    {
     "name": "stdout",
     "output_type": "stream",
     "text": [
      "\n",
      " Saving model at 21th epoch\n",
      "\n",
      " Final Train Loss: 0.9684  |  Final Val Loss: 0.9595\n",
      "Valid Dice: 0.3671 | Valid Jaccard: 0.3641\n",
      "\u001b[0m===================== Epoch: [22/50] =====================\n"
     ]
    },
    {
     "name": "stderr",
     "output_type": "stream",
     "text": [
      "100%|██████████| 316/316 [02:44<00:00,  1.92it/s, Epoch=22, loss=0.968]\n",
      "100%|██████████| 79/79 [00:27<00:00,  2.85it/s, gpu_memory=3.61 GB, lr=0.00004, valid_loss=0.9586]\n"
     ]
    },
    {
     "name": "stdout",
     "output_type": "stream",
     "text": [
      "\n",
      " Saving model at 22th epoch\n",
      "\n",
      " Final Train Loss: 0.9683  |  Final Val Loss: 0.9586\n",
      "Valid Dice: 0.3675 | Valid Jaccard: 0.3643\n",
      "\u001b[0m===================== Epoch: [23/50] =====================\n"
     ]
    },
    {
     "name": "stderr",
     "output_type": "stream",
     "text": [
      "100%|██████████| 316/316 [02:45<00:00,  1.91it/s, Epoch=23, loss=0.968]\n",
      "100%|██████████| 79/79 [00:27<00:00,  2.90it/s, gpu_memory=3.61 GB, lr=0.00007, valid_loss=0.9588]\n"
     ]
    },
    {
     "name": "stdout",
     "output_type": "stream",
     "text": [
      "\n",
      " Saving model at 23th epoch\n",
      "\n",
      " Final Train Loss: 0.9682  |  Final Val Loss: 0.9588\n",
      "Valid Dice: 0.3643 | Valid Jaccard: 0.3611\n",
      "\u001b[0m===================== Epoch: [24/50] =====================\n"
     ]
    },
    {
     "name": "stderr",
     "output_type": "stream",
     "text": [
      "100%|██████████| 316/316 [02:44<00:00,  1.92it/s, Epoch=24, loss=0.968]\n",
      "100%|██████████| 79/79 [00:27<00:00,  2.83it/s, gpu_memory=3.61 GB, lr=0.00009, valid_loss=0.9592]\n"
     ]
    },
    {
     "name": "stdout",
     "output_type": "stream",
     "text": [
      "\n",
      " Saving model at 24th epoch\n",
      "\n",
      " Final Train Loss: 0.9681  |  Final Val Loss: 0.9592\n",
      "Valid Dice: 0.3671 | Valid Jaccard: 0.3641\n",
      "\u001b[0m===================== Epoch: [25/50] =====================\n"
     ]
    },
    {
     "name": "stderr",
     "output_type": "stream",
     "text": [
      "100%|██████████| 316/316 [02:44<00:00,  1.92it/s, Epoch=25, loss=0.968]\n",
      "100%|██████████| 79/79 [00:27<00:00,  2.83it/s, gpu_memory=3.61 GB, lr=0.00010, valid_loss=0.9592]\n"
     ]
    },
    {
     "name": "stdout",
     "output_type": "stream",
     "text": [
      "\n",
      " Saving model at 25th epoch\n",
      "\n",
      " Final Train Loss: 0.9684  |  Final Val Loss: 0.9592\n",
      "Valid Dice: 0.3672 | Valid Jaccard: 0.3642\n",
      "\u001b[0m===================== Epoch: [26/50] =====================\n"
     ]
    },
    {
     "name": "stderr",
     "output_type": "stream",
     "text": [
      "100%|██████████| 316/316 [02:45<00:00,  1.91it/s, Epoch=26, loss=0.968]\n",
      "100%|██████████| 79/79 [00:28<00:00,  2.73it/s, gpu_memory=3.61 GB, lr=0.00001, valid_loss=0.9596]\n"
     ]
    },
    {
     "name": "stdout",
     "output_type": "stream",
     "text": [
      "\n",
      " Saving model at 26th epoch\n",
      "\n",
      " Final Train Loss: 0.9682  |  Final Val Loss: 0.9596\n",
      "Valid Dice: 0.3668 | Valid Jaccard: 0.3640\n",
      "\u001b[0m===================== Epoch: [27/50] =====================\n"
     ]
    },
    {
     "name": "stderr",
     "output_type": "stream",
     "text": [
      "100%|██████████| 316/316 [02:46<00:00,  1.90it/s, Epoch=27, loss=0.968]\n",
      "100%|██████████| 79/79 [00:28<00:00,  2.80it/s, gpu_memory=3.61 GB, lr=0.00004, valid_loss=0.9592]\n"
     ]
    },
    {
     "name": "stdout",
     "output_type": "stream",
     "text": [
      "\n",
      " Saving model at 27th epoch\n",
      "\n",
      " Final Train Loss: 0.9681  |  Final Val Loss: 0.9592\n",
      "Valid Dice: 0.3655 | Valid Jaccard: 0.3625\n",
      "\u001b[0m===================== Epoch: [28/50] =====================\n"
     ]
    },
    {
     "name": "stderr",
     "output_type": "stream",
     "text": [
      "100%|██████████| 316/316 [02:45<00:00,  1.91it/s, Epoch=28, loss=0.968]\n",
      "100%|██████████| 79/79 [00:28<00:00,  2.81it/s, gpu_memory=3.61 GB, lr=0.00007, valid_loss=0.9586]\n"
     ]
    },
    {
     "name": "stdout",
     "output_type": "stream",
     "text": [
      "\n",
      " Saving model at 28th epoch\n",
      "\n",
      " Final Train Loss: 0.9684  |  Final Val Loss: 0.9586\n",
      "Valid Dice: 0.3641 | Valid Jaccard: 0.3610\n",
      "\u001b[0m===================== Epoch: [29/50] =====================\n"
     ]
    },
    {
     "name": "stderr",
     "output_type": "stream",
     "text": [
      "100%|██████████| 316/316 [02:45<00:00,  1.91it/s, Epoch=29, loss=0.968]\n",
      "100%|██████████| 79/79 [00:28<00:00,  2.80it/s, gpu_memory=3.61 GB, lr=0.00009, valid_loss=0.9609]\n"
     ]
    },
    {
     "name": "stdout",
     "output_type": "stream",
     "text": [
      "\n",
      " Saving model at 29th epoch\n",
      "\n",
      " Final Train Loss: 0.9682  |  Final Val Loss: 0.9609\n",
      "Valid Dice: 0.3662 | Valid Jaccard: 0.3637\n",
      "\u001b[0m===================== Epoch: [30/50] =====================\n"
     ]
    },
    {
     "name": "stderr",
     "output_type": "stream",
     "text": [
      "100%|██████████| 316/316 [02:47<00:00,  1.89it/s, Epoch=30, loss=0.968]\n",
      "100%|██████████| 79/79 [00:28<00:00,  2.79it/s, gpu_memory=3.61 GB, lr=0.00010, valid_loss=0.9588]\n"
     ]
    },
    {
     "name": "stdout",
     "output_type": "stream",
     "text": [
      "\n",
      " Saving model at 30th epoch\n",
      "\n",
      " Final Train Loss: 0.9683  |  Final Val Loss: 0.9588\n",
      "Valid Dice: 0.3671 | Valid Jaccard: 0.3641\n",
      "\u001b[0m===================== Epoch: [31/50] =====================\n"
     ]
    },
    {
     "name": "stderr",
     "output_type": "stream",
     "text": [
      "100%|██████████| 316/316 [02:47<00:00,  1.89it/s, Epoch=31, loss=0.968]\n",
      "100%|██████████| 79/79 [00:29<00:00,  2.66it/s, gpu_memory=3.61 GB, lr=0.00001, valid_loss=0.9586]\n"
     ]
    },
    {
     "name": "stdout",
     "output_type": "stream",
     "text": [
      "\n",
      " Saving model at 31th epoch\n",
      "\n",
      " Final Train Loss: 0.9682  |  Final Val Loss: 0.9586\n",
      "Valid Dice: 0.3671 | Valid Jaccard: 0.3641\n",
      "\u001b[0m===================== Epoch: [32/50] =====================\n"
     ]
    },
    {
     "name": "stderr",
     "output_type": "stream",
     "text": [
      "100%|██████████| 316/316 [02:47<00:00,  1.88it/s, Epoch=32, loss=0.968]\n",
      "100%|██████████| 79/79 [00:28<00:00,  2.76it/s, gpu_memory=3.61 GB, lr=0.00004, valid_loss=0.9582]\n"
     ]
    },
    {
     "name": "stdout",
     "output_type": "stream",
     "text": [
      "\n",
      " Saving model at 32th epoch\n",
      "\n",
      " Final Train Loss: 0.9680  |  Final Val Loss: 0.9582\n",
      "Valid Dice: 0.3673 | Valid Jaccard: 0.3642\n",
      "\u001b[0m===================== Epoch: [33/50] =====================\n"
     ]
    },
    {
     "name": "stderr",
     "output_type": "stream",
     "text": [
      "100%|██████████| 316/316 [02:46<00:00,  1.90it/s, Epoch=33, loss=0.968]\n",
      "100%|██████████| 79/79 [00:29<00:00,  2.64it/s, gpu_memory=3.61 GB, lr=0.00007, valid_loss=0.9606]\n"
     ]
    },
    {
     "name": "stdout",
     "output_type": "stream",
     "text": [
      "\n",
      " Saving model at 33th epoch\n",
      "\n",
      " Final Train Loss: 0.9681  |  Final Val Loss: 0.9606\n",
      "Valid Dice: 0.3662 | Valid Jaccard: 0.3637\n",
      "\u001b[0m===================== Epoch: [34/50] =====================\n"
     ]
    },
    {
     "name": "stderr",
     "output_type": "stream",
     "text": [
      "100%|██████████| 316/316 [02:48<00:00,  1.87it/s, Epoch=34, loss=0.968]\n",
      "100%|██████████| 79/79 [00:29<00:00,  2.69it/s, gpu_memory=3.61 GB, lr=0.00009, valid_loss=0.9599]\n"
     ]
    },
    {
     "name": "stdout",
     "output_type": "stream",
     "text": [
      "\n",
      " Saving model at 34th epoch\n",
      "\n",
      " Final Train Loss: 0.9680  |  Final Val Loss: 0.9599\n",
      "Valid Dice: 0.3668 | Valid Jaccard: 0.3640\n",
      "\u001b[0m===================== Epoch: [35/50] =====================\n"
     ]
    },
    {
     "name": "stderr",
     "output_type": "stream",
     "text": [
      "100%|██████████| 316/316 [02:48<00:00,  1.87it/s, Epoch=35, loss=0.968]\n",
      "100%|██████████| 79/79 [00:29<00:00,  2.69it/s, gpu_memory=3.61 GB, lr=0.00010, valid_loss=0.9716]\n"
     ]
    },
    {
     "name": "stdout",
     "output_type": "stream",
     "text": [
      "\n",
      " Saving model at 35th epoch\n",
      "\n",
      " Final Train Loss: 0.9682  |  Final Val Loss: 0.9716\n",
      "Valid Dice: 0.3642 | Valid Jaccard: 0.3611\n",
      "\u001b[0m===================== Epoch: [36/50] =====================\n"
     ]
    },
    {
     "name": "stderr",
     "output_type": "stream",
     "text": [
      "100%|██████████| 316/316 [02:47<00:00,  1.89it/s, Epoch=36, loss=0.971]\n",
      "100%|██████████| 79/79 [00:27<00:00,  2.84it/s, gpu_memory=3.61 GB, lr=0.00001, valid_loss=0.9789]\n"
     ]
    },
    {
     "name": "stdout",
     "output_type": "stream",
     "text": [
      "\n",
      " Saving model at 36th epoch\n",
      "\n",
      " Final Train Loss: 0.9705  |  Final Val Loss: 0.9789\n",
      "Valid Dice: 0.1417 | Valid Jaccard: 0.1382\n",
      "\u001b[0m===================== Epoch: [37/50] =====================\n"
     ]
    },
    {
     "name": "stderr",
     "output_type": "stream",
     "text": [
      "100%|██████████| 316/316 [02:48<00:00,  1.88it/s, Epoch=37, loss=0.969]\n",
      "100%|██████████| 79/79 [00:29<00:00,  2.72it/s, gpu_memory=3.61 GB, lr=0.00004, valid_loss=0.9587]\n"
     ]
    },
    {
     "name": "stdout",
     "output_type": "stream",
     "text": [
      "\n",
      " Saving model at 37th epoch\n",
      "\n",
      " Final Train Loss: 0.9689  |  Final Val Loss: 0.9587\n",
      "Valid Dice: 0.3672 | Valid Jaccard: 0.3642\n",
      "\u001b[0m===================== Epoch: [38/50] =====================\n"
     ]
    },
    {
     "name": "stderr",
     "output_type": "stream",
     "text": [
      "100%|██████████| 316/316 [02:47<00:00,  1.88it/s, Epoch=38, loss=0.968]\n",
      "100%|██████████| 79/79 [00:29<00:00,  2.69it/s, gpu_memory=3.61 GB, lr=0.00007, valid_loss=0.9582]\n"
     ]
    },
    {
     "name": "stdout",
     "output_type": "stream",
     "text": [
      "\n",
      " Saving model at 38th epoch\n",
      "\n",
      " Final Train Loss: 0.9681  |  Final Val Loss: 0.9582\n",
      "Valid Dice: 0.3644 | Valid Jaccard: 0.3612\n",
      "\u001b[0m===================== Epoch: [39/50] =====================\n"
     ]
    },
    {
     "name": "stderr",
     "output_type": "stream",
     "text": [
      "100%|██████████| 316/316 [02:47<00:00,  1.89it/s, Epoch=39, loss=0.968]\n",
      "100%|██████████| 79/79 [00:28<00:00,  2.81it/s, gpu_memory=3.61 GB, lr=0.00009, valid_loss=0.9581]\n"
     ]
    },
    {
     "name": "stdout",
     "output_type": "stream",
     "text": [
      "\n",
      " Saving model at 39th epoch\n",
      "\n",
      " Final Train Loss: 0.9680  |  Final Val Loss: 0.9581\n",
      "Valid Dice: 0.3656 | Valid Jaccard: 0.3626\n",
      "\u001b[0m===================== Epoch: [40/50] =====================\n"
     ]
    },
    {
     "name": "stderr",
     "output_type": "stream",
     "text": [
      "100%|██████████| 316/316 [02:45<00:00,  1.91it/s, Epoch=40, loss=0.968]\n",
      "100%|██████████| 79/79 [00:28<00:00,  2.73it/s, gpu_memory=3.61 GB, lr=0.00010, valid_loss=0.9587]\n"
     ]
    },
    {
     "name": "stdout",
     "output_type": "stream",
     "text": [
      "\n",
      " Saving model at 40th epoch\n",
      "\n",
      " Final Train Loss: 0.9682  |  Final Val Loss: 0.9587\n",
      "Valid Dice: 0.3658 | Valid Jaccard: 0.3627\n",
      "\u001b[0m===================== Epoch: [41/50] =====================\n"
     ]
    },
    {
     "name": "stderr",
     "output_type": "stream",
     "text": [
      "100%|██████████| 316/316 [02:46<00:00,  1.90it/s, Epoch=41, loss=0.968]\n",
      "100%|██████████| 79/79 [00:27<00:00,  2.91it/s, gpu_memory=3.61 GB, lr=0.00001, valid_loss=0.9589]\n"
     ]
    },
    {
     "name": "stdout",
     "output_type": "stream",
     "text": [
      "\n",
      " Saving model at 41th epoch\n",
      "\n",
      " Final Train Loss: 0.9680  |  Final Val Loss: 0.9589\n",
      "Valid Dice: 0.3642 | Valid Jaccard: 0.3611\n",
      "\u001b[0m===================== Epoch: [42/50] =====================\n"
     ]
    },
    {
     "name": "stderr",
     "output_type": "stream",
     "text": [
      "100%|██████████| 316/316 [02:49<00:00,  1.87it/s, Epoch=42, loss=0.968]\n",
      "100%|██████████| 79/79 [00:29<00:00,  2.66it/s, gpu_memory=3.61 GB, lr=0.00004, valid_loss=0.9586]\n"
     ]
    },
    {
     "name": "stdout",
     "output_type": "stream",
     "text": [
      "\n",
      " Saving model at 42th epoch\n",
      "\n",
      " Final Train Loss: 0.9679  |  Final Val Loss: 0.9586\n",
      "Valid Dice: 0.3657 | Valid Jaccard: 0.3626\n",
      "\u001b[0m===================== Epoch: [43/50] =====================\n"
     ]
    },
    {
     "name": "stderr",
     "output_type": "stream",
     "text": [
      "100%|██████████| 316/316 [02:48<00:00,  1.87it/s, Epoch=43, loss=0.968]\n",
      "100%|██████████| 79/79 [00:28<00:00,  2.80it/s, gpu_memory=3.61 GB, lr=0.00007, valid_loss=0.9589]\n"
     ]
    },
    {
     "name": "stdout",
     "output_type": "stream",
     "text": [
      "\n",
      " Saving model at 43th epoch\n",
      "\n",
      " Final Train Loss: 0.9679  |  Final Val Loss: 0.9589\n",
      "Valid Dice: 0.3656 | Valid Jaccard: 0.3626\n",
      "\u001b[0m===================== Epoch: [44/50] =====================\n"
     ]
    },
    {
     "name": "stderr",
     "output_type": "stream",
     "text": [
      "100%|██████████| 316/316 [02:47<00:00,  1.89it/s, Epoch=44, loss=0.968]\n",
      "100%|██████████| 79/79 [00:29<00:00,  2.69it/s, gpu_memory=3.61 GB, lr=0.00009, valid_loss=0.9601]\n"
     ]
    },
    {
     "name": "stdout",
     "output_type": "stream",
     "text": [
      "\n",
      " Saving model at 44th epoch\n",
      "\n",
      " Final Train Loss: 0.9678  |  Final Val Loss: 0.9601\n",
      "Valid Dice: 0.3651 | Valid Jaccard: 0.3623\n",
      "\u001b[0m===================== Epoch: [45/50] =====================\n"
     ]
    },
    {
     "name": "stderr",
     "output_type": "stream",
     "text": [
      "100%|██████████| 316/316 [02:48<00:00,  1.88it/s, Epoch=45, loss=0.968]\n",
      "100%|██████████| 79/79 [00:27<00:00,  2.83it/s, gpu_memory=3.61 GB, lr=0.00010, valid_loss=0.9582]\n"
     ]
    },
    {
     "name": "stdout",
     "output_type": "stream",
     "text": [
      "\n",
      " Saving model at 45th epoch\n",
      "\n",
      " Final Train Loss: 0.9680  |  Final Val Loss: 0.9582\n",
      "Valid Dice: 0.3659 | Valid Jaccard: 0.3628\n",
      "\u001b[0m===================== Epoch: [46/50] =====================\n"
     ]
    },
    {
     "name": "stderr",
     "output_type": "stream",
     "text": [
      "100%|██████████| 316/316 [02:47<00:00,  1.88it/s, Epoch=46, loss=0.969]\n",
      "100%|██████████| 79/79 [00:29<00:00,  2.67it/s, gpu_memory=3.61 GB, lr=0.00001, valid_loss=0.9581]\n"
     ]
    },
    {
     "name": "stdout",
     "output_type": "stream",
     "text": [
      "\n",
      " Saving model at 46th epoch\n",
      "\n",
      " Final Train Loss: 0.9690  |  Final Val Loss: 0.9581\n",
      "Valid Dice: 0.3665 | Valid Jaccard: 0.3630\n",
      "\u001b[0m===================== Epoch: [47/50] =====================\n"
     ]
    },
    {
     "name": "stderr",
     "output_type": "stream",
     "text": [
      "100%|██████████| 316/316 [02:48<00:00,  1.88it/s, Epoch=47, loss=0.968]\n",
      "100%|██████████| 79/79 [00:27<00:00,  2.84it/s, gpu_memory=3.61 GB, lr=0.00004, valid_loss=0.9590]\n"
     ]
    },
    {
     "name": "stdout",
     "output_type": "stream",
     "text": [
      "\n",
      " Saving model at 47th epoch\n",
      "\n",
      " Final Train Loss: 0.9681  |  Final Val Loss: 0.9590\n",
      "Valid Dice: 0.3639 | Valid Jaccard: 0.3609\n",
      "\u001b[0m===================== Epoch: [48/50] =====================\n"
     ]
    },
    {
     "name": "stderr",
     "output_type": "stream",
     "text": [
      "100%|██████████| 316/316 [02:49<00:00,  1.87it/s, Epoch=48, loss=0.968]\n",
      "100%|██████████| 79/79 [00:29<00:00,  2.65it/s, gpu_memory=3.61 GB, lr=0.00007, valid_loss=0.9586]\n"
     ]
    },
    {
     "name": "stdout",
     "output_type": "stream",
     "text": [
      "\n",
      " Saving model at 48th epoch\n",
      "\n",
      " Final Train Loss: 0.9680  |  Final Val Loss: 0.9586\n",
      "Valid Dice: 0.3610 | Valid Jaccard: 0.3579\n",
      "\u001b[0m===================== Epoch: [49/50] =====================\n"
     ]
    },
    {
     "name": "stderr",
     "output_type": "stream",
     "text": [
      "100%|██████████| 316/316 [02:48<00:00,  1.88it/s, Epoch=49, loss=0.968]\n",
      "100%|██████████| 79/79 [00:29<00:00,  2.69it/s, gpu_memory=3.61 GB, lr=0.00009, valid_loss=0.9587]\n"
     ]
    },
    {
     "name": "stdout",
     "output_type": "stream",
     "text": [
      "\n",
      " Saving model at 49th epoch\n",
      "\n",
      " Final Train Loss: 0.9679  |  Final Val Loss: 0.9587\n",
      "Valid Dice: 0.3671 | Valid Jaccard: 0.3641\n",
      "\u001b[0m===================== Epoch: [50/50] =====================\n"
     ]
    },
    {
     "name": "stderr",
     "output_type": "stream",
     "text": [
      "100%|██████████| 316/316 [02:50<00:00,  1.86it/s, Epoch=50, loss=0.968]\n",
      "100%|██████████| 79/79 [00:29<00:00,  2.68it/s, gpu_memory=3.61 GB, lr=0.00010, valid_loss=0.9589]\n"
     ]
    },
    {
     "name": "stdout",
     "output_type": "stream",
     "text": [
      "\n",
      " Saving model at 50th epoch\n",
      "\n",
      " Final Train Loss: 0.9678  |  Final Val Loss: 0.9589\n",
      "Valid Dice: 0.3641 | Valid Jaccard: 0.3610\n",
      "\n",
      " ====================== [Training Summary] ====================== \n",
      "\n",
      "Training complete in 2h 41m 52s\n",
      "avg time per [train + val] epoch 0h 3m 14s\n",
      "Best: ~~~~~~ dice: 0.3678  || jaccard 0.3645 || val_loss 0.9581 || train_loss 0.9678 ~~~~~~\n",
      "Saved training summary...\n",
      "\n",
      " =============================================================== \n",
      "\n"
     ]
    },
    {
     "data": {
      "text/html": [
       "<div>\n",
       "<style scoped>\n",
       "    .dataframe tbody tr th:only-of-type {\n",
       "        vertical-align: middle;\n",
       "    }\n",
       "\n",
       "    .dataframe tbody tr th {\n",
       "        vertical-align: top;\n",
       "    }\n",
       "\n",
       "    .dataframe thead th {\n",
       "        text-align: right;\n",
       "    }\n",
       "</style>\n",
       "<table border=\"1\" class=\"dataframe\">\n",
       "  <thead>\n",
       "    <tr style=\"text-align: right;\">\n",
       "      <th></th>\n",
       "      <th>epoch</th>\n",
       "      <th>Train_Loss</th>\n",
       "      <th>Valid_Loss</th>\n",
       "      <th>Valid_jaccard</th>\n",
       "      <th>Valid_dice</th>\n",
       "      <th>model_file</th>\n",
       "    </tr>\n",
       "  </thead>\n",
       "  <tbody>\n",
       "    <tr>\n",
       "      <th>0</th>\n",
       "      <td>1</td>\n",
       "      <td>0.996011</td>\n",
       "      <td>0.994002</td>\n",
       "      <td>0.004683</td>\n",
       "      <td>0.007697</td>\n",
       "      <td>./model_weights/Vanilla_Unet-0.0001-No-1-8.pth</td>\n",
       "    </tr>\n",
       "    <tr>\n",
       "      <th>1</th>\n",
       "      <td>2</td>\n",
       "      <td>0.975208</td>\n",
       "      <td>0.968279</td>\n",
       "      <td>0.363036</td>\n",
       "      <td>0.364962</td>\n",
       "      <td>./model_weights/Vanilla_Unet-0.0001-No-2-8.pth</td>\n",
       "    </tr>\n",
       "    <tr>\n",
       "      <th>2</th>\n",
       "      <td>3</td>\n",
       "      <td>0.972331</td>\n",
       "      <td>0.963195</td>\n",
       "      <td>0.359804</td>\n",
       "      <td>0.363201</td>\n",
       "      <td>./model_weights/Vanilla_Unet-0.0001-No-3-8.pth</td>\n",
       "    </tr>\n",
       "    <tr>\n",
       "      <th>3</th>\n",
       "      <td>4</td>\n",
       "      <td>0.970394</td>\n",
       "      <td>0.961405</td>\n",
       "      <td>0.361379</td>\n",
       "      <td>0.364768</td>\n",
       "      <td>./model_weights/Vanilla_Unet-0.0001-No-4-8.pth</td>\n",
       "    </tr>\n",
       "    <tr>\n",
       "      <th>4</th>\n",
       "      <td>5</td>\n",
       "      <td>0.969206</td>\n",
       "      <td>0.960275</td>\n",
       "      <td>0.362906</td>\n",
       "      <td>0.366241</td>\n",
       "      <td>./model_weights/Vanilla_Unet-0.0001-No-5-8.pth</td>\n",
       "    </tr>\n",
       "    <tr>\n",
       "      <th>5</th>\n",
       "      <td>6</td>\n",
       "      <td>0.969440</td>\n",
       "      <td>0.960827</td>\n",
       "      <td>0.363707</td>\n",
       "      <td>0.366283</td>\n",
       "      <td>./model_weights/Vanilla_Unet-0.0001-No-6-8.pth</td>\n",
       "    </tr>\n",
       "    <tr>\n",
       "      <th>6</th>\n",
       "      <td>7</td>\n",
       "      <td>0.968997</td>\n",
       "      <td>0.959159</td>\n",
       "      <td>0.359801</td>\n",
       "      <td>0.363193</td>\n",
       "      <td>./model_weights/Vanilla_Unet-0.0001-No-7-8.pth</td>\n",
       "    </tr>\n",
       "    <tr>\n",
       "      <th>7</th>\n",
       "      <td>8</td>\n",
       "      <td>0.968999</td>\n",
       "      <td>0.961174</td>\n",
       "      <td>0.359422</td>\n",
       "      <td>0.362448</td>\n",
       "      <td>./model_weights/Vanilla_Unet-0.0001-No-8-8.pth</td>\n",
       "    </tr>\n",
       "    <tr>\n",
       "      <th>8</th>\n",
       "      <td>9</td>\n",
       "      <td>0.969424</td>\n",
       "      <td>0.958174</td>\n",
       "      <td>0.363029</td>\n",
       "      <td>0.366481</td>\n",
       "      <td>./model_weights/Vanilla_Unet-0.0001-No-9-8.pth</td>\n",
       "    </tr>\n",
       "    <tr>\n",
       "      <th>9</th>\n",
       "      <td>10</td>\n",
       "      <td>0.968663</td>\n",
       "      <td>0.958176</td>\n",
       "      <td>0.363031</td>\n",
       "      <td>0.366484</td>\n",
       "      <td>./model_weights/Vanilla_Unet-0.0001-No-10-8.pth</td>\n",
       "    </tr>\n",
       "    <tr>\n",
       "      <th>10</th>\n",
       "      <td>11</td>\n",
       "      <td>0.968696</td>\n",
       "      <td>0.958630</td>\n",
       "      <td>0.364467</td>\n",
       "      <td>0.367780</td>\n",
       "      <td>./model_weights/Vanilla_Unet-0.0001-No-11-8.pth</td>\n",
       "    </tr>\n",
       "    <tr>\n",
       "      <th>11</th>\n",
       "      <td>12</td>\n",
       "      <td>0.968900</td>\n",
       "      <td>0.970737</td>\n",
       "      <td>0.362781</td>\n",
       "      <td>0.365994</td>\n",
       "      <td>./model_weights/Vanilla_Unet-0.0001-No-12-8.pth</td>\n",
       "    </tr>\n",
       "    <tr>\n",
       "      <th>12</th>\n",
       "      <td>13</td>\n",
       "      <td>0.968913</td>\n",
       "      <td>0.961852</td>\n",
       "      <td>0.363627</td>\n",
       "      <td>0.366129</td>\n",
       "      <td>./model_weights/Vanilla_Unet-0.0001-No-13-8.pth</td>\n",
       "    </tr>\n",
       "    <tr>\n",
       "      <th>13</th>\n",
       "      <td>14</td>\n",
       "      <td>0.969009</td>\n",
       "      <td>0.959628</td>\n",
       "      <td>0.362827</td>\n",
       "      <td>0.366088</td>\n",
       "      <td>./model_weights/Vanilla_Unet-0.0001-No-14-8.pth</td>\n",
       "    </tr>\n",
       "    <tr>\n",
       "      <th>14</th>\n",
       "      <td>15</td>\n",
       "      <td>0.969719</td>\n",
       "      <td>0.958662</td>\n",
       "      <td>0.364463</td>\n",
       "      <td>0.367773</td>\n",
       "      <td>./model_weights/Vanilla_Unet-0.0001-No-15-8.pth</td>\n",
       "    </tr>\n",
       "    <tr>\n",
       "      <th>15</th>\n",
       "      <td>16</td>\n",
       "      <td>0.968619</td>\n",
       "      <td>0.958687</td>\n",
       "      <td>0.364419</td>\n",
       "      <td>0.367687</td>\n",
       "      <td>./model_weights/Vanilla_Unet-0.0001-No-16-8.pth</td>\n",
       "    </tr>\n",
       "    <tr>\n",
       "      <th>16</th>\n",
       "      <td>17</td>\n",
       "      <td>0.968526</td>\n",
       "      <td>0.958641</td>\n",
       "      <td>0.364387</td>\n",
       "      <td>0.367624</td>\n",
       "      <td>./model_weights/Vanilla_Unet-0.0001-No-17-8.pth</td>\n",
       "    </tr>\n",
       "    <tr>\n",
       "      <th>17</th>\n",
       "      <td>18</td>\n",
       "      <td>0.969312</td>\n",
       "      <td>0.970491</td>\n",
       "      <td>0.348731</td>\n",
       "      <td>0.352129</td>\n",
       "      <td>./model_weights/Vanilla_Unet-0.0001-No-18-8.pth</td>\n",
       "    </tr>\n",
       "    <tr>\n",
       "      <th>18</th>\n",
       "      <td>19</td>\n",
       "      <td>0.970248</td>\n",
       "      <td>0.971202</td>\n",
       "      <td>0.331555</td>\n",
       "      <td>0.335193</td>\n",
       "      <td>./model_weights/Vanilla_Unet-0.0001-No-19-8.pth</td>\n",
       "    </tr>\n",
       "    <tr>\n",
       "      <th>19</th>\n",
       "      <td>20</td>\n",
       "      <td>0.968647</td>\n",
       "      <td>0.958905</td>\n",
       "      <td>0.361351</td>\n",
       "      <td>0.364713</td>\n",
       "      <td>./model_weights/Vanilla_Unet-0.0001-No-20-8.pth</td>\n",
       "    </tr>\n",
       "    <tr>\n",
       "      <th>20</th>\n",
       "      <td>21</td>\n",
       "      <td>0.968377</td>\n",
       "      <td>0.959474</td>\n",
       "      <td>0.364145</td>\n",
       "      <td>0.367146</td>\n",
       "      <td>./model_weights/Vanilla_Unet-0.0001-No-21-8.pth</td>\n",
       "    </tr>\n",
       "    <tr>\n",
       "      <th>21</th>\n",
       "      <td>22</td>\n",
       "      <td>0.968326</td>\n",
       "      <td>0.958581</td>\n",
       "      <td>0.364346</td>\n",
       "      <td>0.367542</td>\n",
       "      <td>./model_weights/Vanilla_Unet-0.0001-No-22-8.pth</td>\n",
       "    </tr>\n",
       "    <tr>\n",
       "      <th>22</th>\n",
       "      <td>23</td>\n",
       "      <td>0.968219</td>\n",
       "      <td>0.958760</td>\n",
       "      <td>0.361125</td>\n",
       "      <td>0.364267</td>\n",
       "      <td>./model_weights/Vanilla_Unet-0.0001-No-23-8.pth</td>\n",
       "    </tr>\n",
       "    <tr>\n",
       "      <th>23</th>\n",
       "      <td>24</td>\n",
       "      <td>0.968125</td>\n",
       "      <td>0.959215</td>\n",
       "      <td>0.364105</td>\n",
       "      <td>0.367067</td>\n",
       "      <td>./model_weights/Vanilla_Unet-0.0001-No-24-8.pth</td>\n",
       "    </tr>\n",
       "    <tr>\n",
       "      <th>24</th>\n",
       "      <td>25</td>\n",
       "      <td>0.968414</td>\n",
       "      <td>0.959169</td>\n",
       "      <td>0.364153</td>\n",
       "      <td>0.367161</td>\n",
       "      <td>./model_weights/Vanilla_Unet-0.0001-No-25-8.pth</td>\n",
       "    </tr>\n",
       "    <tr>\n",
       "      <th>25</th>\n",
       "      <td>26</td>\n",
       "      <td>0.968199</td>\n",
       "      <td>0.959556</td>\n",
       "      <td>0.363982</td>\n",
       "      <td>0.366824</td>\n",
       "      <td>./model_weights/Vanilla_Unet-0.0001-No-26-8.pth</td>\n",
       "    </tr>\n",
       "    <tr>\n",
       "      <th>26</th>\n",
       "      <td>27</td>\n",
       "      <td>0.968138</td>\n",
       "      <td>0.959197</td>\n",
       "      <td>0.362540</td>\n",
       "      <td>0.365528</td>\n",
       "      <td>./model_weights/Vanilla_Unet-0.0001-No-27-8.pth</td>\n",
       "    </tr>\n",
       "    <tr>\n",
       "      <th>27</th>\n",
       "      <td>28</td>\n",
       "      <td>0.968439</td>\n",
       "      <td>0.958604</td>\n",
       "      <td>0.361028</td>\n",
       "      <td>0.364085</td>\n",
       "      <td>./model_weights/Vanilla_Unet-0.0001-No-28-8.pth</td>\n",
       "    </tr>\n",
       "    <tr>\n",
       "      <th>28</th>\n",
       "      <td>29</td>\n",
       "      <td>0.968207</td>\n",
       "      <td>0.960897</td>\n",
       "      <td>0.363652</td>\n",
       "      <td>0.366175</td>\n",
       "      <td>./model_weights/Vanilla_Unet-0.0001-No-29-8.pth</td>\n",
       "    </tr>\n",
       "    <tr>\n",
       "      <th>29</th>\n",
       "      <td>30</td>\n",
       "      <td>0.968326</td>\n",
       "      <td>0.958844</td>\n",
       "      <td>0.364101</td>\n",
       "      <td>0.367058</td>\n",
       "      <td>./model_weights/Vanilla_Unet-0.0001-No-30-8.pth</td>\n",
       "    </tr>\n",
       "    <tr>\n",
       "      <th>30</th>\n",
       "      <td>31</td>\n",
       "      <td>0.968205</td>\n",
       "      <td>0.958627</td>\n",
       "      <td>0.364124</td>\n",
       "      <td>0.367104</td>\n",
       "      <td>./model_weights/Vanilla_Unet-0.0001-No-31-8.pth</td>\n",
       "    </tr>\n",
       "    <tr>\n",
       "      <th>31</th>\n",
       "      <td>32</td>\n",
       "      <td>0.967982</td>\n",
       "      <td>0.958169</td>\n",
       "      <td>0.364205</td>\n",
       "      <td>0.367274</td>\n",
       "      <td>./model_weights/Vanilla_Unet-0.0001-No-32-8.pth</td>\n",
       "    </tr>\n",
       "    <tr>\n",
       "      <th>32</th>\n",
       "      <td>33</td>\n",
       "      <td>0.968113</td>\n",
       "      <td>0.960573</td>\n",
       "      <td>0.363660</td>\n",
       "      <td>0.366191</td>\n",
       "      <td>./model_weights/Vanilla_Unet-0.0001-No-33-8.pth</td>\n",
       "    </tr>\n",
       "    <tr>\n",
       "      <th>33</th>\n",
       "      <td>34</td>\n",
       "      <td>0.968006</td>\n",
       "      <td>0.959853</td>\n",
       "      <td>0.363950</td>\n",
       "      <td>0.366763</td>\n",
       "      <td>./model_weights/Vanilla_Unet-0.0001-No-34-8.pth</td>\n",
       "    </tr>\n",
       "    <tr>\n",
       "      <th>34</th>\n",
       "      <td>35</td>\n",
       "      <td>0.968208</td>\n",
       "      <td>0.971649</td>\n",
       "      <td>0.361077</td>\n",
       "      <td>0.364182</td>\n",
       "      <td>./model_weights/Vanilla_Unet-0.0001-No-35-8.pth</td>\n",
       "    </tr>\n",
       "    <tr>\n",
       "      <th>35</th>\n",
       "      <td>36</td>\n",
       "      <td>0.970530</td>\n",
       "      <td>0.978928</td>\n",
       "      <td>0.138212</td>\n",
       "      <td>0.141727</td>\n",
       "      <td>./model_weights/Vanilla_Unet-0.0001-No-36-8.pth</td>\n",
       "    </tr>\n",
       "    <tr>\n",
       "      <th>36</th>\n",
       "      <td>37</td>\n",
       "      <td>0.968872</td>\n",
       "      <td>0.958747</td>\n",
       "      <td>0.364161</td>\n",
       "      <td>0.367179</td>\n",
       "      <td>./model_weights/Vanilla_Unet-0.0001-No-37-8.pth</td>\n",
       "    </tr>\n",
       "    <tr>\n",
       "      <th>37</th>\n",
       "      <td>38</td>\n",
       "      <td>0.968136</td>\n",
       "      <td>0.958199</td>\n",
       "      <td>0.361172</td>\n",
       "      <td>0.364369</td>\n",
       "      <td>./model_weights/Vanilla_Unet-0.0001-No-38-8.pth</td>\n",
       "    </tr>\n",
       "    <tr>\n",
       "      <th>38</th>\n",
       "      <td>39</td>\n",
       "      <td>0.967982</td>\n",
       "      <td>0.958118</td>\n",
       "      <td>0.362586</td>\n",
       "      <td>0.365609</td>\n",
       "      <td>./model_weights/Vanilla_Unet-0.0001-No-39-8.pth</td>\n",
       "    </tr>\n",
       "    <tr>\n",
       "      <th>39</th>\n",
       "      <td>40</td>\n",
       "      <td>0.968197</td>\n",
       "      <td>0.958659</td>\n",
       "      <td>0.362674</td>\n",
       "      <td>0.365783</td>\n",
       "      <td>./model_weights/Vanilla_Unet-0.0001-No-40-8.pth</td>\n",
       "    </tr>\n",
       "    <tr>\n",
       "      <th>40</th>\n",
       "      <td>41</td>\n",
       "      <td>0.968023</td>\n",
       "      <td>0.958890</td>\n",
       "      <td>0.361098</td>\n",
       "      <td>0.364213</td>\n",
       "      <td>./model_weights/Vanilla_Unet-0.0001-No-41-8.pth</td>\n",
       "    </tr>\n",
       "    <tr>\n",
       "      <th>41</th>\n",
       "      <td>42</td>\n",
       "      <td>0.967907</td>\n",
       "      <td>0.958587</td>\n",
       "      <td>0.362625</td>\n",
       "      <td>0.365687</td>\n",
       "      <td>./model_weights/Vanilla_Unet-0.0001-No-42-8.pth</td>\n",
       "    </tr>\n",
       "    <tr>\n",
       "      <th>42</th>\n",
       "      <td>43</td>\n",
       "      <td>0.967867</td>\n",
       "      <td>0.958935</td>\n",
       "      <td>0.362576</td>\n",
       "      <td>0.365589</td>\n",
       "      <td>./model_weights/Vanilla_Unet-0.0001-No-43-8.pth</td>\n",
       "    </tr>\n",
       "    <tr>\n",
       "      <th>43</th>\n",
       "      <td>44</td>\n",
       "      <td>0.967847</td>\n",
       "      <td>0.960126</td>\n",
       "      <td>0.362346</td>\n",
       "      <td>0.365146</td>\n",
       "      <td>./model_weights/Vanilla_Unet-0.0001-No-44-8.pth</td>\n",
       "    </tr>\n",
       "    <tr>\n",
       "      <th>44</th>\n",
       "      <td>45</td>\n",
       "      <td>0.967970</td>\n",
       "      <td>0.958199</td>\n",
       "      <td>0.362756</td>\n",
       "      <td>0.365945</td>\n",
       "      <td>./model_weights/Vanilla_Unet-0.0001-No-45-8.pth</td>\n",
       "    </tr>\n",
       "    <tr>\n",
       "      <th>45</th>\n",
       "      <td>46</td>\n",
       "      <td>0.969039</td>\n",
       "      <td>0.958072</td>\n",
       "      <td>0.363029</td>\n",
       "      <td>0.366485</td>\n",
       "      <td>./model_weights/Vanilla_Unet-0.0001-No-46-8.pth</td>\n",
       "    </tr>\n",
       "    <tr>\n",
       "      <th>46</th>\n",
       "      <td>47</td>\n",
       "      <td>0.968093</td>\n",
       "      <td>0.959046</td>\n",
       "      <td>0.360912</td>\n",
       "      <td>0.363856</td>\n",
       "      <td>./model_weights/Vanilla_Unet-0.0001-No-47-8.pth</td>\n",
       "    </tr>\n",
       "    <tr>\n",
       "      <th>47</th>\n",
       "      <td>48</td>\n",
       "      <td>0.968018</td>\n",
       "      <td>0.958648</td>\n",
       "      <td>0.357896</td>\n",
       "      <td>0.360986</td>\n",
       "      <td>./model_weights/Vanilla_Unet-0.0001-No-48-8.pth</td>\n",
       "    </tr>\n",
       "    <tr>\n",
       "      <th>48</th>\n",
       "      <td>49</td>\n",
       "      <td>0.967855</td>\n",
       "      <td>0.958692</td>\n",
       "      <td>0.364143</td>\n",
       "      <td>0.367142</td>\n",
       "      <td>./model_weights/Vanilla_Unet-0.0001-No-49-8.pth</td>\n",
       "    </tr>\n",
       "    <tr>\n",
       "      <th>49</th>\n",
       "      <td>50</td>\n",
       "      <td>0.967843</td>\n",
       "      <td>0.958916</td>\n",
       "      <td>0.361018</td>\n",
       "      <td>0.364066</td>\n",
       "      <td>./model_weights/Vanilla_Unet-0.0001-No-50-8.pth</td>\n",
       "    </tr>\n",
       "  </tbody>\n",
       "</table>\n",
       "</div>"
      ],
      "text/plain": [
       "    epoch  Train_Loss  Valid_Loss  Valid_jaccard  Valid_dice  \\\n",
       "0       1    0.996011    0.994002       0.004683    0.007697   \n",
       "1       2    0.975208    0.968279       0.363036    0.364962   \n",
       "2       3    0.972331    0.963195       0.359804    0.363201   \n",
       "3       4    0.970394    0.961405       0.361379    0.364768   \n",
       "4       5    0.969206    0.960275       0.362906    0.366241   \n",
       "5       6    0.969440    0.960827       0.363707    0.366283   \n",
       "6       7    0.968997    0.959159       0.359801    0.363193   \n",
       "7       8    0.968999    0.961174       0.359422    0.362448   \n",
       "8       9    0.969424    0.958174       0.363029    0.366481   \n",
       "9      10    0.968663    0.958176       0.363031    0.366484   \n",
       "10     11    0.968696    0.958630       0.364467    0.367780   \n",
       "11     12    0.968900    0.970737       0.362781    0.365994   \n",
       "12     13    0.968913    0.961852       0.363627    0.366129   \n",
       "13     14    0.969009    0.959628       0.362827    0.366088   \n",
       "14     15    0.969719    0.958662       0.364463    0.367773   \n",
       "15     16    0.968619    0.958687       0.364419    0.367687   \n",
       "16     17    0.968526    0.958641       0.364387    0.367624   \n",
       "17     18    0.969312    0.970491       0.348731    0.352129   \n",
       "18     19    0.970248    0.971202       0.331555    0.335193   \n",
       "19     20    0.968647    0.958905       0.361351    0.364713   \n",
       "20     21    0.968377    0.959474       0.364145    0.367146   \n",
       "21     22    0.968326    0.958581       0.364346    0.367542   \n",
       "22     23    0.968219    0.958760       0.361125    0.364267   \n",
       "23     24    0.968125    0.959215       0.364105    0.367067   \n",
       "24     25    0.968414    0.959169       0.364153    0.367161   \n",
       "25     26    0.968199    0.959556       0.363982    0.366824   \n",
       "26     27    0.968138    0.959197       0.362540    0.365528   \n",
       "27     28    0.968439    0.958604       0.361028    0.364085   \n",
       "28     29    0.968207    0.960897       0.363652    0.366175   \n",
       "29     30    0.968326    0.958844       0.364101    0.367058   \n",
       "30     31    0.968205    0.958627       0.364124    0.367104   \n",
       "31     32    0.967982    0.958169       0.364205    0.367274   \n",
       "32     33    0.968113    0.960573       0.363660    0.366191   \n",
       "33     34    0.968006    0.959853       0.363950    0.366763   \n",
       "34     35    0.968208    0.971649       0.361077    0.364182   \n",
       "35     36    0.970530    0.978928       0.138212    0.141727   \n",
       "36     37    0.968872    0.958747       0.364161    0.367179   \n",
       "37     38    0.968136    0.958199       0.361172    0.364369   \n",
       "38     39    0.967982    0.958118       0.362586    0.365609   \n",
       "39     40    0.968197    0.958659       0.362674    0.365783   \n",
       "40     41    0.968023    0.958890       0.361098    0.364213   \n",
       "41     42    0.967907    0.958587       0.362625    0.365687   \n",
       "42     43    0.967867    0.958935       0.362576    0.365589   \n",
       "43     44    0.967847    0.960126       0.362346    0.365146   \n",
       "44     45    0.967970    0.958199       0.362756    0.365945   \n",
       "45     46    0.969039    0.958072       0.363029    0.366485   \n",
       "46     47    0.968093    0.959046       0.360912    0.363856   \n",
       "47     48    0.968018    0.958648       0.357896    0.360986   \n",
       "48     49    0.967855    0.958692       0.364143    0.367142   \n",
       "49     50    0.967843    0.958916       0.361018    0.364066   \n",
       "\n",
       "                                         model_file  \n",
       "0    ./model_weights/Vanilla_Unet-0.0001-No-1-8.pth  \n",
       "1    ./model_weights/Vanilla_Unet-0.0001-No-2-8.pth  \n",
       "2    ./model_weights/Vanilla_Unet-0.0001-No-3-8.pth  \n",
       "3    ./model_weights/Vanilla_Unet-0.0001-No-4-8.pth  \n",
       "4    ./model_weights/Vanilla_Unet-0.0001-No-5-8.pth  \n",
       "5    ./model_weights/Vanilla_Unet-0.0001-No-6-8.pth  \n",
       "6    ./model_weights/Vanilla_Unet-0.0001-No-7-8.pth  \n",
       "7    ./model_weights/Vanilla_Unet-0.0001-No-8-8.pth  \n",
       "8    ./model_weights/Vanilla_Unet-0.0001-No-9-8.pth  \n",
       "9   ./model_weights/Vanilla_Unet-0.0001-No-10-8.pth  \n",
       "10  ./model_weights/Vanilla_Unet-0.0001-No-11-8.pth  \n",
       "11  ./model_weights/Vanilla_Unet-0.0001-No-12-8.pth  \n",
       "12  ./model_weights/Vanilla_Unet-0.0001-No-13-8.pth  \n",
       "13  ./model_weights/Vanilla_Unet-0.0001-No-14-8.pth  \n",
       "14  ./model_weights/Vanilla_Unet-0.0001-No-15-8.pth  \n",
       "15  ./model_weights/Vanilla_Unet-0.0001-No-16-8.pth  \n",
       "16  ./model_weights/Vanilla_Unet-0.0001-No-17-8.pth  \n",
       "17  ./model_weights/Vanilla_Unet-0.0001-No-18-8.pth  \n",
       "18  ./model_weights/Vanilla_Unet-0.0001-No-19-8.pth  \n",
       "19  ./model_weights/Vanilla_Unet-0.0001-No-20-8.pth  \n",
       "20  ./model_weights/Vanilla_Unet-0.0001-No-21-8.pth  \n",
       "21  ./model_weights/Vanilla_Unet-0.0001-No-22-8.pth  \n",
       "22  ./model_weights/Vanilla_Unet-0.0001-No-23-8.pth  \n",
       "23  ./model_weights/Vanilla_Unet-0.0001-No-24-8.pth  \n",
       "24  ./model_weights/Vanilla_Unet-0.0001-No-25-8.pth  \n",
       "25  ./model_weights/Vanilla_Unet-0.0001-No-26-8.pth  \n",
       "26  ./model_weights/Vanilla_Unet-0.0001-No-27-8.pth  \n",
       "27  ./model_weights/Vanilla_Unet-0.0001-No-28-8.pth  \n",
       "28  ./model_weights/Vanilla_Unet-0.0001-No-29-8.pth  \n",
       "29  ./model_weights/Vanilla_Unet-0.0001-No-30-8.pth  \n",
       "30  ./model_weights/Vanilla_Unet-0.0001-No-31-8.pth  \n",
       "31  ./model_weights/Vanilla_Unet-0.0001-No-32-8.pth  \n",
       "32  ./model_weights/Vanilla_Unet-0.0001-No-33-8.pth  \n",
       "33  ./model_weights/Vanilla_Unet-0.0001-No-34-8.pth  \n",
       "34  ./model_weights/Vanilla_Unet-0.0001-No-35-8.pth  \n",
       "35  ./model_weights/Vanilla_Unet-0.0001-No-36-8.pth  \n",
       "36  ./model_weights/Vanilla_Unet-0.0001-No-37-8.pth  \n",
       "37  ./model_weights/Vanilla_Unet-0.0001-No-38-8.pth  \n",
       "38  ./model_weights/Vanilla_Unet-0.0001-No-39-8.pth  \n",
       "39  ./model_weights/Vanilla_Unet-0.0001-No-40-8.pth  \n",
       "40  ./model_weights/Vanilla_Unet-0.0001-No-41-8.pth  \n",
       "41  ./model_weights/Vanilla_Unet-0.0001-No-42-8.pth  \n",
       "42  ./model_weights/Vanilla_Unet-0.0001-No-43-8.pth  \n",
       "43  ./model_weights/Vanilla_Unet-0.0001-No-44-8.pth  \n",
       "44  ./model_weights/Vanilla_Unet-0.0001-No-45-8.pth  \n",
       "45  ./model_weights/Vanilla_Unet-0.0001-No-46-8.pth  \n",
       "46  ./model_weights/Vanilla_Unet-0.0001-No-47-8.pth  \n",
       "47  ./model_weights/Vanilla_Unet-0.0001-No-48-8.pth  \n",
       "48  ./model_weights/Vanilla_Unet-0.0001-No-49-8.pth  \n",
       "49  ./model_weights/Vanilla_Unet-0.0001-No-50-8.pth  "
      ]
     },
     "metadata": {},
     "output_type": "display_data"
    },
    {
     "data": {
      "image/png": "[encoded data removed]",
      "text/plain": [
       "<Figure size 1080x576 with 4 Axes>"
      ]
     },
     "metadata": {
      "needs_background": "light"
     },
     "output_type": "display_data"
    }
   ],
   "source": [
    "history = defaultdict(list)\n",
    "best_val_dice = -float('inf')\n",
    "best_val_jaccard = -float('inf')\n",
    "start = time.time()\n",
    "\n",
    "scheduler = get_scheduler(optimizer)\n",
    "\n",
    "for epoch in range(CONFIG[\"NUM_EPOCHS\"]):\n",
    "    \n",
    "    print(f'{sr_}===================== Epoch: [{epoch+1}/{CONFIG[\"NUM_EPOCHS\"]}] =====================')\n",
    "\n",
    "    # train and validation loop\n",
    "    train_loss = train_fn(train_loader, model, optimizer, loss_fn, epoch+1, scheduler)\n",
    "    val_loss, val_scores = valid_one_epoch(model, test_loader,CONFIG[\"DEVICE\"], epoch+1)\n",
    "    val_dice, val_jaccard = val_scores\n",
    "    \n",
    "    \n",
    "    # save model\n",
    "    model_file = save_model(model, optimizer, loss_fn, epoch+1)\n",
    "    \n",
    "    \n",
    "    # weight and baise Log the metrics\n",
    "    wandb.log({\"Train Loss\": train_loss})\n",
    "    wandb.log({\"Valid Loss\": val_loss})\n",
    "    wandb.log({\"Valid dice\": val_dice})\n",
    "    wandb.log({\"Valid jaccard\": val_jaccard})\n",
    "\n",
    "    # logging\n",
    "    history[\"epoch\"].append(epoch+1)\n",
    "    history['Train_Loss'].append(train_loss)\n",
    "    history['Valid_Loss'].append(val_loss)\n",
    "    history['Valid_jaccard'].append(val_jaccard)\n",
    "    history['Valid_dice'].append(val_dice)\n",
    "    history[\"model_file\"].append(model_file)\n",
    "\n",
    "    \n",
    "    # print loss and scores\n",
    "    print(f\"\\n Final Train Loss: {train_loss:0.4f}  |  Final Val Loss: {val_loss:0.4f}\") \n",
    "    \n",
    "    print(f'Valid Dice: {val_dice:0.4f} | Valid Jaccard: {val_jaccard:0.4f}')\n",
    "    \n",
    "    \n",
    "    # print best val score\n",
    "    if best_val_dice < val_dice:\n",
    "        print(f\"{b_}val dice increased: {best_val_dice} ---> {val_dice}\")\n",
    "        best_val_dice = val_dice\n",
    "    \n",
    "    if best_val_jaccard < val_jaccard:\n",
    "        print(f\"{b_}val jaccard increased: {best_val_jaccard} ---> {val_jaccard}\")\n",
    "        best_val_jaccard = val_jaccard\n",
    "\n",
    "        \n",
    "        \n",
    "# print time\n",
    "end = time.time()\n",
    "time_elapsed = end - start\n",
    "avg_time_per_epoch = time_elapsed/CONFIG[\"NUM_EPOCHS\"] \n",
    "summary_df = pd.DataFrame.from_dict(history)\n",
    "\n",
    "print(f'\\n ====================== [Training Summary] ====================== \\n')\n",
    "print('Training complete in {:.0f}h {:.0f}m {:.0f}s'.format(\n",
    "    time_elapsed // 3600, (time_elapsed % 3600) // 60, (time_elapsed % 3600) % 60))\n",
    "\n",
    "print('avg time per [train + val] epoch {:.0f}h {:.0f}m {:.0f}s'.format(\n",
    "    avg_time_per_epoch // 3600, (avg_time_per_epoch % 3600) // 60, (avg_time_per_epoch % 3600) % 60))\n",
    "\n",
    "print(\"Best: ~~~~~~ dice: {:.4f}  || jaccard {:.4f} || val_loss {:.4f} || train_loss {:.4f} ~~~~~~\".format(\n",
    "    best_val_dice, best_val_jaccard, min(history['Valid_Loss']), min(history['Train_Loss'])))\n",
    "\n",
    "\n",
    "summary_df.to_csv('training_summary.csv')\n",
    "print(\"Saved training summary...\")\n",
    "\n",
    "print(f'\\n =============================================================== \\n')\n",
    "\n",
    "display(summary_df)\n",
    "\n",
    "# plotting training and validation loss\n",
    "plt.figure(figsize=(15,8))\n",
    "\n",
    "fig1 = plt.subplot(2,2,1)\n",
    "fig1.plot(history['epoch'], history['Train_Loss'], color='lime', marker='>')\n",
    "fig1.set_title(\"train loss [dice]\")\n",
    "fig1.set(xlabel='epoch', ylabel='train loss')\n",
    "\n",
    "fig2 = plt.subplot(2,2,2)\n",
    "fig2.plot(history['epoch'], history['Valid_Loss'], color='cyan',  marker='>')\n",
    "fig2.set_title(\"val loss [dice]\")\n",
    "fig2.set(xlabel='epoch', ylabel='val loss')\n",
    "\n",
    "fig3 = plt.subplot(2,2,3)\n",
    "fig3.plot(history['epoch'], history['Valid_dice'], color='orange',  marker='>')\n",
    "fig3.set_title(\"Val Dice\")\n",
    "fig3.set(xlabel='epoch', ylabel='val dice')\n",
    "\n",
    "fig4 = plt.subplot(2,2,4)\n",
    "fig4.plot(history['epoch'], history['Valid_jaccard'], color='lightcoral',  marker='>')\n",
    "fig4.set_title(\"val jaccard\")\n",
    "fig4.set(xlabel='epoch', ylabel='val jaccard')\n",
    "\n",
    "plt.show();"
   ]
  },
  {
   "cell_type": "markdown",
   "id": "f2711e16",
   "metadata": {
    "papermill": {
     "duration": 2.507556,
     "end_time": "2022-07-31T08:51:11.055349",
     "exception": false,
     "start_time": "2022-07-31T08:51:08.547793",
     "status": "completed"
    },
    "tags": []
   },
   "source": [
    "# Inference:"
   ]
  },
  {
   "cell_type": "code",
   "execution_count": 24,
   "id": "feff2d52",
   "metadata": {
    "execution": {
     "iopub.execute_input": "2022-07-31T08:51:16.330981Z",
     "iopub.status.busy": "2022-07-31T08:51:16.330374Z",
     "iopub.status.idle": "2022-07-31T08:51:16.337666Z",
     "shell.execute_reply": "2022-07-31T08:51:16.336515Z"
    },
    "papermill": {
     "duration": 2.781294,
     "end_time": "2022-07-31T08:51:16.340772",
     "exception": false,
     "start_time": "2022-07-31T08:51:13.559478",
     "status": "completed"
    },
    "tags": []
   },
   "outputs": [],
   "source": [
    "# import numpy as np\n",
    "# from PIL import Image\n",
    "\n",
    "# def tile_image(p_img, folder, size: int = 768) -> list:\n",
    "#     w = h = size\n",
    "#     im = np.array(Image.open(p_img))\n",
    "#     # https://stackoverflow.com/a/47581978/4521646\n",
    "#     tiles = [im[i:(i + h), j:(j + w), ...] for i in range(0, im.shape[0], h) for j in range(0, im.shape[1], w)]\n",
    "#     idxs = [(i, (i + h), j, (j + w)) for i in range(0, im.shape[0], h) for j in range(0, im.shape[1], w)]\n",
    "#     name, _ = os.path.splitext(os.path.basename(p_img))\n",
    "#     files = []\n",
    "#     for k, tile in enumerate(tiles):\n",
    "#         if tile.shape[:2] != (h, w):\n",
    "#             tile_ = tile\n",
    "#             tile = np.zeros_like(tiles[0])\n",
    "#             tile[:tile_.shape[0], :tile_.shape[1], ...] = tile_\n",
    "#         p_img = os.path.join(folder, f\"{name}_{k:02}.png\")\n",
    "#         Image.fromarray(tile).save(p_img)\n",
    "#         files.append(p_img)\n",
    "#     return files, idxs\n"
   ]
  },
  {
   "cell_type": "code",
   "execution_count": 25,
   "id": "1b4c0fbb",
   "metadata": {
    "execution": {
     "iopub.execute_input": "2022-07-31T08:51:21.373507Z",
     "iopub.status.busy": "2022-07-31T08:51:21.372973Z",
     "iopub.status.idle": "2022-07-31T08:51:21.380287Z",
     "shell.execute_reply": "2022-07-31T08:51:21.379083Z"
    },
    "papermill": {
     "duration": 2.51239,
     "end_time": "2022-07-31T08:51:21.382930",
     "exception": false,
     "start_time": "2022-07-31T08:51:18.870540",
     "status": "completed"
    },
    "tags": []
   },
   "outputs": [],
   "source": [
    "# !mkdir -p /kaggle/temp/images"
   ]
  },
  {
   "cell_type": "code",
   "execution_count": 26,
   "id": "5a49bbff",
   "metadata": {
    "execution": {
     "iopub.execute_input": "2022-07-31T08:51:26.394073Z",
     "iopub.status.busy": "2022-07-31T08:51:26.393347Z",
     "iopub.status.idle": "2022-07-31T08:51:26.399344Z",
     "shell.execute_reply": "2022-07-31T08:51:26.398196Z"
    },
    "papermill": {
     "duration": 2.512363,
     "end_time": "2022-07-31T08:51:26.402863",
     "exception": false,
     "start_time": "2022-07-31T08:51:23.890500",
     "status": "completed"
    },
    "tags": []
   },
   "outputs": [],
   "source": [
    "# !mkdir -p frozen_packages\n",
    "# !cp ../input/starter-flash-semantic-segmentation/frozen_packages/* frozen_packages/\n",
    "# !cp ../input/ftus-segm-eda-viewer/frozen_packages/* frozen_packages/\n",
    "# !pip install -q 'kaggle-image-segmentation' --no-index --find-links frozen_packages/"
   ]
  },
  {
   "cell_type": "code",
   "execution_count": 27,
   "id": "dc490056",
   "metadata": {
    "execution": {
     "iopub.execute_input": "2022-07-31T08:51:31.738786Z",
     "iopub.status.busy": "2022-07-31T08:51:31.738442Z",
     "iopub.status.idle": "2022-07-31T08:51:31.747023Z",
     "shell.execute_reply": "2022-07-31T08:51:31.746151Z"
    },
    "papermill": {
     "duration": 2.541294,
     "end_time": "2022-07-31T08:51:31.750468",
     "exception": false,
     "start_time": "2022-07-31T08:51:29.209174",
     "status": "completed"
    },
    "tags": []
   },
   "outputs": [],
   "source": [
    "# from scipy.ndimage import binary_opening\n",
    "# from skimage.morphology import disk\n",
    "# from kaggle_imsegm.mask import rle_encode\n",
    "\n",
    "\n",
    "# DATASET_FOLDER = \"/kaggle/input/hubmap-organ-segmentation\"\n",
    "# df_test = pd.read_csv(\"../input/hubmap-organ-segmentation/test.csv\")\n",
    "# TILE_SIZE = 1024\n",
    "\n",
    "# preds = []\n",
    "# for _, row in df_test.iterrows():\n",
    "# #     print(row[\"pixel_size\"])\n",
    "#     scale = row[\"pixel_size\"] / 0.4\n",
    "#     test_img = os.path.join(DATASET_FOLDER, \"test_images\", f\"{row['id']}.tiff\")\n",
    "#     im = plt.imread(test_img)\n",
    "    \n",
    "#     # perform scaling on level tiles as the input is scaled to the CNN input size anyway\n",
    "    \n",
    "#     tiles_img, idxs = tile_image(test_img, \"/kaggle/temp/images\", size=int(TILE_SIZE / scale))\n",
    "# #     print(idxs)\n",
    "#     pred_list = []\n",
    "#     for img_file in tiles_img:\n",
    "#         img_org = plt.imread(img_file)\n",
    "        \n",
    "#         transformed = test_transform(image=img_org)\n",
    "#         img = transformed[\"image\"]\n",
    "#         img = img.reshape((1, *img.shape))\n",
    "#         img = img.to(CONFIG[\"DEVICE\"])\n",
    "        \n",
    "#         output = model(img)\n",
    "#         output = nn.Sigmoid()(output)\n",
    "#         msks = (output>0.5).to(torch.uint8).cpu().detach().numpy()\n",
    "        \n",
    "#         msks = msks.reshape((msks.shape[2], msks.shape[3]))\n",
    "#         msks = cv2.resize(msks, (img_org.shape[0:2]), interpolation = cv2.INTER_AREA) #cv2.resize(msks,(*img_org.shape))\n",
    "# #         print(\"msks--->\", msks.shape)\n",
    "        \n",
    "#         pred_list.append(msks)\n",
    "    \n",
    "    \n",
    "#     seg = np.zeros(im.shape[:2], dtype=np.uint8)\n",
    "#     for tile, (i1, i2, j1, j2) in zip(pred_list, idxs):\n",
    "#         i2 = min(i2, im.shape[0])\n",
    "#         j2 = min(j2, im.shape[1])\n",
    "# #         print('tile',np.array(tile, dtype=np.uint8)[:(i2 - i1), :(j2 - j1)].shape)\n",
    "# #         print(seg[i1:i2, j1:j2].shape)\n",
    "#         seg[i1:i2, j1:j2] = np.array(tile, dtype=np.uint8)[:(i2 - i1), :(j2 - j1)]\n",
    "#     # seg = resize(seg * 255, img.shape[:2], order=0) / 255\n",
    "#     seg = (seg >= 1).astype(np.uint8)  # binary mask\n",
    "#     seg = binary_opening(seg, structure=disk(6)).astype(np.uint8)\n",
    "    \n",
    "    \n",
    "#     rle = rle_encode(seg.T) if np.sum(seg) > 1 else {}\n",
    "#     name, _ = os.path.splitext(os.path.basename(test_img))\n",
    "#     preds.append({\"id\": row['id'], \"rle\": rle.get(1, \"\")})\n",
    "    \n",
    "# df_pred = pd.DataFrame(preds)\n",
    "# display(df_pred[df_pred[\"rle\"] != \"\"].head())"
   ]
  },
  {
   "cell_type": "code",
   "execution_count": 28,
   "id": "42c24864",
   "metadata": {
    "execution": {
     "iopub.execute_input": "2022-07-31T08:51:36.813622Z",
     "iopub.status.busy": "2022-07-31T08:51:36.813084Z",
     "iopub.status.idle": "2022-07-31T08:51:36.819901Z",
     "shell.execute_reply": "2022-07-31T08:51:36.818931Z"
    },
    "papermill": {
     "duration": 2.545717,
     "end_time": "2022-07-31T08:51:36.822687",
     "exception": false,
     "start_time": "2022-07-31T08:51:34.276970",
     "status": "completed"
    },
    "tags": []
   },
   "outputs": [],
   "source": [
    "# df_ssub = pd.read_csv(os.path.join(DATASET_FOLDER, \"sample_submission.csv\"))\n",
    "# del df_ssub['rle']\n",
    "# df_pred = df_ssub.merge(df_pred, on='id')\n",
    "\n",
    "# df_pred[['id', 'rle']].to_csv(\"submission.csv\", index=False)\n",
    "\n",
    "# !head submission.csv"
   ]
  },
  {
   "cell_type": "code",
   "execution_count": 29,
   "id": "d067089c",
   "metadata": {
    "execution": {
     "iopub.execute_input": "2022-07-31T08:51:42.814708Z",
     "iopub.status.busy": "2022-07-31T08:51:42.814226Z",
     "iopub.status.idle": "2022-07-31T08:51:42.820559Z",
     "shell.execute_reply": "2022-07-31T08:51:42.819650Z"
    },
    "papermill": {
     "duration": 2.53196,
     "end_time": "2022-07-31T08:51:42.823336",
     "exception": false,
     "start_time": "2022-07-31T08:51:40.291376",
     "status": "completed"
    },
    "tags": []
   },
   "outputs": [],
   "source": [
    "# print(seg.shape)\n",
    "# plt.imshow(seg)"
   ]
  },
  {
   "cell_type": "markdown",
   "id": "1b8824ef",
   "metadata": {
    "papermill": {
     "duration": 2.526452,
     "end_time": "2022-07-31T08:51:47.840582",
     "exception": false,
     "start_time": "2022-07-31T08:51:45.314130",
     "status": "completed"
    },
    "tags": []
   },
   "source": [
    "# Model File Check:"
   ]
  },
  {
   "cell_type": "code",
   "execution_count": 30,
   "id": "8b60e2ea",
   "metadata": {
    "execution": {
     "iopub.execute_input": "2022-07-31T08:51:53.104190Z",
     "iopub.status.busy": "2022-07-31T08:51:53.103655Z",
     "iopub.status.idle": "2022-07-31T08:51:53.937186Z",
     "shell.execute_reply": "2022-07-31T08:51:53.936101Z"
    },
    "papermill": {
     "duration": 3.337266,
     "end_time": "2022-07-31T08:51:53.939748",
     "exception": false,
     "start_time": "2022-07-31T08:51:50.602482",
     "status": "completed"
    },
    "tags": []
   },
   "outputs": [
    {
     "name": "stdout",
     "output_type": "stream",
     "text": [
      "total 11587424\r\n",
      "drwxr-xr-x 2 root root      4096 Jul 31 08:51 .\r\n",
      "drwxr-xr-x 4 root root      4096 Jul 31 08:51 ..\r\n",
      "-rw-r--r-- 1 root root 237306273 Jul 31 06:12 Vanilla_Unet-0.0001-No-1-8.pth\r\n",
      "-rw-r--r-- 1 root root 237306273 Jul 31 06:40 Vanilla_Unet-0.0001-No-10-8.pth\r\n",
      "-rw-r--r-- 1 root root 237306273 Jul 31 06:43 Vanilla_Unet-0.0001-No-11-8.pth\r\n",
      "-rw-r--r-- 1 root root 237306273 Jul 31 06:47 Vanilla_Unet-0.0001-No-12-8.pth\r\n",
      "-rw-r--r-- 1 root root 237306273 Jul 31 06:50 Vanilla_Unet-0.0001-No-13-8.pth\r\n",
      "-rw-r--r-- 1 root root 237306273 Jul 31 06:53 Vanilla_Unet-0.0001-No-14-8.pth\r\n",
      "-rw-r--r-- 1 root root 237306273 Jul 31 06:56 Vanilla_Unet-0.0001-No-15-8.pth\r\n",
      "-rw-r--r-- 1 root root 237306273 Jul 31 06:59 Vanilla_Unet-0.0001-No-16-8.pth\r\n",
      "-rw-r--r-- 1 root root 237306273 Jul 31 07:02 Vanilla_Unet-0.0001-No-17-8.pth\r\n",
      "-rw-r--r-- 1 root root 237306273 Jul 31 07:06 Vanilla_Unet-0.0001-No-18-8.pth\r\n",
      "-rw-r--r-- 1 root root 237306273 Jul 31 07:09 Vanilla_Unet-0.0001-No-19-8.pth\r\n",
      "-rw-r--r-- 1 root root 237306273 Jul 31 06:15 Vanilla_Unet-0.0001-No-2-8.pth\r\n",
      "-rw-r--r-- 1 root root 237306273 Jul 31 07:12 Vanilla_Unet-0.0001-No-20-8.pth\r\n",
      "-rw-r--r-- 1 root root 237306273 Jul 31 07:15 Vanilla_Unet-0.0001-No-21-8.pth\r\n",
      "-rw-r--r-- 1 root root 237306273 Jul 31 07:19 Vanilla_Unet-0.0001-No-22-8.pth\r\n",
      "-rw-r--r-- 1 root root 237306273 Jul 31 07:22 Vanilla_Unet-0.0001-No-23-8.pth\r\n",
      "-rw-r--r-- 1 root root 237306273 Jul 31 07:25 Vanilla_Unet-0.0001-No-24-8.pth\r\n",
      "-rw-r--r-- 1 root root 237306273 Jul 31 07:28 Vanilla_Unet-0.0001-No-25-8.pth\r\n",
      "-rw-r--r-- 1 root root 237306273 Jul 31 07:31 Vanilla_Unet-0.0001-No-26-8.pth\r\n",
      "-rw-r--r-- 1 root root 237306273 Jul 31 07:35 Vanilla_Unet-0.0001-No-27-8.pth\r\n",
      "-rw-r--r-- 1 root root 237306273 Jul 31 07:38 Vanilla_Unet-0.0001-No-28-8.pth\r\n",
      "-rw-r--r-- 1 root root 237306273 Jul 31 07:41 Vanilla_Unet-0.0001-No-29-8.pth\r\n",
      "-rw-r--r-- 1 root root 237306273 Jul 31 06:18 Vanilla_Unet-0.0001-No-3-8.pth\r\n",
      "-rw-r--r-- 1 root root 237306273 Jul 31 07:45 Vanilla_Unet-0.0001-No-30-8.pth\r\n",
      "-rw-r--r-- 1 root root 237306273 Jul 31 07:48 Vanilla_Unet-0.0001-No-31-8.pth\r\n",
      "-rw-r--r-- 1 root root 237306273 Jul 31 07:51 Vanilla_Unet-0.0001-No-32-8.pth\r\n",
      "-rw-r--r-- 1 root root 237306273 Jul 31 07:54 Vanilla_Unet-0.0001-No-33-8.pth\r\n",
      "-rw-r--r-- 1 root root 237306273 Jul 31 07:58 Vanilla_Unet-0.0001-No-34-8.pth\r\n",
      "-rw-r--r-- 1 root root 237306273 Jul 31 08:01 Vanilla_Unet-0.0001-No-35-8.pth\r\n",
      "-rw-r--r-- 1 root root 237306273 Jul 31 08:04 Vanilla_Unet-0.0001-No-36-8.pth\r\n",
      "-rw-r--r-- 1 root root 237306273 Jul 31 08:08 Vanilla_Unet-0.0001-No-37-8.pth\r\n",
      "-rw-r--r-- 1 root root 237306273 Jul 31 08:11 Vanilla_Unet-0.0001-No-38-8.pth\r\n",
      "-rw-r--r-- 1 root root 237306273 Jul 31 08:14 Vanilla_Unet-0.0001-No-39-8.pth\r\n",
      "-rw-r--r-- 1 root root 237306273 Jul 31 06:21 Vanilla_Unet-0.0001-No-4-8.pth\r\n",
      "-rw-r--r-- 1 root root 237306273 Jul 31 08:17 Vanilla_Unet-0.0001-No-40-8.pth\r\n",
      "-rw-r--r-- 1 root root 237306273 Jul 31 08:21 Vanilla_Unet-0.0001-No-41-8.pth\r\n",
      "-rw-r--r-- 1 root root 237306273 Jul 31 08:24 Vanilla_Unet-0.0001-No-42-8.pth\r\n",
      "-rw-r--r-- 1 root root 237306273 Jul 31 08:27 Vanilla_Unet-0.0001-No-43-8.pth\r\n",
      "-rw-r--r-- 1 root root 237306273 Jul 31 08:31 Vanilla_Unet-0.0001-No-44-8.pth\r\n",
      "-rw-r--r-- 1 root root 237306273 Jul 31 08:34 Vanilla_Unet-0.0001-No-45-8.pth\r\n",
      "-rw-r--r-- 1 root root 237306273 Jul 31 08:37 Vanilla_Unet-0.0001-No-46-8.pth\r\n",
      "-rw-r--r-- 1 root root 237306273 Jul 31 08:41 Vanilla_Unet-0.0001-No-47-8.pth\r\n",
      "-rw-r--r-- 1 root root 237306273 Jul 31 08:44 Vanilla_Unet-0.0001-No-48-8.pth\r\n",
      "-rw-r--r-- 1 root root 237306273 Jul 31 08:47 Vanilla_Unet-0.0001-No-49-8.pth\r\n",
      "-rw-r--r-- 1 root root 237306273 Jul 31 06:25 Vanilla_Unet-0.0001-No-5-8.pth\r\n",
      "-rw-r--r-- 1 root root 237306273 Jul 31 08:51 Vanilla_Unet-0.0001-No-50-8.pth\r\n",
      "-rw-r--r-- 1 root root 237306273 Jul 31 06:28 Vanilla_Unet-0.0001-No-6-8.pth\r\n",
      "-rw-r--r-- 1 root root 237306273 Jul 31 06:31 Vanilla_Unet-0.0001-No-7-8.pth\r\n",
      "-rw-r--r-- 1 root root 237306273 Jul 31 06:34 Vanilla_Unet-0.0001-No-8-8.pth\r\n",
      "-rw-r--r-- 1 root root 237306273 Jul 31 06:37 Vanilla_Unet-0.0001-No-9-8.pth\r\n"
     ]
    }
   ],
   "source": [
    "!ls -la ./model_weights"
   ]
  },
  {
   "cell_type": "code",
   "execution_count": null,
   "id": "e1055945",
   "metadata": {
    "papermill": {
     "duration": 2.523928,
     "end_time": "2022-07-31T08:51:58.957483",
     "exception": false,
     "start_time": "2022-07-31T08:51:56.433555",
     "status": "completed"
    },
    "tags": []
   },
   "outputs": [],
   "source": []
  },
  {
   "cell_type": "code",
   "execution_count": null,
   "id": "6ff7cea6",
   "metadata": {
    "papermill": {
     "duration": 2.490843,
     "end_time": "2022-07-31T08:52:04.190554",
     "exception": false,
     "start_time": "2022-07-31T08:52:01.699711",
     "status": "completed"
    },
    "tags": []
   },
   "outputs": [],
   "source": []
  },
  {
   "cell_type": "code",
   "execution_count": null,
   "id": "9aa48b40",
   "metadata": {
    "papermill": {
     "duration": 2.527834,
     "end_time": "2022-07-31T08:52:09.205409",
     "exception": false,
     "start_time": "2022-07-31T08:52:06.677575",
     "status": "completed"
    },
    "tags": []
   },
   "outputs": [],
   "source": []
  },
  {
   "cell_type": "code",
   "execution_count": null,
   "id": "d8c13929",
   "metadata": {
    "papermill": {
     "duration": 2.492643,
     "end_time": "2022-07-31T08:52:14.431274",
     "exception": false,
     "start_time": "2022-07-31T08:52:11.938631",
     "status": "completed"
    },
    "tags": []
   },
   "outputs": [],
   "source": []
  }
 ],
 "metadata": {
  "kernelspec": {
   "display_name": "Python 3",
   "language": "python",
   "name": "python3"
  },
  "language_info": {
   "codemirror_mode": {
    "name": "ipython",
    "version": 3
   },
   "file_extension": ".py",
   "mimetype": "text/x-python",
   "name": "python",
   "nbconvert_exporter": "python",
   "pygments_lexer": "ipython3",
   "version": "3.7.12"
  },
  "papermill": {
   "default_parameters": {},
   "duration": 9851.433227,
   "end_time": "2022-07-31T08:52:19.815864",
   "environment_variables": {},
   "exception": null,
   "input_path": "__notebook__.ipynb",
   "output_path": "__notebook__.ipynb",
   "parameters": {},
   "start_time": "2022-07-31T06:08:08.382637",
   "version": "2.3.4"
  },
  "widgets": {
   "application/vnd.jupyter.widget-state+json": {
    "state": {
     "00e7115ff06a44c0ab332cfd6ed48efc": {
      "model_module": "@jupyter-widgets/controls",
      "model_module_version": "1.5.0",
      "model_name": "ProgressStyleModel",
      "state": {
       "_model_module": "@jupyter-widgets/controls",
       "_model_module_version": "1.5.0",
       "_model_name": "ProgressStyleModel",
       "_view_count": null,
       "_view_module": "@jupyter-widgets/base",
       "_view_module_version": "1.2.0",
       "_view_name": "StyleView",
       "bar_color": null,
       "description_width": ""
      }
     },
     "03ac777fe7de4832a96fedc6edc67b9c": {
      "model_module": "@jupyter-widgets/base",
      "model_module_version": "1.2.0",
      "model_name": "LayoutModel",
      "state": {
       "_model_module": "@jupyter-widgets/base",
       "_model_module_version": "1.2.0",
       "_model_name": "LayoutModel",
       "_view_count": null,
       "_view_module": "@jupyter-widgets/base",
       "_view_module_version": "1.2.0",
       "_view_name": "LayoutView",
       "align_content": null,
       "align_items": null,
       "align_self": null,
       "border": null,
       "bottom": null,
       "display": null,
       "flex": null,
       "flex_flow": null,
       "grid_area": null,
       "grid_auto_columns": null,
       "grid_auto_flow": null,
       "grid_auto_rows": null,
       "grid_column": null,
       "grid_gap": null,
       "grid_row": null,
       "grid_template_areas": null,
       "grid_template_columns": null,
       "grid_template_rows": null,
       "height": null,
       "justify_content": null,
       "justify_items": null,
       "left": null,
       "margin": null,
       "max_height": null,
       "max_width": null,
       "min_height": null,
       "min_width": null,
       "object_fit": null,
       "object_position": null,
       "order": null,
       "overflow": null,
       "overflow_x": null,
       "overflow_y": null,
       "padding": null,
       "right": null,
       "top": null,
       "visibility": null,
       "width": null
      }
     },
     "2ae7f0c8adca45deb80f1619d0691821": {
      "model_module": "@jupyter-widgets/controls",
      "model_module_version": "1.5.0",
      "model_name": "HTMLModel",
      "state": {
       "_dom_classes": [],
       "_model_module": "@jupyter-widgets/controls",
       "_model_module_version": "1.5.0",
       "_model_name": "HTMLModel",
       "_view_count": null,
       "_view_module": "@jupyter-widgets/controls",
       "_view_module_version": "1.5.0",
       "_view_name": "HTMLView",
       "description": "",
       "description_tooltip": null,
       "layout": "IPY_MODEL_facd297cefed483290568827893af996",
       "placeholder": "​",
       "style": "IPY_MODEL_8f54430de24445d09e22beed49d68478",
       "value": " 74.4M/74.4M [00:02&lt;00:00, 35.0MB/s]"
      }
     },
     "4a8d67a9ab694d039b6652548c0b315a": {
      "model_module": "@jupyter-widgets/controls",
      "model_module_version": "1.5.0",
      "model_name": "LabelModel",
      "state": {
       "_dom_classes": [],
       "_model_module": "@jupyter-widgets/controls",
       "_model_module_version": "1.5.0",
       "_model_name": "LabelModel",
       "_view_count": null,
       "_view_module": "@jupyter-widgets/controls",
       "_view_module_version": "1.5.0",
       "_view_name": "LabelView",
       "description": "",
       "description_tooltip": null,
       "layout": "IPY_MODEL_5d59b3e8092e4ed98382541602d071e7",
       "placeholder": "​",
       "style": "IPY_MODEL_cd3472cfc1cd4850a874bd6649ba00d7",
       "value": ""
      }
     },
     "5641ca74245e48e9af16de61c654e8a9": {
      "model_module": "@jupyter-widgets/controls",
      "model_module_version": "1.5.0",
      "model_name": "HBoxModel",
      "state": {
       "_dom_classes": [],
       "_model_module": "@jupyter-widgets/controls",
       "_model_module_version": "1.5.0",
       "_model_name": "HBoxModel",
       "_view_count": null,
       "_view_module": "@jupyter-widgets/controls",
       "_view_module_version": "1.5.0",
       "_view_name": "HBoxView",
       "box_style": "",
       "children": [
        "IPY_MODEL_babc2fc0e6674ced851ab9a1dbafff74",
        "IPY_MODEL_e9134a656aec43228b191042f9bf916f",
        "IPY_MODEL_2ae7f0c8adca45deb80f1619d0691821"
       ],
       "layout": "IPY_MODEL_c45fb124bf31484182e091e791fb5ee8"
      }
     },
     "5d59b3e8092e4ed98382541602d071e7": {
      "model_module": "@jupyter-widgets/base",
      "model_module_version": "1.2.0",
      "model_name": "LayoutModel",
      "state": {
       "_model_module": "@jupyter-widgets/base",
       "_model_module_version": "1.2.0",
       "_model_name": "LayoutModel",
       "_view_count": null,
       "_view_module": "@jupyter-widgets/base",
       "_view_module_version": "1.2.0",
       "_view_name": "LayoutView",
       "align_content": null,
       "align_items": null,
       "align_self": null,
       "border": null,
       "bottom": null,
       "display": null,
       "flex": null,
       "flex_flow": null,
       "grid_area": null,
       "grid_auto_columns": null,
       "grid_auto_flow": null,
       "grid_auto_rows": null,
       "grid_column": null,
       "grid_gap": null,
       "grid_row": null,
       "grid_template_areas": null,
       "grid_template_columns": null,
       "grid_template_rows": null,
       "height": null,
       "justify_content": null,
       "justify_items": null,
       "left": null,
       "margin": null,
       "max_height": null,
       "max_width": null,
       "min_height": null,
       "min_width": null,
       "object_fit": null,
       "object_position": null,
       "order": null,
       "overflow": null,
       "overflow_x": null,
       "overflow_y": null,
       "padding": null,
       "right": null,
       "top": null,
       "visibility": null,
       "width": null
      }
     },
     "7c15185f3a3d4d1aafac471dead5e222": {
      "model_module": "@jupyter-widgets/controls",
      "model_module_version": "1.5.0",
      "model_name": "DescriptionStyleModel",
      "state": {
       "_model_module": "@jupyter-widgets/controls",
       "_model_module_version": "1.5.0",
       "_model_name": "DescriptionStyleModel",
       "_view_count": null,
       "_view_module": "@jupyter-widgets/base",
       "_view_module_version": "1.2.0",
       "_view_name": "StyleView",
       "description_width": ""
      }
     },
     "8f54430de24445d09e22beed49d68478": {
      "model_module": "@jupyter-widgets/controls",
      "model_module_version": "1.5.0",
      "model_name": "DescriptionStyleModel",
      "state": {
       "_model_module": "@jupyter-widgets/controls",
       "_model_module_version": "1.5.0",
       "_model_name": "DescriptionStyleModel",
       "_view_count": null,
       "_view_module": "@jupyter-widgets/base",
       "_view_module_version": "1.2.0",
       "_view_name": "StyleView",
       "description_width": ""
      }
     },
     "99ac0224a6244b44b44c5c320bf83eae": {
      "model_module": "@jupyter-widgets/controls",
      "model_module_version": "1.5.0",
      "model_name": "VBoxModel",
      "state": {
       "_dom_classes": [],
       "_model_module": "@jupyter-widgets/controls",
       "_model_module_version": "1.5.0",
       "_model_name": "VBoxModel",
       "_view_count": null,
       "_view_module": "@jupyter-widgets/controls",
       "_view_module_version": "1.5.0",
       "_view_name": "VBoxView",
       "box_style": "",
       "children": [
        "IPY_MODEL_4a8d67a9ab694d039b6652548c0b315a",
        "IPY_MODEL_c520522de55349b18f6d269152a9f1c0"
       ],
       "layout": "IPY_MODEL_f4ce62488a404608b48d46cd3c8407ed"
      }
     },
     "ae197ed1a97f4c77a1a9f80ac9178944": {
      "model_module": "@jupyter-widgets/base",
      "model_module_version": "1.2.0",
      "model_name": "LayoutModel",
      "state": {
       "_model_module": "@jupyter-widgets/base",
       "_model_module_version": "1.2.0",
       "_model_name": "LayoutModel",
       "_view_count": null,
       "_view_module": "@jupyter-widgets/base",
       "_view_module_version": "1.2.0",
       "_view_name": "LayoutView",
       "align_content": null,
       "align_items": null,
       "align_self": null,
       "border": null,
       "bottom": null,
       "display": null,
       "flex": null,
       "flex_flow": null,
       "grid_area": null,
       "grid_auto_columns": null,
       "grid_auto_flow": null,
       "grid_auto_rows": null,
       "grid_column": null,
       "grid_gap": null,
       "grid_row": null,
       "grid_template_areas": null,
       "grid_template_columns": null,
       "grid_template_rows": null,
       "height": null,
       "justify_content": null,
       "justify_items": null,
       "left": null,
       "margin": null,
       "max_height": null,
       "max_width": null,
       "min_height": null,
       "min_width": null,
       "object_fit": null,
       "object_position": null,
       "order": null,
       "overflow": null,
       "overflow_x": null,
       "overflow_y": null,
       "padding": null,
       "right": null,
       "top": null,
       "visibility": null,
       "width": null
      }
     },
     "babc2fc0e6674ced851ab9a1dbafff74": {
      "model_module": "@jupyter-widgets/controls",
      "model_module_version": "1.5.0",
      "model_name": "HTMLModel",
      "state": {
       "_dom_classes": [],
       "_model_module": "@jupyter-widgets/controls",
       "_model_module_version": "1.5.0",
       "_model_name": "HTMLModel",
       "_view_count": null,
       "_view_module": "@jupyter-widgets/controls",
       "_view_module_version": "1.5.0",
       "_view_name": "HTMLView",
       "description": "",
       "description_tooltip": null,
       "layout": "IPY_MODEL_03ac777fe7de4832a96fedc6edc67b9c",
       "placeholder": "​",
       "style": "IPY_MODEL_7c15185f3a3d4d1aafac471dead5e222",
       "value": "100%"
      }
     },
     "c45fb124bf31484182e091e791fb5ee8": {
      "model_module": "@jupyter-widgets/base",
      "model_module_version": "1.2.0",
      "model_name": "LayoutModel",
      "state": {
       "_model_module": "@jupyter-widgets/base",
       "_model_module_version": "1.2.0",
       "_model_name": "LayoutModel",
       "_view_count": null,
       "_view_module": "@jupyter-widgets/base",
       "_view_module_version": "1.2.0",
       "_view_name": "LayoutView",
       "align_content": null,
       "align_items": null,
       "align_self": null,
       "border": null,
       "bottom": null,
       "display": null,
       "flex": null,
       "flex_flow": null,
       "grid_area": null,
       "grid_auto_columns": null,
       "grid_auto_flow": null,
       "grid_auto_rows": null,
       "grid_column": null,
       "grid_gap": null,
       "grid_row": null,
       "grid_template_areas": null,
       "grid_template_columns": null,
       "grid_template_rows": null,
       "height": null,
       "justify_content": null,
       "justify_items": null,
       "left": null,
       "margin": null,
       "max_height": null,
       "max_width": null,
       "min_height": null,
       "min_width": null,
       "object_fit": null,
       "object_position": null,
       "order": null,
       "overflow": null,
       "overflow_x": null,
       "overflow_y": null,
       "padding": null,
       "right": null,
       "top": null,
       "visibility": null,
       "width": null
      }
     },
     "c520522de55349b18f6d269152a9f1c0": {
      "model_module": "@jupyter-widgets/controls",
      "model_module_version": "1.5.0",
      "model_name": "FloatProgressModel",
      "state": {
       "_dom_classes": [],
       "_model_module": "@jupyter-widgets/controls",
       "_model_module_version": "1.5.0",
       "_model_name": "FloatProgressModel",
       "_view_count": null,
       "_view_module": "@jupyter-widgets/controls",
       "_view_module_version": "1.5.0",
       "_view_name": "ProgressView",
       "bar_style": "",
       "description": "",
       "description_tooltip": null,
       "layout": "IPY_MODEL_d7c0a839035449d5abc9d001d45cf924",
       "max": 1.0,
       "min": 0.0,
       "orientation": "horizontal",
       "style": "IPY_MODEL_e6fe51219f28409fb008234f739e2dbe",
       "value": 0.0
      }
     },
     "cd3472cfc1cd4850a874bd6649ba00d7": {
      "model_module": "@jupyter-widgets/controls",
      "model_module_version": "1.5.0",
      "model_name": "DescriptionStyleModel",
      "state": {
       "_model_module": "@jupyter-widgets/controls",
       "_model_module_version": "1.5.0",
       "_model_name": "DescriptionStyleModel",
       "_view_count": null,
       "_view_module": "@jupyter-widgets/base",
       "_view_module_version": "1.2.0",
       "_view_name": "StyleView",
       "description_width": ""
      }
     },
     "d7c0a839035449d5abc9d001d45cf924": {
      "model_module": "@jupyter-widgets/base",
      "model_module_version": "1.2.0",
      "model_name": "LayoutModel",
      "state": {
       "_model_module": "@jupyter-widgets/base",
       "_model_module_version": "1.2.0",
       "_model_name": "LayoutModel",
       "_view_count": null,
       "_view_module": "@jupyter-widgets/base",
       "_view_module_version": "1.2.0",
       "_view_name": "LayoutView",
       "align_content": null,
       "align_items": null,
       "align_self": null,
       "border": null,
       "bottom": null,
       "display": null,
       "flex": null,
       "flex_flow": null,
       "grid_area": null,
       "grid_auto_columns": null,
       "grid_auto_flow": null,
       "grid_auto_rows": null,
       "grid_column": null,
       "grid_gap": null,
       "grid_row": null,
       "grid_template_areas": null,
       "grid_template_columns": null,
       "grid_template_rows": null,
       "height": null,
       "justify_content": null,
       "justify_items": null,
       "left": null,
       "margin": null,
       "max_height": null,
       "max_width": null,
       "min_height": null,
       "min_width": null,
       "object_fit": null,
       "object_position": null,
       "order": null,
       "overflow": null,
       "overflow_x": null,
       "overflow_y": null,
       "padding": null,
       "right": null,
       "top": null,
       "visibility": null,
       "width": null
      }
     },
     "e6fe51219f28409fb008234f739e2dbe": {
      "model_module": "@jupyter-widgets/controls",
      "model_module_version": "1.5.0",
      "model_name": "ProgressStyleModel",
      "state": {
       "_model_module": "@jupyter-widgets/controls",
       "_model_module_version": "1.5.0",
       "_model_name": "ProgressStyleModel",
       "_view_count": null,
       "_view_module": "@jupyter-widgets/base",
       "_view_module_version": "1.2.0",
       "_view_name": "StyleView",
       "bar_color": null,
       "description_width": ""
      }
     },
     "e9134a656aec43228b191042f9bf916f": {
      "model_module": "@jupyter-widgets/controls",
      "model_module_version": "1.5.0",
      "model_name": "FloatProgressModel",
      "state": {
       "_dom_classes": [],
       "_model_module": "@jupyter-widgets/controls",
       "_model_module_version": "1.5.0",
       "_model_name": "FloatProgressModel",
       "_view_count": null,
       "_view_module": "@jupyter-widgets/controls",
       "_view_module_version": "1.5.0",
       "_view_name": "ProgressView",
       "bar_style": "success",
       "description": "",
       "description_tooltip": null,
       "layout": "IPY_MODEL_ae197ed1a97f4c77a1a9f80ac9178944",
       "max": 77999237.0,
       "min": 0.0,
       "orientation": "horizontal",
       "style": "IPY_MODEL_00e7115ff06a44c0ab332cfd6ed48efc",
       "value": 77999237.0
      }
     },
     "f4ce62488a404608b48d46cd3c8407ed": {
      "model_module": "@jupyter-widgets/base",
      "model_module_version": "1.2.0",
      "model_name": "LayoutModel",
      "state": {
       "_model_module": "@jupyter-widgets/base",
       "_model_module_version": "1.2.0",
       "_model_name": "LayoutModel",
       "_view_count": null,
       "_view_module": "@jupyter-widgets/base",
       "_view_module_version": "1.2.0",
       "_view_name": "LayoutView",
       "align_content": null,
       "align_items": null,
       "align_self": null,
       "border": null,
       "bottom": null,
       "display": null,
       "flex": null,
       "flex_flow": null,
       "grid_area": null,
       "grid_auto_columns": null,
       "grid_auto_flow": null,
       "grid_auto_rows": null,
       "grid_column": null,
       "grid_gap": null,
       "grid_row": null,
       "grid_template_areas": null,
       "grid_template_columns": null,
       "grid_template_rows": null,
       "height": null,
       "justify_content": null,
       "justify_items": null,
       "left": null,
       "margin": null,
       "max_height": null,
       "max_width": null,
       "min_height": null,
       "min_width": null,
       "object_fit": null,
       "object_position": null,
       "order": null,
       "overflow": null,
       "overflow_x": null,
       "overflow_y": null,
       "padding": null,
       "right": null,
       "top": null,
       "visibility": null,
       "width": null
      }
     },
     "facd297cefed483290568827893af996": {
      "model_module": "@jupyter-widgets/base",
      "model_module_version": "1.2.0",
      "model_name": "LayoutModel",
      "state": {
       "_model_module": "@jupyter-widgets/base",
       "_model_module_version": "1.2.0",
       "_model_name": "LayoutModel",
       "_view_count": null,
       "_view_module": "@jupyter-widgets/base",
       "_view_module_version": "1.2.0",
       "_view_name": "LayoutView",
       "align_content": null,
       "align_items": null,
       "align_self": null,
       "border": null,
       "bottom": null,
       "display": null,
       "flex": null,
       "flex_flow": null,
       "grid_area": null,
       "grid_auto_columns": null,
       "grid_auto_flow": null,
       "grid_auto_rows": null,
       "grid_column": null,
       "grid_gap": null,
       "grid_row": null,
       "grid_template_areas": null,
       "grid_template_columns": null,
       "grid_template_rows": null,
       "height": null,
       "justify_content": null,
       "justify_items": null,
       "left": null,
       "margin": null,
       "max_height": null,
       "max_width": null,
       "min_height": null,
       "min_width": null,
       "object_fit": null,
       "object_position": null,
       "order": null,
       "overflow": null,
       "overflow_x": null,
       "overflow_y": null,
       "padding": null,
       "right": null,
       "top": null,
       "visibility": null,
       "width": null
      }
     }
    },
    "version_major": 2,
    "version_minor": 0
   }
  }
 },
 "nbformat": 4,
 "nbformat_minor": 5
}
