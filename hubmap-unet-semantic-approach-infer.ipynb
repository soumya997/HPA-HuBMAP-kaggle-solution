{
 "cells": [
  {
   "cell_type": "markdown",
   "id": "6e31ba19",
   "metadata": {
    "papermill": {
     "duration": 0.00718,
     "end_time": "2022-06-26T00:59:41.888128",
     "exception": false,
     "start_time": "2022-06-26T00:59:41.880948",
     "status": "completed"
    },
    "tags": []
   },
   "source": [
    "# **Training Notebook**"
   ]
  },
  {
   "cell_type": "markdown",
   "id": "12aafa31",
   "metadata": {
    "papermill": {
     "duration": 0.005886,
     "end_time": "2022-06-26T00:59:41.900511",
     "exception": false,
     "start_time": "2022-06-26T00:59:41.894625",
     "status": "completed"
    },
    "tags": []
   },
   "source": [
    "https://www.kaggle.com/code/vexxingbanana/hubmap-unet-semantic-approach-train"
   ]
  },
  {
   "cell_type": "markdown",
   "id": "5779fe70",
   "metadata": {
    "papermill": {
     "duration": 0.005845,
     "end_time": "2022-06-26T00:59:41.912872",
     "exception": false,
     "start_time": "2022-06-26T00:59:41.907027",
     "status": "completed"
    },
    "tags": []
   },
   "source": [
    "# **Install segmentation_models_pytorch**"
   ]
  },
  {
   "cell_type": "code",
   "execution_count": 1,
   "id": "2264641e",
   "metadata": {
    "execution": {
     "iopub.execute_input": "2022-06-26T00:59:41.927012Z",
     "iopub.status.busy": "2022-06-26T00:59:41.926489Z",
     "iopub.status.idle": "2022-06-26T00:59:42.859653Z",
     "shell.execute_reply": "2022-06-26T00:59:42.858416Z"
    },
    "papermill": {
     "duration": 0.943431,
     "end_time": "2022-06-26T00:59:42.862326",
     "exception": false,
     "start_time": "2022-06-26T00:59:41.918895",
     "status": "completed"
    },
    "tags": []
   },
   "outputs": [],
   "source": [
    "!cp -r ../input/pytorch-segmentation-models-lib/ ./"
   ]
  },
  {
   "cell_type": "code",
   "execution_count": 2,
   "id": "0bb72a0d",
   "metadata": {
    "execution": {
     "iopub.execute_input": "2022-06-26T00:59:42.876750Z",
     "iopub.status.busy": "2022-06-26T00:59:42.875803Z",
     "iopub.status.idle": "2022-06-26T00:59:44.145410Z",
     "shell.execute_reply": "2022-06-26T00:59:44.144072Z"
    },
    "papermill": {
     "duration": 1.28026,
     "end_time": "2022-06-26T00:59:44.148867",
     "exception": false,
     "start_time": "2022-06-26T00:59:42.868607",
     "status": "completed"
    },
    "tags": []
   },
   "outputs": [
    {
     "name": "stdout",
     "output_type": "stream",
     "text": [
      "Writing to /root/.config/pip/pip.conf\n"
     ]
    }
   ],
   "source": [
    "!pip config set global.disable-pip-version-check true"
   ]
  },
  {
   "cell_type": "code",
   "execution_count": 3,
   "id": "f9d74a23",
   "metadata": {
    "_cell_guid": "b1076dfc-b9ad-4769-8c92-a6c4dae69d19",
    "_uuid": "8f2839f25d086af736a60e9eeb907d3b93b6e0e5",
    "execution": {
     "iopub.execute_input": "2022-06-26T00:59:44.171936Z",
     "iopub.status.busy": "2022-06-26T00:59:44.171383Z",
     "iopub.status.idle": "2022-06-26T01:00:25.573354Z",
     "shell.execute_reply": "2022-06-26T01:00:25.572155Z"
    },
    "papermill": {
     "duration": 41.416355,
     "end_time": "2022-06-26T01:00:25.575867",
     "exception": false,
     "start_time": "2022-06-26T00:59:44.159512",
     "status": "completed"
    },
    "tags": []
   },
   "outputs": [
    {
     "name": "stdout",
     "output_type": "stream",
     "text": [
      "\u001b[33mWARNING: Running pip as the 'root' user can result in broken permissions and conflicting behaviour with the system package manager. It is recommended to use a virtual environment instead: https://pip.pypa.io/warnings/venv\u001b[0m\u001b[33m\n",
      "\u001b[0m\u001b[33mWARNING: Running pip as the 'root' user can result in broken permissions and conflicting behaviour with the system package manager. It is recommended to use a virtual environment instead: https://pip.pypa.io/warnings/venv\u001b[0m\u001b[33m\n",
      "\u001b[0m\u001b[33mWARNING: Running pip as the 'root' user can result in broken permissions and conflicting behaviour with the system package manager. It is recommended to use a virtual environment instead: https://pip.pypa.io/warnings/venv\u001b[0m\u001b[33m\n",
      "\u001b[0m\u001b[33mWARNING: Running pip as the 'root' user can result in broken permissions and conflicting behaviour with the system package manager. It is recommended to use a virtual environment instead: https://pip.pypa.io/warnings/venv\u001b[0m\u001b[33m\n",
      "\u001b[0m"
     ]
    }
   ],
   "source": [
    "!pip install -q ./pytorch-segmentation-models-lib/pretrainedmodels-0.7.4/pretrainedmodels-0.7.4\n",
    "!pip install -q ./pytorch-segmentation-models-lib/efficientnet_pytorch-0.6.3/efficientnet_pytorch-0.6.3\n",
    "!pip install -q ./pytorch-segmentation-models-lib/timm-0.4.12-py3-none-any.whl\n",
    "!pip install -q ./pytorch-segmentation-models-lib/segmentation_models_pytorch-0.2.0-py3-none-any.whl"
   ]
  },
  {
   "cell_type": "markdown",
   "id": "16a44aae",
   "metadata": {
    "papermill": {
     "duration": 0.006144,
     "end_time": "2022-06-26T01:00:25.588695",
     "exception": false,
     "start_time": "2022-06-26T01:00:25.582551",
     "status": "completed"
    },
    "tags": []
   },
   "source": [
    "# **Import Libraries**"
   ]
  },
  {
   "cell_type": "code",
   "execution_count": 4,
   "id": "fb89efda",
   "metadata": {
    "execution": {
     "iopub.execute_input": "2022-06-26T01:00:25.602960Z",
     "iopub.status.busy": "2022-06-26T01:00:25.602625Z",
     "iopub.status.idle": "2022-06-26T01:00:35.802251Z",
     "shell.execute_reply": "2022-06-26T01:00:35.801217Z"
    },
    "papermill": {
     "duration": 10.209668,
     "end_time": "2022-06-26T01:00:35.804649",
     "exception": false,
     "start_time": "2022-06-26T01:00:25.594981",
     "status": "completed"
    },
    "tags": []
   },
   "outputs": [],
   "source": [
    "import numpy as np\n",
    "import pandas as pd\n",
    "import time\n",
    "import matplotlib.pyplot as plt\n",
    "import cv2\n",
    "import glob\n",
    "import os\n",
    "import shutil\n",
    "import timm\n",
    "import random\n",
    "import torch\n",
    "import torch.nn as nn\n",
    "import torch.optim as optim\n",
    "from torch.optim import lr_scheduler\n",
    "from torch.cuda import amp\n",
    "import albumentations as A\n",
    "from albumentations.pytorch import ToTensorV2\n",
    "import transformers\n",
    "from sklearn.model_selection import StratifiedKFold, KFold, StratifiedGroupKFold\n",
    "import multiprocessing as mp\n",
    "import segmentation_models_pytorch as smp\n",
    "import copy\n",
    "from collections import defaultdict\n",
    "import gc\n",
    "from tqdm import tqdm\n",
    "import tifffile\n",
    "from colorama import Fore, Back, Style"
   ]
  },
  {
   "cell_type": "markdown",
   "id": "159b9b2f",
   "metadata": {
    "papermill": {
     "duration": 0.006142,
     "end_time": "2022-06-26T01:00:35.817718",
     "exception": false,
     "start_time": "2022-06-26T01:00:35.811576",
     "status": "completed"
    },
    "tags": []
   },
   "source": [
    "# **Config**"
   ]
  },
  {
   "cell_type": "code",
   "execution_count": 5,
   "id": "f29c40e8",
   "metadata": {
    "execution": {
     "iopub.execute_input": "2022-06-26T01:00:35.832596Z",
     "iopub.status.busy": "2022-06-26T01:00:35.832057Z",
     "iopub.status.idle": "2022-06-26T01:00:35.897772Z",
     "shell.execute_reply": "2022-06-26T01:00:35.896814Z"
    },
    "papermill": {
     "duration": 0.075586,
     "end_time": "2022-06-26T01:00:35.899797",
     "exception": false,
     "start_time": "2022-06-26T01:00:35.824211",
     "status": "completed"
    },
    "tags": []
   },
   "outputs": [],
   "source": [
    "class CFG:\n",
    "    seed = 0\n",
    "    batch_size = 16\n",
    "    head = \"UNet\"\n",
    "    backbone = \"efficientnet-b0\"\n",
    "    img_size = [512, 512]\n",
    "    lr = 1e-3\n",
    "    scheduler = 'CosineAnnealingLR' #['CosineAnnealingLR']\n",
    "    epochs = 20\n",
    "    warmup_epochs = 2\n",
    "    n_folds = 5\n",
    "    folds_to_run = [0]\n",
    "    device = torch.device(\"cuda:0\" if torch.cuda.is_available() else \"cpu\")\n",
    "    base_path = '../input/hubmap-organ-segmentation'\n",
    "    num_workers = mp.cpu_count()\n",
    "    num_classes = 1\n",
    "    n_accumulate = max(1, 16//batch_size)\n",
    "    loss = 'Dice'\n",
    "    optimizer = 'Adam'\n",
    "    weight_decay = 1e-6\n",
    "    ckpt_path = '../input/hubmap-unet-semantic-approach-train/last_epoch-00.bin' #Checkpoint path\n",
    "    threshold = 0.5"
   ]
  },
  {
   "cell_type": "markdown",
   "id": "7ea1e4b2",
   "metadata": {
    "papermill": {
     "duration": 0.006586,
     "end_time": "2022-06-26T01:00:35.913034",
     "exception": false,
     "start_time": "2022-06-26T01:00:35.906448",
     "status": "completed"
    },
    "tags": []
   },
   "source": [
    "# **Helper Functions**"
   ]
  },
  {
   "cell_type": "code",
   "execution_count": 6,
   "id": "3cdad178",
   "metadata": {
    "execution": {
     "iopub.execute_input": "2022-06-26T01:00:35.928347Z",
     "iopub.status.busy": "2022-06-26T01:00:35.926969Z",
     "iopub.status.idle": "2022-06-26T01:00:35.938313Z",
     "shell.execute_reply": "2022-06-26T01:00:35.937466Z"
    },
    "papermill": {
     "duration": 0.021148,
     "end_time": "2022-06-26T01:00:35.940433",
     "exception": false,
     "start_time": "2022-06-26T01:00:35.919285",
     "status": "completed"
    },
    "tags": []
   },
   "outputs": [],
   "source": [
    "# ref: https://www.kaggle.com/paulorzp/run-length-encode-and-decode\n",
    "def rle_decode(mask_rle, shape):\n",
    "    '''\n",
    "    mask_rle: run-length as string formated (start length)\n",
    "    shape: (height,width) of array to return \n",
    "    Returns numpy array, 1 - mask, 0 - background\n",
    "\n",
    "    '''\n",
    "    s = mask_rle.split()\n",
    "    starts, lengths = [np.asarray(x, dtype=int) for x in (s[0:][::2], s[1:][::2])]\n",
    "    starts -= 1\n",
    "    ends = starts + lengths\n",
    "    img = np.zeros(shape[0]*shape[1], dtype=np.uint8)\n",
    "    for lo, hi in zip(starts, ends):\n",
    "        img[lo:hi] = 1\n",
    "    return img.reshape(shape)  # Needed to align to RLE direction\n",
    "\n",
    "\n",
    "# ref.: https://www.kaggle.com/stainsby/fast-tested-rle\n",
    "def rle_encode(img):\n",
    "    '''\n",
    "    img: numpy array, 1 - mask, 0 - background\n",
    "    Returns run length as string formated\n",
    "    '''\n",
    "    pixels = img.flatten()\n",
    "    pixels = np.concatenate([[0], pixels, [0]])\n",
    "    runs = np.where(pixels[1:] != pixels[:-1])[0] + 1\n",
    "    runs[1::2] -= runs[::2]\n",
    "    return ' '.join(str(x) for x in runs)\n",
    "\n",
    "#ref: https://www.kaggle.com/code/bguberfain/memory-aware-rle-encoding/notebook\n",
    "def rle_encode_less_memory(img):\n",
    "    '''\n",
    "    img: numpy array, 1 - mask, 0 - background\n",
    "    Returns run length as string formated\n",
    "    This simplified method requires first and last pixel to be zero\n",
    "    '''\n",
    "    pixels = img.T.flatten()\n",
    "    \n",
    "    # This simplified method requires first and last pixel to be zero\n",
    "    pixels[0] = 0\n",
    "    pixels[-1] = 0\n",
    "    runs = np.where(pixels[1:] != pixels[:-1])[0] + 2\n",
    "    runs[1::2] -= runs[::2]\n",
    "    \n",
    "    return ' '.join(str(x) for x in runs)"
   ]
  },
  {
   "cell_type": "code",
   "execution_count": 7,
   "id": "4b1379e5",
   "metadata": {
    "execution": {
     "iopub.execute_input": "2022-06-26T01:00:35.955709Z",
     "iopub.status.busy": "2022-06-26T01:00:35.954303Z",
     "iopub.status.idle": "2022-06-26T01:00:35.961688Z",
     "shell.execute_reply": "2022-06-26T01:00:35.960889Z"
    },
    "papermill": {
     "duration": 0.017001,
     "end_time": "2022-06-26T01:00:35.963603",
     "exception": false,
     "start_time": "2022-06-26T01:00:35.946602",
     "status": "completed"
    },
    "tags": []
   },
   "outputs": [],
   "source": [
    "def read_tiff(path, scale=None, verbose=0): #Modified from https://www.kaggle.com/code/abhinand05/hubmap-extensive-eda-what-are-we-hacking\n",
    "    image = tifffile.imread(path)\n",
    "    if len(image.shape) == 5:\n",
    "        image = image.squeeze().transpose(1, 2, 0)\n",
    "    \n",
    "    if verbose:\n",
    "        print(f\"[{path}] Image shape: {image.shape}\")\n",
    "    \n",
    "    if scale:\n",
    "        new_size = (image.shape[1] // scale, image.shape[0] // scale)\n",
    "        image = cv2.resize(image, new_size)\n",
    "        \n",
    "        if verbose:\n",
    "            print(f\"[{path}] Resized Image shape: {image.shape}\")\n",
    "        \n",
    "    mx = np.max(image)\n",
    "    image = image.astype(np.float32)\n",
    "    if mx:\n",
    "        image /= mx # scale image to [0, 1]\n",
    "    return image"
   ]
  },
  {
   "cell_type": "markdown",
   "id": "38b636c2",
   "metadata": {
    "papermill": {
     "duration": 0.006133,
     "end_time": "2022-06-26T01:00:35.976020",
     "exception": false,
     "start_time": "2022-06-26T01:00:35.969887",
     "status": "completed"
    },
    "tags": []
   },
   "source": [
    "# **Grab Metadata**"
   ]
  },
  {
   "cell_type": "code",
   "execution_count": 8,
   "id": "ccd02c18",
   "metadata": {
    "execution": {
     "iopub.execute_input": "2022-06-26T01:00:35.990763Z",
     "iopub.status.busy": "2022-06-26T01:00:35.989410Z",
     "iopub.status.idle": "2022-06-26T01:00:36.020176Z",
     "shell.execute_reply": "2022-06-26T01:00:36.019106Z"
    },
    "papermill": {
     "duration": 0.040552,
     "end_time": "2022-06-26T01:00:36.022804",
     "exception": false,
     "start_time": "2022-06-26T01:00:35.982252",
     "status": "completed"
    },
    "tags": []
   },
   "outputs": [
    {
     "data": {
      "text/html": [
       "<div>\n",
       "<style scoped>\n",
       "    .dataframe tbody tr th:only-of-type {\n",
       "        vertical-align: middle;\n",
       "    }\n",
       "\n",
       "    .dataframe tbody tr th {\n",
       "        vertical-align: top;\n",
       "    }\n",
       "\n",
       "    .dataframe thead th {\n",
       "        text-align: right;\n",
       "    }\n",
       "</style>\n",
       "<table border=\"1\" class=\"dataframe\">\n",
       "  <thead>\n",
       "    <tr style=\"text-align: right;\">\n",
       "      <th></th>\n",
       "      <th>id</th>\n",
       "      <th>organ</th>\n",
       "      <th>data_source</th>\n",
       "      <th>img_height</th>\n",
       "      <th>img_width</th>\n",
       "      <th>pixel_size</th>\n",
       "      <th>tissue_thickness</th>\n",
       "    </tr>\n",
       "  </thead>\n",
       "  <tbody>\n",
       "    <tr>\n",
       "      <th>0</th>\n",
       "      <td>10078</td>\n",
       "      <td>spleen</td>\n",
       "      <td>Hubmap</td>\n",
       "      <td>2023</td>\n",
       "      <td>2023</td>\n",
       "      <td>0.4945</td>\n",
       "      <td>4</td>\n",
       "    </tr>\n",
       "  </tbody>\n",
       "</table>\n",
       "</div>"
      ],
      "text/plain": [
       "      id   organ data_source  img_height  img_width  pixel_size  \\\n",
       "0  10078  spleen      Hubmap        2023       2023      0.4945   \n",
       "\n",
       "   tissue_thickness  \n",
       "0                 4  "
      ]
     },
     "execution_count": 8,
     "metadata": {},
     "output_type": "execute_result"
    }
   ],
   "source": [
    "df = pd.read_csv(\"../input/hubmap-organ-segmentation/test.csv\")\n",
    "df.head()"
   ]
  },
  {
   "cell_type": "markdown",
   "id": "caa2287b",
   "metadata": {
    "papermill": {
     "duration": 0.006995,
     "end_time": "2022-06-26T01:00:36.036924",
     "exception": false,
     "start_time": "2022-06-26T01:00:36.029929",
     "status": "completed"
    },
    "tags": []
   },
   "source": [
    "# **Data Processing**"
   ]
  },
  {
   "cell_type": "code",
   "execution_count": 9,
   "id": "f3a7d069",
   "metadata": {
    "execution": {
     "iopub.execute_input": "2022-06-26T01:00:36.051340Z",
     "iopub.status.busy": "2022-06-26T01:00:36.051003Z",
     "iopub.status.idle": "2022-06-26T01:00:36.060550Z",
     "shell.execute_reply": "2022-06-26T01:00:36.059575Z"
    },
    "papermill": {
     "duration": 0.018977,
     "end_time": "2022-06-26T01:00:36.062487",
     "exception": false,
     "start_time": "2022-06-26T01:00:36.043510",
     "status": "completed"
    },
    "tags": []
   },
   "outputs": [],
   "source": [
    "df['image_path'] = df['id'].apply(lambda x: os.path.join(CFG.base_path, 'test_images', str(x) + '.tiff'))"
   ]
  },
  {
   "cell_type": "markdown",
   "id": "84e11c8d",
   "metadata": {
    "papermill": {
     "duration": 0.006325,
     "end_time": "2022-06-26T01:00:36.075250",
     "exception": false,
     "start_time": "2022-06-26T01:00:36.068925",
     "status": "completed"
    },
    "tags": []
   },
   "source": [
    "# **Dataset**"
   ]
  },
  {
   "cell_type": "code",
   "execution_count": 10,
   "id": "4ff79c58",
   "metadata": {
    "execution": {
     "iopub.execute_input": "2022-06-26T01:00:36.090114Z",
     "iopub.status.busy": "2022-06-26T01:00:36.089290Z",
     "iopub.status.idle": "2022-06-26T01:00:36.100340Z",
     "shell.execute_reply": "2022-06-26T01:00:36.099477Z"
    },
    "papermill": {
     "duration": 0.020574,
     "end_time": "2022-06-26T01:00:36.102281",
     "exception": false,
     "start_time": "2022-06-26T01:00:36.081707",
     "status": "completed"
    },
    "tags": []
   },
   "outputs": [],
   "source": [
    "class HuBMAP_Dataset(torch.utils.data.Dataset):\n",
    "    def __init__(self, df, labeled=True, transforms=None):\n",
    "        self.df = df\n",
    "        self.labeled = labeled\n",
    "        self.transforms = transforms\n",
    "        \n",
    "    def __len__(self):\n",
    "        return len(self.df)\n",
    "    \n",
    "    def __getitem__(self, index):\n",
    "        img_path = self.df.loc[index, 'image_path']\n",
    "        img_height = self.df.loc[index, 'img_height']\n",
    "        img_width = self.df.loc[index, 'img_width']\n",
    "        id_ = self.df.loc[index, 'id']\n",
    "        img = read_tiff(img_path)\n",
    "        \n",
    "        if self.labeled:\n",
    "            rle_mask = self.df.loc[index, 'rle']\n",
    "            mask = rle_decode(rle_mask, (img_height, img_width))\n",
    "            \n",
    "            if self.transforms:\n",
    "                data = self.transforms(image=img, mask=mask)\n",
    "                img  = data['image']\n",
    "                mask  = data['mask']\n",
    "            \n",
    "            mask = np.expand_dims(mask, axis=0)\n",
    "            img = np.transpose(img, (2, 0, 1))\n",
    "#             mask = np.transpose(mask, (2, 0, 1))\n",
    "            \n",
    "            return torch.tensor(img), torch.tensor(mask)\n",
    "        \n",
    "        else:\n",
    "            if self.transforms:\n",
    "                data = self.transforms(image=img)\n",
    "                img  = data['image']\n",
    "                \n",
    "            img = np.transpose(img, (2, 0, 1))\n",
    "            \n",
    "            return torch.tensor(img), img_height, img_width, id_"
   ]
  },
  {
   "cell_type": "markdown",
   "id": "b9267ccd",
   "metadata": {
    "papermill": {
     "duration": 0.006487,
     "end_time": "2022-06-26T01:00:36.115364",
     "exception": false,
     "start_time": "2022-06-26T01:00:36.108877",
     "status": "completed"
    },
    "tags": []
   },
   "source": [
    "# **Augmentations**"
   ]
  },
  {
   "cell_type": "code",
   "execution_count": 11,
   "id": "ad587e6d",
   "metadata": {
    "execution": {
     "iopub.execute_input": "2022-06-26T01:00:36.129548Z",
     "iopub.status.busy": "2022-06-26T01:00:36.129255Z",
     "iopub.status.idle": "2022-06-26T01:00:36.134054Z",
     "shell.execute_reply": "2022-06-26T01:00:36.133057Z"
    },
    "papermill": {
     "duration": 0.014541,
     "end_time": "2022-06-26T01:00:36.136295",
     "exception": false,
     "start_time": "2022-06-26T01:00:36.121754",
     "status": "completed"
    },
    "tags": []
   },
   "outputs": [],
   "source": [
    "data_transforms = {\n",
    "    \"inference\": A.Compose([\n",
    "        A.Resize(*CFG.img_size, interpolation=cv2.INTER_NEAREST),\n",
    "        ], p=1.0)\n",
    "}"
   ]
  },
  {
   "cell_type": "markdown",
   "id": "6b113fde",
   "metadata": {
    "papermill": {
     "duration": 0.006283,
     "end_time": "2022-06-26T01:00:36.149025",
     "exception": false,
     "start_time": "2022-06-26T01:00:36.142742",
     "status": "completed"
    },
    "tags": []
   },
   "source": [
    "# **Models**"
   ]
  },
  {
   "cell_type": "code",
   "execution_count": 12,
   "id": "1a2d6751",
   "metadata": {
    "execution": {
     "iopub.execute_input": "2022-06-26T01:00:36.163329Z",
     "iopub.status.busy": "2022-06-26T01:00:36.162580Z",
     "iopub.status.idle": "2022-06-26T01:00:36.168799Z",
     "shell.execute_reply": "2022-06-26T01:00:36.167941Z"
    },
    "papermill": {
     "duration": 0.015305,
     "end_time": "2022-06-26T01:00:36.170704",
     "exception": false,
     "start_time": "2022-06-26T01:00:36.155399",
     "status": "completed"
    },
    "tags": []
   },
   "outputs": [],
   "source": [
    "def build_model():\n",
    "    model = smp.Unet(\n",
    "        encoder_name=CFG.backbone,      \n",
    "        encoder_weights=None,     \n",
    "        in_channels=3,                  \n",
    "        classes=CFG.num_classes,\n",
    "        activation=None,\n",
    "    )\n",
    "    model.to(CFG.device)\n",
    "    return model\n",
    "\n",
    "def load_model(path):\n",
    "    model = build_model()\n",
    "    model.load_state_dict(torch.load(path))\n",
    "    model.eval()\n",
    "    return model"
   ]
  },
  {
   "cell_type": "markdown",
   "id": "a484de5a",
   "metadata": {
    "papermill": {
     "duration": 0.006486,
     "end_time": "2022-06-26T01:00:36.183573",
     "exception": false,
     "start_time": "2022-06-26T01:00:36.177087",
     "status": "completed"
    },
    "tags": []
   },
   "source": [
    "# **Dataloader**"
   ]
  },
  {
   "cell_type": "code",
   "execution_count": 13,
   "id": "f3c8a545",
   "metadata": {
    "execution": {
     "iopub.execute_input": "2022-06-26T01:00:36.198068Z",
     "iopub.status.busy": "2022-06-26T01:00:36.197790Z",
     "iopub.status.idle": "2022-06-26T01:00:36.203203Z",
     "shell.execute_reply": "2022-06-26T01:00:36.202216Z"
    },
    "papermill": {
     "duration": 0.014769,
     "end_time": "2022-06-26T01:00:36.205220",
     "exception": false,
     "start_time": "2022-06-26T01:00:36.190451",
     "status": "completed"
    },
    "tags": []
   },
   "outputs": [],
   "source": [
    "def prepare_loaders():\n",
    "\n",
    "    infer_dataset = HuBMAP_Dataset(df, labeled=False, transforms=data_transforms['inference'])\n",
    "\n",
    "    infer_loader = torch.utils.data.DataLoader(infer_dataset, batch_size=CFG.batch_size,\n",
    "                              num_workers=CFG.num_workers, shuffle=False, pin_memory=True, drop_last=False)\n",
    "    \n",
    "    return infer_loader"
   ]
  },
  {
   "cell_type": "markdown",
   "id": "0548e090",
   "metadata": {
    "papermill": {
     "duration": 0.006265,
     "end_time": "2022-06-26T01:00:36.217893",
     "exception": false,
     "start_time": "2022-06-26T01:00:36.211628",
     "status": "completed"
    },
    "tags": []
   },
   "source": [
    "# **Inference**"
   ]
  },
  {
   "cell_type": "code",
   "execution_count": 14,
   "id": "e17ba376",
   "metadata": {
    "execution": {
     "iopub.execute_input": "2022-06-26T01:00:36.232347Z",
     "iopub.status.busy": "2022-06-26T01:00:36.231571Z",
     "iopub.status.idle": "2022-06-26T01:00:47.444692Z",
     "shell.execute_reply": "2022-06-26T01:00:47.443543Z"
    },
    "papermill": {
     "duration": 11.223122,
     "end_time": "2022-06-26T01:00:47.447405",
     "exception": false,
     "start_time": "2022-06-26T01:00:36.224283",
     "status": "completed"
    },
    "tags": []
   },
   "outputs": [],
   "source": [
    "infer_loader = prepare_loaders()\n",
    "model = load_model(CFG.ckpt_path)\n",
    "\n",
    "pred_ids = []\n",
    "pred_rles = []\n",
    "with torch.no_grad():\n",
    "    for (images, heights, widths, ids) in infer_loader:\n",
    "        images = images.to(CFG.device)\n",
    "        output = model(images)\n",
    "        output = nn.Sigmoid()(output)\n",
    "        msks = (output.permute((0,2,3,1))>CFG.threshold).to(torch.uint8).cpu().detach().numpy()\n",
    "\n",
    "        for idx in range(msks.shape[0]):\n",
    "            height = heights[idx].item()\n",
    "            width = widths[idx].item()\n",
    "            id_ = ids[idx].item()\n",
    "            msk = cv2.resize(msks[idx].squeeze(), \n",
    "                             dsize=(width, height), \n",
    "                             interpolation=cv2.INTER_NEAREST)\n",
    "            rle = rle_encode_less_memory(msk)\n",
    "            pred_rles.append(rle)\n",
    "            pred_ids.append(id_)\n",
    "\n",
    "        gc.collect()\n",
    "        torch.cuda.empty_cache()"
   ]
  },
  {
   "cell_type": "code",
   "execution_count": 15,
   "id": "f557b0a8",
   "metadata": {
    "execution": {
     "iopub.execute_input": "2022-06-26T01:00:47.462562Z",
     "iopub.status.busy": "2022-06-26T01:00:47.461907Z",
     "iopub.status.idle": "2022-06-26T01:00:47.468312Z",
     "shell.execute_reply": "2022-06-26T01:00:47.467333Z"
    },
    "papermill": {
     "duration": 0.016119,
     "end_time": "2022-06-26T01:00:47.470493",
     "exception": false,
     "start_time": "2022-06-26T01:00:47.454374",
     "status": "completed"
    },
    "tags": []
   },
   "outputs": [
    {
     "data": {
      "text/plain": [
       "1"
      ]
     },
     "execution_count": 15,
     "metadata": {},
     "output_type": "execute_result"
    }
   ],
   "source": [
    "len(pred_rles)"
   ]
  },
  {
   "cell_type": "code",
   "execution_count": 16,
   "id": "dbfeaa81",
   "metadata": {
    "execution": {
     "iopub.execute_input": "2022-06-26T01:00:47.485788Z",
     "iopub.status.busy": "2022-06-26T01:00:47.484975Z",
     "iopub.status.idle": "2022-06-26T01:00:47.499247Z",
     "shell.execute_reply": "2022-06-26T01:00:47.498282Z"
    },
    "papermill": {
     "duration": 0.024073,
     "end_time": "2022-06-26T01:00:47.501140",
     "exception": false,
     "start_time": "2022-06-26T01:00:47.477067",
     "status": "completed"
    },
    "tags": []
   },
   "outputs": [
    {
     "data": {
      "text/html": [
       "<div>\n",
       "<style scoped>\n",
       "    .dataframe tbody tr th:only-of-type {\n",
       "        vertical-align: middle;\n",
       "    }\n",
       "\n",
       "    .dataframe tbody tr th {\n",
       "        vertical-align: top;\n",
       "    }\n",
       "\n",
       "    .dataframe thead th {\n",
       "        text-align: right;\n",
       "    }\n",
       "</style>\n",
       "<table border=\"1\" class=\"dataframe\">\n",
       "  <thead>\n",
       "    <tr style=\"text-align: right;\">\n",
       "      <th></th>\n",
       "      <th>id</th>\n",
       "      <th>rle</th>\n",
       "    </tr>\n",
       "  </thead>\n",
       "  <tbody>\n",
       "    <tr>\n",
       "      <th>0</th>\n",
       "      <td>10078</td>\n",
       "      <td>168950 8 168973 28 169005 8 170973 8 170996 28...</td>\n",
       "    </tr>\n",
       "  </tbody>\n",
       "</table>\n",
       "</div>"
      ],
      "text/plain": [
       "      id                                                rle\n",
       "0  10078  168950 8 168973 28 169005 8 170973 8 170996 28..."
      ]
     },
     "metadata": {},
     "output_type": "display_data"
    }
   ],
   "source": [
    "pred_df = pd.DataFrame({\n",
    "    \"id\":pred_ids,\n",
    "    \"rle\":pred_rles\n",
    "})\n",
    "pred_df.to_csv('submission.csv',index=False)\n",
    "display(pred_df.head(5))"
   ]
  },
  {
   "cell_type": "code",
   "execution_count": null,
   "id": "fdd2b07b",
   "metadata": {
    "papermill": {
     "duration": 0.006462,
     "end_time": "2022-06-26T01:00:47.514440",
     "exception": false,
     "start_time": "2022-06-26T01:00:47.507978",
     "status": "completed"
    },
    "tags": []
   },
   "outputs": [],
   "source": []
  }
 ],
 "metadata": {
  "kernelspec": {
   "display_name": "Python 3",
   "language": "python",
   "name": "python3"
  },
  "language_info": {
   "codemirror_mode": {
    "name": "ipython",
    "version": 3
   },
   "file_extension": ".py",
   "mimetype": "text/x-python",
   "name": "python",
   "nbconvert_exporter": "python",
   "pygments_lexer": "ipython3",
   "version": "3.6.9"
  },
  "papermill": {
   "default_parameters": {},
   "duration": 76.319463,
   "end_time": "2022-06-26T01:00:50.376412",
   "environment_variables": {},
   "exception": null,
   "input_path": "__notebook__.ipynb",
   "output_path": "__notebook__.ipynb",
   "parameters": {},
   "start_time": "2022-06-26T00:59:34.056949",
   "version": "2.3.4"
  }
 },
 "nbformat": 4,
 "nbformat_minor": 5
}
