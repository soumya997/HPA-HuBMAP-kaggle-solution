{
 "cells": [
  {
   "cell_type": "code",
   "execution_count": 1,
   "metadata": {},
   "outputs": [],
   "source": [
    "# https://www.kaggle.com/code/bguberfain/elastic-transform-for-data-augmentation/notebook\n",
    "# https://gist.github.com/erniejunior/601cdf56d2b424757de5\n",
    "import warnings\n",
    "warnings.filterwarnings('ignore')\n",
    "import time\n",
    "import random\n",
    "import numpy as np # linear algebra\n",
    "import pandas as pd # data processing, CSV file I/O (e.g. pd.read_csv)\n",
    "import skimage.io\n",
    "from skimage import color\n",
    "from skimage import io\n",
    "import glob\n",
    "import cv2\n",
    "from scipy.ndimage.interpolation import map_coordinates\n",
    "from scipy.ndimage.filters import gaussian_filter\n",
    "import matplotlib.pyplot as plt\n",
    "import staintools\n",
    "from tqdm import tqdm\n",
    "import tifffile\n",
    "import sys\n",
    "import os\n",
    "import numpy as np\n",
    "from scipy import interpolate\n",
    "from scipy.ndimage import morphology\n",
    "from scipy.stats import multivariate_normal\n",
    "from PIL import Image, ImageDraw\n",
    "from cv2 import GaussianBlur, blur, getPerspectiveTransform, warpPerspective\n",
    "from hashlib import blake2s\n",
    "import imgaug as ia\n",
    "import imgaug.augmenters as iaa\n",
    "from deconvolution import Deconvolution\n",
    "import deconvolution.pixeloperations as po\n",
    "from albumentations.augmentations.transforms import HorizontalFlip\n",
    "from albumentations.augmentations.transforms import VerticalFlip\n",
    "from albumentations.augmentations.transforms import Transpose\n",
    "import torch\n",
    "from torch import nn\n",
    "import torch.cuda.amp as amp\n",
    "from torch.utils.data import Dataset\n",
    "from torch.utils.data import DataLoader\n",
    "from torch.utils.data import RandomSampler \n",
    "from torch.utils.data import SequentialSampler\n",
    "import torch.nn.functional as F\n",
    "from torch.optim.lr_scheduler import StepLR\n",
    "import tifffile\n",
    "from fastai.vision.all import *\n",
    "import Augmentor\n",
    "\n",
    "from collections import defaultdict\n",
    "sys.path.append(\"/home/lakshita/somusan/hubmap_kaggle/hubmap_data/histopath_failure_modes\")\n",
    "from image_manipulation import img_manip"
   ]
  },
  {
   "cell_type": "code",
   "execution_count": 2,
   "metadata": {},
   "outputs": [
    {
     "data": {
      "text/plain": [
       "(48,\n",
       " kidney            99\n",
       " prostate          93\n",
       " largeintestine    58\n",
       " spleen            53\n",
       " lung              48\n",
       " Name: organ, dtype: int64)"
      ]
     },
     "execution_count": 2,
     "metadata": {},
     "output_type": "execute_result"
    }
   ],
   "source": [
    "TRAIN_CSV = \"/home/lakshita/somusan/hubmap_kaggle/hubmap_data/hubmap-organ-segmentation/train.csv\"\n",
    "df = pd.read_csv(TRAIN_CSV)\n",
    "\n",
    "df_lung = df[df['organ'] == 'lung'].reset_index()\n",
    "df_lung.__len__(), df['organ'].value_counts()"
   ]
  },
  {
   "cell_type": "code",
   "execution_count": 18,
   "metadata": {},
   "outputs": [],
   "source": [
    "def rle_decode(mask_rle, shape):\n",
    "    '''\n",
    "    mask_rle: run-length as string formated (start length)\n",
    "    shape: (height,width) of array to return \n",
    "    Returns numpy array, 1 - mask, 0 - background\n",
    "\n",
    "    '''\n",
    "    s = mask_rle.split()\n",
    "    starts, lengths = [np.asarray(x, dtype=int) for x in (s[0:][::2], s[1:][::2])]\n",
    "    starts -= 1\n",
    "    ends = starts + lengths\n",
    "    img = np.zeros(shape[0]*shape[1], dtype=np.uint8)\n",
    "    for lo, hi in zip(starts, ends):\n",
    "        img[lo:hi] = 1\n",
    "    return img.reshape(shape).T\n",
    "\n",
    "# ref.: https://www.kaggle.com/stainsby/fast-tested-rle\n",
    "def rle_encode(img):\n",
    "    '''\n",
    "    img: numpy array, 1 - mask, 0 - background\n",
    "    Returns run length as string formated\n",
    "    '''\n",
    "    pixels = img.flatten()\n",
    "    pixels = np.concatenate([[0], pixels, [0]])\n",
    "    runs = np.where(pixels[1:] != pixels[:-1])[0] + 1\n",
    "    runs[1::2] -= runs[::2]\n",
    "    return ' '.join(str(x) for x in runs)"
   ]
  },
  {
   "cell_type": "code",
   "execution_count": 4,
   "metadata": {},
   "outputs": [],
   "source": [
    "def horizontal_flip(image, mask):\n",
    "\n",
    "    transform = HorizontalFlip(p=1.0)\n",
    "    augmented_image = transform(image=image, mask=mask)\n",
    "    image  = augmented_image['image']\n",
    "    mask  = augmented_image['mask']\n",
    "    return image, mask\n",
    "\n",
    "def vertical_flip(image, mask):\n",
    "\n",
    "    transform = VerticalFlip(p=1.0)\n",
    "    augmented_image = transform(image=image, mask=mask)\n",
    "    image  = augmented_image['image']\n",
    "    mask  = augmented_image['mask']\n",
    "    return image, mask\n",
    "\n",
    "\n",
    "def bubble_aug(image, mask):\n",
    "\n",
    "    im_pil = Image.fromarray(image)\n",
    "    img_with_bubbles = img_manip.add_bubbles(im_pil, alpha=0.55, maxWidth = 120, nBubbles = 150)\n",
    "    image = np.array(img_with_bubbles)\n",
    "\n",
    "    return image, mask\n",
    "\n",
    "\n",
    "def stain_aug(image, mask):\n",
    "\n",
    "    im_pil = Image.fromarray(image)\n",
    "    image_with_stain = img_manip.add_stain(im_pil, adjFactor = [1.5, 0.2, 1.0],scaleMax = [3,3,1.5], scaleMin = [1.25,1.25,1],random_seed = None)\n",
    "    image = np.array(image_with_stain)\n",
    "\n",
    "    return image, mask\n",
    "\n",
    "def sectioning_aug(image, mask):\n",
    "\n",
    "    im_pil = Image.fromarray(image)\n",
    "    image_with_sectioning = img_manip.add_sectioning(im_pil,endEdge = 2, nPts=2)\n",
    "    image = np.array(image_with_sectioning)\n",
    "\n",
    "    return image, mask\n",
    "\n",
    "def clahe_aug(image, mask):\n",
    "    \n",
    "    h,w= mask.shape\n",
    "\n",
    "    seq = iaa.Sequential([\n",
    "        iaa.AllChannelsCLAHE(clip_limit=(1, 10))\n",
    "    ], random_order=True)\n",
    "\n",
    "    image, segmaps = seq(image=image, segmentation_maps=mask.reshape(1,h,w,1))\n",
    "    segmaps = segmaps.reshape(h,w)\n",
    "\n",
    "    return image, segmaps\n",
    "\n",
    "def transpose_flip(image, mask):\n",
    "    transform = Transpose(p=1.0)\n",
    "    augmented_image = transform(image=image, mask=mask)\n",
    "    image  = augmented_image['image']\n",
    "    mask  = augmented_image['mask']\n",
    "    return image, mask\n",
    "\n",
    "def image_ditails(image, message):\n",
    "    \n",
    "    print(\"\\n =----------------------------\")\n",
    "    print(message)\n",
    "    print(\"image type\",type(image))\n",
    "    print(\"image dtype\",image.dtype)\n",
    "    print(\"shape\",image.shape)\n",
    "    print(\"\\n =----------------------------=\")\n",
    "    \n",
    "\n",
    "def elastic_deform(image, mask):\n",
    "    \"\"\"\n",
    "    i/p image shape: (3000,3000,3)\n",
    "    i/p mask shape: (3000,3000,1)\n",
    "\n",
    "    o/p image shape: (3000,3000,3)\n",
    "    o/p mask shape: (3000,3000,1)\n",
    "    \"\"\"\n",
    "    \n",
    "    p = Augmentor.DataPipeline([[np.array(image),np.array(mask)]])\n",
    "\n",
    "    p.shear(1, max_shear_left = 3, max_shear_right = 3)\n",
    "    p.skew(0.4, 0.5)\n",
    "\n",
    "    \n",
    "    images_aug = p.sample(1)\n",
    "    \n",
    "    augmented_image = images_aug[0][0]\n",
    "    augmented_mask = images_aug[0][1]\n",
    "    # print(\"inside elastic deform\", augmented_mask.shape)\n",
    "    # print(\"inside elastic deform\", augmented_image.shape)\n",
    "\n",
    "    return augmented_image, augmented_mask"
   ]
  },
  {
   "cell_type": "code",
   "execution_count": 5,
   "metadata": {},
   "outputs": [],
   "source": [
    "image_size = 512\n",
    "TRAIN = '/home/lakshita/somusan/hubmap_kaggle/nbs/hubmap-22-aug-pixel-size'\n",
    "class HubmapDataset(Dataset):\n",
    "    def __init__(self, df, augment=None):\n",
    "\n",
    "        self.df = df\n",
    "        self.augment = augment\n",
    "        self.length = len(self.df)\n",
    "        self.organ_to_label = {'kidney' : 0,\n",
    "                               'prostate' : 1,\n",
    "                               'largeintestine' : 2,\n",
    "                               'spleen' : 3,\n",
    "                               'lung' : 4}\n",
    "\n",
    "    def __str__(self):\n",
    "        string = ''\n",
    "        string += '\\tlen = %d\\n' % len(self)\n",
    "\n",
    "        d = self.df.organ.value_counts().to_dict()\n",
    "        for k in ['kidney', 'prostate', 'largeintestine', 'spleen', 'lung']:\n",
    "            string +=  '%24s %3d (%0.3f) \\n'%(k, d.get(k,0), d.get(k,0)/len(self.df))\n",
    "        return string\n",
    "\n",
    "    def __len__(self):\n",
    "        return self.length\n",
    "\n",
    "    def __getitem__(self, index):\n",
    "        d = self.df.iloc[index]\n",
    "        img_height = self.df.loc[index, 'img_height']\n",
    "        img_width = self.df.loc[index, 'img_width']\n",
    "        organ = self.organ_to_label[d.organ]\n",
    "\n",
    "        image = cv2.cvtColor(cv2.imread(os.path.join(TRAIN, f'{d.id}.png')), cv2.COLOR_BGR2RGB).astype(np.uint8)\n",
    "        \n",
    "        rle_mask = self.df.loc[index, 'rle']\n",
    "        mask = rle_decode(rle_mask, (img_height, img_width)).astype(np.uint8)\n",
    "        # mask = np.expand_dims(mask, axis = 2)\n",
    "\n",
    "        if self.augment is not None:\n",
    "            image, mask = self.augment(image, mask, organ)\n",
    "\n",
    "        # mask = np.expand_dims(mask, axis = 0)\n",
    "        # print(\"inside dataclass\")\n",
    "        # print(image.shape, mask.shape)\n",
    "        r ={}\n",
    "        r['index']= index\n",
    "        r['image'] = image\n",
    "        r['mask' ] = mask\n",
    "        r['id'] = d.id\n",
    "\n",
    "        return r"
   ]
  },
  {
   "cell_type": "code",
   "execution_count": 6,
   "metadata": {},
   "outputs": [],
   "source": [
    "def train_augment5b(image, mask, organ):\n",
    "    \n",
    "    for fn in np.random.choice([\n",
    "        lambda image, mask: (image, mask),\n",
    "        lambda image, mask: horizontal_flip(image, mask),\n",
    "        lambda image, mask: transpose_flip(image, mask),\n",
    "        lambda image, mask: vertical_flip(image, mask),\n",
    "    ], 2, p=[0.1,0.3, 0.3, 0.3]): image, mask = fn(image, mask)\n",
    "\n",
    "    for fn in np.random.choice([\n",
    "        lambda image, mask: (image, mask),\n",
    "        lambda image, mask: elastic_deform(image, mask),\n",
    "    ], 1, p=[0.25, 0.75]): image, mask = fn(image, mask)\n",
    "\n",
    "\n",
    "    for fn in np.random.choice([\n",
    "        lambda image, mask: (image, mask),\n",
    "        lambda image, mask: clahe_aug(image, mask),\n",
    "        lambda image, mask: sectioning_aug(image, mask),\n",
    "        lambda image, mask: stain_aug(image, mask),\n",
    "    ], 2, p=[0.35, 0.15, 0.3, 0.2]): image, mask = fn(image, mask)\n",
    "\n",
    "    for fn in np.random.choice([\n",
    "        lambda image, mask: (image, mask),\n",
    "        lambda image, mask: bubble_aug(image, mask),\n",
    "    ], 1, p=[0.4, 0.6]): image, mask = fn(image, mask)\n",
    "\n",
    "    return image, mask"
   ]
  },
  {
   "cell_type": "code",
   "execution_count": 7,
   "metadata": {},
   "outputs": [],
   "source": [
    "df = pd.read_csv(\"/home/lakshita/somusan/hubmap_kaggle/hubmap_data/hubmap-organ-segmentation/train.csv\")\n",
    "df = df[df['organ']=='lung'].reset_index()\n",
    "train_dataset = HubmapDataset(df, train_augment5b)\n",
    "\n",
    "\n",
    "# train_loader = torch.utils.data.DataLoader(\n",
    "#                dataset=train_dataset,\n",
    "#                batch_size=4,\n",
    "#                shuffle=False,\n",
    "#                num_workers=2)"
   ]
  },
  {
   "cell_type": "code",
   "execution_count": 8,
   "metadata": {},
   "outputs": [
    {
     "name": "stderr",
     "output_type": "stream",
     "text": [
      "100%|██████████| 40/40 [3:40:45<00:00, 331.13s/it]  \n"
     ]
    }
   ],
   "source": [
    "# img_ = train_dataset[0]['image']\n",
    "# mask_ = train_dataset[0]['mask']\n",
    "# img_.shape, mask_.shape\n",
    "from tqdm import tqdm\n",
    "\n",
    "dir = \"/home/lakshita/somusan/hubmap_kaggle/nbs/hubmap-22-aug-pixel-size\"\n",
    "\n",
    "dest_dir_img = '/home/lakshita/somusan/hubmap_kaggle/nbs/aug_lung_data/image'\n",
    "dest_dir_mask = '/home/lakshita/somusan/hubmap_kaggle/nbs/aug_lung_data/mask'\n",
    "\n",
    "os.makedirs(dest_dir_img, exist_ok=True) \n",
    "os.makedirs(dest_dir_mask, exist_ok=True) \n",
    "\n",
    "\n",
    "\n",
    "lung_idx = [i for i in range(len(df))]\n",
    "for idx in tqdm(np.random.choice(lung_idx, 40)):\n",
    "    img_ = train_dataset[idx]['image']\n",
    "    mask_ = train_dataset[idx]['mask']\n",
    "    id_ = train_dataset[idx]['id']\n",
    "\n",
    "    fname_img = dest_dir_img + \"/\" + str(id_) + \".png\"\n",
    "    fname_mask = dest_dir_mask + \"/\" + str(id_) + \".png\"\n",
    "\n",
    "    cv2.imwrite(fname_img, img_)\n",
    "    cv2.imwrite(fname_mask, mask_)\n",
    "\n",
    "    # plt.figure(figsize=(14,16))\n",
    "    # plt.imshow(img_);plt.imshow(mask_, alpha=0.3)\n",
    "    # plt.show()"
   ]
  },
  {
   "cell_type": "markdown",
   "metadata": {},
   "source": [
    "### Image Name Fix:\n",
    "- name fix\n",
    "- add new ids to the csv"
   ]
  },
  {
   "cell_type": "code",
   "execution_count": 9,
   "metadata": {},
   "outputs": [
    {
     "name": "stderr",
     "output_type": "stream",
     "text": [
      "32it [00:00, 11961.30it/s]\n"
     ]
    }
   ],
   "source": [
    "\"\"\"\n",
    "take 1 img, take its index and file name, then new name = file_name + index\n",
    "\"\"\"\n",
    "import os\n",
    "import glob\n",
    "from tqdm import tqdm\n",
    "\n",
    "# os.mkdirs(\"/home/lakshita/somusan/hubmap_kaggle/nbs/aug_lung_data/img\")\n",
    "img_file = \"/home/lakshita/somusan/hubmap_kaggle/nbs/aug_lung_data/image\"\n",
    "msk_file = \"/home/lakshita/somusan/hubmap_kaggle/nbs/aug_lung_data/mask\"\n",
    "for idx, (img_, msk_) in tqdm(enumerate(zip(glob.glob(img_file+\"/*\"), glob.glob(msk_file+\"/*\")))):\n",
    "    new_id = img_.split('/')[-1].split(\".\")[0] + str(idx)\n",
    "    new_img = img_file + \"/\" + new_id + \".png\"\n",
    "    new_msk = msk_file + \"/\" + new_id + \".png\"\n",
    "\n",
    "    os.rename(img_,new_img) \n",
    "    os.rename(msk_,new_msk) \n",
    "    \n",
    "\n",
    "\n",
    "# deleted 823101"
   ]
  },
  {
   "cell_type": "code",
   "execution_count": 38,
   "metadata": {},
   "outputs": [],
   "source": [
    "import pandas as pd\n",
    "import glob\n",
    "import os\n",
    "import cv2\n",
    "import numpy as np\n",
    "\n",
    "\n",
    "img_file = \"/home/lakshita/somusan/hubmap_kaggle/nbs/aug_lung_data/image\"\n",
    "msk_file = \"/home/lakshita/somusan/hubmap_kaggle/nbs/aug_lung_data/mask\"\n",
    "\n",
    "total_msk_paths = glob.glob(msk_file+\"/*\")\n",
    "total_img_paths = glob.glob(img_file+\"/*\")\n",
    "\n",
    "data_source = [\"HPA\" for i in range(len(total_img_paths))]\n",
    "img_height = [cv2.imread(i).shape[0] for i in total_img_paths]\n",
    "img_width = [cv2.imread(i).shape[1] for i in total_img_paths]\n",
    "pixel_size = [0.4 for i in range(len(total_img_paths))]\n",
    "tissue_thickness = [4 for i in range(len(total_img_paths))]\n",
    "age = [22.0 for i in range(len(total_img_paths))]\n",
    "sex = [\"Male\" for i in range(len(total_img_paths))]\n",
    "organ = [\"lung\" for i in range(len(total_img_paths))]\n",
    "id_ = []\n",
    "for i in total_img_paths:\n",
    "    id_.append(int(i.split(\"/\")[-1].split('.')[0]))\n",
    "    \n",
    "rle = [rle_encode(cv2.imread(total_msk_paths[i],0)) for i in range(len(total_img_paths))]"
   ]
  },
  {
   "cell_type": "code",
   "execution_count": 52,
   "metadata": {},
   "outputs": [
    {
     "data": {
      "text/html": [
       "<div>\n",
       "<style scoped>\n",
       "    .dataframe tbody tr th:only-of-type {\n",
       "        vertical-align: middle;\n",
       "    }\n",
       "\n",
       "    .dataframe tbody tr th {\n",
       "        vertical-align: top;\n",
       "    }\n",
       "\n",
       "    .dataframe thead th {\n",
       "        text-align: right;\n",
       "    }\n",
       "</style>\n",
       "<table border=\"1\" class=\"dataframe\">\n",
       "  <thead>\n",
       "    <tr style=\"text-align: right;\">\n",
       "      <th></th>\n",
       "      <th>id</th>\n",
       "      <th>organ</th>\n",
       "      <th>data_source</th>\n",
       "      <th>img_height</th>\n",
       "      <th>img_width</th>\n",
       "      <th>pixel_size</th>\n",
       "      <th>tissue_thickness</th>\n",
       "      <th>rle</th>\n",
       "      <th>age</th>\n",
       "      <th>sex</th>\n",
       "    </tr>\n",
       "  </thead>\n",
       "  <tbody>\n",
       "    <tr>\n",
       "      <th>0</th>\n",
       "      <td>311399</td>\n",
       "      <td>lung</td>\n",
       "      <td>HPA</td>\n",
       "      <td>3000</td>\n",
       "      <td>3000</td>\n",
       "      <td>0.4</td>\n",
       "      <td>4</td>\n",
       "      <td>1345440 2 1348438 2 1348442 1 1351436 2 135143...</td>\n",
       "      <td>22.0</td>\n",
       "      <td>Male</td>\n",
       "    </tr>\n",
       "    <tr>\n",
       "      <th>1</th>\n",
       "      <td>50867</td>\n",
       "      <td>lung</td>\n",
       "      <td>HPA</td>\n",
       "      <td>3000</td>\n",
       "      <td>3000</td>\n",
       "      <td>0.4</td>\n",
       "      <td>4</td>\n",
       "      <td>2200408 26 2203404 36 2206397 48 2209396 53 22...</td>\n",
       "      <td>22.0</td>\n",
       "      <td>Male</td>\n",
       "    </tr>\n",
       "    <tr>\n",
       "      <th>2</th>\n",
       "      <td>12204</td>\n",
       "      <td>lung</td>\n",
       "      <td>HPA</td>\n",
       "      <td>3000</td>\n",
       "      <td>3000</td>\n",
       "      <td>0.4</td>\n",
       "      <td>4</td>\n",
       "      <td>5240485 2 5240489 2 5243484 13 5246483 15 5249...</td>\n",
       "      <td>22.0</td>\n",
       "      <td>Male</td>\n",
       "    </tr>\n",
       "    <tr>\n",
       "      <th>3</th>\n",
       "      <td>2325210</td>\n",
       "      <td>lung</td>\n",
       "      <td>HPA</td>\n",
       "      <td>3000</td>\n",
       "      <td>3000</td>\n",
       "      <td>0.4</td>\n",
       "      <td>4</td>\n",
       "      <td>1483636 14 1486636 15 1489633 3 1489637 12 148...</td>\n",
       "      <td>22.0</td>\n",
       "      <td>Male</td>\n",
       "    </tr>\n",
       "    <tr>\n",
       "      <th>4</th>\n",
       "      <td>187828</td>\n",
       "      <td>lung</td>\n",
       "      <td>HPA</td>\n",
       "      <td>3000</td>\n",
       "      <td>3000</td>\n",
       "      <td>0.4</td>\n",
       "      <td>4</td>\n",
       "      <td>1685219 4 1688218 6 1691216 8 1694214 11 16972...</td>\n",
       "      <td>22.0</td>\n",
       "      <td>Male</td>\n",
       "    </tr>\n",
       "  </tbody>\n",
       "</table>\n",
       "</div>"
      ],
      "text/plain": [
       "        id organ data_source  img_height  img_width  pixel_size  \\\n",
       "0   311399  lung         HPA        3000       3000         0.4   \n",
       "1    50867  lung         HPA        3000       3000         0.4   \n",
       "2    12204  lung         HPA        3000       3000         0.4   \n",
       "3  2325210  lung         HPA        3000       3000         0.4   \n",
       "4   187828  lung         HPA        3000       3000         0.4   \n",
       "\n",
       "   tissue_thickness                                                rle   age  \\\n",
       "0                 4  1345440 2 1348438 2 1348442 1 1351436 2 135143...  22.0   \n",
       "1                 4  2200408 26 2203404 36 2206397 48 2209396 53 22...  22.0   \n",
       "2                 4  5240485 2 5240489 2 5243484 13 5246483 15 5249...  22.0   \n",
       "3                 4  1483636 14 1486636 15 1489633 3 1489637 12 148...  22.0   \n",
       "4                 4  1685219 4 1688218 6 1691216 8 1694214 11 16972...  22.0   \n",
       "\n",
       "    sex  \n",
       "0  Male  \n",
       "1  Male  \n",
       "2  Male  \n",
       "3  Male  \n",
       "4  Male  "
      ]
     },
     "execution_count": 52,
     "metadata": {},
     "output_type": "execute_result"
    }
   ],
   "source": [
    "df = pd.read_csv(\"/home/lakshita/somusan/hubmap_kaggle/hubmap_data/hubmap-organ-segmentation/train.csv\")\n",
    "# df.head()\n",
    "\n",
    "lung_df_dict = {\n",
    "    \"id\": id_,\n",
    "    \"organ\": organ,\n",
    "    \"data_source\": data_source,\n",
    "    \"img_height\": img_height,\n",
    "    \"img_width\": img_width,\n",
    "    \"pixel_size\": pixel_size,\n",
    "    \"tissue_thickness\": tissue_thickness,\n",
    "    \"rle\": rle,\n",
    "    \"age\": age,\n",
    "    \"sex\":sex\n",
    "}\n",
    "\n",
    "df_lung = pd.DataFrame.from_dict(lung_df_dict)\n",
    "# df_lung.drop('Unnamed: 0', axis=0, inplace=True) \n",
    "# df_lung.head()\n",
    "\n",
    "df_lung.to_csv('/home/lakshita/somusan/hubmap_kaggle/nbs/aug_lung_data/aug_lung.csv', index=False)\n",
    "\n",
    "df_temp  = pd.read_csv(\"/home/lakshita/somusan/hubmap_kaggle/nbs/aug_lung_data/aug_lung.csv\")\n",
    "df_temp.head()"
   ]
  },
  {
   "cell_type": "code",
   "execution_count": 53,
   "metadata": {},
   "outputs": [],
   "source": [
    "df = pd.read_csv(\"/home/lakshita/somusan/hubmap_kaggle/hubmap_data/hubmap-organ-segmentation/train.csv\")\n",
    "df_3 = pd.concat([df, df_lung], axis=0)\n",
    "df_3.to_csv('/home/lakshita/somusan/hubmap_kaggle/nbs/aug_lung_data/aug_lug_all_train.csv', index=False)"
   ]
  },
  {
   "cell_type": "code",
   "execution_count": 56,
   "metadata": {},
   "outputs": [],
   "source": [
    "# All lungs\n",
    "lung_norma = df[df['organ']=='lung']\n",
    "only_lung = pd.concat([lung_norma, df_lung], axis=0)\n",
    "only_lung.to_csv('/home/lakshita/somusan/hubmap_kaggle/nbs/aug_lung_data/only_lung.csv', index=False)"
   ]
  },
  {
   "cell_type": "code",
   "execution_count": 106,
   "metadata": {},
   "outputs": [],
   "source": [
    "original_lung_ids = []\n",
    "\n",
    "for i in df_lung.iterrows():\n",
    "    id_str = str(i[1].id)\n",
    "    # print(id_str)\n",
    "    if(len(id_str)) == 4:\n",
    "        original_lung_ids.append(str(id_str[0:3]))\n",
    "        # print(\"one from 4\")\n",
    "    elif(len(id_str)) == 5:\n",
    "        original_lung_ids.append(str(id_str[0:3]))\n",
    "        original_lung_ids.append(str(id_str[0:4]))\n",
    "        # print(\"one from 5\")\n",
    "    elif(len(id_str)) == 6:\n",
    "        original_lung_ids.append(str(id_str[0:4]))\n",
    "        original_lung_ids.append(str(id_str[0:5]))\n",
    "        # print(\"one from 6\")\n",
    "    elif(len(id_str)) == 7:\n",
    "        original_lung_ids.append(str(id_str[0:5]))\n",
    "        # print(\"one from 7\")\n",
    "\n",
    "augmented_id = []\n",
    "for i in original_lung_ids:\n",
    "    # print(i)\n",
    "    if int(i) in df[df['organ']=='lung'].id.to_list():\n",
    "        augmented_id.append(i)\n",
    "\n",
    "with open('/home/lakshita/somusan/hubmap_kaggle/nbs/aug_lung_data/lung_aug_ids.txt', 'w') as filehandle:\n",
    "    for listitem in augmented_id:\n",
    "        filehandle.write('%s\\n' % listitem)\n",
    "\n",
    "\n",
    "\n",
    "# org_lung_size_set = set()\n",
    "\n",
    "# for j in range(len(df[df['organ']=='lung'].id)):\n",
    "#     org_lung_size_set.add(len(str(df[df['organ']=='lung'].id.iloc[j])))\n",
    "\n",
    "# print(org_lung_size_set)\n",
    "# size_set = set()\n",
    "# for i in os.listdir(\"/home/lakshita/somusan/hubmap_kaggle/nbs/aug_lung_data/image\"):\n",
    "#     size_set.add(len(i.split('.')[0]))\n",
    "\n",
    "# print(size_set)"
   ]
  },
  {
   "cell_type": "code",
   "execution_count": null,
   "metadata": {},
   "outputs": [],
   "source": [
    "# df[df['organ']=='lung'].id.to_list()"
   ]
  },
  {
   "cell_type": "code",
   "execution_count": 34,
   "metadata": {},
   "outputs": [
    {
     "data": {
      "image/png": "[encoded data removed]",
      "text/plain": [
       "<Figure size 432x288 with 1 Axes>"
      ]
     },
     "metadata": {
      "needs_background": "light"
     },
     "output_type": "display_data"
    }
   ],
   "source": [
    "img_temp = plt.imread(\"/home/lakshita/somusan/hubmap_kaggle/hubmap_data/hubmap-organ-segmentation/train_images/5086.tiff\")\n",
    "msk_temp = plt.imread(\"/home/lakshita/somusan/hubmap_kaggle/hubmap_data/mask_png/train_binary_masks/5086.png\")\n",
    "\n",
    "plt.imshow(img_temp);plt.imshow(msk_temp, alpha=0.3)\n",
    "plt.show()"
   ]
  },
  {
   "cell_type": "code",
   "execution_count": 32,
   "metadata": {},
   "outputs": [
    {
     "data": {
      "text/plain": [
       "<matplotlib.image.AxesImage at 0x7f74526082e8>"
      ]
     },
     "execution_count": 32,
     "metadata": {},
     "output_type": "execute_result"
    },
    {
     "data": {
      "image/png": "[encoded data removed]",
      "text/plain": [
       "<Figure size 432x288 with 1 Axes>"
      ]
     },
     "metadata": {
      "needs_background": "light"
     },
     "output_type": "display_data"
    }
   ],
   "source": [
    "import matplotlib.pyplot as plt\n",
    "rle_temp = rle_encode(cv2.imread(total_msk_paths[1],0))\n",
    "plt.imshow(rle_decode(rle_temp, (3000,3000)))"
   ]
  },
  {
   "cell_type": "code",
   "execution_count": 17,
   "metadata": {},
   "outputs": [],
   "source": [
    "# DELETE FILES WHICH ARE NOT LUNGS IMAGES\n",
    "import pandas as pd\n",
    "import os\n",
    "\n",
    "df = pd.read_csv(\"/home/lakshita/somusan/hubmap_kaggle/nbs/aug_lung_data/only_lung.csv\")\n",
    "old_df = pd.read_csv(\"/home/lakshita/somusan/hubmap_kaggle/nbs/aug_lung_data/train.csv\")\n",
    "\n",
    "DIR = \"/home/lakshita/somusan/hubmap_kaggle/nbs/aug_lung_data/hubmap-22-aug-pixel-size\" # where all the images are\n",
    "\n",
    "ids_tobe_deleted = [i for i in old_df['id'].to_list() if i not in df['id'].to_list()]\n",
    "files_tobe_deleted = [DIR+'/'+str(i)+\".png\" for i in ids_tobe_deleted]\n",
    "\n",
    "for file in files_tobe_deleted:\n",
    "    if os.path.exists(file):\n",
    "        os.remove(file) "
   ]
  },
  {
   "cell_type": "code",
   "execution_count": 19,
   "metadata": {},
   "outputs": [],
   "source": [
    "# DELETE FILES WHICH ARE NOT LUNGS MASKS\n",
    "df = pd.read_csv(\"/home/lakshita/somusan/hubmap_kaggle/nbs/aug_lung_data/only_lung.csv\")\n",
    "old_df = pd.read_csv(\"/home/lakshita/somusan/hubmap_kaggle/nbs/aug_lung_data/train.csv\")\n",
    "\n",
    "DIR = \"/home/lakshita/somusan/hubmap_kaggle/nbs/aug_lung_data/train_binary_masks\"\n",
    "\n",
    "ids_tobe_deleted = [i for i in old_df['id'].to_list() if i not in df['id'].to_list()]\n",
    "files_tobe_deleted = [DIR+'/'+str(i)+\".png\" for i in ids_tobe_deleted]\n",
    "\n",
    "for file in files_tobe_deleted:\n",
    "    if os.path.exists(file):\n",
    "        os.remove(file) "
   ]
  },
  {
   "cell_type": "code",
   "execution_count": 23,
   "metadata": {},
   "outputs": [
    {
     "data": {
      "text/plain": [
       "79"
      ]
     },
     "execution_count": 23,
     "metadata": {},
     "output_type": "execute_result"
    }
   ],
   "source": [
    "# len(os.listdir(\"/home/lakshita/somusan/hubmap_kaggle/nbs/aug_lung_data/lung_images_aug_org\")) #79\n",
    "# df.__len__()# 79"
   ]
  },
  {
   "cell_type": "markdown",
   "metadata": {},
   "source": [
    "# Extra part:\n",
    "- this is where I test w/ the data loader if the overlay works"
   ]
  },
  {
   "cell_type": "code",
   "execution_count": 10,
   "metadata": {},
   "outputs": [
    {
     "data": {
      "text/plain": [
       "32"
      ]
     },
     "execution_count": 10,
     "metadata": {},
     "output_type": "execute_result"
    }
   ],
   "source": [
    "len(os.listdir(\"/home/lakshita/somusan/hubmap_kaggle/nbs/aug_lung_data/mask\"))"
   ]
  },
  {
   "cell_type": "code",
   "execution_count": null,
   "metadata": {},
   "outputs": [],
   "source": [
    "# cv2.imwrite('demo_img.png', img_)\n",
    "# cv2.imwrite('demo_mask.png', mask_)"
   ]
  },
  {
   "cell_type": "code",
   "execution_count": null,
   "metadata": {},
   "outputs": [],
   "source": [
    "img = cv2.cvtColor(cv2.imread(\"/home/lakshita/somusan/hubmap_kaggle/nbs/aug_lung_data/image/15329.png\"), cv2.COLOR_BGR2RGB)\n",
    "plt.figure(figsize=(14,16))\n",
    "plt.imshow(img);plt.imshow(cv2.imread('/home/lakshita/somusan/hubmap_kaggle/nbs/aug_lung_data/mask/15329.png',0), alpha= 0.4)\n",
    "plt.show()"
   ]
  },
  {
   "cell_type": "code",
   "execution_count": null,
   "metadata": {},
   "outputs": [],
   "source": [
    "\"\"\"\n",
    "4 images[batch size] for bubble aug took 3min\n",
    "4 images[batch size] for stain aug took 3min\n",
    "4 images[batch size] for sectioning aug took 9 sec\n",
    "\n",
    "with data loader it works like a charm, that means it also works w/o that\n",
    "Net save them and run that effnet.\n",
    "\"\"\"\n",
    "items = next(iter(train_loader))\n",
    "imgs = items[\"image\"]\n",
    "mask = items[\"mask\"]\n",
    "\n",
    "imgs.shape, mask.shape "
   ]
  },
  {
   "cell_type": "code",
   "execution_count": null,
   "metadata": {},
   "outputs": [],
   "source": [
    "imgs = items[\"image\"]\n",
    "msks = items[\"mask\"]\n",
    "print(imgs.size(), msks.size())\n",
    "\n",
    "\n",
    "import matplotlib.pyplot as plt\n",
    "def plot_batch(imgs, msks, size=3):\n",
    "    for idx in range(size):\n",
    "        plt.figure(figsize=(4*3, 5))\n",
    "\n",
    "        print(\"debug plot batch img \",imgs[idx].shape)\n",
    "        plt.subplot(1, 3, 1); plt.imshow(imgs[idx])\n",
    "        plt.title('image', fontsize=15)\n",
    "        plt.axis('OFF')\n",
    "        print(\"debug plot batch \",msks[idx].shape)\n",
    "        plt.subplot(1, 3, 2); plt.imshow(msks[idx])\n",
    "        plt.title('mask', fontsize=15)\n",
    "        plt.axis('OFF')\n",
    "            \n",
    "        plt.subplot(1, 3, 3); plt.imshow(imgs[idx]); plt.imshow(msks[idx], alpha=0.3)\n",
    "        plt.title('overlay', fontsize=15)\n",
    "        plt.axis('OFF')\n",
    "        \n",
    "        plt.tight_layout()\n",
    "        plt.show()\n",
    "\n",
    "plot_batch(imgs, msks, size=3)"
   ]
  },
  {
   "cell_type": "code",
   "execution_count": null,
   "metadata": {},
   "outputs": [],
   "source": []
  }
 ],
 "metadata": {
  "kernelspec": {
   "display_name": "Python 3.7.0 ('.venv': venv)",
   "language": "python",
   "name": "python3"
  },
  "language_info": {
   "codemirror_mode": {
    "name": "ipython",
    "version": 3
   },
   "file_extension": ".py",
   "mimetype": "text/x-python",
   "name": "python",
   "nbconvert_exporter": "python",
   "pygments_lexer": "ipython3",
   "version": "3.7.0"
  },
  "orig_nbformat": 4,
  "vscode": {
   "interpreter": {
    "hash": "21a2a557654fc1676068684031cf9bb9dfda94e124d3623f4e9c9ed764d794ac"
   }
  }
 },
 "nbformat": 4,
 "nbformat_minor": 2
}
