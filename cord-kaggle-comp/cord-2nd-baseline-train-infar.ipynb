{
 "cells": [
  {
   "cell_type": "code",
   "execution_count": 1,
   "id": "ece9bf60",
   "metadata": {
    "_cell_guid": "b1076dfc-b9ad-4769-8c92-a6c4dae69d19",
    "_uuid": "8f2839f25d086af736a60e9eeb907d3b93b6e0e5",
    "execution": {
     "iopub.execute_input": "2023-01-22T17:41:16.766874Z",
     "iopub.status.busy": "2023-01-22T17:41:16.766404Z",
     "iopub.status.idle": "2023-01-22T17:41:18.157101Z",
     "shell.execute_reply": "2023-01-22T17:41:18.155636Z"
    },
    "papermill": {
     "duration": 1.400376,
     "end_time": "2023-01-22T17:41:18.159391",
     "exception": false,
     "start_time": "2023-01-22T17:41:16.759015",
     "status": "completed"
    },
    "tags": []
   },
   "outputs": [
    {
     "name": "stdout",
     "output_type": "stream",
     "text": [
      "['cord-paper-clf']\n"
     ]
    }
   ],
   "source": [
    "import pandas as pd\n",
    "import numpy as np\n",
    "import seaborn as sns\n",
    "import matplotlib.pyplot as plt\n",
    "from sklearn.feature_extraction.text import CountVectorizer\n",
    "from sklearn.feature_extraction.text import TfidfTransformer\n",
    "from sklearn.preprocessing import MultiLabelBinarizer\n",
    "from sklearn.naive_bayes import MultinomialNB\n",
    "from sklearn.linear_model import SGDClassifier\n",
    "from sklearn.linear_model import LogisticRegression\n",
    "from sklearn.multiclass import OneVsRestClassifier\n",
    "from sklearn.metrics import hamming_loss\n",
    "from sklearn.linear_model import LogisticRegression\n",
    "import os\n",
    "print(os.listdir(\"../input\"))\n",
    "%matplotlib inline"
   ]
  },
  {
   "cell_type": "code",
   "execution_count": 2,
   "id": "cd537810",
   "metadata": {
    "execution": {
     "iopub.execute_input": "2023-01-22T17:41:18.172410Z",
     "iopub.status.busy": "2023-01-22T17:41:18.171835Z",
     "iopub.status.idle": "2023-01-22T17:41:19.656240Z",
     "shell.execute_reply": "2023-01-22T17:41:19.654677Z"
    },
    "papermill": {
     "duration": 1.494013,
     "end_time": "2023-01-22T17:41:19.658328",
     "exception": false,
     "start_time": "2023-01-22T17:41:18.164315",
     "status": "completed"
    },
    "tags": []
   },
   "outputs": [
    {
     "data": {
      "text/html": [
       "<div>\n",
       "<style scoped>\n",
       "    .dataframe tbody tr th:only-of-type {\n",
       "        vertical-align: middle;\n",
       "    }\n",
       "\n",
       "    .dataframe tbody tr th {\n",
       "        vertical-align: top;\n",
       "    }\n",
       "\n",
       "    .dataframe thead th {\n",
       "        text-align: right;\n",
       "    }\n",
       "</style>\n",
       "<table border=\"1\" class=\"dataframe\">\n",
       "  <thead>\n",
       "    <tr style=\"text-align: right;\">\n",
       "      <th></th>\n",
       "      <th>titles</th>\n",
       "      <th>summaries</th>\n",
       "      <th>terms</th>\n",
       "      <th>ids</th>\n",
       "    </tr>\n",
       "  </thead>\n",
       "  <tbody>\n",
       "    <tr>\n",
       "      <th>0</th>\n",
       "      <td>Continuous Graph Neural Networks</td>\n",
       "      <td>This paper builds on the connection between gr...</td>\n",
       "      <td>['cs.LG', 'stat.ML']</td>\n",
       "      <td>4c149a8304</td>\n",
       "    </tr>\n",
       "    <tr>\n",
       "      <th>1</th>\n",
       "      <td>On Unifying Deep Generative Models</td>\n",
       "      <td>Deep generative models have achieved impressiv...</td>\n",
       "      <td>['cs.LG', 'stat.ML']</td>\n",
       "      <td>423d33e53d</td>\n",
       "    </tr>\n",
       "    <tr>\n",
       "      <th>2</th>\n",
       "      <td>A Flow Base Bi-path Network for Cross-scene Vi...</td>\n",
       "      <td>Drones shooting can be applied in dynamic traf...</td>\n",
       "      <td>['cs.CV']</td>\n",
       "      <td>18e4e85cde</td>\n",
       "    </tr>\n",
       "    <tr>\n",
       "      <th>3</th>\n",
       "      <td>Region Similarity Representation Learning</td>\n",
       "      <td>We present Region Similarity Representation Le...</td>\n",
       "      <td>['cs.CV']</td>\n",
       "      <td>a2621fedbd</td>\n",
       "    </tr>\n",
       "    <tr>\n",
       "      <th>4</th>\n",
       "      <td>Modeling the Sequence of Brain Volumes by Loca...</td>\n",
       "      <td>We represent the sequence of fMRI (Functional ...</td>\n",
       "      <td>['cs.LG', 'cs.AI', 'cs.CV']</td>\n",
       "      <td>bf7f0af288</td>\n",
       "    </tr>\n",
       "  </tbody>\n",
       "</table>\n",
       "</div>"
      ],
      "text/plain": [
       "                                              titles  \\\n",
       "0                   Continuous Graph Neural Networks   \n",
       "1                 On Unifying Deep Generative Models   \n",
       "2  A Flow Base Bi-path Network for Cross-scene Vi...   \n",
       "3          Region Similarity Representation Learning   \n",
       "4  Modeling the Sequence of Brain Volumes by Loca...   \n",
       "\n",
       "                                           summaries  \\\n",
       "0  This paper builds on the connection between gr...   \n",
       "1  Deep generative models have achieved impressiv...   \n",
       "2  Drones shooting can be applied in dynamic traf...   \n",
       "3  We present Region Similarity Representation Le...   \n",
       "4  We represent the sequence of fMRI (Functional ...   \n",
       "\n",
       "                         terms         ids  \n",
       "0         ['cs.LG', 'stat.ML']  4c149a8304  \n",
       "1         ['cs.LG', 'stat.ML']  423d33e53d  \n",
       "2                    ['cs.CV']  18e4e85cde  \n",
       "3                    ['cs.CV']  a2621fedbd  \n",
       "4  ['cs.LG', 'cs.AI', 'cs.CV']  bf7f0af288  "
      ]
     },
     "execution_count": 2,
     "metadata": {},
     "output_type": "execute_result"
    }
   ],
   "source": [
    "df_train = pd.read_csv('/kaggle/input/cord-paper-clf/train_w_targets_w_ids_v6.csv')\n",
    "df_test = pd.read_csv('/kaggle/input/cord-paper-clf/test_wo_targets_w_ids_v6.csv')\n",
    "df_train.head()"
   ]
  },
  {
   "cell_type": "code",
   "execution_count": 3,
   "id": "b81abf0c",
   "metadata": {
    "execution": {
     "iopub.execute_input": "2023-01-22T17:41:19.669568Z",
     "iopub.status.busy": "2023-01-22T17:41:19.669213Z",
     "iopub.status.idle": "2023-01-22T17:41:19.691778Z",
     "shell.execute_reply": "2023-01-22T17:41:19.690429Z"
    },
    "papermill": {
     "duration": 0.030957,
     "end_time": "2023-01-22T17:41:19.694195",
     "exception": false,
     "start_time": "2023-01-22T17:41:19.663238",
     "status": "completed"
    },
    "tags": []
   },
   "outputs": [
    {
     "data": {
      "text/plain": [
       "titles       20\n",
       "summaries    56\n",
       "terms         0\n",
       "ids           0\n",
       "dtype: int64"
      ]
     },
     "execution_count": 3,
     "metadata": {},
     "output_type": "execute_result"
    }
   ],
   "source": [
    "df_train.isna().sum()"
   ]
  },
  {
   "cell_type": "code",
   "execution_count": 4,
   "id": "30daaab2",
   "metadata": {
    "execution": {
     "iopub.execute_input": "2023-01-22T17:41:19.707457Z",
     "iopub.status.busy": "2023-01-22T17:41:19.706992Z",
     "iopub.status.idle": "2023-01-22T17:41:19.739664Z",
     "shell.execute_reply": "2023-01-22T17:41:19.738345Z"
    },
    "papermill": {
     "duration": 0.042534,
     "end_time": "2023-01-22T17:41:19.742689",
     "exception": false,
     "start_time": "2023-01-22T17:41:19.700155",
     "status": "completed"
    },
    "tags": []
   },
   "outputs": [],
   "source": [
    "df_train.dropna(inplace=True)"
   ]
  },
  {
   "cell_type": "code",
   "execution_count": 5,
   "id": "5f494666",
   "metadata": {
    "execution": {
     "iopub.execute_input": "2023-01-22T17:41:19.754725Z",
     "iopub.status.busy": "2023-01-22T17:41:19.754333Z",
     "iopub.status.idle": "2023-01-22T17:41:19.975734Z",
     "shell.execute_reply": "2023-01-22T17:41:19.974831Z"
    },
    "papermill": {
     "duration": 0.230473,
     "end_time": "2023-01-22T17:41:19.978404",
     "exception": false,
     "start_time": "2023-01-22T17:41:19.747931",
     "status": "completed"
    },
    "tags": []
   },
   "outputs": [
    {
     "data": {
      "text/plain": [
       "list"
      ]
     },
     "execution_count": 5,
     "metadata": {},
     "output_type": "execute_result"
    }
   ],
   "source": [
    "df_train['terms'] = df_train['terms'].apply(lambda x: eval(x))\n",
    "type(df_train['terms'].iloc[0])"
   ]
  },
  {
   "cell_type": "code",
   "execution_count": 6,
   "id": "f04ca57f",
   "metadata": {
    "execution": {
     "iopub.execute_input": "2023-01-22T17:41:19.991868Z",
     "iopub.status.busy": "2023-01-22T17:41:19.991424Z",
     "iopub.status.idle": "2023-01-22T17:41:24.885158Z",
     "shell.execute_reply": "2023-01-22T17:41:24.884392Z"
    },
    "papermill": {
     "duration": 4.90297,
     "end_time": "2023-01-22T17:41:24.887210",
     "exception": false,
     "start_time": "2023-01-22T17:41:19.984240",
     "status": "completed"
    },
    "tags": []
   },
   "outputs": [
    {
     "data": {
      "text/plain": [
       "((36897, 28),\n",
       " array(['cs.AI', 'cs.CL', 'cs.CR', 'cs.CV', 'cs.CY', 'cs.DC', 'cs.GR',\n",
       "        'cs.HC', 'cs.IR', 'cs.IT', 'cs.LG', 'cs.MA', 'cs.MM', 'cs.NE',\n",
       "        'cs.RO', 'cs.SI', 'cs.SY', 'eess.IV', 'eess.SP', 'eess.SY',\n",
       "        'math.IT', 'math.OC', 'math.ST', 'physics.chem-ph', 'stat.AP',\n",
       "        'stat.ME', 'stat.ML', 'stat.TH'], dtype=object))"
      ]
     },
     "execution_count": 6,
     "metadata": {},
     "output_type": "execute_result"
    }
   ],
   "source": [
    "multilabel_binarizer = MultiLabelBinarizer()\n",
    "multilabel_binarizer.fit(df_train.terms)\n",
    "Y = multilabel_binarizer.transform(df_train.terms)\n",
    "\n",
    "count_vect = CountVectorizer()\n",
    "X_counts = count_vect.fit_transform(df_train.summaries)\n",
    "\n",
    "tfidf_transformer = TfidfTransformer()\n",
    "X_tfidf = tfidf_transformer.fit_transform(X_counts)\n",
    "\n",
    "Y.shape, multilabel_binarizer.classes_"
   ]
  },
  {
   "cell_type": "code",
   "execution_count": 7,
   "id": "4978e56d",
   "metadata": {
    "execution": {
     "iopub.execute_input": "2023-01-22T17:41:24.899976Z",
     "iopub.status.busy": "2023-01-22T17:41:24.899549Z",
     "iopub.status.idle": "2023-01-22T17:41:25.869365Z",
     "shell.execute_reply": "2023-01-22T17:41:25.868338Z"
    },
    "papermill": {
     "duration": 0.979053,
     "end_time": "2023-01-22T17:41:25.871760",
     "exception": false,
     "start_time": "2023-01-22T17:41:24.892707",
     "status": "completed"
    },
    "tags": []
   },
   "outputs": [],
   "source": [
    "# count_vect = CountVectorizer()\n",
    "x_test_counts = count_vect.transform(df_test.summaries)\n",
    "\n",
    "# tfidf_transformer = TfidfTransformer()\n",
    "x_test_tfidf = tfidf_transformer.transform(x_test_counts)"
   ]
  },
  {
   "cell_type": "code",
   "execution_count": 8,
   "id": "6f5559a8",
   "metadata": {
    "execution": {
     "iopub.execute_input": "2023-01-22T17:41:25.883723Z",
     "iopub.status.busy": "2023-01-22T17:41:25.883338Z",
     "iopub.status.idle": "2023-01-22T17:42:32.827467Z",
     "shell.execute_reply": "2023-01-22T17:42:32.826598Z"
    },
    "papermill": {
     "duration": 66.954116,
     "end_time": "2023-01-22T17:42:32.830972",
     "exception": false,
     "start_time": "2023-01-22T17:41:25.876856",
     "status": "completed"
    },
    "tags": []
   },
   "outputs": [],
   "source": [
    "# sgd = SGDClassifier(loss='hinge', penalty='l2', alpha=1e-3, random_state=42, max_iter=6, tol=None)\n",
    "\n",
    "LR = LogisticRegression(random_state=2023)\n",
    "\n",
    "\n",
    "clf = OneVsRestClassifier(LR)\n",
    "clf.fit(X_tfidf, Y)\n",
    "y_pred = clf.predict_proba(x_test_tfidf)"
   ]
  },
  {
   "cell_type": "code",
   "execution_count": 9,
   "id": "6ad95abd",
   "metadata": {
    "execution": {
     "iopub.execute_input": "2023-01-22T17:42:32.847424Z",
     "iopub.status.busy": "2023-01-22T17:42:32.847046Z",
     "iopub.status.idle": "2023-01-22T17:42:32.947079Z",
     "shell.execute_reply": "2023-01-22T17:42:32.946187Z"
    },
    "papermill": {
     "duration": 0.110171,
     "end_time": "2023-01-22T17:42:32.949054",
     "exception": false,
     "start_time": "2023-01-22T17:42:32.838883",
     "status": "completed"
    },
    "tags": []
   },
   "outputs": [
    {
     "data": {
      "text/html": [
       "<div>\n",
       "<style scoped>\n",
       "    .dataframe tbody tr th:only-of-type {\n",
       "        vertical-align: middle;\n",
       "    }\n",
       "\n",
       "    .dataframe tbody tr th {\n",
       "        vertical-align: top;\n",
       "    }\n",
       "\n",
       "    .dataframe thead th {\n",
       "        text-align: right;\n",
       "    }\n",
       "</style>\n",
       "<table border=\"1\" class=\"dataframe\">\n",
       "  <thead>\n",
       "    <tr style=\"text-align: right;\">\n",
       "      <th></th>\n",
       "      <th>ids</th>\n",
       "      <th>cs.AI</th>\n",
       "      <th>cs.CL</th>\n",
       "      <th>cs.CR</th>\n",
       "      <th>cs.CV</th>\n",
       "      <th>cs.CY</th>\n",
       "      <th>cs.DC</th>\n",
       "      <th>cs.GR</th>\n",
       "      <th>cs.HC</th>\n",
       "      <th>cs.IR</th>\n",
       "      <th>...</th>\n",
       "      <th>eess.SP</th>\n",
       "      <th>eess.SY</th>\n",
       "      <th>math.IT</th>\n",
       "      <th>math.OC</th>\n",
       "      <th>math.ST</th>\n",
       "      <th>physics.chem-ph</th>\n",
       "      <th>stat.AP</th>\n",
       "      <th>stat.ME</th>\n",
       "      <th>stat.ML</th>\n",
       "      <th>stat.TH</th>\n",
       "    </tr>\n",
       "  </thead>\n",
       "  <tbody>\n",
       "    <tr>\n",
       "      <th>0</th>\n",
       "      <td>fd71be9d22</td>\n",
       "      <td>0.036579</td>\n",
       "      <td>0.004236</td>\n",
       "      <td>0.002586</td>\n",
       "      <td>0.973601</td>\n",
       "      <td>0.001680</td>\n",
       "      <td>0.001576</td>\n",
       "      <td>0.015229</td>\n",
       "      <td>0.000895</td>\n",
       "      <td>0.001958</td>\n",
       "      <td>...</td>\n",
       "      <td>0.003109</td>\n",
       "      <td>0.001637</td>\n",
       "      <td>0.000915</td>\n",
       "      <td>0.003260</td>\n",
       "      <td>0.000866</td>\n",
       "      <td>0.000829</td>\n",
       "      <td>0.001085</td>\n",
       "      <td>0.001148</td>\n",
       "      <td>0.026294</td>\n",
       "      <td>0.000866</td>\n",
       "    </tr>\n",
       "    <tr>\n",
       "      <th>1</th>\n",
       "      <td>eed2e20fc4</td>\n",
       "      <td>0.831832</td>\n",
       "      <td>0.015116</td>\n",
       "      <td>0.005662</td>\n",
       "      <td>0.011721</td>\n",
       "      <td>0.002216</td>\n",
       "      <td>0.002247</td>\n",
       "      <td>0.002043</td>\n",
       "      <td>0.000793</td>\n",
       "      <td>0.005148</td>\n",
       "      <td>...</td>\n",
       "      <td>0.003166</td>\n",
       "      <td>0.003944</td>\n",
       "      <td>0.001101</td>\n",
       "      <td>0.016535</td>\n",
       "      <td>0.000875</td>\n",
       "      <td>0.000804</td>\n",
       "      <td>0.001080</td>\n",
       "      <td>0.000914</td>\n",
       "      <td>0.195775</td>\n",
       "      <td>0.000875</td>\n",
       "    </tr>\n",
       "    <tr>\n",
       "      <th>2</th>\n",
       "      <td>510d5fb335</td>\n",
       "      <td>0.113431</td>\n",
       "      <td>0.007075</td>\n",
       "      <td>0.003137</td>\n",
       "      <td>0.931206</td>\n",
       "      <td>0.001915</td>\n",
       "      <td>0.001610</td>\n",
       "      <td>0.002497</td>\n",
       "      <td>0.001054</td>\n",
       "      <td>0.003452</td>\n",
       "      <td>...</td>\n",
       "      <td>0.004701</td>\n",
       "      <td>0.001619</td>\n",
       "      <td>0.001234</td>\n",
       "      <td>0.003156</td>\n",
       "      <td>0.000954</td>\n",
       "      <td>0.000743</td>\n",
       "      <td>0.001424</td>\n",
       "      <td>0.001116</td>\n",
       "      <td>0.212648</td>\n",
       "      <td>0.000954</td>\n",
       "    </tr>\n",
       "    <tr>\n",
       "      <th>3</th>\n",
       "      <td>0bd5f3c9f0</td>\n",
       "      <td>0.054290</td>\n",
       "      <td>0.002772</td>\n",
       "      <td>0.003515</td>\n",
       "      <td>0.849021</td>\n",
       "      <td>0.002367</td>\n",
       "      <td>0.001635</td>\n",
       "      <td>0.003465</td>\n",
       "      <td>0.001002</td>\n",
       "      <td>0.001807</td>\n",
       "      <td>...</td>\n",
       "      <td>0.006609</td>\n",
       "      <td>0.001886</td>\n",
       "      <td>0.000994</td>\n",
       "      <td>0.003875</td>\n",
       "      <td>0.001040</td>\n",
       "      <td>0.000702</td>\n",
       "      <td>0.001583</td>\n",
       "      <td>0.001185</td>\n",
       "      <td>0.274676</td>\n",
       "      <td>0.001040</td>\n",
       "    </tr>\n",
       "    <tr>\n",
       "      <th>4</th>\n",
       "      <td>f0ae5d7d05</td>\n",
       "      <td>0.147593</td>\n",
       "      <td>0.003560</td>\n",
       "      <td>0.002881</td>\n",
       "      <td>0.962251</td>\n",
       "      <td>0.001747</td>\n",
       "      <td>0.001155</td>\n",
       "      <td>0.001770</td>\n",
       "      <td>0.000712</td>\n",
       "      <td>0.002172</td>\n",
       "      <td>...</td>\n",
       "      <td>0.001819</td>\n",
       "      <td>0.001299</td>\n",
       "      <td>0.000785</td>\n",
       "      <td>0.002548</td>\n",
       "      <td>0.000897</td>\n",
       "      <td>0.000557</td>\n",
       "      <td>0.000948</td>\n",
       "      <td>0.000730</td>\n",
       "      <td>0.114674</td>\n",
       "      <td>0.000897</td>\n",
       "    </tr>\n",
       "  </tbody>\n",
       "</table>\n",
       "<p>5 rows × 29 columns</p>\n",
       "</div>"
      ],
      "text/plain": [
       "          ids     cs.AI     cs.CL     cs.CR     cs.CV     cs.CY     cs.DC  \\\n",
       "0  fd71be9d22  0.036579  0.004236  0.002586  0.973601  0.001680  0.001576   \n",
       "1  eed2e20fc4  0.831832  0.015116  0.005662  0.011721  0.002216  0.002247   \n",
       "2  510d5fb335  0.113431  0.007075  0.003137  0.931206  0.001915  0.001610   \n",
       "3  0bd5f3c9f0  0.054290  0.002772  0.003515  0.849021  0.002367  0.001635   \n",
       "4  f0ae5d7d05  0.147593  0.003560  0.002881  0.962251  0.001747  0.001155   \n",
       "\n",
       "      cs.GR     cs.HC     cs.IR  ...   eess.SP   eess.SY   math.IT   math.OC  \\\n",
       "0  0.015229  0.000895  0.001958  ...  0.003109  0.001637  0.000915  0.003260   \n",
       "1  0.002043  0.000793  0.005148  ...  0.003166  0.003944  0.001101  0.016535   \n",
       "2  0.002497  0.001054  0.003452  ...  0.004701  0.001619  0.001234  0.003156   \n",
       "3  0.003465  0.001002  0.001807  ...  0.006609  0.001886  0.000994  0.003875   \n",
       "4  0.001770  0.000712  0.002172  ...  0.001819  0.001299  0.000785  0.002548   \n",
       "\n",
       "    math.ST  physics.chem-ph   stat.AP   stat.ME   stat.ML   stat.TH  \n",
       "0  0.000866         0.000829  0.001085  0.001148  0.026294  0.000866  \n",
       "1  0.000875         0.000804  0.001080  0.000914  0.195775  0.000875  \n",
       "2  0.000954         0.000743  0.001424  0.001116  0.212648  0.000954  \n",
       "3  0.001040         0.000702  0.001583  0.001185  0.274676  0.001040  \n",
       "4  0.000897         0.000557  0.000948  0.000730  0.114674  0.000897  \n",
       "\n",
       "[5 rows x 29 columns]"
      ]
     },
     "execution_count": 9,
     "metadata": {},
     "output_type": "execute_result"
    }
   ],
   "source": [
    "classes = multilabel_binarizer.classes_\n",
    "for i in range(len(multilabel_binarizer.classes_)):\n",
    "    df_test[classes[i]] = pd.Series(list(y_pred[:,i]))\n",
    "    \n",
    "df_test.drop(columns=['summaries', 'titles'], axis=1, inplace=True)\n",
    "df_test.head()"
   ]
  },
  {
   "cell_type": "code",
   "execution_count": 10,
   "id": "35037a83",
   "metadata": {
    "execution": {
     "iopub.execute_input": "2023-01-22T17:42:32.961652Z",
     "iopub.status.busy": "2023-01-22T17:42:32.961291Z",
     "iopub.status.idle": "2023-01-22T17:42:32.969885Z",
     "shell.execute_reply": "2023-01-22T17:42:32.968544Z"
    },
    "papermill": {
     "duration": 0.01772,
     "end_time": "2023-01-22T17:42:32.972364",
     "exception": false,
     "start_time": "2023-01-22T17:42:32.954644",
     "status": "completed"
    },
    "tags": []
   },
   "outputs": [
    {
     "data": {
      "text/plain": [
       "ids                fd71be9d22\n",
       "cs.AI                0.036579\n",
       "cs.CL                0.004236\n",
       "cs.CR                0.002586\n",
       "cs.CV                0.973601\n",
       "cs.CY                 0.00168\n",
       "cs.DC                0.001576\n",
       "cs.GR                0.015229\n",
       "cs.HC                0.000895\n",
       "cs.IR                0.001958\n",
       "cs.IT                0.000915\n",
       "cs.LG                0.081034\n",
       "cs.MA                0.001968\n",
       "cs.MM                0.005549\n",
       "cs.NE                0.005965\n",
       "cs.RO                0.103756\n",
       "cs.SI                0.002348\n",
       "cs.SY                0.001637\n",
       "eess.IV              0.029857\n",
       "eess.SP              0.003109\n",
       "eess.SY              0.001637\n",
       "math.IT              0.000915\n",
       "math.OC               0.00326\n",
       "math.ST              0.000866\n",
       "physics.chem-ph      0.000829\n",
       "stat.AP              0.001085\n",
       "stat.ME              0.001148\n",
       "stat.ML              0.026294\n",
       "stat.TH              0.000866\n",
       "Name: 0, dtype: object"
      ]
     },
     "execution_count": 10,
     "metadata": {},
     "output_type": "execute_result"
    }
   ],
   "source": [
    "df_test.iloc[0]"
   ]
  },
  {
   "cell_type": "code",
   "execution_count": 11,
   "id": "6b6e52b4",
   "metadata": {
    "execution": {
     "iopub.execute_input": "2023-01-22T17:42:32.986300Z",
     "iopub.status.busy": "2023-01-22T17:42:32.985856Z",
     "iopub.status.idle": "2023-01-22T17:42:33.010645Z",
     "shell.execute_reply": "2023-01-22T17:42:33.009140Z"
    },
    "papermill": {
     "duration": 0.036085,
     "end_time": "2023-01-22T17:42:33.014194",
     "exception": false,
     "start_time": "2023-01-22T17:42:32.978109",
     "status": "completed"
    },
    "tags": []
   },
   "outputs": [
    {
     "name": "stdout",
     "output_type": "stream",
     "text": [
      "<class 'pandas.core.frame.DataFrame'>\n",
      "RangeIndex: 8034 entries, 0 to 8033\n",
      "Data columns (total 29 columns):\n",
      " #   Column           Non-Null Count  Dtype  \n",
      "---  ------           --------------  -----  \n",
      " 0   ids              8034 non-null   object \n",
      " 1   cs.AI            8034 non-null   float64\n",
      " 2   cs.CL            8034 non-null   float64\n",
      " 3   cs.CR            8034 non-null   float64\n",
      " 4   cs.CV            8034 non-null   float64\n",
      " 5   cs.CY            8034 non-null   float64\n",
      " 6   cs.DC            8034 non-null   float64\n",
      " 7   cs.GR            8034 non-null   float64\n",
      " 8   cs.HC            8034 non-null   float64\n",
      " 9   cs.IR            8034 non-null   float64\n",
      " 10  cs.IT            8034 non-null   float64\n",
      " 11  cs.LG            8034 non-null   float64\n",
      " 12  cs.MA            8034 non-null   float64\n",
      " 13  cs.MM            8034 non-null   float64\n",
      " 14  cs.NE            8034 non-null   float64\n",
      " 15  cs.RO            8034 non-null   float64\n",
      " 16  cs.SI            8034 non-null   float64\n",
      " 17  cs.SY            8034 non-null   float64\n",
      " 18  eess.IV          8034 non-null   float64\n",
      " 19  eess.SP          8034 non-null   float64\n",
      " 20  eess.SY          8034 non-null   float64\n",
      " 21  math.IT          8034 non-null   float64\n",
      " 22  math.OC          8034 non-null   float64\n",
      " 23  math.ST          8034 non-null   float64\n",
      " 24  physics.chem-ph  8034 non-null   float64\n",
      " 25  stat.AP          8034 non-null   float64\n",
      " 26  stat.ME          8034 non-null   float64\n",
      " 27  stat.ML          8034 non-null   float64\n",
      " 28  stat.TH          8034 non-null   float64\n",
      "dtypes: float64(28), object(1)\n",
      "memory usage: 1.8+ MB\n"
     ]
    }
   ],
   "source": [
    "df_test.info()"
   ]
  },
  {
   "cell_type": "code",
   "execution_count": 12,
   "id": "4347c4d0",
   "metadata": {
    "execution": {
     "iopub.execute_input": "2023-01-22T17:42:33.029132Z",
     "iopub.status.busy": "2023-01-22T17:42:33.028739Z",
     "iopub.status.idle": "2023-01-22T17:42:33.313465Z",
     "shell.execute_reply": "2023-01-22T17:42:33.312178Z"
    },
    "papermill": {
     "duration": 0.294923,
     "end_time": "2023-01-22T17:42:33.315919",
     "exception": false,
     "start_time": "2023-01-22T17:42:33.020996",
     "status": "completed"
    },
    "tags": []
   },
   "outputs": [],
   "source": [
    "df_test.to_csv('sample_submission_baseline_5.csv', index=False)"
   ]
  },
  {
   "cell_type": "code",
   "execution_count": 13,
   "id": "ec845af9",
   "metadata": {
    "execution": {
     "iopub.execute_input": "2023-01-22T17:42:33.328995Z",
     "iopub.status.busy": "2023-01-22T17:42:33.328583Z",
     "iopub.status.idle": "2023-01-22T17:42:33.379272Z",
     "shell.execute_reply": "2023-01-22T17:42:33.378142Z"
    },
    "papermill": {
     "duration": 0.059573,
     "end_time": "2023-01-22T17:42:33.381152",
     "exception": false,
     "start_time": "2023-01-22T17:42:33.321579",
     "status": "completed"
    },
    "tags": []
   },
   "outputs": [
    {
     "data": {
      "text/html": [
       "<div>\n",
       "<style scoped>\n",
       "    .dataframe tbody tr th:only-of-type {\n",
       "        vertical-align: middle;\n",
       "    }\n",
       "\n",
       "    .dataframe tbody tr th {\n",
       "        vertical-align: top;\n",
       "    }\n",
       "\n",
       "    .dataframe thead th {\n",
       "        text-align: right;\n",
       "    }\n",
       "</style>\n",
       "<table border=\"1\" class=\"dataframe\">\n",
       "  <thead>\n",
       "    <tr style=\"text-align: right;\">\n",
       "      <th></th>\n",
       "      <th>ids</th>\n",
       "      <th>cs.AI</th>\n",
       "      <th>cs.CL</th>\n",
       "      <th>cs.CR</th>\n",
       "      <th>cs.CV</th>\n",
       "      <th>cs.CY</th>\n",
       "      <th>cs.DC</th>\n",
       "      <th>cs.GR</th>\n",
       "      <th>cs.HC</th>\n",
       "      <th>cs.IR</th>\n",
       "      <th>...</th>\n",
       "      <th>eess.SP</th>\n",
       "      <th>eess.SY</th>\n",
       "      <th>math.IT</th>\n",
       "      <th>math.OC</th>\n",
       "      <th>math.ST</th>\n",
       "      <th>physics.chem-ph</th>\n",
       "      <th>stat.AP</th>\n",
       "      <th>stat.ME</th>\n",
       "      <th>stat.ML</th>\n",
       "      <th>stat.TH</th>\n",
       "    </tr>\n",
       "  </thead>\n",
       "  <tbody>\n",
       "    <tr>\n",
       "      <th>0</th>\n",
       "      <td>fd71be9d22</td>\n",
       "      <td>0</td>\n",
       "      <td>0</td>\n",
       "      <td>0</td>\n",
       "      <td>1</td>\n",
       "      <td>0</td>\n",
       "      <td>0</td>\n",
       "      <td>0</td>\n",
       "      <td>0</td>\n",
       "      <td>0</td>\n",
       "      <td>...</td>\n",
       "      <td>0</td>\n",
       "      <td>0</td>\n",
       "      <td>0</td>\n",
       "      <td>0</td>\n",
       "      <td>0</td>\n",
       "      <td>0</td>\n",
       "      <td>0</td>\n",
       "      <td>0</td>\n",
       "      <td>0</td>\n",
       "      <td>0</td>\n",
       "    </tr>\n",
       "    <tr>\n",
       "      <th>1</th>\n",
       "      <td>eed2e20fc4</td>\n",
       "      <td>1</td>\n",
       "      <td>0</td>\n",
       "      <td>0</td>\n",
       "      <td>0</td>\n",
       "      <td>0</td>\n",
       "      <td>0</td>\n",
       "      <td>0</td>\n",
       "      <td>0</td>\n",
       "      <td>0</td>\n",
       "      <td>...</td>\n",
       "      <td>0</td>\n",
       "      <td>0</td>\n",
       "      <td>0</td>\n",
       "      <td>0</td>\n",
       "      <td>0</td>\n",
       "      <td>0</td>\n",
       "      <td>0</td>\n",
       "      <td>0</td>\n",
       "      <td>0</td>\n",
       "      <td>0</td>\n",
       "    </tr>\n",
       "    <tr>\n",
       "      <th>2</th>\n",
       "      <td>510d5fb335</td>\n",
       "      <td>0</td>\n",
       "      <td>0</td>\n",
       "      <td>0</td>\n",
       "      <td>1</td>\n",
       "      <td>0</td>\n",
       "      <td>0</td>\n",
       "      <td>0</td>\n",
       "      <td>0</td>\n",
       "      <td>0</td>\n",
       "      <td>...</td>\n",
       "      <td>0</td>\n",
       "      <td>0</td>\n",
       "      <td>0</td>\n",
       "      <td>0</td>\n",
       "      <td>0</td>\n",
       "      <td>0</td>\n",
       "      <td>0</td>\n",
       "      <td>0</td>\n",
       "      <td>0</td>\n",
       "      <td>0</td>\n",
       "    </tr>\n",
       "    <tr>\n",
       "      <th>3</th>\n",
       "      <td>0bd5f3c9f0</td>\n",
       "      <td>0</td>\n",
       "      <td>0</td>\n",
       "      <td>0</td>\n",
       "      <td>1</td>\n",
       "      <td>0</td>\n",
       "      <td>0</td>\n",
       "      <td>0</td>\n",
       "      <td>0</td>\n",
       "      <td>0</td>\n",
       "      <td>...</td>\n",
       "      <td>0</td>\n",
       "      <td>0</td>\n",
       "      <td>0</td>\n",
       "      <td>0</td>\n",
       "      <td>0</td>\n",
       "      <td>0</td>\n",
       "      <td>0</td>\n",
       "      <td>0</td>\n",
       "      <td>0</td>\n",
       "      <td>0</td>\n",
       "    </tr>\n",
       "    <tr>\n",
       "      <th>4</th>\n",
       "      <td>f0ae5d7d05</td>\n",
       "      <td>0</td>\n",
       "      <td>0</td>\n",
       "      <td>0</td>\n",
       "      <td>1</td>\n",
       "      <td>0</td>\n",
       "      <td>0</td>\n",
       "      <td>0</td>\n",
       "      <td>0</td>\n",
       "      <td>0</td>\n",
       "      <td>...</td>\n",
       "      <td>0</td>\n",
       "      <td>0</td>\n",
       "      <td>0</td>\n",
       "      <td>0</td>\n",
       "      <td>0</td>\n",
       "      <td>0</td>\n",
       "      <td>0</td>\n",
       "      <td>0</td>\n",
       "      <td>0</td>\n",
       "      <td>0</td>\n",
       "    </tr>\n",
       "    <tr>\n",
       "      <th>...</th>\n",
       "      <td>...</td>\n",
       "      <td>...</td>\n",
       "      <td>...</td>\n",
       "      <td>...</td>\n",
       "      <td>...</td>\n",
       "      <td>...</td>\n",
       "      <td>...</td>\n",
       "      <td>...</td>\n",
       "      <td>...</td>\n",
       "      <td>...</td>\n",
       "      <td>...</td>\n",
       "      <td>...</td>\n",
       "      <td>...</td>\n",
       "      <td>...</td>\n",
       "      <td>...</td>\n",
       "      <td>...</td>\n",
       "      <td>...</td>\n",
       "      <td>...</td>\n",
       "      <td>...</td>\n",
       "      <td>...</td>\n",
       "      <td>...</td>\n",
       "    </tr>\n",
       "    <tr>\n",
       "      <th>8029</th>\n",
       "      <td>3020ffad38</td>\n",
       "      <td>0</td>\n",
       "      <td>0</td>\n",
       "      <td>0</td>\n",
       "      <td>1</td>\n",
       "      <td>0</td>\n",
       "      <td>0</td>\n",
       "      <td>0</td>\n",
       "      <td>0</td>\n",
       "      <td>0</td>\n",
       "      <td>...</td>\n",
       "      <td>0</td>\n",
       "      <td>0</td>\n",
       "      <td>0</td>\n",
       "      <td>0</td>\n",
       "      <td>0</td>\n",
       "      <td>0</td>\n",
       "      <td>0</td>\n",
       "      <td>0</td>\n",
       "      <td>0</td>\n",
       "      <td>0</td>\n",
       "    </tr>\n",
       "    <tr>\n",
       "      <th>8030</th>\n",
       "      <td>ead9c55cb5</td>\n",
       "      <td>0</td>\n",
       "      <td>0</td>\n",
       "      <td>0</td>\n",
       "      <td>1</td>\n",
       "      <td>0</td>\n",
       "      <td>0</td>\n",
       "      <td>0</td>\n",
       "      <td>0</td>\n",
       "      <td>0</td>\n",
       "      <td>...</td>\n",
       "      <td>0</td>\n",
       "      <td>0</td>\n",
       "      <td>0</td>\n",
       "      <td>0</td>\n",
       "      <td>0</td>\n",
       "      <td>0</td>\n",
       "      <td>0</td>\n",
       "      <td>0</td>\n",
       "      <td>0</td>\n",
       "      <td>0</td>\n",
       "    </tr>\n",
       "    <tr>\n",
       "      <th>8031</th>\n",
       "      <td>44a1edbb65</td>\n",
       "      <td>0</td>\n",
       "      <td>0</td>\n",
       "      <td>0</td>\n",
       "      <td>1</td>\n",
       "      <td>0</td>\n",
       "      <td>0</td>\n",
       "      <td>0</td>\n",
       "      <td>0</td>\n",
       "      <td>0</td>\n",
       "      <td>...</td>\n",
       "      <td>0</td>\n",
       "      <td>0</td>\n",
       "      <td>0</td>\n",
       "      <td>0</td>\n",
       "      <td>0</td>\n",
       "      <td>0</td>\n",
       "      <td>0</td>\n",
       "      <td>0</td>\n",
       "      <td>0</td>\n",
       "      <td>0</td>\n",
       "    </tr>\n",
       "    <tr>\n",
       "      <th>8032</th>\n",
       "      <td>8dd1cbdc8b</td>\n",
       "      <td>0</td>\n",
       "      <td>0</td>\n",
       "      <td>0</td>\n",
       "      <td>1</td>\n",
       "      <td>0</td>\n",
       "      <td>0</td>\n",
       "      <td>0</td>\n",
       "      <td>0</td>\n",
       "      <td>0</td>\n",
       "      <td>...</td>\n",
       "      <td>0</td>\n",
       "      <td>0</td>\n",
       "      <td>0</td>\n",
       "      <td>0</td>\n",
       "      <td>0</td>\n",
       "      <td>0</td>\n",
       "      <td>0</td>\n",
       "      <td>0</td>\n",
       "      <td>0</td>\n",
       "      <td>0</td>\n",
       "    </tr>\n",
       "    <tr>\n",
       "      <th>8033</th>\n",
       "      <td>754644b485</td>\n",
       "      <td>0</td>\n",
       "      <td>0</td>\n",
       "      <td>0</td>\n",
       "      <td>1</td>\n",
       "      <td>0</td>\n",
       "      <td>0</td>\n",
       "      <td>0</td>\n",
       "      <td>0</td>\n",
       "      <td>0</td>\n",
       "      <td>...</td>\n",
       "      <td>0</td>\n",
       "      <td>0</td>\n",
       "      <td>0</td>\n",
       "      <td>0</td>\n",
       "      <td>0</td>\n",
       "      <td>0</td>\n",
       "      <td>0</td>\n",
       "      <td>0</td>\n",
       "      <td>0</td>\n",
       "      <td>0</td>\n",
       "    </tr>\n",
       "  </tbody>\n",
       "</table>\n",
       "<p>8034 rows × 29 columns</p>\n",
       "</div>"
      ],
      "text/plain": [
       "             ids  cs.AI  cs.CL  cs.CR  cs.CV  cs.CY  cs.DC  cs.GR  cs.HC  \\\n",
       "0     fd71be9d22      0      0      0      1      0      0      0      0   \n",
       "1     eed2e20fc4      1      0      0      0      0      0      0      0   \n",
       "2     510d5fb335      0      0      0      1      0      0      0      0   \n",
       "3     0bd5f3c9f0      0      0      0      1      0      0      0      0   \n",
       "4     f0ae5d7d05      0      0      0      1      0      0      0      0   \n",
       "...          ...    ...    ...    ...    ...    ...    ...    ...    ...   \n",
       "8029  3020ffad38      0      0      0      1      0      0      0      0   \n",
       "8030  ead9c55cb5      0      0      0      1      0      0      0      0   \n",
       "8031  44a1edbb65      0      0      0      1      0      0      0      0   \n",
       "8032  8dd1cbdc8b      0      0      0      1      0      0      0      0   \n",
       "8033  754644b485      0      0      0      1      0      0      0      0   \n",
       "\n",
       "      cs.IR  ...  eess.SP  eess.SY  math.IT  math.OC  math.ST  \\\n",
       "0         0  ...        0        0        0        0        0   \n",
       "1         0  ...        0        0        0        0        0   \n",
       "2         0  ...        0        0        0        0        0   \n",
       "3         0  ...        0        0        0        0        0   \n",
       "4         0  ...        0        0        0        0        0   \n",
       "...     ...  ...      ...      ...      ...      ...      ...   \n",
       "8029      0  ...        0        0        0        0        0   \n",
       "8030      0  ...        0        0        0        0        0   \n",
       "8031      0  ...        0        0        0        0        0   \n",
       "8032      0  ...        0        0        0        0        0   \n",
       "8033      0  ...        0        0        0        0        0   \n",
       "\n",
       "      physics.chem-ph  stat.AP  stat.ME  stat.ML  stat.TH  \n",
       "0                   0        0        0        0        0  \n",
       "1                   0        0        0        0        0  \n",
       "2                   0        0        0        0        0  \n",
       "3                   0        0        0        0        0  \n",
       "4                   0        0        0        0        0  \n",
       "...               ...      ...      ...      ...      ...  \n",
       "8029                0        0        0        0        0  \n",
       "8030                0        0        0        0        0  \n",
       "8031                0        0        0        0        0  \n",
       "8032                0        0        0        0        0  \n",
       "8033                0        0        0        0        0  \n",
       "\n",
       "[8034 rows x 29 columns]"
      ]
     },
     "execution_count": 13,
     "metadata": {},
     "output_type": "execute_result"
    }
   ],
   "source": [
    "sol = pd.read_csv('/kaggle/input/cord-paper-clf/solution-v7.csv')\n",
    "sol"
   ]
  },
  {
   "cell_type": "code",
   "execution_count": 14,
   "id": "fdac4170",
   "metadata": {
    "execution": {
     "iopub.execute_input": "2023-01-22T17:42:33.394917Z",
     "iopub.status.busy": "2023-01-22T17:42:33.394395Z",
     "iopub.status.idle": "2023-01-22T17:42:33.401569Z",
     "shell.execute_reply": "2023-01-22T17:42:33.400598Z"
    },
    "papermill": {
     "duration": 0.016718,
     "end_time": "2023-01-22T17:42:33.403883",
     "exception": false,
     "start_time": "2023-01-22T17:42:33.387165",
     "status": "completed"
    },
    "tags": []
   },
   "outputs": [
    {
     "data": {
      "text/plain": [
       "True"
      ]
     },
     "execution_count": 14,
     "metadata": {},
     "output_type": "execute_result"
    }
   ],
   "source": [
    "sol['ids'].equals(df_test['ids'])"
   ]
  },
  {
   "cell_type": "code",
   "execution_count": 15,
   "id": "e72eabcf",
   "metadata": {
    "execution": {
     "iopub.execute_input": "2023-01-22T17:42:33.418648Z",
     "iopub.status.busy": "2023-01-22T17:42:33.417985Z",
     "iopub.status.idle": "2023-01-22T17:42:33.423362Z",
     "shell.execute_reply": "2023-01-22T17:42:33.422785Z"
    },
    "papermill": {
     "duration": 0.014739,
     "end_time": "2023-01-22T17:42:33.425005",
     "exception": false,
     "start_time": "2023-01-22T17:42:33.410266",
     "status": "completed"
    },
    "tags": []
   },
   "outputs": [
    {
     "data": {
      "text/plain": [
       "Index(['ids', 'cs.AI', 'cs.CL', 'cs.CR', 'cs.CV', 'cs.CY', 'cs.DC', 'cs.GR',\n",
       "       'cs.HC', 'cs.IR', 'cs.IT', 'cs.LG', 'cs.MA', 'cs.MM', 'cs.NE', 'cs.RO',\n",
       "       'cs.SI', 'cs.SY', 'eess.IV', 'eess.SP', 'eess.SY', 'math.IT', 'math.OC',\n",
       "       'math.ST', 'physics.chem-ph', 'stat.AP', 'stat.ME', 'stat.ML',\n",
       "       'stat.TH'],\n",
       "      dtype='object')"
      ]
     },
     "execution_count": 15,
     "metadata": {},
     "output_type": "execute_result"
    }
   ],
   "source": [
    "df_test.columns"
   ]
  },
  {
   "cell_type": "code",
   "execution_count": null,
   "id": "968413c9",
   "metadata": {
    "papermill": {
     "duration": 0.006016,
     "end_time": "2023-01-22T17:42:33.437539",
     "exception": false,
     "start_time": "2023-01-22T17:42:33.431523",
     "status": "completed"
    },
    "tags": []
   },
   "outputs": [],
   "source": []
  },
  {
   "cell_type": "code",
   "execution_count": null,
   "id": "ac1b10da",
   "metadata": {
    "papermill": {
     "duration": 0.005962,
     "end_time": "2023-01-22T17:42:33.449732",
     "exception": false,
     "start_time": "2023-01-22T17:42:33.443770",
     "status": "completed"
    },
    "tags": []
   },
   "outputs": [],
   "source": []
  },
  {
   "cell_type": "code",
   "execution_count": null,
   "id": "a876efd7",
   "metadata": {
    "papermill": {
     "duration": 0.005952,
     "end_time": "2023-01-22T17:42:33.461822",
     "exception": false,
     "start_time": "2023-01-22T17:42:33.455870",
     "status": "completed"
    },
    "tags": []
   },
   "outputs": [],
   "source": []
  },
  {
   "cell_type": "code",
   "execution_count": null,
   "id": "15265181",
   "metadata": {
    "papermill": {
     "duration": 0.005697,
     "end_time": "2023-01-22T17:42:33.473542",
     "exception": false,
     "start_time": "2023-01-22T17:42:33.467845",
     "status": "completed"
    },
    "tags": []
   },
   "outputs": [],
   "source": []
  },
  {
   "cell_type": "code",
   "execution_count": null,
   "id": "9a922257",
   "metadata": {
    "papermill": {
     "duration": 0.00569,
     "end_time": "2023-01-22T17:42:33.485307",
     "exception": false,
     "start_time": "2023-01-22T17:42:33.479617",
     "status": "completed"
    },
    "tags": []
   },
   "outputs": [],
   "source": []
  }
 ],
 "metadata": {
  "kernelspec": {
   "display_name": "Python 3",
   "language": "python",
   "name": "python3"
  },
  "language_info": {
   "codemirror_mode": {
    "name": "ipython",
    "version": 3
   },
   "file_extension": ".py",
   "mimetype": "text/x-python",
   "name": "python",
   "nbconvert_exporter": "python",
   "pygments_lexer": "ipython3",
   "version": "3.7.12"
  },
  "papermill": {
   "default_parameters": {},
   "duration": 85.562844,
   "end_time": "2023-01-22T17:42:34.413166",
   "environment_variables": {},
   "exception": null,
   "input_path": "__notebook__.ipynb",
   "output_path": "__notebook__.ipynb",
   "parameters": {},
   "start_time": "2023-01-22T17:41:08.850322",
   "version": "2.3.4"
  }
 },
 "nbformat": 4,
 "nbformat_minor": 5
}
