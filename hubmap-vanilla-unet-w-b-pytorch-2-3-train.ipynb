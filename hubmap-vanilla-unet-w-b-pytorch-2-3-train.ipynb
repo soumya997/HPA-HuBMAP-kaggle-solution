{
 "cells": [
  {
   "cell_type": "markdown",
   "id": "b1687980",
   "metadata": {
    "papermill": {
     "duration": 0.008388,
     "end_time": "2022-07-24T09:02:00.238524",
     "exception": false,
     "start_time": "2022-07-24T09:02:00.230136",
     "status": "completed"
    },
    "tags": []
   },
   "source": [
    "### Changelog\n",
    "\n",
    "|| Version | Comments | LB |\n",
    "|---|  --- | --- | --- |\n",
    "|**Best**|8| Vanilla Unet w/ 256x256, 40 epoch, no aug, no lr sch, no pre/post processing, L2 norm | `0.04` |"
   ]
  },
  {
   "cell_type": "code",
   "execution_count": 1,
   "id": "3ea36fe9",
   "metadata": {
    "papermill": {
     "duration": 11.427272,
     "end_time": "2022-07-24T09:02:11.674696",
     "exception": false,
     "start_time": "2022-07-24T09:02:00.247424",
     "status": "completed"
    },
    "tags": []
   },
   "outputs": [
    {
     "name": "stdout",
     "output_type": "stream",
     "text": [
      "\u001b[33mYou are using pip version 10.0.1, however version 22.2 is available.\n",
      "You should consider upgrading via the 'pip install --upgrade pip' command.\u001b[0m\n"
     ]
    }
   ],
   "source": [
    "# !pip3 install -q tifffile"
   ]
  },
  {
   "cell_type": "markdown",
   "id": "c9682b07",
   "metadata": {
    "papermill": {
     "duration": 0.008572,
     "end_time": "2022-07-24T09:02:11.692668",
     "exception": false,
     "start_time": "2022-07-24T09:02:11.684096",
     "status": "completed"
    },
    "tags": []
   },
   "source": [
    "# Import, SEED, Config:"
   ]
  },
  {
   "cell_type": "code",
   "execution_count": 1,
   "id": "87e5422d",
   "metadata": {
    "_cell_guid": "b1076dfc-b9ad-4769-8c92-a6c4dae69d19",
    "_uuid": "8f2839f25d086af736a60e9eeb907d3b93b6e0e5",
    "execution": {
     "iopub.execute_input": "2022-07-24T09:02:11.712277Z",
     "iopub.status.busy": "2022-07-24T09:02:11.711957Z",
     "iopub.status.idle": "2022-07-24T09:02:16.230412Z",
     "shell.execute_reply": "2022-07-24T09:02:16.229382Z"
    },
    "papermill": {
     "duration": 4.531182,
     "end_time": "2022-07-24T09:02:16.233067",
     "exception": false,
     "start_time": "2022-07-24T09:02:11.701885",
     "status": "completed"
    },
    "tags": []
   },
   "outputs": [
    {
     "name": "stderr",
     "output_type": "stream",
     "text": [
      "/home/lakshita/somusan/hubmap_kaggle/.venv/lib/python3.7/site-packages/tqdm/auto.py:22: TqdmWarning: IProgress not found. Please update jupyter and ipywidgets. See https://ipywidgets.readthedocs.io/en/stable/user_install.html\n",
      "  from .autonotebook import tqdm as notebook_tqdm\n"
     ]
    }
   ],
   "source": [
    "import numpy as np # linear algebra\n",
    "import pandas as pd # data processing, CSV file I/O (e.g. pd.read_csv)\n",
    "import os\n",
    "import warnings\n",
    "import cv2\n",
    "import matplotlib.pyplot as plt\n",
    "import json\n",
    "import gc\n",
    "import time\n",
    "from tqdm import tqdm\n",
    "import random\n",
    "from collections import defaultdict\n",
    "from IPython.display import display\n",
    "\n",
    "#Pytorch Imports\n",
    "import torch\n",
    "import torchvision # torch package for vision related things\n",
    "import torch.nn.functional as F  # Parameterless functions, like (some) activation functions\n",
    "import torchvision.datasets as datasets  # Standard datasets\n",
    "import torchvision.transforms as transforms  # Transformations we can perform on our dataset for augmentation\n",
    "from torch import optim  # For optimizers like SGD, Adam, etc.\n",
    "from torch import nn  # All neural network modules\n",
    "from torch.utils.data import Dataset, DataLoader  # Gives easier dataset managment by creating mini batches etc.\n",
    "from tqdm import tqdm  # For nice progress bar!\n",
    "from torchvision.transforms import Resize\n",
    "from torchaudio.transforms import MelSpectrogram, AmplitudeToDB\n",
    "from torch.optim import lr_scheduler\n",
    "from tifffile import imread\n",
    "\n",
    "from albumentations.pytorch.transforms import ToTensorV2\n",
    "import albumentations as A\n",
    "from sklearn.model_selection import train_test_split\n",
    "\n",
    "# For colored terminal text\n",
    "from colorama import Fore, Back, Style\n",
    "c_ = Fore.CYAN\n",
    "sr_ = Style.RESET_ALL\n",
    "b_ = Fore.BLUE\n",
    "\n",
    "# For descriptive error messages\n",
    "os.environ['CUDA_LAUNCH_BLOCKING'] = \"1\"\n",
    "\n",
    "warnings.filterwarnings(\"ignore\")\n",
    "# pd.set_option('display.max_colwidth', 100)"
   ]
  },
  {
   "cell_type": "code",
   "execution_count": 2,
   "id": "8c4e2555",
   "metadata": {
    "execution": {
     "iopub.execute_input": "2022-07-24T09:02:16.252670Z",
     "iopub.status.busy": "2022-07-24T09:02:16.252207Z",
     "iopub.status.idle": "2022-07-24T09:02:16.319412Z",
     "shell.execute_reply": "2022-07-24T09:02:16.318497Z"
    },
    "papermill": {
     "duration": 0.078987,
     "end_time": "2022-07-24T09:02:16.321287",
     "exception": false,
     "start_time": "2022-07-24T09:02:16.242300",
     "status": "completed"
    },
    "tags": []
   },
   "outputs": [],
   "source": [
    "# Hyperparameters etc.\n",
    "# Hyperparameters\n",
    "CONFIG = {\n",
    "    \"in_channels\" :3,\n",
    "    \"num_classes\": 1,\n",
    "    \"BATCH_SIZE\" : 8,\n",
    "    \"NUM_EPOCHS\" : 40,\n",
    "    \"n_accumulate\": 1,\n",
    "    \"competition\": \"HuBMAP-Kaggle\", # HuBMAP-Kaggle\n",
    "    \"model_name\": \"Vanilla_Unet\",\n",
    "    \"LEARNING_RATE\": 1e-4,\n",
    "    \"DEVICE\": \"cuda\" if torch.cuda.is_available() else \"cpu\", \n",
    "    \"AUG\": \"No\",\n",
    "    \"SEED\": 42,\n",
    "    \"opt\": 'Adam',\n",
    "    \"Normalization\": \"L2\",\n",
    "    \"img_size\": 256\n",
    "}"
   ]
  },
  {
   "cell_type": "code",
   "execution_count": 3,
   "id": "ff310a68",
   "metadata": {
    "execution": {
     "iopub.execute_input": "2022-07-24T09:02:16.340606Z",
     "iopub.status.busy": "2022-07-24T09:02:16.339772Z",
     "iopub.status.idle": "2022-07-24T09:02:16.352855Z",
     "shell.execute_reply": "2022-07-24T09:02:16.351624Z"
    },
    "papermill": {
     "duration": 0.02559,
     "end_time": "2022-07-24T09:02:16.355653",
     "exception": false,
     "start_time": "2022-07-24T09:02:16.330063",
     "status": "completed"
    },
    "tags": []
   },
   "outputs": [
    {
     "name": "stdout",
     "output_type": "stream",
     "text": [
      "> SEEDING DONE\n"
     ]
    }
   ],
   "source": [
    "def set_seed(seed = 42):\n",
    "    '''Sets the seed of the entire notebook so results are the same every time we run.\n",
    "    This is for REPRODUCIBILITY.'''\n",
    "    np.random.seed(seed)\n",
    "    random.seed(seed)\n",
    "    torch.manual_seed(seed)\n",
    "    torch.cuda.manual_seed(seed)\n",
    "    # When running on the CuDNN backend, two further options must be set\n",
    "    torch.backends.cudnn.deterministic = True\n",
    "    torch.backends.cudnn.benchmark = False\n",
    "    # Set a fixed value for the hash seed\n",
    "    os.environ['PYTHONHASHSEED'] = str(seed)\n",
    "    print('> SEEDING DONE')\n",
    "    \n",
    "set_seed(CONFIG[\"SEED\"])"
   ]
  },
  {
   "cell_type": "markdown",
   "id": "1f2817dd",
   "metadata": {
    "papermill": {
     "duration": 0.008728,
     "end_time": "2022-07-24T09:02:16.373521",
     "exception": false,
     "start_time": "2022-07-24T09:02:16.364793",
     "status": "completed"
    },
    "tags": []
   },
   "source": [
    "# WandB:"
   ]
  },
  {
   "cell_type": "code",
   "execution_count": 4,
   "id": "b9a35021",
   "metadata": {
    "execution": {
     "iopub.execute_input": "2022-07-24T09:02:16.393456Z",
     "iopub.status.busy": "2022-07-24T09:02:16.393189Z",
     "iopub.status.idle": "2022-07-24T09:02:23.115190Z",
     "shell.execute_reply": "2022-07-24T09:02:23.114117Z"
    },
    "papermill": {
     "duration": 6.735666,
     "end_time": "2022-07-24T09:02:23.117801",
     "exception": false,
     "start_time": "2022-07-24T09:02:16.382135",
     "status": "completed"
    },
    "tags": []
   },
   "outputs": [
    {
     "name": "stderr",
     "output_type": "stream",
     "text": [
      "Failed to detect the name of this notebook, you can set it manually with the WANDB_NOTEBOOK_NAME environment variable to enable code saving.\n",
      "\u001b[34m\u001b[1mwandb\u001b[0m: Currently logged in as: \u001b[33msomusan\u001b[0m. Use \u001b[1m`wandb login --relogin`\u001b[0m to force relogin\n"
     ]
    },
    {
     "data": {
      "text/html": [
       "Tracking run with wandb version 0.13.0"
      ],
      "text/plain": [
       "<IPython.core.display.HTML object>"
      ]
     },
     "metadata": {},
     "output_type": "display_data"
    },
    {
     "data": {
      "text/html": [
       "Run data is saved locally in <code>/home/lakshita/somusan/hubmap_kaggle/wandb/run-20220805_113053-l4spdzkj</code>"
      ],
      "text/plain": [
       "<IPython.core.display.HTML object>"
      ]
     },
     "metadata": {},
     "output_type": "display_data"
    },
    {
     "data": {
      "text/html": [
       "Syncing run <strong><a href=\"https://wandb.ai/somusan/HuBMAP-Kaggle/runs/l4spdzkj\" target=\"_blank\">Vanilla_Unet_1</a></strong> to <a href=\"https://wandb.ai/somusan/HuBMAP-Kaggle\" target=\"_blank\">Weights & Biases</a> (<a href=\"https://wandb.me/run\" target=\"_blank\">docs</a>)<br/>"
      ],
      "text/plain": [
       "<IPython.core.display.HTML object>"
      ]
     },
     "metadata": {},
     "output_type": "display_data"
    }
   ],
   "source": [
    "import wandb\n",
    "\n",
    "wandb.login()\n",
    "\n",
    "run = wandb.init(project=CONFIG['competition'], \n",
    "                 config=CONFIG,\n",
    "                 job_type='Train',\n",
    "                 tags=['semantic segmentation', CONFIG['model_name']],\n",
    "                 anonymous='must',\n",
    "                 name = \"Vanilla_Unet_1\",\n",
    "                 notes = \"\")"
   ]
  },
  {
   "cell_type": "markdown",
   "id": "27ecdb30",
   "metadata": {
    "papermill": {
     "duration": 0.009224,
     "end_time": "2022-07-24T09:02:23.139750",
     "exception": false,
     "start_time": "2022-07-24T09:02:23.130526",
     "status": "completed"
    },
    "tags": []
   },
   "source": [
    "## Tabular:"
   ]
  },
  {
   "cell_type": "code",
   "execution_count": 8,
   "id": "96bf7d0c",
   "metadata": {
    "execution": {
     "iopub.execute_input": "2022-07-24T09:02:23.160040Z",
     "iopub.status.busy": "2022-07-24T09:02:23.159693Z",
     "iopub.status.idle": "2022-07-24T09:02:24.356498Z",
     "shell.execute_reply": "2022-07-24T09:02:24.355431Z"
    },
    "papermill": {
     "duration": 1.209941,
     "end_time": "2022-07-24T09:02:24.359280",
     "exception": false,
     "start_time": "2022-07-24T09:02:23.149339",
     "status": "completed"
    },
    "tags": []
   },
   "outputs": [
    {
     "data": {
      "text/html": [
       "<div>\n",
       "<style scoped>\n",
       "    .dataframe tbody tr th:only-of-type {\n",
       "        vertical-align: middle;\n",
       "    }\n",
       "\n",
       "    .dataframe tbody tr th {\n",
       "        vertical-align: top;\n",
       "    }\n",
       "\n",
       "    .dataframe thead th {\n",
       "        text-align: right;\n",
       "    }\n",
       "</style>\n",
       "<table border=\"1\" class=\"dataframe\">\n",
       "  <thead>\n",
       "    <tr style=\"text-align: right;\">\n",
       "      <th></th>\n",
       "      <th>id</th>\n",
       "      <th>organ</th>\n",
       "      <th>data_source</th>\n",
       "      <th>img_height</th>\n",
       "      <th>img_width</th>\n",
       "      <th>pixel_size</th>\n",
       "      <th>tissue_thickness</th>\n",
       "      <th>rle</th>\n",
       "      <th>age</th>\n",
       "      <th>sex</th>\n",
       "    </tr>\n",
       "  </thead>\n",
       "  <tbody>\n",
       "    <tr>\n",
       "      <th>0</th>\n",
       "      <td>10044</td>\n",
       "      <td>prostate</td>\n",
       "      <td>HPA</td>\n",
       "      <td>3000</td>\n",
       "      <td>3000</td>\n",
       "      <td>0.4</td>\n",
       "      <td>4</td>\n",
       "      <td>1459676 77 1462675 82 1465674 87 1468673 92 1471671 97 1474669 101 1477667 105 1480665 109 14836...</td>\n",
       "      <td>37.0</td>\n",
       "      <td>Male</td>\n",
       "    </tr>\n",
       "    <tr>\n",
       "      <th>1</th>\n",
       "      <td>10274</td>\n",
       "      <td>prostate</td>\n",
       "      <td>HPA</td>\n",
       "      <td>3000</td>\n",
       "      <td>3000</td>\n",
       "      <td>0.4</td>\n",
       "      <td>4</td>\n",
       "      <td>715707 2 718705 8 721703 11 724701 18 727692 34 730692 35 733679 54 736677 58 739676 65 742675 6...</td>\n",
       "      <td>76.0</td>\n",
       "      <td>Male</td>\n",
       "    </tr>\n",
       "    <tr>\n",
       "      <th>2</th>\n",
       "      <td>10392</td>\n",
       "      <td>spleen</td>\n",
       "      <td>HPA</td>\n",
       "      <td>3000</td>\n",
       "      <td>3000</td>\n",
       "      <td>0.4</td>\n",
       "      <td>4</td>\n",
       "      <td>1228631 20 1231629 24 1234624 40 1237623 47 1240619 61 1243618 63 1246618 63 1249610 82 1252609 ...</td>\n",
       "      <td>82.0</td>\n",
       "      <td>Male</td>\n",
       "    </tr>\n",
       "    <tr>\n",
       "      <th>3</th>\n",
       "      <td>10488</td>\n",
       "      <td>lung</td>\n",
       "      <td>HPA</td>\n",
       "      <td>3000</td>\n",
       "      <td>3000</td>\n",
       "      <td>0.4</td>\n",
       "      <td>4</td>\n",
       "      <td>3446519 15 3449517 17 3452514 20 3455510 24 3458491 43 3461488 46 3464486 48 3467485 49 3470484 ...</td>\n",
       "      <td>78.0</td>\n",
       "      <td>Male</td>\n",
       "    </tr>\n",
       "    <tr>\n",
       "      <th>4</th>\n",
       "      <td>10610</td>\n",
       "      <td>spleen</td>\n",
       "      <td>HPA</td>\n",
       "      <td>3000</td>\n",
       "      <td>3000</td>\n",
       "      <td>0.4</td>\n",
       "      <td>4</td>\n",
       "      <td>478925 68 481909 87 484893 105 487863 154 490854 169 493845 182 496836 194 499827 205 502820 216...</td>\n",
       "      <td>21.0</td>\n",
       "      <td>Female</td>\n",
       "    </tr>\n",
       "  </tbody>\n",
       "</table>\n",
       "</div>"
      ],
      "text/plain": [
       "      id     organ data_source  img_height  img_width  pixel_size  \\\n",
       "0  10044  prostate         HPA        3000       3000         0.4   \n",
       "1  10274  prostate         HPA        3000       3000         0.4   \n",
       "2  10392    spleen         HPA        3000       3000         0.4   \n",
       "3  10488      lung         HPA        3000       3000         0.4   \n",
       "4  10610    spleen         HPA        3000       3000         0.4   \n",
       "\n",
       "   tissue_thickness  \\\n",
       "0                 4   \n",
       "1                 4   \n",
       "2                 4   \n",
       "3                 4   \n",
       "4                 4   \n",
       "\n",
       "                                                                                                   rle  \\\n",
       "0  1459676 77 1462675 82 1465674 87 1468673 92 1471671 97 1474669 101 1477667 105 1480665 109 14836...   \n",
       "1  715707 2 718705 8 721703 11 724701 18 727692 34 730692 35 733679 54 736677 58 739676 65 742675 6...   \n",
       "2  1228631 20 1231629 24 1234624 40 1237623 47 1240619 61 1243618 63 1246618 63 1249610 82 1252609 ...   \n",
       "3  3446519 15 3449517 17 3452514 20 3455510 24 3458491 43 3461488 46 3464486 48 3467485 49 3470484 ...   \n",
       "4  478925 68 481909 87 484893 105 487863 154 490854 169 493845 182 496836 194 499827 205 502820 216...   \n",
       "\n",
       "    age     sex  \n",
       "0  37.0    Male  \n",
       "1  76.0    Male  \n",
       "2  82.0    Male  \n",
       "3  78.0    Male  \n",
       "4  21.0  Female  "
      ]
     },
     "execution_count": 8,
     "metadata": {},
     "output_type": "execute_result"
    }
   ],
   "source": [
    "DIR = \"/home/lakshita/somusan/hubmap_kaggle/hubmap_data/hubmap-organ-segmentation/\"\n",
    "train_df = pd.read_csv(os.path.join(DIR,\"train.csv\"))\n",
    "train_df.head()"
   ]
  },
  {
   "cell_type": "code",
   "execution_count": 9,
   "id": "186c07d9",
   "metadata": {
    "execution": {
     "iopub.execute_input": "2022-07-24T09:02:24.383387Z",
     "iopub.status.busy": "2022-07-24T09:02:24.383108Z",
     "iopub.status.idle": "2022-07-24T09:02:25.252918Z",
     "shell.execute_reply": "2022-07-24T09:02:25.252001Z"
    },
    "papermill": {
     "duration": 0.886912,
     "end_time": "2022-07-24T09:02:25.256086",
     "exception": false,
     "start_time": "2022-07-24T09:02:24.369174",
     "status": "completed"
    },
    "tags": []
   },
   "outputs": [
    {
     "data": {
      "text/html": [
       "<div>\n",
       "<style scoped>\n",
       "    .dataframe tbody tr th:only-of-type {\n",
       "        vertical-align: middle;\n",
       "    }\n",
       "\n",
       "    .dataframe tbody tr th {\n",
       "        vertical-align: top;\n",
       "    }\n",
       "\n",
       "    .dataframe thead th {\n",
       "        text-align: right;\n",
       "    }\n",
       "</style>\n",
       "<table border=\"1\" class=\"dataframe\">\n",
       "  <thead>\n",
       "    <tr style=\"text-align: right;\">\n",
       "      <th></th>\n",
       "      <th>id</th>\n",
       "      <th>organ</th>\n",
       "      <th>data_source</th>\n",
       "      <th>img_height</th>\n",
       "      <th>img_width</th>\n",
       "      <th>pixel_size</th>\n",
       "      <th>tissue_thickness</th>\n",
       "      <th>rle</th>\n",
       "      <th>age</th>\n",
       "      <th>sex</th>\n",
       "      <th>img_path</th>\n",
       "    </tr>\n",
       "  </thead>\n",
       "  <tbody>\n",
       "    <tr>\n",
       "      <th>0</th>\n",
       "      <td>10044</td>\n",
       "      <td>prostate</td>\n",
       "      <td>HPA</td>\n",
       "      <td>3000</td>\n",
       "      <td>3000</td>\n",
       "      <td>0.4</td>\n",
       "      <td>4</td>\n",
       "      <td>1459676 77 1462675 82 1465674 87 1468673 92 1471671 97 1474669 101 1477667 105 1480665 109 14836...</td>\n",
       "      <td>37.0</td>\n",
       "      <td>Male</td>\n",
       "      <td>/home/lakshita/somusan/hubmap_kaggle/hubmap_data/hubmap-organ-segmentation/train_images/10044.tiff</td>\n",
       "    </tr>\n",
       "    <tr>\n",
       "      <th>1</th>\n",
       "      <td>10274</td>\n",
       "      <td>prostate</td>\n",
       "      <td>HPA</td>\n",
       "      <td>3000</td>\n",
       "      <td>3000</td>\n",
       "      <td>0.4</td>\n",
       "      <td>4</td>\n",
       "      <td>715707 2 718705 8 721703 11 724701 18 727692 34 730692 35 733679 54 736677 58 739676 65 742675 6...</td>\n",
       "      <td>76.0</td>\n",
       "      <td>Male</td>\n",
       "      <td>/home/lakshita/somusan/hubmap_kaggle/hubmap_data/hubmap-organ-segmentation/train_images/10274.tiff</td>\n",
       "    </tr>\n",
       "    <tr>\n",
       "      <th>2</th>\n",
       "      <td>10392</td>\n",
       "      <td>spleen</td>\n",
       "      <td>HPA</td>\n",
       "      <td>3000</td>\n",
       "      <td>3000</td>\n",
       "      <td>0.4</td>\n",
       "      <td>4</td>\n",
       "      <td>1228631 20 1231629 24 1234624 40 1237623 47 1240619 61 1243618 63 1246618 63 1249610 82 1252609 ...</td>\n",
       "      <td>82.0</td>\n",
       "      <td>Male</td>\n",
       "      <td>/home/lakshita/somusan/hubmap_kaggle/hubmap_data/hubmap-organ-segmentation/train_images/10392.tiff</td>\n",
       "    </tr>\n",
       "    <tr>\n",
       "      <th>3</th>\n",
       "      <td>10488</td>\n",
       "      <td>lung</td>\n",
       "      <td>HPA</td>\n",
       "      <td>3000</td>\n",
       "      <td>3000</td>\n",
       "      <td>0.4</td>\n",
       "      <td>4</td>\n",
       "      <td>3446519 15 3449517 17 3452514 20 3455510 24 3458491 43 3461488 46 3464486 48 3467485 49 3470484 ...</td>\n",
       "      <td>78.0</td>\n",
       "      <td>Male</td>\n",
       "      <td>/home/lakshita/somusan/hubmap_kaggle/hubmap_data/hubmap-organ-segmentation/train_images/10488.tiff</td>\n",
       "    </tr>\n",
       "    <tr>\n",
       "      <th>4</th>\n",
       "      <td>10610</td>\n",
       "      <td>spleen</td>\n",
       "      <td>HPA</td>\n",
       "      <td>3000</td>\n",
       "      <td>3000</td>\n",
       "      <td>0.4</td>\n",
       "      <td>4</td>\n",
       "      <td>478925 68 481909 87 484893 105 487863 154 490854 169 493845 182 496836 194 499827 205 502820 216...</td>\n",
       "      <td>21.0</td>\n",
       "      <td>Female</td>\n",
       "      <td>/home/lakshita/somusan/hubmap_kaggle/hubmap_data/hubmap-organ-segmentation/train_images/10610.tiff</td>\n",
       "    </tr>\n",
       "  </tbody>\n",
       "</table>\n",
       "</div>"
      ],
      "text/plain": [
       "      id     organ data_source  img_height  img_width  pixel_size  \\\n",
       "0  10044  prostate         HPA        3000       3000         0.4   \n",
       "1  10274  prostate         HPA        3000       3000         0.4   \n",
       "2  10392    spleen         HPA        3000       3000         0.4   \n",
       "3  10488      lung         HPA        3000       3000         0.4   \n",
       "4  10610    spleen         HPA        3000       3000         0.4   \n",
       "\n",
       "   tissue_thickness  \\\n",
       "0                 4   \n",
       "1                 4   \n",
       "2                 4   \n",
       "3                 4   \n",
       "4                 4   \n",
       "\n",
       "                                                                                                   rle  \\\n",
       "0  1459676 77 1462675 82 1465674 87 1468673 92 1471671 97 1474669 101 1477667 105 1480665 109 14836...   \n",
       "1  715707 2 718705 8 721703 11 724701 18 727692 34 730692 35 733679 54 736677 58 739676 65 742675 6...   \n",
       "2  1228631 20 1231629 24 1234624 40 1237623 47 1240619 61 1243618 63 1246618 63 1249610 82 1252609 ...   \n",
       "3  3446519 15 3449517 17 3452514 20 3455510 24 3458491 43 3461488 46 3464486 48 3467485 49 3470484 ...   \n",
       "4  478925 68 481909 87 484893 105 487863 154 490854 169 493845 182 496836 194 499827 205 502820 216...   \n",
       "\n",
       "    age     sex  \\\n",
       "0  37.0    Male   \n",
       "1  76.0    Male   \n",
       "2  82.0    Male   \n",
       "3  78.0    Male   \n",
       "4  21.0  Female   \n",
       "\n",
       "                                                                                             img_path  \n",
       "0  /home/lakshita/somusan/hubmap_kaggle/hubmap_data/hubmap-organ-segmentation/train_images/10044.tiff  \n",
       "1  /home/lakshita/somusan/hubmap_kaggle/hubmap_data/hubmap-organ-segmentation/train_images/10274.tiff  \n",
       "2  /home/lakshita/somusan/hubmap_kaggle/hubmap_data/hubmap-organ-segmentation/train_images/10392.tiff  \n",
       "3  /home/lakshita/somusan/hubmap_kaggle/hubmap_data/hubmap-organ-segmentation/train_images/10488.tiff  \n",
       "4  /home/lakshita/somusan/hubmap_kaggle/hubmap_data/hubmap-organ-segmentation/train_images/10610.tiff  "
      ]
     },
     "execution_count": 9,
     "metadata": {},
     "output_type": "execute_result"
    }
   ],
   "source": [
    "TRAIN_DIR = DIR + \"train_images/\"\n",
    "func = lambda x: TRAIN_DIR + str(x) + \".tiff\"\n",
    "train_df[\"img_path\"] = train_df[\"id\"].apply(func)\n",
    "train_df.head()"
   ]
  },
  {
   "cell_type": "code",
   "execution_count": 12,
   "id": "27681839",
   "metadata": {
    "execution": {
     "iopub.execute_input": "2022-07-24T09:02:25.278445Z",
     "iopub.status.busy": "2022-07-24T09:02:25.278143Z",
     "iopub.status.idle": "2022-07-24T09:02:26.287199Z",
     "shell.execute_reply": "2022-07-24T09:02:26.286214Z"
    },
    "papermill": {
     "duration": 1.022336,
     "end_time": "2022-07-24T09:02:26.289557",
     "exception": false,
     "start_time": "2022-07-24T09:02:25.267221",
     "status": "completed"
    },
    "tags": []
   },
   "outputs": [
    {
     "name": "stdout",
     "output_type": "stream",
     "text": [
      "/home/lakshita/somusan/hubmap_kaggle/hubmap_data/train_masks_np/10892.npy\n"
     ]
    },
    {
     "data": {
      "text/html": [
       "<div>\n",
       "<style scoped>\n",
       "    .dataframe tbody tr th:only-of-type {\n",
       "        vertical-align: middle;\n",
       "    }\n",
       "\n",
       "    .dataframe tbody tr th {\n",
       "        vertical-align: top;\n",
       "    }\n",
       "\n",
       "    .dataframe thead th {\n",
       "        text-align: right;\n",
       "    }\n",
       "</style>\n",
       "<table border=\"1\" class=\"dataframe\">\n",
       "  <thead>\n",
       "    <tr style=\"text-align: right;\">\n",
       "      <th></th>\n",
       "      <th>id</th>\n",
       "      <th>organ</th>\n",
       "      <th>data_source</th>\n",
       "      <th>img_height</th>\n",
       "      <th>img_width</th>\n",
       "      <th>pixel_size</th>\n",
       "      <th>tissue_thickness</th>\n",
       "      <th>rle</th>\n",
       "      <th>age</th>\n",
       "      <th>sex</th>\n",
       "      <th>img_path</th>\n",
       "      <th>mask_path</th>\n",
       "    </tr>\n",
       "  </thead>\n",
       "  <tbody>\n",
       "    <tr>\n",
       "      <th>0</th>\n",
       "      <td>10044</td>\n",
       "      <td>prostate</td>\n",
       "      <td>HPA</td>\n",
       "      <td>3000</td>\n",
       "      <td>3000</td>\n",
       "      <td>0.4</td>\n",
       "      <td>4</td>\n",
       "      <td>1459676 77 1462675 82 1465674 87 1468673 92 1471671 97 1474669 101 1477667 105 1480665 109 14836...</td>\n",
       "      <td>37.0</td>\n",
       "      <td>Male</td>\n",
       "      <td>/home/lakshita/somusan/hubmap_kaggle/hubmap_data/hubmap-organ-segmentation/train_images/10044.tiff</td>\n",
       "      <td>/home/lakshita/somusan/hubmap_kaggle/hubmap_data/train_masks_np/10044.npy</td>\n",
       "    </tr>\n",
       "    <tr>\n",
       "      <th>1</th>\n",
       "      <td>10274</td>\n",
       "      <td>prostate</td>\n",
       "      <td>HPA</td>\n",
       "      <td>3000</td>\n",
       "      <td>3000</td>\n",
       "      <td>0.4</td>\n",
       "      <td>4</td>\n",
       "      <td>715707 2 718705 8 721703 11 724701 18 727692 34 730692 35 733679 54 736677 58 739676 65 742675 6...</td>\n",
       "      <td>76.0</td>\n",
       "      <td>Male</td>\n",
       "      <td>/home/lakshita/somusan/hubmap_kaggle/hubmap_data/hubmap-organ-segmentation/train_images/10274.tiff</td>\n",
       "      <td>/home/lakshita/somusan/hubmap_kaggle/hubmap_data/train_masks_np/10274.npy</td>\n",
       "    </tr>\n",
       "    <tr>\n",
       "      <th>2</th>\n",
       "      <td>10392</td>\n",
       "      <td>spleen</td>\n",
       "      <td>HPA</td>\n",
       "      <td>3000</td>\n",
       "      <td>3000</td>\n",
       "      <td>0.4</td>\n",
       "      <td>4</td>\n",
       "      <td>1228631 20 1231629 24 1234624 40 1237623 47 1240619 61 1243618 63 1246618 63 1249610 82 1252609 ...</td>\n",
       "      <td>82.0</td>\n",
       "      <td>Male</td>\n",
       "      <td>/home/lakshita/somusan/hubmap_kaggle/hubmap_data/hubmap-organ-segmentation/train_images/10392.tiff</td>\n",
       "      <td>/home/lakshita/somusan/hubmap_kaggle/hubmap_data/train_masks_np/10392.npy</td>\n",
       "    </tr>\n",
       "    <tr>\n",
       "      <th>3</th>\n",
       "      <td>10488</td>\n",
       "      <td>lung</td>\n",
       "      <td>HPA</td>\n",
       "      <td>3000</td>\n",
       "      <td>3000</td>\n",
       "      <td>0.4</td>\n",
       "      <td>4</td>\n",
       "      <td>3446519 15 3449517 17 3452514 20 3455510 24 3458491 43 3461488 46 3464486 48 3467485 49 3470484 ...</td>\n",
       "      <td>78.0</td>\n",
       "      <td>Male</td>\n",
       "      <td>/home/lakshita/somusan/hubmap_kaggle/hubmap_data/hubmap-organ-segmentation/train_images/10488.tiff</td>\n",
       "      <td>/home/lakshita/somusan/hubmap_kaggle/hubmap_data/train_masks_np/10488.npy</td>\n",
       "    </tr>\n",
       "    <tr>\n",
       "      <th>4</th>\n",
       "      <td>10610</td>\n",
       "      <td>spleen</td>\n",
       "      <td>HPA</td>\n",
       "      <td>3000</td>\n",
       "      <td>3000</td>\n",
       "      <td>0.4</td>\n",
       "      <td>4</td>\n",
       "      <td>478925 68 481909 87 484893 105 487863 154 490854 169 493845 182 496836 194 499827 205 502820 216...</td>\n",
       "      <td>21.0</td>\n",
       "      <td>Female</td>\n",
       "      <td>/home/lakshita/somusan/hubmap_kaggle/hubmap_data/hubmap-organ-segmentation/train_images/10610.tiff</td>\n",
       "      <td>/home/lakshita/somusan/hubmap_kaggle/hubmap_data/train_masks_np/10610.npy</td>\n",
       "    </tr>\n",
       "  </tbody>\n",
       "</table>\n",
       "</div>"
      ],
      "text/plain": [
       "      id     organ data_source  img_height  img_width  pixel_size  \\\n",
       "0  10044  prostate         HPA        3000       3000         0.4   \n",
       "1  10274  prostate         HPA        3000       3000         0.4   \n",
       "2  10392    spleen         HPA        3000       3000         0.4   \n",
       "3  10488      lung         HPA        3000       3000         0.4   \n",
       "4  10610    spleen         HPA        3000       3000         0.4   \n",
       "\n",
       "   tissue_thickness  \\\n",
       "0                 4   \n",
       "1                 4   \n",
       "2                 4   \n",
       "3                 4   \n",
       "4                 4   \n",
       "\n",
       "                                                                                                   rle  \\\n",
       "0  1459676 77 1462675 82 1465674 87 1468673 92 1471671 97 1474669 101 1477667 105 1480665 109 14836...   \n",
       "1  715707 2 718705 8 721703 11 724701 18 727692 34 730692 35 733679 54 736677 58 739676 65 742675 6...   \n",
       "2  1228631 20 1231629 24 1234624 40 1237623 47 1240619 61 1243618 63 1246618 63 1249610 82 1252609 ...   \n",
       "3  3446519 15 3449517 17 3452514 20 3455510 24 3458491 43 3461488 46 3464486 48 3467485 49 3470484 ...   \n",
       "4  478925 68 481909 87 484893 105 487863 154 490854 169 493845 182 496836 194 499827 205 502820 216...   \n",
       "\n",
       "    age     sex  \\\n",
       "0  37.0    Male   \n",
       "1  76.0    Male   \n",
       "2  82.0    Male   \n",
       "3  78.0    Male   \n",
       "4  21.0  Female   \n",
       "\n",
       "                                                                                             img_path  \\\n",
       "0  /home/lakshita/somusan/hubmap_kaggle/hubmap_data/hubmap-organ-segmentation/train_images/10044.tiff   \n",
       "1  /home/lakshita/somusan/hubmap_kaggle/hubmap_data/hubmap-organ-segmentation/train_images/10274.tiff   \n",
       "2  /home/lakshita/somusan/hubmap_kaggle/hubmap_data/hubmap-organ-segmentation/train_images/10392.tiff   \n",
       "3  /home/lakshita/somusan/hubmap_kaggle/hubmap_data/hubmap-organ-segmentation/train_images/10488.tiff   \n",
       "4  /home/lakshita/somusan/hubmap_kaggle/hubmap_data/hubmap-organ-segmentation/train_images/10610.tiff   \n",
       "\n",
       "                                                                   mask_path  \n",
       "0  /home/lakshita/somusan/hubmap_kaggle/hubmap_data/train_masks_np/10044.npy  \n",
       "1  /home/lakshita/somusan/hubmap_kaggle/hubmap_data/train_masks_np/10274.npy  \n",
       "2  /home/lakshita/somusan/hubmap_kaggle/hubmap_data/train_masks_np/10392.npy  \n",
       "3  /home/lakshita/somusan/hubmap_kaggle/hubmap_data/train_masks_np/10488.npy  \n",
       "4  /home/lakshita/somusan/hubmap_kaggle/hubmap_data/train_masks_np/10610.npy  "
      ]
     },
     "execution_count": 12,
     "metadata": {},
     "output_type": "execute_result"
    }
   ],
   "source": [
    "MASK_DIR = \"/home/lakshita/somusan/hubmap_kaggle/hubmap_data/train_masks_np/\"\n",
    "func1 = lambda x: MASK_DIR + str(x) + \".npy\"\n",
    "train_df[\"mask_path\"] = train_df[\"id\"].apply(func1)\n",
    "print(train_df[\"mask_path\"].iloc[9])\n",
    "train_df.head()"
   ]
  },
  {
   "cell_type": "code",
   "execution_count": 13,
   "id": "869a3e97",
   "metadata": {},
   "outputs": [
    {
     "data": {
      "text/plain": [
       "0      /home/lakshita/somusan/hubmap_kaggle/hubmap_data/train_masks_np/10044.npy\n",
       "1      /home/lakshita/somusan/hubmap_kaggle/hubmap_data/train_masks_np/10274.npy\n",
       "2      /home/lakshita/somusan/hubmap_kaggle/hubmap_data/train_masks_np/10392.npy\n",
       "3      /home/lakshita/somusan/hubmap_kaggle/hubmap_data/train_masks_np/10488.npy\n",
       "4      /home/lakshita/somusan/hubmap_kaggle/hubmap_data/train_masks_np/10610.npy\n",
       "                                         ...                                    \n",
       "346     /home/lakshita/somusan/hubmap_kaggle/hubmap_data/train_masks_np/9517.npy\n",
       "347     /home/lakshita/somusan/hubmap_kaggle/hubmap_data/train_masks_np/9769.npy\n",
       "348     /home/lakshita/somusan/hubmap_kaggle/hubmap_data/train_masks_np/9777.npy\n",
       "349     /home/lakshita/somusan/hubmap_kaggle/hubmap_data/train_masks_np/9791.npy\n",
       "350     /home/lakshita/somusan/hubmap_kaggle/hubmap_data/train_masks_np/9904.npy\n",
       "Name: mask_path, Length: 351, dtype: object"
      ]
     },
     "execution_count": 13,
     "metadata": {},
     "output_type": "execute_result"
    }
   ],
   "source": [
    "train_df[\"mask_path\"]"
   ]
  },
  {
   "cell_type": "code",
   "execution_count": 15,
   "id": "2d27bd28",
   "metadata": {
    "execution": {
     "iopub.execute_input": "2022-07-24T09:02:26.312343Z",
     "iopub.status.busy": "2022-07-24T09:02:26.311794Z",
     "iopub.status.idle": "2022-07-24T09:02:27.173091Z",
     "shell.execute_reply": "2022-07-24T09:02:27.172161Z"
    },
    "papermill": {
     "duration": 0.875129,
     "end_time": "2022-07-24T09:02:27.175524",
     "exception": false,
     "start_time": "2022-07-24T09:02:26.300395",
     "status": "completed"
    },
    "tags": []
   },
   "outputs": [
    {
     "data": {
      "text/plain": [
       "(224, 56)"
      ]
     },
     "execution_count": 15,
     "metadata": {},
     "output_type": "execute_result"
    }
   ],
   "source": [
    "train_df, test_df = train_test_split(train_df, test_size=0.2, random_state=42)\n",
    "\n",
    "train_df.__len__(), len(test_df)"
   ]
  },
  {
   "cell_type": "code",
   "execution_count": 10,
   "id": "3c54ede7",
   "metadata": {
    "execution": {
     "iopub.execute_input": "2022-07-24T09:02:27.198363Z",
     "iopub.status.busy": "2022-07-24T09:02:27.197404Z",
     "iopub.status.idle": "2022-07-24T09:02:28.411504Z",
     "shell.execute_reply": "2022-07-24T09:02:28.410587Z"
    },
    "papermill": {
     "duration": 1.227746,
     "end_time": "2022-07-24T09:02:28.413817",
     "exception": false,
     "start_time": "2022-07-24T09:02:27.186071",
     "status": "completed"
    },
    "tags": []
   },
   "outputs": [
    {
     "name": "stdout",
     "output_type": "stream",
     "text": [
      "4.57 ms ± 612 µs per loop (mean ± std. dev. of 7 runs, 1 loop each)\n"
     ]
    }
   ],
   "source": [
    "%timeit img_temp = imread(train_df[\"img_path\"].iloc[0])"
   ]
  },
  {
   "cell_type": "markdown",
   "id": "8ccb66e2",
   "metadata": {
    "papermill": {
     "duration": 0.010166,
     "end_time": "2022-07-24T09:02:28.434655",
     "exception": false,
     "start_time": "2022-07-24T09:02:28.424489",
     "status": "completed"
    },
    "tags": []
   },
   "source": [
    "# Pytorch Data Class:"
   ]
  },
  {
   "cell_type": "code",
   "execution_count": 17,
   "id": "f4869912",
   "metadata": {
    "execution": {
     "iopub.execute_input": "2022-07-24T09:02:28.460746Z",
     "iopub.status.busy": "2022-07-24T09:02:28.459820Z",
     "iopub.status.idle": "2022-07-24T09:02:29.444762Z",
     "shell.execute_reply": "2022-07-24T09:02:29.443743Z"
    },
    "papermill": {
     "duration": 1.002536,
     "end_time": "2022-07-24T09:02:29.447637",
     "exception": false,
     "start_time": "2022-07-24T09:02:28.445101",
     "status": "completed"
    },
    "tags": []
   },
   "outputs": [],
   "source": [
    "mean = np.array([0.7720342, 0.74582646, 0.76392896])\n",
    "std = np.array([0.24745085, 0.26182273, 0.25782376])\n",
    "\n",
    "\n",
    "def img2tensor(img,dtype:np.dtype=np.float32):\n",
    "    if img.ndim==2 : img = np.expand_dims(img,2)\n",
    "    img = np.transpose(img,(2,0,1))\n",
    "    return torch.from_numpy(img.astype(dtype, copy=False))\n",
    "\n",
    "\n",
    "\n",
    "class hubmap_data(Dataset):\n",
    "    def __init__(self, df, transform=None):\n",
    "        self.df = df\n",
    "        self.img_paths = df[\"img_path\"].to_numpy()\n",
    "        self.mask_paths = df[\"mask_path\"].to_numpy()\n",
    "        self.transform = transform\n",
    "        \n",
    "        \n",
    "    def __getitem__(self, index):\n",
    "        # load data from the pre-processed npy files\n",
    "        img_file = self.img_paths[index]\n",
    "#         print(img_file)\n",
    "        mask_file = self.mask_paths[index]\n",
    "        img = imread(img_file)#cv2.cvtColor(cv2.imread(img_file), cv2.COLOR_BGR2RGB)\n",
    "#         img = imread(img_file) #np.moveaxis(imread(img_file), -1, 0) #torch.from_numpy(np.moveaxis(imread(img_file), -1, 0))\n",
    "        # semantic = torch.from_numpy(np.load(self.data_path + '/label/{:d}.npy'.format(index)))\n",
    "#         mask = torch.from_numpy(np.moveaxis(np.load(mask_file), -1, 0))\n",
    "        mask = np.load(mask_file)#np.moveaxis(np.load(mask_file), -1, 0) #torch.from_numpy(np.moveaxis(np.load(mask_file), -1, 0))\n",
    "        \n",
    "        \n",
    "#       print(depth.shape)\n",
    "        if self.transform is not None:\n",
    "            transformed = self.transform(image=img, mask=mask)\n",
    "            img = transformed[\"image\"]\n",
    "            mask = transformed[\"mask\"]\n",
    "\n",
    "            if mask.shape[-1] == 1:\n",
    "                mask = mask.permute(2,0,1)\n",
    "                \n",
    "                \n",
    "        return img2tensor((img/255.0 - mean)/std),img2tensor(mask)\n",
    "\n",
    "    def __len__(self):\n",
    "        return len(self.df)"
   ]
  },
  {
   "cell_type": "code",
   "execution_count": 18,
   "id": "86c84c6e",
   "metadata": {
    "execution": {
     "iopub.execute_input": "2022-07-24T09:02:29.476459Z",
     "iopub.status.busy": "2022-07-24T09:02:29.476175Z",
     "iopub.status.idle": "2022-07-24T09:02:30.391566Z",
     "shell.execute_reply": "2022-07-24T09:02:30.389926Z"
    },
    "papermill": {
     "duration": 0.931066,
     "end_time": "2022-07-24T09:02:30.395278",
     "exception": false,
     "start_time": "2022-07-24T09:02:29.464212",
     "status": "completed"
    },
    "tags": []
   },
   "outputs": [],
   "source": [
    "train_transform = A.Compose(\n",
    "    [\n",
    "        A.Resize(256, 256, p=1),\n",
    "#         A.HorizontalFlip(p=1.0),\n",
    "#         A.RandomCrop(224, 224, p=0.3),\n",
    "#         A.RandomSizedCrop(cfg[\"min_max_height\"], cfg[\"height\"], cfg[\"width\"], cfg[\"w2h_ratio\"], cfg[\"interpolation\"], p=1), \n",
    "#         ToTensorV2(),\n",
    "    ]\n",
    ")\n",
    "\n",
    "test_transform = A.Compose(\n",
    "    [\n",
    "        A.Resize(256, 256, p=1.0),\n",
    "#         ToTensorV2(),\n",
    "    ]\n",
    ")"
   ]
  },
  {
   "cell_type": "code",
   "execution_count": 19,
   "id": "708bdcdf",
   "metadata": {
    "execution": {
     "iopub.execute_input": "2022-07-24T09:02:30.418838Z",
     "iopub.status.busy": "2022-07-24T09:02:30.418504Z",
     "iopub.status.idle": "2022-07-24T09:02:31.868643Z",
     "shell.execute_reply": "2022-07-24T09:02:31.867660Z"
    },
    "papermill": {
     "duration": 1.464105,
     "end_time": "2022-07-24T09:02:31.871101",
     "exception": false,
     "start_time": "2022-07-24T09:02:30.406996",
     "status": "completed"
    },
    "tags": []
   },
   "outputs": [
    {
     "name": "stdout",
     "output_type": "stream",
     "text": [
      "torch.Size([3, 256, 256]) torch.Size([1, 256, 256])\n"
     ]
    }
   ],
   "source": [
    "train_data = hubmap_data(train_df,train_transform)\n",
    "test_data = hubmap_data(test_df, test_transform)\n",
    "\n",
    "print(train_data[10][0].shape, train_data[10][1].shape)\n",
    "# test_data[10][0].shape, test_data[10][1].shape"
   ]
  },
  {
   "cell_type": "code",
   "execution_count": 20,
   "id": "8648d374",
   "metadata": {
    "execution": {
     "iopub.execute_input": "2022-07-24T09:02:31.898832Z",
     "iopub.status.busy": "2022-07-24T09:02:31.898517Z",
     "iopub.status.idle": "2022-07-24T09:02:32.992281Z",
     "shell.execute_reply": "2022-07-24T09:02:32.991257Z"
    },
    "papermill": {
     "duration": 1.109459,
     "end_time": "2022-07-24T09:02:32.994644",
     "exception": false,
     "start_time": "2022-07-24T09:02:31.885185",
     "status": "completed"
    },
    "tags": []
   },
   "outputs": [
    {
     "data": {
      "text/plain": [
       "<matplotlib.image.AxesImage at 0x7f68cf1abe80>"
      ]
     },
     "execution_count": 20,
     "metadata": {},
     "output_type": "execute_result"
    },
    {
     "data": {
      "image/png": "[encoded data removed]",
      "text/plain": [
       "<Figure size 432x288 with 1 Axes>"
      ]
     },
     "metadata": {
      "needs_background": "light"
     },
     "output_type": "display_data"
    }
   ],
   "source": [
    "temp_img = train_data[10][0]\n",
    "temp_mask = train_data[10][1]\n",
    "# plt.imshow(temp_mask.detach().numpy())\n",
    "# plt.imshow(temp_img.permute(1,2,0).detach().numpy())\n",
    "img_trfm = ((temp_img.permute(1,2,0)*std + mean)*255.0).numpy().astype(np.uint8)\n",
    "plt.imshow(img_trfm)\n",
    "# temp_img.permute(1,2,0).detach().numpy()"
   ]
  },
  {
   "cell_type": "markdown",
   "id": "6c61d7fe",
   "metadata": {
    "papermill": {
     "duration": 0.010547,
     "end_time": "2022-07-24T09:02:33.016193",
     "exception": false,
     "start_time": "2022-07-24T09:02:33.005646",
     "status": "completed"
    },
    "tags": []
   },
   "source": [
    "# Unet Model:"
   ]
  },
  {
   "cell_type": "code",
   "execution_count": 21,
   "id": "e939987b",
   "metadata": {
    "execution": {
     "iopub.execute_input": "2022-07-24T09:02:33.039007Z",
     "iopub.status.busy": "2022-07-24T09:02:33.038374Z",
     "iopub.status.idle": "2022-07-24T09:02:33.959169Z",
     "shell.execute_reply": "2022-07-24T09:02:33.958130Z"
    },
    "papermill": {
     "duration": 0.934725,
     "end_time": "2022-07-24T09:02:33.961451",
     "exception": false,
     "start_time": "2022-07-24T09:02:33.026726",
     "status": "completed"
    },
    "tags": []
   },
   "outputs": [],
   "source": [
    "def init_model():\n",
    "    model =  smp.Unet(\n",
    "                 encoder_name='efficientnet-b0',\n",
    "                 encoder_weights='imagenet',\n",
    "                 in_channels=3,\n",
    "                 classes=1)\n",
    "    return model"
   ]
  },
  {
   "cell_type": "markdown",
   "id": "ca60848f",
   "metadata": {
    "papermill": {
     "duration": 0.011053,
     "end_time": "2022-07-24T09:02:33.985064",
     "exception": false,
     "start_time": "2022-07-24T09:02:33.974011",
     "status": "completed"
    },
    "tags": []
   },
   "source": [
    "# Model check:"
   ]
  },
  {
   "cell_type": "code",
   "execution_count": 22,
   "id": "dc10d00a",
   "metadata": {
    "execution": {
     "iopub.execute_input": "2022-07-24T09:02:34.007925Z",
     "iopub.status.busy": "2022-07-24T09:02:34.007110Z",
     "iopub.status.idle": "2022-07-24T09:02:43.192846Z",
     "shell.execute_reply": "2022-07-24T09:02:43.191674Z"
    },
    "papermill": {
     "duration": 9.199981,
     "end_time": "2022-07-24T09:02:43.195565",
     "exception": false,
     "start_time": "2022-07-24T09:02:33.995584",
     "status": "completed"
    },
    "tags": []
   },
   "outputs": [
    {
     "data": {
      "text/plain": [
       "torch.Size([1, 1, 256, 256])"
      ]
     },
     "execution_count": 22,
     "metadata": {},
     "output_type": "execute_result"
    }
   ],
   "source": [
    "train_on_gpu = torch.cuda.is_available()\n",
    "model = init_model() #UNet(n_channels=CONFIG[\"in_channels\"], n_classes=CONFIG[\"num_classes\"])\n",
    "if train_on_gpu:\n",
    "    model.cuda()\n",
    "\n",
    "model(temp_img.unsqueeze(0).float().cuda()).shape"
   ]
  },
  {
   "cell_type": "markdown",
   "id": "31c9ca21",
   "metadata": {
    "papermill": {
     "duration": 0.011411,
     "end_time": "2022-07-24T09:02:43.223641",
     "exception": false,
     "start_time": "2022-07-24T09:02:43.212230",
     "status": "completed"
    },
    "tags": []
   },
   "source": [
    "# DataLoader"
   ]
  },
  {
   "cell_type": "code",
   "execution_count": 23,
   "id": "18912a76",
   "metadata": {
    "execution": {
     "iopub.execute_input": "2022-07-24T09:02:43.247444Z",
     "iopub.status.busy": "2022-07-24T09:02:43.247149Z",
     "iopub.status.idle": "2022-07-24T09:02:44.146944Z",
     "shell.execute_reply": "2022-07-24T09:02:44.145988Z"
    },
    "papermill": {
     "duration": 0.915029,
     "end_time": "2022-07-24T09:02:44.149887",
     "exception": false,
     "start_time": "2022-07-24T09:02:43.234858",
     "status": "completed"
    },
    "tags": []
   },
   "outputs": [],
   "source": [
    "# REMARK shuffle = False [result might change with shuffle =True]\n",
    "train_loader = torch.utils.data.DataLoader(\n",
    "               dataset=train_data,\n",
    "               batch_size=CONFIG[\"BATCH_SIZE\"],\n",
    "               shuffle=False,\n",
    "               num_workers=2)\n",
    "\n",
    "test_loader = torch.utils.data.DataLoader(\n",
    "              dataset=test_data,\n",
    "              batch_size=CONFIG[\"BATCH_SIZE\"],\n",
    "              shuffle=False,\n",
    "              num_workers=2)"
   ]
  },
  {
   "cell_type": "code",
   "execution_count": null,
   "id": "ecdc3aa1",
   "metadata": {},
   "outputs": [],
   "source": [
    "# ds = HuBMAPDataset(tfms=albu_aug())\n",
    "# dl = torch.utils.data.DataLoader(ds,batch_size=64,shuffle=False,num_workers=NUM_WORKERS)\n",
    "it = iter(train_loader)\n",
    "imgs,masks = next(it)\n",
    "print(masks.dtype)\n",
    "plt.figure(figsize=(16,16))\n",
    "for i,(img,mask) in enumerate(zip(imgs,masks)):\n",
    "    img = ((img.permute(1,2,0))).numpy().astype(np.uint8)  # H , W , C\n",
    "    plt.subplot(8,8,i+1)\n",
    "    plt.imshow(img,vmin=0,vmax=255)\n",
    "    plt.imshow(mask.squeeze().numpy(), alpha=0.2)\n",
    "    plt.axis('off')\n",
    "    plt.subplots_adjust(wspace=None, hspace=None)\n",
    "    \n",
    "# del ds,dl,imgs,masks"
   ]
  },
  {
   "cell_type": "markdown",
   "id": "589e8ecd",
   "metadata": {
    "papermill": {
     "duration": 0.011501,
     "end_time": "2022-07-24T09:02:44.173568",
     "exception": false,
     "start_time": "2022-07-24T09:02:44.162067",
     "status": "completed"
    },
    "tags": []
   },
   "source": [
    "# Loss, Optimizer & Metric:"
   ]
  },
  {
   "cell_type": "code",
   "execution_count": 25,
   "id": "b81023b9",
   "metadata": {
    "execution": {
     "iopub.execute_input": "2022-07-24T09:02:44.200841Z",
     "iopub.status.busy": "2022-07-24T09:02:44.200076Z",
     "iopub.status.idle": "2022-07-24T09:02:45.106576Z",
     "shell.execute_reply": "2022-07-24T09:02:45.105569Z"
    },
    "papermill": {
     "duration": 0.924541,
     "end_time": "2022-07-24T09:02:45.109416",
     "exception": false,
     "start_time": "2022-07-24T09:02:44.184875",
     "status": "completed"
    },
    "tags": []
   },
   "outputs": [],
   "source": [
    "#PyTorch\n",
    "class DiceLoss(nn.Module):\n",
    "    def __init__(self, weight=None, size_average=True):\n",
    "        super(DiceLoss, self).__init__()\n",
    "\n",
    "    def forward(self, inputs, targets, smooth=1):\n",
    "        \n",
    "        #comment out if your model contains a sigmoid or equivalent activation layer\n",
    "        inputs = F.sigmoid(inputs)       \n",
    "        \n",
    "        #flatten label and prediction tensors\n",
    "        inputs = inputs.view(-1)\n",
    "        targets = targets.view(-1)\n",
    "        \n",
    "        intersection = (inputs * targets).sum()                            \n",
    "        dice = (2.*intersection + smooth)/(inputs.sum() + targets.sum() + smooth)  \n",
    "        \n",
    "        return 1 - dice\n",
    "\n",
    "loss_fn = DiceLoss() #Dice()\n",
    "optimizer = optim.Adam(model.parameters(), lr=CONFIG[\"LEARNING_RATE\"],weight_decay=1e-5)"
   ]
  },
  {
   "cell_type": "code",
   "execution_count": 26,
   "id": "259eaca9",
   "metadata": {
    "execution": {
     "iopub.execute_input": "2022-07-24T09:02:45.137917Z",
     "iopub.status.busy": "2022-07-24T09:02:45.137022Z",
     "iopub.status.idle": "2022-07-24T09:02:46.008302Z",
     "shell.execute_reply": "2022-07-24T09:02:46.007427Z"
    },
    "papermill": {
     "duration": 0.886676,
     "end_time": "2022-07-24T09:02:46.011000",
     "exception": false,
     "start_time": "2022-07-24T09:02:45.124324",
     "status": "completed"
    },
    "tags": []
   },
   "outputs": [],
   "source": [
    "def dice_coef(y_true, y_pred, thr=0.5, dim=(2,3), epsilon=0.001):\n",
    "    y_true = y_true.to(torch.float32)\n",
    "    y_pred = (y_pred>thr).to(torch.float32)\n",
    "    inter = (y_true*y_pred).sum(dim=dim)\n",
    "    den = y_true.sum(dim=dim) + y_pred.sum(dim=dim)\n",
    "    dice = ((2*inter+epsilon)/(den+epsilon)).mean(dim=(1,0))\n",
    "    return dice\n",
    "\n",
    "def iou_coef(y_true, y_pred, thr=0.5, dim=(2,3), epsilon=0.001):\n",
    "    y_true = y_true.to(torch.float32)\n",
    "    y_pred = (y_pred>thr).to(torch.float32)\n",
    "    inter = (y_true*y_pred).sum(dim=dim)\n",
    "    union = (y_true + y_pred - y_true*y_pred).sum(dim=dim)\n",
    "    iou = ((inter+epsilon)/(union+epsilon)).mean(dim=(1,0))\n",
    "    return iou"
   ]
  },
  {
   "cell_type": "markdown",
   "id": "c852e837",
   "metadata": {
    "papermill": {
     "duration": 0.010507,
     "end_time": "2022-07-24T09:02:46.032352",
     "exception": false,
     "start_time": "2022-07-24T09:02:46.021845",
     "status": "completed"
    },
    "tags": []
   },
   "source": [
    "# model save class:"
   ]
  },
  {
   "cell_type": "code",
   "execution_count": 27,
   "id": "2ce29431",
   "metadata": {
    "execution": {
     "iopub.execute_input": "2022-07-24T09:02:46.061366Z",
     "iopub.status.busy": "2022-07-24T09:02:46.060360Z",
     "iopub.status.idle": "2022-07-24T09:02:47.064875Z",
     "shell.execute_reply": "2022-07-24T09:02:47.063982Z"
    },
    "papermill": {
     "duration": 1.02092,
     "end_time": "2022-07-24T09:02:47.067781",
     "exception": false,
     "start_time": "2022-07-24T09:02:46.046861",
     "status": "completed"
    },
    "tags": []
   },
   "outputs": [],
   "source": [
    "model_path = \"./model_weights\"\n",
    "if not os.path.exists(model_path):\n",
    "    os.makedirs(model_path)\n",
    "    \n",
    "def save_model(model, optimizer, criterion, epoch):\n",
    "    \"\"\"\n",
    "    Function to save the trained model to disk.\n",
    "    \"\"\"\n",
    "    print(f\"\\n Saving model at {epoch}th epoch\")\n",
    "    fname = f'{model_path}/{CONFIG[\"model_name\"]}-{CONFIG[\"LEARNING_RATE\"]}-{CONFIG[\"AUG\"]}-{epoch}-{CONFIG[\"BATCH_SIZE\"]}.pth'\n",
    "    torch.save({\n",
    "                'epoch': epoch,\n",
    "                'model_state_dict': model.state_dict(),\n",
    "                'optimizer_state_dict': optimizer.state_dict(),\n",
    "                'loss': criterion,\n",
    "                }, fname )\n",
    "    return fname"
   ]
  },
  {
   "cell_type": "markdown",
   "id": "a0713166",
   "metadata": {
    "papermill": {
     "duration": 0.023173,
     "end_time": "2022-07-24T09:02:47.116268",
     "exception": false,
     "start_time": "2022-07-24T09:02:47.093095",
     "status": "completed"
    },
    "tags": []
   },
   "source": [
    "## Train & Validation Function:"
   ]
  },
  {
   "cell_type": "code",
   "execution_count": 30,
   "id": "9d7a4e21",
   "metadata": {
    "execution": {
     "iopub.execute_input": "2022-07-24T09:02:47.146265Z",
     "iopub.status.busy": "2022-07-24T09:02:47.145922Z",
     "iopub.status.idle": "2022-07-24T09:02:47.995031Z",
     "shell.execute_reply": "2022-07-24T09:02:47.994096Z"
    },
    "papermill": {
     "duration": 0.863072,
     "end_time": "2022-07-24T09:02:47.997338",
     "exception": false,
     "start_time": "2022-07-24T09:02:47.134266",
     "status": "completed"
    },
    "tags": []
   },
   "outputs": [],
   "source": [
    "def train_fn(loader, model, optimizer, loss_fn,epoch):\n",
    "    bar = tqdm(enumerate(loader), total=len(loader))\n",
    "    \n",
    "    \n",
    "    running_loss = 0.0\n",
    "    dataset_size = 0\n",
    "    \n",
    "    for batch_idx, (data, targets) in bar:\n",
    "        data = data.to(device=CONFIG[\"DEVICE\"])\n",
    "        targets = targets.float().to(device=CONFIG[\"DEVICE\"])\n",
    "\n",
    "        # forward\n",
    "        predictions = model(data)\n",
    "        loss = loss_fn(predictions, targets)\n",
    "\n",
    "        \n",
    "        optimizer.zero_grad()\n",
    "        # backward\n",
    "        loss.backward()\n",
    "        # Update Weights\n",
    "        optimizer.step()\n",
    "        \n",
    "        # Calculate Loss\n",
    "        running_loss += loss.item()\n",
    "        \n",
    "        epoch_loss = running_loss / len(loader)\n",
    "#         running_loss += (loss.item() * BATCH_SIZE)\n",
    "#         dataset_size += BATCH_SIZE\n",
    "        \n",
    "#         epoch_loss = running_loss / dataset_size\n",
    "        # update tqdm loop\n",
    "        bar.set_postfix(Epoch=epoch,loss=epoch_loss)\n",
    "    \n",
    "        \n",
    "    gc.collect()\n",
    "    \n",
    "    return epoch_loss"
   ]
  },
  {
   "cell_type": "code",
   "execution_count": 31,
   "id": "34bdf758",
   "metadata": {
    "execution": {
     "iopub.execute_input": "2022-07-24T09:02:48.020209Z",
     "iopub.status.busy": "2022-07-24T09:02:48.019863Z",
     "iopub.status.idle": "2022-07-24T09:02:48.998485Z",
     "shell.execute_reply": "2022-07-24T09:02:48.997571Z"
    },
    "papermill": {
     "duration": 0.992802,
     "end_time": "2022-07-24T09:02:49.001169",
     "exception": false,
     "start_time": "2022-07-24T09:02:48.008367",
     "status": "completed"
    },
    "tags": []
   },
   "outputs": [],
   "source": [
    "@torch.no_grad()\n",
    "def valid_one_epoch(model, dataloader, device, epoch):\n",
    "    model.eval()\n",
    "    \n",
    "    dataset_size = 0\n",
    "    running_loss = 0.0\n",
    "#     criterion = losses[CFG.loss]\n",
    "    \n",
    "    val_scores = []\n",
    "    \n",
    "    pbar = tqdm(enumerate(dataloader), total=len(dataloader))\n",
    "    for step, (images, masks) in pbar:\n",
    "        images  = images.to(CONFIG[\"DEVICE\"], dtype=torch.float)\n",
    "        masks   = masks.to(CONFIG[\"DEVICE\"], dtype=torch.float)\n",
    "        \n",
    "        \n",
    "        y_pred  = model(images)\n",
    "        loss    = loss_fn(y_pred, masks)\n",
    "        \n",
    "        running_loss += (loss.item() * CONFIG[\"BATCH_SIZE\"])\n",
    "        dataset_size += CONFIG[\"BATCH_SIZE\"]\n",
    "        \n",
    "        epoch_loss = running_loss / dataset_size\n",
    "        \n",
    "        y_pred = nn.Sigmoid()(y_pred)\n",
    "        val_dice = dice_coef(masks, y_pred).cpu().detach().numpy()\n",
    "        val_jaccard = iou_coef(masks, y_pred).cpu().detach().numpy()\n",
    "        val_scores.append([val_dice, val_jaccard])\n",
    "        \n",
    "        mem = torch.cuda.memory_reserved() / 1E9 if torch.cuda.is_available() else 0\n",
    "        current_lr = optimizer.param_groups[0]['lr']\n",
    "        pbar.set_postfix(valid_loss=f'{epoch_loss:0.4f}',\n",
    "                        lr=f'{current_lr:0.5f}',\n",
    "                        gpu_memory=f'{mem:0.2f} GB')\n",
    "    val_scores  = np.mean(val_scores, axis=0)\n",
    "    torch.cuda.empty_cache()\n",
    "    gc.collect()\n",
    "    \n",
    "    return epoch_loss, val_scores"
   ]
  },
  {
   "cell_type": "markdown",
   "id": "a6d3f4ff",
   "metadata": {
    "papermill": {
     "duration": 0.010268,
     "end_time": "2022-07-24T09:02:49.022583",
     "exception": false,
     "start_time": "2022-07-24T09:02:49.012315",
     "status": "completed"
    },
    "tags": []
   },
   "source": [
    "# Train loop:"
   ]
  },
  {
   "cell_type": "code",
   "execution_count": 32,
   "id": "fe81f03b",
   "metadata": {
    "execution": {
     "iopub.execute_input": "2022-07-24T09:02:49.045176Z",
     "iopub.status.busy": "2022-07-24T09:02:49.044838Z",
     "iopub.status.idle": "2022-07-24T09:57:16.836873Z",
     "shell.execute_reply": "2022-07-24T09:57:16.835762Z"
    },
    "papermill": {
     "duration": 3267.80702,
     "end_time": "2022-07-24T09:57:16.840024",
     "exception": false,
     "start_time": "2022-07-24T09:02:49.033004",
     "status": "completed"
    },
    "tags": []
   },
   "outputs": [
    {
     "name": "stdout",
     "output_type": "stream",
     "text": [
      "\u001b[0m===================== Epoch: [1/40] =====================\n"
     ]
    },
    {
     "name": "stderr",
     "output_type": "stream",
     "text": [
      "100%|██████████| 28/28 [02:50<00:00,  6.08s/it, Epoch=1, loss=0.813]\n",
      "100%|██████████| 7/7 [00:44<00:00,  6.35s/it, gpu_memory=3.50 GB, lr=0.00010, valid_loss=0.8255]\n"
     ]
    },
    {
     "name": "stdout",
     "output_type": "stream",
     "text": [
      "\n",
      " Saving model at 1th epoch\n",
      "\n",
      " Final Train Loss: 0.8132  |  Final Val Loss: 0.8255\n",
      "Valid Dice: 0.1624 | Valid Jaccard: 0.0948\n",
      "\u001b[34mval dice increased: -inf ---> 0.16235117614269257\n",
      "\u001b[34mval jaccard increased: -inf ---> 0.0947938784956932\n",
      "\u001b[0m===================== Epoch: [2/40] =====================\n"
     ]
    },
    {
     "name": "stderr",
     "output_type": "stream",
     "text": [
      "100%|██████████| 28/28 [01:12<00:00,  2.59s/it, Epoch=2, loss=0.803]\n",
      "100%|██████████| 7/7 [00:01<00:00,  6.91it/s, gpu_memory=3.37 GB, lr=0.00010, valid_loss=0.8124]\n"
     ]
    },
    {
     "name": "stdout",
     "output_type": "stream",
     "text": [
      "\n",
      " Saving model at 2th epoch\n",
      "\n",
      " Final Train Loss: 0.8031  |  Final Val Loss: 0.8124\n",
      "Valid Dice: 0.1624 | Valid Jaccard: 0.0948\n",
      "\u001b[0m===================== Epoch: [3/40] =====================\n"
     ]
    },
    {
     "name": "stderr",
     "output_type": "stream",
     "text": [
      "100%|██████████| 28/28 [00:06<00:00,  4.05it/s, Epoch=3, loss=0.799]\n",
      "100%|██████████| 7/7 [00:00<00:00,  7.07it/s, gpu_memory=3.37 GB, lr=0.00010, valid_loss=0.8102]\n"
     ]
    },
    {
     "name": "stdout",
     "output_type": "stream",
     "text": [
      "\n",
      " Saving model at 3th epoch\n",
      "\n",
      " Final Train Loss: 0.7994  |  Final Val Loss: 0.8102\n",
      "Valid Dice: 0.2212 | Valid Jaccard: 0.1374\n",
      "\u001b[34mval dice increased: 0.16235117614269257 ---> 0.22124025225639343\n",
      "\u001b[34mval jaccard increased: 0.0947938784956932 ---> 0.13735531270503998\n",
      "\u001b[0m===================== Epoch: [4/40] =====================\n"
     ]
    },
    {
     "name": "stderr",
     "output_type": "stream",
     "text": [
      "100%|██████████| 28/28 [00:06<00:00,  4.05it/s, Epoch=4, loss=0.797]\n",
      "100%|██████████| 7/7 [00:01<00:00,  6.99it/s, gpu_memory=3.37 GB, lr=0.00010, valid_loss=0.8069]\n"
     ]
    },
    {
     "name": "stdout",
     "output_type": "stream",
     "text": [
      "\n",
      " Saving model at 4th epoch\n",
      "\n",
      " Final Train Loss: 0.7973  |  Final Val Loss: 0.8069\n",
      "Valid Dice: 0.2372 | Valid Jaccard: 0.1496\n",
      "\u001b[34mval dice increased: 0.22124025225639343 ---> 0.23722092807292938\n",
      "\u001b[34mval jaccard increased: 0.13735531270503998 ---> 0.14961457252502441\n",
      "\u001b[0m===================== Epoch: [5/40] =====================\n"
     ]
    },
    {
     "name": "stderr",
     "output_type": "stream",
     "text": [
      "100%|██████████| 28/28 [00:06<00:00,  4.04it/s, Epoch=5, loss=0.796]\n",
      "100%|██████████| 7/7 [00:00<00:00,  7.05it/s, gpu_memory=3.37 GB, lr=0.00010, valid_loss=0.8059]\n"
     ]
    },
    {
     "name": "stdout",
     "output_type": "stream",
     "text": [
      "\n",
      " Saving model at 5th epoch\n",
      "\n",
      " Final Train Loss: 0.7960  |  Final Val Loss: 0.8059\n",
      "Valid Dice: 0.2449 | Valid Jaccard: 0.1554\n",
      "\u001b[34mval dice increased: 0.23722092807292938 ---> 0.2449216991662979\n",
      "\u001b[34mval jaccard increased: 0.14961457252502441 ---> 0.1554485261440277\n",
      "\u001b[0m===================== Epoch: [6/40] =====================\n"
     ]
    },
    {
     "name": "stderr",
     "output_type": "stream",
     "text": [
      "100%|██████████| 28/28 [00:06<00:00,  4.05it/s, Epoch=6, loss=0.794]\n",
      "100%|██████████| 7/7 [00:01<00:00,  6.93it/s, gpu_memory=3.37 GB, lr=0.00010, valid_loss=0.8057]\n"
     ]
    },
    {
     "name": "stdout",
     "output_type": "stream",
     "text": [
      "\n",
      " Saving model at 6th epoch\n",
      "\n",
      " Final Train Loss: 0.7944  |  Final Val Loss: 0.8057\n",
      "Valid Dice: 0.2552 | Valid Jaccard: 0.1638\n",
      "\u001b[34mval dice increased: 0.2449216991662979 ---> 0.2552242875099182\n",
      "\u001b[34mval jaccard increased: 0.1554485261440277 ---> 0.1637946516275406\n",
      "\u001b[0m===================== Epoch: [7/40] =====================\n"
     ]
    },
    {
     "name": "stderr",
     "output_type": "stream",
     "text": [
      "100%|██████████| 28/28 [00:07<00:00,  3.95it/s, Epoch=7, loss=0.793]\n",
      "100%|██████████| 7/7 [00:00<00:00,  7.00it/s, gpu_memory=3.37 GB, lr=0.00010, valid_loss=0.8047]\n"
     ]
    },
    {
     "name": "stdout",
     "output_type": "stream",
     "text": [
      "\n",
      " Saving model at 7th epoch\n",
      "\n",
      " Final Train Loss: 0.7929  |  Final Val Loss: 0.8047\n",
      "Valid Dice: 0.2506 | Valid Jaccard: 0.1601\n",
      "\u001b[0m===================== Epoch: [8/40] =====================\n"
     ]
    },
    {
     "name": "stderr",
     "output_type": "stream",
     "text": [
      "100%|██████████| 28/28 [00:07<00:00,  3.92it/s, Epoch=8, loss=0.792]\n",
      "100%|██████████| 7/7 [00:00<00:00,  7.15it/s, gpu_memory=3.37 GB, lr=0.00010, valid_loss=0.8027]\n"
     ]
    },
    {
     "name": "stdout",
     "output_type": "stream",
     "text": [
      "\n",
      " Saving model at 8th epoch\n",
      "\n",
      " Final Train Loss: 0.7921  |  Final Val Loss: 0.8027\n",
      "Valid Dice: 0.2872 | Valid Jaccard: 0.1887\n",
      "\u001b[34mval dice increased: 0.2552242875099182 ---> 0.2871531844139099\n",
      "\u001b[34mval jaccard increased: 0.1637946516275406 ---> 0.18868796527385712\n",
      "\u001b[0m===================== Epoch: [9/40] =====================\n"
     ]
    },
    {
     "name": "stderr",
     "output_type": "stream",
     "text": [
      "100%|██████████| 28/28 [00:07<00:00,  3.91it/s, Epoch=9, loss=0.791]\n",
      "100%|██████████| 7/7 [00:01<00:00,  6.83it/s, gpu_memory=3.37 GB, lr=0.00010, valid_loss=0.8016]\n"
     ]
    },
    {
     "name": "stdout",
     "output_type": "stream",
     "text": [
      "\n",
      " Saving model at 9th epoch\n",
      "\n",
      " Final Train Loss: 0.7912  |  Final Val Loss: 0.8016\n",
      "Valid Dice: 0.2819 | Valid Jaccard: 0.1842\n",
      "\u001b[0m===================== Epoch: [10/40] =====================\n"
     ]
    },
    {
     "name": "stderr",
     "output_type": "stream",
     "text": [
      "100%|██████████| 28/28 [00:06<00:00,  4.00it/s, Epoch=10, loss=0.791]\n",
      "100%|██████████| 7/7 [00:00<00:00,  7.07it/s, gpu_memory=3.37 GB, lr=0.00010, valid_loss=0.8024]\n"
     ]
    },
    {
     "name": "stdout",
     "output_type": "stream",
     "text": [
      "\n",
      " Saving model at 10th epoch\n",
      "\n",
      " Final Train Loss: 0.7913  |  Final Val Loss: 0.8024\n",
      "Valid Dice: 0.2988 | Valid Jaccard: 0.1979\n",
      "\u001b[34mval dice increased: 0.2871531844139099 ---> 0.29884931445121765\n",
      "\u001b[34mval jaccard increased: 0.18868796527385712 ---> 0.19786182045936584\n",
      "\u001b[0m===================== Epoch: [11/40] =====================\n"
     ]
    },
    {
     "name": "stderr",
     "output_type": "stream",
     "text": [
      "100%|██████████| 28/28 [00:07<00:00,  3.90it/s, Epoch=11, loss=0.791]\n",
      "100%|██████████| 7/7 [00:00<00:00,  7.17it/s, gpu_memory=3.37 GB, lr=0.00010, valid_loss=0.8040]\n"
     ]
    },
    {
     "name": "stdout",
     "output_type": "stream",
     "text": [
      "\n",
      " Saving model at 11th epoch\n",
      "\n",
      " Final Train Loss: 0.7908  |  Final Val Loss: 0.8040\n",
      "Valid Dice: 0.3198 | Valid Jaccard: 0.2132\n",
      "\u001b[34mval dice increased: 0.29884931445121765 ---> 0.3198131024837494\n",
      "\u001b[34mval jaccard increased: 0.19786182045936584 ---> 0.21321061253547668\n",
      "\u001b[0m===================== Epoch: [12/40] =====================\n"
     ]
    },
    {
     "name": "stderr",
     "output_type": "stream",
     "text": [
      "100%|██████████| 28/28 [00:07<00:00,  3.91it/s, Epoch=12, loss=0.79] \n",
      "100%|██████████| 7/7 [00:00<00:00,  7.02it/s, gpu_memory=3.37 GB, lr=0.00010, valid_loss=0.8062]\n"
     ]
    },
    {
     "name": "stdout",
     "output_type": "stream",
     "text": [
      "\n",
      " Saving model at 12th epoch\n",
      "\n",
      " Final Train Loss: 0.7900  |  Final Val Loss: 0.8062\n",
      "Valid Dice: 0.3257 | Valid Jaccard: 0.2187\n",
      "\u001b[34mval dice increased: 0.3198131024837494 ---> 0.32569172978401184\n",
      "\u001b[34mval jaccard increased: 0.21321061253547668 ---> 0.21871468424797058\n",
      "\u001b[0m===================== Epoch: [13/40] =====================\n"
     ]
    },
    {
     "name": "stderr",
     "output_type": "stream",
     "text": [
      "100%|██████████| 28/28 [00:07<00:00,  3.94it/s, Epoch=13, loss=0.795]\n",
      "100%|██████████| 7/7 [00:00<00:00,  7.15it/s, gpu_memory=3.37 GB, lr=0.00010, valid_loss=0.8021]\n"
     ]
    },
    {
     "name": "stdout",
     "output_type": "stream",
     "text": [
      "\n",
      " Saving model at 13th epoch\n",
      "\n",
      " Final Train Loss: 0.7946  |  Final Val Loss: 0.8021\n",
      "Valid Dice: 0.2848 | Valid Jaccard: 0.1873\n",
      "\u001b[0m===================== Epoch: [14/40] =====================\n"
     ]
    },
    {
     "name": "stderr",
     "output_type": "stream",
     "text": [
      "100%|██████████| 28/28 [00:07<00:00,  3.93it/s, Epoch=14, loss=0.79] \n",
      "100%|██████████| 7/7 [00:01<00:00,  6.12it/s, gpu_memory=3.37 GB, lr=0.00010, valid_loss=0.8016]\n"
     ]
    },
    {
     "name": "stdout",
     "output_type": "stream",
     "text": [
      "\n",
      " Saving model at 14th epoch\n",
      "\n",
      " Final Train Loss: 0.7898  |  Final Val Loss: 0.8016\n",
      "Valid Dice: 0.3283 | Valid Jaccard: 0.2206\n",
      "\u001b[34mval dice increased: 0.32569172978401184 ---> 0.32833418250083923\n",
      "\u001b[34mval jaccard increased: 0.21871468424797058 ---> 0.2206171602010727\n",
      "\u001b[0m===================== Epoch: [15/40] =====================\n"
     ]
    },
    {
     "name": "stderr",
     "output_type": "stream",
     "text": [
      "100%|██████████| 28/28 [00:07<00:00,  3.90it/s, Epoch=15, loss=0.789]\n",
      "100%|██████████| 7/7 [00:01<00:00,  6.91it/s, gpu_memory=3.37 GB, lr=0.00010, valid_loss=0.8028]\n"
     ]
    },
    {
     "name": "stdout",
     "output_type": "stream",
     "text": [
      "\n",
      " Saving model at 15th epoch\n",
      "\n",
      " Final Train Loss: 0.7891  |  Final Val Loss: 0.8028\n",
      "Valid Dice: 0.3360 | Valid Jaccard: 0.2268\n",
      "\u001b[34mval dice increased: 0.32833418250083923 ---> 0.33599191904067993\n",
      "\u001b[34mval jaccard increased: 0.2206171602010727 ---> 0.2267662137746811\n",
      "\u001b[0m===================== Epoch: [16/40] =====================\n"
     ]
    },
    {
     "name": "stderr",
     "output_type": "stream",
     "text": [
      "100%|██████████| 28/28 [00:07<00:00,  3.70it/s, Epoch=16, loss=0.789]\n",
      "100%|██████████| 7/7 [00:01<00:00,  6.78it/s, gpu_memory=3.37 GB, lr=0.00010, valid_loss=0.7996]\n"
     ]
    },
    {
     "name": "stdout",
     "output_type": "stream",
     "text": [
      "\n",
      " Saving model at 16th epoch\n",
      "\n",
      " Final Train Loss: 0.7888  |  Final Val Loss: 0.7996\n",
      "Valid Dice: 0.3288 | Valid Jaccard: 0.2203\n",
      "\u001b[0m===================== Epoch: [17/40] =====================\n"
     ]
    },
    {
     "name": "stderr",
     "output_type": "stream",
     "text": [
      "100%|██████████| 28/28 [00:07<00:00,  4.00it/s, Epoch=17, loss=0.787]\n",
      "100%|██████████| 7/7 [00:00<00:00,  7.08it/s, gpu_memory=3.37 GB, lr=0.00010, valid_loss=0.8022]\n"
     ]
    },
    {
     "name": "stdout",
     "output_type": "stream",
     "text": [
      "\n",
      " Saving model at 17th epoch\n",
      "\n",
      " Final Train Loss: 0.7871  |  Final Val Loss: 0.8022\n",
      "Valid Dice: 0.3392 | Valid Jaccard: 0.2283\n",
      "\u001b[34mval dice increased: 0.33599191904067993 ---> 0.33915552496910095\n",
      "\u001b[34mval jaccard increased: 0.2267662137746811 ---> 0.2283368855714798\n",
      "\u001b[0m===================== Epoch: [18/40] =====================\n"
     ]
    },
    {
     "name": "stderr",
     "output_type": "stream",
     "text": [
      "100%|██████████| 28/28 [00:07<00:00,  3.97it/s, Epoch=18, loss=0.788]\n",
      "100%|██████████| 7/7 [00:00<00:00,  7.04it/s, gpu_memory=3.37 GB, lr=0.00010, valid_loss=0.7994]\n"
     ]
    },
    {
     "name": "stdout",
     "output_type": "stream",
     "text": [
      "\n",
      " Saving model at 18th epoch\n",
      "\n",
      " Final Train Loss: 0.7879  |  Final Val Loss: 0.7994\n",
      "Valid Dice: 0.3587 | Valid Jaccard: 0.2439\n",
      "\u001b[34mval dice increased: 0.33915552496910095 ---> 0.3587295114994049\n",
      "\u001b[34mval jaccard increased: 0.2283368855714798 ---> 0.24394503235816956\n",
      "\u001b[0m===================== Epoch: [19/40] =====================\n"
     ]
    },
    {
     "name": "stderr",
     "output_type": "stream",
     "text": [
      "100%|██████████| 28/28 [00:07<00:00,  3.97it/s, Epoch=19, loss=0.788]\n",
      "100%|██████████| 7/7 [00:00<00:00,  7.28it/s, gpu_memory=3.37 GB, lr=0.00010, valid_loss=0.7996]\n"
     ]
    },
    {
     "name": "stdout",
     "output_type": "stream",
     "text": [
      "\n",
      " Saving model at 19th epoch\n",
      "\n",
      " Final Train Loss: 0.7878  |  Final Val Loss: 0.7996\n",
      "Valid Dice: 0.3474 | Valid Jaccard: 0.2357\n",
      "\u001b[0m===================== Epoch: [20/40] =====================\n"
     ]
    },
    {
     "name": "stderr",
     "output_type": "stream",
     "text": [
      "100%|██████████| 28/28 [00:07<00:00,  3.96it/s, Epoch=20, loss=0.787]\n",
      "100%|██████████| 7/7 [00:01<00:00,  6.81it/s, gpu_memory=3.37 GB, lr=0.00010, valid_loss=0.7999]\n"
     ]
    },
    {
     "name": "stdout",
     "output_type": "stream",
     "text": [
      "\n",
      " Saving model at 20th epoch\n",
      "\n",
      " Final Train Loss: 0.7866  |  Final Val Loss: 0.7999\n",
      "Valid Dice: 0.3524 | Valid Jaccard: 0.2390\n",
      "\u001b[0m===================== Epoch: [21/40] =====================\n"
     ]
    },
    {
     "name": "stderr",
     "output_type": "stream",
     "text": [
      "100%|██████████| 28/28 [00:07<00:00,  3.97it/s, Epoch=21, loss=0.785]\n",
      "100%|██████████| 7/7 [00:00<00:00,  7.14it/s, gpu_memory=3.37 GB, lr=0.00010, valid_loss=0.7997]\n"
     ]
    },
    {
     "name": "stdout",
     "output_type": "stream",
     "text": [
      "\n",
      " Saving model at 21th epoch\n",
      "\n",
      " Final Train Loss: 0.7855  |  Final Val Loss: 0.7997\n",
      "Valid Dice: 0.3608 | Valid Jaccard: 0.2443\n",
      "\u001b[34mval dice increased: 0.3587295114994049 ---> 0.36084941029548645\n",
      "\u001b[34mval jaccard increased: 0.24394503235816956 ---> 0.24428865313529968\n",
      "\u001b[0m===================== Epoch: [22/40] =====================\n"
     ]
    },
    {
     "name": "stderr",
     "output_type": "stream",
     "text": [
      "100%|██████████| 28/28 [00:07<00:00,  3.88it/s, Epoch=22, loss=0.786]\n",
      "100%|██████████| 7/7 [00:00<00:00,  7.01it/s, gpu_memory=3.37 GB, lr=0.00010, valid_loss=0.8012]\n"
     ]
    },
    {
     "name": "stdout",
     "output_type": "stream",
     "text": [
      "\n",
      " Saving model at 22th epoch\n",
      "\n",
      " Final Train Loss: 0.7859  |  Final Val Loss: 0.8012\n",
      "Valid Dice: 0.3646 | Valid Jaccard: 0.2493\n",
      "\u001b[34mval dice increased: 0.36084941029548645 ---> 0.3645763397216797\n",
      "\u001b[34mval jaccard increased: 0.24428865313529968 ---> 0.2492571920156479\n",
      "\u001b[0m===================== Epoch: [23/40] =====================\n"
     ]
    },
    {
     "name": "stderr",
     "output_type": "stream",
     "text": [
      "100%|██████████| 28/28 [00:07<00:00,  3.92it/s, Epoch=23, loss=0.786]\n",
      "100%|██████████| 7/7 [00:01<00:00,  6.99it/s, gpu_memory=3.37 GB, lr=0.00010, valid_loss=0.7982]\n"
     ]
    },
    {
     "name": "stdout",
     "output_type": "stream",
     "text": [
      "\n",
      " Saving model at 23th epoch\n",
      "\n",
      " Final Train Loss: 0.7857  |  Final Val Loss: 0.7982\n",
      "Valid Dice: 0.3512 | Valid Jaccard: 0.2377\n",
      "\u001b[0m===================== Epoch: [24/40] =====================\n"
     ]
    },
    {
     "name": "stderr",
     "output_type": "stream",
     "text": [
      "100%|██████████| 28/28 [00:07<00:00,  3.90it/s, Epoch=24, loss=0.786]\n",
      "100%|██████████| 7/7 [00:00<00:00,  7.13it/s, gpu_memory=3.37 GB, lr=0.00010, valid_loss=0.7985]\n"
     ]
    },
    {
     "name": "stdout",
     "output_type": "stream",
     "text": [
      "\n",
      " Saving model at 24th epoch\n",
      "\n",
      " Final Train Loss: 0.7863  |  Final Val Loss: 0.7985\n",
      "Valid Dice: 0.3607 | Valid Jaccard: 0.2448\n",
      "\u001b[0m===================== Epoch: [25/40] =====================\n"
     ]
    },
    {
     "name": "stderr",
     "output_type": "stream",
     "text": [
      "100%|██████████| 28/28 [00:07<00:00,  3.98it/s, Epoch=25, loss=0.786]\n",
      "100%|██████████| 7/7 [00:01<00:00,  6.83it/s, gpu_memory=3.37 GB, lr=0.00010, valid_loss=0.7982]\n"
     ]
    },
    {
     "name": "stdout",
     "output_type": "stream",
     "text": [
      "\n",
      " Saving model at 25th epoch\n",
      "\n",
      " Final Train Loss: 0.7855  |  Final Val Loss: 0.7982\n",
      "Valid Dice: 0.3591 | Valid Jaccard: 0.2439\n",
      "\u001b[0m===================== Epoch: [26/40] =====================\n"
     ]
    },
    {
     "name": "stderr",
     "output_type": "stream",
     "text": [
      "100%|██████████| 28/28 [00:07<00:00,  3.98it/s, Epoch=26, loss=0.785]\n",
      "100%|██████████| 7/7 [00:00<00:00,  7.05it/s, gpu_memory=3.37 GB, lr=0.00010, valid_loss=0.7975]\n"
     ]
    },
    {
     "name": "stdout",
     "output_type": "stream",
     "text": [
      "\n",
      " Saving model at 26th epoch\n",
      "\n",
      " Final Train Loss: 0.7849  |  Final Val Loss: 0.7975\n",
      "Valid Dice: 0.3465 | Valid Jaccard: 0.2329\n",
      "\u001b[0m===================== Epoch: [27/40] =====================\n"
     ]
    },
    {
     "name": "stderr",
     "output_type": "stream",
     "text": [
      "100%|██████████| 28/28 [00:07<00:00,  3.97it/s, Epoch=27, loss=0.784]\n",
      "100%|██████████| 7/7 [00:01<00:00,  6.95it/s, gpu_memory=3.37 GB, lr=0.00010, valid_loss=0.7971]\n"
     ]
    },
    {
     "name": "stdout",
     "output_type": "stream",
     "text": [
      "\n",
      " Saving model at 27th epoch\n",
      "\n",
      " Final Train Loss: 0.7835  |  Final Val Loss: 0.7971\n",
      "Valid Dice: 0.3661 | Valid Jaccard: 0.2487\n",
      "\u001b[34mval dice increased: 0.3645763397216797 ---> 0.36611494421958923\n",
      "\u001b[0m===================== Epoch: [28/40] =====================\n"
     ]
    },
    {
     "name": "stderr",
     "output_type": "stream",
     "text": [
      "100%|██████████| 28/28 [00:07<00:00,  3.97it/s, Epoch=28, loss=0.783]\n",
      "100%|██████████| 7/7 [00:01<00:00,  6.89it/s, gpu_memory=3.37 GB, lr=0.00010, valid_loss=0.7971]\n"
     ]
    },
    {
     "name": "stdout",
     "output_type": "stream",
     "text": [
      "\n",
      " Saving model at 28th epoch\n",
      "\n",
      " Final Train Loss: 0.7831  |  Final Val Loss: 0.7971\n",
      "Valid Dice: 0.3647 | Valid Jaccard: 0.2479\n",
      "\u001b[0m===================== Epoch: [29/40] =====================\n"
     ]
    },
    {
     "name": "stderr",
     "output_type": "stream",
     "text": [
      "100%|██████████| 28/28 [00:07<00:00,  3.98it/s, Epoch=29, loss=0.783]\n",
      "100%|██████████| 7/7 [00:01<00:00,  6.59it/s, gpu_memory=3.37 GB, lr=0.00010, valid_loss=0.7989]\n"
     ]
    },
    {
     "name": "stdout",
     "output_type": "stream",
     "text": [
      "\n",
      " Saving model at 29th epoch\n",
      "\n",
      " Final Train Loss: 0.7832  |  Final Val Loss: 0.7989\n",
      "Valid Dice: 0.3609 | Valid Jaccard: 0.2440\n",
      "\u001b[0m===================== Epoch: [30/40] =====================\n"
     ]
    },
    {
     "name": "stderr",
     "output_type": "stream",
     "text": [
      "100%|██████████| 28/28 [00:07<00:00,  3.96it/s, Epoch=30, loss=0.783]\n",
      "100%|██████████| 7/7 [00:00<00:00,  7.08it/s, gpu_memory=3.37 GB, lr=0.00010, valid_loss=0.7972]\n"
     ]
    },
    {
     "name": "stdout",
     "output_type": "stream",
     "text": [
      "\n",
      " Saving model at 30th epoch\n",
      "\n",
      " Final Train Loss: 0.7834  |  Final Val Loss: 0.7972\n",
      "Valid Dice: 0.3920 | Valid Jaccard: 0.2720\n",
      "\u001b[34mval dice increased: 0.36611494421958923 ---> 0.3920097351074219\n",
      "\u001b[34mval jaccard increased: 0.2492571920156479 ---> 0.27202779054641724\n",
      "\u001b[0m===================== Epoch: [31/40] =====================\n"
     ]
    },
    {
     "name": "stderr",
     "output_type": "stream",
     "text": [
      "100%|██████████| 28/28 [00:07<00:00,  3.96it/s, Epoch=31, loss=0.782]\n",
      "100%|██████████| 7/7 [00:00<00:00,  7.22it/s, gpu_memory=3.37 GB, lr=0.00010, valid_loss=0.7972]\n"
     ]
    },
    {
     "name": "stdout",
     "output_type": "stream",
     "text": [
      "\n",
      " Saving model at 31th epoch\n",
      "\n",
      " Final Train Loss: 0.7821  |  Final Val Loss: 0.7972\n",
      "Valid Dice: 0.3544 | Valid Jaccard: 0.2385\n",
      "\u001b[0m===================== Epoch: [32/40] =====================\n"
     ]
    },
    {
     "name": "stderr",
     "output_type": "stream",
     "text": [
      "100%|██████████| 28/28 [00:07<00:00,  3.98it/s, Epoch=32, loss=0.781]\n",
      "100%|██████████| 7/7 [00:00<00:00,  7.18it/s, gpu_memory=3.37 GB, lr=0.00010, valid_loss=0.7974]\n"
     ]
    },
    {
     "name": "stdout",
     "output_type": "stream",
     "text": [
      "\n",
      " Saving model at 32th epoch\n",
      "\n",
      " Final Train Loss: 0.7810  |  Final Val Loss: 0.7974\n",
      "Valid Dice: 0.3756 | Valid Jaccard: 0.2556\n",
      "\u001b[0m===================== Epoch: [33/40] =====================\n"
     ]
    },
    {
     "name": "stderr",
     "output_type": "stream",
     "text": [
      "100%|██████████| 28/28 [00:07<00:00,  3.96it/s, Epoch=33, loss=0.781]\n",
      "100%|██████████| 7/7 [00:00<00:00,  7.14it/s, gpu_memory=3.37 GB, lr=0.00010, valid_loss=0.7976]\n"
     ]
    },
    {
     "name": "stdout",
     "output_type": "stream",
     "text": [
      "\n",
      " Saving model at 33th epoch\n",
      "\n",
      " Final Train Loss: 0.7809  |  Final Val Loss: 0.7976\n",
      "Valid Dice: 0.3944 | Valid Jaccard: 0.2732\n",
      "\u001b[34mval dice increased: 0.3920097351074219 ---> 0.394437313079834\n",
      "\u001b[34mval jaccard increased: 0.27202779054641724 ---> 0.27320823073387146\n",
      "\u001b[0m===================== Epoch: [34/40] =====================\n"
     ]
    },
    {
     "name": "stderr",
     "output_type": "stream",
     "text": [
      "100%|██████████| 28/28 [00:07<00:00,  3.91it/s, Epoch=34, loss=0.781]\n",
      "100%|██████████| 7/7 [00:00<00:00,  7.07it/s, gpu_memory=3.37 GB, lr=0.00010, valid_loss=0.7963]\n"
     ]
    },
    {
     "name": "stdout",
     "output_type": "stream",
     "text": [
      "\n",
      " Saving model at 34th epoch\n",
      "\n",
      " Final Train Loss: 0.7810  |  Final Val Loss: 0.7963\n",
      "Valid Dice: 0.3591 | Valid Jaccard: 0.2437\n",
      "\u001b[0m===================== Epoch: [35/40] =====================\n"
     ]
    },
    {
     "name": "stderr",
     "output_type": "stream",
     "text": [
      "100%|██████████| 28/28 [00:07<00:00,  3.94it/s, Epoch=35, loss=0.78] \n",
      "100%|██████████| 7/7 [00:01<00:00,  7.00it/s, gpu_memory=3.37 GB, lr=0.00010, valid_loss=0.7963]\n"
     ]
    },
    {
     "name": "stdout",
     "output_type": "stream",
     "text": [
      "\n",
      " Saving model at 35th epoch\n",
      "\n",
      " Final Train Loss: 0.7798  |  Final Val Loss: 0.7963\n",
      "Valid Dice: 0.3572 | Valid Jaccard: 0.2422\n",
      "\u001b[0m===================== Epoch: [36/40] =====================\n"
     ]
    },
    {
     "name": "stderr",
     "output_type": "stream",
     "text": [
      "100%|██████████| 28/28 [00:07<00:00,  3.94it/s, Epoch=36, loss=0.78] \n",
      "100%|██████████| 7/7 [00:00<00:00,  7.02it/s, gpu_memory=3.37 GB, lr=0.00010, valid_loss=0.7953]\n"
     ]
    },
    {
     "name": "stdout",
     "output_type": "stream",
     "text": [
      "\n",
      " Saving model at 36th epoch\n",
      "\n",
      " Final Train Loss: 0.7797  |  Final Val Loss: 0.7953\n",
      "Valid Dice: 0.3785 | Valid Jaccard: 0.2591\n",
      "\u001b[0m===================== Epoch: [37/40] =====================\n"
     ]
    },
    {
     "name": "stderr",
     "output_type": "stream",
     "text": [
      "100%|██████████| 28/28 [00:07<00:00,  3.91it/s, Epoch=37, loss=0.779]\n",
      "100%|██████████| 7/7 [00:00<00:00,  7.00it/s, gpu_memory=3.37 GB, lr=0.00010, valid_loss=0.7956]\n"
     ]
    },
    {
     "name": "stdout",
     "output_type": "stream",
     "text": [
      "\n",
      " Saving model at 37th epoch\n",
      "\n",
      " Final Train Loss: 0.7788  |  Final Val Loss: 0.7956\n",
      "Valid Dice: 0.3809 | Valid Jaccard: 0.2620\n",
      "\u001b[0m===================== Epoch: [38/40] =====================\n"
     ]
    },
    {
     "name": "stderr",
     "output_type": "stream",
     "text": [
      "100%|██████████| 28/28 [00:07<00:00,  3.99it/s, Epoch=38, loss=0.779]\n",
      "100%|██████████| 7/7 [00:00<00:00,  7.32it/s, gpu_memory=3.37 GB, lr=0.00010, valid_loss=0.7956]\n"
     ]
    },
    {
     "name": "stdout",
     "output_type": "stream",
     "text": [
      "\n",
      " Saving model at 38th epoch\n",
      "\n",
      " Final Train Loss: 0.7789  |  Final Val Loss: 0.7956\n",
      "Valid Dice: 0.3667 | Valid Jaccard: 0.2493\n",
      "\u001b[0m===================== Epoch: [39/40] =====================\n"
     ]
    },
    {
     "name": "stderr",
     "output_type": "stream",
     "text": [
      "100%|██████████| 28/28 [00:07<00:00,  3.96it/s, Epoch=39, loss=0.779]\n",
      "100%|██████████| 7/7 [00:00<00:00,  7.22it/s, gpu_memory=3.37 GB, lr=0.00010, valid_loss=0.7960]\n"
     ]
    },
    {
     "name": "stdout",
     "output_type": "stream",
     "text": [
      "\n",
      " Saving model at 39th epoch\n",
      "\n",
      " Final Train Loss: 0.7788  |  Final Val Loss: 0.7960\n",
      "Valid Dice: 0.3569 | Valid Jaccard: 0.2410\n",
      "\u001b[0m===================== Epoch: [40/40] =====================\n"
     ]
    },
    {
     "name": "stderr",
     "output_type": "stream",
     "text": [
      "100%|██████████| 28/28 [00:07<00:00,  3.92it/s, Epoch=40, loss=0.778]\n",
      "100%|██████████| 7/7 [00:00<00:00,  7.06it/s, gpu_memory=3.37 GB, lr=0.00010, valid_loss=0.7955]\n"
     ]
    },
    {
     "name": "stdout",
     "output_type": "stream",
     "text": [
      "\n",
      " Saving model at 40th epoch\n",
      "\n",
      " Final Train Loss: 0.7781  |  Final Val Loss: 0.7955\n",
      "Valid Dice: 0.3567 | Valid Jaccard: 0.2406\n",
      "\n",
      " ====================== [Training Summary] ====================== \n",
      "\n",
      "Training complete in 0h 10m 17s\n",
      "avg time per [train + val] epoch 0h 0m 15s\n",
      "Best: ~~~~~~ dice: 0.3944  || jaccard 0.2732 || val_loss 0.7953 || train_loss 0.7781 ~~~~~~\n",
      "Saved training summary...\n",
      "\n",
      " =============================================================== \n",
      "\n"
     ]
    },
    {
     "data": {
      "text/html": [
       "<div>\n",
       "<style scoped>\n",
       "    .dataframe tbody tr th:only-of-type {\n",
       "        vertical-align: middle;\n",
       "    }\n",
       "\n",
       "    .dataframe tbody tr th {\n",
       "        vertical-align: top;\n",
       "    }\n",
       "\n",
       "    .dataframe thead th {\n",
       "        text-align: right;\n",
       "    }\n",
       "</style>\n",
       "<table border=\"1\" class=\"dataframe\">\n",
       "  <thead>\n",
       "    <tr style=\"text-align: right;\">\n",
       "      <th></th>\n",
       "      <th>epoch</th>\n",
       "      <th>Train_Loss</th>\n",
       "      <th>Valid_Loss</th>\n",
       "      <th>Valid_jaccard</th>\n",
       "      <th>Valid_dice</th>\n",
       "      <th>model_file</th>\n",
       "    </tr>\n",
       "  </thead>\n",
       "  <tbody>\n",
       "    <tr>\n",
       "      <th>0</th>\n",
       "      <td>1</td>\n",
       "      <td>0.813244</td>\n",
       "      <td>0.825458</td>\n",
       "      <td>0.094794</td>\n",
       "      <td>0.162351</td>\n",
       "      <td>./model_weights/Vanilla_Unet-0.0001-No-1-8.pth</td>\n",
       "    </tr>\n",
       "    <tr>\n",
       "      <th>1</th>\n",
       "      <td>2</td>\n",
       "      <td>0.803067</td>\n",
       "      <td>0.812416</td>\n",
       "      <td>0.094794</td>\n",
       "      <td>0.162351</td>\n",
       "      <td>./model_weights/Vanilla_Unet-0.0001-No-2-8.pth</td>\n",
       "    </tr>\n",
       "    <tr>\n",
       "      <th>2</th>\n",
       "      <td>3</td>\n",
       "      <td>0.799428</td>\n",
       "      <td>0.810205</td>\n",
       "      <td>0.137355</td>\n",
       "      <td>0.221240</td>\n",
       "      <td>./model_weights/Vanilla_Unet-0.0001-No-3-8.pth</td>\n",
       "    </tr>\n",
       "    <tr>\n",
       "      <th>3</th>\n",
       "      <td>4</td>\n",
       "      <td>0.797331</td>\n",
       "      <td>0.806945</td>\n",
       "      <td>0.149615</td>\n",
       "      <td>0.237221</td>\n",
       "      <td>./model_weights/Vanilla_Unet-0.0001-No-4-8.pth</td>\n",
       "    </tr>\n",
       "    <tr>\n",
       "      <th>4</th>\n",
       "      <td>5</td>\n",
       "      <td>0.796013</td>\n",
       "      <td>0.805911</td>\n",
       "      <td>0.155449</td>\n",
       "      <td>0.244922</td>\n",
       "      <td>./model_weights/Vanilla_Unet-0.0001-No-5-8.pth</td>\n",
       "    </tr>\n",
       "    <tr>\n",
       "      <th>5</th>\n",
       "      <td>6</td>\n",
       "      <td>0.794384</td>\n",
       "      <td>0.805677</td>\n",
       "      <td>0.163795</td>\n",
       "      <td>0.255224</td>\n",
       "      <td>./model_weights/Vanilla_Unet-0.0001-No-6-8.pth</td>\n",
       "    </tr>\n",
       "    <tr>\n",
       "      <th>6</th>\n",
       "      <td>7</td>\n",
       "      <td>0.792853</td>\n",
       "      <td>0.804670</td>\n",
       "      <td>0.160081</td>\n",
       "      <td>0.250584</td>\n",
       "      <td>./model_weights/Vanilla_Unet-0.0001-No-7-8.pth</td>\n",
       "    </tr>\n",
       "    <tr>\n",
       "      <th>7</th>\n",
       "      <td>8</td>\n",
       "      <td>0.792080</td>\n",
       "      <td>0.802681</td>\n",
       "      <td>0.188688</td>\n",
       "      <td>0.287153</td>\n",
       "      <td>./model_weights/Vanilla_Unet-0.0001-No-8-8.pth</td>\n",
       "    </tr>\n",
       "    <tr>\n",
       "      <th>8</th>\n",
       "      <td>9</td>\n",
       "      <td>0.791235</td>\n",
       "      <td>0.801557</td>\n",
       "      <td>0.184180</td>\n",
       "      <td>0.281867</td>\n",
       "      <td>./model_weights/Vanilla_Unet-0.0001-No-9-8.pth</td>\n",
       "    </tr>\n",
       "    <tr>\n",
       "      <th>9</th>\n",
       "      <td>10</td>\n",
       "      <td>0.791341</td>\n",
       "      <td>0.802432</td>\n",
       "      <td>0.197862</td>\n",
       "      <td>0.298849</td>\n",
       "      <td>./model_weights/Vanilla_Unet-0.0001-No-10-8.pth</td>\n",
       "    </tr>\n",
       "    <tr>\n",
       "      <th>10</th>\n",
       "      <td>11</td>\n",
       "      <td>0.790789</td>\n",
       "      <td>0.803966</td>\n",
       "      <td>0.213211</td>\n",
       "      <td>0.319813</td>\n",
       "      <td>./model_weights/Vanilla_Unet-0.0001-No-11-8.pth</td>\n",
       "    </tr>\n",
       "    <tr>\n",
       "      <th>11</th>\n",
       "      <td>12</td>\n",
       "      <td>0.790009</td>\n",
       "      <td>0.806191</td>\n",
       "      <td>0.218715</td>\n",
       "      <td>0.325692</td>\n",
       "      <td>./model_weights/Vanilla_Unet-0.0001-No-12-8.pth</td>\n",
       "    </tr>\n",
       "    <tr>\n",
       "      <th>12</th>\n",
       "      <td>13</td>\n",
       "      <td>0.794593</td>\n",
       "      <td>0.802148</td>\n",
       "      <td>0.187269</td>\n",
       "      <td>0.284757</td>\n",
       "      <td>./model_weights/Vanilla_Unet-0.0001-No-13-8.pth</td>\n",
       "    </tr>\n",
       "    <tr>\n",
       "      <th>13</th>\n",
       "      <td>14</td>\n",
       "      <td>0.789831</td>\n",
       "      <td>0.801567</td>\n",
       "      <td>0.220617</td>\n",
       "      <td>0.328334</td>\n",
       "      <td>./model_weights/Vanilla_Unet-0.0001-No-14-8.pth</td>\n",
       "    </tr>\n",
       "    <tr>\n",
       "      <th>14</th>\n",
       "      <td>15</td>\n",
       "      <td>0.789057</td>\n",
       "      <td>0.802806</td>\n",
       "      <td>0.226766</td>\n",
       "      <td>0.335992</td>\n",
       "      <td>./model_weights/Vanilla_Unet-0.0001-No-15-8.pth</td>\n",
       "    </tr>\n",
       "    <tr>\n",
       "      <th>15</th>\n",
       "      <td>16</td>\n",
       "      <td>0.788772</td>\n",
       "      <td>0.799610</td>\n",
       "      <td>0.220318</td>\n",
       "      <td>0.328823</td>\n",
       "      <td>./model_weights/Vanilla_Unet-0.0001-No-16-8.pth</td>\n",
       "    </tr>\n",
       "    <tr>\n",
       "      <th>16</th>\n",
       "      <td>17</td>\n",
       "      <td>0.787093</td>\n",
       "      <td>0.802207</td>\n",
       "      <td>0.228337</td>\n",
       "      <td>0.339156</td>\n",
       "      <td>./model_weights/Vanilla_Unet-0.0001-No-17-8.pth</td>\n",
       "    </tr>\n",
       "    <tr>\n",
       "      <th>17</th>\n",
       "      <td>18</td>\n",
       "      <td>0.787919</td>\n",
       "      <td>0.799369</td>\n",
       "      <td>0.243945</td>\n",
       "      <td>0.358730</td>\n",
       "      <td>./model_weights/Vanilla_Unet-0.0001-No-18-8.pth</td>\n",
       "    </tr>\n",
       "    <tr>\n",
       "      <th>18</th>\n",
       "      <td>19</td>\n",
       "      <td>0.787846</td>\n",
       "      <td>0.799584</td>\n",
       "      <td>0.235733</td>\n",
       "      <td>0.347427</td>\n",
       "      <td>./model_weights/Vanilla_Unet-0.0001-No-19-8.pth</td>\n",
       "    </tr>\n",
       "    <tr>\n",
       "      <th>19</th>\n",
       "      <td>20</td>\n",
       "      <td>0.786624</td>\n",
       "      <td>0.799855</td>\n",
       "      <td>0.239031</td>\n",
       "      <td>0.352381</td>\n",
       "      <td>./model_weights/Vanilla_Unet-0.0001-No-20-8.pth</td>\n",
       "    </tr>\n",
       "    <tr>\n",
       "      <th>20</th>\n",
       "      <td>21</td>\n",
       "      <td>0.785458</td>\n",
       "      <td>0.799725</td>\n",
       "      <td>0.244289</td>\n",
       "      <td>0.360849</td>\n",
       "      <td>./model_weights/Vanilla_Unet-0.0001-No-21-8.pth</td>\n",
       "    </tr>\n",
       "    <tr>\n",
       "      <th>21</th>\n",
       "      <td>22</td>\n",
       "      <td>0.785937</td>\n",
       "      <td>0.801234</td>\n",
       "      <td>0.249257</td>\n",
       "      <td>0.364576</td>\n",
       "      <td>./model_weights/Vanilla_Unet-0.0001-No-22-8.pth</td>\n",
       "    </tr>\n",
       "    <tr>\n",
       "      <th>22</th>\n",
       "      <td>23</td>\n",
       "      <td>0.785745</td>\n",
       "      <td>0.798175</td>\n",
       "      <td>0.237721</td>\n",
       "      <td>0.351161</td>\n",
       "      <td>./model_weights/Vanilla_Unet-0.0001-No-23-8.pth</td>\n",
       "    </tr>\n",
       "    <tr>\n",
       "      <th>23</th>\n",
       "      <td>24</td>\n",
       "      <td>0.786266</td>\n",
       "      <td>0.798543</td>\n",
       "      <td>0.244839</td>\n",
       "      <td>0.360731</td>\n",
       "      <td>./model_weights/Vanilla_Unet-0.0001-No-24-8.pth</td>\n",
       "    </tr>\n",
       "    <tr>\n",
       "      <th>24</th>\n",
       "      <td>25</td>\n",
       "      <td>0.785546</td>\n",
       "      <td>0.798250</td>\n",
       "      <td>0.243942</td>\n",
       "      <td>0.359060</td>\n",
       "      <td>./model_weights/Vanilla_Unet-0.0001-No-25-8.pth</td>\n",
       "    </tr>\n",
       "    <tr>\n",
       "      <th>25</th>\n",
       "      <td>26</td>\n",
       "      <td>0.784895</td>\n",
       "      <td>0.797538</td>\n",
       "      <td>0.232893</td>\n",
       "      <td>0.346468</td>\n",
       "      <td>./model_weights/Vanilla_Unet-0.0001-No-26-8.pth</td>\n",
       "    </tr>\n",
       "    <tr>\n",
       "      <th>26</th>\n",
       "      <td>27</td>\n",
       "      <td>0.783534</td>\n",
       "      <td>0.797087</td>\n",
       "      <td>0.248712</td>\n",
       "      <td>0.366115</td>\n",
       "      <td>./model_weights/Vanilla_Unet-0.0001-No-27-8.pth</td>\n",
       "    </tr>\n",
       "    <tr>\n",
       "      <th>27</th>\n",
       "      <td>28</td>\n",
       "      <td>0.783116</td>\n",
       "      <td>0.797122</td>\n",
       "      <td>0.247919</td>\n",
       "      <td>0.364745</td>\n",
       "      <td>./model_weights/Vanilla_Unet-0.0001-No-28-8.pth</td>\n",
       "    </tr>\n",
       "    <tr>\n",
       "      <th>28</th>\n",
       "      <td>29</td>\n",
       "      <td>0.783207</td>\n",
       "      <td>0.798944</td>\n",
       "      <td>0.244048</td>\n",
       "      <td>0.360881</td>\n",
       "      <td>./model_weights/Vanilla_Unet-0.0001-No-29-8.pth</td>\n",
       "    </tr>\n",
       "    <tr>\n",
       "      <th>29</th>\n",
       "      <td>30</td>\n",
       "      <td>0.783399</td>\n",
       "      <td>0.797247</td>\n",
       "      <td>0.272028</td>\n",
       "      <td>0.392010</td>\n",
       "      <td>./model_weights/Vanilla_Unet-0.0001-No-30-8.pth</td>\n",
       "    </tr>\n",
       "    <tr>\n",
       "      <th>30</th>\n",
       "      <td>31</td>\n",
       "      <td>0.782146</td>\n",
       "      <td>0.797155</td>\n",
       "      <td>0.238547</td>\n",
       "      <td>0.354406</td>\n",
       "      <td>./model_weights/Vanilla_Unet-0.0001-No-31-8.pth</td>\n",
       "    </tr>\n",
       "    <tr>\n",
       "      <th>31</th>\n",
       "      <td>32</td>\n",
       "      <td>0.781013</td>\n",
       "      <td>0.797440</td>\n",
       "      <td>0.255647</td>\n",
       "      <td>0.375636</td>\n",
       "      <td>./model_weights/Vanilla_Unet-0.0001-No-32-8.pth</td>\n",
       "    </tr>\n",
       "    <tr>\n",
       "      <th>32</th>\n",
       "      <td>33</td>\n",
       "      <td>0.780917</td>\n",
       "      <td>0.797637</td>\n",
       "      <td>0.273208</td>\n",
       "      <td>0.394437</td>\n",
       "      <td>./model_weights/Vanilla_Unet-0.0001-No-33-8.pth</td>\n",
       "    </tr>\n",
       "    <tr>\n",
       "      <th>33</th>\n",
       "      <td>34</td>\n",
       "      <td>0.781041</td>\n",
       "      <td>0.796269</td>\n",
       "      <td>0.243733</td>\n",
       "      <td>0.359115</td>\n",
       "      <td>./model_weights/Vanilla_Unet-0.0001-No-34-8.pth</td>\n",
       "    </tr>\n",
       "    <tr>\n",
       "      <th>34</th>\n",
       "      <td>35</td>\n",
       "      <td>0.779844</td>\n",
       "      <td>0.796331</td>\n",
       "      <td>0.242240</td>\n",
       "      <td>0.357183</td>\n",
       "      <td>./model_weights/Vanilla_Unet-0.0001-No-35-8.pth</td>\n",
       "    </tr>\n",
       "    <tr>\n",
       "      <th>35</th>\n",
       "      <td>36</td>\n",
       "      <td>0.779657</td>\n",
       "      <td>0.795305</td>\n",
       "      <td>0.259079</td>\n",
       "      <td>0.378497</td>\n",
       "      <td>./model_weights/Vanilla_Unet-0.0001-No-36-8.pth</td>\n",
       "    </tr>\n",
       "    <tr>\n",
       "      <th>36</th>\n",
       "      <td>37</td>\n",
       "      <td>0.778846</td>\n",
       "      <td>0.795577</td>\n",
       "      <td>0.262012</td>\n",
       "      <td>0.380871</td>\n",
       "      <td>./model_weights/Vanilla_Unet-0.0001-No-37-8.pth</td>\n",
       "    </tr>\n",
       "    <tr>\n",
       "      <th>37</th>\n",
       "      <td>38</td>\n",
       "      <td>0.778886</td>\n",
       "      <td>0.795634</td>\n",
       "      <td>0.249264</td>\n",
       "      <td>0.366675</td>\n",
       "      <td>./model_weights/Vanilla_Unet-0.0001-No-38-8.pth</td>\n",
       "    </tr>\n",
       "    <tr>\n",
       "      <th>38</th>\n",
       "      <td>39</td>\n",
       "      <td>0.778769</td>\n",
       "      <td>0.796031</td>\n",
       "      <td>0.240996</td>\n",
       "      <td>0.356938</td>\n",
       "      <td>./model_weights/Vanilla_Unet-0.0001-No-39-8.pth</td>\n",
       "    </tr>\n",
       "    <tr>\n",
       "      <th>39</th>\n",
       "      <td>40</td>\n",
       "      <td>0.778119</td>\n",
       "      <td>0.795508</td>\n",
       "      <td>0.240570</td>\n",
       "      <td>0.356706</td>\n",
       "      <td>./model_weights/Vanilla_Unet-0.0001-No-40-8.pth</td>\n",
       "    </tr>\n",
       "  </tbody>\n",
       "</table>\n",
       "</div>"
      ],
      "text/plain": [
       "    epoch  Train_Loss  Valid_Loss  Valid_jaccard  Valid_dice  \\\n",
       "0       1    0.813244    0.825458       0.094794    0.162351   \n",
       "1       2    0.803067    0.812416       0.094794    0.162351   \n",
       "2       3    0.799428    0.810205       0.137355    0.221240   \n",
       "3       4    0.797331    0.806945       0.149615    0.237221   \n",
       "4       5    0.796013    0.805911       0.155449    0.244922   \n",
       "5       6    0.794384    0.805677       0.163795    0.255224   \n",
       "6       7    0.792853    0.804670       0.160081    0.250584   \n",
       "7       8    0.792080    0.802681       0.188688    0.287153   \n",
       "8       9    0.791235    0.801557       0.184180    0.281867   \n",
       "9      10    0.791341    0.802432       0.197862    0.298849   \n",
       "10     11    0.790789    0.803966       0.213211    0.319813   \n",
       "11     12    0.790009    0.806191       0.218715    0.325692   \n",
       "12     13    0.794593    0.802148       0.187269    0.284757   \n",
       "13     14    0.789831    0.801567       0.220617    0.328334   \n",
       "14     15    0.789057    0.802806       0.226766    0.335992   \n",
       "15     16    0.788772    0.799610       0.220318    0.328823   \n",
       "16     17    0.787093    0.802207       0.228337    0.339156   \n",
       "17     18    0.787919    0.799369       0.243945    0.358730   \n",
       "18     19    0.787846    0.799584       0.235733    0.347427   \n",
       "19     20    0.786624    0.799855       0.239031    0.352381   \n",
       "20     21    0.785458    0.799725       0.244289    0.360849   \n",
       "21     22    0.785937    0.801234       0.249257    0.364576   \n",
       "22     23    0.785745    0.798175       0.237721    0.351161   \n",
       "23     24    0.786266    0.798543       0.244839    0.360731   \n",
       "24     25    0.785546    0.798250       0.243942    0.359060   \n",
       "25     26    0.784895    0.797538       0.232893    0.346468   \n",
       "26     27    0.783534    0.797087       0.248712    0.366115   \n",
       "27     28    0.783116    0.797122       0.247919    0.364745   \n",
       "28     29    0.783207    0.798944       0.244048    0.360881   \n",
       "29     30    0.783399    0.797247       0.272028    0.392010   \n",
       "30     31    0.782146    0.797155       0.238547    0.354406   \n",
       "31     32    0.781013    0.797440       0.255647    0.375636   \n",
       "32     33    0.780917    0.797637       0.273208    0.394437   \n",
       "33     34    0.781041    0.796269       0.243733    0.359115   \n",
       "34     35    0.779844    0.796331       0.242240    0.357183   \n",
       "35     36    0.779657    0.795305       0.259079    0.378497   \n",
       "36     37    0.778846    0.795577       0.262012    0.380871   \n",
       "37     38    0.778886    0.795634       0.249264    0.366675   \n",
       "38     39    0.778769    0.796031       0.240996    0.356938   \n",
       "39     40    0.778119    0.795508       0.240570    0.356706   \n",
       "\n",
       "                                         model_file  \n",
       "0    ./model_weights/Vanilla_Unet-0.0001-No-1-8.pth  \n",
       "1    ./model_weights/Vanilla_Unet-0.0001-No-2-8.pth  \n",
       "2    ./model_weights/Vanilla_Unet-0.0001-No-3-8.pth  \n",
       "3    ./model_weights/Vanilla_Unet-0.0001-No-4-8.pth  \n",
       "4    ./model_weights/Vanilla_Unet-0.0001-No-5-8.pth  \n",
       "5    ./model_weights/Vanilla_Unet-0.0001-No-6-8.pth  \n",
       "6    ./model_weights/Vanilla_Unet-0.0001-No-7-8.pth  \n",
       "7    ./model_weights/Vanilla_Unet-0.0001-No-8-8.pth  \n",
       "8    ./model_weights/Vanilla_Unet-0.0001-No-9-8.pth  \n",
       "9   ./model_weights/Vanilla_Unet-0.0001-No-10-8.pth  \n",
       "10  ./model_weights/Vanilla_Unet-0.0001-No-11-8.pth  \n",
       "11  ./model_weights/Vanilla_Unet-0.0001-No-12-8.pth  \n",
       "12  ./model_weights/Vanilla_Unet-0.0001-No-13-8.pth  \n",
       "13  ./model_weights/Vanilla_Unet-0.0001-No-14-8.pth  \n",
       "14  ./model_weights/Vanilla_Unet-0.0001-No-15-8.pth  \n",
       "15  ./model_weights/Vanilla_Unet-0.0001-No-16-8.pth  \n",
       "16  ./model_weights/Vanilla_Unet-0.0001-No-17-8.pth  \n",
       "17  ./model_weights/Vanilla_Unet-0.0001-No-18-8.pth  \n",
       "18  ./model_weights/Vanilla_Unet-0.0001-No-19-8.pth  \n",
       "19  ./model_weights/Vanilla_Unet-0.0001-No-20-8.pth  \n",
       "20  ./model_weights/Vanilla_Unet-0.0001-No-21-8.pth  \n",
       "21  ./model_weights/Vanilla_Unet-0.0001-No-22-8.pth  \n",
       "22  ./model_weights/Vanilla_Unet-0.0001-No-23-8.pth  \n",
       "23  ./model_weights/Vanilla_Unet-0.0001-No-24-8.pth  \n",
       "24  ./model_weights/Vanilla_Unet-0.0001-No-25-8.pth  \n",
       "25  ./model_weights/Vanilla_Unet-0.0001-No-26-8.pth  \n",
       "26  ./model_weights/Vanilla_Unet-0.0001-No-27-8.pth  \n",
       "27  ./model_weights/Vanilla_Unet-0.0001-No-28-8.pth  \n",
       "28  ./model_weights/Vanilla_Unet-0.0001-No-29-8.pth  \n",
       "29  ./model_weights/Vanilla_Unet-0.0001-No-30-8.pth  \n",
       "30  ./model_weights/Vanilla_Unet-0.0001-No-31-8.pth  \n",
       "31  ./model_weights/Vanilla_Unet-0.0001-No-32-8.pth  \n",
       "32  ./model_weights/Vanilla_Unet-0.0001-No-33-8.pth  \n",
       "33  ./model_weights/Vanilla_Unet-0.0001-No-34-8.pth  \n",
       "34  ./model_weights/Vanilla_Unet-0.0001-No-35-8.pth  \n",
       "35  ./model_weights/Vanilla_Unet-0.0001-No-36-8.pth  \n",
       "36  ./model_weights/Vanilla_Unet-0.0001-No-37-8.pth  \n",
       "37  ./model_weights/Vanilla_Unet-0.0001-No-38-8.pth  \n",
       "38  ./model_weights/Vanilla_Unet-0.0001-No-39-8.pth  \n",
       "39  ./model_weights/Vanilla_Unet-0.0001-No-40-8.pth  "
      ]
     },
     "metadata": {},
     "output_type": "display_data"
    },
    {
     "data": {
      "image/png": "[encoded data removed]",
      "text/plain": [
       "<Figure size 1080x576 with 4 Axes>"
      ]
     },
     "metadata": {
      "needs_background": "light"
     },
     "output_type": "display_data"
    }
   ],
   "source": [
    "history = defaultdict(list)\n",
    "best_val_dice = -float('inf')\n",
    "best_val_jaccard = -float('inf')\n",
    "start = time.time()\n",
    "\n",
    "\n",
    "for epoch in range(CONFIG[\"NUM_EPOCHS\"]):\n",
    "    \n",
    "    print(f'{sr_}===================== Epoch: [{epoch+1}/{CONFIG[\"NUM_EPOCHS\"]}] =====================')\n",
    "\n",
    "    # train and validation loop\n",
    "    train_loss = train_fn(train_loader, model, optimizer, loss_fn, epoch+1)\n",
    "    val_loss, val_scores = valid_one_epoch(model, test_loader,CONFIG[\"DEVICE\"], epoch+1)\n",
    "    val_dice, val_jaccard = val_scores\n",
    "    \n",
    "    \n",
    "    # save model\n",
    "    model_file = save_model(model, optimizer, loss_fn, epoch+1)\n",
    "    \n",
    "    \n",
    "    # weight and baise Log the metrics\n",
    "    wandb.log({\"Train Loss\": train_loss})\n",
    "    wandb.log({\"Valid Loss\": val_loss})\n",
    "    wandb.log({\"Valid dice\": val_dice})\n",
    "    wandb.log({\"Valid jaccard\": val_jaccard})\n",
    "\n",
    "    # logging\n",
    "    history[\"epoch\"].append(epoch+1)\n",
    "    history['Train_Loss'].append(train_loss)\n",
    "    history['Valid_Loss'].append(val_loss)\n",
    "    history['Valid_jaccard'].append(val_jaccard)\n",
    "    history['Valid_dice'].append(val_dice)\n",
    "    history[\"model_file\"].append(model_file)\n",
    "\n",
    "    \n",
    "    # print loss and scores\n",
    "    print(f\"\\n Final Train Loss: {train_loss:0.4f}  |  Final Val Loss: {val_loss:0.4f}\") \n",
    "    \n",
    "    print(f'Valid Dice: {val_dice:0.4f} | Valid Jaccard: {val_jaccard:0.4f}')\n",
    "    \n",
    "    \n",
    "    # print best val score\n",
    "    if best_val_dice < val_dice:\n",
    "        print(f\"{b_}val dice increased: {best_val_dice} ---> {val_dice}\")\n",
    "        best_val_dice = val_dice\n",
    "    \n",
    "    if best_val_jaccard < val_jaccard:\n",
    "        print(f\"{b_}val jaccard increased: {best_val_jaccard} ---> {val_jaccard}\")\n",
    "        best_val_jaccard = val_jaccard\n",
    "\n",
    "        \n",
    "        \n",
    "# print time\n",
    "end = time.time()\n",
    "time_elapsed = end - start\n",
    "avg_time_per_epoch = time_elapsed/CONFIG[\"NUM_EPOCHS\"] \n",
    "summary_df = pd.DataFrame.from_dict(history)\n",
    "\n",
    "print(f'\\n ====================== [Training Summary] ====================== \\n')\n",
    "print('Training complete in {:.0f}h {:.0f}m {:.0f}s'.format(\n",
    "    time_elapsed // 3600, (time_elapsed % 3600) // 60, (time_elapsed % 3600) % 60))\n",
    "\n",
    "print('avg time per [train + val] epoch {:.0f}h {:.0f}m {:.0f}s'.format(\n",
    "    avg_time_per_epoch // 3600, (avg_time_per_epoch % 3600) // 60, (avg_time_per_epoch % 3600) % 60))\n",
    "\n",
    "print(\"Best: ~~~~~~ dice: {:.4f}  || jaccard {:.4f} || val_loss {:.4f} || train_loss {:.4f} ~~~~~~\".format(\n",
    "    best_val_dice, best_val_jaccard, min(history['Valid_Loss']), min(history['Train_Loss'])))\n",
    "\n",
    "\n",
    "summary_df.to_csv('training_summary.csv')\n",
    "print(\"Saved training summary...\")\n",
    "\n",
    "print(f'\\n =============================================================== \\n')\n",
    "\n",
    "display(summary_df)\n",
    "\n",
    "# plotting training and validation loss\n",
    "plt.figure(figsize=(15,8))\n",
    "\n",
    "fig1 = plt.subplot(2,2,1)\n",
    "fig1.plot(history['epoch'], history['Train_Loss'], color='lime', marker='>')\n",
    "fig1.set_title(\"train loss [dice]\")\n",
    "fig1.set(xlabel='epoch', ylabel='train loss')\n",
    "\n",
    "fig2 = plt.subplot(2,2,2)\n",
    "fig2.plot(history['epoch'], history['Valid_Loss'], color='cyan',  marker='>')\n",
    "fig2.set_title(\"val loss [dice]\")\n",
    "fig2.set(xlabel='epoch', ylabel='val loss')\n",
    "\n",
    "fig3 = plt.subplot(2,2,3)\n",
    "fig3.plot(history['epoch'], history['Valid_dice'], color='orange',  marker='>')\n",
    "fig3.set_title(\"Val Dice\")\n",
    "fig3.set(xlabel='epoch', ylabel='val dice')\n",
    "\n",
    "fig4 = plt.subplot(2,2,4)\n",
    "fig4.plot(history['epoch'], history['Valid_jaccard'], color='lightcoral',  marker='>')\n",
    "fig4.set_title(\"val jaccard\")\n",
    "fig4.set(xlabel='epoch', ylabel='val jaccard')\n",
    "\n",
    "plt.show();"
   ]
  },
  {
   "cell_type": "code",
   "execution_count": null,
   "id": "7b4863ea",
   "metadata": {},
   "outputs": [],
   "source": [
    "import gc\n",
    "a = gc.collect()"
   ]
  },
  {
   "cell_type": "markdown",
   "id": "f3e59b89",
   "metadata": {
    "papermill": {
     "duration": 0.246894,
     "end_time": "2022-07-24T09:57:17.343143",
     "exception": false,
     "start_time": "2022-07-24T09:57:17.096249",
     "status": "completed"
    },
    "tags": []
   },
   "source": [
    "# Model File Check:"
   ]
  },
  {
   "cell_type": "code",
   "execution_count": 24,
   "id": "adbe50d4",
   "metadata": {
    "execution": {
     "iopub.execute_input": "2022-07-24T09:57:17.848382Z",
     "iopub.status.busy": "2022-07-24T09:57:17.848020Z",
     "iopub.status.idle": "2022-07-24T09:57:19.724048Z",
     "shell.execute_reply": "2022-07-24T09:57:19.723024Z"
    },
    "papermill": {
     "duration": 2.131207,
     "end_time": "2022-07-24T09:57:19.726648",
     "exception": false,
     "start_time": "2022-07-24T09:57:17.595441",
     "status": "completed"
    },
    "tags": []
   },
   "outputs": [
    {
     "name": "stdout",
     "output_type": "stream",
     "text": [
      "total 6937288\n",
      "drwxr-xr-x 2 root root      4096 Jul 24 09:57 .\n",
      "drwxr-xr-x 4 root root      4096 Jul 24 09:57 ..\n",
      "-rw-r--r-- 1 root root 177593833 Jul 24 09:04 Vanilla_Unet-0.0001-No-1-8.pth\n",
      "-rw-r--r-- 1 root root 177593897 Jul 24 09:16 Vanilla_Unet-0.0001-No-10-8.pth\n",
      "-rw-r--r-- 1 root root 177593897 Jul 24 09:17 Vanilla_Unet-0.0001-No-11-8.pth\n",
      "-rw-r--r-- 1 root root 177593897 Jul 24 09:18 Vanilla_Unet-0.0001-No-12-8.pth\n",
      "-rw-r--r-- 1 root root 177593897 Jul 24 09:20 Vanilla_Unet-0.0001-No-13-8.pth\n",
      "-rw-r--r-- 1 root root 177593897 Jul 24 09:21 Vanilla_Unet-0.0001-No-14-8.pth\n",
      "-rw-r--r-- 1 root root 177593897 Jul 24 09:22 Vanilla_Unet-0.0001-No-15-8.pth\n",
      "-rw-r--r-- 1 root root 177593897 Jul 24 09:24 Vanilla_Unet-0.0001-No-16-8.pth\n",
      "-rw-r--r-- 1 root root 177593897 Jul 24 09:25 Vanilla_Unet-0.0001-No-17-8.pth\n",
      "-rw-r--r-- 1 root root 177593897 Jul 24 09:26 Vanilla_Unet-0.0001-No-18-8.pth\n",
      "-rw-r--r-- 1 root root 177593897 Jul 24 09:28 Vanilla_Unet-0.0001-No-19-8.pth\n",
      "-rw-r--r-- 1 root root 177593833 Jul 24 09:05 Vanilla_Unet-0.0001-No-2-8.pth\n",
      "-rw-r--r-- 1 root root 177593897 Jul 24 09:29 Vanilla_Unet-0.0001-No-20-8.pth\n",
      "-rw-r--r-- 1 root root 177593897 Jul 24 09:30 Vanilla_Unet-0.0001-No-21-8.pth\n",
      "-rw-r--r-- 1 root root 177593897 Jul 24 09:32 Vanilla_Unet-0.0001-No-22-8.pth\n",
      "-rw-r--r-- 1 root root 177593897 Jul 24 09:33 Vanilla_Unet-0.0001-No-23-8.pth\n",
      "-rw-r--r-- 1 root root 177593897 Jul 24 09:35 Vanilla_Unet-0.0001-No-24-8.pth\n",
      "-rw-r--r-- 1 root root 177593897 Jul 24 09:36 Vanilla_Unet-0.0001-No-25-8.pth\n",
      "-rw-r--r-- 1 root root 177593897 Jul 24 09:37 Vanilla_Unet-0.0001-No-26-8.pth\n",
      "-rw-r--r-- 1 root root 177593897 Jul 24 09:39 Vanilla_Unet-0.0001-No-27-8.pth\n",
      "-rw-r--r-- 1 root root 177593897 Jul 24 09:40 Vanilla_Unet-0.0001-No-28-8.pth\n",
      "-rw-r--r-- 1 root root 177593897 Jul 24 09:42 Vanilla_Unet-0.0001-No-29-8.pth\n",
      "-rw-r--r-- 1 root root 177593833 Jul 24 09:06 Vanilla_Unet-0.0001-No-3-8.pth\n",
      "-rw-r--r-- 1 root root 177593897 Jul 24 09:43 Vanilla_Unet-0.0001-No-30-8.pth\n",
      "-rw-r--r-- 1 root root 177593897 Jul 24 09:44 Vanilla_Unet-0.0001-No-31-8.pth\n",
      "-rw-r--r-- 1 root root 177593897 Jul 24 09:46 Vanilla_Unet-0.0001-No-32-8.pth\n",
      "-rw-r--r-- 1 root root 177593897 Jul 24 09:47 Vanilla_Unet-0.0001-No-33-8.pth\n",
      "-rw-r--r-- 1 root root 177593897 Jul 24 09:49 Vanilla_Unet-0.0001-No-34-8.pth\n",
      "-rw-r--r-- 1 root root 177593897 Jul 24 09:50 Vanilla_Unet-0.0001-No-35-8.pth\n",
      "-rw-r--r-- 1 root root 177593897 Jul 24 09:51 Vanilla_Unet-0.0001-No-36-8.pth\n",
      "-rw-r--r-- 1 root root 177593897 Jul 24 09:53 Vanilla_Unet-0.0001-No-37-8.pth\n",
      "-rw-r--r-- 1 root root 177593897 Jul 24 09:54 Vanilla_Unet-0.0001-No-38-8.pth\n",
      "-rw-r--r-- 1 root root 177593897 Jul 24 09:55 Vanilla_Unet-0.0001-No-39-8.pth\n",
      "-rw-r--r-- 1 root root 177593833 Jul 24 09:08 Vanilla_Unet-0.0001-No-4-8.pth\n",
      "-rw-r--r-- 1 root root 177593897 Jul 24 09:57 Vanilla_Unet-0.0001-No-40-8.pth\n",
      "-rw-r--r-- 1 root root 177593833 Jul 24 09:09 Vanilla_Unet-0.0001-No-5-8.pth\n",
      "-rw-r--r-- 1 root root 177593833 Jul 24 09:10 Vanilla_Unet-0.0001-No-6-8.pth\n",
      "-rw-r--r-- 1 root root 177593833 Jul 24 09:12 Vanilla_Unet-0.0001-No-7-8.pth\n",
      "-rw-r--r-- 1 root root 177593897 Jul 24 09:13 Vanilla_Unet-0.0001-No-8-8.pth\n",
      "-rw-r--r-- 1 root root 177593897 Jul 24 09:14 Vanilla_Unet-0.0001-No-9-8.pth\n"
     ]
    }
   ],
   "source": [
    "!ls -la ./model_weights"
   ]
  },
  {
   "cell_type": "code",
   "execution_count": null,
   "id": "bd81d964",
   "metadata": {
    "papermill": {
     "duration": 0.248845,
     "end_time": "2022-07-24T09:57:20.230560",
     "exception": false,
     "start_time": "2022-07-24T09:57:19.981715",
     "status": "completed"
    },
    "tags": []
   },
   "outputs": [],
   "source": []
  },
  {
   "cell_type": "code",
   "execution_count": null,
   "id": "f139e730",
   "metadata": {
    "papermill": {
     "duration": 0.259865,
     "end_time": "2022-07-24T09:57:20.794504",
     "exception": false,
     "start_time": "2022-07-24T09:57:20.534639",
     "status": "completed"
    },
    "tags": []
   },
   "outputs": [],
   "source": []
  },
  {
   "cell_type": "code",
   "execution_count": null,
   "id": "e36cfc42",
   "metadata": {
    "papermill": {
     "duration": 0.241472,
     "end_time": "2022-07-24T09:57:21.287311",
     "exception": false,
     "start_time": "2022-07-24T09:57:21.045839",
     "status": "completed"
    },
    "tags": []
   },
   "outputs": [],
   "source": []
  },
  {
   "cell_type": "code",
   "execution_count": null,
   "id": "ec12cca5",
   "metadata": {
    "papermill": {
     "duration": 0.249454,
     "end_time": "2022-07-24T09:57:21.788957",
     "exception": false,
     "start_time": "2022-07-24T09:57:21.539503",
     "status": "completed"
    },
    "tags": []
   },
   "outputs": [],
   "source": []
  }
 ],
 "metadata": {
  "kernelspec": {
   "display_name": "Python 3.7.0 ('.venv': venv)",
   "language": "python",
   "name": "python3"
  },
  "language_info": {
   "codemirror_mode": {
    "name": "ipython",
    "version": 3
   },
   "file_extension": ".py",
   "mimetype": "text/x-python",
   "name": "python",
   "nbconvert_exporter": "python",
   "pygments_lexer": "ipython3",
   "version": "3.7.0"
  },
  "papermill": {
   "default_parameters": {},
   "duration": 3332.697837,
   "end_time": "2022-07-24T09:57:24.763901",
   "environment_variables": {},
   "exception": null,
   "input_path": "__notebook__.ipynb",
   "output_path": "__notebook__.ipynb",
   "parameters": {},
   "start_time": "2022-07-24T09:01:52.066064",
   "version": "2.3.4"
  },
  "vscode": {
   "interpreter": {
    "hash": "21a2a557654fc1676068684031cf9bb9dfda94e124d3623f4e9c9ed764d794ac"
   }
  },
  "widgets": {
   "application/vnd.jupyter.widget-state+json": {
    "state": {
     "15fcc8486d184eb38e54498e8c8404d2": {
      "model_module": "@jupyter-widgets/controls",
      "model_module_version": "1.5.0",
      "model_name": "VBoxModel",
      "state": {
       "_dom_classes": [],
       "_model_module": "@jupyter-widgets/controls",
       "_model_module_version": "1.5.0",
       "_model_name": "VBoxModel",
       "_view_count": null,
       "_view_module": "@jupyter-widgets/controls",
       "_view_module_version": "1.5.0",
       "_view_name": "VBoxView",
       "box_style": "",
       "children": [
        "IPY_MODEL_e53d0b17ab73405398a50e5eaee95e42",
        "IPY_MODEL_9f58bfd913b74e339cd507a4fc97ebeb"
       ],
       "layout": "IPY_MODEL_1f3677f6546e40368542835bad7a616d"
      }
     },
     "1f3677f6546e40368542835bad7a616d": {
      "model_module": "@jupyter-widgets/base",
      "model_module_version": "1.2.0",
      "model_name": "LayoutModel",
      "state": {
       "_model_module": "@jupyter-widgets/base",
       "_model_module_version": "1.2.0",
       "_model_name": "LayoutModel",
       "_view_count": null,
       "_view_module": "@jupyter-widgets/base",
       "_view_module_version": "1.2.0",
       "_view_name": "LayoutView",
       "align_content": null,
       "align_items": null,
       "align_self": null,
       "border": null,
       "bottom": null,
       "display": null,
       "flex": null,
       "flex_flow": null,
       "grid_area": null,
       "grid_auto_columns": null,
       "grid_auto_flow": null,
       "grid_auto_rows": null,
       "grid_column": null,
       "grid_gap": null,
       "grid_row": null,
       "grid_template_areas": null,
       "grid_template_columns": null,
       "grid_template_rows": null,
       "height": null,
       "justify_content": null,
       "justify_items": null,
       "left": null,
       "margin": null,
       "max_height": null,
       "max_width": null,
       "min_height": null,
       "min_width": null,
       "object_fit": null,
       "object_position": null,
       "order": null,
       "overflow": null,
       "overflow_x": null,
       "overflow_y": null,
       "padding": null,
       "right": null,
       "top": null,
       "visibility": null,
       "width": null
      }
     },
     "30dd58e4f3c0480ba9776ac529132d4d": {
      "model_module": "@jupyter-widgets/controls",
      "model_module_version": "1.5.0",
      "model_name": "DescriptionStyleModel",
      "state": {
       "_model_module": "@jupyter-widgets/controls",
       "_model_module_version": "1.5.0",
       "_model_name": "DescriptionStyleModel",
       "_view_count": null,
       "_view_module": "@jupyter-widgets/base",
       "_view_module_version": "1.2.0",
       "_view_name": "StyleView",
       "description_width": ""
      }
     },
     "30ec4205cc144341ae4a852e1b541a14": {
      "model_module": "@jupyter-widgets/base",
      "model_module_version": "1.2.0",
      "model_name": "LayoutModel",
      "state": {
       "_model_module": "@jupyter-widgets/base",
       "_model_module_version": "1.2.0",
       "_model_name": "LayoutModel",
       "_view_count": null,
       "_view_module": "@jupyter-widgets/base",
       "_view_module_version": "1.2.0",
       "_view_name": "LayoutView",
       "align_content": null,
       "align_items": null,
       "align_self": null,
       "border": null,
       "bottom": null,
       "display": null,
       "flex": null,
       "flex_flow": null,
       "grid_area": null,
       "grid_auto_columns": null,
       "grid_auto_flow": null,
       "grid_auto_rows": null,
       "grid_column": null,
       "grid_gap": null,
       "grid_row": null,
       "grid_template_areas": null,
       "grid_template_columns": null,
       "grid_template_rows": null,
       "height": null,
       "justify_content": null,
       "justify_items": null,
       "left": null,
       "margin": null,
       "max_height": null,
       "max_width": null,
       "min_height": null,
       "min_width": null,
       "object_fit": null,
       "object_position": null,
       "order": null,
       "overflow": null,
       "overflow_x": null,
       "overflow_y": null,
       "padding": null,
       "right": null,
       "top": null,
       "visibility": null,
       "width": null
      }
     },
     "4155a9d4e38544dc84417849e9fc5b94": {
      "model_module": "@jupyter-widgets/base",
      "model_module_version": "1.2.0",
      "model_name": "LayoutModel",
      "state": {
       "_model_module": "@jupyter-widgets/base",
       "_model_module_version": "1.2.0",
       "_model_name": "LayoutModel",
       "_view_count": null,
       "_view_module": "@jupyter-widgets/base",
       "_view_module_version": "1.2.0",
       "_view_name": "LayoutView",
       "align_content": null,
       "align_items": null,
       "align_self": null,
       "border": null,
       "bottom": null,
       "display": null,
       "flex": null,
       "flex_flow": null,
       "grid_area": null,
       "grid_auto_columns": null,
       "grid_auto_flow": null,
       "grid_auto_rows": null,
       "grid_column": null,
       "grid_gap": null,
       "grid_row": null,
       "grid_template_areas": null,
       "grid_template_columns": null,
       "grid_template_rows": null,
       "height": null,
       "justify_content": null,
       "justify_items": null,
       "left": null,
       "margin": null,
       "max_height": null,
       "max_width": null,
       "min_height": null,
       "min_width": null,
       "object_fit": null,
       "object_position": null,
       "order": null,
       "overflow": null,
       "overflow_x": null,
       "overflow_y": null,
       "padding": null,
       "right": null,
       "top": null,
       "visibility": null,
       "width": null
      }
     },
     "62cc7aab6dea4c34ba0e5f4112e18efa": {
      "model_module": "@jupyter-widgets/controls",
      "model_module_version": "1.5.0",
      "model_name": "ProgressStyleModel",
      "state": {
       "_model_module": "@jupyter-widgets/controls",
       "_model_module_version": "1.5.0",
       "_model_name": "ProgressStyleModel",
       "_view_count": null,
       "_view_module": "@jupyter-widgets/base",
       "_view_module_version": "1.2.0",
       "_view_name": "StyleView",
       "bar_color": null,
       "description_width": ""
      }
     },
     "9926b22c86044a2c9050c12ed14af7f4": {
      "model_module": "@jupyter-widgets/controls",
      "model_module_version": "1.5.0",
      "model_name": "DescriptionStyleModel",
      "state": {
       "_model_module": "@jupyter-widgets/controls",
       "_model_module_version": "1.5.0",
       "_model_name": "DescriptionStyleModel",
       "_view_count": null,
       "_view_module": "@jupyter-widgets/base",
       "_view_module_version": "1.2.0",
       "_view_name": "StyleView",
       "description_width": ""
      }
     },
     "9f58bfd913b74e339cd507a4fc97ebeb": {
      "model_module": "@jupyter-widgets/controls",
      "model_module_version": "1.5.0",
      "model_name": "FloatProgressModel",
      "state": {
       "_dom_classes": [],
       "_model_module": "@jupyter-widgets/controls",
       "_model_module_version": "1.5.0",
       "_model_name": "FloatProgressModel",
       "_view_count": null,
       "_view_module": "@jupyter-widgets/controls",
       "_view_module_version": "1.5.0",
       "_view_name": "ProgressView",
       "bar_style": "",
       "description": "",
       "description_tooltip": null,
       "layout": "IPY_MODEL_f2ee84d627d549bd9389c643e144ead3",
       "max": 1,
       "min": 0,
       "orientation": "horizontal",
       "style": "IPY_MODEL_c63357b7e4ef436cbd86f0d868915b1a",
       "value": 0
      }
     },
     "a780dd55d62d459aad0a02cec435c2b6": {
      "model_module": "@jupyter-widgets/controls",
      "model_module_version": "1.5.0",
      "model_name": "VBoxModel",
      "state": {
       "_dom_classes": [],
       "_model_module": "@jupyter-widgets/controls",
       "_model_module_version": "1.5.0",
       "_model_name": "VBoxModel",
       "_view_count": null,
       "_view_module": "@jupyter-widgets/controls",
       "_view_module_version": "1.5.0",
       "_view_name": "VBoxView",
       "box_style": "",
       "children": [
        "IPY_MODEL_f3c9f8bc4fce4fb3807ffdfb160d0462",
        "IPY_MODEL_e1a7a70a73e149c783dc2fc6fbb695e8"
       ],
       "layout": "IPY_MODEL_4155a9d4e38544dc84417849e9fc5b94"
      }
     },
     "b90386d424e04302a7c4858ae9c30d58": {
      "model_module": "@jupyter-widgets/base",
      "model_module_version": "1.2.0",
      "model_name": "LayoutModel",
      "state": {
       "_model_module": "@jupyter-widgets/base",
       "_model_module_version": "1.2.0",
       "_model_name": "LayoutModel",
       "_view_count": null,
       "_view_module": "@jupyter-widgets/base",
       "_view_module_version": "1.2.0",
       "_view_name": "LayoutView",
       "align_content": null,
       "align_items": null,
       "align_self": null,
       "border": null,
       "bottom": null,
       "display": null,
       "flex": null,
       "flex_flow": null,
       "grid_area": null,
       "grid_auto_columns": null,
       "grid_auto_flow": null,
       "grid_auto_rows": null,
       "grid_column": null,
       "grid_gap": null,
       "grid_row": null,
       "grid_template_areas": null,
       "grid_template_columns": null,
       "grid_template_rows": null,
       "height": null,
       "justify_content": null,
       "justify_items": null,
       "left": null,
       "margin": null,
       "max_height": null,
       "max_width": null,
       "min_height": null,
       "min_width": null,
       "object_fit": null,
       "object_position": null,
       "order": null,
       "overflow": null,
       "overflow_x": null,
       "overflow_y": null,
       "padding": null,
       "right": null,
       "top": null,
       "visibility": null,
       "width": null
      }
     },
     "bf208c556485412aa1cd0be497a249bd": {
      "model_module": "@jupyter-widgets/base",
      "model_module_version": "1.2.0",
      "model_name": "LayoutModel",
      "state": {
       "_model_module": "@jupyter-widgets/base",
       "_model_module_version": "1.2.0",
       "_model_name": "LayoutModel",
       "_view_count": null,
       "_view_module": "@jupyter-widgets/base",
       "_view_module_version": "1.2.0",
       "_view_name": "LayoutView",
       "align_content": null,
       "align_items": null,
       "align_self": null,
       "border": null,
       "bottom": null,
       "display": null,
       "flex": null,
       "flex_flow": null,
       "grid_area": null,
       "grid_auto_columns": null,
       "grid_auto_flow": null,
       "grid_auto_rows": null,
       "grid_column": null,
       "grid_gap": null,
       "grid_row": null,
       "grid_template_areas": null,
       "grid_template_columns": null,
       "grid_template_rows": null,
       "height": null,
       "justify_content": null,
       "justify_items": null,
       "left": null,
       "margin": null,
       "max_height": null,
       "max_width": null,
       "min_height": null,
       "min_width": null,
       "object_fit": null,
       "object_position": null,
       "order": null,
       "overflow": null,
       "overflow_x": null,
       "overflow_y": null,
       "padding": null,
       "right": null,
       "top": null,
       "visibility": null,
       "width": null
      }
     },
     "c63357b7e4ef436cbd86f0d868915b1a": {
      "model_module": "@jupyter-widgets/controls",
      "model_module_version": "1.5.0",
      "model_name": "ProgressStyleModel",
      "state": {
       "_model_module": "@jupyter-widgets/controls",
       "_model_module_version": "1.5.0",
       "_model_name": "ProgressStyleModel",
       "_view_count": null,
       "_view_module": "@jupyter-widgets/base",
       "_view_module_version": "1.2.0",
       "_view_name": "StyleView",
       "bar_color": null,
       "description_width": ""
      }
     },
     "e1a7a70a73e149c783dc2fc6fbb695e8": {
      "model_module": "@jupyter-widgets/controls",
      "model_module_version": "1.5.0",
      "model_name": "FloatProgressModel",
      "state": {
       "_dom_classes": [],
       "_model_module": "@jupyter-widgets/controls",
       "_model_module_version": "1.5.0",
       "_model_name": "FloatProgressModel",
       "_view_count": null,
       "_view_module": "@jupyter-widgets/controls",
       "_view_module_version": "1.5.0",
       "_view_name": "ProgressView",
       "bar_style": "",
       "description": "",
       "description_tooltip": null,
       "layout": "IPY_MODEL_bf208c556485412aa1cd0be497a249bd",
       "max": 1,
       "min": 0,
       "orientation": "horizontal",
       "style": "IPY_MODEL_62cc7aab6dea4c34ba0e5f4112e18efa",
       "value": 0
      }
     },
     "e53d0b17ab73405398a50e5eaee95e42": {
      "model_module": "@jupyter-widgets/controls",
      "model_module_version": "1.5.0",
      "model_name": "LabelModel",
      "state": {
       "_dom_classes": [],
       "_model_module": "@jupyter-widgets/controls",
       "_model_module_version": "1.5.0",
       "_model_name": "LabelModel",
       "_view_count": null,
       "_view_module": "@jupyter-widgets/controls",
       "_view_module_version": "1.5.0",
       "_view_name": "LabelView",
       "description": "",
       "description_tooltip": null,
       "layout": "IPY_MODEL_30ec4205cc144341ae4a852e1b541a14",
       "placeholder": "​",
       "style": "IPY_MODEL_9926b22c86044a2c9050c12ed14af7f4",
       "value": ""
      }
     },
     "f2ee84d627d549bd9389c643e144ead3": {
      "model_module": "@jupyter-widgets/base",
      "model_module_version": "1.2.0",
      "model_name": "LayoutModel",
      "state": {
       "_model_module": "@jupyter-widgets/base",
       "_model_module_version": "1.2.0",
       "_model_name": "LayoutModel",
       "_view_count": null,
       "_view_module": "@jupyter-widgets/base",
       "_view_module_version": "1.2.0",
       "_view_name": "LayoutView",
       "align_content": null,
       "align_items": null,
       "align_self": null,
       "border": null,
       "bottom": null,
       "display": null,
       "flex": null,
       "flex_flow": null,
       "grid_area": null,
       "grid_auto_columns": null,
       "grid_auto_flow": null,
       "grid_auto_rows": null,
       "grid_column": null,
       "grid_gap": null,
       "grid_row": null,
       "grid_template_areas": null,
       "grid_template_columns": null,
       "grid_template_rows": null,
       "height": null,
       "justify_content": null,
       "justify_items": null,
       "left": null,
       "margin": null,
       "max_height": null,
       "max_width": null,
       "min_height": null,
       "min_width": null,
       "object_fit": null,
       "object_position": null,
       "order": null,
       "overflow": null,
       "overflow_x": null,
       "overflow_y": null,
       "padding": null,
       "right": null,
       "top": null,
       "visibility": null,
       "width": null
      }
     },
     "f3c9f8bc4fce4fb3807ffdfb160d0462": {
      "model_module": "@jupyter-widgets/controls",
      "model_module_version": "1.5.0",
      "model_name": "LabelModel",
      "state": {
       "_dom_classes": [],
       "_model_module": "@jupyter-widgets/controls",
       "_model_module_version": "1.5.0",
       "_model_name": "LabelModel",
       "_view_count": null,
       "_view_module": "@jupyter-widgets/controls",
       "_view_module_version": "1.5.0",
       "_view_name": "LabelView",
       "description": "",
       "description_tooltip": null,
       "layout": "IPY_MODEL_b90386d424e04302a7c4858ae9c30d58",
       "placeholder": "​",
       "style": "IPY_MODEL_30dd58e4f3c0480ba9776ac529132d4d",
       "value": ""
      }
     }
    },
    "version_major": 2,
    "version_minor": 0
   }
  }
 },
 "nbformat": 4,
 "nbformat_minor": 5
}
